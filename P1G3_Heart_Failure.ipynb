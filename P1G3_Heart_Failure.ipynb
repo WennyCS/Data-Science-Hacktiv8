{
  "cells": [
    {
      "cell_type": "markdown",
      "metadata": {
        "id": "uiY2r-A1siPo"
      },
      "source": [
        "# I. Perkenalan\n",
        "\n",
        "Nama: Wenny Chandra Sari\n",
        "\n",
        "Batch: 15\n",
        "\n",
        "Objective: Buatlah model Classification menggunakan Random Forest dan salah satu algoritma boosting untuk memprediksi apakah seorang pasien akan meninggal atau tidak menggunakan dataset yang sudah Anda dapatkan.\n",
        "\n",
        "Query Dataset:\n",
        "```\n",
        "SELECT *\n",
        "FROM `ftds-hacktiv8-project.phase1_ftds_015_rmt.heart-failure`;\n",
        "```\n",
        "\n",
        "About Dataset:\n",
        "\n",
        "<img src='https://camo.githubusercontent.com/74367182fd06603b4568da9dba93c9483897646c50c55aa6392a68e99996d086/68747470733a2f2f692e6962622e636f2f594247774d586d2f50312d47332d446174617365742d496e666f726d6174696f6e2e706e67'>\n",
        "\n",
        "Reference: -"
      ]
    },
    {
      "cell_type": "markdown",
      "metadata": {
        "id": "b1ahGA1BsqFM"
      },
      "source": [
        "# II. Import Libraries"
      ]
    },
    {
      "cell_type": "code",
      "execution_count": 63,
      "metadata": {
        "id": "5MpnTBins87k"
      },
      "outputs": [],
      "source": [
        "# kolom lib\n",
        "\n",
        "%matplotlib inline\n",
        "\n",
        "import numpy as np\n",
        "import pandas as pd\n",
        "import matplotlib.pyplot as plt\n",
        "import seaborn as sns\n",
        "import warnings\n",
        "\n",
        "# pre/scaling/encode lib\n",
        "from sklearn.model_selection import train_test_split\n",
        "from sklearn.preprocessing import StandardScaler\n",
        "from sklearn.preprocessing import MinMaxScaler  # data skew\n",
        "\n",
        "# clasification lib\n",
        "from sklearn.ensemble import RandomForestClassifier\n",
        "from sklearn.ensemble import GradientBoostingClassifier\n",
        "\n",
        "# classification evaluation lib\n",
        "from sklearn.metrics import confusion_matrix\n",
        "from sklearn.metrics import classification_report\n",
        "from sklearn.metrics import ConfusionMatrixDisplay\n",
        "from sklearn.metrics import accuracy_score\n",
        "from sklearn.model_selection import cross_val_score\n",
        "\n",
        "# searchCV\n",
        "from sklearn.model_selection import RandomizedSearchCV\n",
        "from sklearn.model_selection import GridSearchCV\n",
        "\n",
        "# unbalance dataset\n",
        "from imblearn.over_sampling import SMOTE\n",
        "\n",
        "# basic syntax\n",
        "pd.set_option('display.Max_columns',None)\n",
        "warnings.filterwarnings('ignore')"
      ]
    },
    {
      "cell_type": "markdown",
      "metadata": {
        "id": "2Za3tgWKs32S"
      },
      "source": [
        "# II. Data Loading"
      ]
    },
    {
      "cell_type": "code",
      "execution_count": 64,
      "metadata": {
        "colab": {
          "base_uri": "https://localhost:8080/",
          "height": 206
        },
        "id": "ik8N--sOs9QS",
        "outputId": "5c863d4c-08a3-484a-88b7-de80fb1789a8"
      },
      "outputs": [
        {
          "data": {
            "text/html": [
              "\n",
              "  <div id=\"df-8789aded-6ca1-40cf-8047-feaeb8574832\">\n",
              "    <div class=\"colab-df-container\">\n",
              "      <div>\n",
              "<style scoped>\n",
              "    .dataframe tbody tr th:only-of-type {\n",
              "        vertical-align: middle;\n",
              "    }\n",
              "\n",
              "    .dataframe tbody tr th {\n",
              "        vertical-align: top;\n",
              "    }\n",
              "\n",
              "    .dataframe thead th {\n",
              "        text-align: right;\n",
              "    }\n",
              "</style>\n",
              "<table border=\"1\" class=\"dataframe\">\n",
              "  <thead>\n",
              "    <tr style=\"text-align: right;\">\n",
              "      <th></th>\n",
              "      <th>age</th>\n",
              "      <th>anaemia</th>\n",
              "      <th>creatinine_phosphokinase</th>\n",
              "      <th>diabetes</th>\n",
              "      <th>ejection_fraction</th>\n",
              "      <th>high_blood_pressure</th>\n",
              "      <th>platelets</th>\n",
              "      <th>serum_creatinine</th>\n",
              "      <th>serum_sodium</th>\n",
              "      <th>sex</th>\n",
              "      <th>smoking</th>\n",
              "      <th>time</th>\n",
              "      <th>DEATH_EVENT</th>\n",
              "    </tr>\n",
              "  </thead>\n",
              "  <tbody>\n",
              "    <tr>\n",
              "      <th>0</th>\n",
              "      <td>42.0</td>\n",
              "      <td>1</td>\n",
              "      <td>250</td>\n",
              "      <td>1</td>\n",
              "      <td>15</td>\n",
              "      <td>0</td>\n",
              "      <td>213000.0</td>\n",
              "      <td>1.3</td>\n",
              "      <td>136</td>\n",
              "      <td>0</td>\n",
              "      <td>0</td>\n",
              "      <td>65</td>\n",
              "      <td>1</td>\n",
              "    </tr>\n",
              "    <tr>\n",
              "      <th>1</th>\n",
              "      <td>46.0</td>\n",
              "      <td>0</td>\n",
              "      <td>168</td>\n",
              "      <td>1</td>\n",
              "      <td>17</td>\n",
              "      <td>1</td>\n",
              "      <td>271000.0</td>\n",
              "      <td>2.1</td>\n",
              "      <td>124</td>\n",
              "      <td>0</td>\n",
              "      <td>0</td>\n",
              "      <td>100</td>\n",
              "      <td>1</td>\n",
              "    </tr>\n",
              "    <tr>\n",
              "      <th>2</th>\n",
              "      <td>65.0</td>\n",
              "      <td>1</td>\n",
              "      <td>160</td>\n",
              "      <td>1</td>\n",
              "      <td>20</td>\n",
              "      <td>0</td>\n",
              "      <td>327000.0</td>\n",
              "      <td>2.7</td>\n",
              "      <td>116</td>\n",
              "      <td>0</td>\n",
              "      <td>0</td>\n",
              "      <td>8</td>\n",
              "      <td>1</td>\n",
              "    </tr>\n",
              "    <tr>\n",
              "      <th>3</th>\n",
              "      <td>53.0</td>\n",
              "      <td>1</td>\n",
              "      <td>91</td>\n",
              "      <td>0</td>\n",
              "      <td>20</td>\n",
              "      <td>1</td>\n",
              "      <td>418000.0</td>\n",
              "      <td>1.4</td>\n",
              "      <td>139</td>\n",
              "      <td>0</td>\n",
              "      <td>0</td>\n",
              "      <td>43</td>\n",
              "      <td>1</td>\n",
              "    </tr>\n",
              "    <tr>\n",
              "      <th>4</th>\n",
              "      <td>50.0</td>\n",
              "      <td>1</td>\n",
              "      <td>582</td>\n",
              "      <td>1</td>\n",
              "      <td>20</td>\n",
              "      <td>1</td>\n",
              "      <td>279000.0</td>\n",
              "      <td>1.0</td>\n",
              "      <td>134</td>\n",
              "      <td>0</td>\n",
              "      <td>0</td>\n",
              "      <td>186</td>\n",
              "      <td>0</td>\n",
              "    </tr>\n",
              "  </tbody>\n",
              "</table>\n",
              "</div>\n",
              "      <button class=\"colab-df-convert\" onclick=\"convertToInteractive('df-8789aded-6ca1-40cf-8047-feaeb8574832')\"\n",
              "              title=\"Convert this dataframe to an interactive table.\"\n",
              "              style=\"display:none;\">\n",
              "        \n",
              "  <svg xmlns=\"http://www.w3.org/2000/svg\" height=\"24px\"viewBox=\"0 0 24 24\"\n",
              "       width=\"24px\">\n",
              "    <path d=\"M0 0h24v24H0V0z\" fill=\"none\"/>\n",
              "    <path d=\"M18.56 5.44l.94 2.06.94-2.06 2.06-.94-2.06-.94-.94-2.06-.94 2.06-2.06.94zm-11 1L8.5 8.5l.94-2.06 2.06-.94-2.06-.94L8.5 2.5l-.94 2.06-2.06.94zm10 10l.94 2.06.94-2.06 2.06-.94-2.06-.94-.94-2.06-.94 2.06-2.06.94z\"/><path d=\"M17.41 7.96l-1.37-1.37c-.4-.4-.92-.59-1.43-.59-.52 0-1.04.2-1.43.59L10.3 9.45l-7.72 7.72c-.78.78-.78 2.05 0 2.83L4 21.41c.39.39.9.59 1.41.59.51 0 1.02-.2 1.41-.59l7.78-7.78 2.81-2.81c.8-.78.8-2.07 0-2.86zM5.41 20L4 18.59l7.72-7.72 1.47 1.35L5.41 20z\"/>\n",
              "  </svg>\n",
              "      </button>\n",
              "      \n",
              "  <style>\n",
              "    .colab-df-container {\n",
              "      display:flex;\n",
              "      flex-wrap:wrap;\n",
              "      gap: 12px;\n",
              "    }\n",
              "\n",
              "    .colab-df-convert {\n",
              "      background-color: #E8F0FE;\n",
              "      border: none;\n",
              "      border-radius: 50%;\n",
              "      cursor: pointer;\n",
              "      display: none;\n",
              "      fill: #1967D2;\n",
              "      height: 32px;\n",
              "      padding: 0 0 0 0;\n",
              "      width: 32px;\n",
              "    }\n",
              "\n",
              "    .colab-df-convert:hover {\n",
              "      background-color: #E2EBFA;\n",
              "      box-shadow: 0px 1px 2px rgba(60, 64, 67, 0.3), 0px 1px 3px 1px rgba(60, 64, 67, 0.15);\n",
              "      fill: #174EA6;\n",
              "    }\n",
              "\n",
              "    [theme=dark] .colab-df-convert {\n",
              "      background-color: #3B4455;\n",
              "      fill: #D2E3FC;\n",
              "    }\n",
              "\n",
              "    [theme=dark] .colab-df-convert:hover {\n",
              "      background-color: #434B5C;\n",
              "      box-shadow: 0px 1px 3px 1px rgba(0, 0, 0, 0.15);\n",
              "      filter: drop-shadow(0px 1px 2px rgba(0, 0, 0, 0.3));\n",
              "      fill: #FFFFFF;\n",
              "    }\n",
              "  </style>\n",
              "\n",
              "      <script>\n",
              "        const buttonEl =\n",
              "          document.querySelector('#df-8789aded-6ca1-40cf-8047-feaeb8574832 button.colab-df-convert');\n",
              "        buttonEl.style.display =\n",
              "          google.colab.kernel.accessAllowed ? 'block' : 'none';\n",
              "\n",
              "        async function convertToInteractive(key) {\n",
              "          const element = document.querySelector('#df-8789aded-6ca1-40cf-8047-feaeb8574832');\n",
              "          const dataTable =\n",
              "            await google.colab.kernel.invokeFunction('convertToInteractive',\n",
              "                                                     [key], {});\n",
              "          if (!dataTable) return;\n",
              "\n",
              "          const docLinkHtml = 'Like what you see? Visit the ' +\n",
              "            '<a target=\"_blank\" href=https://colab.research.google.com/notebooks/data_table.ipynb>data table notebook</a>'\n",
              "            + ' to learn more about interactive tables.';\n",
              "          element.innerHTML = '';\n",
              "          dataTable['output_type'] = 'display_data';\n",
              "          await google.colab.output.renderOutput(dataTable, element);\n",
              "          const docLink = document.createElement('div');\n",
              "          docLink.innerHTML = docLinkHtml;\n",
              "          element.appendChild(docLink);\n",
              "        }\n",
              "      </script>\n",
              "    </div>\n",
              "  </div>\n",
              "  "
            ],
            "text/plain": [
              "    age  anaemia  creatinine_phosphokinase  diabetes  ejection_fraction  \\\n",
              "0  42.0        1                       250         1                 15   \n",
              "1  46.0        0                       168         1                 17   \n",
              "2  65.0        1                       160         1                 20   \n",
              "3  53.0        1                        91         0                 20   \n",
              "4  50.0        1                       582         1                 20   \n",
              "\n",
              "   high_blood_pressure  platelets  serum_creatinine  serum_sodium  sex  \\\n",
              "0                    0   213000.0               1.3           136    0   \n",
              "1                    1   271000.0               2.1           124    0   \n",
              "2                    0   327000.0               2.7           116    0   \n",
              "3                    1   418000.0               1.4           139    0   \n",
              "4                    1   279000.0               1.0           134    0   \n",
              "\n",
              "   smoking  time  DEATH_EVENT  \n",
              "0        0    65            1  \n",
              "1        0   100            1  \n",
              "2        0     8            1  \n",
              "3        0    43            1  \n",
              "4        0   186            0  "
            ]
          },
          "execution_count": 64,
          "metadata": {},
          "output_type": "execute_result"
        }
      ],
      "source": [
        "# load dataset\n",
        "data_o = pd.read_csv('h8dsft_P1G3_wennychandrasari.csv')\n",
        "\n",
        "# copy dataset\n",
        "data = data_o.copy()\n",
        "\n",
        "# check the first 5 data\n",
        "data.head()"
      ]
    },
    {
      "cell_type": "code",
      "execution_count": 65,
      "metadata": {
        "colab": {
          "base_uri": "https://localhost:8080/",
          "height": 206
        },
        "id": "03Ms5x5mcqz5",
        "outputId": "8315a6cf-6cd1-4658-a3d2-0b05e6ed3532"
      },
      "outputs": [
        {
          "data": {
            "text/html": [
              "\n",
              "  <div id=\"df-5c70ef9d-521b-4cab-bb4a-42cabdbbb893\">\n",
              "    <div class=\"colab-df-container\">\n",
              "      <div>\n",
              "<style scoped>\n",
              "    .dataframe tbody tr th:only-of-type {\n",
              "        vertical-align: middle;\n",
              "    }\n",
              "\n",
              "    .dataframe tbody tr th {\n",
              "        vertical-align: top;\n",
              "    }\n",
              "\n",
              "    .dataframe thead th {\n",
              "        text-align: right;\n",
              "    }\n",
              "</style>\n",
              "<table border=\"1\" class=\"dataframe\">\n",
              "  <thead>\n",
              "    <tr style=\"text-align: right;\">\n",
              "      <th></th>\n",
              "      <th>age</th>\n",
              "      <th>anaemia</th>\n",
              "      <th>creatinine_phosphokinase</th>\n",
              "      <th>diabetes</th>\n",
              "      <th>ejection_fraction</th>\n",
              "      <th>high_blood_pressure</th>\n",
              "      <th>platelets</th>\n",
              "      <th>serum_creatinine</th>\n",
              "      <th>serum_sodium</th>\n",
              "      <th>sex</th>\n",
              "      <th>smoking</th>\n",
              "      <th>time</th>\n",
              "      <th>DEATH_EVENT</th>\n",
              "    </tr>\n",
              "  </thead>\n",
              "  <tbody>\n",
              "    <tr>\n",
              "      <th>294</th>\n",
              "      <td>63.0</td>\n",
              "      <td>1</td>\n",
              "      <td>122</td>\n",
              "      <td>1</td>\n",
              "      <td>60</td>\n",
              "      <td>0</td>\n",
              "      <td>267000.00</td>\n",
              "      <td>1.2</td>\n",
              "      <td>145</td>\n",
              "      <td>1</td>\n",
              "      <td>0</td>\n",
              "      <td>147</td>\n",
              "      <td>0</td>\n",
              "    </tr>\n",
              "    <tr>\n",
              "      <th>295</th>\n",
              "      <td>45.0</td>\n",
              "      <td>0</td>\n",
              "      <td>308</td>\n",
              "      <td>1</td>\n",
              "      <td>60</td>\n",
              "      <td>1</td>\n",
              "      <td>377000.00</td>\n",
              "      <td>1.0</td>\n",
              "      <td>136</td>\n",
              "      <td>1</td>\n",
              "      <td>0</td>\n",
              "      <td>186</td>\n",
              "      <td>0</td>\n",
              "    </tr>\n",
              "    <tr>\n",
              "      <th>296</th>\n",
              "      <td>70.0</td>\n",
              "      <td>0</td>\n",
              "      <td>97</td>\n",
              "      <td>0</td>\n",
              "      <td>60</td>\n",
              "      <td>1</td>\n",
              "      <td>220000.00</td>\n",
              "      <td>0.9</td>\n",
              "      <td>138</td>\n",
              "      <td>1</td>\n",
              "      <td>0</td>\n",
              "      <td>186</td>\n",
              "      <td>0</td>\n",
              "    </tr>\n",
              "    <tr>\n",
              "      <th>297</th>\n",
              "      <td>53.0</td>\n",
              "      <td>1</td>\n",
              "      <td>446</td>\n",
              "      <td>0</td>\n",
              "      <td>60</td>\n",
              "      <td>1</td>\n",
              "      <td>263358.03</td>\n",
              "      <td>1.0</td>\n",
              "      <td>139</td>\n",
              "      <td>1</td>\n",
              "      <td>0</td>\n",
              "      <td>215</td>\n",
              "      <td>0</td>\n",
              "    </tr>\n",
              "    <tr>\n",
              "      <th>298</th>\n",
              "      <td>50.0</td>\n",
              "      <td>0</td>\n",
              "      <td>582</td>\n",
              "      <td>0</td>\n",
              "      <td>62</td>\n",
              "      <td>1</td>\n",
              "      <td>147000.00</td>\n",
              "      <td>0.8</td>\n",
              "      <td>140</td>\n",
              "      <td>1</td>\n",
              "      <td>1</td>\n",
              "      <td>192</td>\n",
              "      <td>0</td>\n",
              "    </tr>\n",
              "  </tbody>\n",
              "</table>\n",
              "</div>\n",
              "      <button class=\"colab-df-convert\" onclick=\"convertToInteractive('df-5c70ef9d-521b-4cab-bb4a-42cabdbbb893')\"\n",
              "              title=\"Convert this dataframe to an interactive table.\"\n",
              "              style=\"display:none;\">\n",
              "        \n",
              "  <svg xmlns=\"http://www.w3.org/2000/svg\" height=\"24px\"viewBox=\"0 0 24 24\"\n",
              "       width=\"24px\">\n",
              "    <path d=\"M0 0h24v24H0V0z\" fill=\"none\"/>\n",
              "    <path d=\"M18.56 5.44l.94 2.06.94-2.06 2.06-.94-2.06-.94-.94-2.06-.94 2.06-2.06.94zm-11 1L8.5 8.5l.94-2.06 2.06-.94-2.06-.94L8.5 2.5l-.94 2.06-2.06.94zm10 10l.94 2.06.94-2.06 2.06-.94-2.06-.94-.94-2.06-.94 2.06-2.06.94z\"/><path d=\"M17.41 7.96l-1.37-1.37c-.4-.4-.92-.59-1.43-.59-.52 0-1.04.2-1.43.59L10.3 9.45l-7.72 7.72c-.78.78-.78 2.05 0 2.83L4 21.41c.39.39.9.59 1.41.59.51 0 1.02-.2 1.41-.59l7.78-7.78 2.81-2.81c.8-.78.8-2.07 0-2.86zM5.41 20L4 18.59l7.72-7.72 1.47 1.35L5.41 20z\"/>\n",
              "  </svg>\n",
              "      </button>\n",
              "      \n",
              "  <style>\n",
              "    .colab-df-container {\n",
              "      display:flex;\n",
              "      flex-wrap:wrap;\n",
              "      gap: 12px;\n",
              "    }\n",
              "\n",
              "    .colab-df-convert {\n",
              "      background-color: #E8F0FE;\n",
              "      border: none;\n",
              "      border-radius: 50%;\n",
              "      cursor: pointer;\n",
              "      display: none;\n",
              "      fill: #1967D2;\n",
              "      height: 32px;\n",
              "      padding: 0 0 0 0;\n",
              "      width: 32px;\n",
              "    }\n",
              "\n",
              "    .colab-df-convert:hover {\n",
              "      background-color: #E2EBFA;\n",
              "      box-shadow: 0px 1px 2px rgba(60, 64, 67, 0.3), 0px 1px 3px 1px rgba(60, 64, 67, 0.15);\n",
              "      fill: #174EA6;\n",
              "    }\n",
              "\n",
              "    [theme=dark] .colab-df-convert {\n",
              "      background-color: #3B4455;\n",
              "      fill: #D2E3FC;\n",
              "    }\n",
              "\n",
              "    [theme=dark] .colab-df-convert:hover {\n",
              "      background-color: #434B5C;\n",
              "      box-shadow: 0px 1px 3px 1px rgba(0, 0, 0, 0.15);\n",
              "      filter: drop-shadow(0px 1px 2px rgba(0, 0, 0, 0.3));\n",
              "      fill: #FFFFFF;\n",
              "    }\n",
              "  </style>\n",
              "\n",
              "      <script>\n",
              "        const buttonEl =\n",
              "          document.querySelector('#df-5c70ef9d-521b-4cab-bb4a-42cabdbbb893 button.colab-df-convert');\n",
              "        buttonEl.style.display =\n",
              "          google.colab.kernel.accessAllowed ? 'block' : 'none';\n",
              "\n",
              "        async function convertToInteractive(key) {\n",
              "          const element = document.querySelector('#df-5c70ef9d-521b-4cab-bb4a-42cabdbbb893');\n",
              "          const dataTable =\n",
              "            await google.colab.kernel.invokeFunction('convertToInteractive',\n",
              "                                                     [key], {});\n",
              "          if (!dataTable) return;\n",
              "\n",
              "          const docLinkHtml = 'Like what you see? Visit the ' +\n",
              "            '<a target=\"_blank\" href=https://colab.research.google.com/notebooks/data_table.ipynb>data table notebook</a>'\n",
              "            + ' to learn more about interactive tables.';\n",
              "          element.innerHTML = '';\n",
              "          dataTable['output_type'] = 'display_data';\n",
              "          await google.colab.output.renderOutput(dataTable, element);\n",
              "          const docLink = document.createElement('div');\n",
              "          docLink.innerHTML = docLinkHtml;\n",
              "          element.appendChild(docLink);\n",
              "        }\n",
              "      </script>\n",
              "    </div>\n",
              "  </div>\n",
              "  "
            ],
            "text/plain": [
              "      age  anaemia  creatinine_phosphokinase  diabetes  ejection_fraction  \\\n",
              "294  63.0        1                       122         1                 60   \n",
              "295  45.0        0                       308         1                 60   \n",
              "296  70.0        0                        97         0                 60   \n",
              "297  53.0        1                       446         0                 60   \n",
              "298  50.0        0                       582         0                 62   \n",
              "\n",
              "     high_blood_pressure  platelets  serum_creatinine  serum_sodium  sex  \\\n",
              "294                    0  267000.00               1.2           145    1   \n",
              "295                    1  377000.00               1.0           136    1   \n",
              "296                    1  220000.00               0.9           138    1   \n",
              "297                    1  263358.03               1.0           139    1   \n",
              "298                    1  147000.00               0.8           140    1   \n",
              "\n",
              "     smoking  time  DEATH_EVENT  \n",
              "294        0   147            0  \n",
              "295        0   186            0  \n",
              "296        0   186            0  \n",
              "297        0   215            0  \n",
              "298        1   192            0  "
            ]
          },
          "execution_count": 65,
          "metadata": {},
          "output_type": "execute_result"
        }
      ],
      "source": [
        "# check the last 5 data\n",
        "\n",
        "data.tail()"
      ]
    },
    {
      "cell_type": "code",
      "execution_count": 66,
      "metadata": {
        "id": "Kh-oMOe-Z0p4"
      },
      "outputs": [],
      "source": [
        "# rename anaemia\n",
        "\n",
        "data = data.rename({'anaemia':'anemia'}, axis=1)"
      ]
    },
    {
      "cell_type": "code",
      "execution_count": 67,
      "metadata": {
        "colab": {
          "base_uri": "https://localhost:8080/"
        },
        "id": "TKI-fXz5gyFt",
        "outputId": "39c38639-4ab9-4036-d3b4-a4b1f15ca9a0"
      },
      "outputs": [
        {
          "data": {
            "text/plain": [
              "age                          47\n",
              "anemia                        2\n",
              "creatinine_phosphokinase    208\n",
              "diabetes                      2\n",
              "ejection_fraction            17\n",
              "high_blood_pressure           2\n",
              "platelets                   176\n",
              "serum_creatinine             40\n",
              "serum_sodium                 27\n",
              "sex                           2\n",
              "smoking                       2\n",
              "time                        148\n",
              "DEATH_EVENT                   2\n",
              "dtype: int64"
            ]
          },
          "execution_count": 67,
          "metadata": {},
          "output_type": "execute_result"
        }
      ],
      "source": [
        "# check nunique of every columns\n",
        "\n",
        "data.nunique()"
      ]
    },
    {
      "cell_type": "code",
      "execution_count": 68,
      "metadata": {
        "colab": {
          "base_uri": "https://localhost:8080/"
        },
        "id": "r42VNC74hVLV",
        "outputId": "a78ef5a5-d9a9-4d94-c6f9-6bd27b381fd0"
      },
      "outputs": [
        {
          "data": {
            "text/plain": [
              "age                         0\n",
              "anemia                      0\n",
              "creatinine_phosphokinase    0\n",
              "diabetes                    0\n",
              "ejection_fraction           0\n",
              "high_blood_pressure         0\n",
              "platelets                   0\n",
              "serum_creatinine            0\n",
              "serum_sodium                0\n",
              "sex                         0\n",
              "smoking                     0\n",
              "time                        0\n",
              "DEATH_EVENT                 0\n",
              "dtype: int64"
            ]
          },
          "execution_count": 68,
          "metadata": {},
          "output_type": "execute_result"
        }
      ],
      "source": [
        "# check null rows\n",
        "\n",
        "data.isnull().sum()"
      ]
    },
    {
      "cell_type": "code",
      "execution_count": 69,
      "metadata": {
        "colab": {
          "base_uri": "https://localhost:8080/"
        },
        "id": "36peaMEPhbnF",
        "outputId": "5aee34cf-0f75-418e-9286-1da7066e6f86"
      },
      "outputs": [
        {
          "name": "stdout",
          "output_type": "stream",
          "text": [
            "<class 'pandas.core.frame.DataFrame'>\n",
            "RangeIndex: 299 entries, 0 to 298\n",
            "Data columns (total 13 columns):\n",
            " #   Column                    Non-Null Count  Dtype  \n",
            "---  ------                    --------------  -----  \n",
            " 0   age                       299 non-null    float64\n",
            " 1   anemia                    299 non-null    int64  \n",
            " 2   creatinine_phosphokinase  299 non-null    int64  \n",
            " 3   diabetes                  299 non-null    int64  \n",
            " 4   ejection_fraction         299 non-null    int64  \n",
            " 5   high_blood_pressure       299 non-null    int64  \n",
            " 6   platelets                 299 non-null    float64\n",
            " 7   serum_creatinine          299 non-null    float64\n",
            " 8   serum_sodium              299 non-null    int64  \n",
            " 9   sex                       299 non-null    int64  \n",
            " 10  smoking                   299 non-null    int64  \n",
            " 11  time                      299 non-null    int64  \n",
            " 12  DEATH_EVENT               299 non-null    int64  \n",
            "dtypes: float64(3), int64(10)\n",
            "memory usage: 30.5 KB\n"
          ]
        }
      ],
      "source": [
        "# check column type\n",
        "\n",
        "data.info()"
      ]
    },
    {
      "cell_type": "code",
      "execution_count": 70,
      "metadata": {
        "colab": {
          "base_uri": "https://localhost:8080/"
        },
        "id": "DXkM8Lu0iArj",
        "outputId": "613ae22f-5ed3-4f6f-c154-3f1984ed8053"
      },
      "outputs": [
        {
          "name": "stdout",
          "output_type": "stream",
          "text": [
            "<class 'pandas.core.frame.DataFrame'>\n",
            "RangeIndex: 299 entries, 0 to 298\n",
            "Data columns (total 13 columns):\n",
            " #   Column                    Non-Null Count  Dtype  \n",
            "---  ------                    --------------  -----  \n",
            " 0   age                       299 non-null    int64  \n",
            " 1   anemia                    299 non-null    int64  \n",
            " 2   creatinine_phosphokinase  299 non-null    int64  \n",
            " 3   diabetes                  299 non-null    int64  \n",
            " 4   ejection_fraction         299 non-null    int64  \n",
            " 5   high_blood_pressure       299 non-null    int64  \n",
            " 6   platelets                 299 non-null    float64\n",
            " 7   serum_creatinine          299 non-null    float64\n",
            " 8   serum_sodium              299 non-null    int64  \n",
            " 9   sex                       299 non-null    int64  \n",
            " 10  smoking                   299 non-null    int64  \n",
            " 11  time                      299 non-null    int64  \n",
            " 12  DEATH_EVENT               299 non-null    int64  \n",
            "dtypes: float64(2), int64(11)\n",
            "memory usage: 30.5 KB\n"
          ]
        }
      ],
      "source": [
        "# change column type\n",
        "\n",
        "data.age = data.age.astype(int)\n",
        "\n",
        "# caling dataset info\n",
        "data.info()"
      ]
    },
    {
      "cell_type": "markdown",
      "metadata": {
        "id": "xSAd77Ashgqk"
      },
      "source": [
        "---\n",
        "Statement:\n",
        "- Dataset terdiri atas 299 baris dan 12 kolom.\n",
        "- Dataset terdiri atas 2 tipe float64 dan 11 int64.\n",
        "- Dataset tidak memiliki missing values."
      ]
    },
    {
      "cell_type": "markdown",
      "metadata": {
        "id": "xID76uJDs9me"
      },
      "source": [
        "# IV. Exploratory Data Analysis (EDA)"
      ]
    },
    {
      "cell_type": "markdown",
      "metadata": {
        "id": "kbxETqscfOdB"
      },
      "source": [
        "Melihat keseimbangan dari target Dataset:"
      ]
    },
    {
      "cell_type": "code",
      "execution_count": 71,
      "metadata": {
        "colab": {
          "base_uri": "https://localhost:8080/"
        },
        "id": "xeVqBIicc1_3",
        "outputId": "65101944-a5df-41d9-9899-e0033f6f5a6e"
      },
      "outputs": [
        {
          "data": {
            "text/plain": [
              "0    203\n",
              "1     96\n",
              "Name: DEATH_EVENT, dtype: int64"
            ]
          },
          "execution_count": 71,
          "metadata": {},
          "output_type": "execute_result"
        }
      ],
      "source": [
        "# check dataset target\n",
        "\n",
        "data.DEATH_EVENT.value_counts()"
      ]
    },
    {
      "cell_type": "code",
      "execution_count": 72,
      "metadata": {
        "colab": {
          "base_uri": "https://localhost:8080/"
        },
        "id": "aNh52I9TdPex",
        "outputId": "e11a9fe5-76f6-4a5f-ace9-87f3d736a82d"
      },
      "outputs": [
        {
          "data": {
            "text/plain": [
              "0    67.892977\n",
              "1    32.107023\n",
              "Name: DEATH_EVENT, dtype: float64"
            ]
          },
          "execution_count": 72,
          "metadata": {},
          "output_type": "execute_result"
        }
      ],
      "source": [
        "# check percentage of dataset target\n",
        "\n",
        "data.DEATH_EVENT.value_counts() / data.DEATH_EVENT.count() * 100"
      ]
    },
    {
      "cell_type": "code",
      "execution_count": 73,
      "metadata": {
        "colab": {
          "base_uri": "https://localhost:8080/",
          "height": 351
        },
        "id": "IdwNu-G_Rye6",
        "outputId": "1600e5dc-026a-4fbc-f7b7-9798e8c65eda"
      },
      "outputs": [
        {
          "data": {
            "image/png": "[encoded data removed]",
            "text/plain": [
              "<Figure size 720x360 with 2 Axes>"
            ]
          },
          "metadata": {
            "needs_background": "light"
          },
          "output_type": "display_data"
        }
      ],
      "source": [
        "# plot\n",
        "\n",
        "plt.figure(figsize=(10,5))\n",
        "\n",
        "plt.subplot(1,2,1)\n",
        "sns.countplot(data=data, x='DEATH_EVENT', palette='pastel', edgecolor = 'black')\n",
        "plt.xlabel('DEATH_EVENT')\n",
        "plt.title('Count of DEATH EVENT')\n",
        "\n",
        "plt.subplot(1,2,2)\n",
        "plt.pie(data.DEATH_EVENT.value_counts(), labels = ['NO DEATH EVENT OCCURED', 'DEATH EVENT OCCURED'], startangle=90,\n",
        "        explode = (0, 0.1), autopct='%1.1f%%', colors = sns.color_palette('pastel',8))\n",
        "plt.title('Percentage of DEATH EVENT')\n",
        "\n",
        "plt.show()"
      ]
    },
    {
      "cell_type": "markdown",
      "metadata": {
        "id": "JyDXl4vzdAEG"
      },
      "source": [
        "---\n",
        "Statement:\n",
        "\n",
        "Dataset tergolong dataset yang imbalance dengan perbandingan kategori 1 dengan keseluruhan dataset sebesar 32%. Kemungkinan data akan bias terhadap kasus DEATH_EVENT berkategori 1."
      ]
    },
    {
      "cell_type": "code",
      "execution_count": 74,
      "metadata": {
        "colab": {
          "base_uri": "https://localhost:8080/",
          "height": 457
        },
        "id": "LhSZFe_ugGdu",
        "outputId": "b191934e-61ea-4e8d-bf06-c3a187468fc5"
      },
      "outputs": [
        {
          "data": {
            "text/html": [
              "<style type=\"text/css\">\n",
              "#T_7e2de_row0_col0, #T_7e2de_row1_col1, #T_7e2de_row2_col2, #T_7e2de_row3_col3, #T_7e2de_row4_col4, #T_7e2de_row5_col5, #T_7e2de_row6_col6, #T_7e2de_row7_col7, #T_7e2de_row8_col8, #T_7e2de_row9_col9, #T_7e2de_row10_col10, #T_7e2de_row11_col11, #T_7e2de_row12_col12 {\n",
              "  background-color: #b40426;\n",
              "  color: #f1f1f1;\n",
              "}\n",
              "#T_7e2de_row0_col1, #T_7e2de_row4_col0, #T_7e2de_row5_col4, #T_7e2de_row12_col5 {\n",
              "  background-color: #86a9fc;\n",
              "  color: #f1f1f1;\n",
              "}\n",
              "#T_7e2de_row0_col2 {\n",
              "  background-color: #5673e0;\n",
              "  color: #f1f1f1;\n",
              "}\n",
              "#T_7e2de_row0_col3 {\n",
              "  background-color: #4961d2;\n",
              "  color: #f1f1f1;\n",
              "}\n",
              "#T_7e2de_row0_col4, #T_7e2de_row5_col0 {\n",
              "  background-color: #90b2fe;\n",
              "  color: #000000;\n",
              "}\n",
              "#T_7e2de_row0_col5 {\n",
              "  background-color: #89acfd;\n",
              "  color: #000000;\n",
              "}\n",
              "#T_7e2de_row0_col6 {\n",
              "  background-color: #4e68d8;\n",
              "  color: #f1f1f1;\n",
              "}\n",
              "#T_7e2de_row0_col7 {\n",
              "  background-color: #9bbcff;\n",
              "  color: #000000;\n",
              "}\n",
              "#T_7e2de_row0_col8, #T_7e2de_row4_col2, #T_7e2de_row6_col1, #T_7e2de_row6_col7, #T_7e2de_row11_col9 {\n",
              "  background-color: #6180e9;\n",
              "  color: #f1f1f1;\n",
              "}\n",
              "#T_7e2de_row0_col9, #T_7e2de_row3_col6, #T_7e2de_row5_col1, #T_7e2de_row5_col8, #T_7e2de_row8_col5 {\n",
              "  background-color: #799cf8;\n",
              "  color: #f1f1f1;\n",
              "}\n",
              "#T_7e2de_row0_col10, #T_7e2de_row2_col7, #T_7e2de_row7_col2, #T_7e2de_row8_col0 {\n",
              "  background-color: #688aef;\n",
              "  color: #f1f1f1;\n",
              "}\n",
              "#T_7e2de_row0_col11, #T_7e2de_row1_col5, #T_7e2de_row1_col8, #T_7e2de_row8_col1, #T_7e2de_row10_col0 {\n",
              "  background-color: #7a9df8;\n",
              "  color: #f1f1f1;\n",
              "}\n",
              "#T_7e2de_row0_col12 {\n",
              "  background-color: #dfdbd9;\n",
              "  color: #000000;\n",
              "}\n",
              "#T_7e2de_row1_col0 {\n",
              "  background-color: #8fb1fe;\n",
              "  color: #000000;\n",
              "}\n",
              "#T_7e2de_row1_col2, #T_7e2de_row2_col1, #T_7e2de_row3_col9, #T_7e2de_row3_col10, #T_7e2de_row8_col7, #T_7e2de_row9_col3, #T_7e2de_row9_col6, #T_7e2de_row11_col0, #T_7e2de_row11_col5, #T_7e2de_row11_col12, #T_7e2de_row12_col4, #T_7e2de_row12_col8, #T_7e2de_row12_col11 {\n",
              "  background-color: #3b4cc0;\n",
              "  color: #f1f1f1;\n",
              "}\n",
              "#T_7e2de_row1_col3, #T_7e2de_row2_col3, #T_7e2de_row5_col3 {\n",
              "  background-color: #6282ea;\n",
              "  color: #f1f1f1;\n",
              "}\n",
              "#T_7e2de_row1_col4, #T_7e2de_row9_col0, #T_7e2de_row11_col8 {\n",
              "  background-color: #88abfd;\n",
              "  color: #000000;\n",
              "}\n",
              "#T_7e2de_row1_col6 {\n",
              "  background-color: #506bda;\n",
              "  color: #f1f1f1;\n",
              "}\n",
              "#T_7e2de_row1_col7, #T_7e2de_row7_col4 {\n",
              "  background-color: #7b9ff9;\n",
              "  color: #f1f1f1;\n",
              "}\n",
              "#T_7e2de_row1_col9 {\n",
              "  background-color: #4a63d3;\n",
              "  color: #f1f1f1;\n",
              "}\n",
              "#T_7e2de_row1_col10, #T_7e2de_row11_col7 {\n",
              "  background-color: #445acc;\n",
              "  color: #f1f1f1;\n",
              "}\n",
              "#T_7e2de_row1_col11 {\n",
              "  background-color: #8db0fe;\n",
              "  color: #000000;\n",
              "}\n",
              "#T_7e2de_row1_col12, #T_7e2de_row12_col0 {\n",
              "  background-color: #bcd2f7;\n",
              "  color: #000000;\n",
              "}\n",
              "#T_7e2de_row2_col0 {\n",
              "  background-color: #5e7de7;\n",
              "  color: #f1f1f1;\n",
              "}\n",
              "#T_7e2de_row2_col4 {\n",
              "  background-color: #7396f5;\n",
              "  color: #f1f1f1;\n",
              "}\n",
              "#T_7e2de_row2_col5, #T_7e2de_row7_col10 {\n",
              "  background-color: #5a78e4;\n",
              "  color: #f1f1f1;\n",
              "}\n",
              "#T_7e2de_row2_col6, #T_7e2de_row10_col6, #T_7e2de_row10_col7, #T_7e2de_row12_col3 {\n",
              "  background-color: #6485ec;\n",
              "  color: #f1f1f1;\n",
              "}\n",
              "#T_7e2de_row2_col8, #T_7e2de_row12_col2 {\n",
              "  background-color: #80a3fa;\n",
              "  color: #f1f1f1;\n",
              "}\n",
              "#T_7e2de_row2_col9, #T_7e2de_row6_col5, #T_7e2de_row7_col1 {\n",
              "  background-color: #7da0f9;\n",
              "  color: #f1f1f1;\n",
              "}\n",
              "#T_7e2de_row2_col10, #T_7e2de_row4_col3, #T_7e2de_row8_col10, #T_7e2de_row12_col9 {\n",
              "  background-color: #6384eb;\n",
              "  color: #f1f1f1;\n",
              "}\n",
              "#T_7e2de_row2_col11, #T_7e2de_row10_col12 {\n",
              "  background-color: #abc8fd;\n",
              "  color: #000000;\n",
              "}\n",
              "#T_7e2de_row2_col12 {\n",
              "  background-color: #bbd1f8;\n",
              "  color: #000000;\n",
              "}\n",
              "#T_7e2de_row3_col0, #T_7e2de_row5_col2 {\n",
              "  background-color: #5977e3;\n",
              "  color: #f1f1f1;\n",
              "}\n",
              "#T_7e2de_row3_col1, #T_7e2de_row3_col2, #T_7e2de_row4_col7, #T_7e2de_row11_col2 {\n",
              "  background-color: #6a8bef;\n",
              "  color: #f1f1f1;\n",
              "}\n",
              "#T_7e2de_row3_col4, #T_7e2de_row8_col2 {\n",
              "  background-color: #7ea1fa;\n",
              "  color: #f1f1f1;\n",
              "}\n",
              "#T_7e2de_row3_col5, #T_7e2de_row5_col6, #T_7e2de_row5_col7, #T_7e2de_row6_col10 {\n",
              "  background-color: #6b8df0;\n",
              "  color: #f1f1f1;\n",
              "}\n",
              "#T_7e2de_row3_col7, #T_7e2de_row10_col5, #T_7e2de_row11_col6, #T_7e2de_row12_col10 {\n",
              "  background-color: #5f7fe8;\n",
              "  color: #f1f1f1;\n",
              "}\n",
              "#T_7e2de_row3_col8 {\n",
              "  background-color: #5572df;\n",
              "  color: #f1f1f1;\n",
              "}\n",
              "#T_7e2de_row3_col11 {\n",
              "  background-color: #b6cefa;\n",
              "  color: #000000;\n",
              "}\n",
              "#T_7e2de_row3_col12 {\n",
              "  background-color: #aec9fc;\n",
              "  color: #000000;\n",
              "}\n",
              "#T_7e2de_row4_col1, #T_7e2de_row4_col5 {\n",
              "  background-color: #7699f6;\n",
              "  color: #f1f1f1;\n",
              "}\n",
              "#T_7e2de_row4_col6 {\n",
              "  background-color: #7295f4;\n",
              "  color: #f1f1f1;\n",
              "}\n",
              "#T_7e2de_row4_col8 {\n",
              "  background-color: #a2c1ff;\n",
              "  color: #000000;\n",
              "}\n",
              "#T_7e2de_row4_col9, #T_7e2de_row10_col3 {\n",
              "  background-color: #3d50c3;\n",
              "  color: #f1f1f1;\n",
              "}\n",
              "#T_7e2de_row4_col10, #T_7e2de_row10_col1, #T_7e2de_row12_col6 {\n",
              "  background-color: #4f69d9;\n",
              "  color: #f1f1f1;\n",
              "}\n",
              "#T_7e2de_row4_col11 {\n",
              "  background-color: #b7cff9;\n",
              "  color: #000000;\n",
              "}\n",
              "#T_7e2de_row4_col12 {\n",
              "  background-color: #7093f3;\n",
              "  color: #f1f1f1;\n",
              "}\n",
              "#T_7e2de_row5_col9 {\n",
              "  background-color: #485fd1;\n",
              "  color: #f1f1f1;\n",
              "}\n",
              "#T_7e2de_row5_col10, #T_7e2de_row9_col1 {\n",
              "  background-color: #536edd;\n",
              "  color: #f1f1f1;\n",
              "}\n",
              "#T_7e2de_row5_col11, #T_7e2de_row6_col3, #T_7e2de_row6_col8, #T_7e2de_row8_col12, #T_7e2de_row12_col1 {\n",
              "  background-color: #81a4fb;\n",
              "  color: #f1f1f1;\n",
              "}\n",
              "#T_7e2de_row5_col12 {\n",
              "  background-color: #bfd3f6;\n",
              "  color: #000000;\n",
              "}\n",
              "#T_7e2de_row6_col0, #T_7e2de_row9_col8 {\n",
              "  background-color: #6687ed;\n",
              "  color: #f1f1f1;\n",
              "}\n",
              "#T_7e2de_row6_col2 {\n",
              "  background-color: #7597f6;\n",
              "  color: #f1f1f1;\n",
              "}\n",
              "#T_7e2de_row6_col4 {\n",
              "  background-color: #93b5fe;\n",
              "  color: #000000;\n",
              "}\n",
              "#T_7e2de_row6_col9 {\n",
              "  background-color: #4358cb;\n",
              "  color: #f1f1f1;\n",
              "}\n",
              "#T_7e2de_row6_col11 {\n",
              "  background-color: #b1cbfc;\n",
              "  color: #000000;\n",
              "}\n",
              "#T_7e2de_row6_col12, #T_7e2de_row7_col0 {\n",
              "  background-color: #a3c2fe;\n",
              "  color: #000000;\n",
              "}\n",
              "#T_7e2de_row7_col3, #T_7e2de_row9_col4 {\n",
              "  background-color: #5875e1;\n",
              "  color: #f1f1f1;\n",
              "}\n",
              "#T_7e2de_row7_col5, #T_7e2de_row10_col4 {\n",
              "  background-color: #6c8ff1;\n",
              "  color: #f1f1f1;\n",
              "}\n",
              "#T_7e2de_row7_col6, #T_7e2de_row9_col5 {\n",
              "  background-color: #516ddb;\n",
              "  color: #f1f1f1;\n",
              "}\n",
              "#T_7e2de_row7_col8 {\n",
              "  background-color: #3c4ec2;\n",
              "  color: #f1f1f1;\n",
              "}\n",
              "#T_7e2de_row7_col9 {\n",
              "  background-color: #6788ee;\n",
              "  color: #f1f1f1;\n",
              "}\n",
              "#T_7e2de_row7_col11 {\n",
              "  background-color: #8caffe;\n",
              "  color: #000000;\n",
              "}\n",
              "#T_7e2de_row7_col12 {\n",
              "  background-color: #e6d7cf;\n",
              "  color: #000000;\n",
              "}\n",
              "#T_7e2de_row8_col3 {\n",
              "  background-color: #4c66d6;\n",
              "  color: #f1f1f1;\n",
              "}\n",
              "#T_7e2de_row8_col4 {\n",
              "  background-color: #afcafc;\n",
              "  color: #000000;\n",
              "}\n",
              "#T_7e2de_row8_col6, #T_7e2de_row9_col7, #T_7e2de_row10_col8, #T_7e2de_row11_col3 {\n",
              "  background-color: #6f92f3;\n",
              "  color: #f1f1f1;\n",
              "}\n",
              "#T_7e2de_row8_col9 {\n",
              "  background-color: #5d7ce6;\n",
              "  color: #f1f1f1;\n",
              "}\n",
              "#T_7e2de_row8_col11 {\n",
              "  background-color: #c1d4f4;\n",
              "  color: #000000;\n",
              "}\n",
              "#T_7e2de_row9_col2 {\n",
              "  background-color: #85a8fc;\n",
              "  color: #f1f1f1;\n",
              "}\n",
              "#T_7e2de_row9_col10 {\n",
              "  background-color: #e1dad6;\n",
              "  color: #000000;\n",
              "}\n",
              "#T_7e2de_row9_col11 {\n",
              "  background-color: #aac7fd;\n",
              "  color: #000000;\n",
              "}\n",
              "#T_7e2de_row9_col12 {\n",
              "  background-color: #adc9fd;\n",
              "  color: #000000;\n",
              "}\n",
              "#T_7e2de_row10_col2 {\n",
              "  background-color: #6e90f2;\n",
              "  color: #f1f1f1;\n",
              "}\n",
              "#T_7e2de_row10_col9 {\n",
              "  background-color: #e2dad5;\n",
              "  color: #000000;\n",
              "}\n",
              "#T_7e2de_row10_col11 {\n",
              "  background-color: #a9c6fd;\n",
              "  color: #000000;\n",
              "}\n",
              "#T_7e2de_row11_col1 {\n",
              "  background-color: #465ecf;\n",
              "  color: #f1f1f1;\n",
              "}\n",
              "#T_7e2de_row11_col4 {\n",
              "  background-color: #8badfd;\n",
              "  color: #000000;\n",
              "}\n",
              "#T_7e2de_row11_col10 {\n",
              "  background-color: #5b7ae5;\n",
              "  color: #f1f1f1;\n",
              "}\n",
              "#T_7e2de_row12_col7 {\n",
              "  background-color: #c3d5f4;\n",
              "  color: #000000;\n",
              "}\n",
              "</style>\n",
              "<table id=\"T_7e2de_\" class=\"dataframe\">\n",
              "  <thead>\n",
              "    <tr>\n",
              "      <th class=\"blank level0\" >&nbsp;</th>\n",
              "      <th class=\"col_heading level0 col0\" >age</th>\n",
              "      <th class=\"col_heading level0 col1\" >anemia</th>\n",
              "      <th class=\"col_heading level0 col2\" >creatinine_phosphokinase</th>\n",
              "      <th class=\"col_heading level0 col3\" >diabetes</th>\n",
              "      <th class=\"col_heading level0 col4\" >ejection_fraction</th>\n",
              "      <th class=\"col_heading level0 col5\" >high_blood_pressure</th>\n",
              "      <th class=\"col_heading level0 col6\" >platelets</th>\n",
              "      <th class=\"col_heading level0 col7\" >serum_creatinine</th>\n",
              "      <th class=\"col_heading level0 col8\" >serum_sodium</th>\n",
              "      <th class=\"col_heading level0 col9\" >sex</th>\n",
              "      <th class=\"col_heading level0 col10\" >smoking</th>\n",
              "      <th class=\"col_heading level0 col11\" >time</th>\n",
              "      <th class=\"col_heading level0 col12\" >DEATH_EVENT</th>\n",
              "    </tr>\n",
              "  </thead>\n",
              "  <tbody>\n",
              "    <tr>\n",
              "      <th id=\"T_7e2de_level0_row0\" class=\"row_heading level0 row0\" >age</th>\n",
              "      <td id=\"T_7e2de_row0_col0\" class=\"data row0 col0\" >1.000000</td>\n",
              "      <td id=\"T_7e2de_row0_col1\" class=\"data row0 col1\" >0.087574</td>\n",
              "      <td id=\"T_7e2de_row0_col2\" class=\"data row0 col2\" >-0.081406</td>\n",
              "      <td id=\"T_7e2de_row0_col3\" class=\"data row0 col3\" >-0.101454</td>\n",
              "      <td id=\"T_7e2de_row0_col4\" class=\"data row0 col4\" >0.060195</td>\n",
              "      <td id=\"T_7e2de_row0_col5\" class=\"data row0 col5\" >0.093170</td>\n",
              "      <td id=\"T_7e2de_row0_col6\" class=\"data row0 col6\" >-0.052475</td>\n",
              "      <td id=\"T_7e2de_row0_col7\" class=\"data row0 col7\" >0.159237</td>\n",
              "      <td id=\"T_7e2de_row0_col8\" class=\"data row0 col8\" >-0.045912</td>\n",
              "      <td id=\"T_7e2de_row0_col9\" class=\"data row0 col9\" >0.065546</td>\n",
              "      <td id=\"T_7e2de_row0_col10\" class=\"data row0 col10\" >0.018926</td>\n",
              "      <td id=\"T_7e2de_row0_col11\" class=\"data row0 col11\" >-0.224265</td>\n",
              "      <td id=\"T_7e2de_row0_col12\" class=\"data row0 col12\" >0.253581</td>\n",
              "    </tr>\n",
              "    <tr>\n",
              "      <th id=\"T_7e2de_level0_row1\" class=\"row_heading level0 row1\" >anemia</th>\n",
              "      <td id=\"T_7e2de_row1_col0\" class=\"data row1 col0\" >0.087574</td>\n",
              "      <td id=\"T_7e2de_row1_col1\" class=\"data row1 col1\" >1.000000</td>\n",
              "      <td id=\"T_7e2de_row1_col2\" class=\"data row1 col2\" >-0.190741</td>\n",
              "      <td id=\"T_7e2de_row1_col3\" class=\"data row1 col3\" >-0.012729</td>\n",
              "      <td id=\"T_7e2de_row1_col4\" class=\"data row1 col4\" >0.031557</td>\n",
              "      <td id=\"T_7e2de_row1_col5\" class=\"data row1 col5\" >0.038182</td>\n",
              "      <td id=\"T_7e2de_row1_col6\" class=\"data row1 col6\" >-0.043786</td>\n",
              "      <td id=\"T_7e2de_row1_col7\" class=\"data row1 col7\" >0.052174</td>\n",
              "      <td id=\"T_7e2de_row1_col8\" class=\"data row1 col8\" >0.041882</td>\n",
              "      <td id=\"T_7e2de_row1_col9\" class=\"data row1 col9\" >-0.094769</td>\n",
              "      <td id=\"T_7e2de_row1_col10\" class=\"data row1 col10\" >-0.107290</td>\n",
              "      <td id=\"T_7e2de_row1_col11\" class=\"data row1 col11\" >-0.141414</td>\n",
              "      <td id=\"T_7e2de_row1_col12\" class=\"data row1 col12\" >0.066270</td>\n",
              "    </tr>\n",
              "    <tr>\n",
              "      <th id=\"T_7e2de_level0_row2\" class=\"row_heading level0 row2\" >creatinine_phosphokinase</th>\n",
              "      <td id=\"T_7e2de_row2_col0\" class=\"data row2 col0\" >-0.081406</td>\n",
              "      <td id=\"T_7e2de_row2_col1\" class=\"data row2 col1\" >-0.190741</td>\n",
              "      <td id=\"T_7e2de_row2_col2\" class=\"data row2 col2\" >1.000000</td>\n",
              "      <td id=\"T_7e2de_row2_col3\" class=\"data row2 col3\" >-0.009639</td>\n",
              "      <td id=\"T_7e2de_row2_col4\" class=\"data row2 col4\" >-0.044080</td>\n",
              "      <td id=\"T_7e2de_row2_col5\" class=\"data row2 col5\" >-0.070590</td>\n",
              "      <td id=\"T_7e2de_row2_col6\" class=\"data row2 col6\" >0.024463</td>\n",
              "      <td id=\"T_7e2de_row2_col7\" class=\"data row2 col7\" >-0.016408</td>\n",
              "      <td id=\"T_7e2de_row2_col8\" class=\"data row2 col8\" >0.059550</td>\n",
              "      <td id=\"T_7e2de_row2_col9\" class=\"data row2 col9\" >0.079791</td>\n",
              "      <td id=\"T_7e2de_row2_col10\" class=\"data row2 col10\" >0.002421</td>\n",
              "      <td id=\"T_7e2de_row2_col11\" class=\"data row2 col11\" >-0.009346</td>\n",
              "      <td id=\"T_7e2de_row2_col12\" class=\"data row2 col12\" >0.062728</td>\n",
              "    </tr>\n",
              "    <tr>\n",
              "      <th id=\"T_7e2de_level0_row3\" class=\"row_heading level0 row3\" >diabetes</th>\n",
              "      <td id=\"T_7e2de_row3_col0\" class=\"data row3 col0\" >-0.101454</td>\n",
              "      <td id=\"T_7e2de_row3_col1\" class=\"data row3 col1\" >-0.012729</td>\n",
              "      <td id=\"T_7e2de_row3_col2\" class=\"data row3 col2\" >-0.009639</td>\n",
              "      <td id=\"T_7e2de_row3_col3\" class=\"data row3 col3\" >1.000000</td>\n",
              "      <td id=\"T_7e2de_row3_col4\" class=\"data row3 col4\" >-0.004850</td>\n",
              "      <td id=\"T_7e2de_row3_col5\" class=\"data row3 col5\" >-0.012732</td>\n",
              "      <td id=\"T_7e2de_row3_col6\" class=\"data row3 col6\" >0.092193</td>\n",
              "      <td id=\"T_7e2de_row3_col7\" class=\"data row3 col7\" >-0.046975</td>\n",
              "      <td id=\"T_7e2de_row3_col8\" class=\"data row3 col8\" >-0.089551</td>\n",
              "      <td id=\"T_7e2de_row3_col9\" class=\"data row3 col9\" >-0.157730</td>\n",
              "      <td id=\"T_7e2de_row3_col10\" class=\"data row3 col10\" >-0.147173</td>\n",
              "      <td id=\"T_7e2de_row3_col11\" class=\"data row3 col11\" >0.033726</td>\n",
              "      <td id=\"T_7e2de_row3_col12\" class=\"data row3 col12\" >-0.001943</td>\n",
              "    </tr>\n",
              "    <tr>\n",
              "      <th id=\"T_7e2de_level0_row4\" class=\"row_heading level0 row4\" >ejection_fraction</th>\n",
              "      <td id=\"T_7e2de_row4_col0\" class=\"data row4 col0\" >0.060195</td>\n",
              "      <td id=\"T_7e2de_row4_col1\" class=\"data row4 col1\" >0.031557</td>\n",
              "      <td id=\"T_7e2de_row4_col2\" class=\"data row4 col2\" >-0.044080</td>\n",
              "      <td id=\"T_7e2de_row4_col3\" class=\"data row4 col3\" >-0.004850</td>\n",
              "      <td id=\"T_7e2de_row4_col4\" class=\"data row4 col4\" >1.000000</td>\n",
              "      <td id=\"T_7e2de_row4_col5\" class=\"data row4 col5\" >0.024445</td>\n",
              "      <td id=\"T_7e2de_row4_col6\" class=\"data row4 col6\" >0.072177</td>\n",
              "      <td id=\"T_7e2de_row4_col7\" class=\"data row4 col7\" >-0.011302</td>\n",
              "      <td id=\"T_7e2de_row4_col8\" class=\"data row4 col8\" >0.175902</td>\n",
              "      <td id=\"T_7e2de_row4_col9\" class=\"data row4 col9\" >-0.148386</td>\n",
              "      <td id=\"T_7e2de_row4_col10\" class=\"data row4 col10\" >-0.067315</td>\n",
              "      <td id=\"T_7e2de_row4_col11\" class=\"data row4 col11\" >0.041729</td>\n",
              "      <td id=\"T_7e2de_row4_col12\" class=\"data row4 col12\" >-0.268603</td>\n",
              "    </tr>\n",
              "    <tr>\n",
              "      <th id=\"T_7e2de_level0_row5\" class=\"row_heading level0 row5\" >high_blood_pressure</th>\n",
              "      <td id=\"T_7e2de_row5_col0\" class=\"data row5 col0\" >0.093170</td>\n",
              "      <td id=\"T_7e2de_row5_col1\" class=\"data row5 col1\" >0.038182</td>\n",
              "      <td id=\"T_7e2de_row5_col2\" class=\"data row5 col2\" >-0.070590</td>\n",
              "      <td id=\"T_7e2de_row5_col3\" class=\"data row5 col3\" >-0.012732</td>\n",
              "      <td id=\"T_7e2de_row5_col4\" class=\"data row5 col4\" >0.024445</td>\n",
              "      <td id=\"T_7e2de_row5_col5\" class=\"data row5 col5\" >1.000000</td>\n",
              "      <td id=\"T_7e2de_row5_col6\" class=\"data row5 col6\" >0.049963</td>\n",
              "      <td id=\"T_7e2de_row5_col7\" class=\"data row5 col7\" >-0.004935</td>\n",
              "      <td id=\"T_7e2de_row5_col8\" class=\"data row5 col8\" >0.037109</td>\n",
              "      <td id=\"T_7e2de_row5_col9\" class=\"data row5 col9\" >-0.104615</td>\n",
              "      <td id=\"T_7e2de_row5_col10\" class=\"data row5 col10\" >-0.055711</td>\n",
              "      <td id=\"T_7e2de_row5_col11\" class=\"data row5 col11\" >-0.196439</td>\n",
              "      <td id=\"T_7e2de_row5_col12\" class=\"data row5 col12\" >0.079351</td>\n",
              "    </tr>\n",
              "    <tr>\n",
              "      <th id=\"T_7e2de_level0_row6\" class=\"row_heading level0 row6\" >platelets</th>\n",
              "      <td id=\"T_7e2de_row6_col0\" class=\"data row6 col0\" >-0.052475</td>\n",
              "      <td id=\"T_7e2de_row6_col1\" class=\"data row6 col1\" >-0.043786</td>\n",
              "      <td id=\"T_7e2de_row6_col2\" class=\"data row6 col2\" >0.024463</td>\n",
              "      <td id=\"T_7e2de_row6_col3\" class=\"data row6 col3\" >0.092193</td>\n",
              "      <td id=\"T_7e2de_row6_col4\" class=\"data row6 col4\" >0.072177</td>\n",
              "      <td id=\"T_7e2de_row6_col5\" class=\"data row6 col5\" >0.049963</td>\n",
              "      <td id=\"T_7e2de_row6_col6\" class=\"data row6 col6\" >1.000000</td>\n",
              "      <td id=\"T_7e2de_row6_col7\" class=\"data row6 col7\" >-0.041198</td>\n",
              "      <td id=\"T_7e2de_row6_col8\" class=\"data row6 col8\" >0.062125</td>\n",
              "      <td id=\"T_7e2de_row6_col9\" class=\"data row6 col9\" >-0.125120</td>\n",
              "      <td id=\"T_7e2de_row6_col10\" class=\"data row6 col10\" >0.028234</td>\n",
              "      <td id=\"T_7e2de_row6_col11\" class=\"data row6 col11\" >0.010514</td>\n",
              "      <td id=\"T_7e2de_row6_col12\" class=\"data row6 col12\" >-0.049139</td>\n",
              "    </tr>\n",
              "    <tr>\n",
              "      <th id=\"T_7e2de_level0_row7\" class=\"row_heading level0 row7\" >serum_creatinine</th>\n",
              "      <td id=\"T_7e2de_row7_col0\" class=\"data row7 col0\" >0.159237</td>\n",
              "      <td id=\"T_7e2de_row7_col1\" class=\"data row7 col1\" >0.052174</td>\n",
              "      <td id=\"T_7e2de_row7_col2\" class=\"data row7 col2\" >-0.016408</td>\n",
              "      <td id=\"T_7e2de_row7_col3\" class=\"data row7 col3\" >-0.046975</td>\n",
              "      <td id=\"T_7e2de_row7_col4\" class=\"data row7 col4\" >-0.011302</td>\n",
              "      <td id=\"T_7e2de_row7_col5\" class=\"data row7 col5\" >-0.004935</td>\n",
              "      <td id=\"T_7e2de_row7_col6\" class=\"data row7 col6\" >-0.041198</td>\n",
              "      <td id=\"T_7e2de_row7_col7\" class=\"data row7 col7\" >1.000000</td>\n",
              "      <td id=\"T_7e2de_row7_col8\" class=\"data row7 col8\" >-0.189095</td>\n",
              "      <td id=\"T_7e2de_row7_col9\" class=\"data row7 col9\" >0.006970</td>\n",
              "      <td id=\"T_7e2de_row7_col10\" class=\"data row7 col10\" >-0.027414</td>\n",
              "      <td id=\"T_7e2de_row7_col11\" class=\"data row7 col11\" >-0.149315</td>\n",
              "      <td id=\"T_7e2de_row7_col12\" class=\"data row7 col12\" >0.294278</td>\n",
              "    </tr>\n",
              "    <tr>\n",
              "      <th id=\"T_7e2de_level0_row8\" class=\"row_heading level0 row8\" >serum_sodium</th>\n",
              "      <td id=\"T_7e2de_row8_col0\" class=\"data row8 col0\" >-0.045912</td>\n",
              "      <td id=\"T_7e2de_row8_col1\" class=\"data row8 col1\" >0.041882</td>\n",
              "      <td id=\"T_7e2de_row8_col2\" class=\"data row8 col2\" >0.059550</td>\n",
              "      <td id=\"T_7e2de_row8_col3\" class=\"data row8 col3\" >-0.089551</td>\n",
              "      <td id=\"T_7e2de_row8_col4\" class=\"data row8 col4\" >0.175902</td>\n",
              "      <td id=\"T_7e2de_row8_col5\" class=\"data row8 col5\" >0.037109</td>\n",
              "      <td id=\"T_7e2de_row8_col6\" class=\"data row8 col6\" >0.062125</td>\n",
              "      <td id=\"T_7e2de_row8_col7\" class=\"data row8 col7\" >-0.189095</td>\n",
              "      <td id=\"T_7e2de_row8_col8\" class=\"data row8 col8\" >1.000000</td>\n",
              "      <td id=\"T_7e2de_row8_col9\" class=\"data row8 col9\" >-0.027566</td>\n",
              "      <td id=\"T_7e2de_row8_col10\" class=\"data row8 col10\" >0.004813</td>\n",
              "      <td id=\"T_7e2de_row8_col11\" class=\"data row8 col11\" >0.087640</td>\n",
              "      <td id=\"T_7e2de_row8_col12\" class=\"data row8 col12\" >-0.195204</td>\n",
              "    </tr>\n",
              "    <tr>\n",
              "      <th id=\"T_7e2de_level0_row9\" class=\"row_heading level0 row9\" >sex</th>\n",
              "      <td id=\"T_7e2de_row9_col0\" class=\"data row9 col0\" >0.065546</td>\n",
              "      <td id=\"T_7e2de_row9_col1\" class=\"data row9 col1\" >-0.094769</td>\n",
              "      <td id=\"T_7e2de_row9_col2\" class=\"data row9 col2\" >0.079791</td>\n",
              "      <td id=\"T_7e2de_row9_col3\" class=\"data row9 col3\" >-0.157730</td>\n",
              "      <td id=\"T_7e2de_row9_col4\" class=\"data row9 col4\" >-0.148386</td>\n",
              "      <td id=\"T_7e2de_row9_col5\" class=\"data row9 col5\" >-0.104615</td>\n",
              "      <td id=\"T_7e2de_row9_col6\" class=\"data row9 col6\" >-0.125120</td>\n",
              "      <td id=\"T_7e2de_row9_col7\" class=\"data row9 col7\" >0.006970</td>\n",
              "      <td id=\"T_7e2de_row9_col8\" class=\"data row9 col8\" >-0.027566</td>\n",
              "      <td id=\"T_7e2de_row9_col9\" class=\"data row9 col9\" >1.000000</td>\n",
              "      <td id=\"T_7e2de_row9_col10\" class=\"data row9 col10\" >0.445892</td>\n",
              "      <td id=\"T_7e2de_row9_col11\" class=\"data row9 col11\" >-0.015608</td>\n",
              "      <td id=\"T_7e2de_row9_col12\" class=\"data row9 col12\" >-0.004316</td>\n",
              "    </tr>\n",
              "    <tr>\n",
              "      <th id=\"T_7e2de_level0_row10\" class=\"row_heading level0 row10\" >smoking</th>\n",
              "      <td id=\"T_7e2de_row10_col0\" class=\"data row10 col0\" >0.018926</td>\n",
              "      <td id=\"T_7e2de_row10_col1\" class=\"data row10 col1\" >-0.107290</td>\n",
              "      <td id=\"T_7e2de_row10_col2\" class=\"data row10 col2\" >0.002421</td>\n",
              "      <td id=\"T_7e2de_row10_col3\" class=\"data row10 col3\" >-0.147173</td>\n",
              "      <td id=\"T_7e2de_row10_col4\" class=\"data row10 col4\" >-0.067315</td>\n",
              "      <td id=\"T_7e2de_row10_col5\" class=\"data row10 col5\" >-0.055711</td>\n",
              "      <td id=\"T_7e2de_row10_col6\" class=\"data row10 col6\" >0.028234</td>\n",
              "      <td id=\"T_7e2de_row10_col7\" class=\"data row10 col7\" >-0.027414</td>\n",
              "      <td id=\"T_7e2de_row10_col8\" class=\"data row10 col8\" >0.004813</td>\n",
              "      <td id=\"T_7e2de_row10_col9\" class=\"data row10 col9\" >0.445892</td>\n",
              "      <td id=\"T_7e2de_row10_col10\" class=\"data row10 col10\" >1.000000</td>\n",
              "      <td id=\"T_7e2de_row10_col11\" class=\"data row10 col11\" >-0.022839</td>\n",
              "      <td id=\"T_7e2de_row10_col12\" class=\"data row10 col12\" >-0.012623</td>\n",
              "    </tr>\n",
              "    <tr>\n",
              "      <th id=\"T_7e2de_level0_row11\" class=\"row_heading level0 row11\" >time</th>\n",
              "      <td id=\"T_7e2de_row11_col0\" class=\"data row11 col0\" >-0.224265</td>\n",
              "      <td id=\"T_7e2de_row11_col1\" class=\"data row11 col1\" >-0.141414</td>\n",
              "      <td id=\"T_7e2de_row11_col2\" class=\"data row11 col2\" >-0.009346</td>\n",
              "      <td id=\"T_7e2de_row11_col3\" class=\"data row11 col3\" >0.033726</td>\n",
              "      <td id=\"T_7e2de_row11_col4\" class=\"data row11 col4\" >0.041729</td>\n",
              "      <td id=\"T_7e2de_row11_col5\" class=\"data row11 col5\" >-0.196439</td>\n",
              "      <td id=\"T_7e2de_row11_col6\" class=\"data row11 col6\" >0.010514</td>\n",
              "      <td id=\"T_7e2de_row11_col7\" class=\"data row11 col7\" >-0.149315</td>\n",
              "      <td id=\"T_7e2de_row11_col8\" class=\"data row11 col8\" >0.087640</td>\n",
              "      <td id=\"T_7e2de_row11_col9\" class=\"data row11 col9\" >-0.015608</td>\n",
              "      <td id=\"T_7e2de_row11_col10\" class=\"data row11 col10\" >-0.022839</td>\n",
              "      <td id=\"T_7e2de_row11_col11\" class=\"data row11 col11\" >1.000000</td>\n",
              "      <td id=\"T_7e2de_row11_col12\" class=\"data row11 col12\" >-0.526964</td>\n",
              "    </tr>\n",
              "    <tr>\n",
              "      <th id=\"T_7e2de_level0_row12\" class=\"row_heading level0 row12\" >DEATH_EVENT</th>\n",
              "      <td id=\"T_7e2de_row12_col0\" class=\"data row12 col0\" >0.253581</td>\n",
              "      <td id=\"T_7e2de_row12_col1\" class=\"data row12 col1\" >0.066270</td>\n",
              "      <td id=\"T_7e2de_row12_col2\" class=\"data row12 col2\" >0.062728</td>\n",
              "      <td id=\"T_7e2de_row12_col3\" class=\"data row12 col3\" >-0.001943</td>\n",
              "      <td id=\"T_7e2de_row12_col4\" class=\"data row12 col4\" >-0.268603</td>\n",
              "      <td id=\"T_7e2de_row12_col5\" class=\"data row12 col5\" >0.079351</td>\n",
              "      <td id=\"T_7e2de_row12_col6\" class=\"data row12 col6\" >-0.049139</td>\n",
              "      <td id=\"T_7e2de_row12_col7\" class=\"data row12 col7\" >0.294278</td>\n",
              "      <td id=\"T_7e2de_row12_col8\" class=\"data row12 col8\" >-0.195204</td>\n",
              "      <td id=\"T_7e2de_row12_col9\" class=\"data row12 col9\" >-0.004316</td>\n",
              "      <td id=\"T_7e2de_row12_col10\" class=\"data row12 col10\" >-0.012623</td>\n",
              "      <td id=\"T_7e2de_row12_col11\" class=\"data row12 col11\" >-0.526964</td>\n",
              "      <td id=\"T_7e2de_row12_col12\" class=\"data row12 col12\" >1.000000</td>\n",
              "    </tr>\n",
              "  </tbody>\n",
              "</table>\n"
            ],
            "text/plain": [
              "<pandas.io.formats.style.Styler at 0x7f86b8ae5390>"
            ]
          },
          "execution_count": 74,
          "metadata": {},
          "output_type": "execute_result"
        }
      ],
      "source": [
        "# check relationship between all feature\n",
        "\n",
        "X = pd.get_dummies(data).corr()\n",
        "X.style.background_gradient(cmap='coolwarm')"
      ]
    },
    {
      "cell_type": "markdown",
      "metadata": {
        "id": "5ALUTxqdj8pp"
      },
      "source": [
        "---\n",
        "Statement:\n",
        "\n",
        "Berdasarakan cmap kita melihat Target memiliki hubungan yang tidak terlalu besar dengan semua kolom. Hubungan yang cukup kuat ( <= -0.1 atau >0.1) adalah dengan kolom __'age', 'ejection_fraction', 'serum_creatine', 'serum_sodium', dan 'time'__."
      ]
    },
    {
      "cell_type": "code",
      "execution_count": 75,
      "metadata": {
        "colab": {
          "base_uri": "https://localhost:8080/"
        },
        "id": "ckbTqLWVXQkJ",
        "outputId": "916d7a74-e5a7-48b0-d8d7-8c3d016973a8"
      },
      "outputs": [
        {
          "data": {
            "text/plain": [
              "Index(['age', 'anemia', 'creatinine_phosphokinase', 'diabetes',\n",
              "       'ejection_fraction', 'high_blood_pressure', 'platelets',\n",
              "       'serum_creatinine', 'serum_sodium', 'sex', 'smoking', 'time',\n",
              "       'DEATH_EVENT'],\n",
              "      dtype='object')"
            ]
          },
          "execution_count": 75,
          "metadata": {},
          "output_type": "execute_result"
        }
      ],
      "source": [
        "# show columns\n",
        "\n",
        "data.columns"
      ]
    },
    {
      "cell_type": "code",
      "execution_count": 76,
      "metadata": {
        "id": "0ZHQN8H7jI65"
      },
      "outputs": [],
      "source": [
        "# spliting dataset for EDA visualisation\n",
        "\n",
        "dat_cat = ['anemia','diabetes','high_blood_pressure','sex', 'smoking']\n",
        "dat_num = ['age', 'creatinine_phosphokinase', 'ejection_fraction', 'platelets', 'serum_creatinine', 'serum_sodium', 'time']\n",
        "dat_target = ['DEATH_EVENT']"
      ]
    },
    {
      "cell_type": "code",
      "execution_count": 77,
      "metadata": {
        "colab": {
          "base_uri": "https://localhost:8080/",
          "height": 826
        },
        "id": "tk0GStZtXUzO",
        "outputId": "9ef7bc87-e8c2-43f6-a3ae-d97e3ae4ae14"
      },
      "outputs": [
        {
          "name": "stderr",
          "output_type": "stream",
          "text": [
            "/usr/local/lib/python3.7/dist-packages/seaborn/_decorators.py:43: FutureWarning: Pass the following variable as a keyword arg: x. From version 0.12, the only valid positional argument will be `data`, and passing other arguments without an explicit keyword will result in an error or misinterpretation.\n",
            "  FutureWarning\n",
            "/usr/local/lib/python3.7/dist-packages/seaborn/_decorators.py:43: FutureWarning: Pass the following variable as a keyword arg: x. From version 0.12, the only valid positional argument will be `data`, and passing other arguments without an explicit keyword will result in an error or misinterpretation.\n",
            "  FutureWarning\n",
            "/usr/local/lib/python3.7/dist-packages/seaborn/_decorators.py:43: FutureWarning: Pass the following variable as a keyword arg: x. From version 0.12, the only valid positional argument will be `data`, and passing other arguments without an explicit keyword will result in an error or misinterpretation.\n",
            "  FutureWarning\n",
            "/usr/local/lib/python3.7/dist-packages/seaborn/_decorators.py:43: FutureWarning: Pass the following variable as a keyword arg: x. From version 0.12, the only valid positional argument will be `data`, and passing other arguments without an explicit keyword will result in an error or misinterpretation.\n",
            "  FutureWarning\n",
            "/usr/local/lib/python3.7/dist-packages/seaborn/_decorators.py:43: FutureWarning: Pass the following variable as a keyword arg: x. From version 0.12, the only valid positional argument will be `data`, and passing other arguments without an explicit keyword will result in an error or misinterpretation.\n",
            "  FutureWarning\n"
          ]
        },
        {
          "data": {
            "image/png": "[encoded data removed]",
            "text/plain": [
              "<Figure size 1080x720 with 5 Axes>"
            ]
          },
          "metadata": {
            "needs_background": "light"
          },
          "output_type": "display_data"
        }
      ],
      "source": [
        "# relationship between categorical column and DEATH_EVENT\n",
        "\n",
        "fig, ax = plt.subplots(nrows = 3,ncols = 2,figsize = (15,10))\n",
        "for i in range(len(dat_cat)):\n",
        "    plt.subplot(2,3,i+1)\n",
        "    sns.countplot(dat_cat[i],data = data,hue = \"DEATH_EVENT\",palette = 'husl',edgecolor = 'black')\n",
        "    title = dat_cat[i] + ' vs DEATH_EVENT'\n",
        "    plt.title(title);\n"
      ]
    },
    {
      "cell_type": "markdown",
      "metadata": {
        "id": "HJ6ygCfSbibe"
      },
      "source": [
        "---\n",
        "Statement:\n",
        "\n",
        "- Pasien dengan negatif anemia, diabetes, high blood pressure, dan smoking mengalami tingkat kematian akibat gagal jantung yang lebih rendah dibandingkan pasien yang positif anemia, diabetes, high blood pressure, dan smoking. Hubungan antara ke 4 kolom tersebut dengan kematian akibat gagal jantung adalah negatif.\n",
        "\n",
        "- Pasien pria yang meninggal akibat gagal jantung lebih banyak daripada pasien wanita."
      ]
    },
    {
      "cell_type": "code",
      "execution_count": 78,
      "metadata": {
        "colab": {
          "base_uri": "https://localhost:8080/"
        },
        "id": "wvtpvwu1s60K",
        "outputId": "42cedb2c-122f-440e-ff82-bb9645e26c9c"
      },
      "outputs": [
        {
          "data": {
            "text/plain": [
              "Index(['age', 'anemia', 'creatinine_phosphokinase', 'diabetes',\n",
              "       'ejection_fraction', 'high_blood_pressure', 'platelets',\n",
              "       'serum_creatinine', 'serum_sodium', 'sex', 'smoking', 'time',\n",
              "       'DEATH_EVENT'],\n",
              "      dtype='object')"
            ]
          },
          "execution_count": 78,
          "metadata": {},
          "output_type": "execute_result"
        }
      ],
      "source": [
        "# show columns\n",
        "\n",
        "data.columns"
      ]
    },
    {
      "cell_type": "code",
      "execution_count": 79,
      "metadata": {
        "colab": {
          "base_uri": "https://localhost:8080/",
          "height": 1000
        },
        "id": "kq_NUDd85nlw",
        "outputId": "5d5642d9-e6f3-4ad6-ca89-040b5f9f7dc9"
      },
      "outputs": [
        {
          "data": {
            "image/png": "[encoded data removed]",
            "text/plain": [
              "<Figure size 1800x720 with 1 Axes>"
            ]
          },
          "metadata": {
            "needs_background": "light"
          },
          "output_type": "display_data"
        },
        {
          "data": {
            "image/png": "[encoded data removed]",
            "text/plain": [
              "<Figure size 1800x720 with 1 Axes>"
            ]
          },
          "metadata": {
            "needs_background": "light"
          },
          "output_type": "display_data"
        },
        {
          "data": {
            "image/png": "[encoded data removed]",
            "text/plain": [
              "<Figure size 1800x720 with 1 Axes>"
            ]
          },
          "metadata": {
            "needs_background": "light"
          },
          "output_type": "display_data"
        },
        {
          "data": {
            "image/png": "[encoded data removed]",
            "text/plain": [
              "<Figure size 1800x720 with 1 Axes>"
            ]
          },
          "metadata": {
            "needs_background": "light"
          },
          "output_type": "display_data"
        },
        {
          "data": {
            "image/png": "[encoded data removed]",
            "text/plain": [
              "<Figure size 1800x720 with 1 Axes>"
            ]
          },
          "metadata": {
            "needs_background": "light"
          },
          "output_type": "display_data"
        },
        {
          "data": {
            "image/png": "[encoded data removed]",
            "text/plain": [
              "<Figure size 1800x720 with 1 Axes>"
            ]
          },
          "metadata": {
            "needs_background": "light"
          },
          "output_type": "display_data"
        },
        {
          "data": {
            "image/png": "[encoded data removed]",
            "text/plain": [
              "<Figure size 1800x720 with 1 Axes>"
            ]
          },
          "metadata": {
            "needs_background": "light"
          },
          "output_type": "display_data"
        }
      ],
      "source": [
        "# hist age\n",
        "\n",
        "plt.figure(figsize=(25,10))\n",
        "sns.countplot(data=data, x='age', hue='DEATH_EVENT', palette= 'magma')\n",
        "plt.xlabel('age')\n",
        "plt.ylabel('count')\n",
        "plt.title('Age Histogram')\n",
        "\n",
        "# hist creatinine_phosphokinase\n",
        "\n",
        "plt.figure(figsize=(25,10))\n",
        "sns.histplot(data=data, x='creatinine_phosphokinase', hue='DEATH_EVENT', multiple='stack', palette= 'Paired', legend=True)\n",
        "plt.xlabel('creatinine_phosphokinase')\n",
        "plt.ylabel('count')\n",
        "plt.title('Creatinine Phosphokinase Histogram')\n",
        "\n",
        "# hist ejection_fraction\n",
        "plt.figure(figsize=(25,10))\n",
        "sns.countplot(data=data, x='ejection_fraction', hue='DEATH_EVENT', palette='husl')\n",
        "plt.xlabel('ejection_fraction')\n",
        "plt.ylabel('count')\n",
        "plt.title('ejection_fraction Histogram')\n",
        "\n",
        "# hist platelets\n",
        "plt.figure(figsize=(25,10))\n",
        "sns.histplot(data=data, x='platelets', hue='DEATH_EVENT', multiple='stack', palette= 'flare', legend=True)\n",
        "plt.xlabel('age')\n",
        "plt.ylabel('count')\n",
        "plt.title('platelets Histogram')\n",
        "\n",
        "# hist serum_creatinine\n",
        "plt.figure(figsize=(25,10))\n",
        "sns.countplot(data=data, x='serum_creatinine', hue='DEATH_EVENT', palette= 'rocket_r')\n",
        "plt.xlabel('serum_creatinine')\n",
        "plt.ylabel('count')\n",
        "plt.title('Serum Creatinine Histogram')\n",
        "\n",
        "# hist serum_sodium\n",
        "plt.figure(figsize=(25,10))\n",
        "sns.countplot(data=data, x='serum_sodium', hue='DEATH_EVENT', palette= 'crest')\n",
        "plt.xlabel('serum_sodium')\n",
        "plt.ylabel('count')\n",
        "plt.title('Serum Sodium Histogram')\n",
        "\n",
        "# hist time\n",
        "plt.figure(figsize=(25,10))\n",
        "sns.histplot(data=data, x='time', hue='DEATH_EVENT',  multiple='stack', palette= 'cubehelix')\n",
        "plt.xlabel('time')\n",
        "plt.ylabel('count')\n",
        "plt.title('Time Histogram')\n",
        "\n",
        "plt.show()"
      ]
    },
    {
      "cell_type": "markdown",
      "metadata": {
        "id": "a_TUpEZVlRYN"
      },
      "source": [
        "---\n",
        "Statement:\n",
        "- Pasien dengan usia 60 tahun ke atas memiliki tingkat kematian karena gagal jantung yang tinggi. __Nilai dari kolom ini memiliki pengaruh terhapap kolom DEATH EVENT.__\n",
        "- Creatinine Phosphokinase (CPK) adalah enzim yang penting untuk fungsi otot. Nilai normal dari enzim ini adalah 52 - 336 U/L. Histogram memperlihatkan pasien dengan nilai CPK dibawah 600 banyak mengalami kematian karena gagal jantung. __Nilai dari kolom ini tidak terlalu memiliki pengaruh dengan kolom DEATH EVENT.__ \n",
        "- Ejection Fraction mengukur kemampuan jantung memompa darah yang kaya akan oksigen ke tubuh. Jantung yang sehat memiliki nilai Fraction yang tinggi. Nilai Fraction yang rendah menandakan jantung Anda sulit memenuhi kebutuhan darah dan oksigen tubuh. Anda memiliki risiko gagal jantung. Rasio Ejection Fraction dari jantung yang sehat adalah 50-70% darah dari ventrikel kiri jantung terpompa ke tubuh. __Nilai dari kolom ini memiliki pengaruh kepada kolom DEATH EVENT.__\n",
        "- Platelet adalah sel yang beredar pada darah kita dan mengikatkan diri ketika mereka mengenali pembuluh darah yang rusak. Nilai normal dari platelet adalah 150,000 s/d 400,000. Nilai platelet di bawah 150,000 disebut thrombocytosis, dan nilai platelet di atas 400,000 disebut thrombocytopenia. Nilai platelet yang terlalu tinggi dapat menyebabkan struk dan serangan jantung. __Nilai dari kolom ini memiliki pengaruh kepada kolom DEATH EVENT.__\n",
        "- Creatinine Serum adalah level creatinine dalam darah atau urine. Serum ini adalah pembuangan dari aktifitas otot. Nilai normal creatinine serum adalah 0.7-1.3 mg/dL untuk laki-laki dan 0.6-1.1 mg/dL untuk perempuan. Nilai creatinine yang tingi pada darah dan rendah pada urine mengindikasi penyakit ginjal dan juga kegagalan jantung. __Nilai dari kolom ini memiliki pengaruh kepada kolom DEATH EVENT.__\n",
        "- Serum sodium adalah tipe elektrolit (elektrically charged minerals) yang membantu mengontrol jumlah cairan dan menyeimbangkan pH balance (asam dan basa) di tubuh. Rata-rata nilai sodium dalam darah adalah 135-145 miliequivalents per Liter (mEq/L). Serum sodium yang rendah dapat menyebabkan gagal jantung. __Nilai dari kolom ini memiliki pengaruh kepada kolom DEATH EVENT.__\n",
        "- Waktu kujungan selanjutnya memperlihatkan semakin cepat waktu kunjungan berikutnya, semakin besar kematian akibat gagal jantung. __Nilai dari kolom ini memiliki pengaruh kepada kolom DEATH EVENT.__"
      ]
    },
    {
      "cell_type": "markdown",
      "metadata": {
        "id": "xGPET9v3EM7b"
      },
      "source": [
        "Another graph:"
      ]
    },
    {
      "cell_type": "code",
      "execution_count": 80,
      "metadata": {
        "colab": {
          "base_uri": "https://localhost:8080/",
          "height": 968
        },
        "id": "VqgQ7fQDhI78",
        "outputId": "f9cdf176-513d-4a3f-ad27-204dacd17940"
      },
      "outputs": [
        {
          "name": "stderr",
          "output_type": "stream",
          "text": [
            "/usr/local/lib/python3.7/dist-packages/seaborn/categorical.py:1296: UserWarning: 20.2% of the points cannot be placed; you may want to decrease the size of the markers or use stripplot.\n",
            "  warnings.warn(msg, UserWarning)\n",
            "/usr/local/lib/python3.7/dist-packages/seaborn/categorical.py:1296: UserWarning: 17.7% of the points cannot be placed; you may want to decrease the size of the markers or use stripplot.\n",
            "  warnings.warn(msg, UserWarning)\n"
          ]
        },
        {
          "data": {
            "image/png": "[encoded data removed]",
            "text/plain": [
              "<Figure size 1296x1080 with 7 Axes>"
            ]
          },
          "metadata": {
            "needs_background": "light"
          },
          "output_type": "display_data"
        }
      ],
      "source": [
        "# check relationship between numerical columns and DEATH EVENT\n",
        "\n",
        "plt.figure(figsize=(18,15))\n",
        "\n",
        "for i in range(7):\n",
        "  plt.subplot(3,3,i+1)\n",
        "  g = sns.violinplot(data=data, x='DEATH_EVENT', y=dat_num[i])\n",
        "  sns.swarmplot(data=data, x=\"DEATH_EVENT\", y=dat_num[i], color=\"k\", size=3, ax=g)\n",
        "  title = dat_num[i] + ' vs. DEATH EVENT'\n",
        "  plt.title(title)"
      ]
    },
    {
      "cell_type": "code",
      "execution_count": 81,
      "metadata": {
        "colab": {
          "base_uri": "https://localhost:8080/",
          "height": 894
        },
        "id": "ku8lfhwjpa9r",
        "outputId": "5dbb352d-e5f5-4829-fd50-bc7cd58bff18"
      },
      "outputs": [
        {
          "data": {
            "image/png": "[encoded data removed]",
            "text/plain": [
              "<Figure size 1296x1080 with 7 Axes>"
            ]
          },
          "metadata": {
            "needs_background": "light"
          },
          "output_type": "display_data"
        }
      ],
      "source": [
        "# check relationship between numerical columns and DEATH EVENT\n",
        "\n",
        "plt.figure(figsize=(18,15))\n",
        "\n",
        "for i in range(7):\n",
        "  plt.subplot(3,3,i+1)\n",
        "  sns.boxplot(data=data, x='DEATH_EVENT', y=dat_num[i])\n",
        "  title = dat_num[i] + ' vs. DEATH EVENT'\n",
        "  plt.title(title)"
      ]
    },
    {
      "cell_type": "code",
      "execution_count": 82,
      "metadata": {
        "id": "2IH7eydDeURN"
      },
      "outputs": [],
      "source": [
        "# Mencari 2 kolom kategorikal menggunakan chi square:\n",
        "\n",
        "# contingency_table1=pd.crosstab(df['Attrition'],df[\"WorkLifeBalance\"])\n",
        "# contingency_table1\n",
        "\n",
        "# stat, p, dof, expected = stats.chi2_contingency(contingency_table1)\n",
        "# print('p=%.3f' % (p))\n",
        "# if p > 0.05:\n",
        "#     print('Probably independent')\n",
        "# else:\n",
        "#     print('Probably dependent')"
      ]
    },
    {
      "cell_type": "markdown",
      "metadata": {
        "id": "5r1AcXYxZnEJ"
      },
      "source": [
        "---\n",
        "Statement:\n",
        "- Berdasarkan EDA kolom 'age' memiliki hubungan dengan DEATH_EVENT. Pasien dengan usia 60 tahun ke atas memiliki tingkat kematian karena gagal jantung\n",
        "- Berdasarkan EDA kolom 'ejection_fraction' memiliki hubungan dengan DEATH_EVENT. Nilai Fraction yang rendah dari 50-70% menandakan jantung Anda sulit memenuhi kebutuhan darah dan oksigen tubuh. Anda memiliki risiko gagal jantung.\n",
        "- Berdasarkan EDA kolom 'platelets' memiliki hubungan dengan DEATH_EVENT'. Nilai normal adalah 150,000 s/d 400,000. Nilai platelet yang terlalu tinggi dapat menyebabkan struk dan serangan jantung. \n",
        "- Berdasarkan EDA kolom 'serum_creatine' memiliki hubungan dengan DEATH_EVENT. Nilai creatinine yang tingi pada darah dan rendah pada urine mengindikasi penyakit ginjal dan juga kegagalan jantung. Nilai normal creatinine serum adalah 0.7-1.3 mg/dL untuk laki-laki dan 0.6-1.1 mg/dL untuk perempuan.\n",
        "- Berdasarkan EDA kolom 'serum_sodium' memiliki hubungan dengan DEATH_EVENT. Serum sodium yang rendah dapat menyebabkan gagal jantung. Rata-rata nilai sodium dalam darah adalah 135-145 miliequivalents per Liter (mEq/L).  \n",
        "- Berdasarkan EDA kolom 'time' memiliki hubungan dengan DEATH_EVENT'.  Waktu kujungan selanjutnya memperlihatkan semakin cepat waktu kunjungan berikutnya, semakin besar kematian akibat gagal jantung.\n",
        "- __Data Scientist__ melihat adanya __hubungan yang cukup kuat antara 'DEATH EVENT'__ dan __'age', 'ejection_fraction', 'serum_creatine', 'serum_sodium', dan 'time'.__"
      ]
    },
    {
      "cell_type": "markdown",
      "metadata": {
        "id": "nU6dL_w-tDO2"
      },
      "source": [
        "# V. Data Preprocessing"
      ]
    },
    {
      "cell_type": "markdown",
      "metadata": {
        "id": "9QUrZ7bEt0vk"
      },
      "source": [
        "## 1. Get Data for model Inference"
      ]
    },
    {
      "cell_type": "code",
      "execution_count": 83,
      "metadata": {
        "colab": {
          "base_uri": "https://localhost:8080/"
        },
        "id": "7x6-Rw_VknYv",
        "outputId": "1caefac2-9016-4544-a9b6-d1e30da87a46"
      },
      "outputs": [
        {
          "name": "stdout",
          "output_type": "stream",
          "text": [
            "Ukuran data asli : (299, 13)\n",
            "Ukuran data inference : (10, 13)\n",
            "Ukuran data asli - data inference : (289, 13)\n"
          ]
        }
      ],
      "source": [
        "# get data inference\n",
        "data_i = data.sample(10, random_state=30)\n",
        "\n",
        "# remove data inference from dataset\n",
        "data = data.drop(data_i.index)\n",
        "\n",
        "# reset data inf and dataset index\n",
        "data_i.reset_index(drop=True, inplace=True)\n",
        "data.reset_index(drop=True, inplace=True)\n",
        "\n",
        "# check result shape\n",
        "print('Ukuran data asli :',data_o.shape)\n",
        "print('Ukuran data inference :', data_i.shape)\n",
        "print('Ukuran data asli - data inference :', data.shape)"
      ]
    },
    {
      "cell_type": "code",
      "execution_count": 84,
      "metadata": {
        "colab": {
          "base_uri": "https://localhost:8080/",
          "height": 206
        },
        "id": "SF0OLry9lZnP",
        "outputId": "95bedc7d-1d55-4973-e701-8aa4156fb7aa"
      },
      "outputs": [
        {
          "data": {
            "text/html": [
              "\n",
              "  <div id=\"df-8f220549-1ad5-4785-ab88-124453a446f4\">\n",
              "    <div class=\"colab-df-container\">\n",
              "      <div>\n",
              "<style scoped>\n",
              "    .dataframe tbody tr th:only-of-type {\n",
              "        vertical-align: middle;\n",
              "    }\n",
              "\n",
              "    .dataframe tbody tr th {\n",
              "        vertical-align: top;\n",
              "    }\n",
              "\n",
              "    .dataframe thead th {\n",
              "        text-align: right;\n",
              "    }\n",
              "</style>\n",
              "<table border=\"1\" class=\"dataframe\">\n",
              "  <thead>\n",
              "    <tr style=\"text-align: right;\">\n",
              "      <th></th>\n",
              "      <th>age</th>\n",
              "      <th>anemia</th>\n",
              "      <th>creatinine_phosphokinase</th>\n",
              "      <th>diabetes</th>\n",
              "      <th>ejection_fraction</th>\n",
              "      <th>high_blood_pressure</th>\n",
              "      <th>platelets</th>\n",
              "      <th>serum_creatinine</th>\n",
              "      <th>serum_sodium</th>\n",
              "      <th>sex</th>\n",
              "      <th>smoking</th>\n",
              "      <th>time</th>\n",
              "      <th>DEATH_EVENT</th>\n",
              "    </tr>\n",
              "  </thead>\n",
              "  <tbody>\n",
              "    <tr>\n",
              "      <th>0</th>\n",
              "      <td>72</td>\n",
              "      <td>0</td>\n",
              "      <td>211</td>\n",
              "      <td>0</td>\n",
              "      <td>25</td>\n",
              "      <td>0</td>\n",
              "      <td>274000.0</td>\n",
              "      <td>1.2</td>\n",
              "      <td>134</td>\n",
              "      <td>0</td>\n",
              "      <td>0</td>\n",
              "      <td>207</td>\n",
              "      <td>0</td>\n",
              "    </tr>\n",
              "    <tr>\n",
              "      <th>1</th>\n",
              "      <td>42</td>\n",
              "      <td>0</td>\n",
              "      <td>64</td>\n",
              "      <td>0</td>\n",
              "      <td>40</td>\n",
              "      <td>0</td>\n",
              "      <td>189000.0</td>\n",
              "      <td>0.7</td>\n",
              "      <td>140</td>\n",
              "      <td>1</td>\n",
              "      <td>0</td>\n",
              "      <td>245</td>\n",
              "      <td>0</td>\n",
              "    </tr>\n",
              "    <tr>\n",
              "      <th>2</th>\n",
              "      <td>49</td>\n",
              "      <td>0</td>\n",
              "      <td>972</td>\n",
              "      <td>1</td>\n",
              "      <td>35</td>\n",
              "      <td>1</td>\n",
              "      <td>268000.0</td>\n",
              "      <td>0.8</td>\n",
              "      <td>130</td>\n",
              "      <td>0</td>\n",
              "      <td>0</td>\n",
              "      <td>187</td>\n",
              "      <td>0</td>\n",
              "    </tr>\n",
              "    <tr>\n",
              "      <th>3</th>\n",
              "      <td>59</td>\n",
              "      <td>1</td>\n",
              "      <td>176</td>\n",
              "      <td>1</td>\n",
              "      <td>25</td>\n",
              "      <td>0</td>\n",
              "      <td>221000.0</td>\n",
              "      <td>1.0</td>\n",
              "      <td>136</td>\n",
              "      <td>1</td>\n",
              "      <td>1</td>\n",
              "      <td>150</td>\n",
              "      <td>1</td>\n",
              "    </tr>\n",
              "    <tr>\n",
              "      <th>4</th>\n",
              "      <td>58</td>\n",
              "      <td>0</td>\n",
              "      <td>132</td>\n",
              "      <td>1</td>\n",
              "      <td>38</td>\n",
              "      <td>1</td>\n",
              "      <td>253000.0</td>\n",
              "      <td>1.0</td>\n",
              "      <td>139</td>\n",
              "      <td>1</td>\n",
              "      <td>0</td>\n",
              "      <td>230</td>\n",
              "      <td>0</td>\n",
              "    </tr>\n",
              "  </tbody>\n",
              "</table>\n",
              "</div>\n",
              "      <button class=\"colab-df-convert\" onclick=\"convertToInteractive('df-8f220549-1ad5-4785-ab88-124453a446f4')\"\n",
              "              title=\"Convert this dataframe to an interactive table.\"\n",
              "              style=\"display:none;\">\n",
              "        \n",
              "  <svg xmlns=\"http://www.w3.org/2000/svg\" height=\"24px\"viewBox=\"0 0 24 24\"\n",
              "       width=\"24px\">\n",
              "    <path d=\"M0 0h24v24H0V0z\" fill=\"none\"/>\n",
              "    <path d=\"M18.56 5.44l.94 2.06.94-2.06 2.06-.94-2.06-.94-.94-2.06-.94 2.06-2.06.94zm-11 1L8.5 8.5l.94-2.06 2.06-.94-2.06-.94L8.5 2.5l-.94 2.06-2.06.94zm10 10l.94 2.06.94-2.06 2.06-.94-2.06-.94-.94-2.06-.94 2.06-2.06.94z\"/><path d=\"M17.41 7.96l-1.37-1.37c-.4-.4-.92-.59-1.43-.59-.52 0-1.04.2-1.43.59L10.3 9.45l-7.72 7.72c-.78.78-.78 2.05 0 2.83L4 21.41c.39.39.9.59 1.41.59.51 0 1.02-.2 1.41-.59l7.78-7.78 2.81-2.81c.8-.78.8-2.07 0-2.86zM5.41 20L4 18.59l7.72-7.72 1.47 1.35L5.41 20z\"/>\n",
              "  </svg>\n",
              "      </button>\n",
              "      \n",
              "  <style>\n",
              "    .colab-df-container {\n",
              "      display:flex;\n",
              "      flex-wrap:wrap;\n",
              "      gap: 12px;\n",
              "    }\n",
              "\n",
              "    .colab-df-convert {\n",
              "      background-color: #E8F0FE;\n",
              "      border: none;\n",
              "      border-radius: 50%;\n",
              "      cursor: pointer;\n",
              "      display: none;\n",
              "      fill: #1967D2;\n",
              "      height: 32px;\n",
              "      padding: 0 0 0 0;\n",
              "      width: 32px;\n",
              "    }\n",
              "\n",
              "    .colab-df-convert:hover {\n",
              "      background-color: #E2EBFA;\n",
              "      box-shadow: 0px 1px 2px rgba(60, 64, 67, 0.3), 0px 1px 3px 1px rgba(60, 64, 67, 0.15);\n",
              "      fill: #174EA6;\n",
              "    }\n",
              "\n",
              "    [theme=dark] .colab-df-convert {\n",
              "      background-color: #3B4455;\n",
              "      fill: #D2E3FC;\n",
              "    }\n",
              "\n",
              "    [theme=dark] .colab-df-convert:hover {\n",
              "      background-color: #434B5C;\n",
              "      box-shadow: 0px 1px 3px 1px rgba(0, 0, 0, 0.15);\n",
              "      filter: drop-shadow(0px 1px 2px rgba(0, 0, 0, 0.3));\n",
              "      fill: #FFFFFF;\n",
              "    }\n",
              "  </style>\n",
              "\n",
              "      <script>\n",
              "        const buttonEl =\n",
              "          document.querySelector('#df-8f220549-1ad5-4785-ab88-124453a446f4 button.colab-df-convert');\n",
              "        buttonEl.style.display =\n",
              "          google.colab.kernel.accessAllowed ? 'block' : 'none';\n",
              "\n",
              "        async function convertToInteractive(key) {\n",
              "          const element = document.querySelector('#df-8f220549-1ad5-4785-ab88-124453a446f4');\n",
              "          const dataTable =\n",
              "            await google.colab.kernel.invokeFunction('convertToInteractive',\n",
              "                                                     [key], {});\n",
              "          if (!dataTable) return;\n",
              "\n",
              "          const docLinkHtml = 'Like what you see? Visit the ' +\n",
              "            '<a target=\"_blank\" href=https://colab.research.google.com/notebooks/data_table.ipynb>data table notebook</a>'\n",
              "            + ' to learn more about interactive tables.';\n",
              "          element.innerHTML = '';\n",
              "          dataTable['output_type'] = 'display_data';\n",
              "          await google.colab.output.renderOutput(dataTable, element);\n",
              "          const docLink = document.createElement('div');\n",
              "          docLink.innerHTML = docLinkHtml;\n",
              "          element.appendChild(docLink);\n",
              "        }\n",
              "      </script>\n",
              "    </div>\n",
              "  </div>\n",
              "  "
            ],
            "text/plain": [
              "   age  anemia  creatinine_phosphokinase  diabetes  ejection_fraction  \\\n",
              "0   72       0                       211         0                 25   \n",
              "1   42       0                        64         0                 40   \n",
              "2   49       0                       972         1                 35   \n",
              "3   59       1                       176         1                 25   \n",
              "4   58       0                       132         1                 38   \n",
              "\n",
              "   high_blood_pressure  platelets  serum_creatinine  serum_sodium  sex  \\\n",
              "0                    0   274000.0               1.2           134    0   \n",
              "1                    0   189000.0               0.7           140    1   \n",
              "2                    1   268000.0               0.8           130    0   \n",
              "3                    0   221000.0               1.0           136    1   \n",
              "4                    1   253000.0               1.0           139    1   \n",
              "\n",
              "   smoking  time  DEATH_EVENT  \n",
              "0        0   207            0  \n",
              "1        0   245            0  \n",
              "2        0   187            0  \n",
              "3        1   150            1  \n",
              "4        0   230            0  "
            ]
          },
          "execution_count": 84,
          "metadata": {},
          "output_type": "execute_result"
        }
      ],
      "source": [
        "# show 5 first data inf\n",
        "data_i.head()"
      ]
    },
    {
      "cell_type": "markdown",
      "metadata": {
        "id": "UponIBjQt0jX"
      },
      "source": [
        "## 2. Splitting Between X and y"
      ]
    },
    {
      "cell_type": "code",
      "execution_count": 85,
      "metadata": {
        "colab": {
          "base_uri": "https://localhost:8080/"
        },
        "id": "geWfoZ6-l2bL",
        "outputId": "dbb41f71-bdb1-4256-ffe1-cfb413af2e4a"
      },
      "outputs": [
        {
          "data": {
            "text/plain": [
              "((289, 12), (289,))"
            ]
          },
          "execution_count": 85,
          "metadata": {},
          "output_type": "execute_result"
        }
      ],
      "source": [
        "# split between X (feature) and y (target)\n",
        "\n",
        "X = data.drop('DEATH_EVENT', axis = 1)\n",
        "y = data['DEATH_EVENT']\n",
        "\n",
        "# check result shape\n",
        "\n",
        "X.shape, y.shape"
      ]
    },
    {
      "cell_type": "code",
      "execution_count": 86,
      "metadata": {
        "colab": {
          "base_uri": "https://localhost:8080/"
        },
        "id": "T4DIy1eemfCb",
        "outputId": "4bff5364-7122-4873-ae7d-bfc704611e3d"
      },
      "outputs": [
        {
          "name": "stdout",
          "output_type": "stream",
          "text": [
            "X_train shape:  (231, 12)\n",
            "X_test shape:  (58, 12)\n",
            "y_train shape:  (231,)\n",
            "y_test shape:  (231,)\n"
          ]
        }
      ],
      "source": [
        "# split between Train and Test\n",
        "\n",
        "X_train, X_test, y_train, y_test = train_test_split(X,y, test_size = 0.2, random_state = 12, stratify=y)\n",
        "\n",
        "# check result shape\n",
        "\n",
        "print('X_train shape: ', X_train.shape)\n",
        "print('X_test shape: ', X_test.shape)\n",
        "print('y_train shape: ', y_train.shape)\n",
        "print('y_test shape: ', y_train.shape)"
      ]
    },
    {
      "cell_type": "code",
      "execution_count": 87,
      "metadata": {
        "id": "GeLD0ZpBL03M"
      },
      "outputs": [],
      "source": [
        "# persebaran data\n",
        "# handling outlier: trimming, capping"
      ]
    },
    {
      "cell_type": "markdown",
      "metadata": {
        "id": "tF-S8HM1t0Wm"
      },
      "source": [
        "## 3. Handling Outliers"
      ]
    },
    {
      "cell_type": "code",
      "execution_count": 88,
      "metadata": {
        "colab": {
          "base_uri": "https://localhost:8080/",
          "height": 300
        },
        "id": "7xmKT-c2nQJo",
        "outputId": "438188d9-2c46-49e7-8bbd-8ddd37535199"
      },
      "outputs": [
        {
          "data": {
            "text/html": [
              "\n",
              "  <div id=\"df-c81b7474-9794-48e0-bcd5-d88ac22346c9\">\n",
              "    <div class=\"colab-df-container\">\n",
              "      <div>\n",
              "<style scoped>\n",
              "    .dataframe tbody tr th:only-of-type {\n",
              "        vertical-align: middle;\n",
              "    }\n",
              "\n",
              "    .dataframe tbody tr th {\n",
              "        vertical-align: top;\n",
              "    }\n",
              "\n",
              "    .dataframe thead th {\n",
              "        text-align: right;\n",
              "    }\n",
              "</style>\n",
              "<table border=\"1\" class=\"dataframe\">\n",
              "  <thead>\n",
              "    <tr style=\"text-align: right;\">\n",
              "      <th></th>\n",
              "      <th>age</th>\n",
              "      <th>anemia</th>\n",
              "      <th>creatinine_phosphokinase</th>\n",
              "      <th>diabetes</th>\n",
              "      <th>ejection_fraction</th>\n",
              "      <th>high_blood_pressure</th>\n",
              "      <th>platelets</th>\n",
              "      <th>serum_creatinine</th>\n",
              "      <th>serum_sodium</th>\n",
              "      <th>sex</th>\n",
              "      <th>smoking</th>\n",
              "      <th>time</th>\n",
              "    </tr>\n",
              "  </thead>\n",
              "  <tbody>\n",
              "    <tr>\n",
              "      <th>count</th>\n",
              "      <td>231.000000</td>\n",
              "      <td>231.000000</td>\n",
              "      <td>231.000000</td>\n",
              "      <td>231.000000</td>\n",
              "      <td>231.000000</td>\n",
              "      <td>231.00000</td>\n",
              "      <td>231.000000</td>\n",
              "      <td>231.000000</td>\n",
              "      <td>231.000000</td>\n",
              "      <td>231.000000</td>\n",
              "      <td>231.000000</td>\n",
              "      <td>231.000000</td>\n",
              "    </tr>\n",
              "    <tr>\n",
              "      <th>mean</th>\n",
              "      <td>61.086580</td>\n",
              "      <td>0.424242</td>\n",
              "      <td>611.112554</td>\n",
              "      <td>0.437229</td>\n",
              "      <td>37.887446</td>\n",
              "      <td>0.34632</td>\n",
              "      <td>267396.617446</td>\n",
              "      <td>1.378398</td>\n",
              "      <td>136.471861</td>\n",
              "      <td>0.627706</td>\n",
              "      <td>0.298701</td>\n",
              "      <td>130.571429</td>\n",
              "    </tr>\n",
              "    <tr>\n",
              "      <th>std</th>\n",
              "      <td>11.804249</td>\n",
              "      <td>0.495301</td>\n",
              "      <td>956.466520</td>\n",
              "      <td>0.497121</td>\n",
              "      <td>12.030952</td>\n",
              "      <td>0.47683</td>\n",
              "      <td>102305.761139</td>\n",
              "      <td>0.849679</td>\n",
              "      <td>4.626750</td>\n",
              "      <td>0.484466</td>\n",
              "      <td>0.458682</td>\n",
              "      <td>78.241782</td>\n",
              "    </tr>\n",
              "    <tr>\n",
              "      <th>min</th>\n",
              "      <td>40.000000</td>\n",
              "      <td>0.000000</td>\n",
              "      <td>23.000000</td>\n",
              "      <td>0.000000</td>\n",
              "      <td>14.000000</td>\n",
              "      <td>0.00000</td>\n",
              "      <td>25100.000000</td>\n",
              "      <td>0.500000</td>\n",
              "      <td>113.000000</td>\n",
              "      <td>0.000000</td>\n",
              "      <td>0.000000</td>\n",
              "      <td>4.000000</td>\n",
              "    </tr>\n",
              "    <tr>\n",
              "      <th>25%</th>\n",
              "      <td>52.000000</td>\n",
              "      <td>0.000000</td>\n",
              "      <td>116.500000</td>\n",
              "      <td>0.000000</td>\n",
              "      <td>30.000000</td>\n",
              "      <td>0.00000</td>\n",
              "      <td>216500.000000</td>\n",
              "      <td>0.900000</td>\n",
              "      <td>134.000000</td>\n",
              "      <td>0.000000</td>\n",
              "      <td>0.000000</td>\n",
              "      <td>72.500000</td>\n",
              "    </tr>\n",
              "    <tr>\n",
              "      <th>50%</th>\n",
              "      <td>60.000000</td>\n",
              "      <td>0.000000</td>\n",
              "      <td>280.000000</td>\n",
              "      <td>0.000000</td>\n",
              "      <td>38.000000</td>\n",
              "      <td>0.00000</td>\n",
              "      <td>263358.030000</td>\n",
              "      <td>1.100000</td>\n",
              "      <td>137.000000</td>\n",
              "      <td>1.000000</td>\n",
              "      <td>0.000000</td>\n",
              "      <td>113.000000</td>\n",
              "    </tr>\n",
              "    <tr>\n",
              "      <th>75%</th>\n",
              "      <td>70.000000</td>\n",
              "      <td>1.000000</td>\n",
              "      <td>582.000000</td>\n",
              "      <td>1.000000</td>\n",
              "      <td>45.000000</td>\n",
              "      <td>1.00000</td>\n",
              "      <td>302000.000000</td>\n",
              "      <td>1.500000</td>\n",
              "      <td>139.000000</td>\n",
              "      <td>1.000000</td>\n",
              "      <td>1.000000</td>\n",
              "      <td>203.000000</td>\n",
              "    </tr>\n",
              "    <tr>\n",
              "      <th>max</th>\n",
              "      <td>95.000000</td>\n",
              "      <td>1.000000</td>\n",
              "      <td>7861.000000</td>\n",
              "      <td>1.000000</td>\n",
              "      <td>80.000000</td>\n",
              "      <td>1.00000</td>\n",
              "      <td>850000.000000</td>\n",
              "      <td>6.800000</td>\n",
              "      <td>146.000000</td>\n",
              "      <td>1.000000</td>\n",
              "      <td>1.000000</td>\n",
              "      <td>285.000000</td>\n",
              "    </tr>\n",
              "  </tbody>\n",
              "</table>\n",
              "</div>\n",
              "      <button class=\"colab-df-convert\" onclick=\"convertToInteractive('df-c81b7474-9794-48e0-bcd5-d88ac22346c9')\"\n",
              "              title=\"Convert this dataframe to an interactive table.\"\n",
              "              style=\"display:none;\">\n",
              "        \n",
              "  <svg xmlns=\"http://www.w3.org/2000/svg\" height=\"24px\"viewBox=\"0 0 24 24\"\n",
              "       width=\"24px\">\n",
              "    <path d=\"M0 0h24v24H0V0z\" fill=\"none\"/>\n",
              "    <path d=\"M18.56 5.44l.94 2.06.94-2.06 2.06-.94-2.06-.94-.94-2.06-.94 2.06-2.06.94zm-11 1L8.5 8.5l.94-2.06 2.06-.94-2.06-.94L8.5 2.5l-.94 2.06-2.06.94zm10 10l.94 2.06.94-2.06 2.06-.94-2.06-.94-.94-2.06-.94 2.06-2.06.94z\"/><path d=\"M17.41 7.96l-1.37-1.37c-.4-.4-.92-.59-1.43-.59-.52 0-1.04.2-1.43.59L10.3 9.45l-7.72 7.72c-.78.78-.78 2.05 0 2.83L4 21.41c.39.39.9.59 1.41.59.51 0 1.02-.2 1.41-.59l7.78-7.78 2.81-2.81c.8-.78.8-2.07 0-2.86zM5.41 20L4 18.59l7.72-7.72 1.47 1.35L5.41 20z\"/>\n",
              "  </svg>\n",
              "      </button>\n",
              "      \n",
              "  <style>\n",
              "    .colab-df-container {\n",
              "      display:flex;\n",
              "      flex-wrap:wrap;\n",
              "      gap: 12px;\n",
              "    }\n",
              "\n",
              "    .colab-df-convert {\n",
              "      background-color: #E8F0FE;\n",
              "      border: none;\n",
              "      border-radius: 50%;\n",
              "      cursor: pointer;\n",
              "      display: none;\n",
              "      fill: #1967D2;\n",
              "      height: 32px;\n",
              "      padding: 0 0 0 0;\n",
              "      width: 32px;\n",
              "    }\n",
              "\n",
              "    .colab-df-convert:hover {\n",
              "      background-color: #E2EBFA;\n",
              "      box-shadow: 0px 1px 2px rgba(60, 64, 67, 0.3), 0px 1px 3px 1px rgba(60, 64, 67, 0.15);\n",
              "      fill: #174EA6;\n",
              "    }\n",
              "\n",
              "    [theme=dark] .colab-df-convert {\n",
              "      background-color: #3B4455;\n",
              "      fill: #D2E3FC;\n",
              "    }\n",
              "\n",
              "    [theme=dark] .colab-df-convert:hover {\n",
              "      background-color: #434B5C;\n",
              "      box-shadow: 0px 1px 3px 1px rgba(0, 0, 0, 0.15);\n",
              "      filter: drop-shadow(0px 1px 2px rgba(0, 0, 0, 0.3));\n",
              "      fill: #FFFFFF;\n",
              "    }\n",
              "  </style>\n",
              "\n",
              "      <script>\n",
              "        const buttonEl =\n",
              "          document.querySelector('#df-c81b7474-9794-48e0-bcd5-d88ac22346c9 button.colab-df-convert');\n",
              "        buttonEl.style.display =\n",
              "          google.colab.kernel.accessAllowed ? 'block' : 'none';\n",
              "\n",
              "        async function convertToInteractive(key) {\n",
              "          const element = document.querySelector('#df-c81b7474-9794-48e0-bcd5-d88ac22346c9');\n",
              "          const dataTable =\n",
              "            await google.colab.kernel.invokeFunction('convertToInteractive',\n",
              "                                                     [key], {});\n",
              "          if (!dataTable) return;\n",
              "\n",
              "          const docLinkHtml = 'Like what you see? Visit the ' +\n",
              "            '<a target=\"_blank\" href=https://colab.research.google.com/notebooks/data_table.ipynb>data table notebook</a>'\n",
              "            + ' to learn more about interactive tables.';\n",
              "          element.innerHTML = '';\n",
              "          dataTable['output_type'] = 'display_data';\n",
              "          await google.colab.output.renderOutput(dataTable, element);\n",
              "          const docLink = document.createElement('div');\n",
              "          docLink.innerHTML = docLinkHtml;\n",
              "          element.appendChild(docLink);\n",
              "        }\n",
              "      </script>\n",
              "    </div>\n",
              "  </div>\n",
              "  "
            ],
            "text/plain": [
              "              age      anemia  creatinine_phosphokinase    diabetes  \\\n",
              "count  231.000000  231.000000                231.000000  231.000000   \n",
              "mean    61.086580    0.424242                611.112554    0.437229   \n",
              "std     11.804249    0.495301                956.466520    0.497121   \n",
              "min     40.000000    0.000000                 23.000000    0.000000   \n",
              "25%     52.000000    0.000000                116.500000    0.000000   \n",
              "50%     60.000000    0.000000                280.000000    0.000000   \n",
              "75%     70.000000    1.000000                582.000000    1.000000   \n",
              "max     95.000000    1.000000               7861.000000    1.000000   \n",
              "\n",
              "       ejection_fraction  high_blood_pressure      platelets  \\\n",
              "count         231.000000            231.00000     231.000000   \n",
              "mean           37.887446              0.34632  267396.617446   \n",
              "std            12.030952              0.47683  102305.761139   \n",
              "min            14.000000              0.00000   25100.000000   \n",
              "25%            30.000000              0.00000  216500.000000   \n",
              "50%            38.000000              0.00000  263358.030000   \n",
              "75%            45.000000              1.00000  302000.000000   \n",
              "max            80.000000              1.00000  850000.000000   \n",
              "\n",
              "       serum_creatinine  serum_sodium         sex     smoking        time  \n",
              "count        231.000000    231.000000  231.000000  231.000000  231.000000  \n",
              "mean           1.378398    136.471861    0.627706    0.298701  130.571429  \n",
              "std            0.849679      4.626750    0.484466    0.458682   78.241782  \n",
              "min            0.500000    113.000000    0.000000    0.000000    4.000000  \n",
              "25%            0.900000    134.000000    0.000000    0.000000   72.500000  \n",
              "50%            1.100000    137.000000    1.000000    0.000000  113.000000  \n",
              "75%            1.500000    139.000000    1.000000    1.000000  203.000000  \n",
              "max            6.800000    146.000000    1.000000    1.000000  285.000000  "
            ]
          },
          "execution_count": 88,
          "metadata": {},
          "output_type": "execute_result"
        }
      ],
      "source": [
        "# see outlier from X_train description\n",
        "\n",
        "X_train.describe()"
      ]
    },
    {
      "cell_type": "code",
      "execution_count": 89,
      "metadata": {
        "id": "5DKZ7xdkdMj2"
      },
      "outputs": [],
      "source": [
        "# make function to see histogram and distribution\n",
        "\n",
        "def plot(X_train, variable):\n",
        "    #define figure size\n",
        "    plt.figure(figsize=(16,5))\n",
        "    \n",
        "    #Hist\n",
        "    plt.subplot(1, 2, 1)\n",
        "    sns.histplot(X_train[variable], bins=25)\n",
        "    plt.title('Histogram')\n",
        "    \n",
        "    #boxplot\n",
        "    plt.subplot(1, 2, 2)\n",
        "    sns.boxplot(y= X_train[variable])\n",
        "    plt. title('Boxplot')\n",
        "    \n",
        "    plt.show()\n",
        "    \n",
        "    print('skewness:', X_train[variable].skew())\n",
        "    if (X_train[variable].skew() >= -0.5 ) | (X_train[variable].skew() <= 0.5):\n",
        "        print('distribution is skew')\n",
        "    else:\n",
        "        print('distibution is normal')"
      ]
    },
    {
      "cell_type": "code",
      "execution_count": 90,
      "metadata": {
        "colab": {
          "base_uri": "https://localhost:8080/",
          "height": 1000
        },
        "id": "FbwT25-FGAZm",
        "outputId": "3f71d1c4-ad69-4dce-df67-3a67e2262b1c"
      },
      "outputs": [
        {
          "data": {
            "image/png": "[encoded data removed]",
            "text/plain": [
              "<Figure size 1152x360 with 2 Axes>"
            ]
          },
          "metadata": {
            "needs_background": "light"
          },
          "output_type": "display_data"
        },
        {
          "name": "stdout",
          "output_type": "stream",
          "text": [
            "skewness: 0.3839199065708694\n",
            "distribution is skew\n"
          ]
        },
        {
          "data": {
            "image/png": "[encoded data removed]",
            "text/plain": [
              "<Figure size 1152x360 with 2 Axes>"
            ]
          },
          "metadata": {
            "needs_background": "light"
          },
          "output_type": "display_data"
        },
        {
          "name": "stdout",
          "output_type": "stream",
          "text": [
            "skewness: 4.072386900934546\n",
            "distribution is skew\n"
          ]
        },
        {
          "data": {
            "image/png": "[encoded data removed]",
            "text/plain": [
              "<Figure size 1152x360 with 2 Axes>"
            ]
          },
          "metadata": {
            "needs_background": "light"
          },
          "output_type": "display_data"
        },
        {
          "name": "stdout",
          "output_type": "stream",
          "text": [
            "skewness: 0.5101590048140282\n",
            "distribution is skew\n"
          ]
        },
        {
          "data": {
            "image/png": "[encoded data removed]",
            "text/plain": [
              "<Figure size 1152x360 with 2 Axes>"
            ]
          },
          "metadata": {
            "needs_background": "light"
          },
          "output_type": "display_data"
        },
        {
          "name": "stdout",
          "output_type": "stream",
          "text": [
            "skewness: 1.6028146116734292\n",
            "distribution is skew\n"
          ]
        },
        {
          "data": {
            "image/png": "[encoded data removed]",
            "text/plain": [
              "<Figure size 1152x360 with 2 Axes>"
            ]
          },
          "metadata": {
            "needs_background": "light"
          },
          "output_type": "display_data"
        },
        {
          "name": "stdout",
          "output_type": "stream",
          "text": [
            "skewness: 3.3020372297709972\n",
            "distribution is skew\n"
          ]
        },
        {
          "data": {
            "image/png": "[encoded data removed]",
            "text/plain": [
              "<Figure size 1152x360 with 2 Axes>"
            ]
          },
          "metadata": {
            "needs_background": "light"
          },
          "output_type": "display_data"
        },
        {
          "name": "stdout",
          "output_type": "stream",
          "text": [
            "skewness: -1.1439192494189445\n",
            "distribution is skew\n"
          ]
        },
        {
          "data": {
            "image/png": "[encoded data removed]",
            "text/plain": [
              "<Figure size 1152x360 with 2 Axes>"
            ]
          },
          "metadata": {
            "needs_background": "light"
          },
          "output_type": "display_data"
        },
        {
          "name": "stdout",
          "output_type": "stream",
          "text": [
            "skewness: 0.13603729134766226\n",
            "distribution is skew\n"
          ]
        }
      ],
      "source": [
        "# memeriksa persebaran data age, creatinine_phosphokinase, ejection_fraction, platelets, serum_creatinine, serum_sodium, waktu\n",
        "\n",
        "plot(X_train, 'age')\n",
        "plot(X_train, 'creatinine_phosphokinase')\n",
        "plot(X_train, 'ejection_fraction')\n",
        "plot(X_train, 'platelets')\n",
        "plot(X_train, 'serum_creatinine')\n",
        "plot(X_train, 'serum_sodium')\n",
        "plot(X_train, 'time')"
      ]
    },
    {
      "cell_type": "markdown",
      "metadata": {
        "id": "-5uDWku5Gshi"
      },
      "source": [
        "---\n",
        "Statement Distribusi:\n",
        "- feature age dan time memiliki distribusi normal.\n",
        "- creatinine_phosphokinase, ejection_fraction, platelets, serum_creatinine memiliki distribusi miring ke kanan.\n",
        "- serum_sodium memiliki distribusi miring ke kiri.\n",
        "\n",
        "Statement Outliers:\n",
        "\n",
        "- Dalam medis nilai creatinine_phosphokinase, ejection_fraction, platelets, serum_creatinine memiliki distribusi miring ke kanan, serum_sodium memiliki memiliki range yang besar yang berguna sebagai indikasi kesehatan seseorang. Oleh karena itu Data Scientist tidak melakukan perubahan terhadap nilai yang ada."
      ]
    },
    {
      "cell_type": "markdown",
      "metadata": {
        "id": "x8bM8nqdt0Kk"
      },
      "source": [
        "## 4. Handling Missing Value"
      ]
    },
    {
      "cell_type": "markdown",
      "metadata": {
        "id": "don_sYCooEFU"
      },
      "source": [
        "Tidak ada missing value yang perlu dihandling."
      ]
    },
    {
      "cell_type": "markdown",
      "metadata": {
        "id": "f_7IwC2RuVQg"
      },
      "source": [
        "## 5. Feature Selection"
      ]
    },
    {
      "cell_type": "markdown",
      "metadata": {
        "id": "jIfu8KUe6ga3"
      },
      "source": [
        "Berdasarkan EDA, data Scientist melihat adanya hubungan yang cukup kuat antara 'DEATH EVENT' dan 'age', 'ejection_fraction', 'serum_creatine', 'serum_sodium', dan 'time'."
      ]
    },
    {
      "cell_type": "markdown",
      "metadata": {
        "id": "NxIzI1Fe6piN"
      },
      "source": [
        "Data Scientist akan melakukan pemeriksaan juga dengan menggunakan feature_importance_ dari Random Forest Classifier."
      ]
    },
    {
      "cell_type": "code",
      "execution_count": 91,
      "metadata": {
        "colab": {
          "base_uri": "https://localhost:8080/"
        },
        "id": "WYGEY1ho2dE-",
        "outputId": "2217d9ac-9ce0-4bdc-a96b-7de185ebc5f5"
      },
      "outputs": [
        {
          "data": {
            "text/plain": [
              "time                        0.350148\n",
              "serum_creatinine            0.153715\n",
              "ejection_fraction           0.131444\n",
              "age                         0.083854\n",
              "platelets                   0.073948\n",
              "creatinine_phosphokinase    0.072658\n",
              "serum_sodium                0.071869\n",
              "diabetes                    0.014907\n",
              "high_blood_pressure         0.013422\n",
              "smoking                     0.012594\n",
              "sex                         0.010858\n",
              "anemia                      0.010584\n",
              "dtype: float64"
            ]
          },
          "execution_count": 91,
          "metadata": {},
          "output_type": "execute_result"
        }
      ],
      "source": [
        "# define classifier\n",
        "featimp = RandomForestClassifier()\n",
        "\n",
        "# fit to the data\n",
        "featimp.fit(X_train,y_train)\n",
        "\n",
        "# make series\n",
        "score_per_column = pd.Series(featimp.feature_importances_, index=X_train.columns)\n",
        "score_per_column.sort_values(ascending=False)"
      ]
    },
    {
      "cell_type": "markdown",
      "metadata": {
        "id": "wJjmgWnD78hj"
      },
      "source": [
        "Kita akan memakai feature 'age', 'ejection_fraction', 'serum_creatine', 'serum_sodium', dan 'time'."
      ]
    },
    {
      "cell_type": "code",
      "execution_count": 29,
      "metadata": {
        "colab": {
          "base_uri": "https://localhost:8080/",
          "height": 206
        },
        "id": "jMKeZ3BxZbfq",
        "outputId": "88c953a0-9fea-4a15-dadc-c404eaa97605"
      },
      "outputs": [
        {
          "data": {
            "text/html": [
              "\n",
              "  <div id=\"df-fe65c3bc-0e81-4d0c-9ad0-4bf814fb8dbf\">\n",
              "    <div class=\"colab-df-container\">\n",
              "      <div>\n",
              "<style scoped>\n",
              "    .dataframe tbody tr th:only-of-type {\n",
              "        vertical-align: middle;\n",
              "    }\n",
              "\n",
              "    .dataframe tbody tr th {\n",
              "        vertical-align: top;\n",
              "    }\n",
              "\n",
              "    .dataframe thead th {\n",
              "        text-align: right;\n",
              "    }\n",
              "</style>\n",
              "<table border=\"1\" class=\"dataframe\">\n",
              "  <thead>\n",
              "    <tr style=\"text-align: right;\">\n",
              "      <th></th>\n",
              "      <th>age</th>\n",
              "      <th>anemia</th>\n",
              "      <th>creatinine_phosphokinase</th>\n",
              "      <th>diabetes</th>\n",
              "      <th>ejection_fraction</th>\n",
              "      <th>high_blood_pressure</th>\n",
              "      <th>platelets</th>\n",
              "      <th>serum_creatinine</th>\n",
              "      <th>serum_sodium</th>\n",
              "      <th>sex</th>\n",
              "      <th>smoking</th>\n",
              "      <th>time</th>\n",
              "    </tr>\n",
              "  </thead>\n",
              "  <tbody>\n",
              "    <tr>\n",
              "      <th>175</th>\n",
              "      <td>45</td>\n",
              "      <td>1</td>\n",
              "      <td>1876</td>\n",
              "      <td>1</td>\n",
              "      <td>35</td>\n",
              "      <td>0</td>\n",
              "      <td>226000.0</td>\n",
              "      <td>0.9</td>\n",
              "      <td>138</td>\n",
              "      <td>1</td>\n",
              "      <td>0</td>\n",
              "      <td>88</td>\n",
              "    </tr>\n",
              "    <tr>\n",
              "      <th>144</th>\n",
              "      <td>64</td>\n",
              "      <td>0</td>\n",
              "      <td>143</td>\n",
              "      <td>0</td>\n",
              "      <td>25</td>\n",
              "      <td>0</td>\n",
              "      <td>246000.0</td>\n",
              "      <td>2.4</td>\n",
              "      <td>135</td>\n",
              "      <td>1</td>\n",
              "      <td>0</td>\n",
              "      <td>214</td>\n",
              "    </tr>\n",
              "    <tr>\n",
              "      <th>84</th>\n",
              "      <td>45</td>\n",
              "      <td>0</td>\n",
              "      <td>615</td>\n",
              "      <td>1</td>\n",
              "      <td>55</td>\n",
              "      <td>0</td>\n",
              "      <td>222000.0</td>\n",
              "      <td>0.8</td>\n",
              "      <td>141</td>\n",
              "      <td>0</td>\n",
              "      <td>0</td>\n",
              "      <td>257</td>\n",
              "    </tr>\n",
              "    <tr>\n",
              "      <th>66</th>\n",
              "      <td>65</td>\n",
              "      <td>1</td>\n",
              "      <td>720</td>\n",
              "      <td>1</td>\n",
              "      <td>40</td>\n",
              "      <td>0</td>\n",
              "      <td>257000.0</td>\n",
              "      <td>1.0</td>\n",
              "      <td>136</td>\n",
              "      <td>0</td>\n",
              "      <td>0</td>\n",
              "      <td>210</td>\n",
              "    </tr>\n",
              "    <tr>\n",
              "      <th>243</th>\n",
              "      <td>85</td>\n",
              "      <td>0</td>\n",
              "      <td>23</td>\n",
              "      <td>0</td>\n",
              "      <td>45</td>\n",
              "      <td>0</td>\n",
              "      <td>360000.0</td>\n",
              "      <td>3.0</td>\n",
              "      <td>132</td>\n",
              "      <td>1</td>\n",
              "      <td>0</td>\n",
              "      <td>28</td>\n",
              "    </tr>\n",
              "  </tbody>\n",
              "</table>\n",
              "</div>\n",
              "      <button class=\"colab-df-convert\" onclick=\"convertToInteractive('df-fe65c3bc-0e81-4d0c-9ad0-4bf814fb8dbf')\"\n",
              "              title=\"Convert this dataframe to an interactive table.\"\n",
              "              style=\"display:none;\">\n",
              "        \n",
              "  <svg xmlns=\"http://www.w3.org/2000/svg\" height=\"24px\"viewBox=\"0 0 24 24\"\n",
              "       width=\"24px\">\n",
              "    <path d=\"M0 0h24v24H0V0z\" fill=\"none\"/>\n",
              "    <path d=\"M18.56 5.44l.94 2.06.94-2.06 2.06-.94-2.06-.94-.94-2.06-.94 2.06-2.06.94zm-11 1L8.5 8.5l.94-2.06 2.06-.94-2.06-.94L8.5 2.5l-.94 2.06-2.06.94zm10 10l.94 2.06.94-2.06 2.06-.94-2.06-.94-.94-2.06-.94 2.06-2.06.94z\"/><path d=\"M17.41 7.96l-1.37-1.37c-.4-.4-.92-.59-1.43-.59-.52 0-1.04.2-1.43.59L10.3 9.45l-7.72 7.72c-.78.78-.78 2.05 0 2.83L4 21.41c.39.39.9.59 1.41.59.51 0 1.02-.2 1.41-.59l7.78-7.78 2.81-2.81c.8-.78.8-2.07 0-2.86zM5.41 20L4 18.59l7.72-7.72 1.47 1.35L5.41 20z\"/>\n",
              "  </svg>\n",
              "      </button>\n",
              "      \n",
              "  <style>\n",
              "    .colab-df-container {\n",
              "      display:flex;\n",
              "      flex-wrap:wrap;\n",
              "      gap: 12px;\n",
              "    }\n",
              "\n",
              "    .colab-df-convert {\n",
              "      background-color: #E8F0FE;\n",
              "      border: none;\n",
              "      border-radius: 50%;\n",
              "      cursor: pointer;\n",
              "      display: none;\n",
              "      fill: #1967D2;\n",
              "      height: 32px;\n",
              "      padding: 0 0 0 0;\n",
              "      width: 32px;\n",
              "    }\n",
              "\n",
              "    .colab-df-convert:hover {\n",
              "      background-color: #E2EBFA;\n",
              "      box-shadow: 0px 1px 2px rgba(60, 64, 67, 0.3), 0px 1px 3px 1px rgba(60, 64, 67, 0.15);\n",
              "      fill: #174EA6;\n",
              "    }\n",
              "\n",
              "    [theme=dark] .colab-df-convert {\n",
              "      background-color: #3B4455;\n",
              "      fill: #D2E3FC;\n",
              "    }\n",
              "\n",
              "    [theme=dark] .colab-df-convert:hover {\n",
              "      background-color: #434B5C;\n",
              "      box-shadow: 0px 1px 3px 1px rgba(0, 0, 0, 0.15);\n",
              "      filter: drop-shadow(0px 1px 2px rgba(0, 0, 0, 0.3));\n",
              "      fill: #FFFFFF;\n",
              "    }\n",
              "  </style>\n",
              "\n",
              "      <script>\n",
              "        const buttonEl =\n",
              "          document.querySelector('#df-fe65c3bc-0e81-4d0c-9ad0-4bf814fb8dbf button.colab-df-convert');\n",
              "        buttonEl.style.display =\n",
              "          google.colab.kernel.accessAllowed ? 'block' : 'none';\n",
              "\n",
              "        async function convertToInteractive(key) {\n",
              "          const element = document.querySelector('#df-fe65c3bc-0e81-4d0c-9ad0-4bf814fb8dbf');\n",
              "          const dataTable =\n",
              "            await google.colab.kernel.invokeFunction('convertToInteractive',\n",
              "                                                     [key], {});\n",
              "          if (!dataTable) return;\n",
              "\n",
              "          const docLinkHtml = 'Like what you see? Visit the ' +\n",
              "            '<a target=\"_blank\" href=https://colab.research.google.com/notebooks/data_table.ipynb>data table notebook</a>'\n",
              "            + ' to learn more about interactive tables.';\n",
              "          element.innerHTML = '';\n",
              "          dataTable['output_type'] = 'display_data';\n",
              "          await google.colab.output.renderOutput(dataTable, element);\n",
              "          const docLink = document.createElement('div');\n",
              "          docLink.innerHTML = docLinkHtml;\n",
              "          element.appendChild(docLink);\n",
              "        }\n",
              "      </script>\n",
              "    </div>\n",
              "  </div>\n",
              "  "
            ],
            "text/plain": [
              "     age  anemia  creatinine_phosphokinase  diabetes  ejection_fraction  \\\n",
              "175   45       1                      1876         1                 35   \n",
              "144   64       0                       143         0                 25   \n",
              "84    45       0                       615         1                 55   \n",
              "66    65       1                       720         1                 40   \n",
              "243   85       0                        23         0                 45   \n",
              "\n",
              "     high_blood_pressure  platelets  serum_creatinine  serum_sodium  sex  \\\n",
              "175                    0   226000.0               0.9           138    1   \n",
              "144                    0   246000.0               2.4           135    1   \n",
              "84                     0   222000.0               0.8           141    0   \n",
              "66                     0   257000.0               1.0           136    0   \n",
              "243                    0   360000.0               3.0           132    1   \n",
              "\n",
              "     smoking  time  \n",
              "175        0    88  \n",
              "144        0   214  \n",
              "84         0   257  \n",
              "66         0   210  \n",
              "243        0    28  "
            ]
          },
          "execution_count": 29,
          "metadata": {},
          "output_type": "execute_result"
        }
      ],
      "source": [
        "# display X_train set\n",
        "\n",
        "X_train.head()"
      ]
    },
    {
      "cell_type": "code",
      "execution_count": 30,
      "metadata": {
        "colab": {
          "base_uri": "https://localhost:8080/",
          "height": 206
        },
        "id": "6bFdozOYMHaS",
        "outputId": "12b128f0-ca1d-4ec4-9511-d2047c9c03b5"
      },
      "outputs": [
        {
          "data": {
            "text/html": [
              "\n",
              "  <div id=\"df-a52f71e9-349b-44e1-9b33-24d5662fa248\">\n",
              "    <div class=\"colab-df-container\">\n",
              "      <div>\n",
              "<style scoped>\n",
              "    .dataframe tbody tr th:only-of-type {\n",
              "        vertical-align: middle;\n",
              "    }\n",
              "\n",
              "    .dataframe tbody tr th {\n",
              "        vertical-align: top;\n",
              "    }\n",
              "\n",
              "    .dataframe thead th {\n",
              "        text-align: right;\n",
              "    }\n",
              "</style>\n",
              "<table border=\"1\" class=\"dataframe\">\n",
              "  <thead>\n",
              "    <tr style=\"text-align: right;\">\n",
              "      <th></th>\n",
              "      <th>age</th>\n",
              "      <th>ejection_fraction</th>\n",
              "      <th>platelets</th>\n",
              "      <th>serum_creatinine</th>\n",
              "      <th>serum_sodium</th>\n",
              "      <th>time</th>\n",
              "    </tr>\n",
              "  </thead>\n",
              "  <tbody>\n",
              "    <tr>\n",
              "      <th>175</th>\n",
              "      <td>45</td>\n",
              "      <td>35</td>\n",
              "      <td>226000.0</td>\n",
              "      <td>0.9</td>\n",
              "      <td>138</td>\n",
              "      <td>88</td>\n",
              "    </tr>\n",
              "    <tr>\n",
              "      <th>144</th>\n",
              "      <td>64</td>\n",
              "      <td>25</td>\n",
              "      <td>246000.0</td>\n",
              "      <td>2.4</td>\n",
              "      <td>135</td>\n",
              "      <td>214</td>\n",
              "    </tr>\n",
              "    <tr>\n",
              "      <th>84</th>\n",
              "      <td>45</td>\n",
              "      <td>55</td>\n",
              "      <td>222000.0</td>\n",
              "      <td>0.8</td>\n",
              "      <td>141</td>\n",
              "      <td>257</td>\n",
              "    </tr>\n",
              "    <tr>\n",
              "      <th>66</th>\n",
              "      <td>65</td>\n",
              "      <td>40</td>\n",
              "      <td>257000.0</td>\n",
              "      <td>1.0</td>\n",
              "      <td>136</td>\n",
              "      <td>210</td>\n",
              "    </tr>\n",
              "    <tr>\n",
              "      <th>243</th>\n",
              "      <td>85</td>\n",
              "      <td>45</td>\n",
              "      <td>360000.0</td>\n",
              "      <td>3.0</td>\n",
              "      <td>132</td>\n",
              "      <td>28</td>\n",
              "    </tr>\n",
              "  </tbody>\n",
              "</table>\n",
              "</div>\n",
              "      <button class=\"colab-df-convert\" onclick=\"convertToInteractive('df-a52f71e9-349b-44e1-9b33-24d5662fa248')\"\n",
              "              title=\"Convert this dataframe to an interactive table.\"\n",
              "              style=\"display:none;\">\n",
              "        \n",
              "  <svg xmlns=\"http://www.w3.org/2000/svg\" height=\"24px\"viewBox=\"0 0 24 24\"\n",
              "       width=\"24px\">\n",
              "    <path d=\"M0 0h24v24H0V0z\" fill=\"none\"/>\n",
              "    <path d=\"M18.56 5.44l.94 2.06.94-2.06 2.06-.94-2.06-.94-.94-2.06-.94 2.06-2.06.94zm-11 1L8.5 8.5l.94-2.06 2.06-.94-2.06-.94L8.5 2.5l-.94 2.06-2.06.94zm10 10l.94 2.06.94-2.06 2.06-.94-2.06-.94-.94-2.06-.94 2.06-2.06.94z\"/><path d=\"M17.41 7.96l-1.37-1.37c-.4-.4-.92-.59-1.43-.59-.52 0-1.04.2-1.43.59L10.3 9.45l-7.72 7.72c-.78.78-.78 2.05 0 2.83L4 21.41c.39.39.9.59 1.41.59.51 0 1.02-.2 1.41-.59l7.78-7.78 2.81-2.81c.8-.78.8-2.07 0-2.86zM5.41 20L4 18.59l7.72-7.72 1.47 1.35L5.41 20z\"/>\n",
              "  </svg>\n",
              "      </button>\n",
              "      \n",
              "  <style>\n",
              "    .colab-df-container {\n",
              "      display:flex;\n",
              "      flex-wrap:wrap;\n",
              "      gap: 12px;\n",
              "    }\n",
              "\n",
              "    .colab-df-convert {\n",
              "      background-color: #E8F0FE;\n",
              "      border: none;\n",
              "      border-radius: 50%;\n",
              "      cursor: pointer;\n",
              "      display: none;\n",
              "      fill: #1967D2;\n",
              "      height: 32px;\n",
              "      padding: 0 0 0 0;\n",
              "      width: 32px;\n",
              "    }\n",
              "\n",
              "    .colab-df-convert:hover {\n",
              "      background-color: #E2EBFA;\n",
              "      box-shadow: 0px 1px 2px rgba(60, 64, 67, 0.3), 0px 1px 3px 1px rgba(60, 64, 67, 0.15);\n",
              "      fill: #174EA6;\n",
              "    }\n",
              "\n",
              "    [theme=dark] .colab-df-convert {\n",
              "      background-color: #3B4455;\n",
              "      fill: #D2E3FC;\n",
              "    }\n",
              "\n",
              "    [theme=dark] .colab-df-convert:hover {\n",
              "      background-color: #434B5C;\n",
              "      box-shadow: 0px 1px 3px 1px rgba(0, 0, 0, 0.15);\n",
              "      filter: drop-shadow(0px 1px 2px rgba(0, 0, 0, 0.3));\n",
              "      fill: #FFFFFF;\n",
              "    }\n",
              "  </style>\n",
              "\n",
              "      <script>\n",
              "        const buttonEl =\n",
              "          document.querySelector('#df-a52f71e9-349b-44e1-9b33-24d5662fa248 button.colab-df-convert');\n",
              "        buttonEl.style.display =\n",
              "          google.colab.kernel.accessAllowed ? 'block' : 'none';\n",
              "\n",
              "        async function convertToInteractive(key) {\n",
              "          const element = document.querySelector('#df-a52f71e9-349b-44e1-9b33-24d5662fa248');\n",
              "          const dataTable =\n",
              "            await google.colab.kernel.invokeFunction('convertToInteractive',\n",
              "                                                     [key], {});\n",
              "          if (!dataTable) return;\n",
              "\n",
              "          const docLinkHtml = 'Like what you see? Visit the ' +\n",
              "            '<a target=\"_blank\" href=https://colab.research.google.com/notebooks/data_table.ipynb>data table notebook</a>'\n",
              "            + ' to learn more about interactive tables.';\n",
              "          element.innerHTML = '';\n",
              "          dataTable['output_type'] = 'display_data';\n",
              "          await google.colab.output.renderOutput(dataTable, element);\n",
              "          const docLink = document.createElement('div');\n",
              "          docLink.innerHTML = docLinkHtml;\n",
              "          element.appendChild(docLink);\n",
              "        }\n",
              "      </script>\n",
              "    </div>\n",
              "  </div>\n",
              "  "
            ],
            "text/plain": [
              "     age  ejection_fraction  platelets  serum_creatinine  serum_sodium  time\n",
              "175   45                 35   226000.0               0.9           138    88\n",
              "144   64                 25   246000.0               2.4           135   214\n",
              "84    45                 55   222000.0               0.8           141   257\n",
              "66    65                 40   257000.0               1.0           136   210\n",
              "243   85                 45   360000.0               3.0           132    28"
            ]
          },
          "execution_count": 30,
          "metadata": {},
          "output_type": "execute_result"
        }
      ],
      "source": [
        "# drop less importance feature\n",
        "\n",
        "X_train = X_train.drop(['anemia', 'creatinine_phosphokinase', 'diabetes', 'high_blood_pressure', 'sex', 'smoking'], axis = 1)\n",
        "X_test = X_test.drop(['anemia', 'creatinine_phosphokinase', 'diabetes', 'high_blood_pressure', 'sex', 'smoking'], axis = 1)\n",
        "\n",
        "# display X_train feature\n",
        "\n",
        "X_train.head()"
      ]
    },
    {
      "cell_type": "markdown",
      "metadata": {
        "id": "sgxOo766uGYb"
      },
      "source": [
        "## 6. Split Between Numerical Columns and Categorical Columns"
      ]
    },
    {
      "cell_type": "markdown",
      "metadata": {
        "id": "upRbn6B48H3K"
      },
      "source": [
        "Data Scientist tidak menggunakan kolom kategorikal."
      ]
    },
    {
      "cell_type": "code",
      "execution_count": 31,
      "metadata": {
        "id": "zz5eyNR_b4pO"
      },
      "outputs": [],
      "source": [
        "# Get Numerical Columns and Categorical Columns\n",
        "\n",
        "num_columns = ['age', 'ejection_fraction', 'platelets', 'serum_creatinine', 'serum_sodium', 'time']"
      ]
    },
    {
      "cell_type": "code",
      "execution_count": 32,
      "metadata": {
        "colab": {
          "base_uri": "https://localhost:8080/",
          "height": 206
        },
        "id": "vLa8LThpcegG",
        "outputId": "ad8c5ec7-3a88-4b15-93df-b7cb72c5dc17"
      },
      "outputs": [
        {
          "data": {
            "text/html": [
              "\n",
              "  <div id=\"df-bb0ab0d6-9502-49a6-9905-cd71ff4c5612\">\n",
              "    <div class=\"colab-df-container\">\n",
              "      <div>\n",
              "<style scoped>\n",
              "    .dataframe tbody tr th:only-of-type {\n",
              "        vertical-align: middle;\n",
              "    }\n",
              "\n",
              "    .dataframe tbody tr th {\n",
              "        vertical-align: top;\n",
              "    }\n",
              "\n",
              "    .dataframe thead th {\n",
              "        text-align: right;\n",
              "    }\n",
              "</style>\n",
              "<table border=\"1\" class=\"dataframe\">\n",
              "  <thead>\n",
              "    <tr style=\"text-align: right;\">\n",
              "      <th></th>\n",
              "      <th>age</th>\n",
              "      <th>ejection_fraction</th>\n",
              "      <th>platelets</th>\n",
              "      <th>serum_creatinine</th>\n",
              "      <th>serum_sodium</th>\n",
              "      <th>time</th>\n",
              "    </tr>\n",
              "  </thead>\n",
              "  <tbody>\n",
              "    <tr>\n",
              "      <th>175</th>\n",
              "      <td>45</td>\n",
              "      <td>35</td>\n",
              "      <td>226000.0</td>\n",
              "      <td>0.9</td>\n",
              "      <td>138</td>\n",
              "      <td>88</td>\n",
              "    </tr>\n",
              "    <tr>\n",
              "      <th>144</th>\n",
              "      <td>64</td>\n",
              "      <td>25</td>\n",
              "      <td>246000.0</td>\n",
              "      <td>2.4</td>\n",
              "      <td>135</td>\n",
              "      <td>214</td>\n",
              "    </tr>\n",
              "    <tr>\n",
              "      <th>84</th>\n",
              "      <td>45</td>\n",
              "      <td>55</td>\n",
              "      <td>222000.0</td>\n",
              "      <td>0.8</td>\n",
              "      <td>141</td>\n",
              "      <td>257</td>\n",
              "    </tr>\n",
              "    <tr>\n",
              "      <th>66</th>\n",
              "      <td>65</td>\n",
              "      <td>40</td>\n",
              "      <td>257000.0</td>\n",
              "      <td>1.0</td>\n",
              "      <td>136</td>\n",
              "      <td>210</td>\n",
              "    </tr>\n",
              "    <tr>\n",
              "      <th>243</th>\n",
              "      <td>85</td>\n",
              "      <td>45</td>\n",
              "      <td>360000.0</td>\n",
              "      <td>3.0</td>\n",
              "      <td>132</td>\n",
              "      <td>28</td>\n",
              "    </tr>\n",
              "  </tbody>\n",
              "</table>\n",
              "</div>\n",
              "      <button class=\"colab-df-convert\" onclick=\"convertToInteractive('df-bb0ab0d6-9502-49a6-9905-cd71ff4c5612')\"\n",
              "              title=\"Convert this dataframe to an interactive table.\"\n",
              "              style=\"display:none;\">\n",
              "        \n",
              "  <svg xmlns=\"http://www.w3.org/2000/svg\" height=\"24px\"viewBox=\"0 0 24 24\"\n",
              "       width=\"24px\">\n",
              "    <path d=\"M0 0h24v24H0V0z\" fill=\"none\"/>\n",
              "    <path d=\"M18.56 5.44l.94 2.06.94-2.06 2.06-.94-2.06-.94-.94-2.06-.94 2.06-2.06.94zm-11 1L8.5 8.5l.94-2.06 2.06-.94-2.06-.94L8.5 2.5l-.94 2.06-2.06.94zm10 10l.94 2.06.94-2.06 2.06-.94-2.06-.94-.94-2.06-.94 2.06-2.06.94z\"/><path d=\"M17.41 7.96l-1.37-1.37c-.4-.4-.92-.59-1.43-.59-.52 0-1.04.2-1.43.59L10.3 9.45l-7.72 7.72c-.78.78-.78 2.05 0 2.83L4 21.41c.39.39.9.59 1.41.59.51 0 1.02-.2 1.41-.59l7.78-7.78 2.81-2.81c.8-.78.8-2.07 0-2.86zM5.41 20L4 18.59l7.72-7.72 1.47 1.35L5.41 20z\"/>\n",
              "  </svg>\n",
              "      </button>\n",
              "      \n",
              "  <style>\n",
              "    .colab-df-container {\n",
              "      display:flex;\n",
              "      flex-wrap:wrap;\n",
              "      gap: 12px;\n",
              "    }\n",
              "\n",
              "    .colab-df-convert {\n",
              "      background-color: #E8F0FE;\n",
              "      border: none;\n",
              "      border-radius: 50%;\n",
              "      cursor: pointer;\n",
              "      display: none;\n",
              "      fill: #1967D2;\n",
              "      height: 32px;\n",
              "      padding: 0 0 0 0;\n",
              "      width: 32px;\n",
              "    }\n",
              "\n",
              "    .colab-df-convert:hover {\n",
              "      background-color: #E2EBFA;\n",
              "      box-shadow: 0px 1px 2px rgba(60, 64, 67, 0.3), 0px 1px 3px 1px rgba(60, 64, 67, 0.15);\n",
              "      fill: #174EA6;\n",
              "    }\n",
              "\n",
              "    [theme=dark] .colab-df-convert {\n",
              "      background-color: #3B4455;\n",
              "      fill: #D2E3FC;\n",
              "    }\n",
              "\n",
              "    [theme=dark] .colab-df-convert:hover {\n",
              "      background-color: #434B5C;\n",
              "      box-shadow: 0px 1px 3px 1px rgba(0, 0, 0, 0.15);\n",
              "      filter: drop-shadow(0px 1px 2px rgba(0, 0, 0, 0.3));\n",
              "      fill: #FFFFFF;\n",
              "    }\n",
              "  </style>\n",
              "\n",
              "      <script>\n",
              "        const buttonEl =\n",
              "          document.querySelector('#df-bb0ab0d6-9502-49a6-9905-cd71ff4c5612 button.colab-df-convert');\n",
              "        buttonEl.style.display =\n",
              "          google.colab.kernel.accessAllowed ? 'block' : 'none';\n",
              "\n",
              "        async function convertToInteractive(key) {\n",
              "          const element = document.querySelector('#df-bb0ab0d6-9502-49a6-9905-cd71ff4c5612');\n",
              "          const dataTable =\n",
              "            await google.colab.kernel.invokeFunction('convertToInteractive',\n",
              "                                                     [key], {});\n",
              "          if (!dataTable) return;\n",
              "\n",
              "          const docLinkHtml = 'Like what you see? Visit the ' +\n",
              "            '<a target=\"_blank\" href=https://colab.research.google.com/notebooks/data_table.ipynb>data table notebook</a>'\n",
              "            + ' to learn more about interactive tables.';\n",
              "          element.innerHTML = '';\n",
              "          dataTable['output_type'] = 'display_data';\n",
              "          await google.colab.output.renderOutput(dataTable, element);\n",
              "          const docLink = document.createElement('div');\n",
              "          docLink.innerHTML = docLinkHtml;\n",
              "          element.appendChild(docLink);\n",
              "        }\n",
              "      </script>\n",
              "    </div>\n",
              "  </div>\n",
              "  "
            ],
            "text/plain": [
              "     age  ejection_fraction  platelets  serum_creatinine  serum_sodium  time\n",
              "175   45                 35   226000.0               0.9           138    88\n",
              "144   64                 25   246000.0               2.4           135   214\n",
              "84    45                 55   222000.0               0.8           141   257\n",
              "66    65                 40   257000.0               1.0           136   210\n",
              "243   85                 45   360000.0               3.0           132    28"
            ]
          },
          "execution_count": 32,
          "metadata": {},
          "output_type": "execute_result"
        }
      ],
      "source": [
        "# Get Numerical dataframe and Categorical dataframe\n",
        "\n",
        "X_train_num = X_train[num_columns]\n",
        "\n",
        "# Display X_train_num\n",
        "\n",
        "X_train_num.head()"
      ]
    },
    {
      "cell_type": "markdown",
      "metadata": {
        "id": "6NzV5sGauGI5"
      },
      "source": [
        "## 7. Feature Scaling"
      ]
    },
    {
      "cell_type": "markdown",
      "metadata": {
        "id": "4hmvEgJA8PDR"
      },
      "source": [
        "Feature age dan time akan discaling dengan StandardScaler, feature 'ejection_fraction',\t'platelets',\t'serum_creatinine',\t'serum_sodium' akan discaling dengan MinMaxScaler."
      ]
    },
    {
      "cell_type": "code",
      "execution_count": 33,
      "metadata": {
        "colab": {
          "base_uri": "https://localhost:8080/",
          "height": 391
        },
        "id": "GMdClbrVz7zw",
        "outputId": "dd18a4fa-f4b1-4e98-8dab-37ac518bda6a"
      },
      "outputs": [
        {
          "name": "stdout",
          "output_type": "stream",
          "text": [
            "skewness 1: 0.4174348426098342\n",
            "skewness 2: 0.5446216140049552\n",
            "skewness 3: 1.4529150858824418\n",
            "skewness 3: 4.396085461671067\n",
            "skewness 4: -1.0582735377250234\n",
            "skewness 5: 0.1523829772227041\n"
          ]
        },
        {
          "data": {
            "image/png": "[encoded data removed]",
            "text/plain": [
              "<Figure size 1800x288 with 6 Axes>"
            ]
          },
          "metadata": {
            "needs_background": "light"
          },
          "output_type": "display_data"
        }
      ],
      "source": [
        "# melihat persebaran data pada feature\n",
        "\n",
        "plt.figure(figsize=(25,4))\n",
        "\n",
        "#HistV1\n",
        "plt.subplot(1, 6, 1)\n",
        "sns.histplot(X_train['age'], bins=25, kde=True)\n",
        "print('skewness 1:', data['age'].skew())\n",
        "\n",
        "#HistV2\n",
        "plt.subplot(1, 6, 2)\n",
        "sns.histplot(data['ejection_fraction'], bins=25, kde=True)\n",
        "print('skewness 2:', data['ejection_fraction'].skew())\n",
        "\n",
        "#HistV3\n",
        "plt.subplot(1, 6, 3)\n",
        "sns.histplot(data['platelets'], bins=25, kde=True)\n",
        "print('skewness 3:', data['platelets'].skew())\n",
        "\n",
        "#HistV4\n",
        "plt.subplot(1, 6, 4)\n",
        "sns.histplot(data['serum_creatinine'], bins=25, kde=True)\n",
        "print('skewness 3:', data['serum_creatinine'].skew())\n",
        "\n",
        "#HistV5\n",
        "plt.subplot(1, 6, 5)\n",
        "sns.histplot(data['serum_sodium'], bins=25, kde=True)\n",
        "print('skewness 4:', data['serum_sodium'].skew())\n",
        "\n",
        "#HistV6\n",
        "plt.subplot(1, 6, 6)\n",
        "sns.histplot(data['time'], bins=25, kde=True)\n",
        "print('skewness 5:', data['time'].skew())"
      ]
    },
    {
      "cell_type": "markdown",
      "metadata": {
        "id": "KE1Pedqv3Zp7"
      },
      "source": [
        "Feature Age dan Time akan discaling dengan Standard Scaler"
      ]
    },
    {
      "cell_type": "code",
      "execution_count": 34,
      "metadata": {
        "id": "OSVSkOgU21HR"
      },
      "outputs": [],
      "source": [
        "# memisahkan skew dan normal\n",
        "\n",
        "num_norm = ['age', 'time']\n",
        "num_skew = ['ejection_fraction', 'platelets', 'serum_creatinine', 'serum_sodium']\n",
        "\n",
        "# membuat X_train_numskew dan X_test_numskew dataframe\n",
        "\n",
        "X_train_numnorm = X_train[num_norm]\n",
        "X_test_numnorm = X_test[num_norm]\n",
        "\n",
        "X_train_numskew = X_train[num_skew]\n",
        "X_test_numskew = X_test[num_skew]"
      ]
    },
    {
      "cell_type": "code",
      "execution_count": 35,
      "metadata": {
        "colab": {
          "base_uri": "https://localhost:8080/"
        },
        "id": "bXp0oj2a73k_",
        "outputId": "2c2502a6-454d-4506-ffde-9a89af4fa1fb"
      },
      "outputs": [
        {
          "data": {
            "text/plain": [
              "array([[-0.94124201, -0.16102302],\n",
              "       [ 0.58694397, -0.28910952],\n",
              "       [-1.36573812, -0.90392469]])"
            ]
          },
          "execution_count": 35,
          "metadata": {},
          "output_type": "execute_result"
        }
      ],
      "source": [
        "# scaling menggunakan StandarScaler\n",
        "\n",
        "scaler1 = StandardScaler()\n",
        "scaler1.fit(X_train_numnorm)\n",
        "\n",
        "X_train_numnorm_scaled = scaler1.transform(X_train_numnorm)\n",
        "X_test_numnorm_scaled = scaler1.transform(X_test_numnorm)\n",
        "\n",
        "# show instance\n",
        "\n",
        "X_test_numnorm_scaled[:3]"
      ]
    },
    {
      "cell_type": "markdown",
      "metadata": {
        "id": "JvyUypQf3ion"
      },
      "source": [
        "Feature ejection_fraction, serum_creatine, dan serum_sodium akan discaling dengan MinMaxScaler"
      ]
    },
    {
      "cell_type": "code",
      "execution_count": 36,
      "metadata": {
        "colab": {
          "base_uri": "https://localhost:8080/"
        },
        "id": "Rw6mfL2Y3iFj",
        "outputId": "bd84708b-3140-4e67-c926-7f2fc0d816d1"
      },
      "outputs": [
        {
          "data": {
            "text/plain": [
              "array([[0.46969697, 0.19262941, 0.06349206, 0.63636364],\n",
              "       [0.16666667, 0.33931386, 0.25396825, 0.51515152],\n",
              "       [0.16666667, 0.44235665, 0.07936508, 0.78787879]])"
            ]
          },
          "execution_count": 36,
          "metadata": {},
          "output_type": "execute_result"
        }
      ],
      "source": [
        "# scaling menggunakan MinMaxScaler\n",
        "\n",
        "scaler2 = MinMaxScaler()\n",
        "scaler2.fit(X_train_numskew)\n",
        "\n",
        "X_train_numskew_scaled = scaler2.transform(X_train_numskew)\n",
        "X_test_numskew_scaled = scaler2.transform(X_test_numskew)\n",
        "\n",
        "# show instance\n",
        "\n",
        "X_test_numskew_scaled[:3]"
      ]
    },
    {
      "cell_type": "markdown",
      "metadata": {
        "id": "yYWhG8VFtz2J"
      },
      "source": [
        "## 8. Feature Encoding"
      ]
    },
    {
      "cell_type": "markdown",
      "metadata": {
        "id": "1b0D4Hqt_EVq"
      },
      "source": [
        "Data scientist tidak memasukan feature kategorikal."
      ]
    },
    {
      "cell_type": "markdown",
      "metadata": {
        "id": "Web1Re-TusCM"
      },
      "source": [
        "## 9. Concate Between Numerical Columns and Categorical Columns"
      ]
    },
    {
      "cell_type": "code",
      "execution_count": 37,
      "metadata": {
        "colab": {
          "base_uri": "https://localhost:8080/"
        },
        "id": "jgVKzRQd_fR_",
        "outputId": "23e9aac2-c0ba-471f-fb31-f1dcfd0aef6c"
      },
      "outputs": [
        {
          "data": {
            "text/plain": [
              "array([[-1.36573812, -0.54528251,  0.31818182,  0.24354467,  0.06349206,\n",
              "         0.75757576],\n",
              "       [ 0.24734708,  1.06860733,  0.16666667,  0.26779004,  0.3015873 ,\n",
              "         0.66666667],\n",
              "       [-1.36573812,  1.61937925,  0.62121212,  0.2386956 ,  0.04761905,\n",
              "         0.84848485],\n",
              "       ...,\n",
              "       [-0.94124201,  0.56907   ,  0.39393939,  0.28476179,  0.03174603,\n",
              "         0.51515152],\n",
              "       [-1.36573812, -0.89111604,  0.31818182,  0.43629531,  0.07936508,\n",
              "         0.96969697],\n",
              "       [-0.0922498 , -1.28818418,  0.36363636,  0.36840829,  0.3968254 ,\n",
              "         0.87878788]])"
            ]
          },
          "execution_count": 37,
          "metadata": {},
          "output_type": "execute_result"
        }
      ],
      "source": [
        "# menggabungkan feature numerik yang discaling dengan StandardScaler dan MinMaxScaler\n",
        "\n",
        "X_train_final = np.concatenate([X_train_numnorm_scaled,X_train_numskew_scaled], axis = 1)\n",
        "X_test_final = np.concatenate([X_test_numnorm_scaled,X_test_numskew_scaled], axis = 1)\n",
        "\n",
        "# show X_train_final\n",
        "\n",
        "X_train_final"
      ]
    },
    {
      "cell_type": "markdown",
      "metadata": {
        "id": "o1wOn1lUSSXG"
      },
      "source": [
        "## 10. Handling Unbalance Target on Train-Set"
      ]
    },
    {
      "cell_type": "markdown",
      "metadata": {
        "id": "ewyZ96Vb8n4r"
      },
      "source": [
        "Handling Unbalance Target on Train Set membuat precision, recall, dan f1 score pada kategori 1 menjadi 0 sehingga tidak dilakukan Handling Unbalance Target."
      ]
    },
    {
      "cell_type": "code",
      "execution_count": 38,
      "metadata": {
        "id": "UCFjt3EHBIw7"
      },
      "outputs": [],
      "source": [
        "# # Handling Unbalance Target on Train-Set\n",
        "\n",
        "# smote = SMOTE(k_neighbors=5, random_state=21)\n",
        "# X_train_balanced, y_train_balanced = smote.fit_resample(X_train_final, y_train)\n",
        "\n",
        "# # show y_train_balanced\n",
        "\n",
        "# y_train_balanced.value_counts()"
      ]
    },
    {
      "cell_type": "markdown",
      "metadata": {
        "id": "Y9YIDjtwtHG0"
      },
      "source": [
        "# VI. Model Definition"
      ]
    },
    {
      "cell_type": "markdown",
      "metadata": {
        "id": "bUZQQHCTIh5B"
      },
      "source": [
        "## 1. Default Random Forest Classifier"
      ]
    },
    {
      "cell_type": "code",
      "execution_count": 39,
      "metadata": {
        "id": "Mgppy275tK5P"
      },
      "outputs": [],
      "source": [
        "# Default Random Forest Classifier\n",
        "\n",
        "mod_RFC = RandomForestClassifier(random_state = 15)"
      ]
    },
    {
      "cell_type": "markdown",
      "metadata": {
        "id": "je8eoIoNbdhM"
      },
      "source": [
        "## 2. Default Gradient Boost"
      ]
    },
    {
      "cell_type": "code",
      "execution_count": 40,
      "metadata": {
        "id": "k309-HmCbqP2"
      },
      "outputs": [],
      "source": [
        "# Default Gradient Boost\n",
        "\n",
        "mod_GBC = GradientBoostingClassifier(random_state = 30)"
      ]
    },
    {
      "cell_type": "markdown",
      "metadata": {
        "id": "tgBEjkLVmxpM"
      },
      "source": [
        "---\n",
        "Statement:\n",
        "\n",
        "- Datascientist menggunakan 2 model dari ensemble learning yaitu Random Forest Classifier dan Default Gradient Boosting untuk mendapatkan hasil terbaik.\n",
        "\n",
        "Terminologi:\n",
        "\n",
        "- Ensemble learning adalah cara sebuah algoritma mempelajari data dengan menggunakan kombinasi dari beberapa algoritma atau model untuk mendapatkan output dengan akurasi yang lebih tinggi jika dibandingkan dengan menggunakan satu algoritma atau model saja. "
      ]
    },
    {
      "cell_type": "markdown",
      "metadata": {
        "id": "JOq9kczOcN2h"
      },
      "source": [
        "# VII. Model Training"
      ]
    },
    {
      "cell_type": "markdown",
      "metadata": {
        "id": "9-iQK8GqcPo8"
      },
      "source": [
        "## 1. Hipertuning Random Forest Classifier"
      ]
    },
    {
      "cell_type": "code",
      "execution_count": 41,
      "metadata": {
        "colab": {
          "base_uri": "https://localhost:8080/"
        },
        "id": "br_9X0InVt5l",
        "outputId": "df19e2cf-b388-46e6-eead-8790cc16e16c"
      },
      "outputs": [
        {
          "name": "stdout",
          "output_type": "stream",
          "text": [
            "0.82 +/- 0.02\n"
          ]
        }
      ],
      "source": [
        "# Scoring Random Forest Classifier Default\n",
        "\n",
        "scoresRFC = cross_val_score(mod_RFC, X_train, y_train, cv=5)\n",
        "\n",
        "print('{:.2f} +/- {:.2f}'.format(scoresRFC.mean(), scoresRFC.std()))"
      ]
    },
    {
      "cell_type": "code",
      "execution_count": 42,
      "metadata": {
        "id": "YGjIl51KH0b9"
      },
      "outputs": [],
      "source": [
        "# Make grid_search parameter\n",
        "\n",
        "param_grid_RFC = [{'n_estimators': [50, 100, 150, 200, 300, 400]}]"
      ]
    },
    {
      "cell_type": "code",
      "execution_count": 45,
      "metadata": {
        "colab": {
          "base_uri": "https://localhost:8080/"
        },
        "id": "lsKU3BViKuhw",
        "outputId": "3de4bd27-85cb-483e-bed5-7705d25c3f76"
      },
      "outputs": [
        {
          "name": "stdout",
          "output_type": "stream",
          "text": [
            "Fitting 5 folds for each of 6 candidates, totalling 30 fits\n",
            "[CV] END ....................................n_estimators=50; total time=   0.1s\n",
            "[CV] END ....................................n_estimators=50; total time=   0.1s\n",
            "[CV] END ....................................n_estimators=50; total time=   0.1s\n",
            "[CV] END ....................................n_estimators=50; total time=   0.2s\n",
            "[CV] END ....................................n_estimators=50; total time=   0.1s\n",
            "[CV] END ...................................n_estimators=100; total time=   0.5s\n",
            "[CV] END ...................................n_estimators=100; total time=   0.5s\n",
            "[CV] END ...................................n_estimators=100; total time=   0.2s\n",
            "[CV] END ...................................n_estimators=100; total time=   0.1s\n",
            "[CV] END ...................................n_estimators=100; total time=   0.1s\n",
            "[CV] END ...................................n_estimators=150; total time=   0.2s\n",
            "[CV] END ...................................n_estimators=150; total time=   0.2s\n",
            "[CV] END ...................................n_estimators=150; total time=   0.2s\n",
            "[CV] END ...................................n_estimators=150; total time=   0.2s\n",
            "[CV] END ...................................n_estimators=150; total time=   0.2s\n",
            "[CV] END ...................................n_estimators=200; total time=   0.3s\n",
            "[CV] END ...................................n_estimators=200; total time=   0.3s\n",
            "[CV] END ...................................n_estimators=200; total time=   0.3s\n",
            "[CV] END ...................................n_estimators=200; total time=   0.3s\n",
            "[CV] END ...................................n_estimators=200; total time=   0.3s\n",
            "[CV] END ...................................n_estimators=300; total time=   0.4s\n",
            "[CV] END ...................................n_estimators=300; total time=   0.4s\n",
            "[CV] END ...................................n_estimators=300; total time=   0.4s\n",
            "[CV] END ...................................n_estimators=300; total time=   0.4s\n",
            "[CV] END ...................................n_estimators=300; total time=   0.4s\n",
            "[CV] END ...................................n_estimators=400; total time=   0.6s\n",
            "[CV] END ...................................n_estimators=400; total time=   0.6s\n",
            "[CV] END ...................................n_estimators=400; total time=   0.6s\n",
            "[CV] END ...................................n_estimators=400; total time=   0.6s\n",
            "[CV] END ...................................n_estimators=400; total time=   0.6s\n",
            "CPU times: user 9.52 s, sys: 76.6 ms, total: 9.6 s\n",
            "Wall time: 10.4 s\n"
          ]
        },
        {
          "data": {
            "text/plain": [
              "GridSearchCV(cv=5, estimator=RandomForestClassifier(random_state=15),\n",
              "             param_grid=[{'n_estimators': [50, 100, 150, 200, 300, 400]}],\n",
              "             verbose=2)"
            ]
          },
          "execution_count": 45,
          "metadata": {},
          "output_type": "execute_result"
        }
      ],
      "source": [
        "# grid_search for Random Forest Classifier Model\n",
        "\n",
        "%%time\n",
        "grid_search = GridSearchCV(estimator= mod_RFC, param_grid = param_grid_RFC, cv = 5, verbose = 2)\n",
        "\n",
        "# fit grid seach model\n",
        "\n",
        "grid_search.fit(X_train, y_train)"
      ]
    },
    {
      "cell_type": "code",
      "execution_count": 46,
      "metadata": {
        "colab": {
          "base_uri": "https://localhost:8080/"
        },
        "id": "5fyIiFz3a7ud",
        "outputId": "3e410833-7047-49e2-84ee-bf68b71198a1"
      },
      "outputs": [
        {
          "data": {
            "text/plain": [
              "{'n_estimators': 300}"
            ]
          },
          "execution_count": 46,
          "metadata": {},
          "output_type": "execute_result"
        }
      ],
      "source": [
        "# check best_params for model\n",
        "\n",
        "grid_search.best_params_"
      ]
    },
    {
      "cell_type": "markdown",
      "metadata": {
        "id": "Oe9k_KC8mJMm"
      },
      "source": [
        "Data Scientist melakukan hipertuning terhadap n_estimator. Dan mendapatkan best_params terbaik di n_estimator 300."
      ]
    },
    {
      "cell_type": "code",
      "execution_count": 47,
      "metadata": {
        "id": "jlFuz7ujbPXW"
      },
      "outputs": [],
      "source": [
        "# membuat model baru mod_RFC2\n",
        "\n",
        "mod_RFC2 = grid_search.best_estimator_"
      ]
    },
    {
      "cell_type": "code",
      "execution_count": 48,
      "metadata": {
        "id": "Rx8ICy9_biN7"
      },
      "outputs": [],
      "source": [
        "# melakukan predict dengan mod_RFC2\n",
        "\n",
        "y_pred_RFC2_test = mod_RFC2.predict(X_test)\n",
        "y_pred_RFC2_train = mod_RFC2.predict(X_train)"
      ]
    },
    {
      "cell_type": "code",
      "execution_count": 49,
      "metadata": {
        "colab": {
          "base_uri": "https://localhost:8080/"
        },
        "id": "e0n0i-Kzeu_q",
        "outputId": "eab0bafd-fa88-4a98-8b24-94922d2a9dec"
      },
      "outputs": [
        {
          "name": "stdout",
          "output_type": "stream",
          "text": [
            "0.83 +/- 0.02\n"
          ]
        }
      ],
      "source": [
        "# Scoring Random Forest Classifier\n",
        "\n",
        "scoresRFC2 = cross_val_score(mod_RFC2, X_train, y_train, cv=5)\n",
        "\n",
        "print('{:.2f} +/- {:.2f}'.format(scoresRFC2.mean(), scoresRFC.std()))"
      ]
    },
    {
      "cell_type": "markdown",
      "metadata": {
        "id": "o4gaGrn0lnpu"
      },
      "source": [
        "Rata-rata score mod_RFC2 bertambah 0.01 setelah dihipertuning dibandingkan mod_RFC."
      ]
    },
    {
      "cell_type": "markdown",
      "metadata": {
        "id": "ufmz8LqFnQx5"
      },
      "source": [
        "---\n",
        "Statement:\n",
        "- Data scientist melakukan tuning n_estimator dan mendapatkan scoring akhir 0.83 +/- 0.02."
      ]
    },
    {
      "cell_type": "markdown",
      "metadata": {
        "id": "OjYpx9neIsSs"
      },
      "source": [
        "## 2. Hipertuning Gradient Boosting Classifier"
      ]
    },
    {
      "cell_type": "code",
      "execution_count": 50,
      "metadata": {
        "colab": {
          "base_uri": "https://localhost:8080/"
        },
        "id": "pJHlQZYsfoFZ",
        "outputId": "dc6ad109-a6b3-4d2b-e113-0c3c1fbbb942"
      },
      "outputs": [
        {
          "name": "stdout",
          "output_type": "stream",
          "text": [
            "0.83 +/- 0.03\n"
          ]
        }
      ],
      "source": [
        "# Scoring Gradient Boosting Classifier Default\n",
        "\n",
        "scoresGBC = cross_val_score(mod_GBC, X_train, y_train, cv=5)\n",
        "\n",
        "print('{:.2f} +/- {:.2f}'.format(scoresGBC.mean(), scoresGBC.std()))"
      ]
    },
    {
      "cell_type": "code",
      "execution_count": 51,
      "metadata": {
        "id": "P9TwLfz8f5pq"
      },
      "outputs": [],
      "source": [
        "# Make grid_search parameter\n",
        "\n",
        "param_grid_GBC = [{'n_estimators': [100, 150, 200, 300]}]"
      ]
    },
    {
      "cell_type": "code",
      "execution_count": 52,
      "metadata": {
        "colab": {
          "base_uri": "https://localhost:8080/"
        },
        "id": "KnV2VLQgcjhz",
        "outputId": "0c1bf5a2-8bee-4910-f218-8d4e457778dd"
      },
      "outputs": [
        {
          "name": "stdout",
          "output_type": "stream",
          "text": [
            "Fitting 5 folds for each of 6 candidates, totalling 30 fits\n",
            "[CV] END ....................................n_estimators=50; total time=   0.0s\n",
            "[CV] END ....................................n_estimators=50; total time=   0.0s\n",
            "[CV] END ....................................n_estimators=50; total time=   0.0s\n",
            "[CV] END ....................................n_estimators=50; total time=   0.0s\n",
            "[CV] END ....................................n_estimators=50; total time=   0.0s\n",
            "[CV] END ...................................n_estimators=100; total time=   0.1s\n",
            "[CV] END ...................................n_estimators=100; total time=   0.1s\n",
            "[CV] END ...................................n_estimators=100; total time=   0.1s\n",
            "[CV] END ...................................n_estimators=100; total time=   0.1s\n",
            "[CV] END ...................................n_estimators=100; total time=   0.1s\n",
            "[CV] END ...................................n_estimators=150; total time=   0.1s\n",
            "[CV] END ...................................n_estimators=150; total time=   0.1s\n",
            "[CV] END ...................................n_estimators=150; total time=   0.1s\n",
            "[CV] END ...................................n_estimators=150; total time=   0.1s\n",
            "[CV] END ...................................n_estimators=150; total time=   0.1s\n",
            "[CV] END ...................................n_estimators=200; total time=   0.1s\n",
            "[CV] END ...................................n_estimators=200; total time=   0.1s\n",
            "[CV] END ...................................n_estimators=200; total time=   0.2s\n",
            "[CV] END ...................................n_estimators=200; total time=   0.1s\n",
            "[CV] END ...................................n_estimators=200; total time=   0.1s\n",
            "[CV] END ...................................n_estimators=300; total time=   0.2s\n",
            "[CV] END ...................................n_estimators=300; total time=   0.2s\n",
            "[CV] END ...................................n_estimators=300; total time=   0.2s\n",
            "[CV] END ...................................n_estimators=300; total time=   0.2s\n",
            "[CV] END ...................................n_estimators=300; total time=   0.2s\n",
            "[CV] END ...................................n_estimators=400; total time=   0.3s\n",
            "[CV] END ...................................n_estimators=400; total time=   0.3s\n",
            "[CV] END ...................................n_estimators=400; total time=   0.3s\n",
            "[CV] END ...................................n_estimators=400; total time=   0.3s\n",
            "[CV] END ...................................n_estimators=400; total time=   0.3s\n",
            "CPU times: user 4.3 s, sys: 22 ms, total: 4.33 s\n",
            "Wall time: 4.32 s\n"
          ]
        },
        {
          "data": {
            "text/plain": [
              "GridSearchCV(cv=5, estimator=GradientBoostingClassifier(random_state=30),\n",
              "             param_grid=[{'n_estimators': [50, 100, 150, 200, 300, 400]}],\n",
              "             verbose=2)"
            ]
          },
          "execution_count": 52,
          "metadata": {},
          "output_type": "execute_result"
        }
      ],
      "source": [
        "# grid_search for Gradient Boosting Classifier Model\n",
        "\n",
        "%%time\n",
        "grid_search = GridSearchCV(estimator= mod_GBC, param_grid = param_grid_RFC, cv = 5, verbose = 2)\n",
        "\n",
        "# fit grid seach model\n",
        "\n",
        "grid_search.fit(X_train, y_train)"
      ]
    },
    {
      "cell_type": "code",
      "execution_count": 53,
      "metadata": {
        "colab": {
          "base_uri": "https://localhost:8080/"
        },
        "id": "0QTbmUC7h2Jw",
        "outputId": "dbbfde6d-f4c6-4a0e-f71d-0fb5411d57ad"
      },
      "outputs": [
        {
          "data": {
            "text/plain": [
              "{'n_estimators': 50}"
            ]
          },
          "execution_count": 53,
          "metadata": {},
          "output_type": "execute_result"
        }
      ],
      "source": [
        "# melihat best_params\n",
        "\n",
        "grid_search.best_params_"
      ]
    },
    {
      "cell_type": "markdown",
      "metadata": {
        "id": "yRhCGuevmYGi"
      },
      "source": [
        "Data Scientist melakukan hipertuning terhadap n_estimator. Dan mendapatkan best_params terbaik di n_estimator 50."
      ]
    },
    {
      "cell_type": "code",
      "execution_count": 54,
      "metadata": {
        "id": "2KDdy2zNh1-8"
      },
      "outputs": [],
      "source": [
        "# membuat model baru mod_GBC2\n",
        "\n",
        "mod_GBC2 = grid_search.best_estimator_"
      ]
    },
    {
      "cell_type": "code",
      "execution_count": 55,
      "metadata": {
        "id": "hvQVoHyDiDpb"
      },
      "outputs": [],
      "source": [
        "# melakukan predict dengan mod_GBC2\n",
        "\n",
        "y_pred_GBC2_test = mod_GBC2.predict(X_test)\n",
        "y_pred_GBC2_train = mod_GBC2.predict(X_train)"
      ]
    },
    {
      "cell_type": "code",
      "execution_count": 56,
      "metadata": {
        "colab": {
          "base_uri": "https://localhost:8080/"
        },
        "id": "3Atg_cSvgbRx",
        "outputId": "86765155-1b01-4f45-9cc2-112ca8d01603"
      },
      "outputs": [
        {
          "name": "stdout",
          "output_type": "stream",
          "text": [
            "0.84 +/- 0.02\n"
          ]
        }
      ],
      "source": [
        "# Scoring Random Forest Classifier\n",
        "\n",
        "scoresRFC2 = cross_val_score(mod_GBC2, X_train, y_train, cv=5)\n",
        "\n",
        "print('{:.2f} +/- {:.2f}'.format(scoresRFC2.mean(), scoresRFC.std()))"
      ]
    },
    {
      "cell_type": "markdown",
      "metadata": {
        "id": "WIYgoCoOl6Zn"
      },
      "source": [
        "Rata-rata score mod_GBC2 bertambah 0.01 dan standar deviasi berkurang 0.01 setelah dihipertuning dibandingkan mod_GBC."
      ]
    },
    {
      "cell_type": "markdown",
      "metadata": {
        "id": "-ncE3sCmnmn5"
      },
      "source": [
        "---\n",
        "Statement:\n",
        "- Data scientist melakukan tuning n_estimator dan mendapatkan scoring akhir 0.84 +/- 0.02."
      ]
    },
    {
      "cell_type": "markdown",
      "metadata": {
        "id": "II_ffe5GtP63"
      },
      "source": [
        "# VIII. Model Evaluation"
      ]
    },
    {
      "cell_type": "markdown",
      "metadata": {
        "id": "5bLdASEaig0u"
      },
      "source": [
        "## 1. RandomForestClassifier"
      ]
    },
    {
      "cell_type": "code",
      "execution_count": 57,
      "metadata": {
        "colab": {
          "base_uri": "https://localhost:8080/",
          "height": 1000
        },
        "id": "jp3-6mObiUpg",
        "outputId": "20a7bfec-e12d-4857-869a-fb9ab781cd11"
      },
      "outputs": [
        {
          "name": "stdout",
          "output_type": "stream",
          "text": [
            "accuracy score train :  1.0\n",
            "accuracy score test :  0.8275862068965517 \n",
            "\n",
            "---- confusion matrix train and mod_RFC2 ----\n"
          ]
        },
        {
          "data": {
            "image/png": "[encoded data removed]",
            "text/plain": [
              "<Figure size 432x288 with 2 Axes>"
            ]
          },
          "metadata": {
            "needs_background": "light"
          },
          "output_type": "display_data"
        },
        {
          "name": "stdout",
          "output_type": "stream",
          "text": [
            "---- confusion matrix train mod_RFC2 ----\n"
          ]
        },
        {
          "data": {
            "image/png": "[encoded data removed]",
            "text/plain": [
              "<Figure size 432x288 with 2 Axes>"
            ]
          },
          "metadata": {
            "needs_background": "light"
          },
          "output_type": "display_data"
        },
        {
          "name": "stdout",
          "output_type": "stream",
          "text": [
            "---- classification report train mod_RBC2 ----\n",
            "              precision    recall  f1-score   support\n",
            "\n",
            "           0       1.00      1.00      1.00       155\n",
            "           1       1.00      1.00      1.00        76\n",
            "\n",
            "    accuracy                           1.00       231\n",
            "   macro avg       1.00      1.00      1.00       231\n",
            "weighted avg       1.00      1.00      1.00       231\n",
            " \n",
            "\n",
            "---- classification report test mod_RBC2 ----\n",
            "              precision    recall  f1-score   support\n",
            "\n",
            "           0       0.87      0.87      0.87        39\n",
            "           1       0.74      0.74      0.74        19\n",
            "\n",
            "    accuracy                           0.83        58\n",
            "   macro avg       0.80      0.80      0.80        58\n",
            "weighted avg       0.83      0.83      0.83        58\n",
            "\n"
          ]
        }
      ],
      "source": [
        "# evaluasi train mod_RFC2\n",
        "\n",
        "print('accuracy score train : ',accuracy_score(y_pred_RFC2_train, y_train))\n",
        "print('accuracy score test : ',accuracy_score(y_pred_RFC2_test, y_test), '\\n')\n",
        "\n",
        "print('---- confusion matrix train and mod_RFC2 ----')\n",
        "\n",
        "cm = confusion_matrix(y_train, y_pred_RFC2_train, labels=mod_RFC2.classes_)\n",
        "disp = ConfusionMatrixDisplay(confusion_matrix=cm, display_labels=mod_RFC2.classes_)\n",
        "\n",
        "disp.plot()\n",
        "plt.title('Train Cofussion Matrix')\n",
        "plt.show()\n",
        "\n",
        "print('---- confusion matrix train mod_RFC2 ----')\n",
        "\n",
        "cm = confusion_matrix(y_test, y_pred_RFC2_test, labels=mod_RFC2.classes_)\n",
        "disp = ConfusionMatrixDisplay(confusion_matrix=cm, display_labels=mod_RFC2.classes_)\n",
        "\n",
        "disp.plot()\n",
        "plt.title('Test Cofussion Matrix')\n",
        "plt.show()\n",
        "\n",
        "print('---- classification report train mod_RBC2 ----')\n",
        "print(classification_report(y_pred_RFC2_train,y_train), '\\n')\n",
        "\n",
        "print('---- classification report test mod_RBC2 ----')\n",
        "print(classification_report(y_pred_RFC2_test,y_test))"
      ]
    },
    {
      "cell_type": "markdown",
      "metadata": {
        "id": "2sHwwby8lJ1n"
      },
      "source": [
        "Evaluasi Train & Test mod_RFC2:\n",
        "\n",
        "- __Accuracy train adalah 1 dan accuracy test adalah 0.827.__ Model tergolong baik namun overfit.\n",
        "\n",
        "- __Confusion matrix test__ menunjukkan model benar memprediksi 34 pasien yang tidak akan meninggal (TP) dan 14 pasien yang akan meninggal (TN) namun salah memprediksi 5 yang tidak akan meninggal menjadi akan meninggal (FN) dan 5 yang akan meninggal menjadi tidak akan meninggal (FP). Kesalahahan prediksi False Positif atau kesalahan prediksi terhadap pasien yang akan meninggal sangat berbahaya.\n",
        "\n",
        "- __Precision test untuk 0__ yaitu 0.87(87%) yg artinya meprediksi dengan benar 87% pasien tidak akan meninggal dibandingkan seluruh prediksi pasien yang tidak akan meninggal dan gagal memprediksi 13 %. __Precision test untuk 1__ yaitu 0.74 yg artinya meprediksi dengan benar 74% pasien yang akan meninggal dibandingkan seluruh prediksi pasien yang akan meninggal dan salah memprediksi 26%.\n",
        "\n",
        "- __Recall test untuk 0__ yaitu 0.87(87%) yg artinya meprediksi dengan benar 87% pasien tidak akan meninggal dibandingkan seluruh pasien yang tidak akan meninggal dan gagal memprediksi 13%. __Recall test untuk 1__ yaitu 0.74 yg artinya meprediksi dengan benar 74% orang yang akan meninggal dibandingkan seluruh pasien yang akan meninggal dan salah memprediksi 26%.\n",
        "\n",
        "- __F1score__ adalah rata-rata dari nilai precision test dan recall test. F1score untuk pasien yang tidak akan meninggal adalah 0.87 (87%) dan untuk pasien yang akan akan meninggal adalah 0.74 (74%).\n",
        "\n",
        "- Untuk bidang medis, nilai F1score yang bagus adalah di atas 90 %. Kesalahan prediksi terhadap pasien yang seharusnya akan meninggal sangat berbahaya karena pasien tidak mendapatkan perawatan atas kondisi tubuhnya.\n",
        "\n",
        "- Kurangnya kemampuan Model memprediksi pasien yang akan meninggal disebabkan dataset contoh yang kurang seimbang antara pasien yang akan meninggal dan yang tidak akan meninggal sehingga model kurang belajar. Untuk pengembangan selanjutnya Data Scientist akan mencoba melakukan feature engineering terhadap dataset, mengeksplorasi model lain dan parameternya."
      ]
    },
    {
      "cell_type": "markdown",
      "metadata": {
        "id": "0uqwQqU_9wLP"
      },
      "source": [
        "## 2. GradientBoostingClassifier"
      ]
    },
    {
      "cell_type": "code",
      "execution_count": 58,
      "metadata": {
        "colab": {
          "base_uri": "https://localhost:8080/",
          "height": 1000
        },
        "id": "uGQNvGQ79vrQ",
        "outputId": "946eb314-12c1-4e18-8ab6-e17126783c00"
      },
      "outputs": [
        {
          "name": "stdout",
          "output_type": "stream",
          "text": [
            "accuracy score train :  0.9826839826839827\n",
            "accuracy score test :  0.8275862068965517 \n",
            "\n",
            "---- confusion matrix train and mod_GBC2 ----\n"
          ]
        },
        {
          "data": {
            "image/png": "[encoded data removed]",
            "text/plain": [
              "<Figure size 432x288 with 2 Axes>"
            ]
          },
          "metadata": {
            "needs_background": "light"
          },
          "output_type": "display_data"
        },
        {
          "name": "stdout",
          "output_type": "stream",
          "text": [
            "---- confusion matrix train mod_GBC2 ----\n"
          ]
        },
        {
          "data": {
            "image/png": "[encoded data removed]",
            "text/plain": [
              "<Figure size 432x288 with 2 Axes>"
            ]
          },
          "metadata": {
            "needs_background": "light"
          },
          "output_type": "display_data"
        },
        {
          "name": "stdout",
          "output_type": "stream",
          "text": [
            "---- classification report train mod_GBC2 ----\n",
            "              precision    recall  f1-score   support\n",
            "\n",
            "           0       0.99      0.98      0.99       157\n",
            "           1       0.96      0.99      0.97        74\n",
            "\n",
            "    accuracy                           0.98       231\n",
            "   macro avg       0.98      0.98      0.98       231\n",
            "weighted avg       0.98      0.98      0.98       231\n",
            " \n",
            "\n",
            "---- classification report test mod_GBC2 ----\n",
            "              precision    recall  f1-score   support\n",
            "\n",
            "           0       0.87      0.87      0.87        39\n",
            "           1       0.74      0.74      0.74        19\n",
            "\n",
            "    accuracy                           0.83        58\n",
            "   macro avg       0.80      0.80      0.80        58\n",
            "weighted avg       0.83      0.83      0.83        58\n",
            "\n"
          ]
        }
      ],
      "source": [
        "# evaluasi train mod_GBC2\n",
        "\n",
        "print('accuracy score train : ',accuracy_score(y_pred_GBC2_train, y_train))\n",
        "print('accuracy score test : ',accuracy_score(y_pred_GBC2_test, y_test), '\\n')\n",
        "\n",
        "print('---- confusion matrix train and mod_GBC2 ----')\n",
        "\n",
        "cm = confusion_matrix(y_train, y_pred_GBC2_train, labels=mod_GBC2.classes_)\n",
        "disp = ConfusionMatrixDisplay(confusion_matrix=cm, display_labels=mod_GBC2.classes_)\n",
        "\n",
        "disp.plot()\n",
        "plt.title('Train Cofussion Matrix')\n",
        "plt.show()\n",
        "\n",
        "print('---- confusion matrix train mod_GBC2 ----')\n",
        "\n",
        "cm = confusion_matrix(y_test, y_pred_GBC2_test, labels=mod_GBC2.classes_)\n",
        "disp = ConfusionMatrixDisplay(confusion_matrix=cm, display_labels=mod_GBC2.classes_)\n",
        "\n",
        "disp.plot()\n",
        "plt.title('Test Cofussion Matrix')\n",
        "plt.show()\n",
        "\n",
        "print('---- classification report train mod_GBC2 ----')\n",
        "print(classification_report(y_pred_GBC2_train,y_train), '\\n')\n",
        "\n",
        "print('---- classification report test mod_GBC2 ----')\n",
        "print(classification_report(y_pred_GBC2_test,y_test))"
      ]
    },
    {
      "cell_type": "markdown",
      "metadata": {
        "id": "9jsvoN6HlLde"
      },
      "source": [
        "Evaluasi Train & Test mod_GBC2:\n",
        "\n",
        "- __Accuracy train adalah 0.98 dan accuracy test adalah 0.827.__ Model tergolong baik namun goodfit.\n",
        "\n",
        "- __Confusion matrix test__ menunjukkan model benar memprediksi 34 pasien yang tidak akan meninggal (TP) dan 14 pasien yang akan meninggal (TN) namun salah memprediksi 5 yang tidak akan meninggal menjadi akan meninggal (FN) dan 5 yang akan meninggal menjadi tidak akan meninggal (FP). Kesalahahan prediksi False Positif atau kesalahan prediksi terhadap pasien yang akan meninggal sangat berbahaya.\n",
        "\n",
        "- __Precision test untuk 0__ yaitu 0.74(74%) yg artinya meprediksi dengan benar 74% pasien tidak akan meninggal dibandingkan seluruh prediksi pasien yang tidak akan meninggal dan gagal memprediksi 26 %. __Precision test untuk 1__ yaitu 0.74 yg artinya meprediksi dengan benar 74% pasien yang akan meninggal dibandingkan seluruh prediksi pasien yang akan meninggal dan salah memprediksi 26%.\n",
        "\n",
        "- __Recall test untuk 0__ yaitu 74(74%) yg artinya meprediksi dengan benar 74% pasien tidak akan meninggal dibandingkan seluruh pasien yang tidak akan meninggal dan gagal memprediksi 26%. __Recall test untuk 1__ yaitu 0.74 yg artinya meprediksi dengan benar 74% orang yang akan meninggal dibandingkan seluruh pasien yang akan meninggal dan salah memprediksi 26%.\n",
        "\n",
        "- __F1score test__ adalah rata-rata dari nilai precision test dan recall test. F1score untuk pasien yang tidak akan meninggal adalah 0.87 (87%) dan untuk pasien yang akan akan meninggal adalah 0.74 (74%).\n",
        "\n",
        "- Untuk bidang medis, nilai F1score yang bagus adalah di atas 90 %. Kesalahan prediksi terhadap pasien yang seharusnya akan meninggal sangat berbahaya karena pasien tidak mendapatkan perawatan atas kondisi tubuhnya.\n",
        "\n",
        "- Kurangnya kemampuan Model memprediksi pasien yang akan meninggal disebabkan dataset contoh yang kurang seimbang antara pasien yang akan meninggal dan yang tidak akan meninggal sehingga model kurang belajar. Untuk pengembangan selanjutnya Data Scientist akan mencoba melakukan feature engineering terhadap dataset, mengeksplorasi model lain dan parameternya.\n"
      ]
    },
    {
      "cell_type": "markdown",
      "metadata": {
        "id": "IO1pe3wZeoeU"
      },
      "source": [
        "---\n",
        "Statement:\n",
        "1. Untuk bidang medis, nilai F1score yang bagus adalah di atas 90 %. Kesalahan prediksi terhadap pasien yang seharusnya akan meninggal sangat berbahaya karena pasien tidak mendapatkan perawatan atas kondisi tubuhnya.\n",
        "2. Model menggunakan RandomForestClassifier atau mod_RFC2 memiliki f1score 87% untuk pasien yang tidak akan meninggal dan f1score 74 % untuk pasien yang akan meninggal. \n",
        "3. Model menggunakan GradientBoostingClassifier atau mod_GBC2 memiliki f1score 87% untuk pasien yang tidak akan meninggal dan f1score 74 % untuk pasien yang akan meninggal.\n",
        "4. mod_RFC2 dan mod_GBC2 memiliki ketepatan yang sama.\n",
        "5. Kurangnya kemampuan Model memprediksi pasien yang akan meninggal disebabkan dataset contoh yang kurang seimbang antara pasien yang akan meninggal dan yang tidak akan meninggal sehingga model kurang belajar. Untuk pengembangan selanjutnya Data Scientist akan mencoba melakukan feature engineering terhadap dataset, mengeksplorasi model selain RandomForestClassifier dan GradientBoostingClassifier dan melakukan hipertuning."
      ]
    },
    {
      "cell_type": "markdown",
      "metadata": {
        "id": "s5VKnC_0tUoT"
      },
      "source": [
        "# IX. Model Inference"
      ]
    },
    {
      "cell_type": "code",
      "execution_count": 59,
      "metadata": {
        "colab": {
          "base_uri": "https://localhost:8080/",
          "height": 206
        },
        "id": "JJRIP_attX2E",
        "outputId": "733601ce-d312-4d8b-906d-c8ea71a70d79"
      },
      "outputs": [
        {
          "data": {
            "text/html": [
              "\n",
              "  <div id=\"df-2e1cb90f-b86b-4d6d-80fe-40071a4a91ab\">\n",
              "    <div class=\"colab-df-container\">\n",
              "      <div>\n",
              "<style scoped>\n",
              "    .dataframe tbody tr th:only-of-type {\n",
              "        vertical-align: middle;\n",
              "    }\n",
              "\n",
              "    .dataframe tbody tr th {\n",
              "        vertical-align: top;\n",
              "    }\n",
              "\n",
              "    .dataframe thead th {\n",
              "        text-align: right;\n",
              "    }\n",
              "</style>\n",
              "<table border=\"1\" class=\"dataframe\">\n",
              "  <thead>\n",
              "    <tr style=\"text-align: right;\">\n",
              "      <th></th>\n",
              "      <th>age</th>\n",
              "      <th>anemia</th>\n",
              "      <th>creatinine_phosphokinase</th>\n",
              "      <th>diabetes</th>\n",
              "      <th>ejection_fraction</th>\n",
              "      <th>high_blood_pressure</th>\n",
              "      <th>platelets</th>\n",
              "      <th>serum_creatinine</th>\n",
              "      <th>serum_sodium</th>\n",
              "      <th>sex</th>\n",
              "      <th>smoking</th>\n",
              "      <th>time</th>\n",
              "      <th>DEATH_EVENT</th>\n",
              "    </tr>\n",
              "  </thead>\n",
              "  <tbody>\n",
              "    <tr>\n",
              "      <th>0</th>\n",
              "      <td>72</td>\n",
              "      <td>0</td>\n",
              "      <td>211</td>\n",
              "      <td>0</td>\n",
              "      <td>25</td>\n",
              "      <td>0</td>\n",
              "      <td>274000.0</td>\n",
              "      <td>1.2</td>\n",
              "      <td>134</td>\n",
              "      <td>0</td>\n",
              "      <td>0</td>\n",
              "      <td>207</td>\n",
              "      <td>0</td>\n",
              "    </tr>\n",
              "    <tr>\n",
              "      <th>1</th>\n",
              "      <td>42</td>\n",
              "      <td>0</td>\n",
              "      <td>64</td>\n",
              "      <td>0</td>\n",
              "      <td>40</td>\n",
              "      <td>0</td>\n",
              "      <td>189000.0</td>\n",
              "      <td>0.7</td>\n",
              "      <td>140</td>\n",
              "      <td>1</td>\n",
              "      <td>0</td>\n",
              "      <td>245</td>\n",
              "      <td>0</td>\n",
              "    </tr>\n",
              "    <tr>\n",
              "      <th>2</th>\n",
              "      <td>49</td>\n",
              "      <td>0</td>\n",
              "      <td>972</td>\n",
              "      <td>1</td>\n",
              "      <td>35</td>\n",
              "      <td>1</td>\n",
              "      <td>268000.0</td>\n",
              "      <td>0.8</td>\n",
              "      <td>130</td>\n",
              "      <td>0</td>\n",
              "      <td>0</td>\n",
              "      <td>187</td>\n",
              "      <td>0</td>\n",
              "    </tr>\n",
              "    <tr>\n",
              "      <th>3</th>\n",
              "      <td>59</td>\n",
              "      <td>1</td>\n",
              "      <td>176</td>\n",
              "      <td>1</td>\n",
              "      <td>25</td>\n",
              "      <td>0</td>\n",
              "      <td>221000.0</td>\n",
              "      <td>1.0</td>\n",
              "      <td>136</td>\n",
              "      <td>1</td>\n",
              "      <td>1</td>\n",
              "      <td>150</td>\n",
              "      <td>1</td>\n",
              "    </tr>\n",
              "    <tr>\n",
              "      <th>4</th>\n",
              "      <td>58</td>\n",
              "      <td>0</td>\n",
              "      <td>132</td>\n",
              "      <td>1</td>\n",
              "      <td>38</td>\n",
              "      <td>1</td>\n",
              "      <td>253000.0</td>\n",
              "      <td>1.0</td>\n",
              "      <td>139</td>\n",
              "      <td>1</td>\n",
              "      <td>0</td>\n",
              "      <td>230</td>\n",
              "      <td>0</td>\n",
              "    </tr>\n",
              "  </tbody>\n",
              "</table>\n",
              "</div>\n",
              "      <button class=\"colab-df-convert\" onclick=\"convertToInteractive('df-2e1cb90f-b86b-4d6d-80fe-40071a4a91ab')\"\n",
              "              title=\"Convert this dataframe to an interactive table.\"\n",
              "              style=\"display:none;\">\n",
              "        \n",
              "  <svg xmlns=\"http://www.w3.org/2000/svg\" height=\"24px\"viewBox=\"0 0 24 24\"\n",
              "       width=\"24px\">\n",
              "    <path d=\"M0 0h24v24H0V0z\" fill=\"none\"/>\n",
              "    <path d=\"M18.56 5.44l.94 2.06.94-2.06 2.06-.94-2.06-.94-.94-2.06-.94 2.06-2.06.94zm-11 1L8.5 8.5l.94-2.06 2.06-.94-2.06-.94L8.5 2.5l-.94 2.06-2.06.94zm10 10l.94 2.06.94-2.06 2.06-.94-2.06-.94-.94-2.06-.94 2.06-2.06.94z\"/><path d=\"M17.41 7.96l-1.37-1.37c-.4-.4-.92-.59-1.43-.59-.52 0-1.04.2-1.43.59L10.3 9.45l-7.72 7.72c-.78.78-.78 2.05 0 2.83L4 21.41c.39.39.9.59 1.41.59.51 0 1.02-.2 1.41-.59l7.78-7.78 2.81-2.81c.8-.78.8-2.07 0-2.86zM5.41 20L4 18.59l7.72-7.72 1.47 1.35L5.41 20z\"/>\n",
              "  </svg>\n",
              "      </button>\n",
              "      \n",
              "  <style>\n",
              "    .colab-df-container {\n",
              "      display:flex;\n",
              "      flex-wrap:wrap;\n",
              "      gap: 12px;\n",
              "    }\n",
              "\n",
              "    .colab-df-convert {\n",
              "      background-color: #E8F0FE;\n",
              "      border: none;\n",
              "      border-radius: 50%;\n",
              "      cursor: pointer;\n",
              "      display: none;\n",
              "      fill: #1967D2;\n",
              "      height: 32px;\n",
              "      padding: 0 0 0 0;\n",
              "      width: 32px;\n",
              "    }\n",
              "\n",
              "    .colab-df-convert:hover {\n",
              "      background-color: #E2EBFA;\n",
              "      box-shadow: 0px 1px 2px rgba(60, 64, 67, 0.3), 0px 1px 3px 1px rgba(60, 64, 67, 0.15);\n",
              "      fill: #174EA6;\n",
              "    }\n",
              "\n",
              "    [theme=dark] .colab-df-convert {\n",
              "      background-color: #3B4455;\n",
              "      fill: #D2E3FC;\n",
              "    }\n",
              "\n",
              "    [theme=dark] .colab-df-convert:hover {\n",
              "      background-color: #434B5C;\n",
              "      box-shadow: 0px 1px 3px 1px rgba(0, 0, 0, 0.15);\n",
              "      filter: drop-shadow(0px 1px 2px rgba(0, 0, 0, 0.3));\n",
              "      fill: #FFFFFF;\n",
              "    }\n",
              "  </style>\n",
              "\n",
              "      <script>\n",
              "        const buttonEl =\n",
              "          document.querySelector('#df-2e1cb90f-b86b-4d6d-80fe-40071a4a91ab button.colab-df-convert');\n",
              "        buttonEl.style.display =\n",
              "          google.colab.kernel.accessAllowed ? 'block' : 'none';\n",
              "\n",
              "        async function convertToInteractive(key) {\n",
              "          const element = document.querySelector('#df-2e1cb90f-b86b-4d6d-80fe-40071a4a91ab');\n",
              "          const dataTable =\n",
              "            await google.colab.kernel.invokeFunction('convertToInteractive',\n",
              "                                                     [key], {});\n",
              "          if (!dataTable) return;\n",
              "\n",
              "          const docLinkHtml = 'Like what you see? Visit the ' +\n",
              "            '<a target=\"_blank\" href=https://colab.research.google.com/notebooks/data_table.ipynb>data table notebook</a>'\n",
              "            + ' to learn more about interactive tables.';\n",
              "          element.innerHTML = '';\n",
              "          dataTable['output_type'] = 'display_data';\n",
              "          await google.colab.output.renderOutput(dataTable, element);\n",
              "          const docLink = document.createElement('div');\n",
              "          docLink.innerHTML = docLinkHtml;\n",
              "          element.appendChild(docLink);\n",
              "        }\n",
              "      </script>\n",
              "    </div>\n",
              "  </div>\n",
              "  "
            ],
            "text/plain": [
              "   age  anemia  creatinine_phosphokinase  diabetes  ejection_fraction  \\\n",
              "0   72       0                       211         0                 25   \n",
              "1   42       0                        64         0                 40   \n",
              "2   49       0                       972         1                 35   \n",
              "3   59       1                       176         1                 25   \n",
              "4   58       0                       132         1                 38   \n",
              "\n",
              "   high_blood_pressure  platelets  serum_creatinine  serum_sodium  sex  \\\n",
              "0                    0   274000.0               1.2           134    0   \n",
              "1                    0   189000.0               0.7           140    1   \n",
              "2                    1   268000.0               0.8           130    0   \n",
              "3                    0   221000.0               1.0           136    1   \n",
              "4                    1   253000.0               1.0           139    1   \n",
              "\n",
              "   smoking  time  DEATH_EVENT  \n",
              "0        0   207            0  \n",
              "1        0   245            0  \n",
              "2        0   187            0  \n",
              "3        1   150            1  \n",
              "4        0   230            0  "
            ]
          },
          "execution_count": 59,
          "metadata": {},
          "output_type": "execute_result"
        }
      ],
      "source": [
        "# show data inference\n",
        "\n",
        "data_i.head()"
      ]
    },
    {
      "cell_type": "code",
      "execution_count": 60,
      "metadata": {
        "colab": {
          "base_uri": "https://localhost:8080/"
        },
        "id": "Y5zKNXpqCx7x",
        "outputId": "bb69a5c2-5052-40e5-f8ec-98cfe0af7e07"
      },
      "outputs": [
        {
          "data": {
            "text/plain": [
              "array([[ 0.92654085,  0.97894678,  0.16666667,  0.30173354,  0.11111111,\n",
              "         0.63636364],\n",
              "       [-1.62043578,  1.46567546,  0.39393939,  0.19869075,  0.03174603,\n",
              "         0.81818182],\n",
              "       [-1.02614123,  0.72277379,  0.31818182,  0.29445993,  0.04761905,\n",
              "         0.51515152],\n",
              "       [-0.17714902,  0.24885376,  0.16666667,  0.23748333,  0.07936508,\n",
              "         0.6969697 ],\n",
              "       [-0.26204824,  1.27354572,  0.36363636,  0.27627591,  0.07936508,\n",
              "         0.78787879],\n",
              "       [-0.94124201,  1.40163221,  0.31818182,  0.40841314,  0.06349206,\n",
              "         0.81818182],\n",
              "       [-1.62043578, -0.7246036 ,  0.39393939,  0.25687962,  0.11111111,\n",
              "         0.81818182],\n",
              "       [-0.51674591,  1.52971871,  0.39393939,  0.37689417,  0.11111111,\n",
              "         0.66666667],\n",
              "       [ 1.5208354 , -0.673369  ,  0.54545455,  0.17808219,  0.20634921,\n",
              "         0.60606061],\n",
              "       [-0.77144357, -0.23787492,  0.24242424,  0.23384653,  0.03174603,\n",
              "         0.6969697 ]])"
            ]
          },
          "execution_count": 60,
          "metadata": {},
          "output_type": "execute_result"
        }
      ],
      "source": [
        "# scaling data\n",
        "\n",
        "data_i_numskew = data_i[num_skew]\n",
        "data_i_numnorm = data_i[num_norm]\n",
        "\n",
        "# scaling data_i_numnorm dengan StandardSaler\n",
        "data_i_numnorm_scaled = scaler1.transform(data_i_numnorm)\n",
        "\n",
        "# scaling data_i_numskew dengan MinMaxScaler\n",
        "data_i_numskew_scaled = scaler2.transform(data_i_numskew)\n",
        "\n",
        "# concate data\n",
        "data_i_final = np.concatenate([data_i_numnorm_scaled, data_i_numskew_scaled], axis = 1)\n",
        "\n",
        "data_i_final"
      ]
    },
    {
      "cell_type": "code",
      "execution_count": 61,
      "metadata": {
        "colab": {
          "base_uri": "https://localhost:8080/",
          "height": 437
        },
        "id": "i-va1RQaGJH8",
        "outputId": "0a1cad75-936a-4bbf-944a-03a1c7ca0927"
      },
      "outputs": [
        {
          "name": "stderr",
          "output_type": "stream",
          "text": [
            "/usr/local/lib/python3.7/dist-packages/sklearn/base.py:451: UserWarning: X does not have valid feature names, but RandomForestClassifier was fitted with feature names\n",
            "  \"X does not have valid feature names, but\"\n",
            "/usr/local/lib/python3.7/dist-packages/sklearn/base.py:451: UserWarning: X does not have valid feature names, but GradientBoostingClassifier was fitted with feature names\n",
            "  \"X does not have valid feature names, but\"\n"
          ]
        },
        {
          "data": {
            "text/html": [
              "\n",
              "  <div id=\"df-b817976b-e9c9-48d2-a3bd-d609935aff53\">\n",
              "    <div class=\"colab-df-container\">\n",
              "      <div>\n",
              "<style scoped>\n",
              "    .dataframe tbody tr th:only-of-type {\n",
              "        vertical-align: middle;\n",
              "    }\n",
              "\n",
              "    .dataframe tbody tr th {\n",
              "        vertical-align: top;\n",
              "    }\n",
              "\n",
              "    .dataframe thead th {\n",
              "        text-align: right;\n",
              "    }\n",
              "</style>\n",
              "<table border=\"1\" class=\"dataframe\">\n",
              "  <thead>\n",
              "    <tr style=\"text-align: right;\">\n",
              "      <th></th>\n",
              "      <th>age</th>\n",
              "      <th>anemia</th>\n",
              "      <th>creatinine_phosphokinase</th>\n",
              "      <th>diabetes</th>\n",
              "      <th>ejection_fraction</th>\n",
              "      <th>high_blood_pressure</th>\n",
              "      <th>platelets</th>\n",
              "      <th>serum_creatinine</th>\n",
              "      <th>serum_sodium</th>\n",
              "      <th>sex</th>\n",
              "      <th>smoking</th>\n",
              "      <th>time</th>\n",
              "      <th>DEATH_EVENT</th>\n",
              "      <th>DEATH_EVENT_RFC2</th>\n",
              "      <th>DEATH_EVENT_GBC2</th>\n",
              "    </tr>\n",
              "  </thead>\n",
              "  <tbody>\n",
              "    <tr>\n",
              "      <th>0</th>\n",
              "      <td>72</td>\n",
              "      <td>0</td>\n",
              "      <td>211</td>\n",
              "      <td>0</td>\n",
              "      <td>25</td>\n",
              "      <td>0</td>\n",
              "      <td>274000.0</td>\n",
              "      <td>1.2</td>\n",
              "      <td>134</td>\n",
              "      <td>0</td>\n",
              "      <td>0</td>\n",
              "      <td>207</td>\n",
              "      <td>0</td>\n",
              "      <td>1</td>\n",
              "      <td>1</td>\n",
              "    </tr>\n",
              "    <tr>\n",
              "      <th>1</th>\n",
              "      <td>42</td>\n",
              "      <td>0</td>\n",
              "      <td>64</td>\n",
              "      <td>0</td>\n",
              "      <td>40</td>\n",
              "      <td>0</td>\n",
              "      <td>189000.0</td>\n",
              "      <td>0.7</td>\n",
              "      <td>140</td>\n",
              "      <td>1</td>\n",
              "      <td>0</td>\n",
              "      <td>245</td>\n",
              "      <td>0</td>\n",
              "      <td>1</td>\n",
              "      <td>1</td>\n",
              "    </tr>\n",
              "    <tr>\n",
              "      <th>2</th>\n",
              "      <td>49</td>\n",
              "      <td>0</td>\n",
              "      <td>972</td>\n",
              "      <td>1</td>\n",
              "      <td>35</td>\n",
              "      <td>1</td>\n",
              "      <td>268000.0</td>\n",
              "      <td>0.8</td>\n",
              "      <td>130</td>\n",
              "      <td>0</td>\n",
              "      <td>0</td>\n",
              "      <td>187</td>\n",
              "      <td>0</td>\n",
              "      <td>1</td>\n",
              "      <td>1</td>\n",
              "    </tr>\n",
              "    <tr>\n",
              "      <th>3</th>\n",
              "      <td>59</td>\n",
              "      <td>1</td>\n",
              "      <td>176</td>\n",
              "      <td>1</td>\n",
              "      <td>25</td>\n",
              "      <td>0</td>\n",
              "      <td>221000.0</td>\n",
              "      <td>1.0</td>\n",
              "      <td>136</td>\n",
              "      <td>1</td>\n",
              "      <td>1</td>\n",
              "      <td>150</td>\n",
              "      <td>1</td>\n",
              "      <td>1</td>\n",
              "      <td>1</td>\n",
              "    </tr>\n",
              "    <tr>\n",
              "      <th>4</th>\n",
              "      <td>58</td>\n",
              "      <td>0</td>\n",
              "      <td>132</td>\n",
              "      <td>1</td>\n",
              "      <td>38</td>\n",
              "      <td>1</td>\n",
              "      <td>253000.0</td>\n",
              "      <td>1.0</td>\n",
              "      <td>139</td>\n",
              "      <td>1</td>\n",
              "      <td>0</td>\n",
              "      <td>230</td>\n",
              "      <td>0</td>\n",
              "      <td>1</td>\n",
              "      <td>1</td>\n",
              "    </tr>\n",
              "    <tr>\n",
              "      <th>5</th>\n",
              "      <td>50</td>\n",
              "      <td>1</td>\n",
              "      <td>298</td>\n",
              "      <td>0</td>\n",
              "      <td>35</td>\n",
              "      <td>0</td>\n",
              "      <td>362000.0</td>\n",
              "      <td>0.9</td>\n",
              "      <td>140</td>\n",
              "      <td>1</td>\n",
              "      <td>1</td>\n",
              "      <td>240</td>\n",
              "      <td>0</td>\n",
              "      <td>1</td>\n",
              "      <td>1</td>\n",
              "    </tr>\n",
              "    <tr>\n",
              "      <th>6</th>\n",
              "      <td>42</td>\n",
              "      <td>0</td>\n",
              "      <td>102</td>\n",
              "      <td>1</td>\n",
              "      <td>40</td>\n",
              "      <td>0</td>\n",
              "      <td>237000.0</td>\n",
              "      <td>1.2</td>\n",
              "      <td>140</td>\n",
              "      <td>1</td>\n",
              "      <td>0</td>\n",
              "      <td>74</td>\n",
              "      <td>0</td>\n",
              "      <td>1</td>\n",
              "      <td>1</td>\n",
              "    </tr>\n",
              "    <tr>\n",
              "      <th>7</th>\n",
              "      <td>55</td>\n",
              "      <td>1</td>\n",
              "      <td>170</td>\n",
              "      <td>1</td>\n",
              "      <td>40</td>\n",
              "      <td>0</td>\n",
              "      <td>336000.0</td>\n",
              "      <td>1.2</td>\n",
              "      <td>135</td>\n",
              "      <td>1</td>\n",
              "      <td>0</td>\n",
              "      <td>250</td>\n",
              "      <td>0</td>\n",
              "      <td>1</td>\n",
              "      <td>1</td>\n",
              "    </tr>\n",
              "    <tr>\n",
              "      <th>8</th>\n",
              "      <td>79</td>\n",
              "      <td>1</td>\n",
              "      <td>55</td>\n",
              "      <td>0</td>\n",
              "      <td>50</td>\n",
              "      <td>1</td>\n",
              "      <td>172000.0</td>\n",
              "      <td>1.8</td>\n",
              "      <td>133</td>\n",
              "      <td>1</td>\n",
              "      <td>0</td>\n",
              "      <td>78</td>\n",
              "      <td>0</td>\n",
              "      <td>1</td>\n",
              "      <td>1</td>\n",
              "    </tr>\n",
              "    <tr>\n",
              "      <th>9</th>\n",
              "      <td>52</td>\n",
              "      <td>0</td>\n",
              "      <td>132</td>\n",
              "      <td>0</td>\n",
              "      <td>30</td>\n",
              "      <td>0</td>\n",
              "      <td>218000.0</td>\n",
              "      <td>0.7</td>\n",
              "      <td>136</td>\n",
              "      <td>1</td>\n",
              "      <td>1</td>\n",
              "      <td>112</td>\n",
              "      <td>0</td>\n",
              "      <td>1</td>\n",
              "      <td>1</td>\n",
              "    </tr>\n",
              "  </tbody>\n",
              "</table>\n",
              "</div>\n",
              "      <button class=\"colab-df-convert\" onclick=\"convertToInteractive('df-b817976b-e9c9-48d2-a3bd-d609935aff53')\"\n",
              "              title=\"Convert this dataframe to an interactive table.\"\n",
              "              style=\"display:none;\">\n",
              "        \n",
              "  <svg xmlns=\"http://www.w3.org/2000/svg\" height=\"24px\"viewBox=\"0 0 24 24\"\n",
              "       width=\"24px\">\n",
              "    <path d=\"M0 0h24v24H0V0z\" fill=\"none\"/>\n",
              "    <path d=\"M18.56 5.44l.94 2.06.94-2.06 2.06-.94-2.06-.94-.94-2.06-.94 2.06-2.06.94zm-11 1L8.5 8.5l.94-2.06 2.06-.94-2.06-.94L8.5 2.5l-.94 2.06-2.06.94zm10 10l.94 2.06.94-2.06 2.06-.94-2.06-.94-.94-2.06-.94 2.06-2.06.94z\"/><path d=\"M17.41 7.96l-1.37-1.37c-.4-.4-.92-.59-1.43-.59-.52 0-1.04.2-1.43.59L10.3 9.45l-7.72 7.72c-.78.78-.78 2.05 0 2.83L4 21.41c.39.39.9.59 1.41.59.51 0 1.02-.2 1.41-.59l7.78-7.78 2.81-2.81c.8-.78.8-2.07 0-2.86zM5.41 20L4 18.59l7.72-7.72 1.47 1.35L5.41 20z\"/>\n",
              "  </svg>\n",
              "      </button>\n",
              "      \n",
              "  <style>\n",
              "    .colab-df-container {\n",
              "      display:flex;\n",
              "      flex-wrap:wrap;\n",
              "      gap: 12px;\n",
              "    }\n",
              "\n",
              "    .colab-df-convert {\n",
              "      background-color: #E8F0FE;\n",
              "      border: none;\n",
              "      border-radius: 50%;\n",
              "      cursor: pointer;\n",
              "      display: none;\n",
              "      fill: #1967D2;\n",
              "      height: 32px;\n",
              "      padding: 0 0 0 0;\n",
              "      width: 32px;\n",
              "    }\n",
              "\n",
              "    .colab-df-convert:hover {\n",
              "      background-color: #E2EBFA;\n",
              "      box-shadow: 0px 1px 2px rgba(60, 64, 67, 0.3), 0px 1px 3px 1px rgba(60, 64, 67, 0.15);\n",
              "      fill: #174EA6;\n",
              "    }\n",
              "\n",
              "    [theme=dark] .colab-df-convert {\n",
              "      background-color: #3B4455;\n",
              "      fill: #D2E3FC;\n",
              "    }\n",
              "\n",
              "    [theme=dark] .colab-df-convert:hover {\n",
              "      background-color: #434B5C;\n",
              "      box-shadow: 0px 1px 3px 1px rgba(0, 0, 0, 0.15);\n",
              "      filter: drop-shadow(0px 1px 2px rgba(0, 0, 0, 0.3));\n",
              "      fill: #FFFFFF;\n",
              "    }\n",
              "  </style>\n",
              "\n",
              "      <script>\n",
              "        const buttonEl =\n",
              "          document.querySelector('#df-b817976b-e9c9-48d2-a3bd-d609935aff53 button.colab-df-convert');\n",
              "        buttonEl.style.display =\n",
              "          google.colab.kernel.accessAllowed ? 'block' : 'none';\n",
              "\n",
              "        async function convertToInteractive(key) {\n",
              "          const element = document.querySelector('#df-b817976b-e9c9-48d2-a3bd-d609935aff53');\n",
              "          const dataTable =\n",
              "            await google.colab.kernel.invokeFunction('convertToInteractive',\n",
              "                                                     [key], {});\n",
              "          if (!dataTable) return;\n",
              "\n",
              "          const docLinkHtml = 'Like what you see? Visit the ' +\n",
              "            '<a target=\"_blank\" href=https://colab.research.google.com/notebooks/data_table.ipynb>data table notebook</a>'\n",
              "            + ' to learn more about interactive tables.';\n",
              "          element.innerHTML = '';\n",
              "          dataTable['output_type'] = 'display_data';\n",
              "          await google.colab.output.renderOutput(dataTable, element);\n",
              "          const docLink = document.createElement('div');\n",
              "          docLink.innerHTML = docLinkHtml;\n",
              "          element.appendChild(docLink);\n",
              "        }\n",
              "      </script>\n",
              "    </div>\n",
              "  </div>\n",
              "  "
            ],
            "text/plain": [
              "   age  anemia  creatinine_phosphokinase  diabetes  ejection_fraction  \\\n",
              "0   72       0                       211         0                 25   \n",
              "1   42       0                        64         0                 40   \n",
              "2   49       0                       972         1                 35   \n",
              "3   59       1                       176         1                 25   \n",
              "4   58       0                       132         1                 38   \n",
              "5   50       1                       298         0                 35   \n",
              "6   42       0                       102         1                 40   \n",
              "7   55       1                       170         1                 40   \n",
              "8   79       1                        55         0                 50   \n",
              "9   52       0                       132         0                 30   \n",
              "\n",
              "   high_blood_pressure  platelets  serum_creatinine  serum_sodium  sex  \\\n",
              "0                    0   274000.0               1.2           134    0   \n",
              "1                    0   189000.0               0.7           140    1   \n",
              "2                    1   268000.0               0.8           130    0   \n",
              "3                    0   221000.0               1.0           136    1   \n",
              "4                    1   253000.0               1.0           139    1   \n",
              "5                    0   362000.0               0.9           140    1   \n",
              "6                    0   237000.0               1.2           140    1   \n",
              "7                    0   336000.0               1.2           135    1   \n",
              "8                    1   172000.0               1.8           133    1   \n",
              "9                    0   218000.0               0.7           136    1   \n",
              "\n",
              "   smoking  time  DEATH_EVENT  DEATH_EVENT_RFC2  DEATH_EVENT_GBC2  \n",
              "0        0   207            0                 1                 1  \n",
              "1        0   245            0                 1                 1  \n",
              "2        0   187            0                 1                 1  \n",
              "3        1   150            1                 1                 1  \n",
              "4        0   230            0                 1                 1  \n",
              "5        1   240            0                 1                 1  \n",
              "6        0    74            0                 1                 1  \n",
              "7        0   250            0                 1                 1  \n",
              "8        0    78            0                 1                 1  \n",
              "9        1   112            0                 1                 1  "
            ]
          },
          "execution_count": 61,
          "metadata": {},
          "output_type": "execute_result"
        }
      ],
      "source": [
        "# modeling and make a new dataframe\n",
        "\n",
        "# predict with mod_RFC2 and make columns\n",
        "\n",
        "y_i_pred_RFC2 = mod_RFC2.predict(data_i_final)\n",
        "y_i_pred_RFC2_data = pd.DataFrame(y_i_pred_RFC2, columns = ['DEATH_EVENT_RFC2'])\n",
        "\n",
        "# predict with mod_GBC2 and make columns\n",
        "\n",
        "y_i_pred_GBC2 = mod_GBC2.predict(data_i_final)\n",
        "y_i_pred_GBC2_data = pd.DataFrame(y_i_pred_GBC2, columns = ['DEATH_EVENT_GBC2'])\n",
        "\n",
        "# make a new dataframe\n",
        "\n",
        "presented_data_i = pd.concat([data_i, y_i_pred_RFC2_data, y_i_pred_GBC2_data], axis=1)\n",
        "presented_data_i"
      ]
    },
    {
      "cell_type": "markdown",
      "metadata": {
        "id": "yKnRtaeznuWs"
      },
      "source": [
        "Dari 10 data inference ada 9 salah prediksi yang dilakukan oleh mod_RFC2 dan 9 salah prediksi yang dilakukan oleh mod_GBC2."
      ]
    },
    {
      "cell_type": "markdown",
      "metadata": {
        "id": "-dAutgoRoSei"
      },
      "source": [
        "---\n",
        "Statement:\n",
        "- Dari 10 data inference ada 9 salah prediksi yang dilakukan oleh mod_RFC2 dan 9 salah prediksi yang dilakukan oleh mod_GBC2. Hasil cukup buruk yang dimungkinkan karena f1 score dari kedua model masih dibawah 90%."
      ]
    },
    {
      "cell_type": "markdown",
      "metadata": {
        "id": "ZCB5zhz3tYHS"
      },
      "source": [
        "# X. Pengambilan Kesimpulan"
      ]
    },
    {
      "cell_type": "markdown",
      "metadata": {
        "id": "yUC7O3vBJoGf"
      },
      "source": [
        "Dari proses EDA ditemukan beberapa hal:\n",
        "- Data Scientist melakukan evaluasi terhadap fitur dengan countplot, histplot, dan cmap.\n",
        "- Data Scientist menemukan kolom age, ejection_fraction, platelets, serum_creatine, serum_sodium, dan time memiliki pengaruh dalam memprediksi tingkat kematian. Pasien yang berumur 60 tahun ke atas memiliki tingkat kematian lebih tinggi. Pasien yang diminta melakukan follow up lebih dekat jangka waktunya memiliki tingkat kematian lebih tinggi. Begitu pula dengan pasien yang berada diluar batas normal kadar ejection_fraction, platelets, serum_creatine, serum_sodium.\n",
        "\n",
        "Dari preprocessing ditemukan beberapa hal:\n",
        "- Tidak ada outlier pada kolom age dan time.\n",
        "- Outlier yang ada pada ejection_fraction, platelets, serum_creatine, serum_sodium adalah outlier natural sehingga tidak dilakukan handling.\n",
        "- Data Scientist melakukan StandardScaling pada kolom age dan time serta MinMaxScaling pada kolom ejection_fraction, platelets, serum_creatine, serum_sodium.\n",
        "\n",
        "Dari proses model evaluation dan analysis didapatkan:\n",
        "- Data Scientist menggunakan model Random Forest Classifier dan Gradient Bosting Classifier untuk meningkatkan kinerja model.\n",
        "- Model Random Forest Classifier dan Gradient Boosting Classifier yang telah dituning memiliki nilai precision, recall, dan f1score yang sama yaitu 74% untuk memprediksi apakah seorang pasien akan meninggal atau tidak. Hal ini mungkin disebabkan karena data yang kurang balance.\n",
        "- Kedua model belum memenuhi treshold model dunia medis yaitu sama dengan atau di atas 90%.\n",
        "\n",
        "Insight:\n",
        "- Dibutuhkan data yang lebih seimbang untuk pasien yang akhirnya meninggal setelah melakukan pemeriksaan.\n",
        "- Data Scientist perlu mencoba model lainnya."
      ]
    },
    {
      "cell_type": "markdown",
      "metadata": {
        "id": "GXxMqA_otcAe"
      },
      "source": [
        "# XI. Conceptual Problems"
      ]
    },
    {
      "cell_type": "markdown",
      "metadata": {
        "id": "S4LoC0s68fTA"
      },
      "source": [
        "Pertanyaan:\n",
        "\n",
        "1. Apakah yang dimaksud dengan Bagging?\n",
        "\n",
        "2. Jelaskan perbedaan algoritma Random Forest dengan algoritma boosting yang Anda pilih?"
      ]
    },
    {
      "cell_type": "markdown",
      "metadata": {
        "id": "PBKoxEaB8loJ"
      },
      "source": [
        "Jawab 1\n",
        "\n",
        "Bagging, juga dikenal sebagai bootstrap aggregating, adalah proses dengan menggunakan beberapa model dari algoritma yang sama, dan melatih setiap model pada sampel berbeda dari dataset yang sama. Prediksi yang dibuat oleh setiap model kemudian digabungkan menggunakan statistik sederhana, seperti voting atau rata-rata."
      ]
    },
    {
      "cell_type": "markdown",
      "metadata": {
        "id": "LZJJ01LI8n73"
      },
      "source": [
        "Jawab 2\n",
        "\n",
        "Random Forest adalah salah satu algoritma bagging yang pengertiannya sudah dijelaskan di Jawab 1.\n",
        "\n",
        "Algoritma boosting yang Data Scientist pilih adalah Gradient Boost.\n",
        "Gradient boost sebagai anggota dari algoritma boosting adalah variasi bagging, di mana setiap model individu dibangun secara berurutan, mengulangi yang sebelumnya. Dalam prosesnya, setiap titik data yang salah diklasifikasikan oleh model sebelumnya ditekankan dalam model berikutnya. Hal ini dilakukan untuk meningkatkan akurasi model secara keseluruhan."
      ]
    }
  ],
  "metadata": {
    "colab": {
      "collapsed_sections": [],
      "provenance": [],
      "toc_visible": true
    },
    "kernelspec": {
      "display_name": "base",
      "language": "python",
      "name": "python3"
    },
    "language_info": {
      "name": "python",
      "version": "3.9.12 (main, Apr  4 2022, 05:22:27) [MSC v.1916 64 bit (AMD64)]"
    },
    "vscode": {
      "interpreter": {
        "hash": "ad2bdc8ecc057115af97d19610ffacc2b4e99fae6737bb82f5d7fb13d2f2c186"
      }
    }
  },
  "nbformat": 4,
  "nbformat_minor": 0
}
