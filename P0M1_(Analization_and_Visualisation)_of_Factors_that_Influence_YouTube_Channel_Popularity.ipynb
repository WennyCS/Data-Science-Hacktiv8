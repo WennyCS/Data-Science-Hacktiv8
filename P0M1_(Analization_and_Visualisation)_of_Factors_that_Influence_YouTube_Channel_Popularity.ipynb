{
  "cells": [
    {
      "cell_type": "markdown",
      "metadata": {
        "id": "jQKvaChvIiVd"
      },
      "source": [
        "# Milestone-1a\n",
        "\n",
        "Nama: Wenny\n",
        "\n",
        "Batch: 15\n",
        "\n",
        "Dataset:https://www.kaggle.com/datasets/surajjha101/top-youtube-channels-data\n",
        "\n",
        "Dashboard: https://datastudio.google.com/reporting/0a7cca00-416e-4004-b092-11be0b8bbada\n",
        "\n",
        "Fungsi dari Google Data Studio: https://support.google.com/datastudio/table/6379764?hl=en"
      ]
    },
    {
      "cell_type": "markdown",
      "metadata": {
        "id": "e0prdPQWYQTC"
      },
      "source": [
        "## Problem Identification\n",
        "\n",
        "**Topic:** Popularity, Youtube, Viewers, Upload Videos, Channel Years, Video Categories, 2022 \n",
        "\n",
        "**Background:**\n",
        "\n",
        "  Seorang politikus Tuan Iskandar, ingin mendapatkan simpatik rakyat melalui media sosial youtube.\n",
        "  Asistennya mendatangi kantor Data Scientist tempat Anda bekerja dan meminta Anda melakukan penelitian terhadap metrik-metrik yang mempengaruhi popularitas seseorang di youtube di tahun 2022.\n",
        "\n",
        "**Problem Statement:**\n",
        "\n",
        "Memberikan rekomendasi konten-konten yang dapat menaikkan engagement untuk pembuatan channel baru di Youtube pada tahun 2022.\n",
        "\n",
        "**Yang akan diulik:** (4 visualisasi), (1 statistik deskriptiv), (1 statistik inferensia)\n",
        "- Siapa youtuber dengan most viewed video terbanyak di youtube?\n",
        "- Bagaimana hubungan antara jumlah subscribe channel dengan most viewed video di youtube?\n",
        "- Bagaimana hubungan antara kategori video dengan most viewed video di youtube? \n",
        "- Bagaimana hubungan antara tahun pembuatan channel dengan most viewed video di youtube?\n",
        "- Bagaimana hubungan antara total upload video dengan most viewed video di youtube? \n",
        "\n",
        "\n"
      ]
    },
    {
      "cell_type": "markdown",
      "metadata": {
        "id": "4ee19-xlIc6O"
      },
      "source": [
        "## Start Working"
      ]
    },
    {
      "cell_type": "code",
      "execution_count": null,
      "metadata": {
        "id": "wdL6fFieIhmH"
      },
      "outputs": [],
      "source": [
        "import pandas as pd\n",
        "import numpy as np\n",
        "import matplotlib.pyplot as plt\n",
        "import seaborn as sns\n",
        "from scipy import stats\n",
        "# from google.colab import files untuk menyimpan csv dari colab ke lokal"
      ]
    },
    {
      "cell_type": "markdown",
      "metadata": {
        "id": "FxOE6WKdQNma"
      },
      "source": [
        "## I. Data Loading"
      ]
    },
    {
      "cell_type": "markdown",
      "metadata": {
        "id": "_NKMp1sXIqbv"
      },
      "source": [
        "Melakukan loading data."
      ]
    },
    {
      "cell_type": "code",
      "execution_count": null,
      "metadata": {
        "id": "b3X7NoIzRSfr"
      },
      "outputs": [],
      "source": [
        "pd.set_option('display.max_columns', None)"
      ]
    },
    {
      "cell_type": "code",
      "execution_count": null,
      "metadata": {
        "colab": {
          "base_uri": "https://localhost:8080/",
          "height": 206
        },
        "id": "lBIrfVZSQJuh",
        "outputId": "56c98c7c-3e9f-4323-a413-802bd822e035"
      },
      "outputs": [
        {
          "data": {
            "text/html": [
              "<div>\n",
              "<style scoped>\n",
              "    .dataframe tbody tr th:only-of-type {\n",
              "        vertical-align: middle;\n",
              "    }\n",
              "\n",
              "    .dataframe tbody tr th {\n",
              "        vertical-align: top;\n",
              "    }\n",
              "\n",
              "    .dataframe thead th {\n",
              "        text-align: right;\n",
              "    }\n",
              "</style>\n",
              "<table border=\"1\" class=\"dataframe\">\n",
              "  <thead>\n",
              "    <tr style=\"text-align: right;\">\n",
              "      <th></th>\n",
              "      <th>rank</th>\n",
              "      <th>Youtuber</th>\n",
              "      <th>subscribers</th>\n",
              "      <th>video views</th>\n",
              "      <th>video count</th>\n",
              "      <th>category</th>\n",
              "      <th>started</th>\n",
              "    </tr>\n",
              "  </thead>\n",
              "  <tbody>\n",
              "    <tr>\n",
              "      <th>0</th>\n",
              "      <td>1</td>\n",
              "      <td>T-Series</td>\n",
              "      <td>222,000,000</td>\n",
              "      <td>198,459,090,822</td>\n",
              "      <td>17,317</td>\n",
              "      <td>Music</td>\n",
              "      <td>2006</td>\n",
              "    </tr>\n",
              "    <tr>\n",
              "      <th>1</th>\n",
              "      <td>2</td>\n",
              "      <td>YouTube Movies</td>\n",
              "      <td>154,000,000</td>\n",
              "      <td>0</td>\n",
              "      <td>0</td>\n",
              "      <td>Film &amp; Animation</td>\n",
              "      <td>2015</td>\n",
              "    </tr>\n",
              "    <tr>\n",
              "      <th>2</th>\n",
              "      <td>3</td>\n",
              "      <td>Cocomelon - Nursery Rhymes</td>\n",
              "      <td>140,000,000</td>\n",
              "      <td>135,481,339,848</td>\n",
              "      <td>786</td>\n",
              "      <td>Education</td>\n",
              "      <td>2006</td>\n",
              "    </tr>\n",
              "    <tr>\n",
              "      <th>3</th>\n",
              "      <td>4</td>\n",
              "      <td>SET India</td>\n",
              "      <td>139,000,000</td>\n",
              "      <td>125,764,252,686</td>\n",
              "      <td>91,271</td>\n",
              "      <td>Shows</td>\n",
              "      <td>2006</td>\n",
              "    </tr>\n",
              "    <tr>\n",
              "      <th>4</th>\n",
              "      <td>5</td>\n",
              "      <td>Music</td>\n",
              "      <td>116,000,000</td>\n",
              "      <td>0</td>\n",
              "      <td>0</td>\n",
              "      <td>NaN</td>\n",
              "      <td>2013</td>\n",
              "    </tr>\n",
              "  </tbody>\n",
              "</table>\n",
              "</div>"
            ],
            "text/plain": [
              "   rank                    Youtuber  subscribers      video views video count  \\\n",
              "0     1                    T-Series  222,000,000  198,459,090,822      17,317   \n",
              "1     2              YouTube Movies  154,000,000                0           0   \n",
              "2     3  Cocomelon - Nursery Rhymes  140,000,000  135,481,339,848         786   \n",
              "3     4                   SET India  139,000,000  125,764,252,686      91,271   \n",
              "4     5                       Music  116,000,000                0           0   \n",
              "\n",
              "           category  started  \n",
              "0             Music     2006  \n",
              "1  Film & Animation     2015  \n",
              "2         Education     2006  \n",
              "3             Shows     2006  \n",
              "4               NaN     2013  "
            ]
          },
          "execution_count": 3,
          "metadata": {},
          "output_type": "execute_result"
        }
      ],
      "source": [
        "youtuberaw = pd.read_csv('youtuberaw.csv')\n",
        "\n",
        "youtuberaw.head()"
      ]
    },
    {
      "cell_type": "code",
      "execution_count": null,
      "metadata": {
        "colab": {
          "base_uri": "https://localhost:8080/",
          "height": 206
        },
        "id": "6uGb5TKIROHz",
        "outputId": "8f411758-3d0d-463a-b547-b6c1101b51ae"
      },
      "outputs": [
        {
          "data": {
            "text/html": [
              "<div>\n",
              "<style scoped>\n",
              "    .dataframe tbody tr th:only-of-type {\n",
              "        vertical-align: middle;\n",
              "    }\n",
              "\n",
              "    .dataframe tbody tr th {\n",
              "        vertical-align: top;\n",
              "    }\n",
              "\n",
              "    .dataframe thead th {\n",
              "        text-align: right;\n",
              "    }\n",
              "</style>\n",
              "<table border=\"1\" class=\"dataframe\">\n",
              "  <thead>\n",
              "    <tr style=\"text-align: right;\">\n",
              "      <th></th>\n",
              "      <th>rank</th>\n",
              "      <th>Youtuber</th>\n",
              "      <th>subscribers</th>\n",
              "      <th>video views</th>\n",
              "      <th>video count</th>\n",
              "      <th>category</th>\n",
              "      <th>started</th>\n",
              "    </tr>\n",
              "  </thead>\n",
              "  <tbody>\n",
              "    <tr>\n",
              "      <th>995</th>\n",
              "      <td>996</td>\n",
              "      <td>JP Plays</td>\n",
              "      <td>10,900,000</td>\n",
              "      <td>4,609,300,218</td>\n",
              "      <td>3,528</td>\n",
              "      <td>Gaming</td>\n",
              "      <td>2014</td>\n",
              "    </tr>\n",
              "    <tr>\n",
              "      <th>996</th>\n",
              "      <td>997</td>\n",
              "      <td>TrapMusicHDTV</td>\n",
              "      <td>10,900,000</td>\n",
              "      <td>4,070,521,973</td>\n",
              "      <td>690</td>\n",
              "      <td>Music</td>\n",
              "      <td>2013</td>\n",
              "    </tr>\n",
              "    <tr>\n",
              "      <th>997</th>\n",
              "      <td>998</td>\n",
              "      <td>Games EduUu</td>\n",
              "      <td>10,900,000</td>\n",
              "      <td>3,093,784,767</td>\n",
              "      <td>1,006</td>\n",
              "      <td>Gaming</td>\n",
              "      <td>2011</td>\n",
              "    </tr>\n",
              "    <tr>\n",
              "      <th>998</th>\n",
              "      <td>999</td>\n",
              "      <td>Hueva</td>\n",
              "      <td>10,900,000</td>\n",
              "      <td>3,040,301,750</td>\n",
              "      <td>831</td>\n",
              "      <td>Gaming</td>\n",
              "      <td>2012</td>\n",
              "    </tr>\n",
              "    <tr>\n",
              "      <th>999</th>\n",
              "      <td>1000</td>\n",
              "      <td>Dobre Brothers</td>\n",
              "      <td>10,900,000</td>\n",
              "      <td>2,808,411,693</td>\n",
              "      <td>590</td>\n",
              "      <td>People &amp; Blogs</td>\n",
              "      <td>2017</td>\n",
              "    </tr>\n",
              "  </tbody>\n",
              "</table>\n",
              "</div>"
            ],
            "text/plain": [
              "     rank        Youtuber subscribers    video views video count  \\\n",
              "995   996        JP Plays  10,900,000  4,609,300,218       3,528   \n",
              "996   997   TrapMusicHDTV  10,900,000  4,070,521,973         690   \n",
              "997   998     Games EduUu  10,900,000  3,093,784,767       1,006   \n",
              "998   999           Hueva  10,900,000  3,040,301,750         831   \n",
              "999  1000  Dobre Brothers  10,900,000  2,808,411,693         590   \n",
              "\n",
              "           category  started  \n",
              "995          Gaming     2014  \n",
              "996           Music     2013  \n",
              "997          Gaming     2011  \n",
              "998          Gaming     2012  \n",
              "999  People & Blogs     2017  "
            ]
          },
          "execution_count": 4,
          "metadata": {},
          "output_type": "execute_result"
        }
      ],
      "source": [
        "youtuberaw.tail()"
      ]
    },
    {
      "cell_type": "markdown",
      "metadata": {
        "id": "Lk0HgJAbmFFT"
      },
      "source": [
        "## II. Data Cleaning"
      ]
    },
    {
      "cell_type": "code",
      "execution_count": null,
      "metadata": {
        "colab": {
          "base_uri": "https://localhost:8080/",
          "height": 206
        },
        "id": "y6HoXh5KmTNg",
        "outputId": "b3b0bd50-52a7-41ca-ccf4-f47125d42c4c"
      },
      "outputs": [
        {
          "data": {
            "text/html": [
              "<div>\n",
              "<style scoped>\n",
              "    .dataframe tbody tr th:only-of-type {\n",
              "        vertical-align: middle;\n",
              "    }\n",
              "\n",
              "    .dataframe tbody tr th {\n",
              "        vertical-align: top;\n",
              "    }\n",
              "\n",
              "    .dataframe thead th {\n",
              "        text-align: right;\n",
              "    }\n",
              "</style>\n",
              "<table border=\"1\" class=\"dataframe\">\n",
              "  <thead>\n",
              "    <tr style=\"text-align: right;\">\n",
              "      <th></th>\n",
              "      <th>rank</th>\n",
              "      <th>Youtuber</th>\n",
              "      <th>subscribers</th>\n",
              "      <th>video views</th>\n",
              "      <th>video count</th>\n",
              "      <th>category</th>\n",
              "      <th>started</th>\n",
              "    </tr>\n",
              "  </thead>\n",
              "  <tbody>\n",
              "    <tr>\n",
              "      <th>0</th>\n",
              "      <td>1</td>\n",
              "      <td>T-Series</td>\n",
              "      <td>222,000,000</td>\n",
              "      <td>198,459,090,822</td>\n",
              "      <td>17,317</td>\n",
              "      <td>Music</td>\n",
              "      <td>2006</td>\n",
              "    </tr>\n",
              "    <tr>\n",
              "      <th>1</th>\n",
              "      <td>2</td>\n",
              "      <td>YouTube Movies</td>\n",
              "      <td>154,000,000</td>\n",
              "      <td>0</td>\n",
              "      <td>0</td>\n",
              "      <td>Film &amp; Animation</td>\n",
              "      <td>2015</td>\n",
              "    </tr>\n",
              "    <tr>\n",
              "      <th>2</th>\n",
              "      <td>3</td>\n",
              "      <td>Cocomelon - Nursery Rhymes</td>\n",
              "      <td>140,000,000</td>\n",
              "      <td>135,481,339,848</td>\n",
              "      <td>786</td>\n",
              "      <td>Education</td>\n",
              "      <td>2006</td>\n",
              "    </tr>\n",
              "    <tr>\n",
              "      <th>3</th>\n",
              "      <td>4</td>\n",
              "      <td>SET India</td>\n",
              "      <td>139,000,000</td>\n",
              "      <td>125,764,252,686</td>\n",
              "      <td>91,271</td>\n",
              "      <td>Shows</td>\n",
              "      <td>2006</td>\n",
              "    </tr>\n",
              "    <tr>\n",
              "      <th>4</th>\n",
              "      <td>5</td>\n",
              "      <td>Music</td>\n",
              "      <td>116,000,000</td>\n",
              "      <td>0</td>\n",
              "      <td>0</td>\n",
              "      <td>NaN</td>\n",
              "      <td>2013</td>\n",
              "    </tr>\n",
              "  </tbody>\n",
              "</table>\n",
              "</div>"
            ],
            "text/plain": [
              "   rank                    Youtuber  subscribers      video views video count  \\\n",
              "0     1                    T-Series  222,000,000  198,459,090,822      17,317   \n",
              "1     2              YouTube Movies  154,000,000                0           0   \n",
              "2     3  Cocomelon - Nursery Rhymes  140,000,000  135,481,339,848         786   \n",
              "3     4                   SET India  139,000,000  125,764,252,686      91,271   \n",
              "4     5                       Music  116,000,000                0           0   \n",
              "\n",
              "           category  started  \n",
              "0             Music     2006  \n",
              "1  Film & Animation     2015  \n",
              "2         Education     2006  \n",
              "3             Shows     2006  \n",
              "4               NaN     2013  "
            ]
          },
          "execution_count": 5,
          "metadata": {},
          "output_type": "execute_result"
        }
      ],
      "source": [
        "youtuberaw.head()"
      ]
    },
    {
      "cell_type": "markdown",
      "metadata": {
        "id": "Kph6H9ozI968"
      },
      "source": [
        "Mengubah nama kolom."
      ]
    },
    {
      "cell_type": "code",
      "execution_count": null,
      "metadata": {
        "id": "ItZviYmvXCn8"
      },
      "outputs": [],
      "source": [
        "youtuberaw = youtuberaw.rename({'video count': 'total videos', 'video views':'total video views'}, axis = 'columns')"
      ]
    },
    {
      "cell_type": "markdown",
      "metadata": {
        "id": "Y2_xsF0yJauV"
      },
      "source": [
        "Memeriksa info data."
      ]
    },
    {
      "cell_type": "code",
      "execution_count": null,
      "metadata": {
        "colab": {
          "base_uri": "https://localhost:8080/"
        },
        "id": "YMMMrq7HJY-j",
        "outputId": "04b6e0f4-5a8e-492a-d707-c001259061e6"
      },
      "outputs": [
        {
          "name": "stdout",
          "output_type": "stream",
          "text": [
            "<class 'pandas.core.frame.DataFrame'>\n",
            "RangeIndex: 1000 entries, 0 to 999\n",
            "Data columns (total 7 columns):\n",
            " #   Column             Non-Null Count  Dtype \n",
            "---  ------             --------------  ----- \n",
            " 0   rank               1000 non-null   int64 \n",
            " 1   Youtuber           1000 non-null   object\n",
            " 2   subscribers        1000 non-null   object\n",
            " 3   total video views  1000 non-null   object\n",
            " 4   total videos       1000 non-null   object\n",
            " 5   category           973 non-null    object\n",
            " 6   started            1000 non-null   int64 \n",
            "dtypes: int64(2), object(5)\n",
            "memory usage: 54.8+ KB\n"
          ]
        }
      ],
      "source": [
        "youtuberaw.info()"
      ]
    },
    {
      "cell_type": "markdown",
      "metadata": {
        "id": "1R7fygvfJjWe"
      },
      "source": [
        "Mengubah ke tipe data yang sesuai."
      ]
    },
    {
      "cell_type": "code",
      "execution_count": null,
      "metadata": {
        "id": "3h71gZNLL4MA"
      },
      "outputs": [],
      "source": [
        "youtuberaw['subscribers'] = youtuberaw['subscribers'].str.replace(',','')"
      ]
    },
    {
      "cell_type": "code",
      "execution_count": null,
      "metadata": {
        "id": "EvouoG12MStM"
      },
      "outputs": [],
      "source": [
        "youtuberaw['total video views'] = youtuberaw['total video views'].str.replace(',','')"
      ]
    },
    {
      "cell_type": "code",
      "execution_count": null,
      "metadata": {
        "id": "Cz9w3YWLMe9_"
      },
      "outputs": [],
      "source": [
        "youtuberaw['total videos'] = youtuberaw['total videos'].str.replace(',','')"
      ]
    },
    {
      "cell_type": "code",
      "execution_count": null,
      "metadata": {
        "id": "qC5R8cqtJjCL"
      },
      "outputs": [],
      "source": [
        "youtuberaw['subscribers'] = pd.to_numeric(youtuberaw['subscribers'], downcast='integer')"
      ]
    },
    {
      "cell_type": "code",
      "execution_count": null,
      "metadata": {
        "id": "6Uy83KGQM1PV"
      },
      "outputs": [],
      "source": [
        "youtuberaw['total video views'] = pd.to_numeric(youtuberaw['total video views'], downcast='integer')"
      ]
    },
    {
      "cell_type": "code",
      "execution_count": null,
      "metadata": {
        "id": "AqPPbH4nNGhJ"
      },
      "outputs": [],
      "source": [
        "youtuberaw['total videos'] = pd.to_numeric(youtuberaw['total videos'], downcast='integer')"
      ]
    },
    {
      "cell_type": "code",
      "execution_count": null,
      "metadata": {
        "colab": {
          "base_uri": "https://localhost:8080/",
          "height": 206
        },
        "id": "fsY8wj40MK-n",
        "outputId": "c607d6ec-b20e-4a99-bfb7-5751f451abf8"
      },
      "outputs": [
        {
          "data": {
            "text/html": [
              "<div>\n",
              "<style scoped>\n",
              "    .dataframe tbody tr th:only-of-type {\n",
              "        vertical-align: middle;\n",
              "    }\n",
              "\n",
              "    .dataframe tbody tr th {\n",
              "        vertical-align: top;\n",
              "    }\n",
              "\n",
              "    .dataframe thead th {\n",
              "        text-align: right;\n",
              "    }\n",
              "</style>\n",
              "<table border=\"1\" class=\"dataframe\">\n",
              "  <thead>\n",
              "    <tr style=\"text-align: right;\">\n",
              "      <th></th>\n",
              "      <th>rank</th>\n",
              "      <th>Youtuber</th>\n",
              "      <th>subscribers</th>\n",
              "      <th>total video views</th>\n",
              "      <th>total videos</th>\n",
              "      <th>category</th>\n",
              "      <th>started</th>\n",
              "    </tr>\n",
              "  </thead>\n",
              "  <tbody>\n",
              "    <tr>\n",
              "      <th>0</th>\n",
              "      <td>1</td>\n",
              "      <td>T-Series</td>\n",
              "      <td>222000000</td>\n",
              "      <td>198459090822</td>\n",
              "      <td>17317</td>\n",
              "      <td>Music</td>\n",
              "      <td>2006</td>\n",
              "    </tr>\n",
              "    <tr>\n",
              "      <th>1</th>\n",
              "      <td>2</td>\n",
              "      <td>YouTube Movies</td>\n",
              "      <td>154000000</td>\n",
              "      <td>0</td>\n",
              "      <td>0</td>\n",
              "      <td>Film &amp; Animation</td>\n",
              "      <td>2015</td>\n",
              "    </tr>\n",
              "    <tr>\n",
              "      <th>2</th>\n",
              "      <td>3</td>\n",
              "      <td>Cocomelon - Nursery Rhymes</td>\n",
              "      <td>140000000</td>\n",
              "      <td>135481339848</td>\n",
              "      <td>786</td>\n",
              "      <td>Education</td>\n",
              "      <td>2006</td>\n",
              "    </tr>\n",
              "    <tr>\n",
              "      <th>3</th>\n",
              "      <td>4</td>\n",
              "      <td>SET India</td>\n",
              "      <td>139000000</td>\n",
              "      <td>125764252686</td>\n",
              "      <td>91271</td>\n",
              "      <td>Shows</td>\n",
              "      <td>2006</td>\n",
              "    </tr>\n",
              "    <tr>\n",
              "      <th>4</th>\n",
              "      <td>5</td>\n",
              "      <td>Music</td>\n",
              "      <td>116000000</td>\n",
              "      <td>0</td>\n",
              "      <td>0</td>\n",
              "      <td>NaN</td>\n",
              "      <td>2013</td>\n",
              "    </tr>\n",
              "  </tbody>\n",
              "</table>\n",
              "</div>"
            ],
            "text/plain": [
              "   rank                    Youtuber  subscribers  total video views  \\\n",
              "0     1                    T-Series    222000000       198459090822   \n",
              "1     2              YouTube Movies    154000000                  0   \n",
              "2     3  Cocomelon - Nursery Rhymes    140000000       135481339848   \n",
              "3     4                   SET India    139000000       125764252686   \n",
              "4     5                       Music    116000000                  0   \n",
              "\n",
              "   total videos          category  started  \n",
              "0         17317             Music     2006  \n",
              "1             0  Film & Animation     2015  \n",
              "2           786         Education     2006  \n",
              "3         91271             Shows     2006  \n",
              "4             0               NaN     2013  "
            ]
          },
          "execution_count": 14,
          "metadata": {},
          "output_type": "execute_result"
        }
      ],
      "source": [
        "youtuberaw.head()"
      ]
    },
    {
      "cell_type": "code",
      "execution_count": null,
      "metadata": {
        "colab": {
          "base_uri": "https://localhost:8080/",
          "height": 300
        },
        "id": "250PNNFqHnW8",
        "outputId": "baae895c-fa4a-4dcf-fe11-f10f6791d321"
      },
      "outputs": [
        {
          "data": {
            "text/html": [
              "<div>\n",
              "<style scoped>\n",
              "    .dataframe tbody tr th:only-of-type {\n",
              "        vertical-align: middle;\n",
              "    }\n",
              "\n",
              "    .dataframe tbody tr th {\n",
              "        vertical-align: top;\n",
              "    }\n",
              "\n",
              "    .dataframe thead th {\n",
              "        text-align: right;\n",
              "    }\n",
              "</style>\n",
              "<table border=\"1\" class=\"dataframe\">\n",
              "  <thead>\n",
              "    <tr style=\"text-align: right;\">\n",
              "      <th></th>\n",
              "      <th>rank</th>\n",
              "      <th>subscribers</th>\n",
              "      <th>total video views</th>\n",
              "      <th>total videos</th>\n",
              "      <th>started</th>\n",
              "    </tr>\n",
              "  </thead>\n",
              "  <tbody>\n",
              "    <tr>\n",
              "      <th>count</th>\n",
              "      <td>1000.000000</td>\n",
              "      <td>1.000000e+03</td>\n",
              "      <td>1.000000e+03</td>\n",
              "      <td>1000.000000</td>\n",
              "      <td>1000.000000</td>\n",
              "    </tr>\n",
              "    <tr>\n",
              "      <th>mean</th>\n",
              "      <td>500.500000</td>\n",
              "      <td>2.051940e+07</td>\n",
              "      <td>9.197025e+09</td>\n",
              "      <td>8551.059000</td>\n",
              "      <td>2012.376000</td>\n",
              "    </tr>\n",
              "    <tr>\n",
              "      <th>std</th>\n",
              "      <td>288.819436</td>\n",
              "      <td>1.578167e+07</td>\n",
              "      <td>1.207128e+10</td>\n",
              "      <td>29359.950431</td>\n",
              "      <td>3.998076</td>\n",
              "    </tr>\n",
              "    <tr>\n",
              "      <th>min</th>\n",
              "      <td>1.000000</td>\n",
              "      <td>1.090000e+07</td>\n",
              "      <td>0.000000e+00</td>\n",
              "      <td>0.000000</td>\n",
              "      <td>1970.000000</td>\n",
              "    </tr>\n",
              "    <tr>\n",
              "      <th>25%</th>\n",
              "      <td>250.750000</td>\n",
              "      <td>1.260000e+07</td>\n",
              "      <td>3.582208e+09</td>\n",
              "      <td>342.250000</td>\n",
              "      <td>2010.000000</td>\n",
              "    </tr>\n",
              "    <tr>\n",
              "      <th>50%</th>\n",
              "      <td>500.500000</td>\n",
              "      <td>1.550000e+07</td>\n",
              "      <td>6.116574e+09</td>\n",
              "      <td>856.000000</td>\n",
              "      <td>2013.000000</td>\n",
              "    </tr>\n",
              "    <tr>\n",
              "      <th>75%</th>\n",
              "      <td>750.250000</td>\n",
              "      <td>2.210000e+07</td>\n",
              "      <td>1.124951e+10</td>\n",
              "      <td>3060.500000</td>\n",
              "      <td>2015.000000</td>\n",
              "    </tr>\n",
              "    <tr>\n",
              "      <th>max</th>\n",
              "      <td>1000.000000</td>\n",
              "      <td>2.220000e+08</td>\n",
              "      <td>1.984591e+11</td>\n",
              "      <td>329711.000000</td>\n",
              "      <td>2021.000000</td>\n",
              "    </tr>\n",
              "  </tbody>\n",
              "</table>\n",
              "</div>"
            ],
            "text/plain": [
              "              rank   subscribers  total video views   total videos  \\\n",
              "count  1000.000000  1.000000e+03       1.000000e+03    1000.000000   \n",
              "mean    500.500000  2.051940e+07       9.197025e+09    8551.059000   \n",
              "std     288.819436  1.578167e+07       1.207128e+10   29359.950431   \n",
              "min       1.000000  1.090000e+07       0.000000e+00       0.000000   \n",
              "25%     250.750000  1.260000e+07       3.582208e+09     342.250000   \n",
              "50%     500.500000  1.550000e+07       6.116574e+09     856.000000   \n",
              "75%     750.250000  2.210000e+07       1.124951e+10    3060.500000   \n",
              "max    1000.000000  2.220000e+08       1.984591e+11  329711.000000   \n",
              "\n",
              "           started  \n",
              "count  1000.000000  \n",
              "mean   2012.376000  \n",
              "std       3.998076  \n",
              "min    1970.000000  \n",
              "25%    2010.000000  \n",
              "50%    2013.000000  \n",
              "75%    2015.000000  \n",
              "max    2021.000000  "
            ]
          },
          "execution_count": 15,
          "metadata": {},
          "output_type": "execute_result"
        }
      ],
      "source": [
        "youtuberaw.describe()"
      ]
    },
    {
      "cell_type": "code",
      "execution_count": null,
      "metadata": {
        "colab": {
          "base_uri": "https://localhost:8080/"
        },
        "id": "yXU6RcQFNfUV",
        "outputId": "a32541da-4b4f-4307-fb08-eb4195a0f189"
      },
      "outputs": [
        {
          "name": "stdout",
          "output_type": "stream",
          "text": [
            "<class 'pandas.core.frame.DataFrame'>\n",
            "RangeIndex: 1000 entries, 0 to 999\n",
            "Data columns (total 7 columns):\n",
            " #   Column             Non-Null Count  Dtype \n",
            "---  ------             --------------  ----- \n",
            " 0   rank               1000 non-null   int64 \n",
            " 1   Youtuber           1000 non-null   object\n",
            " 2   subscribers        1000 non-null   int32 \n",
            " 3   total video views  1000 non-null   int64 \n",
            " 4   total videos       1000 non-null   int32 \n",
            " 5   category           973 non-null    object\n",
            " 6   started            1000 non-null   int64 \n",
            "dtypes: int32(2), int64(3), object(2)\n",
            "memory usage: 47.0+ KB\n"
          ]
        }
      ],
      "source": [
        "youtuberaw.info()"
      ]
    },
    {
      "cell_type": "markdown",
      "metadata": {
        "id": "VOLXwc58JFCj"
      },
      "source": [
        "Memeriksa missing values."
      ]
    },
    {
      "cell_type": "code",
      "execution_count": null,
      "metadata": {
        "colab": {
          "base_uri": "https://localhost:8080/"
        },
        "id": "60HXeAPAR9ek",
        "outputId": "332f2615-817a-4a6c-edf7-02a7905aeb70"
      },
      "outputs": [
        {
          "data": {
            "text/plain": [
              "rank                  0\n",
              "Youtuber              0\n",
              "subscribers           0\n",
              "total video views     0\n",
              "total videos          0\n",
              "category             27\n",
              "started               0\n",
              "dtype: int64"
            ]
          },
          "execution_count": 17,
          "metadata": {},
          "output_type": "execute_result"
        }
      ],
      "source": [
        "youtuberaw.isnull().sum()"
      ]
    },
    {
      "cell_type": "code",
      "execution_count": null,
      "metadata": {
        "id": "0ExXgIG744R7"
      },
      "outputs": [],
      "source": [
        "youtuberaw['category'] = youtuberaw['category'].fillna('Gabungan')"
      ]
    },
    {
      "cell_type": "code",
      "execution_count": null,
      "metadata": {
        "colab": {
          "base_uri": "https://localhost:8080/",
          "height": 424
        },
        "id": "wmTmc7Do7Ksp",
        "outputId": "055dfbe7-9319-43c6-b0f9-d8aef19b23f5"
      },
      "outputs": [
        {
          "data": {
            "text/html": [
              "<div>\n",
              "<style scoped>\n",
              "    .dataframe tbody tr th:only-of-type {\n",
              "        vertical-align: middle;\n",
              "    }\n",
              "\n",
              "    .dataframe tbody tr th {\n",
              "        vertical-align: top;\n",
              "    }\n",
              "\n",
              "    .dataframe thead th {\n",
              "        text-align: right;\n",
              "    }\n",
              "</style>\n",
              "<table border=\"1\" class=\"dataframe\">\n",
              "  <thead>\n",
              "    <tr style=\"text-align: right;\">\n",
              "      <th></th>\n",
              "      <th>rank</th>\n",
              "      <th>Youtuber</th>\n",
              "      <th>subscribers</th>\n",
              "      <th>total video views</th>\n",
              "      <th>total videos</th>\n",
              "      <th>category</th>\n",
              "      <th>started</th>\n",
              "    </tr>\n",
              "  </thead>\n",
              "  <tbody>\n",
              "    <tr>\n",
              "      <th>0</th>\n",
              "      <td>1</td>\n",
              "      <td>T-Series</td>\n",
              "      <td>222000000</td>\n",
              "      <td>198459090822</td>\n",
              "      <td>17317</td>\n",
              "      <td>Music</td>\n",
              "      <td>2006</td>\n",
              "    </tr>\n",
              "    <tr>\n",
              "      <th>1</th>\n",
              "      <td>2</td>\n",
              "      <td>YouTube Movies</td>\n",
              "      <td>154000000</td>\n",
              "      <td>0</td>\n",
              "      <td>0</td>\n",
              "      <td>Film &amp; Animation</td>\n",
              "      <td>2015</td>\n",
              "    </tr>\n",
              "    <tr>\n",
              "      <th>2</th>\n",
              "      <td>3</td>\n",
              "      <td>Cocomelon - Nursery Rhymes</td>\n",
              "      <td>140000000</td>\n",
              "      <td>135481339848</td>\n",
              "      <td>786</td>\n",
              "      <td>Education</td>\n",
              "      <td>2006</td>\n",
              "    </tr>\n",
              "    <tr>\n",
              "      <th>3</th>\n",
              "      <td>4</td>\n",
              "      <td>SET India</td>\n",
              "      <td>139000000</td>\n",
              "      <td>125764252686</td>\n",
              "      <td>91271</td>\n",
              "      <td>Shows</td>\n",
              "      <td>2006</td>\n",
              "    </tr>\n",
              "    <tr>\n",
              "      <th>4</th>\n",
              "      <td>5</td>\n",
              "      <td>Music</td>\n",
              "      <td>116000000</td>\n",
              "      <td>0</td>\n",
              "      <td>0</td>\n",
              "      <td>Gabungan</td>\n",
              "      <td>2013</td>\n",
              "    </tr>\n",
              "    <tr>\n",
              "      <th>...</th>\n",
              "      <td>...</td>\n",
              "      <td>...</td>\n",
              "      <td>...</td>\n",
              "      <td>...</td>\n",
              "      <td>...</td>\n",
              "      <td>...</td>\n",
              "      <td>...</td>\n",
              "    </tr>\n",
              "    <tr>\n",
              "      <th>995</th>\n",
              "      <td>996</td>\n",
              "      <td>JP Plays</td>\n",
              "      <td>10900000</td>\n",
              "      <td>4609300218</td>\n",
              "      <td>3528</td>\n",
              "      <td>Gaming</td>\n",
              "      <td>2014</td>\n",
              "    </tr>\n",
              "    <tr>\n",
              "      <th>996</th>\n",
              "      <td>997</td>\n",
              "      <td>TrapMusicHDTV</td>\n",
              "      <td>10900000</td>\n",
              "      <td>4070521973</td>\n",
              "      <td>690</td>\n",
              "      <td>Music</td>\n",
              "      <td>2013</td>\n",
              "    </tr>\n",
              "    <tr>\n",
              "      <th>997</th>\n",
              "      <td>998</td>\n",
              "      <td>Games EduUu</td>\n",
              "      <td>10900000</td>\n",
              "      <td>3093784767</td>\n",
              "      <td>1006</td>\n",
              "      <td>Gaming</td>\n",
              "      <td>2011</td>\n",
              "    </tr>\n",
              "    <tr>\n",
              "      <th>998</th>\n",
              "      <td>999</td>\n",
              "      <td>Hueva</td>\n",
              "      <td>10900000</td>\n",
              "      <td>3040301750</td>\n",
              "      <td>831</td>\n",
              "      <td>Gaming</td>\n",
              "      <td>2012</td>\n",
              "    </tr>\n",
              "    <tr>\n",
              "      <th>999</th>\n",
              "      <td>1000</td>\n",
              "      <td>Dobre Brothers</td>\n",
              "      <td>10900000</td>\n",
              "      <td>2808411693</td>\n",
              "      <td>590</td>\n",
              "      <td>People &amp; Blogs</td>\n",
              "      <td>2017</td>\n",
              "    </tr>\n",
              "  </tbody>\n",
              "</table>\n",
              "<p>1000 rows × 7 columns</p>\n",
              "</div>"
            ],
            "text/plain": [
              "     rank                    Youtuber  subscribers  total video views  \\\n",
              "0       1                    T-Series    222000000       198459090822   \n",
              "1       2              YouTube Movies    154000000                  0   \n",
              "2       3  Cocomelon - Nursery Rhymes    140000000       135481339848   \n",
              "3       4                   SET India    139000000       125764252686   \n",
              "4       5                       Music    116000000                  0   \n",
              "..    ...                         ...          ...                ...   \n",
              "995   996                    JP Plays     10900000         4609300218   \n",
              "996   997               TrapMusicHDTV     10900000         4070521973   \n",
              "997   998                 Games EduUu     10900000         3093784767   \n",
              "998   999                       Hueva     10900000         3040301750   \n",
              "999  1000              Dobre Brothers     10900000         2808411693   \n",
              "\n",
              "     total videos          category  started  \n",
              "0           17317             Music     2006  \n",
              "1               0  Film & Animation     2015  \n",
              "2             786         Education     2006  \n",
              "3           91271             Shows     2006  \n",
              "4               0          Gabungan     2013  \n",
              "..            ...               ...      ...  \n",
              "995          3528            Gaming     2014  \n",
              "996           690             Music     2013  \n",
              "997          1006            Gaming     2011  \n",
              "998           831            Gaming     2012  \n",
              "999           590    People & Blogs     2017  \n",
              "\n",
              "[1000 rows x 7 columns]"
            ]
          },
          "execution_count": 19,
          "metadata": {},
          "output_type": "execute_result"
        }
      ],
      "source": [
        "youtuberaw"
      ]
    },
    {
      "cell_type": "markdown",
      "metadata": {
        "id": "3QQ5Fmf4NrOk"
      },
      "source": [
        "Memeriksa outliers."
      ]
    },
    {
      "cell_type": "code",
      "execution_count": null,
      "metadata": {
        "colab": {
          "base_uri": "https://localhost:8080/",
          "height": 300
        },
        "id": "rMa1HiN5Nqst",
        "outputId": "9cfa3b32-61e3-40cc-a960-5c88fe0ca565"
      },
      "outputs": [
        {
          "data": {
            "text/html": [
              "<div>\n",
              "<style scoped>\n",
              "    .dataframe tbody tr th:only-of-type {\n",
              "        vertical-align: middle;\n",
              "    }\n",
              "\n",
              "    .dataframe tbody tr th {\n",
              "        vertical-align: top;\n",
              "    }\n",
              "\n",
              "    .dataframe thead th {\n",
              "        text-align: right;\n",
              "    }\n",
              "</style>\n",
              "<table border=\"1\" class=\"dataframe\">\n",
              "  <thead>\n",
              "    <tr style=\"text-align: right;\">\n",
              "      <th></th>\n",
              "      <th>rank</th>\n",
              "      <th>subscribers</th>\n",
              "      <th>total video views</th>\n",
              "      <th>total videos</th>\n",
              "      <th>started</th>\n",
              "    </tr>\n",
              "  </thead>\n",
              "  <tbody>\n",
              "    <tr>\n",
              "      <th>count</th>\n",
              "      <td>1000.000000</td>\n",
              "      <td>1.000000e+03</td>\n",
              "      <td>1.000000e+03</td>\n",
              "      <td>1000.000000</td>\n",
              "      <td>1000.000000</td>\n",
              "    </tr>\n",
              "    <tr>\n",
              "      <th>mean</th>\n",
              "      <td>500.500000</td>\n",
              "      <td>2.051940e+07</td>\n",
              "      <td>9.197025e+09</td>\n",
              "      <td>8551.059000</td>\n",
              "      <td>2012.376000</td>\n",
              "    </tr>\n",
              "    <tr>\n",
              "      <th>std</th>\n",
              "      <td>288.819436</td>\n",
              "      <td>1.578167e+07</td>\n",
              "      <td>1.207128e+10</td>\n",
              "      <td>29359.950431</td>\n",
              "      <td>3.998076</td>\n",
              "    </tr>\n",
              "    <tr>\n",
              "      <th>min</th>\n",
              "      <td>1.000000</td>\n",
              "      <td>1.090000e+07</td>\n",
              "      <td>0.000000e+00</td>\n",
              "      <td>0.000000</td>\n",
              "      <td>1970.000000</td>\n",
              "    </tr>\n",
              "    <tr>\n",
              "      <th>25%</th>\n",
              "      <td>250.750000</td>\n",
              "      <td>1.260000e+07</td>\n",
              "      <td>3.582208e+09</td>\n",
              "      <td>342.250000</td>\n",
              "      <td>2010.000000</td>\n",
              "    </tr>\n",
              "    <tr>\n",
              "      <th>50%</th>\n",
              "      <td>500.500000</td>\n",
              "      <td>1.550000e+07</td>\n",
              "      <td>6.116574e+09</td>\n",
              "      <td>856.000000</td>\n",
              "      <td>2013.000000</td>\n",
              "    </tr>\n",
              "    <tr>\n",
              "      <th>75%</th>\n",
              "      <td>750.250000</td>\n",
              "      <td>2.210000e+07</td>\n",
              "      <td>1.124951e+10</td>\n",
              "      <td>3060.500000</td>\n",
              "      <td>2015.000000</td>\n",
              "    </tr>\n",
              "    <tr>\n",
              "      <th>max</th>\n",
              "      <td>1000.000000</td>\n",
              "      <td>2.220000e+08</td>\n",
              "      <td>1.984591e+11</td>\n",
              "      <td>329711.000000</td>\n",
              "      <td>2021.000000</td>\n",
              "    </tr>\n",
              "  </tbody>\n",
              "</table>\n",
              "</div>"
            ],
            "text/plain": [
              "              rank   subscribers  total video views   total videos  \\\n",
              "count  1000.000000  1.000000e+03       1.000000e+03    1000.000000   \n",
              "mean    500.500000  2.051940e+07       9.197025e+09    8551.059000   \n",
              "std     288.819436  1.578167e+07       1.207128e+10   29359.950431   \n",
              "min       1.000000  1.090000e+07       0.000000e+00       0.000000   \n",
              "25%     250.750000  1.260000e+07       3.582208e+09     342.250000   \n",
              "50%     500.500000  1.550000e+07       6.116574e+09     856.000000   \n",
              "75%     750.250000  2.210000e+07       1.124951e+10    3060.500000   \n",
              "max    1000.000000  2.220000e+08       1.984591e+11  329711.000000   \n",
              "\n",
              "           started  \n",
              "count  1000.000000  \n",
              "mean   2012.376000  \n",
              "std       3.998076  \n",
              "min    1970.000000  \n",
              "25%    2010.000000  \n",
              "50%    2013.000000  \n",
              "75%    2015.000000  \n",
              "max    2021.000000  "
            ]
          },
          "execution_count": 20,
          "metadata": {},
          "output_type": "execute_result"
        }
      ],
      "source": [
        "youtuberaw.describe()"
      ]
    },
    {
      "cell_type": "code",
      "execution_count": null,
      "metadata": {
        "colab": {
          "base_uri": "https://localhost:8080/"
        },
        "id": "uG8zisF0IDWS",
        "outputId": "0c395b4b-0cbf-4fbe-96af-51b01624500a"
      },
      "outputs": [
        {
          "data": {
            "text/plain": [
              "array([   1,    2,    3,    4,    5,    6,    7,    8,    9,   10,   11,\n",
              "         12,   13,   14,   15,   16,   17,   18,   19,   20,   21,   22,\n",
              "         23,   24,   25,   26,   27,   28,   29,   30,   31,   32,   33,\n",
              "         34,   35,   36,   37,   38,   39,   40,   41,   42,   43,   44,\n",
              "         45,   46,   47,   48,   49,   50,   51,   52,   53,   54,   55,\n",
              "         56,   57,   58,   59,   60,   61,   62,   63,   64,   65,   66,\n",
              "         67,   68,   69,   70,   71,   72,   73,   74,   75,   76,   77,\n",
              "         78,   79,   80,   81,   82,   83,   84,   85,   86,   87,   88,\n",
              "         89,   90,   91,   92,   93,   94,   95,   96,   97,   98,   99,\n",
              "        100,  101,  102,  103,  104,  105,  106,  107,  108,  109,  110,\n",
              "        111,  112,  113,  114,  115,  116,  117,  118,  119,  120,  121,\n",
              "        122,  123,  124,  125,  126,  127,  128,  129,  130,  131,  132,\n",
              "        133,  134,  135,  136,  137,  138,  139,  140,  141,  142,  143,\n",
              "        144,  145,  146,  147,  148,  149,  150,  151,  152,  153,  154,\n",
              "        155,  156,  157,  158,  159,  160,  161,  162,  163,  164,  165,\n",
              "        166,  167,  168,  169,  170,  171,  172,  173,  174,  175,  176,\n",
              "        177,  178,  179,  180,  181,  182,  183,  184,  185,  186,  187,\n",
              "        188,  189,  190,  191,  192,  193,  194,  195,  196,  197,  198,\n",
              "        199,  200,  201,  202,  203,  204,  205,  206,  207,  208,  209,\n",
              "        210,  211,  212,  213,  214,  215,  216,  217,  218,  219,  220,\n",
              "        221,  222,  223,  224,  225,  226,  227,  228,  229,  230,  231,\n",
              "        232,  233,  234,  235,  236,  237,  238,  239,  240,  241,  242,\n",
              "        243,  244,  245,  246,  247,  248,  249,  250,  251,  252,  253,\n",
              "        254,  255,  256,  257,  258,  259,  260,  261,  262,  263,  264,\n",
              "        265,  266,  267,  268,  269,  270,  271,  272,  273,  274,  275,\n",
              "        276,  277,  278,  279,  280,  281,  282,  283,  284,  285,  286,\n",
              "        287,  288,  289,  290,  291,  292,  293,  294,  295,  296,  297,\n",
              "        298,  299,  300,  301,  302,  303,  304,  305,  306,  307,  308,\n",
              "        309,  310,  311,  312,  313,  314,  315,  316,  317,  318,  319,\n",
              "        320,  321,  322,  323,  324,  325,  326,  327,  328,  329,  330,\n",
              "        331,  332,  333,  334,  335,  336,  337,  338,  339,  340,  341,\n",
              "        342,  343,  344,  345,  346,  347,  348,  349,  350,  351,  352,\n",
              "        353,  354,  355,  356,  357,  358,  359,  360,  361,  362,  363,\n",
              "        364,  365,  366,  367,  368,  369,  370,  371,  372,  373,  374,\n",
              "        375,  376,  377,  378,  379,  380,  381,  382,  383,  384,  385,\n",
              "        386,  387,  388,  389,  390,  391,  392,  393,  394,  395,  396,\n",
              "        397,  398,  399,  400,  401,  402,  403,  404,  405,  406,  407,\n",
              "        408,  409,  410,  411,  412,  413,  414,  415,  416,  417,  418,\n",
              "        419,  420,  421,  422,  423,  424,  425,  426,  427,  428,  429,\n",
              "        430,  431,  432,  433,  434,  435,  436,  437,  438,  439,  440,\n",
              "        441,  442,  443,  444,  445,  446,  447,  448,  449,  450,  451,\n",
              "        452,  453,  454,  455,  456,  457,  458,  459,  460,  461,  462,\n",
              "        463,  464,  465,  466,  467,  468,  469,  470,  471,  472,  473,\n",
              "        474,  475,  476,  477,  478,  479,  480,  481,  482,  483,  484,\n",
              "        485,  486,  487,  488,  489,  490,  491,  492,  493,  494,  495,\n",
              "        496,  497,  498,  499,  500,  501,  502,  503,  504,  505,  506,\n",
              "        507,  508,  509,  510,  511,  512,  513,  514,  515,  516,  517,\n",
              "        518,  519,  520,  521,  522,  523,  524,  525,  526,  527,  528,\n",
              "        529,  530,  531,  532,  533,  534,  535,  536,  537,  538,  539,\n",
              "        540,  541,  542,  543,  544,  545,  546,  547,  548,  549,  550,\n",
              "        551,  552,  553,  554,  555,  556,  557,  558,  559,  560,  561,\n",
              "        562,  563,  564,  565,  566,  567,  568,  569,  570,  571,  572,\n",
              "        573,  574,  575,  576,  577,  578,  579,  580,  581,  582,  583,\n",
              "        584,  585,  586,  587,  588,  589,  590,  591,  592,  593,  594,\n",
              "        595,  596,  597,  598,  599,  600,  601,  602,  603,  604,  605,\n",
              "        606,  607,  608,  609,  610,  611,  612,  613,  614,  615,  616,\n",
              "        617,  618,  619,  620,  621,  622,  623,  624,  625,  626,  627,\n",
              "        628,  629,  630,  631,  632,  633,  634,  635,  636,  637,  638,\n",
              "        639,  640,  641,  642,  643,  644,  645,  646,  647,  648,  649,\n",
              "        650,  651,  652,  653,  654,  655,  656,  657,  658,  659,  660,\n",
              "        661,  662,  663,  664,  665,  666,  667,  668,  669,  670,  671,\n",
              "        672,  673,  674,  675,  676,  677,  678,  679,  680,  681,  682,\n",
              "        683,  684,  685,  686,  687,  688,  689,  690,  691,  692,  693,\n",
              "        694,  695,  696,  697,  698,  699,  700,  701,  702,  703,  704,\n",
              "        705,  706,  707,  708,  709,  710,  711,  712,  713,  714,  715,\n",
              "        716,  717,  718,  719,  720,  721,  722,  723,  724,  725,  726,\n",
              "        727,  728,  729,  730,  731,  732,  733,  734,  735,  736,  737,\n",
              "        738,  739,  740,  741,  742,  743,  744,  745,  746,  747,  748,\n",
              "        749,  750,  751,  752,  753,  754,  755,  756,  757,  758,  759,\n",
              "        760,  761,  762,  763,  764,  765,  766,  767,  768,  769,  770,\n",
              "        771,  772,  773,  774,  775,  776,  777,  778,  779,  780,  781,\n",
              "        782,  783,  784,  785,  786,  787,  788,  789,  790,  791,  792,\n",
              "        793,  794,  795,  796,  797,  798,  799,  800,  801,  802,  803,\n",
              "        804,  805,  806,  807,  808,  809,  810,  811,  812,  813,  814,\n",
              "        815,  816,  817,  818,  819,  820,  821,  822,  823,  824,  825,\n",
              "        826,  827,  828,  829,  830,  831,  832,  833,  834,  835,  836,\n",
              "        837,  838,  839,  840,  841,  842,  843,  844,  845,  846,  847,\n",
              "        848,  849,  850,  851,  852,  853,  854,  855,  856,  857,  858,\n",
              "        859,  860,  861,  862,  863,  864,  865,  866,  867,  868,  869,\n",
              "        870,  871,  872,  873,  874,  875,  876,  877,  878,  879,  880,\n",
              "        881,  882,  883,  884,  885,  886,  887,  888,  889,  890,  891,\n",
              "        892,  893,  894,  895,  896,  897,  898,  899,  900,  901,  902,\n",
              "        903,  904,  905,  906,  907,  908,  909,  910,  911,  912,  913,\n",
              "        914,  915,  916,  917,  918,  919,  920,  921,  922,  923,  924,\n",
              "        925,  926,  927,  928,  929,  930,  931,  932,  933,  934,  935,\n",
              "        936,  937,  938,  939,  940,  941,  942,  943,  944,  945,  946,\n",
              "        947,  948,  949,  950,  951,  952,  953,  954,  955,  956,  957,\n",
              "        958,  959,  960,  961,  962,  963,  964,  965,  966,  967,  968,\n",
              "        969,  970,  971,  972,  973,  974,  975,  976,  977,  978,  979,\n",
              "        980,  981,  982,  983,  984,  985,  986,  987,  988,  989,  990,\n",
              "        991,  992,  993,  994,  995,  996,  997,  998,  999, 1000],\n",
              "      dtype=int64)"
            ]
          },
          "execution_count": 21,
          "metadata": {},
          "output_type": "execute_result"
        }
      ],
      "source": [
        "youtuberaw['rank'].values       # data tidak berurutan secara subscribers ataupun total video views"
      ]
    },
    {
      "cell_type": "code",
      "execution_count": null,
      "metadata": {
        "colab": {
          "base_uri": "https://localhost:8080/"
        },
        "id": "OKVBu37lOUjn",
        "outputId": "6e7d5ac6-ea56-46f2-8f63-e86845d54466"
      },
      "outputs": [
        {
          "data": {
            "text/plain": [
              "array([222000000, 154000000, 140000000, 139000000, 116000000, 111000000,\n",
              "       102000000,  99700000,  99200000,  92700000,  90200000,  86700000,\n",
              "        85100000,  77100000,  76200000,  75100000,  74100000,  70600000,\n",
              "        70000000,  69700000,  67800000,  65900000,  63000000,  61300000,\n",
              "        59400000,  58100000,  57700000,  57600000,  55700000,  55100000,\n",
              "        53400000,  53000000,  52900000,  52800000,  52500000,  52400000,\n",
              "        52200000,  51700000,  51600000,  49800000,  47600000,  47100000,\n",
              "        46200000,  46100000,  45700000,  45600000,  45600000,  45100000,\n",
              "        44300000,  43900000,  43900000,  43300000,  43300000,  43200000,\n",
              "        42700000,  42500000,  42200000,  41500000,  41300000,  41200000,\n",
              "        40800000,  40600000,  40400000,  39700000,  39600000,  39500000,\n",
              "        39200000,  38800000,  38700000,  38300000,  37800000,  37800000,\n",
              "        37600000,  37600000,  37400000,  37200000,  37200000,  37000000,\n",
              "        36800000,  36500000,  36300000,  36200000,  36000000,  35900000,\n",
              "        35900000,  35800000,  35700000,  35300000,  35300000,  35200000,\n",
              "        35100000,  34400000,  34300000,  33600000,  33600000,  33500000,\n",
              "        33400000,  33400000,  33300000,  33300000,  33200000,  33200000,\n",
              "        33100000,  33000000,  32900000,  32800000,  32700000,  32700000,\n",
              "        32500000,  32300000,  32200000,  32100000,  31900000,  31900000,\n",
              "        31800000,  31600000,  31500000,  31400000,  31000000,  30900000,\n",
              "        30900000,  30800000,  30800000,  30700000,  30600000,  30500000,\n",
              "        30500000,  30400000,  30300000,  30100000,  30000000,  29900000,\n",
              "        29900000,  29700000,  29600000,  29600000,  29500000,  29400000,\n",
              "        29400000,  29200000,  29200000,  29100000,  28700000,  28700000,\n",
              "        28600000,  28600000,  28600000,  28600000,  28600000,  28600000,\n",
              "        28400000,  28400000,  28200000,  28100000,  28100000,  28100000,\n",
              "        28000000,  28000000,  27900000,  27700000,  27600000,  27400000,\n",
              "        27200000,  27100000,  27100000,  26900000,  26800000,  26800000,\n",
              "        26700000,  26600000,  26500000,  26400000,  26400000,  26300000,\n",
              "        26300000,  26300000,  26200000,  26100000,  26100000,  25900000,\n",
              "        25900000,  25800000,  25800000,  25800000,  25700000,  25600000,\n",
              "        25500000,  25500000,  25400000,  25200000,  25200000,  25100000,\n",
              "        25000000,  24900000,  24900000,  24900000,  24900000,  24800000,\n",
              "        24700000,  24600000,  24600000,  24500000,  24400000,  24400000,\n",
              "        24300000,  24300000,  24300000,  24300000,  24300000,  24200000,\n",
              "        24200000,  24100000,  24000000,  24000000,  24000000,  23900000,\n",
              "        23900000,  23900000,  23900000,  23900000,  23500000,  23500000,\n",
              "        23400000,  23400000,  23400000,  23300000,  23200000,  23200000,\n",
              "        23100000,  23100000,  23000000,  22900000,  22900000,  22800000,\n",
              "        22800000,  22700000,  22500000,  22400000,  22400000,  22300000,\n",
              "        22300000,  22300000,  22300000,  22300000,  22200000,  22200000,\n",
              "        22100000,  22100000,  22100000,  22100000,  22100000,  22000000,\n",
              "        22000000,  21900000,  21900000,  21700000,  21700000,  21700000,\n",
              "        21700000,  21600000,  21600000,  21500000,  21500000,  21500000,\n",
              "        21400000,  21200000,  21200000,  21100000,  21100000,  21000000,\n",
              "        21000000,  20900000,  20900000,  20900000,  20900000,  20800000,\n",
              "        20800000,  20800000,  20800000,  20700000,  20700000,  20700000,\n",
              "        20600000,  20500000,  20400000,  20400000,  20400000,  20400000,\n",
              "        20400000,  20400000,  20400000,  20300000,  20300000,  20200000,\n",
              "        20200000,  20100000,  20100000,  20100000,  20100000,  20000000,\n",
              "        20000000,  20000000,  20000000,  20000000,  20000000,  19900000,\n",
              "        19900000,  19900000,  19800000,  19800000,  19800000,  19700000,\n",
              "        19700000,  19700000,  19600000,  19600000,  19600000,  19600000,\n",
              "        19500000,  19500000,  19400000,  19400000,  19400000,  19400000,\n",
              "        19300000,  19300000,  19200000,  19200000,  19200000,  19200000,\n",
              "        19200000,  19100000,  19100000,  19100000,  19100000,  19100000,\n",
              "        19000000,  19000000,  19000000,  18900000,  18800000,  18800000,\n",
              "        18800000,  18700000,  18700000,  18700000,  18700000,  18600000,\n",
              "        18600000,  18600000,  18500000,  18500000,  18500000,  18500000,\n",
              "        18500000,  18400000,  18300000,  18300000,  18300000,  18200000,\n",
              "        18200000,  18200000,  18200000,  18200000,  18200000,  18200000,\n",
              "        18200000,  18200000,  18100000,  18100000,  18100000,  18100000,\n",
              "        18100000,  18000000,  18000000,  18000000,  18000000,  18000000,\n",
              "        18000000,  17900000,  17900000,  17800000,  17800000,  17800000,\n",
              "        17800000,  17800000,  17800000,  17700000,  17700000,  17700000,\n",
              "        17700000,  17700000,  17600000,  17600000,  17600000,  17600000,\n",
              "        17600000,  17600000,  17500000,  17400000,  17400000,  17400000,\n",
              "        17400000,  17400000,  17300000,  17300000,  17300000,  17300000,\n",
              "        17200000,  17200000,  17200000,  17200000,  17200000,  17200000,\n",
              "        17100000,  17100000,  17100000,  17100000,  17100000,  17000000,\n",
              "        17000000,  17000000,  17000000,  17000000,  16900000,  16900000,\n",
              "        16900000,  16900000,  16800000,  16800000,  16800000,  16800000,\n",
              "        16700000,  16700000,  16700000,  16700000,  16700000,  16600000,\n",
              "        16600000,  16600000,  16500000,  16500000,  16500000,  16400000,\n",
              "        16400000,  16400000,  16400000,  16300000,  16300000,  16300000,\n",
              "        16300000,  16300000,  16200000,  16200000,  16200000,  16200000,\n",
              "        16200000,  16200000,  16100000,  16100000,  16100000,  16100000,\n",
              "        16100000,  16100000,  16100000,  16100000,  16100000,  16000000,\n",
              "        16000000,  16000000,  16000000,  16000000,  15900000,  15900000,\n",
              "        15900000,  15900000,  15900000,  15900000,  15900000,  15900000,\n",
              "        15900000,  15900000,  15800000,  15800000,  15800000,  15800000,\n",
              "        15800000,  15700000,  15700000,  15700000,  15700000,  15700000,\n",
              "        15700000,  15700000,  15700000,  15700000,  15600000,  15600000,\n",
              "        15600000,  15500000,  15500000,  15500000,  15500000,  15400000,\n",
              "        15400000,  15400000,  15400000,  15300000,  15300000,  15200000,\n",
              "        15200000,  15200000,  15200000,  15200000,  15200000,  15200000,\n",
              "        15200000,  15100000,  15100000,  15100000,  15100000,  15100000,\n",
              "        15100000,  15000000,  15000000,  15000000,  15000000,  15000000,\n",
              "        15000000,  15000000,  15000000,  15000000,  15000000,  15000000,\n",
              "        14900000,  14900000,  14900000,  14900000,  14900000,  14900000,\n",
              "        14900000,  14900000,  14900000,  14800000,  14800000,  14800000,\n",
              "        14800000,  14800000,  14800000,  14800000,  14800000,  14800000,\n",
              "        14800000,  14800000,  14800000,  14700000,  14700000,  14700000,\n",
              "        14700000,  14700000,  14700000,  14700000,  14700000,  14700000,\n",
              "        14600000,  14600000,  14600000,  14600000,  14600000,  14600000,\n",
              "        14600000,  14600000,  14600000,  14500000,  14500000,  14500000,\n",
              "        14500000,  14500000,  14500000,  14500000,  14500000,  14500000,\n",
              "        14500000,  14500000,  14500000,  14500000,  14500000,  14500000,\n",
              "        14400000,  14400000,  14400000,  14400000,  14400000,  14400000,\n",
              "        14400000,  14400000,  14400000,  14400000,  14400000,  14400000,\n",
              "        14400000,  14300000,  14300000,  14300000,  14300000,  14300000,\n",
              "        14300000,  14200000,  14200000,  14200000,  14200000,  14200000,\n",
              "        14200000,  14200000,  14200000,  14100000,  14100000,  14100000,\n",
              "        14100000,  14100000,  14100000,  14100000,  14100000,  14100000,\n",
              "        14000000,  14000000,  14000000,  14000000,  14000000,  14000000,\n",
              "        13900000,  13900000,  13900000,  13900000,  13900000,  13900000,\n",
              "        13900000,  13900000,  13900000,  13900000,  13900000,  13900000,\n",
              "        13800000,  13800000,  13800000,  13800000,  13800000,  13800000,\n",
              "        13700000,  13700000,  13700000,  13700000,  13700000,  13700000,\n",
              "        13700000,  13700000,  13700000,  13700000,  13600000,  13600000,\n",
              "        13600000,  13600000,  13600000,  13500000,  13500000,  13500000,\n",
              "        13500000,  13500000,  13500000,  13500000,  13400000,  13400000,\n",
              "        13400000,  13400000,  13400000,  13400000,  13400000,  13400000,\n",
              "        13400000,  13400000,  13400000,  13400000,  13400000,  13400000,\n",
              "        13400000,  13300000,  13300000,  13300000,  13300000,  13200000,\n",
              "        13200000,  13200000,  13200000,  13200000,  13200000,  13100000,\n",
              "        13100000,  13100000,  13100000,  13100000,  13100000,  13100000,\n",
              "        13100000,  13100000,  13000000,  13000000,  13000000,  13000000,\n",
              "        13000000,  13000000,  13000000,  13000000,  12900000,  12900000,\n",
              "        12900000,  12900000,  12900000,  12900000,  12900000,  12900000,\n",
              "        12900000,  12900000,  12900000,  12900000,  12900000,  12800000,\n",
              "        12800000,  12800000,  12800000,  12800000,  12800000,  12800000,\n",
              "        12800000,  12800000,  12800000,  12800000,  12800000,  12800000,\n",
              "        12800000,  12800000,  12700000,  12700000,  12700000,  12700000,\n",
              "        12700000,  12700000,  12700000,  12700000,  12600000,  12600000,\n",
              "        12600000,  12600000,  12600000,  12600000,  12600000,  12600000,\n",
              "        12600000,  12600000,  12600000,  12600000,  12600000,  12600000,\n",
              "        12600000,  12500000,  12500000,  12500000,  12500000,  12500000,\n",
              "        12500000,  12500000,  12500000,  12500000,  12500000,  12500000,\n",
              "        12500000,  12500000,  12400000,  12400000,  12400000,  12400000,\n",
              "        12400000,  12400000,  12400000,  12400000,  12400000,  12400000,\n",
              "        12400000,  12400000,  12400000,  12400000,  12400000,  12400000,\n",
              "        12400000,  12400000,  12400000,  12400000,  12300000,  12300000,\n",
              "        12300000,  12300000,  12300000,  12300000,  12300000,  12200000,\n",
              "        12200000,  12200000,  12200000,  12200000,  12200000,  12200000,\n",
              "        12200000,  12200000,  12200000,  12200000,  12200000,  12100000,\n",
              "        12100000,  12100000,  12100000,  12100000,  12100000,  12100000,\n",
              "        12100000,  12100000,  12000000,  12000000,  12000000,  12000000,\n",
              "        12000000,  12000000,  12000000,  12000000,  12000000,  12000000,\n",
              "        12000000,  12000000,  11900000,  11900000,  11900000,  11900000,\n",
              "        11900000,  11900000,  11900000,  11900000,  11900000,  11900000,\n",
              "        11900000,  11900000,  11900000,  11900000,  11900000,  11800000,\n",
              "        11800000,  11800000,  11800000,  11800000,  11800000,  11800000,\n",
              "        11800000,  11800000,  11800000,  11800000,  11800000,  11800000,\n",
              "        11800000,  11800000,  11800000,  11800000,  11800000,  11800000,\n",
              "        11700000,  11700000,  11700000,  11700000,  11700000,  11700000,\n",
              "        11700000,  11700000,  11700000,  11700000,  11700000,  11700000,\n",
              "        11700000,  11700000,  11700000,  11600000,  11600000,  11600000,\n",
              "        11600000,  11600000,  11600000,  11600000,  11600000,  11600000,\n",
              "        11600000,  11500000,  11500000,  11500000,  11500000,  11500000,\n",
              "        11500000,  11500000,  11500000,  11500000,  11500000,  11500000,\n",
              "        11400000,  11400000,  11400000,  11400000,  11400000,  11400000,\n",
              "        11400000,  11400000,  11400000,  11400000,  11400000,  11400000,\n",
              "        11400000,  11400000,  11400000,  11300000,  11300000,  11300000,\n",
              "        11300000,  11300000,  11300000,  11300000,  11300000,  11300000,\n",
              "        11300000,  11300000,  11300000,  11300000,  11300000,  11300000,\n",
              "        11300000,  11300000,  11300000,  11200000,  11200000,  11200000,\n",
              "        11200000,  11200000,  11200000,  11200000,  11200000,  11200000,\n",
              "        11200000,  11200000,  11200000,  11200000,  11200000,  11200000,\n",
              "        11200000,  11200000,  11100000,  11100000,  11100000,  11100000,\n",
              "        11100000,  11100000,  11100000,  11100000,  11100000,  11100000,\n",
              "        11100000,  11100000,  11100000,  11100000,  11100000,  11100000,\n",
              "        11100000,  11100000,  11100000,  11100000,  11100000,  11000000,\n",
              "        11000000,  11000000,  11000000,  11000000,  11000000,  11000000,\n",
              "        11000000,  11000000,  11000000,  11000000,  11000000,  11000000,\n",
              "        11000000,  10900000,  10900000,  10900000,  10900000,  10900000,\n",
              "        10900000,  10900000,  10900000,  10900000], dtype=int32)"
            ]
          },
          "execution_count": 22,
          "metadata": {},
          "output_type": "execute_result"
        }
      ],
      "source": [
        "youtuberaw['subscribers'].values      # ada data 0 pada 1000 youtuber dengan subscribers terbanyak di dunia "
      ]
    },
    {
      "cell_type": "code",
      "execution_count": null,
      "metadata": {
        "colab": {
          "base_uri": "https://localhost:8080/"
        },
        "id": "q4B0sO7oOm8T",
        "outputId": "9a36d682-b030-4490-960d-11ce1b3c166e"
      },
      "outputs": [
        {
          "data": {
            "text/plain": [
              "array([198459090822,            0, 135481339848, 125764252686,\n",
              "                  0,  28469458228,  16832456681,  79602288245,\n",
              "        81963845811,            0,  70544743313,  49067711243,\n",
              "        66498762660,  23881457195,  24707415704,            0,\n",
              "        18533088438,  82473581441,  17471090750,  28567240999,\n",
              "        24013849120,  36576704790,  17111576122,  28579945247,\n",
              "        32107290522,  14742860905,  39266652127,  58839819120,\n",
              "        13445424556,  52611504230,  37230876862,  23717869724,\n",
              "        20204939173,  27883080973,  24278576197,  24856641898,\n",
              "        27881781761,  49895247456,  22158094076,  29013984394,\n",
              "        29366788406,  25563795998,  11999349578,  13698034536,\n",
              "         8590657189,  25635591765,  18567925780,   9966728650,\n",
              "        15475571879,  10058536263,   4120078906,   7284075395,\n",
              "         4735959546,  23966278157,  23991411417,  23748805401,\n",
              "        11731228995,  18745015002,  28559341412,  16717234472,\n",
              "        24558172214,  47544242811,   7483116325,  20489429972,\n",
              "        20092128845,  37136069429,   7691260396,  17685426640,\n",
              "        32833907997,  22335550787,  20454693770,  14999240876,\n",
              "        23912270526,   9725253939,  12698961117,  23715669906,\n",
              "         4254148920,  33773658170,  20479831396,  40932580174,\n",
              "         2948237121,            0,  20838666788,  19083355034,\n",
              "         6660397688,  20816532667,  15133442317,  37440873935,\n",
              "        17395825825,  21048440606,  19426654260,  26969165355,\n",
              "        14212434275,  15934957738,  21489532517,  13775632479,\n",
              "        14948682643,  15508274562,  18701808550,   2725286912,\n",
              "        10421462788,   5935440954,  20224535670,   9481987642,\n",
              "        51721734476,  11575367431,  23519452138,  10436881173,\n",
              "        20583922757,  18933492606,  25304311207,  10676727914,\n",
              "        13417041251,  26003463646,  25304909929,  20335720484,\n",
              "        22808879757,   6362416164,  16582648732,  14480846921,\n",
              "        11583101067,  22858782418,  25203004950,   9936630200,\n",
              "        19244430138,  18636699832,   5134450983,  13348694779,\n",
              "        13287506122,  24693346235,   2673017855,  16006240303,\n",
              "         4082464979,  12147894890,  20075386002,  12599347383,\n",
              "        11742431673,            0,  13109187449,  23790606514,\n",
              "         3935938048,  19280816380,  19638529002,  12650300730,\n",
              "        15485608801,  14307239074,  14501468946,  16201384834,\n",
              "         9728073444,   4054589048,  14322875759,   4943059589,\n",
              "        21008328965,  25743323512,  18421172559,   7193172591,\n",
              "        14967441549,  13908482957,   9996299350,  20217178677,\n",
              "        26290731375,  14040459862,   5094142687,  17117316552,\n",
              "         2862422681,  16492704526,  12947966180,   4592841527,\n",
              "        12175851183,  15570902183,  18579474197,  18891028184,\n",
              "        12528940373,  13426911345,  10022194205,   3589276436,\n",
              "        18809615646,  22661822099,   7942766503,  19426357466,\n",
              "        15750623413,  12588288710,  23276597783,  13948216340,\n",
              "        14907579962,   7086413849,   7409442051,   4371751617,\n",
              "         6901320769,  17152981455,  18089677017,  20691684541,\n",
              "        10184035967,  18786748261,  16477333283,  15717379166,\n",
              "         2583410213,  22679485513,   3060187306,  15650528115,\n",
              "         9217427023,   9386490086,    831718833,   7143695444,\n",
              "        15959928823,  11006209206,   7908171009,   5678834326,\n",
              "         2224916696,  12492313399,  22605283252,   2242631303,\n",
              "         5688277632,   2735828023,   1821164544,  12797189774,\n",
              "         5898102699,   6368398946,   3687600020,   2447087199,\n",
              "        15078170011,   5889189870,   7645734689,  13630944140,\n",
              "        10089784164,  12454676964,   9797581328,   6805551423,\n",
              "        14762469807,  15050718616,   5590554837,  21078177585,\n",
              "        16539033540,  50658927334,  14239994409,   7556615404,\n",
              "         5743037460,  11627613226,   7122122133,  13424354473,\n",
              "        13337815978,   5869132761,   5357578673,   2935811566,\n",
              "         8155335430,   3065204553,  24128528075,  16656148835,\n",
              "        11179266145,   9340794746,   6293790011,  11550410746,\n",
              "         8261468075,  16356422375,  13835267771,   9719487276,\n",
              "         7061442001,   4016933296,   2370380465,  12150226022,\n",
              "         9790033957,  12148385591,   6961098158,   6009951177,\n",
              "         4575205400,   5588648749,   4357416327,  11922457689,\n",
              "         7382859153,  12022708572,   5508445771,  22567064225,\n",
              "         9928011592,   4934552904,   1601142353,  10126082404,\n",
              "        10441789042,   6955897177,   4254648656,   8609202215,\n",
              "         1834293432,   2290112686,   1796017693,   4655819045,\n",
              "        11747446967,  19296050086,   9552800638,   7061690830,\n",
              "         7219140294,   5199519260,   5325195339,  17755714250,\n",
              "         4606459332,  21872499520,   9499913181,  12940702514,\n",
              "         8389982773,  12116551500,   8852635760,    546905035,\n",
              "         6307539008,  16480938259,   4930920530,   4345234891,\n",
              "         3027361293,   5616881420,   4321286202,   1761774908,\n",
              "        15394134862,   9563010656,  10849211839,  12776498114,\n",
              "         5694327707,   3826474945,  25787517689,  13978892435,\n",
              "         9147535900,   4269173489,   5098361752,   2545886796,\n",
              "        11968987179,  14819598563,   7383775138,   1478660028,\n",
              "        11783975855,   3631748240,   7139476227,  11815001366,\n",
              "         9413508600,   4383533818,   4075368246,            0,\n",
              "         9328209625,   6410853410,   3252868093,   1540403509,\n",
              "         5672497949,   2052293685,   1946197106,  10791851871,\n",
              "        12472520905,   4497282091,   3623586697,  13622998578,\n",
              "         9145485770,   5228700571,   2528480817,  10512530241,\n",
              "         7370103100,   5659051618,  14886853329,   8985315647,\n",
              "         6957319094,   7069624864,   7050721828,  22257341033,\n",
              "        18786377776,   9942133522,   7133240982,   5236302709,\n",
              "        13926619677,  13088159940,  20938593710,   7087407988,\n",
              "         4332532776,   4490004408,   2476464261,   2367699484,\n",
              "        10232250581,   6165702828,   6908411472,   3910330714,\n",
              "         3178960318,   5486103239,   4603751673,   4023496321,\n",
              "         3017467860,   3038899728,   2415927927,   8480000414,\n",
              "         3868166958,  19011269725,   7561933732,   6495131112,\n",
              "         4958584356,   4091109829,   2521515641,   8588329369,\n",
              "         8074270215,   6077820746,   5766028299,   3131925799,\n",
              "        15500399390,  10952154122,   8525569510,   8522826642,\n",
              "         3657526529,   4477436881,   2112929572,   9316925082,\n",
              "         9825292199,   8231518268,   7258838590,   2595554113,\n",
              "        19465295267,  19901616359,   3287834094,    827786482,\n",
              "        14475783059,   9258609822,   7131816532,   4808457361,\n",
              "         4680573231,   3804413513,  14008585257,  17974040182,\n",
              "         6078466417,   3561001854,   2801548472,   7942553236,\n",
              "         7723277433,   6221383175,   6273315738,   1670639781,\n",
              "         9195178282,  10550888024,   9529205653,   8614218175,\n",
              "         6459285262,  14633922961,   8808599101,   6304251610,\n",
              "         6530946230,   6443586305,   6610175435,   2714071108,\n",
              "         2657491028,  11637964945,   4875900353,   2212149791,\n",
              "         5970849535,   4090289417,   3367572384,  15090557603,\n",
              "         8307904773,   8642459264,   3509049258,   4739609055,\n",
              "         4923411314,   4696367446,   4238595667,    907965523,\n",
              "         9476895180,  10718891416,   6235405830,   3702173328,\n",
              "         3020272233,   4078330367,  12991967769,   9723539941,\n",
              "         7187033169,   7954662776,   5830669187,   4196033350,\n",
              "         3546490692,   2949891202,   2573050059,  11095340736,\n",
              "         8780937851,   7047968268,   4133234619,   2041620563,\n",
              "        10175537321,   9803533121,   6230190520,   6086165889,\n",
              "         4174962442,   4248704474,   4745414554,   3082486680,\n",
              "         2575183135,    808136104,   7713981883,   7837311552,\n",
              "         3631494389,   3007947714,   1918777559,  11194074075,\n",
              "        12811981848,  11458130113,   9410061135,   9512025119,\n",
              "         7137778517,   5276127016,   3249162653,   1509244860,\n",
              "         7817983360,   6132515137,   4012749893,   6948469648,\n",
              "         5982443648,   5442036950,   1294519810,   5602802498,\n",
              "         6541827030,   5534075089,   2805232542,            0,\n",
              "        12818689835,   8199671601,   8085387780,  11470355227,\n",
              "         6003697328,   4465727515,   4683488651,   2528566554,\n",
              "         2359375167,  10715145365,   7990515155,  11583824903,\n",
              "         2919203136,   1535589708,   1488692745,  11688798550,\n",
              "         8678492072,   8769075543,   6483845834,   8132415475,\n",
              "         5438131771,   4559692349,   4484263923,   4160511912,\n",
              "         2774875062,   1678559984,       439098,  12484253152,\n",
              "        18840617532,   9171517368,  10469251425,   6655475239,\n",
              "         6178735188,   2568493946,   1630452954,  10387146066,\n",
              "         7353265213,   8349695433,   9864262216,   6604382784,\n",
              "         4790199895,   5013387703,   4255591418,   3905723697,\n",
              "         3689834035,   1938796955,   1359023136,  10398104437,\n",
              "         8282592676,   7773089325,   5647481648,   4518966874,\n",
              "         4784433628,   4468774867,   3498040367,   6062569897,\n",
              "        18917303323,   8886913617,   7981563626,   6090840731,\n",
              "         5544547819,   3480250258,   3226020734,   1859586741,\n",
              "         1310544121,  10323589482,  12573029533,  12629200270,\n",
              "        11995915981,   7331868655,   6036342725,   9685321623,\n",
              "         6378481319,   5069817134,   3644137000,   2385190008,\n",
              "         2655046551,   2175911149,   1694934569,   1416689094,\n",
              "         7526971366,   6164527861,   6161605244,   4914128767,\n",
              "         5558117744,   7061275751,   4812187551,   3919524704,\n",
              "         3733683543,   3400090845,   3005899595,   2346592288,\n",
              "         2013234398,  13310308313,   9548597909,   4230572281,\n",
              "         2081351545,   2014152450,   1547521967,   8511385256,\n",
              "         7365642885,   6767838159,   4812994887,   4885163357,\n",
              "         4533034236,   4189052804,   2512937687,  17905081262,\n",
              "         9438904191,  12083277333,   5021164640,   5221155648,\n",
              "         4265711762,   3851507257,   3410001605,   3068619934,\n",
              "         3636809960,  13364784369,   7752154061,   6272005457,\n",
              "         4816638383,   3152582636,   8013016996,   8048210407,\n",
              "         5606959168,   5422335319,   5778034318,   5816295650,\n",
              "         5056080182,   4427609230,   3931202248,   2469411668,\n",
              "         2382268150,   1562768226,   2203376862,   7685405847,\n",
              "         7013383323,   3835968267,   4057054946,   2583408205,\n",
              "          225191097,  13822177908,   7394853164,   5660289473,\n",
              "         7269291992,   4285457943,   3101895284,   2201167967,\n",
              "         1893820151,   1882235841,   8727207691,   8649139354,\n",
              "         5801199256,   5325454303,   1699669363,   8306091825,\n",
              "         7508843409,   5860777243,   4977566807,   2116009610,\n",
              "         1926532344,   1792757553,  15778544226,  10047123955,\n",
              "        11589784991,   9054727117,   7855326888,   7301307830,\n",
              "         6045422126,   4975821188,   4344884807,   4427208053,\n",
              "         3533680308,   3659613327,   2046344368,   1092248349,\n",
              "          638326662,  19691312985,  11695828552,   5259245361,\n",
              "         4229571870,   6282100713,   4522774674,   4655009420,\n",
              "         4639173668,   3173575287,   1380896972,  12102023764,\n",
              "         5791129136,   5680652976,   4606244054,   4846410942,\n",
              "         5149512811,   4064473466,   1938724616,    741066278,\n",
              "           10664585,  13581231885,  14773705750,   6244275339,\n",
              "         3545774062,   2581452824,   1738311790,    926279238,\n",
              "         3274234309,  13130570880,   9539435945,   4621224472,\n",
              "         6130500064,   5543670656,   2970575636,   2839759455,\n",
              "         2639885987,   2162786560,   1636814649,   1300528162,\n",
              "          990362305,   6165983944,  13067020729,   8366717082,\n",
              "         6887508307,   6722961376,   6334967135,   6682031898,\n",
              "         6224195587,   5243185280,   3948852379,   3841146030,\n",
              "         2266640311,   1609903713,   1343814218,    918548566,\n",
              "        19472063469,   8367047990,   6055781883,   6503369315,\n",
              "         4639145138,   3207538507,   2582093496,   2138416538,\n",
              "         1986603595,  10768365983,   3960601978,   8830704358,\n",
              "         7265803610,   5169203026,   4270306760,   4241651530,\n",
              "         3916931694,   3337753407,   2875252577,   1795358843,\n",
              "         1629550071,   1104329570,    978876224,   1302818088,\n",
              "         9102860878,  11451399743,   7198667373,   5283086890,\n",
              "         4944109812,   4372757487,   4547822776,   4747533461,\n",
              "         3211108711,   2940312253,   2352844574,   1446664137,\n",
              "        10743601694,   9025460804,   7312991342,   9181398526,\n",
              "         5859164410,   6556822629,   7036027389,   8199848915,\n",
              "         5477760778,   6054112231,   4440271314,   4007664795,\n",
              "         3044339760,   3284897861,   3368183197,   2338362639,\n",
              "         2305594041,   1796220780,   1022959848,    959616512,\n",
              "        11606288094,   6706548354,   4679118911,   4219567300,\n",
              "         3807810342,   2761291454,   2286659867,   5770890911,\n",
              "        14390156987,   7908428418,   7856644944,   8959285840,\n",
              "         6201317137,   6308397105,   3956552948,   3817813233,\n",
              "         2748616115,   2770979129,   2590550091,  10471677314,\n",
              "         8747974258,   9823385812,   5294095545,   4732355492,\n",
              "         3904515416,   2746045885,   2329241574,   1809901493,\n",
              "        12493403632,   6370982440,   5676001571,   6447519975,\n",
              "         5850856870,   5358131096,   4510236068,   2681755121,\n",
              "         2522809876,   2004584036,   2265382511,    753341022,\n",
              "         5012830809,   5636275144,   4349105305,   4115401899,\n",
              "         6371101819,   4064045560,   3925624169,   3533048715,\n",
              "         3661572976,   3347502658,   2140151369,   1722795279,\n",
              "         1472027354,   1469047858,   1248384511,  13615089843,\n",
              "         9232920975,   9144058244,   7784893932,   6881836992,\n",
              "         5473328070,   4755190859,   4208225754,   3241537148,\n",
              "         3235532845,   2538254830,   2085751416,   2190306341,\n",
              "         1590238217,   1461546183,   1882150122,   1329092064,\n",
              "         1190135430,    920996435,            0,   4770280667,\n",
              "         9325685889,   7264301648,   7314674893,   6890942780,\n",
              "         5768686721,   4908116204,   4265761191,   4356636895,\n",
              "         2002897892,   1828200652,   1531833342,    602060711,\n",
              "          255073454,  11106097841,  11876297990,   5052785110,\n",
              "         5289951047,   4412088740,   5041539626,   3375080065,\n",
              "         3339092378,   2723781007,   2485814338,   7211913487,\n",
              "        11015842469,   7314674032,   4592238139,   6102648062,\n",
              "         5733616887,   4418589089,   3837227706,   1832620830,\n",
              "         1587661793,   1418615214,      3825084,   5209512047,\n",
              "         9492696997,   7893769128,   7802486828,   4991697738,\n",
              "         5409544753,   4942306057,   4440911293,   4069124046,\n",
              "         3011607663,   2515501575,   1605101022,   1534278655,\n",
              "         1069320125,   1389660530,   8954781989,   8789109127,\n",
              "         8388840225,   5335786775,   6261374873,   5129031730,\n",
              "         4826278522,   4918241216,   4474548691,   4462580470,\n",
              "         3924274232,   3176486598,   3594122308,   2127059635,\n",
              "         2116631957,   2294003189,   1188547722,   1656301737,\n",
              "         1311726533,  12481668186,  11415809929,   7625038147,\n",
              "         5892643162,   5543363992,   4846700433,   4562854224,\n",
              "         3344578049,   3138496496,   2123231155,   1978138747,\n",
              "         1753589438,   1543663972,   1646248092,   1371995657,\n",
              "         4132213251,  15050447314,  12321708693,   7586526902,\n",
              "         6761739774,   7015448647,   5768785195,   7000333135,\n",
              "         6680703649,   6297139999,   4802776148,   3823868578,\n",
              "         3250851179,   2891052624,   2933099311,   2242892562,\n",
              "         1903304025,   1793692542,   1606057806,   1584174173,\n",
              "         1246793263,            0,   3703938514,  19367966533,\n",
              "         9521653019,   8874980800,   5459891400,   5211071220,\n",
              "         4227479765,   4040393626,   3685664468,   3419435728,\n",
              "         3306502621,   3263285883,    886497694,   9948474904,\n",
              "         7934725886,   6663450148,   5589104660,   4609300218,\n",
              "         4070521973,   3093784767,   3040301750,   2808411693],\n",
              "      dtype=int64)"
            ]
          },
          "execution_count": 23,
          "metadata": {},
          "output_type": "execute_result"
        }
      ],
      "source": [
        "youtuberaw['total video views'].values      # ada data 0 pada 1000 youtuber dengan subscribers terbanyak di dunia"
      ]
    },
    {
      "cell_type": "code",
      "execution_count": null,
      "metadata": {
        "colab": {
          "base_uri": "https://localhost:8080/"
        },
        "id": "OpU3wtVkOvlt",
        "outputId": "7eedf415-c3c4-4ddc-c1cf-268086cdf7e5"
      },
      "outputs": [
        {
          "data": {
            "text/plain": [
              "array([ 17317,      0,    786,  91271,      0,   4497,    726,   1009,\n",
              "          702,      0,  63077,   6603,    472,   5581,    397,      0,\n",
              "         3968,  56295,   1787,    247,    971,   2313,  60802,   7884,\n",
              "         2374,    297,    506,  39202,    401,  87427,  18622,    140,\n",
              "       196497,   3612,  23870,   3180,    253,   1309,    146,    553,\n",
              "         3289,    189,     48,   1959,    648,    476,  13814,    541,\n",
              "         3512,   4540,    521,   1315,    136,    118,   3309,    123,\n",
              "          318,    599,   3963,    645,  10327, 179522,    705,   9707,\n",
              "           79,   1989,   1119,   3282,   1198,  14404,   1875,   4535,\n",
              "         4180,    126,    157,    287,    206,  62039,    423,    821,\n",
              "          178,      0,    163,    847, 185006,   1351,    194,    600,\n",
              "           97,    137,    935, 128901,   3171,    630,    134,   1727,\n",
              "         7130,   9078,   5200,    540, 224455,   1894,    627,    125,\n",
              "         2198,    563,  19383,   1116,   3095,   6524,  71075,    191,\n",
              "       237971,  61818,    205,  76039,    558,   5453,   9807,    121,\n",
              "          182,     62,   3951,   2661,   2008,    338,   2003,   2472,\n",
              "         3739,   1771,    110,   7897,   1809,   5718,  10826,  11571,\n",
              "          132,      0,    223,   1825,    404,    123,     20,     14,\n",
              "         4988,     67,   5927,   4665,    228,    147,   2509,    132,\n",
              "         2020,   3131,    160,    839,   3718,    447,   5422,   1146,\n",
              "       114067,    121,   2491,    405,     67,    460,     53,    812,\n",
              "       144314,   2579,    578,    205,    598,    421,    994,    553,\n",
              "         3603,  19992,    968,   6259,    427,      7,    239,    496,\n",
              "         1581,    725,   4251,    185,   3648,   1502,    106,   4712,\n",
              "         1366,     98,    114,    234,    672,    171,   1914,  22492,\n",
              "          217,     31,     61,   2844,    633,    840,   4274,   5650,\n",
              "          298,     51,  16928,     93,   3060,    367,    513,   8755,\n",
              "         1242,    251,    406,   1418,    347,    712,    209,     21,\n",
              "          596,  78951,   1992, 146479,   1046,    328,   2155,   3425,\n",
              "          405,  20482,   5667,   1117,   1508,     92,   2409,    990,\n",
              "          237,   1085,   2191,    107,  39370,   4609,  13755,  59428,\n",
              "          576,   1722,   2456,    266,    413,   1139,    172,   5094,\n",
              "           52,   2751,   4005,    144,    503,  21294,    949,   1997,\n",
              "         4025,   1569,    403,    973,   2908,   3067,   4310,   1594,\n",
              "          164,   3961,    175,  58623,    529,   3861,   1957,    132,\n",
              "          291,     72,   2474,    484,   3367,   7811,     73,    277,\n",
              "          934,   9854,     25,   7347,    718,    429,    149,   3885,\n",
              "         1258,  12702,   4638,   1519,    180,   8109,   1302,    426,\n",
              "         1160,   4440,    116,    250,  29028,    408,   1153,  29574,\n",
              "          235,    174,   5545,   1057,    417,    566,   7989,    627,\n",
              "        37390,     28,   2454,    683,    592,   1287,   2591,    335,\n",
              "          699,   1517,   1132,      0,   3750,    589,   5240,     85,\n",
              "          613,    161,   3559,  42086,   6073,    668,    553,  34648,\n",
              "          267,   2707,    215,   3735,    740,     37,     76,   1090,\n",
              "         6798,     60,   2106,    189,    814,    629,   8169,   3287,\n",
              "        58485,   1094,   3571,    536,   2053,    633,    932,    326,\n",
              "          672,   2062,    825,    108,    969,   1517,     84,    113,\n",
              "         5682,    201,    391,    193,    424,    177,    397,    282,\n",
              "          154,     59,   1462,  50080,   2980,   3332,   3920,    344,\n",
              "         1282,   2663,    580,    476,    282,    211,    578,    196,\n",
              "          119,    392,   1960,    189, 111360,  27059,   1948,    217,\n",
              "         4686,   1471,    856,   6686,   1145,    363,     96,   5334,\n",
              "          741,    563,    128,    351,   5515,    192,   2184,    347,\n",
              "           96,   2047,   3150,   1754,   4723, 149770,    451,    539,\n",
              "         2874,   1546,     99,    972,    265,   1940,   6796,    488,\n",
              "         1039,    476,   2117,   4304,   2763,    649,   4658,    653,\n",
              "         3467,    480,   2008,   1081, 124072,  14759,    124,    953,\n",
              "          582,    111,    453,    908,     13,   1427,    176,    264,\n",
              "          659,    654,    723,    571, 123467,    278,    622,    337,\n",
              "          872,   1937,    438,     61,   3694,    399,    865,   1454,\n",
              "          428,    205,    545,    352,   1183,    732,    232,  97231,\n",
              "         9582,    302,   1979,    224,    666,    699,    401,    545,\n",
              "         2154,   3614,   5356,    706, 157377,   1726,   1803,   2085,\n",
              "         3537,    343,  46290,      0,  58886,  16953,    544,     51,\n",
              "           80,   3392,     78,   1700,    611,   1315,    863,  26477,\n",
              "         2206,   1186,    988,  49889,   4478,     67,    430,    456,\n",
              "         3440,     14,   3102,   4404,    216,    479,      1,    285,\n",
              "        28683,  18735,   8169,   4951,    392,   1918,    158,  19368,\n",
              "          776,   5225,    732,   1340,    525,   3646,   1684,     85,\n",
              "          976,     87,    391,    212,   8625,   4624,  65241,    381,\n",
              "         7674,    899,   4643,   5864,    143,    407,    294,  95987,\n",
              "        16437,    858,    175,   2898,   2250,    183,    992,   1190,\n",
              "       209097,   3307,   1147,   1081,   1445, 120858,    630,     51,\n",
              "         2410,   1312,    362,    370,     67,  20085,    630,    568,\n",
              "          305,   4281,    539,    478,    852,    428,    205,    297,\n",
              "          401,   1540,    556,  17878,   2514,    398,    200,     38,\n",
              "          668,    357,    599,   2554,    167,   3429,    638,    168,\n",
              "       174684, 155569,    964,  20582,    396,   1189,    688,    407,\n",
              "          891,   3996,    649,   1987,   5446,    777,   2340,   2519,\n",
              "         3490,  12258,   6400,   1628,     45,   1349,    156,    437,\n",
              "          534,    852,   9960,    408,    224,     96,   1007,    694,\n",
              "          344,  70454,  54722,    362,    562,    515,   1372,    164,\n",
              "         2919,    373,  53533,    417,   4452,   3977,   1436,    826,\n",
              "         2770,   4599,    463,    854,   2138,    122,  69731,    352,\n",
              "        71206,     59,  18325,    371,   1620,    595,    493,     13,\n",
              "          172,    681,    406,     12,    117,    235,   1421,   1552,\n",
              "         3027,    404,    275,    694,    340,    490,     16,   7805,\n",
              "         7672,   4895,    586,    409,    838,    276,   1223,    238,\n",
              "           29,   7996,    137,   3000,     96,    282,    616,    221,\n",
              "          529,    167,   1055,    173,    339,    390,    486,   2331,\n",
              "         1931,   1296,    511,    238,    587,    284,   1960,  36800,\n",
              "           33,   3212,   9347,   1354,  86735,    169,   3931,  16397,\n",
              "          765,    393,    745,    482,   1617,     93,    389,   2282,\n",
              "         5111,   5219,    758,   1544,    358,    542,     44,  12973,\n",
              "         1273,  15573,    533,   1107,    511,   1430,    152,    336,\n",
              "          530,    405,   1604,    567,    630,   3261,   3133,  76545,\n",
              "          709,   1399,   1498,    856,   1431,  34843,   1414,   1041,\n",
              "         5581, 225232,     89,    607,   1032,    104,   1574,   2122,\n",
              "         1592,     39,    529,    984,   1068,    204,    355,   1234,\n",
              "         1126,    130,    463,    384,   3238,   1182,    925,   2430,\n",
              "         1066,    203,    344,   1101,    367,   6993,   6411,   3931,\n",
              "          751,   2070,    674,    707,    981,    921,    322, 329711,\n",
              "           48,   6967,   4241,   3062,   9589,    632,    793,   3285,\n",
              "          290,    100,     40,  10858,   1863, 153929, 126906,    205,\n",
              "         1207,   1408,  17104,    148,   1568,    140,   3445,    310,\n",
              "          365,    106,   2126,   2756,   7428,   1474,    496,    630,\n",
              "          350,   1528,    962,    173,    114,  84071,  40608,    172,\n",
              "         1185,    324,    275,    766,   1151,    890,    131,    259,\n",
              "          289,    741,   3439,   1687,   1605,    924,      0,  19108,\n",
              "          364,    130,   1563,    959,    402,    371,    927,    377,\n",
              "          917,    429,    283,    280,    108, 149786,    508,    460,\n",
              "           37,     51,  49789,  25710,    351,    735,    819,     13,\n",
              "          475, 193940,   1119,    225,    278,   1267,  10901,     42,\n",
              "         1425,    329,      1,    353,     39,   1861,   3589,    119,\n",
              "          528,    994,    347,   2248,   1970,   1023,   5063,    326,\n",
              "          529,   1117,  13423,    240,   1538,    254,    313,    998,\n",
              "         2444,    486,    224,   1719,   5501,    997,    392,    332,\n",
              "          101,    236,    649,    433,    328,    390,    231,   3216,\n",
              "       129135,    201,   1738,    102,   2053,    660,    792,   2882,\n",
              "          405,    551,   3624,    893,    449,   2910,   2799,   1126,\n",
              "          396,   1797,   3952,    397,    356,   5841,    446,   2101,\n",
              "          257,   2797,   1906,    355,    626,   1435,    259,    382,\n",
              "         1047,      0,   2411,  27156,   8840,   2196,     25,    160,\n",
              "          942,    770,   1048,   1962,   1845,    193,    505,    791,\n",
              "         1685,   2726,    920,   3528,    690,   1006,    831,    590],\n",
              "      dtype=int32)"
            ]
          },
          "execution_count": 24,
          "metadata": {},
          "output_type": "execute_result"
        }
      ],
      "source": [
        "youtuberaw['total videos'].values       # ada data 0 pada 1000 youtuber dengan subscribers terbanyak di dunia"
      ]
    },
    {
      "cell_type": "code",
      "execution_count": null,
      "metadata": {
        "colab": {
          "base_uri": "https://localhost:8080/"
        },
        "id": "k-heNuYvPA-Z",
        "outputId": "147aca6e-09ef-4410-eeb7-b77363902f1e"
      },
      "outputs": [
        {
          "data": {
            "text/plain": [
              "array([2006, 2015, 2006, 2006, 2013, 2010, 2012, 2015, 2016, 2013, 2007,\n",
              "       2014, 2018, 2016, 2016, 2013, 2012, 2007, 2012, 2007, 2008, 2012,\n",
              "       2005, 2010, 2011, 2009, 2013, 2006, 2015, 2008, 2014, 2007, 2009,\n",
              "       2007, 2011, 2009, 2006, 2011, 2007, 2014, 2006, 2006, 2013, 2013,\n",
              "       2013, 2014, 2014, 2011, 2006, 2017, 2013, 2013, 2011, 2008, 2009,\n",
              "       2014, 2012, 2017, 2006, 2014, 2012, 2008, 2011, 2007, 2005, 2011,\n",
              "       2012, 2016, 2011, 2006, 2014, 2005, 2014, 2015, 2010, 2005, 2016,\n",
              "       2012, 2011, 2016, 2014, 2013, 2006, 2015, 2009, 2017, 2017, 2006,\n",
              "       2006, 2016, 2014, 2013, 2015, 2017, 2011, 2015, 2008, 2009, 2012,\n",
              "       1970, 2012, 2018, 2015, 2014, 2015, 2016, 2014, 2011, 2013, 2011,\n",
              "       2016, 2013, 2006, 2008, 2009, 2014, 2013, 2017, 2007, 2014, 2008,\n",
              "       2006, 2006, 2006, 2012, 2008, 2016, 2012, 2006, 2010, 2014, 2006,\n",
              "       2014, 2013, 2007, 2012, 2011, 2013, 2012, 2016, 2006, 2011, 2018,\n",
              "       2008, 2007, 2009, 2012, 2006, 2013, 2009, 2014, 2020, 2013, 2008,\n",
              "       2018, 2017, 2015, 2010, 2006, 2015, 2006, 2013, 2015, 2018, 2016,\n",
              "       2014, 2009, 2012, 2007, 2014, 2016, 2013, 2008, 2014, 2011, 2016,\n",
              "       2012, 2008, 2011, 2008, 2018, 2005, 2009, 2009, 2011, 2012, 2015,\n",
              "       2015, 2011, 2008, 2009, 2012, 2005, 2009, 2013, 2005, 2009, 2009,\n",
              "       2017, 2007, 2015, 2013, 2019, 2016, 2009, 2016, 2012, 2012, 2013,\n",
              "       2011, 2011, 2012, 2015, 2011, 2012, 2016, 2009, 2011, 2015, 2011,\n",
              "       2010, 2015, 2008, 2006, 2016, 2014, 2015, 2017, 2014, 2012, 2011,\n",
              "       2006, 2007, 2014, 2014, 2014, 2006, 2016, 2015, 2014, 2012, 2017,\n",
              "       2014, 2011, 2015, 2015, 2010, 2011, 2018, 2015, 2010, 2010, 2018,\n",
              "       2010, 2008, 2014, 2016, 2006, 2006, 2007, 2019, 2014, 2014, 2012,\n",
              "       2013, 2014, 2006, 2018, 2012, 2009, 2016, 2013, 2011, 2018, 2014,\n",
              "       2013, 2019, 2012, 2016, 2009, 2011, 2021, 2015, 2009, 2013, 2007,\n",
              "       2011, 2016, 2013, 2006, 2018, 2011, 2014, 2019, 2009, 2007, 2015,\n",
              "       2006, 2011, 2006, 2010, 2012, 2011, 2012, 2011, 2017, 2006, 2010,\n",
              "       2006, 2013, 2007, 2013, 2011, 2014, 2016, 2012, 2018, 2005, 2005,\n",
              "       2014, 2009, 2005, 2013, 2013, 2006, 2006, 2016, 2010, 2015, 2014,\n",
              "       2009, 2013, 2014, 2015, 2013, 2017, 2017, 2013, 2017, 2005, 2006,\n",
              "       2016, 2013, 2016, 2017, 2016, 2016, 2008, 2020, 2018, 2007, 2011,\n",
              "       2011, 2016, 2013, 2009, 2015, 2013, 2011, 2014, 2007, 2012, 2013,\n",
              "       2014, 2010, 2017, 2016, 2014, 2019, 2007, 2015, 2009, 2015, 2013,\n",
              "       2018, 2014, 2017, 2013, 2007, 2009, 2011, 2010, 2016, 2008, 2015,\n",
              "       2015, 2017, 2011, 2008, 2012, 2006, 2008, 2009, 2011, 2018, 2014,\n",
              "       2011, 2018, 2016, 2013, 2010, 2018, 2012, 2013, 2010, 2007, 2011,\n",
              "       2016, 2012, 2011, 2016, 2009, 2013, 2013, 2009, 2014, 2018, 2011,\n",
              "       2017, 2012, 2013, 2017, 2015, 2019, 2018, 2013, 2020, 2006, 2012,\n",
              "       2006, 2008, 2013, 2013, 2012, 2011, 2007, 2014, 2013, 2014, 2012,\n",
              "       2019, 2012, 2006, 2014, 2014, 2018, 2017, 2012, 2007, 2012, 2016,\n",
              "       2013, 2015, 2013, 2009, 2011, 2016, 2017, 2014, 2008, 2013, 2009,\n",
              "       2017, 2015, 2009, 2015, 2017, 2015, 2014, 2011, 2014, 2011, 2015,\n",
              "       2016, 2007, 2015, 2005, 2011, 2009, 2008, 2006, 2005, 2018, 2017,\n",
              "       2011, 2015, 2011, 2014, 2011, 2006, 2012, 2005, 2015, 2014, 2012,\n",
              "       2010, 2011, 2020, 2015, 2016, 2014, 2013, 2015, 2013, 2013, 2019,\n",
              "       2014, 2015, 2015, 2011, 2014, 2009, 2010, 2018, 2017, 2012, 2012,\n",
              "       2015, 2012, 2015, 2014, 2017, 2013, 2010, 2014, 2012, 2019, 2019,\n",
              "       2018, 2016, 2013, 2017, 2008, 2008, 2008, 2009, 2005, 2012, 2011,\n",
              "       2008, 2010, 2010, 2015, 2010, 2005, 2015, 2014, 2009, 2016, 2013,\n",
              "       2015, 2006, 2018, 2020, 2013, 2012, 2017, 2010, 2008, 2017, 2012,\n",
              "       2015, 2017, 2008, 2009, 2009, 2008, 2013, 2009, 2010, 2010, 2017,\n",
              "       2013, 2009, 2013, 2006, 2010, 2006, 2011, 2015, 2017, 2007, 2014,\n",
              "       2017, 2016, 2016, 2014, 2008, 2013, 2014, 2006, 2016, 2011, 2020,\n",
              "       2014, 2010, 2016, 2017, 2007, 2010, 2014, 2008, 2020, 2005, 2017,\n",
              "       2013, 2017, 2016, 2016, 2016, 2014, 2012, 2017, 2014, 2014, 2011,\n",
              "       2009, 2005, 2014, 2011, 2015, 2014, 2013, 2017, 2013, 2012, 2018,\n",
              "       2015, 2012, 2011, 2017, 2014, 2013, 2006, 2012, 2009, 2017, 2006,\n",
              "       2012, 2014, 2014, 2008, 2006, 2017, 2009, 2007, 2010, 2013, 2016,\n",
              "       2011, 2012, 2018, 2018, 2018, 2011, 2009, 2008, 2010, 2011, 2007,\n",
              "       2014, 2011, 2006, 2015, 2019, 2016, 2011, 2016, 2014, 2012, 2018,\n",
              "       2012, 2006, 2011, 2007, 2009, 2015, 2014, 2014, 2017, 2007, 2007,\n",
              "       2014, 2019, 2015, 2010, 2006, 2014, 2007, 2019, 2014, 2018, 2019,\n",
              "       2012, 2017, 2015, 2006, 2012, 2012, 2018, 2019, 2017, 2015, 2015,\n",
              "       2016, 2013, 2009, 2012, 2015, 2006, 2011, 2019, 2014, 2009, 2014,\n",
              "       2009, 2018, 2009, 2011, 2016, 2009, 2006, 2015, 2017, 2009, 2016,\n",
              "       2021, 2011, 2009, 2010, 2011, 2008, 2008, 2010, 2008, 2006, 2013,\n",
              "       2017, 2006, 2016, 2019, 2010, 2019, 2014, 2012, 2013, 2013, 2017,\n",
              "       2009, 2020, 2013, 2005, 2016, 2011, 2017, 2015, 2012, 2010, 2016,\n",
              "       2010, 2013, 2012, 2016, 2016, 2007, 2008, 2014, 2008, 2006, 2010,\n",
              "       2011, 2011, 2010, 2015, 2010, 2014, 2011, 2013, 2008, 2012, 2019,\n",
              "       2007, 2014, 2012, 2016, 2018, 2013, 2012, 2010, 2014, 2006, 2014,\n",
              "       2019, 2017, 2015, 2013, 2007, 2014, 2016, 2015, 2014, 2014, 2016,\n",
              "       2019, 2014, 2014, 2007, 2009, 2017, 2015, 2015, 2015, 2014, 2015,\n",
              "       2018, 2007, 2011, 2007, 2014, 2014, 2006, 2015, 2011, 2011, 2009,\n",
              "       2012, 2011, 2012, 2013, 2007, 2006, 2011, 2016, 2018, 2007, 2015,\n",
              "       2019, 2005, 2011, 2013, 2021, 2018, 2016, 2008, 2010, 2013, 2015,\n",
              "       2011, 2006, 2011, 2014, 2009, 2014, 2017, 2012, 2015, 2014, 2014,\n",
              "       2014, 2015, 2016, 2012, 2013, 2016, 2015, 2014, 2016, 2008, 2010,\n",
              "       2015, 2006, 2011, 2018, 2015, 2012, 2015, 2015, 2009, 2017, 2019,\n",
              "       2016, 2006, 2016, 2014, 2015, 2014, 2020, 2015, 2005, 2014, 2019,\n",
              "       2008, 2017, 2014, 2014, 2006, 2015, 2018, 2006, 2012, 2013, 2006,\n",
              "       2011, 2017, 2018, 2017, 2015, 2014, 2007, 2010, 2011, 2012, 2014,\n",
              "       2014, 2018, 2009, 2012, 2012, 2018, 2011, 2015, 2018, 2013, 2020,\n",
              "       2007, 2013, 2008, 2015, 2012, 2006, 2012, 2010, 2010, 2015, 2015,\n",
              "       2015, 2014, 2014, 2012, 2011, 2015, 2021, 2012, 2006, 2006, 2009,\n",
              "       2014, 2015, 2007, 2018, 2014, 2013, 2016, 2013, 2013, 2017, 2017,\n",
              "       2011, 2010, 2011, 2018, 2013, 2007, 2015, 2018, 2006, 2019, 2011,\n",
              "       2016, 2011, 2013, 2014, 2016, 2011, 2014, 2013, 2016, 2012, 2005,\n",
              "       2012, 2015, 2017, 2018, 2009, 2016, 2014, 2009, 2009, 2016, 2016,\n",
              "       2013, 2016, 2008, 2014, 2014, 2014, 2013, 2011, 2012, 2017],\n",
              "      dtype=int64)"
            ]
          },
          "execution_count": 25,
          "metadata": {},
          "output_type": "execute_result"
        }
      ],
      "source": [
        "youtuberaw['started'].values       # ada data 1970 padahal youtube dibuat 2005"
      ]
    },
    {
      "cell_type": "markdown",
      "metadata": {
        "id": "fLmCgk7YQxq3"
      },
      "source": [
        "Melihat persebaran data kolom numerik."
      ]
    },
    {
      "cell_type": "code",
      "execution_count": null,
      "metadata": {
        "colab": {
          "base_uri": "https://localhost:8080/"
        },
        "id": "LqWghpc4W4n4",
        "outputId": "385a5d63-cee8-45a3-9b0a-df1c0dd44945"
      },
      "outputs": [
        {
          "name": "stdout",
          "output_type": "stream",
          "text": [
            "subscribers skewness:  5.254739518369684\n",
            "total video views skewness:  7.292200926760428\n",
            "total videoas skewness:  5.5812752018258855\n",
            "started skewness:  -1.3088653131935946\n"
          ]
        }
      ],
      "source": [
        "print('subscribers skewness: ', youtuberaw['subscribers'].skew())                     # right skewed\n",
        "print('total video views skewness: ', youtuberaw['total video views'].skew())         # right skewed\n",
        "print('total videoas skewness: ', youtuberaw['total videos'].skew())                   # right skewed\n",
        "print('started skewness: ', youtuberaw['started'].skew())                             # left skewed"
      ]
    },
    {
      "cell_type": "code",
      "execution_count": null,
      "metadata": {
        "colab": {
          "base_uri": "https://localhost:8080/",
          "height": 237
        },
        "id": "JdXJ9kT7Q2JF",
        "outputId": "27de7f36-7b99-442a-904b-2dba77339eb4"
      },
      "outputs": [
        {
          "data": {
            "text/plain": [
              "<AxesSubplot:>"
            ]
          },
          "execution_count": 27,
          "metadata": {},
          "output_type": "execute_result"
        },
        {
          "data": {
            "image/png": "[encoded data removed]",
            "text/plain": [
              "<Figure size 2088x288 with 4 Axes>"
            ]
          },
          "metadata": {
            "needs_background": "light"
          },
          "output_type": "display_data"
        }
      ],
      "source": [
        "fig, axes = plt.subplots(ncols= 4, figsize=(29, 4))\n",
        "\n",
        "youtuberaw['subscribers'].hist(ax= axes[0], bins=20, color='maroon')              # right skewed\n",
        "youtuberaw['total video views'].hist(ax= axes[1], bins=20, color='maroon')        # right skewed\n",
        "youtuberaw['total videos'].hist(ax= axes[2], bins=20, color='maroon')             # right skewed\n",
        "youtuberaw['started'].hist(ax= axes[3], bins=20, color='maroon')                  # left skewed"
      ]
    },
    {
      "cell_type": "markdown",
      "metadata": {
        "id": "XI4_EV4PScQ-"
      },
      "source": [
        "Melihat outliers secara visual."
      ]
    },
    {
      "cell_type": "code",
      "execution_count": null,
      "metadata": {
        "colab": {
          "base_uri": "https://localhost:8080/",
          "height": 407
        },
        "id": "s91d9wrLQYS6",
        "outputId": "868a6ff0-bb93-4cde-fa6a-fb99a9c2fd77"
      },
      "outputs": [
        {
          "data": {
            "text/plain": [
              "<AxesSubplot:title={'center':'Started Distribution'}>"
            ]
          },
          "execution_count": 28,
          "metadata": {},
          "output_type": "execute_result"
        },
        {
          "data": {
            "image/png": "[encoded data removed]",
            "text/plain": [
              "<Figure size 1368x432 with 4 Axes>"
            ]
          },
          "metadata": {
            "needs_background": "light"
          },
          "output_type": "display_data"
        }
      ],
      "source": [
        "fig, axes = plt.subplots(ncols= 4, figsize=(19, 6))\n",
        "\n",
        "youtuberaw['subscribers'].plot(ax = axes[0], kind='box', title='Subscriber Distribution')\n",
        "youtuberaw['total video views'].plot(ax = axes[1], kind='box', title='Total Video Views Distribution')\n",
        "youtuberaw['total videos'].plot(ax = axes[2], kind='box', title='Video Counts Distribution')\n",
        "youtuberaw['started'].plot(ax = axes[3], kind='box', title='Started Distribution')"
      ]
    },
    {
      "cell_type": "markdown",
      "metadata": {
        "id": "pNDveDO-UJVM"
      },
      "source": [
        "Menghapus outlier 1970 pada kolom started karena youtube baru didirikan tahun 2015. "
      ]
    },
    {
      "cell_type": "code",
      "execution_count": null,
      "metadata": {
        "id": "e5f1AnKAbADH"
      },
      "outputs": [],
      "source": [
        "youtuberaw= youtuberaw.drop(youtuberaw[youtuberaw['started']==1970].index)"
      ]
    },
    {
      "cell_type": "markdown",
      "metadata": {
        "id": "OW9wXEbSQB_Q"
      },
      "source": [
        "Karena menginginkan keakuratan data. Saya tidak akan mengganti outliers di kolom subscribers, total video views, dan video counts distribution melainkan menghapusnya."
      ]
    },
    {
      "cell_type": "code",
      "execution_count": null,
      "metadata": {
        "id": "GL-TcmydQYJg"
      },
      "outputs": [],
      "source": [
        "youtuberaw= youtuberaw.drop(youtuberaw[youtuberaw['subscribers']==0].index)"
      ]
    },
    {
      "cell_type": "code",
      "execution_count": null,
      "metadata": {
        "id": "ol_FyZ0iaSxP"
      },
      "outputs": [],
      "source": [
        "youtuberaw= youtuberaw.drop(youtuberaw[youtuberaw['total video views']==0].index)"
      ]
    },
    {
      "cell_type": "code",
      "execution_count": null,
      "metadata": {
        "id": "T_dKsMDuaW6d"
      },
      "outputs": [],
      "source": [
        "youtuberaw= youtuberaw.drop(youtuberaw[youtuberaw['total videos']==0].index)"
      ]
    },
    {
      "cell_type": "code",
      "execution_count": null,
      "metadata": {
        "colab": {
          "base_uri": "https://localhost:8080/",
          "height": 206
        },
        "id": "at0640gjPIgc",
        "outputId": "989cc650-be96-4ca5-9e35-b713b67c26ea"
      },
      "outputs": [
        {
          "data": {
            "text/html": [
              "<div>\n",
              "<style scoped>\n",
              "    .dataframe tbody tr th:only-of-type {\n",
              "        vertical-align: middle;\n",
              "    }\n",
              "\n",
              "    .dataframe tbody tr th {\n",
              "        vertical-align: top;\n",
              "    }\n",
              "\n",
              "    .dataframe thead th {\n",
              "        text-align: right;\n",
              "    }\n",
              "</style>\n",
              "<table border=\"1\" class=\"dataframe\">\n",
              "  <thead>\n",
              "    <tr style=\"text-align: right;\">\n",
              "      <th></th>\n",
              "      <th>rank</th>\n",
              "      <th>Youtuber</th>\n",
              "      <th>subscribers</th>\n",
              "      <th>total video views</th>\n",
              "      <th>total videos</th>\n",
              "      <th>category</th>\n",
              "      <th>started</th>\n",
              "    </tr>\n",
              "  </thead>\n",
              "  <tbody>\n",
              "    <tr>\n",
              "      <th>0</th>\n",
              "      <td>1</td>\n",
              "      <td>T-Series</td>\n",
              "      <td>222000000</td>\n",
              "      <td>198459090822</td>\n",
              "      <td>17317</td>\n",
              "      <td>Music</td>\n",
              "      <td>2006</td>\n",
              "    </tr>\n",
              "    <tr>\n",
              "      <th>2</th>\n",
              "      <td>3</td>\n",
              "      <td>Cocomelon - Nursery Rhymes</td>\n",
              "      <td>140000000</td>\n",
              "      <td>135481339848</td>\n",
              "      <td>786</td>\n",
              "      <td>Education</td>\n",
              "      <td>2006</td>\n",
              "    </tr>\n",
              "    <tr>\n",
              "      <th>3</th>\n",
              "      <td>4</td>\n",
              "      <td>SET India</td>\n",
              "      <td>139000000</td>\n",
              "      <td>125764252686</td>\n",
              "      <td>91271</td>\n",
              "      <td>Shows</td>\n",
              "      <td>2006</td>\n",
              "    </tr>\n",
              "    <tr>\n",
              "      <th>5</th>\n",
              "      <td>6</td>\n",
              "      <td>PewDiePie</td>\n",
              "      <td>111000000</td>\n",
              "      <td>28469458228</td>\n",
              "      <td>4497</td>\n",
              "      <td>Gaming</td>\n",
              "      <td>2010</td>\n",
              "    </tr>\n",
              "    <tr>\n",
              "      <th>6</th>\n",
              "      <td>7</td>\n",
              "      <td>MrBeast</td>\n",
              "      <td>102000000</td>\n",
              "      <td>16832456681</td>\n",
              "      <td>726</td>\n",
              "      <td>Entertainment</td>\n",
              "      <td>2012</td>\n",
              "    </tr>\n",
              "  </tbody>\n",
              "</table>\n",
              "</div>"
            ],
            "text/plain": [
              "   rank                    Youtuber  subscribers  total video views  \\\n",
              "0     1                    T-Series    222000000       198459090822   \n",
              "2     3  Cocomelon - Nursery Rhymes    140000000       135481339848   \n",
              "3     4                   SET India    139000000       125764252686   \n",
              "5     6                   PewDiePie    111000000        28469458228   \n",
              "6     7                     MrBeast    102000000        16832456681   \n",
              "\n",
              "   total videos       category  started  \n",
              "0         17317          Music     2006  \n",
              "2           786      Education     2006  \n",
              "3         91271          Shows     2006  \n",
              "5          4497         Gaming     2010  \n",
              "6           726  Entertainment     2012  "
            ]
          },
          "execution_count": 33,
          "metadata": {},
          "output_type": "execute_result"
        }
      ],
      "source": [
        "youtuberaw.head()"
      ]
    },
    {
      "cell_type": "markdown",
      "metadata": {
        "id": "4Oz9_huEYmqE"
      },
      "source": [
        "Outliers lain di kolom subscribers, total video views, dan video counts tidak diubah karena masih masuk di akal."
      ]
    },
    {
      "cell_type": "markdown",
      "metadata": {
        "id": "kh9GiR2djU39"
      },
      "source": [
        "Mengurutkan dari jumlah total video views terbanyak."
      ]
    },
    {
      "cell_type": "code",
      "execution_count": null,
      "metadata": {
        "id": "Y94IScZjPIZR"
      },
      "outputs": [],
      "source": [
        "youtuberaw= youtuberaw.sort_values(by='total video views', ascending = False)"
      ]
    },
    {
      "cell_type": "markdown",
      "metadata": {
        "id": "c2MugZXLQQlv"
      },
      "source": [
        "Mengubah kolom rank."
      ]
    },
    {
      "cell_type": "code",
      "execution_count": null,
      "metadata": {
        "id": "uKBHTsx9PIdJ"
      },
      "outputs": [],
      "source": [
        "youtuberaw= youtuberaw.drop(['rank'], axis='columns').reset_index(drop=True)"
      ]
    },
    {
      "cell_type": "code",
      "execution_count": null,
      "metadata": {
        "colab": {
          "base_uri": "https://localhost:8080/",
          "height": 424
        },
        "id": "dWpLsMPqPITy",
        "outputId": "aa4123ec-65ba-4d38-bbdf-5b00ee07f639"
      },
      "outputs": [
        {
          "data": {
            "text/html": [
              "<div>\n",
              "<style scoped>\n",
              "    .dataframe tbody tr th:only-of-type {\n",
              "        vertical-align: middle;\n",
              "    }\n",
              "\n",
              "    .dataframe tbody tr th {\n",
              "        vertical-align: top;\n",
              "    }\n",
              "\n",
              "    .dataframe thead th {\n",
              "        text-align: right;\n",
              "    }\n",
              "</style>\n",
              "<table border=\"1\" class=\"dataframe\">\n",
              "  <thead>\n",
              "    <tr style=\"text-align: right;\">\n",
              "      <th></th>\n",
              "      <th>Youtuber</th>\n",
              "      <th>subscribers</th>\n",
              "      <th>total video views</th>\n",
              "      <th>total videos</th>\n",
              "      <th>category</th>\n",
              "      <th>started</th>\n",
              "    </tr>\n",
              "  </thead>\n",
              "  <tbody>\n",
              "    <tr>\n",
              "      <th>0</th>\n",
              "      <td>T-Series</td>\n",
              "      <td>222000000</td>\n",
              "      <td>198459090822</td>\n",
              "      <td>17317</td>\n",
              "      <td>Music</td>\n",
              "      <td>2006</td>\n",
              "    </tr>\n",
              "    <tr>\n",
              "      <th>1</th>\n",
              "      <td>Cocomelon - Nursery Rhymes</td>\n",
              "      <td>140000000</td>\n",
              "      <td>135481339848</td>\n",
              "      <td>786</td>\n",
              "      <td>Education</td>\n",
              "      <td>2006</td>\n",
              "    </tr>\n",
              "    <tr>\n",
              "      <th>2</th>\n",
              "      <td>SET India</td>\n",
              "      <td>139000000</td>\n",
              "      <td>125764252686</td>\n",
              "      <td>91271</td>\n",
              "      <td>Shows</td>\n",
              "      <td>2006</td>\n",
              "    </tr>\n",
              "    <tr>\n",
              "      <th>3</th>\n",
              "      <td>Sony SAB</td>\n",
              "      <td>70600000</td>\n",
              "      <td>82473581441</td>\n",
              "      <td>56295</td>\n",
              "      <td>Shows</td>\n",
              "      <td>2007</td>\n",
              "    </tr>\n",
              "    <tr>\n",
              "      <th>4</th>\n",
              "      <td>Like Nastya</td>\n",
              "      <td>99200000</td>\n",
              "      <td>81963845811</td>\n",
              "      <td>702</td>\n",
              "      <td>People &amp; Blogs</td>\n",
              "      <td>2016</td>\n",
              "    </tr>\n",
              "    <tr>\n",
              "      <th>...</th>\n",
              "      <td>...</td>\n",
              "      <td>...</td>\n",
              "      <td>...</td>\n",
              "      <td>...</td>\n",
              "      <td>...</td>\n",
              "      <td>...</td>\n",
              "    </tr>\n",
              "    <tr>\n",
              "      <th>984</th>\n",
              "      <td>FrontaL Gaming</td>\n",
              "      <td>11700000</td>\n",
              "      <td>255073454</td>\n",
              "      <td>108</td>\n",
              "      <td>Gaming</td>\n",
              "      <td>2015</td>\n",
              "    </tr>\n",
              "    <tr>\n",
              "      <th>985</th>\n",
              "      <td>NOBRU</td>\n",
              "      <td>13700000</td>\n",
              "      <td>225191097</td>\n",
              "      <td>344</td>\n",
              "      <td>Gaming</td>\n",
              "      <td>2016</td>\n",
              "    </tr>\n",
              "    <tr>\n",
              "      <th>986</th>\n",
              "      <td>Calon Sarjana</td>\n",
              "      <td>13000000</td>\n",
              "      <td>10664585</td>\n",
              "      <td>29</td>\n",
              "      <td>Entertainment</td>\n",
              "      <td>2016</td>\n",
              "    </tr>\n",
              "    <tr>\n",
              "      <th>987</th>\n",
              "      <td>YtCrash</td>\n",
              "      <td>11400000</td>\n",
              "      <td>3825084</td>\n",
              "      <td>1</td>\n",
              "      <td>Education</td>\n",
              "      <td>2015</td>\n",
              "    </tr>\n",
              "    <tr>\n",
              "      <th>988</th>\n",
              "      <td>НТВ</td>\n",
              "      <td>14900000</td>\n",
              "      <td>439098</td>\n",
              "      <td>1</td>\n",
              "      <td>People &amp; Blogs</td>\n",
              "      <td>2008</td>\n",
              "    </tr>\n",
              "  </tbody>\n",
              "</table>\n",
              "<p>989 rows × 6 columns</p>\n",
              "</div>"
            ],
            "text/plain": [
              "                       Youtuber  subscribers  total video views  total videos  \\\n",
              "0                      T-Series    222000000       198459090822         17317   \n",
              "1    Cocomelon - Nursery Rhymes    140000000       135481339848           786   \n",
              "2                     SET India    139000000       125764252686         91271   \n",
              "3                      Sony SAB     70600000        82473581441         56295   \n",
              "4                   Like Nastya     99200000        81963845811           702   \n",
              "..                          ...          ...                ...           ...   \n",
              "984              FrontaL Gaming     11700000          255073454           108   \n",
              "985                       NOBRU     13700000          225191097           344   \n",
              "986               Calon Sarjana     13000000           10664585            29   \n",
              "987                     YtCrash     11400000            3825084             1   \n",
              "988                         НТВ     14900000             439098             1   \n",
              "\n",
              "           category  started  \n",
              "0             Music     2006  \n",
              "1         Education     2006  \n",
              "2             Shows     2006  \n",
              "3             Shows     2007  \n",
              "4    People & Blogs     2016  \n",
              "..              ...      ...  \n",
              "984          Gaming     2015  \n",
              "985          Gaming     2016  \n",
              "986   Entertainment     2016  \n",
              "987       Education     2015  \n",
              "988  People & Blogs     2008  \n",
              "\n",
              "[989 rows x 6 columns]"
            ]
          },
          "execution_count": 36,
          "metadata": {},
          "output_type": "execute_result"
        }
      ],
      "source": [
        "youtuberaw"
      ]
    },
    {
      "cell_type": "markdown",
      "metadata": {
        "id": "1kmE-dHjlQb9"
      },
      "source": [
        "Menambahkan kolom years."
      ]
    },
    {
      "cell_type": "code",
      "execution_count": null,
      "metadata": {
        "id": "6GV96cjZreNO"
      },
      "outputs": [],
      "source": [
        "youtuberaw['today'] = 2022\n",
        "youtuberaw['years'] = youtuberaw['today'] - youtuberaw['started']"
      ]
    },
    {
      "cell_type": "code",
      "execution_count": null,
      "metadata": {
        "colab": {
          "base_uri": "https://localhost:8080/",
          "height": 424
        },
        "id": "l3CnmtJWrqWg",
        "outputId": "b3ceef80-a6af-4cc0-b2dd-d220fb0b961f"
      },
      "outputs": [
        {
          "data": {
            "text/html": [
              "<div>\n",
              "<style scoped>\n",
              "    .dataframe tbody tr th:only-of-type {\n",
              "        vertical-align: middle;\n",
              "    }\n",
              "\n",
              "    .dataframe tbody tr th {\n",
              "        vertical-align: top;\n",
              "    }\n",
              "\n",
              "    .dataframe thead th {\n",
              "        text-align: right;\n",
              "    }\n",
              "</style>\n",
              "<table border=\"1\" class=\"dataframe\">\n",
              "  <thead>\n",
              "    <tr style=\"text-align: right;\">\n",
              "      <th></th>\n",
              "      <th>Youtuber</th>\n",
              "      <th>subscribers</th>\n",
              "      <th>total video views</th>\n",
              "      <th>total videos</th>\n",
              "      <th>category</th>\n",
              "      <th>started</th>\n",
              "      <th>today</th>\n",
              "      <th>years</th>\n",
              "    </tr>\n",
              "  </thead>\n",
              "  <tbody>\n",
              "    <tr>\n",
              "      <th>0</th>\n",
              "      <td>T-Series</td>\n",
              "      <td>222000000</td>\n",
              "      <td>198459090822</td>\n",
              "      <td>17317</td>\n",
              "      <td>Music</td>\n",
              "      <td>2006</td>\n",
              "      <td>2022</td>\n",
              "      <td>16</td>\n",
              "    </tr>\n",
              "    <tr>\n",
              "      <th>1</th>\n",
              "      <td>Cocomelon - Nursery Rhymes</td>\n",
              "      <td>140000000</td>\n",
              "      <td>135481339848</td>\n",
              "      <td>786</td>\n",
              "      <td>Education</td>\n",
              "      <td>2006</td>\n",
              "      <td>2022</td>\n",
              "      <td>16</td>\n",
              "    </tr>\n",
              "    <tr>\n",
              "      <th>2</th>\n",
              "      <td>SET India</td>\n",
              "      <td>139000000</td>\n",
              "      <td>125764252686</td>\n",
              "      <td>91271</td>\n",
              "      <td>Shows</td>\n",
              "      <td>2006</td>\n",
              "      <td>2022</td>\n",
              "      <td>16</td>\n",
              "    </tr>\n",
              "    <tr>\n",
              "      <th>3</th>\n",
              "      <td>Sony SAB</td>\n",
              "      <td>70600000</td>\n",
              "      <td>82473581441</td>\n",
              "      <td>56295</td>\n",
              "      <td>Shows</td>\n",
              "      <td>2007</td>\n",
              "      <td>2022</td>\n",
              "      <td>15</td>\n",
              "    </tr>\n",
              "    <tr>\n",
              "      <th>4</th>\n",
              "      <td>Like Nastya</td>\n",
              "      <td>99200000</td>\n",
              "      <td>81963845811</td>\n",
              "      <td>702</td>\n",
              "      <td>People &amp; Blogs</td>\n",
              "      <td>2016</td>\n",
              "      <td>2022</td>\n",
              "      <td>6</td>\n",
              "    </tr>\n",
              "    <tr>\n",
              "      <th>...</th>\n",
              "      <td>...</td>\n",
              "      <td>...</td>\n",
              "      <td>...</td>\n",
              "      <td>...</td>\n",
              "      <td>...</td>\n",
              "      <td>...</td>\n",
              "      <td>...</td>\n",
              "      <td>...</td>\n",
              "    </tr>\n",
              "    <tr>\n",
              "      <th>984</th>\n",
              "      <td>FrontaL Gaming</td>\n",
              "      <td>11700000</td>\n",
              "      <td>255073454</td>\n",
              "      <td>108</td>\n",
              "      <td>Gaming</td>\n",
              "      <td>2015</td>\n",
              "      <td>2022</td>\n",
              "      <td>7</td>\n",
              "    </tr>\n",
              "    <tr>\n",
              "      <th>985</th>\n",
              "      <td>NOBRU</td>\n",
              "      <td>13700000</td>\n",
              "      <td>225191097</td>\n",
              "      <td>344</td>\n",
              "      <td>Gaming</td>\n",
              "      <td>2016</td>\n",
              "      <td>2022</td>\n",
              "      <td>6</td>\n",
              "    </tr>\n",
              "    <tr>\n",
              "      <th>986</th>\n",
              "      <td>Calon Sarjana</td>\n",
              "      <td>13000000</td>\n",
              "      <td>10664585</td>\n",
              "      <td>29</td>\n",
              "      <td>Entertainment</td>\n",
              "      <td>2016</td>\n",
              "      <td>2022</td>\n",
              "      <td>6</td>\n",
              "    </tr>\n",
              "    <tr>\n",
              "      <th>987</th>\n",
              "      <td>YtCrash</td>\n",
              "      <td>11400000</td>\n",
              "      <td>3825084</td>\n",
              "      <td>1</td>\n",
              "      <td>Education</td>\n",
              "      <td>2015</td>\n",
              "      <td>2022</td>\n",
              "      <td>7</td>\n",
              "    </tr>\n",
              "    <tr>\n",
              "      <th>988</th>\n",
              "      <td>НТВ</td>\n",
              "      <td>14900000</td>\n",
              "      <td>439098</td>\n",
              "      <td>1</td>\n",
              "      <td>People &amp; Blogs</td>\n",
              "      <td>2008</td>\n",
              "      <td>2022</td>\n",
              "      <td>14</td>\n",
              "    </tr>\n",
              "  </tbody>\n",
              "</table>\n",
              "<p>989 rows × 8 columns</p>\n",
              "</div>"
            ],
            "text/plain": [
              "                       Youtuber  subscribers  total video views  total videos  \\\n",
              "0                      T-Series    222000000       198459090822         17317   \n",
              "1    Cocomelon - Nursery Rhymes    140000000       135481339848           786   \n",
              "2                     SET India    139000000       125764252686         91271   \n",
              "3                      Sony SAB     70600000        82473581441         56295   \n",
              "4                   Like Nastya     99200000        81963845811           702   \n",
              "..                          ...          ...                ...           ...   \n",
              "984              FrontaL Gaming     11700000          255073454           108   \n",
              "985                       NOBRU     13700000          225191097           344   \n",
              "986               Calon Sarjana     13000000           10664585            29   \n",
              "987                     YtCrash     11400000            3825084             1   \n",
              "988                         НТВ     14900000             439098             1   \n",
              "\n",
              "           category  started  today  years  \n",
              "0             Music     2006   2022     16  \n",
              "1         Education     2006   2022     16  \n",
              "2             Shows     2006   2022     16  \n",
              "3             Shows     2007   2022     15  \n",
              "4    People & Blogs     2016   2022      6  \n",
              "..              ...      ...    ...    ...  \n",
              "984          Gaming     2015   2022      7  \n",
              "985          Gaming     2016   2022      6  \n",
              "986   Entertainment     2016   2022      6  \n",
              "987       Education     2015   2022      7  \n",
              "988  People & Blogs     2008   2022     14  \n",
              "\n",
              "[989 rows x 8 columns]"
            ]
          },
          "execution_count": 38,
          "metadata": {},
          "output_type": "execute_result"
        }
      ],
      "source": [
        "youtuberaw"
      ]
    },
    {
      "cell_type": "markdown",
      "metadata": {
        "id": "pI-hZjNDh0m4"
      },
      "source": [
        "Membuat dataframe baru dari data yang telah dibersihkan."
      ]
    },
    {
      "cell_type": "code",
      "execution_count": null,
      "metadata": {
        "id": "9SiMVR2Nh8f6"
      },
      "outputs": [],
      "source": [
        "youtube = youtuberaw[['Youtuber', 'subscribers', 'total video views', 'total videos', 'category', 'years']]"
      ]
    },
    {
      "cell_type": "code",
      "execution_count": null,
      "metadata": {
        "id": "FdXEys9biAPX"
      },
      "outputs": [],
      "source": [
        "youtube.to_csv('youtube.csv', index=False)"
      ]
    },
    {
      "cell_type": "code",
      "execution_count": null,
      "metadata": {
        "id": "lh9SoUFwimpX"
      },
      "outputs": [],
      "source": [
        "# google colab\n",
        "# files.download('youtube.csv')"
      ]
    },
    {
      "cell_type": "code",
      "execution_count": null,
      "metadata": {
        "id": "gyzbrqHaoBqd"
      },
      "outputs": [],
      "source": [
        "youtube10 = youtube.head(10)"
      ]
    },
    {
      "cell_type": "code",
      "execution_count": null,
      "metadata": {
        "id": "oZgFHVwNn_-p"
      },
      "outputs": [],
      "source": [
        "youtube10.to_csv('youtube10.csv', index=False)"
      ]
    },
    {
      "cell_type": "code",
      "execution_count": null,
      "metadata": {
        "id": "R-ZSro-moO7v"
      },
      "outputs": [],
      "source": [
        "# google colab\n",
        "# files.download('youtube10.csv')"
      ]
    },
    {
      "cell_type": "markdown",
      "metadata": {
        "id": "XO3md4zVq_Kf"
      },
      "source": [
        "## III. Analisis"
      ]
    },
    {
      "cell_type": "markdown",
      "metadata": {
        "id": "4Uc-Z3Jhi88I"
      },
      "source": [
        "### Loading Dataset Baru"
      ]
    },
    {
      "cell_type": "code",
      "execution_count": null,
      "metadata": {
        "id": "bVJ5YhBqjEsV"
      },
      "outputs": [],
      "source": [
        "youtube = pd.read_csv('youtube.csv')"
      ]
    },
    {
      "cell_type": "code",
      "execution_count": null,
      "metadata": {
        "id": "QJcdchyBAySz"
      },
      "outputs": [],
      "source": [
        "youtube10 = pd.read_csv('youtube10.csv')"
      ]
    },
    {
      "cell_type": "markdown",
      "metadata": {
        "id": "hB1ctaDIA2oS"
      },
      "source": [
        "### 1. Siapa youtuber dengan most viewed video terbanyak di youtube?"
      ]
    },
    {
      "cell_type": "code",
      "execution_count": null,
      "metadata": {
        "colab": {
          "base_uri": "https://localhost:8080/",
          "height": 394
        },
        "id": "GDGao-AZA0ek",
        "outputId": "e14e32ac-cd6a-49c1-e5c2-a84afbb6b7ae"
      },
      "outputs": [
        {
          "data": {
            "text/html": [
              "<div>\n",
              "<style scoped>\n",
              "    .dataframe tbody tr th:only-of-type {\n",
              "        vertical-align: middle;\n",
              "    }\n",
              "\n",
              "    .dataframe tbody tr th {\n",
              "        vertical-align: top;\n",
              "    }\n",
              "\n",
              "    .dataframe thead th {\n",
              "        text-align: right;\n",
              "    }\n",
              "</style>\n",
              "<table border=\"1\" class=\"dataframe\">\n",
              "  <thead>\n",
              "    <tr style=\"text-align: right;\">\n",
              "      <th></th>\n",
              "      <th>total video views</th>\n",
              "    </tr>\n",
              "    <tr>\n",
              "      <th>Youtuber</th>\n",
              "      <th></th>\n",
              "    </tr>\n",
              "  </thead>\n",
              "  <tbody>\n",
              "    <tr>\n",
              "      <th>T-Series</th>\n",
              "      <td>198459090822</td>\n",
              "    </tr>\n",
              "    <tr>\n",
              "      <th>Cocomelon - Nursery Rhymes</th>\n",
              "      <td>135481339848</td>\n",
              "    </tr>\n",
              "    <tr>\n",
              "      <th>SET India</th>\n",
              "      <td>125764252686</td>\n",
              "    </tr>\n",
              "    <tr>\n",
              "      <th>Sony SAB</th>\n",
              "      <td>82473581441</td>\n",
              "    </tr>\n",
              "    <tr>\n",
              "      <th>Like Nastya</th>\n",
              "      <td>81963845811</td>\n",
              "    </tr>\n",
              "    <tr>\n",
              "      <th>✿ Kids Diana Show</th>\n",
              "      <td>79602288245</td>\n",
              "    </tr>\n",
              "    <tr>\n",
              "      <th>WWE</th>\n",
              "      <td>70544743313</td>\n",
              "    </tr>\n",
              "    <tr>\n",
              "      <th>Vlad and Niki</th>\n",
              "      <td>66498762660</td>\n",
              "    </tr>\n",
              "    <tr>\n",
              "      <th>Movieclips</th>\n",
              "      <td>58839819120</td>\n",
              "    </tr>\n",
              "    <tr>\n",
              "      <th>Colors TV</th>\n",
              "      <td>52611504230</td>\n",
              "    </tr>\n",
              "  </tbody>\n",
              "</table>\n",
              "</div>"
            ],
            "text/plain": [
              "                            total video views\n",
              "Youtuber                                     \n",
              "T-Series                         198459090822\n",
              "Cocomelon - Nursery Rhymes       135481339848\n",
              "SET India                        125764252686\n",
              "Sony SAB                          82473581441\n",
              "Like Nastya                       81963845811\n",
              "✿ Kids Diana Show                 79602288245\n",
              "WWE                               70544743313\n",
              "Vlad and Niki                     66498762660\n",
              "Movieclips                        58839819120\n",
              "Colors TV                         52611504230"
            ]
          },
          "execution_count": 47,
          "metadata": {},
          "output_type": "execute_result"
        }
      ],
      "source": [
        "total_video_views = youtube[['Youtuber','total video views']].groupby('Youtuber').sum().sort_values(by='total video views', ascending=False).head(10)\n",
        "total_video_views"
      ]
    },
    {
      "cell_type": "code",
      "execution_count": null,
      "metadata": {
        "colab": {
          "base_uri": "https://localhost:8080/",
          "height": 445
        },
        "id": "Ta1m-9glA8Oe",
        "outputId": "19f33e07-3409-4e86-c263-ba8f1dc6d36b"
      },
      "outputs": [
        {
          "data": {
            "text/plain": [
              "<AxesSubplot:xlabel='Youtuber'>"
            ]
          },
          "execution_count": 48,
          "metadata": {},
          "output_type": "execute_result"
        },
        {
          "data": {
            "image/png": "[encoded data removed]",
            "text/plain": [
              "<Figure size 432x288 with 1 Axes>"
            ]
          },
          "metadata": {
            "needs_background": "light"
          },
          "output_type": "display_data"
        }
      ],
      "source": [
        "total_video_views.plot(kind='bar')"
      ]
    },
    {
      "cell_type": "markdown",
      "metadata": {
        "id": "Gr2get6iD5dD"
      },
      "source": [
        "Youtuber dengan most viewed video terbanyak adalah T-Series, Diikuti dengan Cocomelon - Nursery Rhymes, SET India, Sony SAB, Like Nastya, ✿ Kids Diana Show, WWE, Vlad and Niki, Movieclips, Colors TV"
      ]
    },
    {
      "cell_type": "markdown",
      "metadata": {
        "id": "RzKMmTdzA_dg"
      },
      "source": [
        "### 2. Bagaimana hubungan antara jumlah subscribe channel dengan most viewed video di youtube?"
      ]
    },
    {
      "cell_type": "code",
      "execution_count": null,
      "metadata": {
        "colab": {
          "base_uri": "https://localhost:8080/",
          "height": 394
        },
        "id": "Yd0qQtQYA8LV",
        "outputId": "b8f49a1d-e7b7-4cbd-aa43-9eb19ee0ecb9"
      },
      "outputs": [
        {
          "data": {
            "text/html": [
              "<div>\n",
              "<style scoped>\n",
              "    .dataframe tbody tr th:only-of-type {\n",
              "        vertical-align: middle;\n",
              "    }\n",
              "\n",
              "    .dataframe tbody tr th {\n",
              "        vertical-align: top;\n",
              "    }\n",
              "\n",
              "    .dataframe thead th {\n",
              "        text-align: right;\n",
              "    }\n",
              "</style>\n",
              "<table border=\"1\" class=\"dataframe\">\n",
              "  <thead>\n",
              "    <tr style=\"text-align: right;\">\n",
              "      <th></th>\n",
              "      <th>total video views</th>\n",
              "      <th>subscribers</th>\n",
              "    </tr>\n",
              "    <tr>\n",
              "      <th>Youtuber</th>\n",
              "      <th></th>\n",
              "      <th></th>\n",
              "    </tr>\n",
              "  </thead>\n",
              "  <tbody>\n",
              "    <tr>\n",
              "      <th>T-Series</th>\n",
              "      <td>198459090822</td>\n",
              "      <td>222000000</td>\n",
              "    </tr>\n",
              "    <tr>\n",
              "      <th>Cocomelon - Nursery Rhymes</th>\n",
              "      <td>135481339848</td>\n",
              "      <td>140000000</td>\n",
              "    </tr>\n",
              "    <tr>\n",
              "      <th>SET India</th>\n",
              "      <td>125764252686</td>\n",
              "      <td>139000000</td>\n",
              "    </tr>\n",
              "    <tr>\n",
              "      <th>Sony SAB</th>\n",
              "      <td>82473581441</td>\n",
              "      <td>70600000</td>\n",
              "    </tr>\n",
              "    <tr>\n",
              "      <th>Like Nastya</th>\n",
              "      <td>81963845811</td>\n",
              "      <td>99200000</td>\n",
              "    </tr>\n",
              "    <tr>\n",
              "      <th>✿ Kids Diana Show</th>\n",
              "      <td>79602288245</td>\n",
              "      <td>99700000</td>\n",
              "    </tr>\n",
              "    <tr>\n",
              "      <th>WWE</th>\n",
              "      <td>70544743313</td>\n",
              "      <td>90200000</td>\n",
              "    </tr>\n",
              "    <tr>\n",
              "      <th>Vlad and Niki</th>\n",
              "      <td>66498762660</td>\n",
              "      <td>85100000</td>\n",
              "    </tr>\n",
              "    <tr>\n",
              "      <th>Movieclips</th>\n",
              "      <td>58839819120</td>\n",
              "      <td>57600000</td>\n",
              "    </tr>\n",
              "    <tr>\n",
              "      <th>Colors TV</th>\n",
              "      <td>52611504230</td>\n",
              "      <td>55100000</td>\n",
              "    </tr>\n",
              "  </tbody>\n",
              "</table>\n",
              "</div>"
            ],
            "text/plain": [
              "                            total video views  subscribers\n",
              "Youtuber                                                  \n",
              "T-Series                         198459090822    222000000\n",
              "Cocomelon - Nursery Rhymes       135481339848    140000000\n",
              "SET India                        125764252686    139000000\n",
              "Sony SAB                          82473581441     70600000\n",
              "Like Nastya                       81963845811     99200000\n",
              "✿ Kids Diana Show                 79602288245     99700000\n",
              "WWE                               70544743313     90200000\n",
              "Vlad and Niki                     66498762660     85100000\n",
              "Movieclips                        58839819120     57600000\n",
              "Colors TV                         52611504230     55100000"
            ]
          },
          "execution_count": 125,
          "metadata": {},
          "output_type": "execute_result"
        }
      ],
      "source": [
        "subscribers = youtube[['Youtuber', 'total video views', 'subscribers']].groupby('Youtuber', sort=False).sum().head(10)\n",
        "subscribers"
      ]
    },
    {
      "cell_type": "code",
      "execution_count": null,
      "metadata": {
        "colab": {
          "base_uri": "https://localhost:8080/",
          "height": 445
        },
        "id": "KgUFMX36A8H4",
        "outputId": "efaacbc2-0da7-4738-a341-2f787efafed8"
      },
      "outputs": [
        {
          "name": "stderr",
          "output_type": "stream",
          "text": [
            "c:\\ProgramData\\Anaconda3\\lib\\site-packages\\IPython\\core\\pylabtools.py:151: UserWarning: Glyph 10047 (\\N{BLACK FLORETTE}) missing from current font.\n",
            "  fig.canvas.print_figure(bytes_io, **kw)\n"
          ]
        },
        {
          "data": {
            "image/png": "[encoded data removed]",
            "text/plain": [
              "<Figure size 432x288 with 1 Axes>"
            ]
          },
          "metadata": {},
          "output_type": "display_data"
        }
      ],
      "source": [
        "fig, ax = plt.subplots()\n",
        "\n",
        "ax.bar(subscribers.index, subscribers['total video views'], width=0.35, label='Video Views')\n",
        "ax.bar(subscribers.index, subscribers['subscribers'], width=0.35, bottom=subscribers['total video views'],\n",
        "       label='Subscribers')\n",
        "\n",
        "ax.set_ylabel('Total')\n",
        "ax.set_title('Video Views dan Subscribers')\n",
        "ax.legend()\n",
        "\n",
        "plt.xticks(rotation=90)\n",
        "\n",
        "plt.show()"
      ]
    },
    {
      "cell_type": "code",
      "execution_count": null,
      "metadata": {
        "colab": {
          "base_uri": "https://localhost:8080/",
          "height": 525
        },
        "id": "eSi1VIHwBEs2",
        "outputId": "4e506528-96f6-445d-b937-cb2d53bdca99"
      },
      "outputs": [
        {
          "data": {
            "text/plain": [
              "Text(0, 0.5, 'Video Viewers')"
            ]
          },
          "execution_count": 134,
          "metadata": {},
          "output_type": "execute_result"
        },
        {
          "data": {
            "image/png": "[encoded data removed]",
            "text/plain": [
              "<Figure size 720x576 with 1 Axes>"
            ]
          },
          "metadata": {},
          "output_type": "display_data"
        }
      ],
      "source": [
        "plt.figure(figsize = (10,8))\n",
        "sns.scatterplot(data=subscribers, x = 'subscribers', y ='total video views')\n",
        "\n",
        "plt.title(\"Subscribers and Video Viewers\", weight=\"bold\", fontsize=20)\n",
        "\n",
        "plt.xlabel(\"Subscribers\", weight=\"bold\",  fontsize=15, color=\"black\")\n",
        "plt.xticks(rotation=90)\n",
        "\n",
        "plt.ylabel( \"Video Viewers\", weight=\"bold\", color=\"black\", fontsize=15)"
      ]
    },
    {
      "cell_type": "markdown",
      "metadata": {
        "id": "LrDEmgZIEF4b"
      },
      "source": [
        "Berdasarkan plot yang ada jumlah subscribe channel dengan most viewed video di youtube cukup memiliki hubungan. Secara umum semakin banyak subscriber semakin besar total most viewed video. Demikian semakin sedikit subscriber semakin sedikit total most viewed video."
      ]
    },
    {
      "cell_type": "markdown",
      "metadata": {
        "id": "CmCMQps3BCr8"
      },
      "source": [
        "### 3. Bagaimana hubungan antara kategori video dengan most viewed video di youtube?"
      ]
    },
    {
      "cell_type": "code",
      "execution_count": null,
      "metadata": {
        "id": "5w6bTzYGoXPn",
        "outputId": "466e176a-1d75-4abf-e56f-751a202b6f52"
      },
      "outputs": [
        {
          "data": {
            "text/html": [
              "<div>\n",
              "<style scoped>\n",
              "    .dataframe tbody tr th:only-of-type {\n",
              "        vertical-align: middle;\n",
              "    }\n",
              "\n",
              "    .dataframe tbody tr th {\n",
              "        vertical-align: top;\n",
              "    }\n",
              "\n",
              "    .dataframe thead th {\n",
              "        text-align: right;\n",
              "    }\n",
              "</style>\n",
              "<table border=\"1\" class=\"dataframe\">\n",
              "  <thead>\n",
              "    <tr style=\"text-align: right;\">\n",
              "      <th></th>\n",
              "      <th>total video views</th>\n",
              "    </tr>\n",
              "    <tr>\n",
              "      <th>category</th>\n",
              "      <th></th>\n",
              "    </tr>\n",
              "  </thead>\n",
              "  <tbody>\n",
              "    <tr>\n",
              "      <th>Music</th>\n",
              "      <td>2906210355935</td>\n",
              "    </tr>\n",
              "    <tr>\n",
              "      <th>Entertainment</th>\n",
              "      <td>2065614675162</td>\n",
              "    </tr>\n",
              "    <tr>\n",
              "      <th>People &amp; Blogs</th>\n",
              "      <td>902223827281</td>\n",
              "    </tr>\n",
              "    <tr>\n",
              "      <th>Gaming</th>\n",
              "      <td>666609775197</td>\n",
              "    </tr>\n",
              "    <tr>\n",
              "      <th>Education</th>\n",
              "      <td>597612585217</td>\n",
              "    </tr>\n",
              "    <tr>\n",
              "      <th>Film &amp; Animation</th>\n",
              "      <td>492007180389</td>\n",
              "    </tr>\n",
              "    <tr>\n",
              "      <th>Shows</th>\n",
              "      <td>383341349652</td>\n",
              "    </tr>\n",
              "    <tr>\n",
              "      <th>Comedy</th>\n",
              "      <td>329552696633</td>\n",
              "    </tr>\n",
              "    <tr>\n",
              "      <th>News &amp; Politics</th>\n",
              "      <td>238225247927</td>\n",
              "    </tr>\n",
              "    <tr>\n",
              "      <th>Howto &amp; Style</th>\n",
              "      <td>187329391542</td>\n",
              "    </tr>\n",
              "    <tr>\n",
              "      <th>Gabungan</th>\n",
              "      <td>141579762776</td>\n",
              "    </tr>\n",
              "    <tr>\n",
              "      <th>Sports</th>\n",
              "      <td>120397093342</td>\n",
              "    </tr>\n",
              "    <tr>\n",
              "      <th>Science &amp; Technology</th>\n",
              "      <td>61327847554</td>\n",
              "    </tr>\n",
              "    <tr>\n",
              "      <th>Pets &amp; Animals</th>\n",
              "      <td>41101323353</td>\n",
              "    </tr>\n",
              "    <tr>\n",
              "      <th>Trailers</th>\n",
              "      <td>30507515438</td>\n",
              "    </tr>\n",
              "    <tr>\n",
              "      <th>Movies</th>\n",
              "      <td>12839091539</td>\n",
              "    </tr>\n",
              "    <tr>\n",
              "      <th>Nonprofits &amp; Activism</th>\n",
              "      <td>8542547810</td>\n",
              "    </tr>\n",
              "    <tr>\n",
              "      <th>Autos &amp; Vehicles</th>\n",
              "      <td>6530946230</td>\n",
              "    </tr>\n",
              "    <tr>\n",
              "      <th>Travel &amp; Events</th>\n",
              "      <td>2746045885</td>\n",
              "    </tr>\n",
              "  </tbody>\n",
              "</table>\n",
              "</div>"
            ],
            "text/plain": [
              "                       total video views\n",
              "category                                \n",
              "Music                      2906210355935\n",
              "Entertainment              2065614675162\n",
              "People & Blogs              902223827281\n",
              "Gaming                      666609775197\n",
              "Education                   597612585217\n",
              "Film & Animation            492007180389\n",
              "Shows                       383341349652\n",
              "Comedy                      329552696633\n",
              "News & Politics             238225247927\n",
              "Howto & Style               187329391542\n",
              "Gabungan                    141579762776\n",
              "Sports                      120397093342\n",
              "Science & Technology         61327847554\n",
              "Pets & Animals               41101323353\n",
              "Trailers                     30507515438\n",
              "Movies                       12839091539\n",
              "Nonprofits & Activism         8542547810\n",
              "Autos & Vehicles              6530946230\n",
              "Travel & Events               2746045885"
            ]
          },
          "execution_count": 130,
          "metadata": {},
          "output_type": "execute_result"
        }
      ],
      "source": [
        "categories = youtube[['category', 'total video views']].groupby('category').sum().sort_values('total video views', ascending= False)\n",
        "\n",
        "categories"
      ]
    },
    {
      "cell_type": "code",
      "execution_count": null,
      "metadata": {
        "id": "65fFibW7oXPn",
        "outputId": "981e8654-b8d2-4054-dcc1-99039101e36e"
      },
      "outputs": [
        {
          "data": {
            "text/plain": [
              "Text(0, 0.5, 'Video Viewers')"
            ]
          },
          "execution_count": 101,
          "metadata": {},
          "output_type": "execute_result"
        },
        {
          "data": {
            "image/png": "[encoded data removed]",
            "text/plain": [
              "<Figure size 720x576 with 1 Axes>"
            ]
          },
          "metadata": {
            "needs_background": "light"
          },
          "output_type": "display_data"
        }
      ],
      "source": [
        "plt.figure(figsize = (10,8))\n",
        "sns.barplot(data = categories, x = categories.index, y = 'total video views')\n",
        "\n",
        "\n",
        "plt.title(\"Video Categories and Video Viewers\", weight=\"bold\", fontsize=20)\n",
        "\n",
        "plt.xlabel(\"Video Categories\", weight=\"bold\",  fontsize=15, color=\"black\")\n",
        "plt.xticks(rotation=90)\n",
        "\n",
        "plt.ylabel( \"Video Viewers\", weight=\"bold\", color=\"black\", fontsize=15)"
      ]
    },
    {
      "cell_type": "markdown",
      "metadata": {
        "id": "gHuPha5GEa6n"
      },
      "source": [
        "Berdasarkan plot yang ada kategori video dengan most viewed video di youtube memiliki hubungan. Most viewed paling tinggi di kategori video Musik, dan disusul oleh Entertainment, People & Blogs,, Gaming, dan Education. Grafik memperlihat kan titik-titik seperti garis miring berdasarkan kategori."
      ]
    },
    {
      "cell_type": "code",
      "execution_count": null,
      "metadata": {
        "id": "vn7Mvv-zoXPo",
        "outputId": "f57e9a7a-1d77-4358-f3f9-276625265954"
      },
      "outputs": [
        {
          "data": {
            "text/plain": [
              "Text(0, 0.5, 'Video Viewers')"
            ]
          },
          "execution_count": 117,
          "metadata": {},
          "output_type": "execute_result"
        },
        {
          "data": {
            "image/png": "[encoded data removed]",
            "text/plain": [
              "<Figure size 720x576 with 1 Axes>"
            ]
          },
          "metadata": {
            "needs_background": "light"
          },
          "output_type": "display_data"
        }
      ],
      "source": [
        "plt.figure(figsize = (10,8))\n",
        "sns.scatterplot(data = categories, x = categories.index, y = 'total video views')\n",
        "\n",
        "\n",
        "plt.title(\"Video Categories and Video Viewers\", weight=\"bold\", fontsize=20)\n",
        "\n",
        "plt.xlabel(\"Video Categories\", weight=\"bold\",  fontsize=15, color=\"black\")\n",
        "plt.xticks(rotation=90)\n",
        "\n",
        "plt.ylabel( \"Video Viewers\", weight=\"bold\", color=\"black\", fontsize=15)"
      ]
    },
    {
      "cell_type": "markdown",
      "metadata": {
        "id": "HwRKmKNeBTsm"
      },
      "source": [
        "### 4. Bagaimana hubungan antara tahun pembuatan channel dengan most viewed video di youtube?"
      ]
    },
    {
      "cell_type": "code",
      "execution_count": null,
      "metadata": {
        "colab": {
          "base_uri": "https://localhost:8080/",
          "height": 483
        },
        "id": "__Fn8wfQBO7w",
        "outputId": "0d4de69b-64d3-468c-a8b9-ebac40835f22"
      },
      "outputs": [
        {
          "data": {
            "text/html": [
              "<div>\n",
              "<style scoped>\n",
              "    .dataframe tbody tr th:only-of-type {\n",
              "        vertical-align: middle;\n",
              "    }\n",
              "\n",
              "    .dataframe tbody tr th {\n",
              "        vertical-align: top;\n",
              "    }\n",
              "\n",
              "    .dataframe thead th {\n",
              "        text-align: right;\n",
              "    }\n",
              "</style>\n",
              "<table border=\"1\" class=\"dataframe\">\n",
              "  <thead>\n",
              "    <tr style=\"text-align: right;\">\n",
              "      <th></th>\n",
              "      <th>total video views</th>\n",
              "    </tr>\n",
              "    <tr>\n",
              "      <th>years</th>\n",
              "      <th></th>\n",
              "    </tr>\n",
              "  </thead>\n",
              "  <tbody>\n",
              "    <tr>\n",
              "      <th>1</th>\n",
              "      <td>34209903420</td>\n",
              "    </tr>\n",
              "    <tr>\n",
              "      <th>2</th>\n",
              "      <td>77957327194</td>\n",
              "    </tr>\n",
              "    <tr>\n",
              "      <th>3</th>\n",
              "      <td>165235554027</td>\n",
              "    </tr>\n",
              "    <tr>\n",
              "      <th>4</th>\n",
              "      <td>389648904226</td>\n",
              "    </tr>\n",
              "    <tr>\n",
              "      <th>5</th>\n",
              "      <td>313845330612</td>\n",
              "    </tr>\n",
              "    <tr>\n",
              "      <th>6</th>\n",
              "      <td>626524014430</td>\n",
              "    </tr>\n",
              "    <tr>\n",
              "      <th>7</th>\n",
              "      <td>695750012153</td>\n",
              "    </tr>\n",
              "    <tr>\n",
              "      <th>8</th>\n",
              "      <td>1005996703092</td>\n",
              "    </tr>\n",
              "    <tr>\n",
              "      <th>9</th>\n",
              "      <td>668102084046</td>\n",
              "    </tr>\n",
              "    <tr>\n",
              "      <th>10</th>\n",
              "      <td>751768837281</td>\n",
              "    </tr>\n",
              "    <tr>\n",
              "      <th>11</th>\n",
              "      <td>818857347790</td>\n",
              "    </tr>\n",
              "    <tr>\n",
              "      <th>12</th>\n",
              "      <td>422885731608</td>\n",
              "    </tr>\n",
              "    <tr>\n",
              "      <th>13</th>\n",
              "      <td>644560974272</td>\n",
              "    </tr>\n",
              "    <tr>\n",
              "      <th>14</th>\n",
              "      <td>513101462470</td>\n",
              "    </tr>\n",
              "    <tr>\n",
              "      <th>15</th>\n",
              "      <td>628618790881</td>\n",
              "    </tr>\n",
              "    <tr>\n",
              "      <th>16</th>\n",
              "      <td>1207385251006</td>\n",
              "    </tr>\n",
              "    <tr>\n",
              "      <th>17</th>\n",
              "      <td>229851030354</td>\n",
              "    </tr>\n",
              "  </tbody>\n",
              "</table>\n",
              "</div>"
            ],
            "text/plain": [
              "       total video views\n",
              "years                   \n",
              "1            34209903420\n",
              "2            77957327194\n",
              "3           165235554027\n",
              "4           389648904226\n",
              "5           313845330612\n",
              "6           626524014430\n",
              "7           695750012153\n",
              "8          1005996703092\n",
              "9           668102084046\n",
              "10          751768837281\n",
              "11          818857347790\n",
              "12          422885731608\n",
              "13          644560974272\n",
              "14          513101462470\n",
              "15          628618790881\n",
              "16         1207385251006\n",
              "17          229851030354"
            ]
          },
          "execution_count": 106,
          "metadata": {},
          "output_type": "execute_result"
        }
      ],
      "source": [
        "years = youtube.groupby('years')['total video views'].sum().sort_index().to_frame()\n",
        "years"
      ]
    },
    {
      "cell_type": "code",
      "execution_count": null,
      "metadata": {
        "id": "oe7t8qOkoXPp",
        "outputId": "88a29dfc-f34f-44fb-b521-a7d66d173d3f"
      },
      "outputs": [
        {
          "data": {
            "text/plain": [
              "Text(0, 0.5, 'Video Viewers')"
            ]
          },
          "execution_count": 108,
          "metadata": {},
          "output_type": "execute_result"
        },
        {
          "data": {
            "image/png": "[encoded data removed]",
            "text/plain": [
              "<Figure size 720x576 with 1 Axes>"
            ]
          },
          "metadata": {
            "needs_background": "light"
          },
          "output_type": "display_data"
        }
      ],
      "source": [
        "plt.figure(figsize = (10,8))\n",
        "sns.barplot(data = years, x = years.index, y = 'total video views')\n",
        "\n",
        "\n",
        "plt.title(\"Years and Video Viewers\", weight=\"bold\", fontsize=20)\n",
        "\n",
        "plt.xlabel(\"Years\", weight=\"bold\",  fontsize=15, color=\"black\")\n",
        "\n",
        "plt.ylabel( \"Video Viewers\", weight=\"bold\", color=\"black\", fontsize=15)"
      ]
    },
    {
      "cell_type": "code",
      "execution_count": null,
      "metadata": {
        "id": "LEHZk4sVoXPp",
        "outputId": "18ffe579-01cd-486a-de7a-34270a45bb35"
      },
      "outputs": [
        {
          "data": {
            "text/plain": [
              "Text(0, 0.5, 'Video Viewers')"
            ]
          },
          "execution_count": 109,
          "metadata": {},
          "output_type": "execute_result"
        },
        {
          "data": {
            "image/png": "[encoded data removed]",
            "text/plain": [
              "<Figure size 720x576 with 1 Axes>"
            ]
          },
          "metadata": {
            "needs_background": "light"
          },
          "output_type": "display_data"
        }
      ],
      "source": [
        "plt.figure(figsize = (10,8))\n",
        "sns.scatterplot(data = years, x = years.index, y = 'total video views')\n",
        "\n",
        "\n",
        "plt.title(\"Years and Video Viewers\", weight=\"bold\", fontsize=20)\n",
        "\n",
        "plt.xlabel(\"Years\", weight=\"bold\",  fontsize=15, color=\"black\")\n",
        "\n",
        "plt.ylabel( \"Video Viewers\", weight=\"bold\", color=\"black\", fontsize=15)"
      ]
    },
    {
      "cell_type": "markdown",
      "metadata": {
        "id": "qZgSt52HGE7r"
      },
      "source": [
        "Berdasarkan plot yang ada jangka waktu pembuatan channel dengan most viewed video di youtube cukup memiliki hubungan. Secara umum semakin lama jangka waktu akan semakin besar total most viewed video. Demikian semakin sedikit subscriber semakin sedikit total most viewed video. Grafik memperlihat kan titik-titik membentuk garis miring ke kanan atas."
      ]
    },
    {
      "cell_type": "markdown",
      "metadata": {
        "id": "UXag5dyhBcyz"
      },
      "source": [
        "### 5. Bagaimana hubungan antara total upload video dengan most viewed video di youtube?"
      ]
    },
    {
      "cell_type": "code",
      "execution_count": null,
      "metadata": {
        "id": "cSR6kgGJoXPp",
        "outputId": "e3259a8e-7ad2-4f59-835a-5e11a6236ec9"
      },
      "outputs": [
        {
          "data": {
            "text/html": [
              "<div>\n",
              "<style scoped>\n",
              "    .dataframe tbody tr th:only-of-type {\n",
              "        vertical-align: middle;\n",
              "    }\n",
              "\n",
              "    .dataframe tbody tr th {\n",
              "        vertical-align: top;\n",
              "    }\n",
              "\n",
              "    .dataframe thead th {\n",
              "        text-align: right;\n",
              "    }\n",
              "</style>\n",
              "<table border=\"1\" class=\"dataframe\">\n",
              "  <thead>\n",
              "    <tr style=\"text-align: right;\">\n",
              "      <th></th>\n",
              "      <th>total video views</th>\n",
              "    </tr>\n",
              "    <tr>\n",
              "      <th>total videos</th>\n",
              "      <th></th>\n",
              "    </tr>\n",
              "  </thead>\n",
              "  <tbody>\n",
              "    <tr>\n",
              "      <th>1</th>\n",
              "      <td>4264182</td>\n",
              "    </tr>\n",
              "    <tr>\n",
              "      <th>7</th>\n",
              "      <td>12588288710</td>\n",
              "    </tr>\n",
              "    <tr>\n",
              "      <th>12</th>\n",
              "      <td>1092248349</td>\n",
              "    </tr>\n",
              "    <tr>\n",
              "      <th>13</th>\n",
              "      <td>18826154709</td>\n",
              "    </tr>\n",
              "    <tr>\n",
              "      <th>14</th>\n",
              "      <td>17209993079</td>\n",
              "    </tr>\n",
              "    <tr>\n",
              "      <th>...</th>\n",
              "      <td>...</td>\n",
              "    </tr>\n",
              "    <tr>\n",
              "      <th>209097</th>\n",
              "      <td>11995915981</td>\n",
              "    </tr>\n",
              "    <tr>\n",
              "      <th>224455</th>\n",
              "      <td>10421462788</td>\n",
              "    </tr>\n",
              "    <tr>\n",
              "      <th>225232</th>\n",
              "      <td>9025460804</td>\n",
              "    </tr>\n",
              "    <tr>\n",
              "      <th>237971</th>\n",
              "      <td>13417041251</td>\n",
              "    </tr>\n",
              "    <tr>\n",
              "      <th>329711</th>\n",
              "      <td>10471677314</td>\n",
              "    </tr>\n",
              "  </tbody>\n",
              "</table>\n",
              "<p>854 rows × 1 columns</p>\n",
              "</div>"
            ],
            "text/plain": [
              "              total video views\n",
              "total videos                   \n",
              "1                       4264182\n",
              "7                   12588288710\n",
              "12                   1092248349\n",
              "13                  18826154709\n",
              "14                  17209993079\n",
              "...                         ...\n",
              "209097              11995915981\n",
              "224455              10421462788\n",
              "225232               9025460804\n",
              "237971              13417041251\n",
              "329711              10471677314\n",
              "\n",
              "[854 rows x 1 columns]"
            ]
          },
          "execution_count": 113,
          "metadata": {},
          "output_type": "execute_result"
        }
      ],
      "source": [
        "video_uploads = youtube.groupby('total videos')['total video views'].sum().sort_index().to_frame()\n",
        "video_uploads"
      ]
    },
    {
      "cell_type": "code",
      "execution_count": null,
      "metadata": {
        "id": "TCI3EA-woXPq",
        "outputId": "d21d608a-f1a8-4619-838f-f047108dbe08"
      },
      "outputs": [
        {
          "data": {
            "text/plain": [
              "Text(0, 0.5, 'Video Viewers')"
            ]
          },
          "execution_count": 114,
          "metadata": {},
          "output_type": "execute_result"
        },
        {
          "data": {
            "image/png": "[encoded data removed]",
            "text/plain": [
              "<Figure size 720x576 with 1 Axes>"
            ]
          },
          "metadata": {
            "needs_background": "light"
          },
          "output_type": "display_data"
        }
      ],
      "source": [
        "plt.figure(figsize = (10,8))\n",
        "sns.barplot(data = video_uploads, x = video_uploads.index, y = 'total video views')\n",
        "\n",
        "\n",
        "plt.title(\"Video Uploads and Video Viewers\", weight=\"bold\", fontsize=20)\n",
        "\n",
        "plt.xlabel(\"Video Uploads\", weight=\"bold\",  fontsize=15, color=\"black\")\n",
        "\n",
        "plt.ylabel( \"Video Viewers\", weight=\"bold\", color=\"black\", fontsize=15)"
      ]
    },
    {
      "cell_type": "code",
      "execution_count": null,
      "metadata": {
        "id": "tWhxbxqToXPq",
        "outputId": "c057537b-1464-4b90-af84-23c98f6ea029"
      },
      "outputs": [
        {
          "data": {
            "text/plain": [
              "Text(0, 0.5, 'Video Viewers')"
            ]
          },
          "execution_count": 115,
          "metadata": {},
          "output_type": "execute_result"
        },
        {
          "data": {
            "image/png": "[encoded data removed]",
            "text/plain": [
              "<Figure size 720x576 with 1 Axes>"
            ]
          },
          "metadata": {
            "needs_background": "light"
          },
          "output_type": "display_data"
        }
      ],
      "source": [
        "plt.figure(figsize = (10,8))\n",
        "sns.scatterplot(data = video_uploads, x = video_uploads.index, y = 'total video views')\n",
        "\n",
        "\n",
        "plt.title(\"Video Uploads and Video Viewers\", weight=\"bold\", fontsize=20)\n",
        "\n",
        "plt.xlabel(\"Video Uploads\", weight=\"bold\",  fontsize=15, color=\"black\")\n",
        "\n",
        "plt.ylabel( \"Video Viewers\", weight=\"bold\", color=\"black\", fontsize=15)"
      ]
    },
    {
      "cell_type": "markdown",
      "metadata": {
        "id": "ThY1To7KGvzA"
      },
      "source": [
        "Plot tidak menunjukkan adanya hubungan antara total upload video dengan most viewed video di youtube. Titik-titik pada garis tersebar."
      ]
    },
    {
      "cell_type": "markdown",
      "metadata": {
        "id": "Yp51siOwBloQ"
      },
      "source": [
        "### 6. Statistika Deskriptif di Youtube"
      ]
    },
    {
      "cell_type": "markdown",
      "metadata": {
        "id": "pNNNsV6IBqjl"
      },
      "source": [
        "- Melihat gambaran dari data dari Subscriber tertinggi, tengah (Median), dan terendah di Youtube"
      ]
    },
    {
      "cell_type": "markdown",
      "metadata": {
        "id": "_Hy_nsQjBslU"
      },
      "source": [
        "#### 1. Subscriber dengan jumlah Terendah"
      ]
    },
    {
      "cell_type": "code",
      "execution_count": null,
      "metadata": {
        "colab": {
          "base_uri": "https://localhost:8080/"
        },
        "id": "NNXRQCCxBrvk",
        "outputId": "9e23b40c-9300-4898-ee3c-433a45fc17e0"
      },
      "outputs": [
        {
          "data": {
            "text/plain": [
              "10900000"
            ]
          },
          "execution_count": 62,
          "metadata": {},
          "output_type": "execute_result"
        }
      ],
      "source": [
        "youtube['subscribers'].min()"
      ]
    },
    {
      "cell_type": "code",
      "execution_count": null,
      "metadata": {
        "colab": {
          "base_uri": "https://localhost:8080/"
        },
        "id": "v6v-STuRBws9",
        "outputId": "d544cc1d-dad4-4699-f5d5-9c929c7535b9"
      },
      "outputs": [
        {
          "data": {
            "text/plain": [
              "Int64Index([284, 377, 457, 547, 634, 701, 788, 794, 813], dtype='int64')"
            ]
          },
          "execution_count": 63,
          "metadata": {},
          "output_type": "execute_result"
        }
      ],
      "source": [
        "youtube[youtube['subscribers']==10900000].index"
      ]
    },
    {
      "cell_type": "code",
      "execution_count": null,
      "metadata": {
        "colab": {
          "base_uri": "https://localhost:8080/",
          "height": 332
        },
        "id": "dEUH33gKBwqV",
        "outputId": "92852b54-0b57-4d4f-f7df-a80a860a914e"
      },
      "outputs": [
        {
          "data": {
            "text/html": [
              "<div>\n",
              "<style scoped>\n",
              "    .dataframe tbody tr th:only-of-type {\n",
              "        vertical-align: middle;\n",
              "    }\n",
              "\n",
              "    .dataframe tbody tr th {\n",
              "        vertical-align: top;\n",
              "    }\n",
              "\n",
              "    .dataframe thead th {\n",
              "        text-align: right;\n",
              "    }\n",
              "</style>\n",
              "<table border=\"1\" class=\"dataframe\">\n",
              "  <thead>\n",
              "    <tr style=\"text-align: right;\">\n",
              "      <th></th>\n",
              "      <th>Youtuber</th>\n",
              "      <th>subscribers</th>\n",
              "      <th>total video views</th>\n",
              "      <th>total videos</th>\n",
              "      <th>category</th>\n",
              "      <th>years</th>\n",
              "    </tr>\n",
              "  </thead>\n",
              "  <tbody>\n",
              "    <tr>\n",
              "      <th>980</th>\n",
              "      <td>Matheus Yurley</td>\n",
              "      <td>13100000</td>\n",
              "      <td>741066278</td>\n",
              "      <td>238</td>\n",
              "      <td>Entertainment</td>\n",
              "      <td>7</td>\n",
              "    </tr>\n",
              "    <tr>\n",
              "      <th>981</th>\n",
              "      <td>YOLO</td>\n",
              "      <td>13400000</td>\n",
              "      <td>638326662</td>\n",
              "      <td>117</td>\n",
              "      <td>Comedy</td>\n",
              "      <td>7</td>\n",
              "    </tr>\n",
              "    <tr>\n",
              "      <th>982</th>\n",
              "      <td>Dani Russo Tv</td>\n",
              "      <td>11700000</td>\n",
              "      <td>602060711</td>\n",
              "      <td>280</td>\n",
              "      <td>Comedy</td>\n",
              "      <td>8</td>\n",
              "    </tr>\n",
              "    <tr>\n",
              "      <th>983</th>\n",
              "      <td>Vevo</td>\n",
              "      <td>20000000</td>\n",
              "      <td>546905035</td>\n",
              "      <td>1519</td>\n",
              "      <td>Music</td>\n",
              "      <td>16</td>\n",
              "    </tr>\n",
              "    <tr>\n",
              "      <th>984</th>\n",
              "      <td>FrontaL Gaming</td>\n",
              "      <td>11700000</td>\n",
              "      <td>255073454</td>\n",
              "      <td>108</td>\n",
              "      <td>Gaming</td>\n",
              "      <td>7</td>\n",
              "    </tr>\n",
              "    <tr>\n",
              "      <th>985</th>\n",
              "      <td>NOBRU</td>\n",
              "      <td>13700000</td>\n",
              "      <td>225191097</td>\n",
              "      <td>344</td>\n",
              "      <td>Gaming</td>\n",
              "      <td>6</td>\n",
              "    </tr>\n",
              "    <tr>\n",
              "      <th>986</th>\n",
              "      <td>Calon Sarjana</td>\n",
              "      <td>13000000</td>\n",
              "      <td>10664585</td>\n",
              "      <td>29</td>\n",
              "      <td>Entertainment</td>\n",
              "      <td>6</td>\n",
              "    </tr>\n",
              "    <tr>\n",
              "      <th>987</th>\n",
              "      <td>YtCrash</td>\n",
              "      <td>11400000</td>\n",
              "      <td>3825084</td>\n",
              "      <td>1</td>\n",
              "      <td>Education</td>\n",
              "      <td>7</td>\n",
              "    </tr>\n",
              "    <tr>\n",
              "      <th>988</th>\n",
              "      <td>НТВ</td>\n",
              "      <td>14900000</td>\n",
              "      <td>439098</td>\n",
              "      <td>1</td>\n",
              "      <td>People &amp; Blogs</td>\n",
              "      <td>14</td>\n",
              "    </tr>\n",
              "  </tbody>\n",
              "</table>\n",
              "</div>"
            ],
            "text/plain": [
              "           Youtuber  subscribers  total video views  total videos  \\\n",
              "980  Matheus Yurley     13100000          741066278           238   \n",
              "981            YOLO     13400000          638326662           117   \n",
              "982   Dani Russo Tv     11700000          602060711           280   \n",
              "983            Vevo     20000000          546905035          1519   \n",
              "984  FrontaL Gaming     11700000          255073454           108   \n",
              "985           NOBRU     13700000          225191097           344   \n",
              "986   Calon Sarjana     13000000           10664585            29   \n",
              "987         YtCrash     11400000            3825084             1   \n",
              "988             НТВ     14900000             439098             1   \n",
              "\n",
              "           category  years  \n",
              "980   Entertainment      7  \n",
              "981          Comedy      7  \n",
              "982          Comedy      8  \n",
              "983           Music     16  \n",
              "984          Gaming      7  \n",
              "985          Gaming      6  \n",
              "986   Entertainment      6  \n",
              "987       Education      7  \n",
              "988  People & Blogs     14  "
            ]
          },
          "execution_count": 64,
          "metadata": {},
          "output_type": "execute_result"
        }
      ],
      "source": [
        "subs_min = youtube.iloc[[980, 981, 982, 983, 984, 985, 986, 987, 988]]\n",
        "subs_min"
      ]
    },
    {
      "cell_type": "markdown",
      "metadata": {
        "id": "QfxDL5ReB1wM"
      },
      "source": [
        "#### 2. Subscriber Tengah"
      ]
    },
    {
      "cell_type": "code",
      "execution_count": null,
      "metadata": {
        "colab": {
          "base_uri": "https://localhost:8080/"
        },
        "id": "9UvegCTEB1eX",
        "outputId": "77f0d41c-d85d-40a7-e820-dcf1b0d72fee"
      },
      "outputs": [
        {
          "data": {
            "text/plain": [
              "15500000.0"
            ]
          },
          "execution_count": 65,
          "metadata": {},
          "output_type": "execute_result"
        }
      ],
      "source": [
        "youtube['subscribers'].median()"
      ]
    },
    {
      "cell_type": "code",
      "execution_count": null,
      "metadata": {
        "colab": {
          "base_uri": "https://localhost:8080/"
        },
        "id": "mbh3bC_nBwnf",
        "outputId": "93224be5-744b-46a2-fea3-98f734599b74"
      },
      "outputs": [
        {
          "data": {
            "text/plain": [
              "Int64Index([444, 512, 559, 959], dtype='int64')"
            ]
          },
          "execution_count": 66,
          "metadata": {},
          "output_type": "execute_result"
        }
      ],
      "source": [
        "youtube[youtube['subscribers']==15500000].index"
      ]
    },
    {
      "cell_type": "markdown",
      "metadata": {
        "id": "77xgmOOMB9XF"
      },
      "source": [
        "#### 3. Subscriber Tertinggi"
      ]
    },
    {
      "cell_type": "code",
      "execution_count": null,
      "metadata": {
        "colab": {
          "base_uri": "https://localhost:8080/"
        },
        "id": "w-Zc6D_zB9Fc",
        "outputId": "2bbfeac0-5c48-4713-b01d-d909183c7694"
      },
      "outputs": [
        {
          "data": {
            "text/plain": [
              "222000000"
            ]
          },
          "execution_count": 67,
          "metadata": {},
          "output_type": "execute_result"
        }
      ],
      "source": [
        "youtube['subscribers'].max()"
      ]
    },
    {
      "cell_type": "code",
      "execution_count": null,
      "metadata": {
        "colab": {
          "base_uri": "https://localhost:8080/"
        },
        "id": "Jq1-PcZ4BwkV",
        "outputId": "a04508d9-8926-4fc1-fbbd-5091e722c58b"
      },
      "outputs": [
        {
          "data": {
            "text/plain": [
              "Int64Index([0], dtype='int64')"
            ]
          },
          "execution_count": 68,
          "metadata": {},
          "output_type": "execute_result"
        }
      ],
      "source": [
        "youtube[youtube['subscribers']==222000000].index"
      ]
    },
    {
      "cell_type": "code",
      "execution_count": null,
      "metadata": {
        "colab": {
          "base_uri": "https://localhost:8080/",
          "height": 81
        },
        "id": "G85-e33CBwhg",
        "outputId": "786d391e-afe8-4d18-f9c4-fffabd3a6986"
      },
      "outputs": [
        {
          "data": {
            "text/html": [
              "<div>\n",
              "<style scoped>\n",
              "    .dataframe tbody tr th:only-of-type {\n",
              "        vertical-align: middle;\n",
              "    }\n",
              "\n",
              "    .dataframe tbody tr th {\n",
              "        vertical-align: top;\n",
              "    }\n",
              "\n",
              "    .dataframe thead th {\n",
              "        text-align: right;\n",
              "    }\n",
              "</style>\n",
              "<table border=\"1\" class=\"dataframe\">\n",
              "  <thead>\n",
              "    <tr style=\"text-align: right;\">\n",
              "      <th></th>\n",
              "      <th>Youtuber</th>\n",
              "      <th>subscribers</th>\n",
              "      <th>total video views</th>\n",
              "      <th>total videos</th>\n",
              "      <th>category</th>\n",
              "      <th>years</th>\n",
              "    </tr>\n",
              "  </thead>\n",
              "  <tbody>\n",
              "    <tr>\n",
              "      <th>0</th>\n",
              "      <td>T-Series</td>\n",
              "      <td>222000000</td>\n",
              "      <td>198459090822</td>\n",
              "      <td>17317</td>\n",
              "      <td>Music</td>\n",
              "      <td>16</td>\n",
              "    </tr>\n",
              "  </tbody>\n",
              "</table>\n",
              "</div>"
            ],
            "text/plain": [
              "   Youtuber  subscribers  total video views  total videos category  years\n",
              "0  T-Series    222000000       198459090822         17317    Music     16"
            ]
          },
          "execution_count": 69,
          "metadata": {},
          "output_type": "execute_result"
        }
      ],
      "source": [
        "subs_max = youtube.iloc[[0]]\n",
        "subs_max"
      ]
    },
    {
      "cell_type": "markdown",
      "metadata": {
        "id": "y5VG5RQfCE2R"
      },
      "source": [
        "- Outlier sudah dibersihkan di bagaian data cleaning."
      ]
    },
    {
      "cell_type": "markdown",
      "metadata": {
        "id": "HY7Puil-CLAI"
      },
      "source": [
        "### 7. Statistika Inferensia di Youtube"
      ]
    },
    {
      "cell_type": "code",
      "execution_count": null,
      "metadata": {
        "id": "kRiEjALNBwem"
      },
      "outputs": [],
      "source": [
        "youtube_chi = youtube.copy()"
      ]
    },
    {
      "cell_type": "code",
      "execution_count": null,
      "metadata": {
        "colab": {
          "base_uri": "https://localhost:8080/"
        },
        "id": "0EJ-ho0XJSRf",
        "outputId": "f949539d-f347-465a-c8ae-15cc64b14799"
      },
      "outputs": [
        {
          "name": "stdout",
          "output_type": "stream",
          "text": [
            "439098\n",
            "198459090822\n"
          ]
        }
      ],
      "source": [
        "print(youtube_chi['total video views'].min())\n",
        "print(youtube_chi['total video views'].max())"
      ]
    },
    {
      "cell_type": "code",
      "execution_count": null,
      "metadata": {
        "colab": {
          "base_uri": "https://localhost:8080/"
        },
        "id": "aKFLThklJL62",
        "outputId": "3460564f-e9ff-4f2b-fee6-dbe0ad032a64"
      },
      "outputs": [
        {
          "data": {
            "text/plain": [
              "0      10\n",
              "1       7\n",
              "2       7\n",
              "3       5\n",
              "4       5\n",
              "       ..\n",
              "984     1\n",
              "985     1\n",
              "986     1\n",
              "987     1\n",
              "988     1\n",
              "Name: total video views, Length: 989, dtype: int64"
            ]
          },
          "execution_count": 72,
          "metadata": {},
          "output_type": "execute_result"
        }
      ],
      "source": [
        "tvv = []\n",
        "\n",
        "for i in youtube_chi['total video views']:\n",
        "  if i < 20000000000:\n",
        "    tvv.append(1)\n",
        "  elif i >= 20000000000 and i < 40000000000:\n",
        "    tvv.append(2)\n",
        "  elif i >= 40000000000 and i < 60000000000:\n",
        "    tvv.append(3)\n",
        "  elif i >= 60000000000 and i < 80000000000:\n",
        "    tvv.append(4)\n",
        "  elif i >= 80000000000 and i < 100000000000:\n",
        "    tvv.append(5)\n",
        "  elif i >= 100000000000 and i < 120000000000:\n",
        "    tvv.append(6)\n",
        "  elif i >= 120000000000 and i < 140000000000:\n",
        "    tvv.append(7)\n",
        "  elif i >= 140000000000 and i < 160000000000:\n",
        "    tvv.append(8)\n",
        "  elif i >= 160000000000 and i < 180000000000:\n",
        "    tvv.append(9)\n",
        "  elif i >= 180000000000 and i < 200000000000:\n",
        "    tvv.append(10)\n",
        "  elif i >= 20000000000 and i < 220000000000:\n",
        "    tvv.append(11)\n",
        "\n",
        "youtube_chi['total video views'] = tvv\n",
        "\n",
        "youtube_chi['total video views']"
      ]
    },
    {
      "cell_type": "markdown",
      "metadata": {
        "id": "qdHK9xO4CPaG"
      },
      "source": [
        "a. Memastikan hubungan antara jumlah subscribe channel dengan most viewed video"
      ]
    },
    {
      "cell_type": "code",
      "execution_count": null,
      "metadata": {
        "colab": {
          "base_uri": "https://localhost:8080/",
          "height": 455
        },
        "id": "TUV5O_4TCSey",
        "outputId": "7f9245a4-6791-4b9d-d0c4-47ccd26f8596"
      },
      "outputs": [
        {
          "data": {
            "text/html": [
              "<div>\n",
              "<style scoped>\n",
              "    .dataframe tbody tr th:only-of-type {\n",
              "        vertical-align: middle;\n",
              "    }\n",
              "\n",
              "    .dataframe tbody tr th {\n",
              "        vertical-align: top;\n",
              "    }\n",
              "\n",
              "    .dataframe thead th {\n",
              "        text-align: right;\n",
              "    }\n",
              "</style>\n",
              "<table border=\"1\" class=\"dataframe\">\n",
              "  <thead>\n",
              "    <tr style=\"text-align: right;\">\n",
              "      <th>total video views</th>\n",
              "      <th>1</th>\n",
              "      <th>2</th>\n",
              "      <th>3</th>\n",
              "      <th>4</th>\n",
              "      <th>5</th>\n",
              "      <th>7</th>\n",
              "      <th>10</th>\n",
              "    </tr>\n",
              "    <tr>\n",
              "      <th>subscribers</th>\n",
              "      <th></th>\n",
              "      <th></th>\n",
              "      <th></th>\n",
              "      <th></th>\n",
              "      <th></th>\n",
              "      <th></th>\n",
              "      <th></th>\n",
              "    </tr>\n",
              "  </thead>\n",
              "  <tbody>\n",
              "    <tr>\n",
              "      <th>10900000</th>\n",
              "      <td>9</td>\n",
              "      <td>0</td>\n",
              "      <td>0</td>\n",
              "      <td>0</td>\n",
              "      <td>0</td>\n",
              "      <td>0</td>\n",
              "      <td>0</td>\n",
              "    </tr>\n",
              "    <tr>\n",
              "      <th>11000000</th>\n",
              "      <td>13</td>\n",
              "      <td>0</td>\n",
              "      <td>0</td>\n",
              "      <td>0</td>\n",
              "      <td>0</td>\n",
              "      <td>0</td>\n",
              "      <td>0</td>\n",
              "    </tr>\n",
              "    <tr>\n",
              "      <th>11100000</th>\n",
              "      <td>21</td>\n",
              "      <td>0</td>\n",
              "      <td>0</td>\n",
              "      <td>0</td>\n",
              "      <td>0</td>\n",
              "      <td>0</td>\n",
              "      <td>0</td>\n",
              "    </tr>\n",
              "    <tr>\n",
              "      <th>11200000</th>\n",
              "      <td>17</td>\n",
              "      <td>0</td>\n",
              "      <td>0</td>\n",
              "      <td>0</td>\n",
              "      <td>0</td>\n",
              "      <td>0</td>\n",
              "      <td>0</td>\n",
              "    </tr>\n",
              "    <tr>\n",
              "      <th>11300000</th>\n",
              "      <td>18</td>\n",
              "      <td>0</td>\n",
              "      <td>0</td>\n",
              "      <td>0</td>\n",
              "      <td>0</td>\n",
              "      <td>0</td>\n",
              "      <td>0</td>\n",
              "    </tr>\n",
              "    <tr>\n",
              "      <th>...</th>\n",
              "      <td>...</td>\n",
              "      <td>...</td>\n",
              "      <td>...</td>\n",
              "      <td>...</td>\n",
              "      <td>...</td>\n",
              "      <td>...</td>\n",
              "      <td>...</td>\n",
              "    </tr>\n",
              "    <tr>\n",
              "      <th>102000000</th>\n",
              "      <td>1</td>\n",
              "      <td>0</td>\n",
              "      <td>0</td>\n",
              "      <td>0</td>\n",
              "      <td>0</td>\n",
              "      <td>0</td>\n",
              "      <td>0</td>\n",
              "    </tr>\n",
              "    <tr>\n",
              "      <th>111000000</th>\n",
              "      <td>0</td>\n",
              "      <td>1</td>\n",
              "      <td>0</td>\n",
              "      <td>0</td>\n",
              "      <td>0</td>\n",
              "      <td>0</td>\n",
              "      <td>0</td>\n",
              "    </tr>\n",
              "    <tr>\n",
              "      <th>139000000</th>\n",
              "      <td>0</td>\n",
              "      <td>0</td>\n",
              "      <td>0</td>\n",
              "      <td>0</td>\n",
              "      <td>0</td>\n",
              "      <td>1</td>\n",
              "      <td>0</td>\n",
              "    </tr>\n",
              "    <tr>\n",
              "      <th>140000000</th>\n",
              "      <td>0</td>\n",
              "      <td>0</td>\n",
              "      <td>0</td>\n",
              "      <td>0</td>\n",
              "      <td>0</td>\n",
              "      <td>1</td>\n",
              "      <td>0</td>\n",
              "    </tr>\n",
              "    <tr>\n",
              "      <th>222000000</th>\n",
              "      <td>0</td>\n",
              "      <td>0</td>\n",
              "      <td>0</td>\n",
              "      <td>0</td>\n",
              "      <td>0</td>\n",
              "      <td>0</td>\n",
              "      <td>1</td>\n",
              "    </tr>\n",
              "  </tbody>\n",
              "</table>\n",
              "<p>281 rows × 7 columns</p>\n",
              "</div>"
            ],
            "text/plain": [
              "total video views  1   2   3   4   5   7   10\n",
              "subscribers                                  \n",
              "10900000            9   0   0   0   0   0   0\n",
              "11000000           13   0   0   0   0   0   0\n",
              "11100000           21   0   0   0   0   0   0\n",
              "11200000           17   0   0   0   0   0   0\n",
              "11300000           18   0   0   0   0   0   0\n",
              "...                ..  ..  ..  ..  ..  ..  ..\n",
              "102000000           1   0   0   0   0   0   0\n",
              "111000000           0   1   0   0   0   0   0\n",
              "139000000           0   0   0   0   0   1   0\n",
              "140000000           0   0   0   0   0   1   0\n",
              "222000000           0   0   0   0   0   0   1\n",
              "\n",
              "[281 rows x 7 columns]"
            ]
          },
          "execution_count": 73,
          "metadata": {},
          "output_type": "execute_result"
        }
      ],
      "source": [
        "chi1 = youtube_chi[['subscribers','total video views']]\n",
        "\n",
        "contingency_table1=pd.crosstab(chi1['subscribers'],chi1['total video views'])\n",
        "\n",
        "contingency_table1"
      ]
    },
    {
      "cell_type": "code",
      "execution_count": null,
      "metadata": {
        "colab": {
          "base_uri": "https://localhost:8080/"
        },
        "id": "AxWSFJfQCUQE",
        "outputId": "ff06f980-4a97-43a6-c516-a544d2004605"
      },
      "outputs": [
        {
          "name": "stdout",
          "output_type": "stream",
          "text": [
            "p = 0.000\n",
            "Probably dependent\n"
          ]
        }
      ],
      "source": [
        "stat, p, dof, expected = stats.chi2_contingency(contingency_table1)\n",
        "print('p = %.3f' % (p))\n",
        "if p > 0.05:\n",
        "    print('Probably independent')\n",
        "else:\n",
        "    print('Probably dependent')"
      ]
    },
    {
      "cell_type": "markdown",
      "metadata": {
        "id": "29I_Fxh-NDai"
      },
      "source": [
        "Berdasarkan chi_square, subscribe channel memiliki kaitan dengan total viewed per video."
      ]
    },
    {
      "cell_type": "markdown",
      "metadata": {
        "id": "qJ9QfE34CPNN"
      },
      "source": [
        "b. Memastikan hubungan antara kategori video dengan most viewed video di youtube?"
      ]
    },
    {
      "cell_type": "code",
      "execution_count": null,
      "metadata": {
        "colab": {
          "base_uri": "https://localhost:8080/",
          "height": 677
        },
        "id": "6avK152kCYl_",
        "outputId": "d8c7647a-4ccc-4292-8ac0-5326e3b8036e"
      },
      "outputs": [
        {
          "data": {
            "text/html": [
              "<div>\n",
              "<style scoped>\n",
              "    .dataframe tbody tr th:only-of-type {\n",
              "        vertical-align: middle;\n",
              "    }\n",
              "\n",
              "    .dataframe tbody tr th {\n",
              "        vertical-align: top;\n",
              "    }\n",
              "\n",
              "    .dataframe thead th {\n",
              "        text-align: right;\n",
              "    }\n",
              "</style>\n",
              "<table border=\"1\" class=\"dataframe\">\n",
              "  <thead>\n",
              "    <tr style=\"text-align: right;\">\n",
              "      <th>total video views</th>\n",
              "      <th>1</th>\n",
              "      <th>2</th>\n",
              "      <th>3</th>\n",
              "      <th>4</th>\n",
              "      <th>5</th>\n",
              "      <th>7</th>\n",
              "      <th>10</th>\n",
              "    </tr>\n",
              "    <tr>\n",
              "      <th>category</th>\n",
              "      <th></th>\n",
              "      <th></th>\n",
              "      <th></th>\n",
              "      <th></th>\n",
              "      <th></th>\n",
              "      <th></th>\n",
              "      <th></th>\n",
              "    </tr>\n",
              "  </thead>\n",
              "  <tbody>\n",
              "    <tr>\n",
              "      <th>Autos &amp; Vehicles</th>\n",
              "      <td>1</td>\n",
              "      <td>0</td>\n",
              "      <td>0</td>\n",
              "      <td>0</td>\n",
              "      <td>0</td>\n",
              "      <td>0</td>\n",
              "      <td>0</td>\n",
              "    </tr>\n",
              "    <tr>\n",
              "      <th>Comedy</th>\n",
              "      <td>62</td>\n",
              "      <td>1</td>\n",
              "      <td>0</td>\n",
              "      <td>0</td>\n",
              "      <td>0</td>\n",
              "      <td>0</td>\n",
              "      <td>0</td>\n",
              "    </tr>\n",
              "    <tr>\n",
              "      <th>Education</th>\n",
              "      <td>38</td>\n",
              "      <td>7</td>\n",
              "      <td>0</td>\n",
              "      <td>0</td>\n",
              "      <td>0</td>\n",
              "      <td>1</td>\n",
              "      <td>0</td>\n",
              "    </tr>\n",
              "    <tr>\n",
              "      <th>Entertainment</th>\n",
              "      <td>225</td>\n",
              "      <td>13</td>\n",
              "      <td>2</td>\n",
              "      <td>1</td>\n",
              "      <td>0</td>\n",
              "      <td>0</td>\n",
              "      <td>0</td>\n",
              "    </tr>\n",
              "    <tr>\n",
              "      <th>Film &amp; Animation</th>\n",
              "      <td>44</td>\n",
              "      <td>5</td>\n",
              "      <td>1</td>\n",
              "      <td>0</td>\n",
              "      <td>0</td>\n",
              "      <td>0</td>\n",
              "      <td>0</td>\n",
              "    </tr>\n",
              "    <tr>\n",
              "      <th>Gabungan</th>\n",
              "      <td>18</td>\n",
              "      <td>1</td>\n",
              "      <td>0</td>\n",
              "      <td>0</td>\n",
              "      <td>0</td>\n",
              "      <td>0</td>\n",
              "      <td>0</td>\n",
              "    </tr>\n",
              "    <tr>\n",
              "      <th>Gaming</th>\n",
              "      <td>99</td>\n",
              "      <td>3</td>\n",
              "      <td>0</td>\n",
              "      <td>0</td>\n",
              "      <td>0</td>\n",
              "      <td>0</td>\n",
              "      <td>0</td>\n",
              "    </tr>\n",
              "    <tr>\n",
              "      <th>Howto &amp; Style</th>\n",
              "      <td>44</td>\n",
              "      <td>1</td>\n",
              "      <td>0</td>\n",
              "      <td>0</td>\n",
              "      <td>0</td>\n",
              "      <td>0</td>\n",
              "      <td>0</td>\n",
              "    </tr>\n",
              "    <tr>\n",
              "      <th>Movies</th>\n",
              "      <td>2</td>\n",
              "      <td>0</td>\n",
              "      <td>0</td>\n",
              "      <td>0</td>\n",
              "      <td>0</td>\n",
              "      <td>0</td>\n",
              "      <td>0</td>\n",
              "    </tr>\n",
              "    <tr>\n",
              "      <th>Music</th>\n",
              "      <td>185</td>\n",
              "      <td>33</td>\n",
              "      <td>3</td>\n",
              "      <td>0</td>\n",
              "      <td>0</td>\n",
              "      <td>0</td>\n",
              "      <td>1</td>\n",
              "    </tr>\n",
              "    <tr>\n",
              "      <th>News &amp; Politics</th>\n",
              "      <td>25</td>\n",
              "      <td>1</td>\n",
              "      <td>0</td>\n",
              "      <td>0</td>\n",
              "      <td>0</td>\n",
              "      <td>0</td>\n",
              "      <td>0</td>\n",
              "    </tr>\n",
              "    <tr>\n",
              "      <th>Nonprofits &amp; Activism</th>\n",
              "      <td>2</td>\n",
              "      <td>0</td>\n",
              "      <td>0</td>\n",
              "      <td>0</td>\n",
              "      <td>0</td>\n",
              "      <td>0</td>\n",
              "      <td>0</td>\n",
              "    </tr>\n",
              "    <tr>\n",
              "      <th>People &amp; Blogs</th>\n",
              "      <td>111</td>\n",
              "      <td>5</td>\n",
              "      <td>1</td>\n",
              "      <td>1</td>\n",
              "      <td>1</td>\n",
              "      <td>0</td>\n",
              "      <td>0</td>\n",
              "    </tr>\n",
              "    <tr>\n",
              "      <th>Pets &amp; Animals</th>\n",
              "      <td>6</td>\n",
              "      <td>0</td>\n",
              "      <td>0</td>\n",
              "      <td>0</td>\n",
              "      <td>0</td>\n",
              "      <td>0</td>\n",
              "      <td>0</td>\n",
              "    </tr>\n",
              "    <tr>\n",
              "      <th>Science &amp; Technology</th>\n",
              "      <td>18</td>\n",
              "      <td>0</td>\n",
              "      <td>0</td>\n",
              "      <td>0</td>\n",
              "      <td>0</td>\n",
              "      <td>0</td>\n",
              "      <td>0</td>\n",
              "    </tr>\n",
              "    <tr>\n",
              "      <th>Shows</th>\n",
              "      <td>10</td>\n",
              "      <td>1</td>\n",
              "      <td>1</td>\n",
              "      <td>0</td>\n",
              "      <td>1</td>\n",
              "      <td>1</td>\n",
              "      <td>0</td>\n",
              "    </tr>\n",
              "    <tr>\n",
              "      <th>Sports</th>\n",
              "      <td>9</td>\n",
              "      <td>0</td>\n",
              "      <td>0</td>\n",
              "      <td>1</td>\n",
              "      <td>0</td>\n",
              "      <td>0</td>\n",
              "      <td>0</td>\n",
              "    </tr>\n",
              "    <tr>\n",
              "      <th>Trailers</th>\n",
              "      <td>2</td>\n",
              "      <td>0</td>\n",
              "      <td>0</td>\n",
              "      <td>0</td>\n",
              "      <td>0</td>\n",
              "      <td>0</td>\n",
              "      <td>0</td>\n",
              "    </tr>\n",
              "    <tr>\n",
              "      <th>Travel &amp; Events</th>\n",
              "      <td>1</td>\n",
              "      <td>0</td>\n",
              "      <td>0</td>\n",
              "      <td>0</td>\n",
              "      <td>0</td>\n",
              "      <td>0</td>\n",
              "      <td>0</td>\n",
              "    </tr>\n",
              "  </tbody>\n",
              "</table>\n",
              "</div>"
            ],
            "text/plain": [
              "total video views       1   2   3   4   5   7   10\n",
              "category                                          \n",
              "Autos & Vehicles         1   0   0   0   0   0   0\n",
              "Comedy                  62   1   0   0   0   0   0\n",
              "Education               38   7   0   0   0   1   0\n",
              "Entertainment          225  13   2   1   0   0   0\n",
              "Film & Animation        44   5   1   0   0   0   0\n",
              "Gabungan                18   1   0   0   0   0   0\n",
              "Gaming                  99   3   0   0   0   0   0\n",
              "Howto & Style           44   1   0   0   0   0   0\n",
              "Movies                   2   0   0   0   0   0   0\n",
              "Music                  185  33   3   0   0   0   1\n",
              "News & Politics         25   1   0   0   0   0   0\n",
              "Nonprofits & Activism    2   0   0   0   0   0   0\n",
              "People & Blogs         111   5   1   1   1   0   0\n",
              "Pets & Animals           6   0   0   0   0   0   0\n",
              "Science & Technology    18   0   0   0   0   0   0\n",
              "Shows                   10   1   1   0   1   1   0\n",
              "Sports                   9   0   0   1   0   0   0\n",
              "Trailers                 2   0   0   0   0   0   0\n",
              "Travel & Events          1   0   0   0   0   0   0"
            ]
          },
          "execution_count": 75,
          "metadata": {},
          "output_type": "execute_result"
        }
      ],
      "source": [
        "chi2 = youtube_chi[['category','total video views']]\n",
        "\n",
        "contingency_table2=pd.crosstab(chi2['category'],chi2['total video views'])\n",
        "\n",
        "contingency_table2"
      ]
    },
    {
      "cell_type": "code",
      "execution_count": null,
      "metadata": {
        "colab": {
          "base_uri": "https://localhost:8080/"
        },
        "id": "TqvsMBc0CfJ5",
        "outputId": "49e3175f-91ca-42c7-a077-5bac4f8d4a91"
      },
      "outputs": [
        {
          "name": "stdout",
          "output_type": "stream",
          "text": [
            "p = 0.000\n",
            "Probably dependent\n"
          ]
        }
      ],
      "source": [
        "stat, p, dof, expected = stats.chi2_contingency(contingency_table2)\n",
        "print('p = %.3f' % (p))\n",
        "if p > 0.05:\n",
        "    print('Probably independent')\n",
        "else:\n",
        "    print('Probably dependent')"
      ]
    },
    {
      "cell_type": "markdown",
      "metadata": {
        "id": "yXkh3fD2M6iv"
      },
      "source": [
        "Berdasarkan chi_square, category video memiliki kaitan dengan total viewed per video."
      ]
    },
    {
      "cell_type": "markdown",
      "metadata": {
        "id": "aLM9tQlmCPEf"
      },
      "source": [
        "c. Memastikan hubungan antara tahun pembuatan channel dengan most viewed video di youtube?"
      ]
    },
    {
      "cell_type": "code",
      "execution_count": null,
      "metadata": {
        "colab": {
          "base_uri": "https://localhost:8080/",
          "height": 614
        },
        "id": "rISLCssFCcTq",
        "outputId": "40267c83-3ca0-4875-e79c-d5e69116be28"
      },
      "outputs": [
        {
          "data": {
            "text/html": [
              "<div>\n",
              "<style scoped>\n",
              "    .dataframe tbody tr th:only-of-type {\n",
              "        vertical-align: middle;\n",
              "    }\n",
              "\n",
              "    .dataframe tbody tr th {\n",
              "        vertical-align: top;\n",
              "    }\n",
              "\n",
              "    .dataframe thead th {\n",
              "        text-align: right;\n",
              "    }\n",
              "</style>\n",
              "<table border=\"1\" class=\"dataframe\">\n",
              "  <thead>\n",
              "    <tr style=\"text-align: right;\">\n",
              "      <th>total video views</th>\n",
              "      <th>1</th>\n",
              "      <th>2</th>\n",
              "      <th>3</th>\n",
              "      <th>4</th>\n",
              "      <th>5</th>\n",
              "      <th>7</th>\n",
              "      <th>10</th>\n",
              "    </tr>\n",
              "    <tr>\n",
              "      <th>years</th>\n",
              "      <th></th>\n",
              "      <th></th>\n",
              "      <th></th>\n",
              "      <th></th>\n",
              "      <th></th>\n",
              "      <th></th>\n",
              "      <th></th>\n",
              "    </tr>\n",
              "  </thead>\n",
              "  <tbody>\n",
              "    <tr>\n",
              "      <th>1</th>\n",
              "      <td>4</td>\n",
              "      <td>0</td>\n",
              "      <td>0</td>\n",
              "      <td>0</td>\n",
              "      <td>0</td>\n",
              "      <td>0</td>\n",
              "      <td>0</td>\n",
              "    </tr>\n",
              "    <tr>\n",
              "      <th>2</th>\n",
              "      <td>10</td>\n",
              "      <td>0</td>\n",
              "      <td>0</td>\n",
              "      <td>0</td>\n",
              "      <td>0</td>\n",
              "      <td>0</td>\n",
              "      <td>0</td>\n",
              "    </tr>\n",
              "    <tr>\n",
              "      <th>3</th>\n",
              "      <td>24</td>\n",
              "      <td>1</td>\n",
              "      <td>0</td>\n",
              "      <td>0</td>\n",
              "      <td>0</td>\n",
              "      <td>0</td>\n",
              "      <td>0</td>\n",
              "    </tr>\n",
              "    <tr>\n",
              "      <th>4</th>\n",
              "      <td>45</td>\n",
              "      <td>0</td>\n",
              "      <td>0</td>\n",
              "      <td>1</td>\n",
              "      <td>0</td>\n",
              "      <td>0</td>\n",
              "      <td>0</td>\n",
              "    </tr>\n",
              "    <tr>\n",
              "      <th>5</th>\n",
              "      <td>59</td>\n",
              "      <td>1</td>\n",
              "      <td>0</td>\n",
              "      <td>0</td>\n",
              "      <td>0</td>\n",
              "      <td>0</td>\n",
              "      <td>0</td>\n",
              "    </tr>\n",
              "    <tr>\n",
              "      <th>6</th>\n",
              "      <td>69</td>\n",
              "      <td>6</td>\n",
              "      <td>1</td>\n",
              "      <td>0</td>\n",
              "      <td>1</td>\n",
              "      <td>0</td>\n",
              "      <td>0</td>\n",
              "    </tr>\n",
              "    <tr>\n",
              "      <th>7</th>\n",
              "      <td>87</td>\n",
              "      <td>2</td>\n",
              "      <td>1</td>\n",
              "      <td>1</td>\n",
              "      <td>0</td>\n",
              "      <td>0</td>\n",
              "      <td>0</td>\n",
              "    </tr>\n",
              "    <tr>\n",
              "      <th>8</th>\n",
              "      <td>109</td>\n",
              "      <td>8</td>\n",
              "      <td>2</td>\n",
              "      <td>0</td>\n",
              "      <td>0</td>\n",
              "      <td>0</td>\n",
              "      <td>0</td>\n",
              "    </tr>\n",
              "    <tr>\n",
              "      <th>9</th>\n",
              "      <td>80</td>\n",
              "      <td>7</td>\n",
              "      <td>0</td>\n",
              "      <td>0</td>\n",
              "      <td>0</td>\n",
              "      <td>0</td>\n",
              "      <td>0</td>\n",
              "    </tr>\n",
              "    <tr>\n",
              "      <th>10</th>\n",
              "      <td>80</td>\n",
              "      <td>4</td>\n",
              "      <td>0</td>\n",
              "      <td>0</td>\n",
              "      <td>0</td>\n",
              "      <td>0</td>\n",
              "      <td>0</td>\n",
              "    </tr>\n",
              "    <tr>\n",
              "      <th>11</th>\n",
              "      <td>85</td>\n",
              "      <td>7</td>\n",
              "      <td>1</td>\n",
              "      <td>0</td>\n",
              "      <td>0</td>\n",
              "      <td>0</td>\n",
              "      <td>0</td>\n",
              "    </tr>\n",
              "    <tr>\n",
              "      <th>12</th>\n",
              "      <td>43</td>\n",
              "      <td>4</td>\n",
              "      <td>0</td>\n",
              "      <td>0</td>\n",
              "      <td>0</td>\n",
              "      <td>0</td>\n",
              "      <td>0</td>\n",
              "    </tr>\n",
              "    <tr>\n",
              "      <th>13</th>\n",
              "      <td>56</td>\n",
              "      <td>7</td>\n",
              "      <td>0</td>\n",
              "      <td>0</td>\n",
              "      <td>0</td>\n",
              "      <td>0</td>\n",
              "      <td>0</td>\n",
              "    </tr>\n",
              "    <tr>\n",
              "      <th>14</th>\n",
              "      <td>38</td>\n",
              "      <td>5</td>\n",
              "      <td>2</td>\n",
              "      <td>0</td>\n",
              "      <td>0</td>\n",
              "      <td>0</td>\n",
              "      <td>0</td>\n",
              "    </tr>\n",
              "    <tr>\n",
              "      <th>15</th>\n",
              "      <td>37</td>\n",
              "      <td>6</td>\n",
              "      <td>0</td>\n",
              "      <td>1</td>\n",
              "      <td>1</td>\n",
              "      <td>0</td>\n",
              "      <td>0</td>\n",
              "    </tr>\n",
              "    <tr>\n",
              "      <th>16</th>\n",
              "      <td>56</td>\n",
              "      <td>11</td>\n",
              "      <td>1</td>\n",
              "      <td>0</td>\n",
              "      <td>0</td>\n",
              "      <td>2</td>\n",
              "      <td>1</td>\n",
              "    </tr>\n",
              "    <tr>\n",
              "      <th>17</th>\n",
              "      <td>20</td>\n",
              "      <td>2</td>\n",
              "      <td>0</td>\n",
              "      <td>0</td>\n",
              "      <td>0</td>\n",
              "      <td>0</td>\n",
              "      <td>0</td>\n",
              "    </tr>\n",
              "  </tbody>\n",
              "</table>\n",
              "</div>"
            ],
            "text/plain": [
              "total video views   1   2   3   4   5   7   10\n",
              "years                                         \n",
              "1                    4   0   0   0   0   0   0\n",
              "2                   10   0   0   0   0   0   0\n",
              "3                   24   1   0   0   0   0   0\n",
              "4                   45   0   0   1   0   0   0\n",
              "5                   59   1   0   0   0   0   0\n",
              "6                   69   6   1   0   1   0   0\n",
              "7                   87   2   1   1   0   0   0\n",
              "8                  109   8   2   0   0   0   0\n",
              "9                   80   7   0   0   0   0   0\n",
              "10                  80   4   0   0   0   0   0\n",
              "11                  85   7   1   0   0   0   0\n",
              "12                  43   4   0   0   0   0   0\n",
              "13                  56   7   0   0   0   0   0\n",
              "14                  38   5   2   0   0   0   0\n",
              "15                  37   6   0   1   1   0   0\n",
              "16                  56  11   1   0   0   2   1\n",
              "17                  20   2   0   0   0   0   0"
            ]
          },
          "execution_count": 77,
          "metadata": {},
          "output_type": "execute_result"
        }
      ],
      "source": [
        "chi3 = youtube_chi[['years','total video views']]\n",
        "\n",
        "contingency_table3=pd.crosstab(chi3['years'],chi3['total video views'])\n",
        "\n",
        "contingency_table3"
      ]
    },
    {
      "cell_type": "code",
      "execution_count": null,
      "metadata": {
        "colab": {
          "base_uri": "https://localhost:8080/"
        },
        "id": "8DC2Jtj6Chhk",
        "outputId": "99ed6644-d4a8-442c-c722-31101c07922d"
      },
      "outputs": [
        {
          "name": "stdout",
          "output_type": "stream",
          "text": [
            "p = 0.182\n",
            "Probably independent\n"
          ]
        }
      ],
      "source": [
        "stat, p, dof, expected = stats.chi2_contingency(contingency_table3)\n",
        "print('p = %.3f' % (p))\n",
        "if p > 0.05:\n",
        "    print('Probably independent')\n",
        "else:\n",
        "    print('Probably dependent')"
      ]
    },
    {
      "cell_type": "markdown",
      "metadata": {
        "id": "2LVAlF19MrhE"
      },
      "source": [
        "Berdasarkan chi_square, tahun dibuatnya channel youtube tidak mempengaruhi total viewed per video."
      ]
    },
    {
      "cell_type": "markdown",
      "metadata": {
        "id": "nnnNgP_PCO-x"
      },
      "source": [
        "d. Memastikan hubungan antara total upload video dengan most viewed video di youtube? "
      ]
    },
    {
      "cell_type": "code",
      "execution_count": null,
      "metadata": {
        "colab": {
          "base_uri": "https://localhost:8080/",
          "height": 455
        },
        "id": "CVTngxnQCrgQ",
        "outputId": "b705f7e8-1a49-4453-aa58-1ba56bd59709"
      },
      "outputs": [
        {
          "data": {
            "text/html": [
              "<div>\n",
              "<style scoped>\n",
              "    .dataframe tbody tr th:only-of-type {\n",
              "        vertical-align: middle;\n",
              "    }\n",
              "\n",
              "    .dataframe tbody tr th {\n",
              "        vertical-align: top;\n",
              "    }\n",
              "\n",
              "    .dataframe thead th {\n",
              "        text-align: right;\n",
              "    }\n",
              "</style>\n",
              "<table border=\"1\" class=\"dataframe\">\n",
              "  <thead>\n",
              "    <tr style=\"text-align: right;\">\n",
              "      <th>total video views</th>\n",
              "      <th>1</th>\n",
              "      <th>2</th>\n",
              "      <th>3</th>\n",
              "      <th>4</th>\n",
              "      <th>5</th>\n",
              "      <th>7</th>\n",
              "      <th>10</th>\n",
              "    </tr>\n",
              "    <tr>\n",
              "      <th>total videos</th>\n",
              "      <th></th>\n",
              "      <th></th>\n",
              "      <th></th>\n",
              "      <th></th>\n",
              "      <th></th>\n",
              "      <th></th>\n",
              "      <th></th>\n",
              "    </tr>\n",
              "  </thead>\n",
              "  <tbody>\n",
              "    <tr>\n",
              "      <th>1</th>\n",
              "      <td>2</td>\n",
              "      <td>0</td>\n",
              "      <td>0</td>\n",
              "      <td>0</td>\n",
              "      <td>0</td>\n",
              "      <td>0</td>\n",
              "      <td>0</td>\n",
              "    </tr>\n",
              "    <tr>\n",
              "      <th>7</th>\n",
              "      <td>1</td>\n",
              "      <td>0</td>\n",
              "      <td>0</td>\n",
              "      <td>0</td>\n",
              "      <td>0</td>\n",
              "      <td>0</td>\n",
              "      <td>0</td>\n",
              "    </tr>\n",
              "    <tr>\n",
              "      <th>12</th>\n",
              "      <td>1</td>\n",
              "      <td>0</td>\n",
              "      <td>0</td>\n",
              "      <td>0</td>\n",
              "      <td>0</td>\n",
              "      <td>0</td>\n",
              "      <td>0</td>\n",
              "    </tr>\n",
              "    <tr>\n",
              "      <th>13</th>\n",
              "      <td>3</td>\n",
              "      <td>0</td>\n",
              "      <td>0</td>\n",
              "      <td>0</td>\n",
              "      <td>0</td>\n",
              "      <td>0</td>\n",
              "      <td>0</td>\n",
              "    </tr>\n",
              "    <tr>\n",
              "      <th>14</th>\n",
              "      <td>2</td>\n",
              "      <td>0</td>\n",
              "      <td>0</td>\n",
              "      <td>0</td>\n",
              "      <td>0</td>\n",
              "      <td>0</td>\n",
              "      <td>0</td>\n",
              "    </tr>\n",
              "    <tr>\n",
              "      <th>...</th>\n",
              "      <td>...</td>\n",
              "      <td>...</td>\n",
              "      <td>...</td>\n",
              "      <td>...</td>\n",
              "      <td>...</td>\n",
              "      <td>...</td>\n",
              "      <td>...</td>\n",
              "    </tr>\n",
              "    <tr>\n",
              "      <th>209097</th>\n",
              "      <td>1</td>\n",
              "      <td>0</td>\n",
              "      <td>0</td>\n",
              "      <td>0</td>\n",
              "      <td>0</td>\n",
              "      <td>0</td>\n",
              "      <td>0</td>\n",
              "    </tr>\n",
              "    <tr>\n",
              "      <th>224455</th>\n",
              "      <td>1</td>\n",
              "      <td>0</td>\n",
              "      <td>0</td>\n",
              "      <td>0</td>\n",
              "      <td>0</td>\n",
              "      <td>0</td>\n",
              "      <td>0</td>\n",
              "    </tr>\n",
              "    <tr>\n",
              "      <th>225232</th>\n",
              "      <td>1</td>\n",
              "      <td>0</td>\n",
              "      <td>0</td>\n",
              "      <td>0</td>\n",
              "      <td>0</td>\n",
              "      <td>0</td>\n",
              "      <td>0</td>\n",
              "    </tr>\n",
              "    <tr>\n",
              "      <th>237971</th>\n",
              "      <td>1</td>\n",
              "      <td>0</td>\n",
              "      <td>0</td>\n",
              "      <td>0</td>\n",
              "      <td>0</td>\n",
              "      <td>0</td>\n",
              "      <td>0</td>\n",
              "    </tr>\n",
              "    <tr>\n",
              "      <th>329711</th>\n",
              "      <td>1</td>\n",
              "      <td>0</td>\n",
              "      <td>0</td>\n",
              "      <td>0</td>\n",
              "      <td>0</td>\n",
              "      <td>0</td>\n",
              "      <td>0</td>\n",
              "    </tr>\n",
              "  </tbody>\n",
              "</table>\n",
              "<p>854 rows × 7 columns</p>\n",
              "</div>"
            ],
            "text/plain": [
              "total video views  1   2   3   4   5   7   10\n",
              "total videos                                 \n",
              "1                   2   0   0   0   0   0   0\n",
              "7                   1   0   0   0   0   0   0\n",
              "12                  1   0   0   0   0   0   0\n",
              "13                  3   0   0   0   0   0   0\n",
              "14                  2   0   0   0   0   0   0\n",
              "...                ..  ..  ..  ..  ..  ..  ..\n",
              "209097              1   0   0   0   0   0   0\n",
              "224455              1   0   0   0   0   0   0\n",
              "225232              1   0   0   0   0   0   0\n",
              "237971              1   0   0   0   0   0   0\n",
              "329711              1   0   0   0   0   0   0\n",
              "\n",
              "[854 rows x 7 columns]"
            ]
          },
          "execution_count": 131,
          "metadata": {},
          "output_type": "execute_result"
        }
      ],
      "source": [
        "chi4 = youtube_chi[['total videos','total video views']]\n",
        "\n",
        "contingency_table4=pd.crosstab(chi4['total videos'],chi4['total video views'])\n",
        "\n",
        "contingency_table4"
      ]
    },
    {
      "cell_type": "code",
      "execution_count": null,
      "metadata": {
        "colab": {
          "base_uri": "https://localhost:8080/"
        },
        "id": "ryAHfyPTCrdc",
        "outputId": "d32c3120-5095-47b8-f914-1a7d0a226254"
      },
      "outputs": [
        {
          "name": "stdout",
          "output_type": "stream",
          "text": [
            "p = 0.000\n",
            "Probably dependent\n"
          ]
        }
      ],
      "source": [
        "stat, p, dof, expected = stats.chi2_contingency(contingency_table4)\n",
        "print('p = %.3f' % (p))\n",
        "if p > 0.05:\n",
        "    print('Probably independent')\n",
        "else:\n",
        "    print('Probably dependent')"
      ]
    },
    {
      "cell_type": "markdown",
      "metadata": {
        "id": "HyH85H8VMcYP"
      },
      "source": [
        "Berdasarkan chi_square, total upload video dan most viewed video memiliki kedekatan."
      ]
    },
    {
      "cell_type": "markdown",
      "metadata": {
        "id": "zMEX2rbuCwBh"
      },
      "source": [
        "### IV. Kesimpulan"
      ]
    },
    {
      "cell_type": "markdown",
      "metadata": {
        "id": "qG659JFPHRkN"
      },
      "source": [
        "Tingkat popularitas sebuah channel di youtube dapat dilihat berdasarkan total video viewsnya. Channel dengan video views yang tinggi akan menarik penonton rutin ke channel tersebut.\n",
        "\n",
        "Manusia memiliki banyak aspek sehingga sulit menentukan kesukaannya. Berdasarkan data yang ada walaupun tidak absolut, kategori video, lama pembuatan channel, dan konsistensi dalam mengupload memiliki kedekatan dengan jumlah total view video.\n",
        "\n",
        "Lima kategori yang cukup digemari masyarakat adalah music, entertainment, people & blogs, gaming, education.\n",
        "\n",
        "Oleh karena itu kami menyarankan kepada tuan Iskandar, untuk mengombinasikan topik politik dengan kelima kategori yang telah disebutkan, jeli melihat minat penonton, sabar dalam mengembangkan channel dan konsisten dalam mengupload video."
      ]
    }
  ],
  "metadata": {
    "colab": {
      "provenance": [],
      "toc_visible": true
    },
    "kernelspec": {
      "display_name": "Python 3.9.12 ('base')",
      "language": "python",
      "name": "python3"
    },
    "language_info": {
      "codemirror_mode": {
        "name": "ipython",
        "version": 3
      },
      "file_extension": ".py",
      "mimetype": "text/x-python",
      "name": "python",
      "nbconvert_exporter": "python",
      "pygments_lexer": "ipython3",
      "version": "3.9.12"
    },
    "vscode": {
      "interpreter": {
        "hash": "ad2bdc8ecc057115af97d19610ffacc2b4e99fae6737bb82f5d7fb13d2f2c186"
      }
    }
  },
  "nbformat": 4,
  "nbformat_minor": 0
}