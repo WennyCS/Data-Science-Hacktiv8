{
  "cells": [
    {
      "cell_type": "markdown",
      "metadata": {
        "id": "YbNRMQdXUzrz"
      },
      "source": [
        "# 1 - Perkenalan"
      ]
    },
    {
      "cell_type": "markdown",
      "metadata": {
        "id": "sO0HPtSOU30l"
      },
      "source": [
        "Nama: Wenny Chandra Sari\n",
        "\n",
        "Batch: FTDS - 016\n",
        "\n",
        "Goal: Memprediksi prilaku dari Pelanggan (retain customers), dengan cara menganalisa data semua Pengguna (churn and no churn customers), dan kemudian mengembangkan Program yang terfokus untuk Mempertahankan Pelanggan Telco."
      ]
    },
    {
      "cell_type": "markdown",
      "metadata": {
        "id": "QWUMIU2zU_CL"
      },
      "source": [
        "# 2 - Import Libs"
      ]
    },
    {
      "cell_type": "code",
      "execution_count": 1,
      "metadata": {
        "id": "29hMCs1ZmOMg"
      },
      "outputs": [],
      "source": [
        "# check version\n",
        "\n",
        "# import sklearn\n",
        "# import tensorflow as tf\n",
        "\n",
        "# print(sklearn.__version__)\n",
        "# print(tf.__version__)"
      ]
    },
    {
      "cell_type": "code",
      "execution_count": 2,
      "metadata": {
        "colab": {
          "base_uri": "https://localhost:8080/"
        },
        "id": "QynTGt_Pm4lc",
        "outputId": "c5aa5fe3-51f4-45de-ae83-b3e031a32332"
      },
      "outputs": [],
      "source": [
        "# adjust the library version\n",
        "# !pip install --upgrade scikit-learn==1.1.2\n",
        "# !pip install --upgrade tensorflow-learn==2.11.0"
      ]
    },
    {
      "cell_type": "code",
      "execution_count": 3,
      "metadata": {
        "id": "PzXUzTqjWUPd"
      },
      "outputs": [],
      "source": [
        "# Import libraries\n",
        "\n",
        "import pandas as pd\n",
        "import numpy as np\n",
        "import matplotlib.pyplot as plt\n",
        "%matplotlib inline\n",
        "import seaborn as sns\n",
        "import scipy.stats as stats\n",
        "import pickle\n",
        "\n",
        "import warnings\n",
        "warnings.filterwarnings('ignore')\n",
        "\n",
        "# Untuk membuat model\n",
        "from sklearn.compose import ColumnTransformer\n",
        "from sklearn.pipeline import Pipeline, make_pipeline\n",
        "from tensorflow.keras.models import Sequential\n",
        "from tensorflow.keras.layers import Dense\n",
        "import tensorflow as tf\n",
        "from tensorflow.keras.layers import Input\n",
        "from tensorflow.keras import Model\n",
        "\n",
        "# Untuk menyiapkan dataset\n",
        "import sklearn\n",
        "from sklearn.model_selection import train_test_split\n",
        "from sklearn.preprocessing import MinMaxScaler\n",
        "from sklearn.preprocessing import StandardScaler\n",
        "from sklearn.preprocessing import OneHotEncoder\n",
        "from sklearn.preprocessing import LabelEncoder\n",
        "from sklearn.impute import SimpleImputer\n",
        "\n",
        "\n",
        "# Untuk evaluasi model\n",
        "from sklearn.metrics import ConfusionMatrixDisplay\n",
        "from sklearn.metrics import classification_report\n",
        "\n",
        "# Untuk saving model\n",
        "import joblib"
      ]
    },
    {
      "cell_type": "code",
      "execution_count": 5,
      "metadata": {
        "id": "BzIZ3DakiyS1"
      },
      "outputs": [],
      "source": [
        "# setting syntax\n",
        "\n",
        "pd.set_option('display.max_columns', None)\n",
        "pd.set_option('display.max_rows', 50)\n",
        "\n",
        "np.random.seed(12)\n",
        "tf.random.set_seed(12)"
      ]
    },
    {
      "cell_type": "markdown",
      "metadata": {
        "id": "Zv84hSXvVFeE"
      },
      "source": [
        "# 3 - Data Loading"
      ]
    },
    {
      "cell_type": "code",
      "execution_count": 6,
      "metadata": {
        "colab": {
          "base_uri": "https://localhost:8080/",
          "height": 357
        },
        "id": "Fn3gUH-Gi0t3",
        "outputId": "dba9d126-3163-4445-b4ea-cf2265fe5e00"
      },
      "outputs": [
        {
          "data": {
            "text/html": [
              "<div>\n",
              "<style scoped>\n",
              "    .dataframe tbody tr th:only-of-type {\n",
              "        vertical-align: middle;\n",
              "    }\n",
              "\n",
              "    .dataframe tbody tr th {\n",
              "        vertical-align: top;\n",
              "    }\n",
              "\n",
              "    .dataframe thead th {\n",
              "        text-align: right;\n",
              "    }\n",
              "</style>\n",
              "<table border=\"1\" class=\"dataframe\">\n",
              "  <thead>\n",
              "    <tr style=\"text-align: right;\">\n",
              "      <th></th>\n",
              "      <th>customerID</th>\n",
              "      <th>gender</th>\n",
              "      <th>SeniorCitizen</th>\n",
              "      <th>Partner</th>\n",
              "      <th>Dependents</th>\n",
              "      <th>tenure</th>\n",
              "      <th>PhoneService</th>\n",
              "      <th>MultipleLines</th>\n",
              "      <th>InternetService</th>\n",
              "      <th>OnlineSecurity</th>\n",
              "      <th>OnlineBackup</th>\n",
              "      <th>DeviceProtection</th>\n",
              "      <th>TechSupport</th>\n",
              "      <th>StreamingTV</th>\n",
              "      <th>StreamingMovies</th>\n",
              "      <th>Contract</th>\n",
              "      <th>PaperlessBilling</th>\n",
              "      <th>PaymentMethod</th>\n",
              "      <th>MonthlyCharges</th>\n",
              "      <th>TotalCharges</th>\n",
              "      <th>Churn</th>\n",
              "    </tr>\n",
              "  </thead>\n",
              "  <tbody>\n",
              "    <tr>\n",
              "      <th>0</th>\n",
              "      <td>7590-VHVEG</td>\n",
              "      <td>Female</td>\n",
              "      <td>0</td>\n",
              "      <td>Yes</td>\n",
              "      <td>No</td>\n",
              "      <td>1</td>\n",
              "      <td>No</td>\n",
              "      <td>No phone service</td>\n",
              "      <td>DSL</td>\n",
              "      <td>No</td>\n",
              "      <td>Yes</td>\n",
              "      <td>No</td>\n",
              "      <td>No</td>\n",
              "      <td>No</td>\n",
              "      <td>No</td>\n",
              "      <td>Month-to-month</td>\n",
              "      <td>Yes</td>\n",
              "      <td>Electronic check</td>\n",
              "      <td>29.85</td>\n",
              "      <td>29.85</td>\n",
              "      <td>No</td>\n",
              "    </tr>\n",
              "    <tr>\n",
              "      <th>1</th>\n",
              "      <td>5575-GNVDE</td>\n",
              "      <td>Male</td>\n",
              "      <td>0</td>\n",
              "      <td>No</td>\n",
              "      <td>No</td>\n",
              "      <td>34</td>\n",
              "      <td>Yes</td>\n",
              "      <td>No</td>\n",
              "      <td>DSL</td>\n",
              "      <td>Yes</td>\n",
              "      <td>No</td>\n",
              "      <td>Yes</td>\n",
              "      <td>No</td>\n",
              "      <td>No</td>\n",
              "      <td>No</td>\n",
              "      <td>One year</td>\n",
              "      <td>No</td>\n",
              "      <td>Mailed check</td>\n",
              "      <td>56.95</td>\n",
              "      <td>1889.5</td>\n",
              "      <td>No</td>\n",
              "    </tr>\n",
              "    <tr>\n",
              "      <th>2</th>\n",
              "      <td>3668-QPYBK</td>\n",
              "      <td>Male</td>\n",
              "      <td>0</td>\n",
              "      <td>No</td>\n",
              "      <td>No</td>\n",
              "      <td>2</td>\n",
              "      <td>Yes</td>\n",
              "      <td>No</td>\n",
              "      <td>DSL</td>\n",
              "      <td>Yes</td>\n",
              "      <td>Yes</td>\n",
              "      <td>No</td>\n",
              "      <td>No</td>\n",
              "      <td>No</td>\n",
              "      <td>No</td>\n",
              "      <td>Month-to-month</td>\n",
              "      <td>Yes</td>\n",
              "      <td>Mailed check</td>\n",
              "      <td>53.85</td>\n",
              "      <td>108.15</td>\n",
              "      <td>Yes</td>\n",
              "    </tr>\n",
              "    <tr>\n",
              "      <th>3</th>\n",
              "      <td>7795-CFOCW</td>\n",
              "      <td>Male</td>\n",
              "      <td>0</td>\n",
              "      <td>No</td>\n",
              "      <td>No</td>\n",
              "      <td>45</td>\n",
              "      <td>No</td>\n",
              "      <td>No phone service</td>\n",
              "      <td>DSL</td>\n",
              "      <td>Yes</td>\n",
              "      <td>No</td>\n",
              "      <td>Yes</td>\n",
              "      <td>Yes</td>\n",
              "      <td>No</td>\n",
              "      <td>No</td>\n",
              "      <td>One year</td>\n",
              "      <td>No</td>\n",
              "      <td>Bank transfer (automatic)</td>\n",
              "      <td>42.30</td>\n",
              "      <td>1840.75</td>\n",
              "      <td>No</td>\n",
              "    </tr>\n",
              "    <tr>\n",
              "      <th>4</th>\n",
              "      <td>9237-HQITU</td>\n",
              "      <td>Female</td>\n",
              "      <td>0</td>\n",
              "      <td>No</td>\n",
              "      <td>No</td>\n",
              "      <td>2</td>\n",
              "      <td>Yes</td>\n",
              "      <td>No</td>\n",
              "      <td>Fiber optic</td>\n",
              "      <td>No</td>\n",
              "      <td>No</td>\n",
              "      <td>No</td>\n",
              "      <td>No</td>\n",
              "      <td>No</td>\n",
              "      <td>No</td>\n",
              "      <td>Month-to-month</td>\n",
              "      <td>Yes</td>\n",
              "      <td>Electronic check</td>\n",
              "      <td>70.70</td>\n",
              "      <td>151.65</td>\n",
              "      <td>Yes</td>\n",
              "    </tr>\n",
              "  </tbody>\n",
              "</table>\n",
              "</div>"
            ],
            "text/plain": [
              "   customerID  gender  SeniorCitizen Partner Dependents  tenure PhoneService  \\\n",
              "0  7590-VHVEG  Female              0     Yes         No       1           No   \n",
              "1  5575-GNVDE    Male              0      No         No      34          Yes   \n",
              "2  3668-QPYBK    Male              0      No         No       2          Yes   \n",
              "3  7795-CFOCW    Male              0      No         No      45           No   \n",
              "4  9237-HQITU  Female              0      No         No       2          Yes   \n",
              "\n",
              "      MultipleLines InternetService OnlineSecurity OnlineBackup  \\\n",
              "0  No phone service             DSL             No          Yes   \n",
              "1                No             DSL            Yes           No   \n",
              "2                No             DSL            Yes          Yes   \n",
              "3  No phone service             DSL            Yes           No   \n",
              "4                No     Fiber optic             No           No   \n",
              "\n",
              "  DeviceProtection TechSupport StreamingTV StreamingMovies        Contract  \\\n",
              "0               No          No          No              No  Month-to-month   \n",
              "1              Yes          No          No              No        One year   \n",
              "2               No          No          No              No  Month-to-month   \n",
              "3              Yes         Yes          No              No        One year   \n",
              "4               No          No          No              No  Month-to-month   \n",
              "\n",
              "  PaperlessBilling              PaymentMethod  MonthlyCharges TotalCharges  \\\n",
              "0              Yes           Electronic check           29.85        29.85   \n",
              "1               No               Mailed check           56.95       1889.5   \n",
              "2              Yes               Mailed check           53.85       108.15   \n",
              "3               No  Bank transfer (automatic)           42.30      1840.75   \n",
              "4              Yes           Electronic check           70.70       151.65   \n",
              "\n",
              "  Churn  \n",
              "0    No  \n",
              "1    No  \n",
              "2   Yes  \n",
              "3    No  \n",
              "4   Yes  "
            ]
          },
          "execution_count": 6,
          "metadata": {},
          "output_type": "execute_result"
        }
      ],
      "source": [
        "# load dataset\n",
        "data_o = pd.read_csv('WA_Fn-UseC_-Telco-Customer-Churn.csv')\n",
        "\n",
        "# duplikat dataset\n",
        "data = data_o.copy()\n",
        "\n",
        "# melihat bagian atas dataset\n",
        "data.head()"
      ]
    },
    {
      "cell_type": "code",
      "execution_count": 8,
      "metadata": {},
      "outputs": [
        {
          "data": {
            "text/plain": [
              "Index(['customerID', 'gender', 'SeniorCitizen', 'Partner', 'Dependents',\n",
              "       'tenure', 'PhoneService', 'MultipleLines', 'InternetService',\n",
              "       'OnlineSecurity', 'OnlineBackup', 'DeviceProtection', 'TechSupport',\n",
              "       'StreamingTV', 'StreamingMovies', 'Contract', 'PaperlessBilling',\n",
              "       'PaymentMethod', 'MonthlyCharges', 'TotalCharges', 'Churn'],\n",
              "      dtype='object')"
            ]
          },
          "execution_count": 8,
          "metadata": {},
          "output_type": "execute_result"
        }
      ],
      "source": [
        "data.columns"
      ]
    },
    {
      "cell_type": "code",
      "execution_count": 12,
      "metadata": {},
      "outputs": [
        {
          "data": {
            "text/plain": [
              "array(['Electronic check', 'Mailed check', 'Bank transfer (automatic)',\n",
              "       'Credit card (automatic)'], dtype=object)"
            ]
          },
          "execution_count": 12,
          "metadata": {},
          "output_type": "execute_result"
        }
      ],
      "source": [
        "data.PaymentMethod.unique()"
      ]
    },
    {
      "cell_type": "code",
      "execution_count": 6,
      "metadata": {
        "colab": {
          "base_uri": "https://localhost:8080/",
          "height": 357
        },
        "id": "UCbwGJpRi3mh",
        "outputId": "64fc8989-9ffc-4f4a-ed8c-ffcbc84b47b3"
      },
      "outputs": [
        {
          "data": {
            "text/html": [
              "<div>\n",
              "<style scoped>\n",
              "    .dataframe tbody tr th:only-of-type {\n",
              "        vertical-align: middle;\n",
              "    }\n",
              "\n",
              "    .dataframe tbody tr th {\n",
              "        vertical-align: top;\n",
              "    }\n",
              "\n",
              "    .dataframe thead th {\n",
              "        text-align: right;\n",
              "    }\n",
              "</style>\n",
              "<table border=\"1\" class=\"dataframe\">\n",
              "  <thead>\n",
              "    <tr style=\"text-align: right;\">\n",
              "      <th></th>\n",
              "      <th>customerID</th>\n",
              "      <th>gender</th>\n",
              "      <th>SeniorCitizen</th>\n",
              "      <th>Partner</th>\n",
              "      <th>Dependents</th>\n",
              "      <th>tenure</th>\n",
              "      <th>PhoneService</th>\n",
              "      <th>MultipleLines</th>\n",
              "      <th>InternetService</th>\n",
              "      <th>OnlineSecurity</th>\n",
              "      <th>OnlineBackup</th>\n",
              "      <th>DeviceProtection</th>\n",
              "      <th>TechSupport</th>\n",
              "      <th>StreamingTV</th>\n",
              "      <th>StreamingMovies</th>\n",
              "      <th>Contract</th>\n",
              "      <th>PaperlessBilling</th>\n",
              "      <th>PaymentMethod</th>\n",
              "      <th>MonthlyCharges</th>\n",
              "      <th>TotalCharges</th>\n",
              "      <th>Churn</th>\n",
              "    </tr>\n",
              "  </thead>\n",
              "  <tbody>\n",
              "    <tr>\n",
              "      <th>7038</th>\n",
              "      <td>6840-RESVB</td>\n",
              "      <td>Male</td>\n",
              "      <td>0</td>\n",
              "      <td>Yes</td>\n",
              "      <td>Yes</td>\n",
              "      <td>24</td>\n",
              "      <td>Yes</td>\n",
              "      <td>Yes</td>\n",
              "      <td>DSL</td>\n",
              "      <td>Yes</td>\n",
              "      <td>No</td>\n",
              "      <td>Yes</td>\n",
              "      <td>Yes</td>\n",
              "      <td>Yes</td>\n",
              "      <td>Yes</td>\n",
              "      <td>One year</td>\n",
              "      <td>Yes</td>\n",
              "      <td>Mailed check</td>\n",
              "      <td>84.80</td>\n",
              "      <td>1990.5</td>\n",
              "      <td>No</td>\n",
              "    </tr>\n",
              "    <tr>\n",
              "      <th>7039</th>\n",
              "      <td>2234-XADUH</td>\n",
              "      <td>Female</td>\n",
              "      <td>0</td>\n",
              "      <td>Yes</td>\n",
              "      <td>Yes</td>\n",
              "      <td>72</td>\n",
              "      <td>Yes</td>\n",
              "      <td>Yes</td>\n",
              "      <td>Fiber optic</td>\n",
              "      <td>No</td>\n",
              "      <td>Yes</td>\n",
              "      <td>Yes</td>\n",
              "      <td>No</td>\n",
              "      <td>Yes</td>\n",
              "      <td>Yes</td>\n",
              "      <td>One year</td>\n",
              "      <td>Yes</td>\n",
              "      <td>Credit card (automatic)</td>\n",
              "      <td>103.20</td>\n",
              "      <td>7362.9</td>\n",
              "      <td>No</td>\n",
              "    </tr>\n",
              "    <tr>\n",
              "      <th>7040</th>\n",
              "      <td>4801-JZAZL</td>\n",
              "      <td>Female</td>\n",
              "      <td>0</td>\n",
              "      <td>Yes</td>\n",
              "      <td>Yes</td>\n",
              "      <td>11</td>\n",
              "      <td>No</td>\n",
              "      <td>No phone service</td>\n",
              "      <td>DSL</td>\n",
              "      <td>Yes</td>\n",
              "      <td>No</td>\n",
              "      <td>No</td>\n",
              "      <td>No</td>\n",
              "      <td>No</td>\n",
              "      <td>No</td>\n",
              "      <td>Month-to-month</td>\n",
              "      <td>Yes</td>\n",
              "      <td>Electronic check</td>\n",
              "      <td>29.60</td>\n",
              "      <td>346.45</td>\n",
              "      <td>No</td>\n",
              "    </tr>\n",
              "    <tr>\n",
              "      <th>7041</th>\n",
              "      <td>8361-LTMKD</td>\n",
              "      <td>Male</td>\n",
              "      <td>1</td>\n",
              "      <td>Yes</td>\n",
              "      <td>No</td>\n",
              "      <td>4</td>\n",
              "      <td>Yes</td>\n",
              "      <td>Yes</td>\n",
              "      <td>Fiber optic</td>\n",
              "      <td>No</td>\n",
              "      <td>No</td>\n",
              "      <td>No</td>\n",
              "      <td>No</td>\n",
              "      <td>No</td>\n",
              "      <td>No</td>\n",
              "      <td>Month-to-month</td>\n",
              "      <td>Yes</td>\n",
              "      <td>Mailed check</td>\n",
              "      <td>74.40</td>\n",
              "      <td>306.6</td>\n",
              "      <td>Yes</td>\n",
              "    </tr>\n",
              "    <tr>\n",
              "      <th>7042</th>\n",
              "      <td>3186-AJIEK</td>\n",
              "      <td>Male</td>\n",
              "      <td>0</td>\n",
              "      <td>No</td>\n",
              "      <td>No</td>\n",
              "      <td>66</td>\n",
              "      <td>Yes</td>\n",
              "      <td>No</td>\n",
              "      <td>Fiber optic</td>\n",
              "      <td>Yes</td>\n",
              "      <td>No</td>\n",
              "      <td>Yes</td>\n",
              "      <td>Yes</td>\n",
              "      <td>Yes</td>\n",
              "      <td>Yes</td>\n",
              "      <td>Two year</td>\n",
              "      <td>Yes</td>\n",
              "      <td>Bank transfer (automatic)</td>\n",
              "      <td>105.65</td>\n",
              "      <td>6844.5</td>\n",
              "      <td>No</td>\n",
              "    </tr>\n",
              "  </tbody>\n",
              "</table>\n",
              "</div>"
            ],
            "text/plain": [
              "      customerID  gender  SeniorCitizen Partner Dependents  tenure  \\\n",
              "7038  6840-RESVB    Male              0     Yes        Yes      24   \n",
              "7039  2234-XADUH  Female              0     Yes        Yes      72   \n",
              "7040  4801-JZAZL  Female              0     Yes        Yes      11   \n",
              "7041  8361-LTMKD    Male              1     Yes         No       4   \n",
              "7042  3186-AJIEK    Male              0      No         No      66   \n",
              "\n",
              "     PhoneService     MultipleLines InternetService OnlineSecurity  \\\n",
              "7038          Yes               Yes             DSL            Yes   \n",
              "7039          Yes               Yes     Fiber optic             No   \n",
              "7040           No  No phone service             DSL            Yes   \n",
              "7041          Yes               Yes     Fiber optic             No   \n",
              "7042          Yes                No     Fiber optic            Yes   \n",
              "\n",
              "     OnlineBackup DeviceProtection TechSupport StreamingTV StreamingMovies  \\\n",
              "7038           No              Yes         Yes         Yes             Yes   \n",
              "7039          Yes              Yes          No         Yes             Yes   \n",
              "7040           No               No          No          No              No   \n",
              "7041           No               No          No          No              No   \n",
              "7042           No              Yes         Yes         Yes             Yes   \n",
              "\n",
              "            Contract PaperlessBilling              PaymentMethod  \\\n",
              "7038        One year              Yes               Mailed check   \n",
              "7039        One year              Yes    Credit card (automatic)   \n",
              "7040  Month-to-month              Yes           Electronic check   \n",
              "7041  Month-to-month              Yes               Mailed check   \n",
              "7042        Two year              Yes  Bank transfer (automatic)   \n",
              "\n",
              "      MonthlyCharges TotalCharges Churn  \n",
              "7038           84.80       1990.5    No  \n",
              "7039          103.20       7362.9    No  \n",
              "7040           29.60       346.45    No  \n",
              "7041           74.40        306.6   Yes  \n",
              "7042          105.65       6844.5    No  "
            ]
          },
          "execution_count": 6,
          "metadata": {},
          "output_type": "execute_result"
        }
      ],
      "source": [
        "# melihat bagian bawah dataset\n",
        "\n",
        "data.tail()"
      ]
    },
    {
      "cell_type": "code",
      "execution_count": 7,
      "metadata": {
        "colab": {
          "base_uri": "https://localhost:8080/"
        },
        "id": "pqkLkky_i8l0",
        "outputId": "79a0a344-4703-4e86-a6ed-7d608a814672"
      },
      "outputs": [
        {
          "data": {
            "text/plain": [
              "customerID          7043\n",
              "gender                 2\n",
              "SeniorCitizen          2\n",
              "Partner                2\n",
              "Dependents             2\n",
              "tenure                73\n",
              "PhoneService           2\n",
              "MultipleLines          3\n",
              "InternetService        3\n",
              "OnlineSecurity         3\n",
              "OnlineBackup           3\n",
              "DeviceProtection       3\n",
              "TechSupport            3\n",
              "StreamingTV            3\n",
              "StreamingMovies        3\n",
              "Contract               3\n",
              "PaperlessBilling       2\n",
              "PaymentMethod          4\n",
              "MonthlyCharges      1585\n",
              "TotalCharges        6531\n",
              "Churn                  2\n",
              "dtype: int64"
            ]
          },
          "execution_count": 7,
          "metadata": {},
          "output_type": "execute_result"
        }
      ],
      "source": [
        "# melihat jumlah unik dari data\n",
        "\n",
        "data.nunique()"
      ]
    },
    {
      "cell_type": "code",
      "execution_count": 8,
      "metadata": {
        "colab": {
          "base_uri": "https://localhost:8080/"
        },
        "id": "WByP4sczi7pG",
        "outputId": "6506d9e4-90db-486f-ae09-31511f34b31b"
      },
      "outputs": [
        {
          "data": {
            "text/plain": [
              "(7043, 21)"
            ]
          },
          "execution_count": 8,
          "metadata": {},
          "output_type": "execute_result"
        }
      ],
      "source": [
        "# melihat ukuran dataset\n",
        "\n",
        "data.shape"
      ]
    },
    {
      "cell_type": "code",
      "execution_count": 9,
      "metadata": {
        "colab": {
          "base_uri": "https://localhost:8080/"
        },
        "id": "CrrWQX0si4-Z",
        "outputId": "71a39fc0-5171-4420-ac6f-d5c94d0af53e"
      },
      "outputs": [
        {
          "name": "stdout",
          "output_type": "stream",
          "text": [
            "<class 'pandas.core.frame.DataFrame'>\n",
            "RangeIndex: 7043 entries, 0 to 7042\n",
            "Data columns (total 21 columns):\n",
            " #   Column            Non-Null Count  Dtype  \n",
            "---  ------            --------------  -----  \n",
            " 0   customerID        7043 non-null   object \n",
            " 1   gender            7043 non-null   object \n",
            " 2   SeniorCitizen     7043 non-null   int64  \n",
            " 3   Partner           7043 non-null   object \n",
            " 4   Dependents        7043 non-null   object \n",
            " 5   tenure            7043 non-null   int64  \n",
            " 6   PhoneService      7043 non-null   object \n",
            " 7   MultipleLines     7043 non-null   object \n",
            " 8   InternetService   7043 non-null   object \n",
            " 9   OnlineSecurity    7043 non-null   object \n",
            " 10  OnlineBackup      7043 non-null   object \n",
            " 11  DeviceProtection  7043 non-null   object \n",
            " 12  TechSupport       7043 non-null   object \n",
            " 13  StreamingTV       7043 non-null   object \n",
            " 14  StreamingMovies   7043 non-null   object \n",
            " 15  Contract          7043 non-null   object \n",
            " 16  PaperlessBilling  7043 non-null   object \n",
            " 17  PaymentMethod     7043 non-null   object \n",
            " 18  MonthlyCharges    7043 non-null   float64\n",
            " 19  TotalCharges      7043 non-null   object \n",
            " 20  Churn             7043 non-null   object \n",
            "dtypes: float64(1), int64(2), object(18)\n",
            "memory usage: 1.1+ MB\n"
          ]
        }
      ],
      "source": [
        "# melihat info data set: non-null dan dtype\n",
        "\n",
        "data.info()"
      ]
    },
    {
      "cell_type": "markdown",
      "metadata": {
        "id": "e-xwWQPIorJS"
      },
      "source": [
        "Data yang akan digunakan terdiri dari 7043 baris dan 21 kolom yang mana 3 kolom numerik dan sisanya object."
      ]
    },
    {
      "cell_type": "markdown",
      "metadata": {
        "id": "vw7Tw-0eq2Uc"
      },
      "source": [
        "Karena TotalCharge adalah jumlah tagihan yang seharusnya bertipe numeric, maka kita akan mengubahnya terlebih dahulu dari tipe objek ke numeric."
      ]
    },
    {
      "cell_type": "code",
      "execution_count": 10,
      "metadata": {
        "colab": {
          "base_uri": "https://localhost:8080/"
        },
        "id": "cmu1U2I6rAN8",
        "outputId": "778a79ee-a01c-4181-f058-bcd2f6c825ad"
      },
      "outputs": [
        {
          "name": "stdout",
          "output_type": "stream",
          "text": [
            "<class 'pandas.core.frame.DataFrame'>\n",
            "RangeIndex: 7043 entries, 0 to 7042\n",
            "Data columns (total 21 columns):\n",
            " #   Column            Non-Null Count  Dtype  \n",
            "---  ------            --------------  -----  \n",
            " 0   customerID        7043 non-null   object \n",
            " 1   gender            7043 non-null   object \n",
            " 2   SeniorCitizen     7043 non-null   int64  \n",
            " 3   Partner           7043 non-null   object \n",
            " 4   Dependents        7043 non-null   object \n",
            " 5   tenure            7043 non-null   int64  \n",
            " 6   PhoneService      7043 non-null   object \n",
            " 7   MultipleLines     7043 non-null   object \n",
            " 8   InternetService   7043 non-null   object \n",
            " 9   OnlineSecurity    7043 non-null   object \n",
            " 10  OnlineBackup      7043 non-null   object \n",
            " 11  DeviceProtection  7043 non-null   object \n",
            " 12  TechSupport       7043 non-null   object \n",
            " 13  StreamingTV       7043 non-null   object \n",
            " 14  StreamingMovies   7043 non-null   object \n",
            " 15  Contract          7043 non-null   object \n",
            " 16  PaperlessBilling  7043 non-null   object \n",
            " 17  PaymentMethod     7043 non-null   object \n",
            " 18  MonthlyCharges    7043 non-null   float64\n",
            " 19  TotalCharges      7032 non-null   float64\n",
            " 20  Churn             7043 non-null   object \n",
            "dtypes: float64(2), int64(2), object(17)\n",
            "memory usage: 1.1+ MB\n"
          ]
        }
      ],
      "source": [
        "data['TotalCharges'] = pd.to_numeric(data['TotalCharges'], errors='coerce')\n",
        "data.info()"
      ]
    },
    {
      "cell_type": "markdown",
      "metadata": {
        "id": "BOrJzbdmpV0q"
      },
      "source": [
        "Insight:\n",
        "\n",
        "Data yang akan digunakan terdiri dari 7043 baris dan 21 kolom yang mana r kolom numerik dan sisanya object.\n"
      ]
    },
    {
      "cell_type": "markdown",
      "metadata": {
        "id": "0lX5XqRJVKUB"
      },
      "source": [
        "# 4 - EDA"
      ]
    },
    {
      "cell_type": "code",
      "execution_count": 11,
      "metadata": {
        "colab": {
          "base_uri": "https://localhost:8080/",
          "height": 357
        },
        "id": "Xh4LLQtxjHtF",
        "outputId": "fabf8054-da30-4225-bc70-83447f0d3a4e"
      },
      "outputs": [
        {
          "data": {
            "text/html": [
              "<div>\n",
              "<style scoped>\n",
              "    .dataframe tbody tr th:only-of-type {\n",
              "        vertical-align: middle;\n",
              "    }\n",
              "\n",
              "    .dataframe tbody tr th {\n",
              "        vertical-align: top;\n",
              "    }\n",
              "\n",
              "    .dataframe thead th {\n",
              "        text-align: right;\n",
              "    }\n",
              "</style>\n",
              "<table border=\"1\" class=\"dataframe\">\n",
              "  <thead>\n",
              "    <tr style=\"text-align: right;\">\n",
              "      <th></th>\n",
              "      <th>customerID</th>\n",
              "      <th>gender</th>\n",
              "      <th>SeniorCitizen</th>\n",
              "      <th>Partner</th>\n",
              "      <th>Dependents</th>\n",
              "      <th>tenure</th>\n",
              "      <th>PhoneService</th>\n",
              "      <th>MultipleLines</th>\n",
              "      <th>InternetService</th>\n",
              "      <th>OnlineSecurity</th>\n",
              "      <th>OnlineBackup</th>\n",
              "      <th>DeviceProtection</th>\n",
              "      <th>TechSupport</th>\n",
              "      <th>StreamingTV</th>\n",
              "      <th>StreamingMovies</th>\n",
              "      <th>Contract</th>\n",
              "      <th>PaperlessBilling</th>\n",
              "      <th>PaymentMethod</th>\n",
              "      <th>MonthlyCharges</th>\n",
              "      <th>TotalCharges</th>\n",
              "      <th>Churn</th>\n",
              "    </tr>\n",
              "  </thead>\n",
              "  <tbody>\n",
              "    <tr>\n",
              "      <th>0</th>\n",
              "      <td>7590-VHVEG</td>\n",
              "      <td>Female</td>\n",
              "      <td>0</td>\n",
              "      <td>Yes</td>\n",
              "      <td>No</td>\n",
              "      <td>1</td>\n",
              "      <td>No</td>\n",
              "      <td>No phone service</td>\n",
              "      <td>DSL</td>\n",
              "      <td>No</td>\n",
              "      <td>Yes</td>\n",
              "      <td>No</td>\n",
              "      <td>No</td>\n",
              "      <td>No</td>\n",
              "      <td>No</td>\n",
              "      <td>Month-to-month</td>\n",
              "      <td>Yes</td>\n",
              "      <td>Electronic check</td>\n",
              "      <td>29.85</td>\n",
              "      <td>29.85</td>\n",
              "      <td>No</td>\n",
              "    </tr>\n",
              "    <tr>\n",
              "      <th>1</th>\n",
              "      <td>5575-GNVDE</td>\n",
              "      <td>Male</td>\n",
              "      <td>0</td>\n",
              "      <td>No</td>\n",
              "      <td>No</td>\n",
              "      <td>34</td>\n",
              "      <td>Yes</td>\n",
              "      <td>No</td>\n",
              "      <td>DSL</td>\n",
              "      <td>Yes</td>\n",
              "      <td>No</td>\n",
              "      <td>Yes</td>\n",
              "      <td>No</td>\n",
              "      <td>No</td>\n",
              "      <td>No</td>\n",
              "      <td>One year</td>\n",
              "      <td>No</td>\n",
              "      <td>Mailed check</td>\n",
              "      <td>56.95</td>\n",
              "      <td>1889.50</td>\n",
              "      <td>No</td>\n",
              "    </tr>\n",
              "    <tr>\n",
              "      <th>2</th>\n",
              "      <td>3668-QPYBK</td>\n",
              "      <td>Male</td>\n",
              "      <td>0</td>\n",
              "      <td>No</td>\n",
              "      <td>No</td>\n",
              "      <td>2</td>\n",
              "      <td>Yes</td>\n",
              "      <td>No</td>\n",
              "      <td>DSL</td>\n",
              "      <td>Yes</td>\n",
              "      <td>Yes</td>\n",
              "      <td>No</td>\n",
              "      <td>No</td>\n",
              "      <td>No</td>\n",
              "      <td>No</td>\n",
              "      <td>Month-to-month</td>\n",
              "      <td>Yes</td>\n",
              "      <td>Mailed check</td>\n",
              "      <td>53.85</td>\n",
              "      <td>108.15</td>\n",
              "      <td>Yes</td>\n",
              "    </tr>\n",
              "    <tr>\n",
              "      <th>3</th>\n",
              "      <td>7795-CFOCW</td>\n",
              "      <td>Male</td>\n",
              "      <td>0</td>\n",
              "      <td>No</td>\n",
              "      <td>No</td>\n",
              "      <td>45</td>\n",
              "      <td>No</td>\n",
              "      <td>No phone service</td>\n",
              "      <td>DSL</td>\n",
              "      <td>Yes</td>\n",
              "      <td>No</td>\n",
              "      <td>Yes</td>\n",
              "      <td>Yes</td>\n",
              "      <td>No</td>\n",
              "      <td>No</td>\n",
              "      <td>One year</td>\n",
              "      <td>No</td>\n",
              "      <td>Bank transfer (automatic)</td>\n",
              "      <td>42.30</td>\n",
              "      <td>1840.75</td>\n",
              "      <td>No</td>\n",
              "    </tr>\n",
              "    <tr>\n",
              "      <th>4</th>\n",
              "      <td>9237-HQITU</td>\n",
              "      <td>Female</td>\n",
              "      <td>0</td>\n",
              "      <td>No</td>\n",
              "      <td>No</td>\n",
              "      <td>2</td>\n",
              "      <td>Yes</td>\n",
              "      <td>No</td>\n",
              "      <td>Fiber optic</td>\n",
              "      <td>No</td>\n",
              "      <td>No</td>\n",
              "      <td>No</td>\n",
              "      <td>No</td>\n",
              "      <td>No</td>\n",
              "      <td>No</td>\n",
              "      <td>Month-to-month</td>\n",
              "      <td>Yes</td>\n",
              "      <td>Electronic check</td>\n",
              "      <td>70.70</td>\n",
              "      <td>151.65</td>\n",
              "      <td>Yes</td>\n",
              "    </tr>\n",
              "  </tbody>\n",
              "</table>\n",
              "</div>"
            ],
            "text/plain": [
              "   customerID  gender  SeniorCitizen Partner Dependents  tenure PhoneService  \\\n",
              "0  7590-VHVEG  Female              0     Yes         No       1           No   \n",
              "1  5575-GNVDE    Male              0      No         No      34          Yes   \n",
              "2  3668-QPYBK    Male              0      No         No       2          Yes   \n",
              "3  7795-CFOCW    Male              0      No         No      45           No   \n",
              "4  9237-HQITU  Female              0      No         No       2          Yes   \n",
              "\n",
              "      MultipleLines InternetService OnlineSecurity OnlineBackup  \\\n",
              "0  No phone service             DSL             No          Yes   \n",
              "1                No             DSL            Yes           No   \n",
              "2                No             DSL            Yes          Yes   \n",
              "3  No phone service             DSL            Yes           No   \n",
              "4                No     Fiber optic             No           No   \n",
              "\n",
              "  DeviceProtection TechSupport StreamingTV StreamingMovies        Contract  \\\n",
              "0               No          No          No              No  Month-to-month   \n",
              "1              Yes          No          No              No        One year   \n",
              "2               No          No          No              No  Month-to-month   \n",
              "3              Yes         Yes          No              No        One year   \n",
              "4               No          No          No              No  Month-to-month   \n",
              "\n",
              "  PaperlessBilling              PaymentMethod  MonthlyCharges  TotalCharges  \\\n",
              "0              Yes           Electronic check           29.85         29.85   \n",
              "1               No               Mailed check           56.95       1889.50   \n",
              "2              Yes               Mailed check           53.85        108.15   \n",
              "3               No  Bank transfer (automatic)           42.30       1840.75   \n",
              "4              Yes           Electronic check           70.70        151.65   \n",
              "\n",
              "  Churn  \n",
              "0    No  \n",
              "1    No  \n",
              "2   Yes  \n",
              "3    No  \n",
              "4   Yes  "
            ]
          },
          "execution_count": 11,
          "metadata": {},
          "output_type": "execute_result"
        }
      ],
      "source": [
        "# melihat dataset\n",
        "\n",
        "data.head()"
      ]
    },
    {
      "cell_type": "code",
      "execution_count": 12,
      "metadata": {
        "colab": {
          "base_uri": "https://localhost:8080/",
          "height": 374
        },
        "id": "m9Q2IJ3NNdYU",
        "outputId": "f3d94c93-44a4-4db5-cdba-fae742a9ec09"
      },
      "outputs": [
        {
          "data": {
            "image/png": "[encoded data removed]",
            "text/plain": [
              "<Figure size 432x288 with 1 Axes>"
            ]
          },
          "metadata": {
            "needs_background": "light"
          },
          "output_type": "display_data"
        },
        {
          "data": {
            "text/html": [
              "<div>\n",
              "<style scoped>\n",
              "    .dataframe tbody tr th:only-of-type {\n",
              "        vertical-align: middle;\n",
              "    }\n",
              "\n",
              "    .dataframe tbody tr th {\n",
              "        vertical-align: top;\n",
              "    }\n",
              "\n",
              "    .dataframe thead th {\n",
              "        text-align: right;\n",
              "    }\n",
              "</style>\n",
              "<table border=\"1\" class=\"dataframe\">\n",
              "  <thead>\n",
              "    <tr style=\"text-align: right;\">\n",
              "      <th></th>\n",
              "      <th>sum</th>\n",
              "    </tr>\n",
              "  </thead>\n",
              "  <tbody>\n",
              "    <tr>\n",
              "      <th>No</th>\n",
              "      <td>5174</td>\n",
              "    </tr>\n",
              "    <tr>\n",
              "      <th>Yes</th>\n",
              "      <td>1869</td>\n",
              "    </tr>\n",
              "  </tbody>\n",
              "</table>\n",
              "</div>"
            ],
            "text/plain": [
              "      sum\n",
              "No   5174\n",
              "Yes  1869"
            ]
          },
          "execution_count": 12,
          "metadata": {},
          "output_type": "execute_result"
        }
      ],
      "source": [
        "# melihat persebaran Target: Churn\n",
        "\n",
        "fig, ax = plt.subplots()\n",
        "sns.countplot(data=data, x='Churn')\n",
        "plt.show()\n",
        "\n",
        "# melihat jumlah dari masing-masing kategori\n",
        "\n",
        "churn_df = pd.DataFrame(data = data.Churn.value_counts().values, index = data.Churn.value_counts().index, columns=['sum'])\n",
        "churn_df"
      ]
    },
    {
      "cell_type": "markdown",
      "metadata": {
        "id": "qWXiDJ5hNieC"
      },
      "source": [
        "Target dataset imbalance dengan Churn Customer 1869 orang dan No Churn Customer 5174 orang namun masih dikisaran 20%."
      ]
    },
    {
      "cell_type": "code",
      "execution_count": 13,
      "metadata": {
        "colab": {
          "base_uri": "https://localhost:8080/"
        },
        "id": "KVQQaEODOeKr",
        "outputId": "44274e3f-8a3d-46ae-be63-73c3531f1211"
      },
      "outputs": [
        {
          "name": "stdout",
          "output_type": "stream",
          "text": [
            "Categorical Data based on Unique Number: 16\n",
            "Numerical Data based on Unique Number: 3\n"
          ]
        }
      ],
      "source": [
        "# memisahkan data categorical dan numerikal dengan unik <= 10\n",
        "\n",
        "load_cat = []\n",
        "load_num = []\n",
        "\n",
        "for col in data.columns:\n",
        "  if data[col].nunique() <= 10:\n",
        "    load_cat.append(col)\n",
        "  else:\n",
        "    load_num.append(col)\n",
        "\n",
        "load_cat.remove('Churn')\n",
        "load_num.remove('customerID')\n",
        "\n",
        "print('Categorical Data based on Unique Number:', len(load_cat))\n",
        "print('Numerical Data based on Unique Number:', len(load_num))"
      ]
    },
    {
      "cell_type": "code",
      "execution_count": 14,
      "metadata": {
        "colab": {
          "base_uri": "https://localhost:8080/",
          "height": 932
        },
        "id": "3gT9k2V8NgEz",
        "outputId": "eded1efc-3667-4905-d8df-625352a16b93"
      },
      "outputs": [
        {
          "data": {
            "image/png": "[encoded data removed]",
            "text/plain": [
              "<Figure size 1440x1152 with 20 Axes>"
            ]
          },
          "metadata": {
            "needs_background": "light"
          },
          "output_type": "display_data"
        }
      ],
      "source": [
        "# melihat persebaran pada kolom kategorikal\n",
        "\n",
        "fig,axes=plt.subplots(nrows=4, ncols=5, figsize=(20,16))\n",
        "i=0\n",
        "j=0\n",
        "for col in load_cat:\n",
        "    sns.countplot(data=data, x=col, ax=axes[i][j])\n",
        "    #axes[i][j].legend()\n",
        "    j+=1\n",
        "    if j>4:\n",
        "        i+=1\n",
        "        j=0\n",
        "    if i==4:\n",
        "        break"
      ]
    },
    {
      "cell_type": "markdown",
      "metadata": {
        "id": "k-s9JO2qNtYN"
      },
      "source": [
        "Melalui eksplorasi Data Scientist melihat terdapat lebih banyak customer dengan karakter productive citizen, has no dependent, has phoneservice, no multiple lines, use fiber optic provider, no online security, no online backup, has no device protection, has no tech support, has no streaming TV, not in contract term, use paperless billing, use electronic check payment. Distribusi gender, partner, has streaming TV, has streaming movies merata, dengan lebih banyak male, no partner, no streaming TV, dan no streaming movie."
      ]
    },
    {
      "cell_type": "code",
      "execution_count": 15,
      "metadata": {
        "colab": {
          "base_uri": "https://localhost:8080/",
          "height": 389
        },
        "id": "1QdRJtmqNpKG",
        "outputId": "558e5763-466e-4472-a558-bce432bec501"
      },
      "outputs": [
        {
          "name": "stdout",
          "output_type": "stream",
          "text": [
            "Tenure Mean: 32.37, Tenure Median: 29.00, Tenure Min: 0.00, Tenure Max: 72.00, Tenure Modus: 1, Tenure Skew 0.24\n",
            "Monthly - Charges Mean: 64.76 USD, M-Charges Median: 70.35 USD, M-Charges Min: 18.25 USD, M-Charges Max: 118.75 USD, M-Charges Modus: 20.05 USD, M-Charges Skew -0.22 USD\n",
            "Total - Charges Mean: 2283.30 USD, T-Charges Median: 1397.47 USD, T-Charges Min: 18.80 USD, T-Charges Max: 8684.80 USD, T-Charges Modus: 20.2 USD, T-Charges Skew 0.96 USD\n"
          ]
        },
        {
          "data": {
            "image/png": "[encoded data removed]",
            "text/plain": [
              "<Figure size 1800x360 with 3 Axes>"
            ]
          },
          "metadata": {
            "needs_background": "light"
          },
          "output_type": "display_data"
        }
      ],
      "source": [
        "# melihat persebaran pada kolom numerik\n",
        "\n",
        "fig,axes=plt.subplots(nrows=1,ncols=3,figsize=(25,5))\n",
        "\n",
        "i=0\n",
        "j=0\n",
        "\n",
        "for col in load_num:\n",
        "    sns.histplot(data=data, x=col, bins= 30, color='m', kde = True, ax=axes[j])\n",
        "    #axes[i][j].legend()\n",
        "    j+=1\n",
        "    if j>2:\n",
        "        i+=1\n",
        "        j=0\n",
        "    if i==1:\n",
        "        break\n",
        "\n",
        "print('Tenure Mean: {:.2f}, Tenure Median: {:.2f}, Tenure Min: {:.2f}, Tenure Max: {:.2f}, Tenure Modus: {}, Tenure Skew {:.2f}'.format(data.tenure.mean(), data.tenure.median(), data.tenure.min(), data.tenure.max(), data.tenure.mode()[0], data.tenure.skew()))\n",
        "print('Monthly - Charges Mean: {:.2f} USD, M-Charges Median: {:.2f} USD, M-Charges Min: {:.2f} USD, M-Charges Max: {:.2f} USD, M-Charges Modus: {} USD, M-Charges Skew {:.2f} USD'.format(data.MonthlyCharges.mean(), data.MonthlyCharges.median(), data.MonthlyCharges.min(), data.MonthlyCharges.max(), data.MonthlyCharges.mode()[0], data.MonthlyCharges.skew()))\n",
        "print('Total - Charges Mean: {:.2f} USD, T-Charges Median: {:.2f} USD, T-Charges Min: {:.2f} USD, T-Charges Max: {:.2f} USD, T-Charges Modus: {} USD, T-Charges Skew {:.2f} USD'.format(data.TotalCharges.mean(), data.TotalCharges.median(), data.TotalCharges.min(), data.TotalCharges.max(), data.TotalCharges.mode()[0], data.TotalCharges.skew()))"
      ]
    },
    {
      "cell_type": "markdown",
      "metadata": {
        "id": "HXgJQMp-N58S"
      },
      "source": [
        "Melalui eksplorasi Data Scientist melihat persebaran kolom Tenure tertinggi di 1 bulan, dengan rata-rata 32 bulan. Persebaran kolom MonthlyCharges tertinggi di 20.05 USD, dengan rata-rata 64.76 USD. Persebaran kolom TotalCharges tertinggi di 20.02 USD, dengan median 1397.47 USD."
      ]
    },
    {
      "cell_type": "code",
      "execution_count": 16,
      "metadata": {
        "colab": {
          "base_uri": "https://localhost:8080/"
        },
        "id": "vFaCXbeQN8Y6",
        "outputId": "bf33cc9d-c079-46a8-906a-0788d54b9c3d"
      },
      "outputs": [
        {
          "name": "stdout",
          "output_type": "stream",
          "text": [
            "p=0.487\n",
            "Probably gender is independent\n",
            "\n",
            "p=0.000\n",
            "Probably SeniorCitizen is dependent\n",
            "\n",
            "p=0.000\n",
            "Probably Partner is dependent\n",
            "\n",
            "p=0.000\n",
            "Probably Dependents is dependent\n",
            "\n",
            "p=0.339\n",
            "Probably PhoneService is independent\n",
            "\n",
            "p=0.003\n",
            "Probably MultipleLines is dependent\n",
            "\n",
            "p=0.000\n",
            "Probably InternetService is dependent\n",
            "\n",
            "p=0.000\n",
            "Probably OnlineSecurity is dependent\n",
            "\n",
            "p=0.000\n",
            "Probably OnlineBackup is dependent\n",
            "\n",
            "p=0.000\n",
            "Probably DeviceProtection is dependent\n",
            "\n",
            "p=0.000\n",
            "Probably TechSupport is dependent\n",
            "\n",
            "p=0.000\n",
            "Probably StreamingTV is dependent\n",
            "\n",
            "p=0.000\n",
            "Probably StreamingMovies is dependent\n",
            "\n",
            "p=0.000\n",
            "Probably Contract is dependent\n",
            "\n",
            "p=0.000\n",
            "Probably PaperlessBilling is dependent\n",
            "\n",
            "p=0.000\n",
            "Probably PaymentMethod is dependent\n",
            "\n",
            "Number Dependent Columns:  14\n",
            "Dependent Columns:  ['SeniorCitizen', 'Partner', 'Dependents', 'MultipleLines', 'InternetService', 'OnlineSecurity', 'OnlineBackup', 'DeviceProtection', 'TechSupport', 'StreamingTV', 'StreamingMovies', 'Contract', 'PaperlessBilling', 'PaymentMethod']\n",
            "\n",
            "Number Independent Columns:  2\n",
            "Independent Columns:  ['gender', 'PhoneService']\n"
          ]
        }
      ],
      "source": [
        "# melihat hubungan kolom categorical dan Churn\n",
        "\n",
        "dependent = []\n",
        "independent = []\n",
        "\n",
        "for col in load_cat:\n",
        "  contingency_table=pd.crosstab(data[col],data['Churn'])\n",
        "  \n",
        "  stat, p, dof, expected = stats.chi2_contingency(contingency_table)\n",
        "  print('p=%.3f' % (p))\n",
        "  if p > 0.05:\n",
        "    print(f'Probably {col} is independent')\n",
        "    independent.append(col)\n",
        "  else:\n",
        "    print(f'Probably {col} is dependent')\n",
        "    dependent.append(col)\n",
        "  print('')\n",
        "\n",
        "print('Number Dependent Columns: ', len(dependent))\n",
        "print('Dependent Columns: ', dependent)\n",
        "print('')\n",
        "print('Number Independent Columns: ', len(independent))\n",
        "print('Independent Columns: ', independent)"
      ]
    },
    {
      "cell_type": "markdown",
      "metadata": {
        "id": "Vfm3Cc4POAoq"
      },
      "source": [
        "Berdasarkan chisquare Data Scientist meliha kolom Churn memiliki hubungan dengan kolom 'SeniorCitizen', 'Partner', 'Dependents', 'MultipleLines', 'InternetService', 'OnlineSecurity', 'OnlineBackup', 'DeviceProtection', 'TechSupport', 'StreamingTV', 'StreamingMovies', 'Contract', 'PaperlessBilling', 'PaymentMethod'. Dan kurang memiliki hubungan dengan kolom 'gender', 'PhoneService'."
      ]
    },
    {
      "cell_type": "code",
      "execution_count": 17,
      "metadata": {
        "colab": {
          "base_uri": "https://localhost:8080/",
          "height": 206
        },
        "id": "7ywa4-VJOEGr",
        "outputId": "4aa8ccc8-0167-4931-fb07-98543ae35157"
      },
      "outputs": [
        {
          "data": {
            "text/html": [
              "<style type=\"text/css\">\n",
              "#T_dac5e_row0_col0, #T_dac5e_row1_col1, #T_dac5e_row2_col2, #T_dac5e_row3_col3, #T_dac5e_row4_col4 {\n",
              "  background-color: #b40426;\n",
              "  color: #f1f1f1;\n",
              "}\n",
              "#T_dac5e_row0_col1 {\n",
              "  background-color: #b6cefa;\n",
              "  color: #000000;\n",
              "}\n",
              "#T_dac5e_row0_col2 {\n",
              "  background-color: #e36b54;\n",
              "  color: #f1f1f1;\n",
              "}\n",
              "#T_dac5e_row0_col3 {\n",
              "  background-color: #f7b497;\n",
              "  color: #000000;\n",
              "}\n",
              "#T_dac5e_row0_col4, #T_dac5e_row4_col1 {\n",
              "  background-color: #a6c4fe;\n",
              "  color: #000000;\n",
              "}\n",
              "#T_dac5e_row1_col0 {\n",
              "  background-color: #cdd9ec;\n",
              "  color: #000000;\n",
              "}\n",
              "#T_dac5e_row1_col2, #T_dac5e_row2_col1 {\n",
              "  background-color: #f7a98b;\n",
              "  color: #000000;\n",
              "}\n",
              "#T_dac5e_row1_col3 {\n",
              "  background-color: #c1d4f4;\n",
              "  color: #000000;\n",
              "}\n",
              "#T_dac5e_row1_col4 {\n",
              "  background-color: #f1ccb8;\n",
              "  color: #000000;\n",
              "}\n",
              "#T_dac5e_row2_col0 {\n",
              "  background-color: #de614d;\n",
              "  color: #f1f1f1;\n",
              "}\n",
              "#T_dac5e_row2_col3 {\n",
              "  background-color: #f2cbb7;\n",
              "  color: #000000;\n",
              "}\n",
              "#T_dac5e_row2_col4 {\n",
              "  background-color: #c0d4f5;\n",
              "  color: #000000;\n",
              "}\n",
              "#T_dac5e_row3_col0 {\n",
              "  background-color: #e2dad5;\n",
              "  color: #000000;\n",
              "}\n",
              "#T_dac5e_row3_col1, #T_dac5e_row3_col4, #T_dac5e_row4_col0, #T_dac5e_row4_col2, #T_dac5e_row4_col3 {\n",
              "  background-color: #3b4cc0;\n",
              "  color: #f1f1f1;\n",
              "}\n",
              "#T_dac5e_row3_col2 {\n",
              "  background-color: #aac7fd;\n",
              "  color: #000000;\n",
              "}\n",
              "</style>\n",
              "<table id=\"T_dac5e\">\n",
              "  <thead>\n",
              "    <tr>\n",
              "      <th class=\"blank level0\" >&nbsp;</th>\n",
              "      <th id=\"T_dac5e_level0_col0\" class=\"col_heading level0 col0\" >tenure</th>\n",
              "      <th id=\"T_dac5e_level0_col1\" class=\"col_heading level0 col1\" >MonthlyCharges</th>\n",
              "      <th id=\"T_dac5e_level0_col2\" class=\"col_heading level0 col2\" >TotalCharges</th>\n",
              "      <th id=\"T_dac5e_level0_col3\" class=\"col_heading level0 col3\" >Churn_No</th>\n",
              "      <th id=\"T_dac5e_level0_col4\" class=\"col_heading level0 col4\" >Churn_Yes</th>\n",
              "    </tr>\n",
              "  </thead>\n",
              "  <tbody>\n",
              "    <tr>\n",
              "      <th id=\"T_dac5e_level0_row0\" class=\"row_heading level0 row0\" >tenure</th>\n",
              "      <td id=\"T_dac5e_row0_col0\" class=\"data row0 col0\" >1.000000</td>\n",
              "      <td id=\"T_dac5e_row0_col1\" class=\"data row0 col1\" >0.247900</td>\n",
              "      <td id=\"T_dac5e_row0_col2\" class=\"data row0 col2\" >0.825880</td>\n",
              "      <td id=\"T_dac5e_row0_col3\" class=\"data row0 col3\" >0.352229</td>\n",
              "      <td id=\"T_dac5e_row0_col4\" class=\"data row0 col4\" >-0.352229</td>\n",
              "    </tr>\n",
              "    <tr>\n",
              "      <th id=\"T_dac5e_level0_row1\" class=\"row_heading level0 row1\" >MonthlyCharges</th>\n",
              "      <td id=\"T_dac5e_row1_col0\" class=\"data row1 col0\" >0.247900</td>\n",
              "      <td id=\"T_dac5e_row1_col1\" class=\"data row1 col1\" >1.000000</td>\n",
              "      <td id=\"T_dac5e_row1_col2\" class=\"data row1 col2\" >0.651065</td>\n",
              "      <td id=\"T_dac5e_row1_col3\" class=\"data row1 col3\" >-0.193356</td>\n",
              "      <td id=\"T_dac5e_row1_col4\" class=\"data row1 col4\" >0.193356</td>\n",
              "    </tr>\n",
              "    <tr>\n",
              "      <th id=\"T_dac5e_level0_row2\" class=\"row_heading level0 row2\" >TotalCharges</th>\n",
              "      <td id=\"T_dac5e_row2_col0\" class=\"data row2 col0\" >0.825880</td>\n",
              "      <td id=\"T_dac5e_row2_col1\" class=\"data row2 col1\" >0.651065</td>\n",
              "      <td id=\"T_dac5e_row2_col2\" class=\"data row2 col2\" >1.000000</td>\n",
              "      <td id=\"T_dac5e_row2_col3\" class=\"data row2 col3\" >0.199484</td>\n",
              "      <td id=\"T_dac5e_row2_col4\" class=\"data row2 col4\" >-0.199484</td>\n",
              "    </tr>\n",
              "    <tr>\n",
              "      <th id=\"T_dac5e_level0_row3\" class=\"row_heading level0 row3\" >Churn_No</th>\n",
              "      <td id=\"T_dac5e_row3_col0\" class=\"data row3 col0\" >0.352229</td>\n",
              "      <td id=\"T_dac5e_row3_col1\" class=\"data row3 col1\" >-0.193356</td>\n",
              "      <td id=\"T_dac5e_row3_col2\" class=\"data row3 col2\" >0.199484</td>\n",
              "      <td id=\"T_dac5e_row3_col3\" class=\"data row3 col3\" >1.000000</td>\n",
              "      <td id=\"T_dac5e_row3_col4\" class=\"data row3 col4\" >-1.000000</td>\n",
              "    </tr>\n",
              "    <tr>\n",
              "      <th id=\"T_dac5e_level0_row4\" class=\"row_heading level0 row4\" >Churn_Yes</th>\n",
              "      <td id=\"T_dac5e_row4_col0\" class=\"data row4 col0\" >-0.352229</td>\n",
              "      <td id=\"T_dac5e_row4_col1\" class=\"data row4 col1\" >0.193356</td>\n",
              "      <td id=\"T_dac5e_row4_col2\" class=\"data row4 col2\" >-0.199484</td>\n",
              "      <td id=\"T_dac5e_row4_col3\" class=\"data row4 col3\" >-1.000000</td>\n",
              "      <td id=\"T_dac5e_row4_col4\" class=\"data row4 col4\" >1.000000</td>\n",
              "    </tr>\n",
              "  </tbody>\n",
              "</table>\n"
            ],
            "text/plain": [
              "<pandas.io.formats.style.Styler at 0x1d859ca29e0>"
            ]
          },
          "execution_count": 17,
          "metadata": {},
          "output_type": "execute_result"
        }
      ],
      "source": [
        "# melihat hubungan antara kolom numerikal dan 'Churn'\n",
        "\n",
        "X = pd.get_dummies(data[['Churn', 'tenure', 'MonthlyCharges', 'TotalCharges']]).corr()\n",
        "X.style.background_gradient(cmap='coolwarm')"
      ]
    },
    {
      "cell_type": "markdown",
      "metadata": {
        "id": "LQc2pHLBOIbC"
      },
      "source": [
        "Berdasarkan get_dummies Data Scientist melihat kolom Churn memiliki hubungan dengan kolom 'tenure', 'MonthlyCharges', 'TotalCharges'."
      ]
    },
    {
      "cell_type": "markdown",
      "metadata": {
        "id": "1rrnvTSyOJA-"
      },
      "source": [
        "Kumpulan insight:\n",
        "\n",
        "- Target dataset imbalance dengan Churn Customer 1869 orang dan No Churn Customer 5174 orang. Perbedaan target dapat mempengaruhi ketepatan prediksi model.\n",
        "- Melalui eksplorasi Data Scientist melihat terdapat lebih banyak customer dengan karakter productive citizen, has no dependent, has phoneservice, no multiple lines, use fiber optic provider, no online security, no online backup, has no device protection, has no tech support, has no streaming TV, not in contract term, use paperless billing, use electronic check payment. Distribusi gender, partner, has streaming TV, has streaming movies merata, dengan lebih banyak male, no partner, no streaming TV, dan no streaming movie.\n",
        "- Melalui eksplorasi Data Scientist melihat persebaran kolom Tenure tertinggi di 1 bulan, dengan rata-rata 32 bulan. Persebaran kolom MonthlyCharges tertinggi di 20.05 USD, dengan rata-rata 64.76 USD. Persebaran kolom TotalCharges tertinggi di 20.02 USD, dengan median 1397.47 USD.\n",
        "- Berdasarkan chisquare Data Scientist meliha kolom Churn memiliki hubungan dengan kolom 'SeniorCitizen', 'Partner', 'Dependents', 'MultipleLines', 'InternetService', 'OnlineSecurity', 'OnlineBackup', 'DeviceProtection', 'TechSupport', 'StreamingTV', 'StreamingMovies', 'Contract', 'PaperlessBilling', 'PaymentMethod'. Dan kurang memiliki hubungan dengan kolom 'gender', 'PhoneService' dengan nilai p-value < 0.05.\n",
        "- Berdasarkan get_dummies Data Scientist melihat kolom Churn memiliki hubungan dengan kolom 'tenure', 'MonthlyCharges', 'TotalCharges' dengan correlation tertinggi 35% dan terendah 19 %."
      ]
    },
    {
      "cell_type": "markdown",
      "metadata": {
        "id": "s26Ip_0-VMiR"
      },
      "source": [
        "# 5 - Data Preprocessing"
      ]
    },
    {
      "cell_type": "markdown",
      "metadata": {
        "id": "sbZ1WpJKPFS_"
      },
      "source": [
        "## 5.1 -- Get the Data for Model Inference"
      ]
    },
    {
      "cell_type": "code",
      "execution_count": 18,
      "metadata": {
        "colab": {
          "base_uri": "https://localhost:8080/",
          "height": 601
        },
        "id": "zRFUwKvWRiZL",
        "outputId": "b51d7c1b-effd-4085-d1b7-726819565501"
      },
      "outputs": [
        {
          "data": {
            "text/html": [
              "<div>\n",
              "<style scoped>\n",
              "    .dataframe tbody tr th:only-of-type {\n",
              "        vertical-align: middle;\n",
              "    }\n",
              "\n",
              "    .dataframe tbody tr th {\n",
              "        vertical-align: top;\n",
              "    }\n",
              "\n",
              "    .dataframe thead th {\n",
              "        text-align: right;\n",
              "    }\n",
              "</style>\n",
              "<table border=\"1\" class=\"dataframe\">\n",
              "  <thead>\n",
              "    <tr style=\"text-align: right;\">\n",
              "      <th></th>\n",
              "      <th>customerID</th>\n",
              "      <th>gender</th>\n",
              "      <th>SeniorCitizen</th>\n",
              "      <th>Partner</th>\n",
              "      <th>Dependents</th>\n",
              "      <th>tenure</th>\n",
              "      <th>PhoneService</th>\n",
              "      <th>MultipleLines</th>\n",
              "      <th>InternetService</th>\n",
              "      <th>OnlineSecurity</th>\n",
              "      <th>OnlineBackup</th>\n",
              "      <th>DeviceProtection</th>\n",
              "      <th>TechSupport</th>\n",
              "      <th>StreamingTV</th>\n",
              "      <th>StreamingMovies</th>\n",
              "      <th>Contract</th>\n",
              "      <th>PaperlessBilling</th>\n",
              "      <th>PaymentMethod</th>\n",
              "      <th>MonthlyCharges</th>\n",
              "      <th>TotalCharges</th>\n",
              "      <th>Churn</th>\n",
              "    </tr>\n",
              "  </thead>\n",
              "  <tbody>\n",
              "    <tr>\n",
              "      <th>5585</th>\n",
              "      <td>4667-OHGKG</td>\n",
              "      <td>Male</td>\n",
              "      <td>0</td>\n",
              "      <td>No</td>\n",
              "      <td>No</td>\n",
              "      <td>1</td>\n",
              "      <td>Yes</td>\n",
              "      <td>No</td>\n",
              "      <td>No</td>\n",
              "      <td>No internet service</td>\n",
              "      <td>No internet service</td>\n",
              "      <td>No internet service</td>\n",
              "      <td>No internet service</td>\n",
              "      <td>No internet service</td>\n",
              "      <td>No internet service</td>\n",
              "      <td>Month-to-month</td>\n",
              "      <td>Yes</td>\n",
              "      <td>Mailed check</td>\n",
              "      <td>19.30</td>\n",
              "      <td>19.30</td>\n",
              "      <td>Yes</td>\n",
              "    </tr>\n",
              "    <tr>\n",
              "      <th>3317</th>\n",
              "      <td>6685-GBWJZ</td>\n",
              "      <td>Male</td>\n",
              "      <td>0</td>\n",
              "      <td>Yes</td>\n",
              "      <td>No</td>\n",
              "      <td>63</td>\n",
              "      <td>Yes</td>\n",
              "      <td>No</td>\n",
              "      <td>DSL</td>\n",
              "      <td>Yes</td>\n",
              "      <td>Yes</td>\n",
              "      <td>No</td>\n",
              "      <td>Yes</td>\n",
              "      <td>Yes</td>\n",
              "      <td>No</td>\n",
              "      <td>One year</td>\n",
              "      <td>No</td>\n",
              "      <td>Credit card (automatic)</td>\n",
              "      <td>70.80</td>\n",
              "      <td>4448.80</td>\n",
              "      <td>No</td>\n",
              "    </tr>\n",
              "    <tr>\n",
              "      <th>6875</th>\n",
              "      <td>6848-HJTXY</td>\n",
              "      <td>Female</td>\n",
              "      <td>0</td>\n",
              "      <td>Yes</td>\n",
              "      <td>No</td>\n",
              "      <td>64</td>\n",
              "      <td>Yes</td>\n",
              "      <td>No</td>\n",
              "      <td>No</td>\n",
              "      <td>No internet service</td>\n",
              "      <td>No internet service</td>\n",
              "      <td>No internet service</td>\n",
              "      <td>No internet service</td>\n",
              "      <td>No internet service</td>\n",
              "      <td>No internet service</td>\n",
              "      <td>Two year</td>\n",
              "      <td>No</td>\n",
              "      <td>Credit card (automatic)</td>\n",
              "      <td>19.45</td>\n",
              "      <td>1208.60</td>\n",
              "      <td>No</td>\n",
              "    </tr>\n",
              "    <tr>\n",
              "      <th>6074</th>\n",
              "      <td>3797-VTIDR</td>\n",
              "      <td>Male</td>\n",
              "      <td>0</td>\n",
              "      <td>Yes</td>\n",
              "      <td>No</td>\n",
              "      <td>1</td>\n",
              "      <td>No</td>\n",
              "      <td>No phone service</td>\n",
              "      <td>DSL</td>\n",
              "      <td>No</td>\n",
              "      <td>No</td>\n",
              "      <td>No</td>\n",
              "      <td>No</td>\n",
              "      <td>No</td>\n",
              "      <td>No</td>\n",
              "      <td>Month-to-month</td>\n",
              "      <td>Yes</td>\n",
              "      <td>Electronic check</td>\n",
              "      <td>23.45</td>\n",
              "      <td>23.45</td>\n",
              "      <td>Yes</td>\n",
              "    </tr>\n",
              "    <tr>\n",
              "      <th>1758</th>\n",
              "      <td>5848-FHRFC</td>\n",
              "      <td>Female</td>\n",
              "      <td>0</td>\n",
              "      <td>No</td>\n",
              "      <td>No</td>\n",
              "      <td>68</td>\n",
              "      <td>Yes</td>\n",
              "      <td>No</td>\n",
              "      <td>No</td>\n",
              "      <td>No internet service</td>\n",
              "      <td>No internet service</td>\n",
              "      <td>No internet service</td>\n",
              "      <td>No internet service</td>\n",
              "      <td>No internet service</td>\n",
              "      <td>No internet service</td>\n",
              "      <td>Two year</td>\n",
              "      <td>No</td>\n",
              "      <td>Bank transfer (automatic)</td>\n",
              "      <td>20.05</td>\n",
              "      <td>1386.90</td>\n",
              "      <td>No</td>\n",
              "    </tr>\n",
              "    <tr>\n",
              "      <th>3239</th>\n",
              "      <td>3890-RTCMS</td>\n",
              "      <td>Male</td>\n",
              "      <td>0</td>\n",
              "      <td>No</td>\n",
              "      <td>No</td>\n",
              "      <td>16</td>\n",
              "      <td>Yes</td>\n",
              "      <td>No</td>\n",
              "      <td>DSL</td>\n",
              "      <td>No</td>\n",
              "      <td>No</td>\n",
              "      <td>No</td>\n",
              "      <td>Yes</td>\n",
              "      <td>No</td>\n",
              "      <td>No</td>\n",
              "      <td>Month-to-month</td>\n",
              "      <td>Yes</td>\n",
              "      <td>Mailed check</td>\n",
              "      <td>49.45</td>\n",
              "      <td>799.00</td>\n",
              "      <td>No</td>\n",
              "    </tr>\n",
              "    <tr>\n",
              "      <th>644</th>\n",
              "      <td>8404-VLQFB</td>\n",
              "      <td>Female</td>\n",
              "      <td>0</td>\n",
              "      <td>Yes</td>\n",
              "      <td>Yes</td>\n",
              "      <td>15</td>\n",
              "      <td>Yes</td>\n",
              "      <td>Yes</td>\n",
              "      <td>No</td>\n",
              "      <td>No internet service</td>\n",
              "      <td>No internet service</td>\n",
              "      <td>No internet service</td>\n",
              "      <td>No internet service</td>\n",
              "      <td>No internet service</td>\n",
              "      <td>No internet service</td>\n",
              "      <td>Month-to-month</td>\n",
              "      <td>Yes</td>\n",
              "      <td>Electronic check</td>\n",
              "      <td>25.25</td>\n",
              "      <td>394.85</td>\n",
              "      <td>No</td>\n",
              "    </tr>\n",
              "    <tr>\n",
              "      <th>3844</th>\n",
              "      <td>3594-UVONA</td>\n",
              "      <td>Female</td>\n",
              "      <td>0</td>\n",
              "      <td>No</td>\n",
              "      <td>No</td>\n",
              "      <td>35</td>\n",
              "      <td>Yes</td>\n",
              "      <td>Yes</td>\n",
              "      <td>DSL</td>\n",
              "      <td>Yes</td>\n",
              "      <td>No</td>\n",
              "      <td>Yes</td>\n",
              "      <td>Yes</td>\n",
              "      <td>Yes</td>\n",
              "      <td>Yes</td>\n",
              "      <td>One year</td>\n",
              "      <td>Yes</td>\n",
              "      <td>Credit card (automatic)</td>\n",
              "      <td>85.95</td>\n",
              "      <td>3110.10</td>\n",
              "      <td>Yes</td>\n",
              "    </tr>\n",
              "    <tr>\n",
              "      <th>5924</th>\n",
              "      <td>2236-HILPA</td>\n",
              "      <td>Male</td>\n",
              "      <td>0</td>\n",
              "      <td>Yes</td>\n",
              "      <td>Yes</td>\n",
              "      <td>62</td>\n",
              "      <td>Yes</td>\n",
              "      <td>No</td>\n",
              "      <td>No</td>\n",
              "      <td>No internet service</td>\n",
              "      <td>No internet service</td>\n",
              "      <td>No internet service</td>\n",
              "      <td>No internet service</td>\n",
              "      <td>No internet service</td>\n",
              "      <td>No internet service</td>\n",
              "      <td>Two year</td>\n",
              "      <td>No</td>\n",
              "      <td>Credit card (automatic)</td>\n",
              "      <td>20.65</td>\n",
              "      <td>1218.45</td>\n",
              "      <td>No</td>\n",
              "    </tr>\n",
              "    <tr>\n",
              "      <th>3107</th>\n",
              "      <td>5038-ETMLM</td>\n",
              "      <td>Female</td>\n",
              "      <td>0</td>\n",
              "      <td>Yes</td>\n",
              "      <td>No</td>\n",
              "      <td>72</td>\n",
              "      <td>Yes</td>\n",
              "      <td>Yes</td>\n",
              "      <td>Fiber optic</td>\n",
              "      <td>Yes</td>\n",
              "      <td>Yes</td>\n",
              "      <td>Yes</td>\n",
              "      <td>Yes</td>\n",
              "      <td>Yes</td>\n",
              "      <td>Yes</td>\n",
              "      <td>Two year</td>\n",
              "      <td>Yes</td>\n",
              "      <td>Bank transfer (automatic)</td>\n",
              "      <td>113.65</td>\n",
              "      <td>8182.75</td>\n",
              "      <td>No</td>\n",
              "    </tr>\n",
              "  </tbody>\n",
              "</table>\n",
              "</div>"
            ],
            "text/plain": [
              "      customerID  gender  SeniorCitizen Partner Dependents  tenure  \\\n",
              "5585  4667-OHGKG    Male              0      No         No       1   \n",
              "3317  6685-GBWJZ    Male              0     Yes         No      63   \n",
              "6875  6848-HJTXY  Female              0     Yes         No      64   \n",
              "6074  3797-VTIDR    Male              0     Yes         No       1   \n",
              "1758  5848-FHRFC  Female              0      No         No      68   \n",
              "3239  3890-RTCMS    Male              0      No         No      16   \n",
              "644   8404-VLQFB  Female              0     Yes        Yes      15   \n",
              "3844  3594-UVONA  Female              0      No         No      35   \n",
              "5924  2236-HILPA    Male              0     Yes        Yes      62   \n",
              "3107  5038-ETMLM  Female              0     Yes         No      72   \n",
              "\n",
              "     PhoneService     MultipleLines InternetService       OnlineSecurity  \\\n",
              "5585          Yes                No              No  No internet service   \n",
              "3317          Yes                No             DSL                  Yes   \n",
              "6875          Yes                No              No  No internet service   \n",
              "6074           No  No phone service             DSL                   No   \n",
              "1758          Yes                No              No  No internet service   \n",
              "3239          Yes                No             DSL                   No   \n",
              "644           Yes               Yes              No  No internet service   \n",
              "3844          Yes               Yes             DSL                  Yes   \n",
              "5924          Yes                No              No  No internet service   \n",
              "3107          Yes               Yes     Fiber optic                  Yes   \n",
              "\n",
              "             OnlineBackup     DeviceProtection          TechSupport  \\\n",
              "5585  No internet service  No internet service  No internet service   \n",
              "3317                  Yes                   No                  Yes   \n",
              "6875  No internet service  No internet service  No internet service   \n",
              "6074                   No                   No                   No   \n",
              "1758  No internet service  No internet service  No internet service   \n",
              "3239                   No                   No                  Yes   \n",
              "644   No internet service  No internet service  No internet service   \n",
              "3844                   No                  Yes                  Yes   \n",
              "5924  No internet service  No internet service  No internet service   \n",
              "3107                  Yes                  Yes                  Yes   \n",
              "\n",
              "              StreamingTV      StreamingMovies        Contract  \\\n",
              "5585  No internet service  No internet service  Month-to-month   \n",
              "3317                  Yes                   No        One year   \n",
              "6875  No internet service  No internet service        Two year   \n",
              "6074                   No                   No  Month-to-month   \n",
              "1758  No internet service  No internet service        Two year   \n",
              "3239                   No                   No  Month-to-month   \n",
              "644   No internet service  No internet service  Month-to-month   \n",
              "3844                  Yes                  Yes        One year   \n",
              "5924  No internet service  No internet service        Two year   \n",
              "3107                  Yes                  Yes        Two year   \n",
              "\n",
              "     PaperlessBilling              PaymentMethod  MonthlyCharges  \\\n",
              "5585              Yes               Mailed check           19.30   \n",
              "3317               No    Credit card (automatic)           70.80   \n",
              "6875               No    Credit card (automatic)           19.45   \n",
              "6074              Yes           Electronic check           23.45   \n",
              "1758               No  Bank transfer (automatic)           20.05   \n",
              "3239              Yes               Mailed check           49.45   \n",
              "644               Yes           Electronic check           25.25   \n",
              "3844              Yes    Credit card (automatic)           85.95   \n",
              "5924               No    Credit card (automatic)           20.65   \n",
              "3107              Yes  Bank transfer (automatic)          113.65   \n",
              "\n",
              "      TotalCharges Churn  \n",
              "5585         19.30   Yes  \n",
              "3317       4448.80    No  \n",
              "6875       1208.60    No  \n",
              "6074         23.45   Yes  \n",
              "1758       1386.90    No  \n",
              "3239        799.00    No  \n",
              "644         394.85    No  \n",
              "3844       3110.10   Yes  \n",
              "5924       1218.45    No  \n",
              "3107       8182.75    No  "
            ]
          },
          "execution_count": 18,
          "metadata": {},
          "output_type": "execute_result"
        }
      ],
      "source": [
        "# Membuat data inference\n",
        "\n",
        "data_inf = data.sample(10, random_state=50)\n",
        "data_inf"
      ]
    },
    {
      "cell_type": "code",
      "execution_count": 19,
      "metadata": {
        "colab": {
          "base_uri": "https://localhost:8080/",
          "height": 661
        },
        "id": "jFY2adwAR_n7",
        "outputId": "147d98b9-1ab2-4e54-8446-e63dc703c038"
      },
      "outputs": [
        {
          "data": {
            "text/html": [
              "<div>\n",
              "<style scoped>\n",
              "    .dataframe tbody tr th:only-of-type {\n",
              "        vertical-align: middle;\n",
              "    }\n",
              "\n",
              "    .dataframe tbody tr th {\n",
              "        vertical-align: top;\n",
              "    }\n",
              "\n",
              "    .dataframe thead th {\n",
              "        text-align: right;\n",
              "    }\n",
              "</style>\n",
              "<table border=\"1\" class=\"dataframe\">\n",
              "  <thead>\n",
              "    <tr style=\"text-align: right;\">\n",
              "      <th></th>\n",
              "      <th>customerID</th>\n",
              "      <th>gender</th>\n",
              "      <th>SeniorCitizen</th>\n",
              "      <th>Partner</th>\n",
              "      <th>Dependents</th>\n",
              "      <th>tenure</th>\n",
              "      <th>PhoneService</th>\n",
              "      <th>MultipleLines</th>\n",
              "      <th>InternetService</th>\n",
              "      <th>OnlineSecurity</th>\n",
              "      <th>OnlineBackup</th>\n",
              "      <th>DeviceProtection</th>\n",
              "      <th>TechSupport</th>\n",
              "      <th>StreamingTV</th>\n",
              "      <th>StreamingMovies</th>\n",
              "      <th>Contract</th>\n",
              "      <th>PaperlessBilling</th>\n",
              "      <th>PaymentMethod</th>\n",
              "      <th>MonthlyCharges</th>\n",
              "      <th>TotalCharges</th>\n",
              "      <th>Churn</th>\n",
              "    </tr>\n",
              "  </thead>\n",
              "  <tbody>\n",
              "    <tr>\n",
              "      <th>0</th>\n",
              "      <td>7590-VHVEG</td>\n",
              "      <td>Female</td>\n",
              "      <td>0</td>\n",
              "      <td>Yes</td>\n",
              "      <td>No</td>\n",
              "      <td>1</td>\n",
              "      <td>No</td>\n",
              "      <td>No phone service</td>\n",
              "      <td>DSL</td>\n",
              "      <td>No</td>\n",
              "      <td>Yes</td>\n",
              "      <td>No</td>\n",
              "      <td>No</td>\n",
              "      <td>No</td>\n",
              "      <td>No</td>\n",
              "      <td>Month-to-month</td>\n",
              "      <td>Yes</td>\n",
              "      <td>Electronic check</td>\n",
              "      <td>29.85</td>\n",
              "      <td>29.85</td>\n",
              "      <td>No</td>\n",
              "    </tr>\n",
              "    <tr>\n",
              "      <th>1</th>\n",
              "      <td>5575-GNVDE</td>\n",
              "      <td>Male</td>\n",
              "      <td>0</td>\n",
              "      <td>No</td>\n",
              "      <td>No</td>\n",
              "      <td>34</td>\n",
              "      <td>Yes</td>\n",
              "      <td>No</td>\n",
              "      <td>DSL</td>\n",
              "      <td>Yes</td>\n",
              "      <td>No</td>\n",
              "      <td>Yes</td>\n",
              "      <td>No</td>\n",
              "      <td>No</td>\n",
              "      <td>No</td>\n",
              "      <td>One year</td>\n",
              "      <td>No</td>\n",
              "      <td>Mailed check</td>\n",
              "      <td>56.95</td>\n",
              "      <td>1889.50</td>\n",
              "      <td>No</td>\n",
              "    </tr>\n",
              "    <tr>\n",
              "      <th>2</th>\n",
              "      <td>3668-QPYBK</td>\n",
              "      <td>Male</td>\n",
              "      <td>0</td>\n",
              "      <td>No</td>\n",
              "      <td>No</td>\n",
              "      <td>2</td>\n",
              "      <td>Yes</td>\n",
              "      <td>No</td>\n",
              "      <td>DSL</td>\n",
              "      <td>Yes</td>\n",
              "      <td>Yes</td>\n",
              "      <td>No</td>\n",
              "      <td>No</td>\n",
              "      <td>No</td>\n",
              "      <td>No</td>\n",
              "      <td>Month-to-month</td>\n",
              "      <td>Yes</td>\n",
              "      <td>Mailed check</td>\n",
              "      <td>53.85</td>\n",
              "      <td>108.15</td>\n",
              "      <td>Yes</td>\n",
              "    </tr>\n",
              "    <tr>\n",
              "      <th>3</th>\n",
              "      <td>7795-CFOCW</td>\n",
              "      <td>Male</td>\n",
              "      <td>0</td>\n",
              "      <td>No</td>\n",
              "      <td>No</td>\n",
              "      <td>45</td>\n",
              "      <td>No</td>\n",
              "      <td>No phone service</td>\n",
              "      <td>DSL</td>\n",
              "      <td>Yes</td>\n",
              "      <td>No</td>\n",
              "      <td>Yes</td>\n",
              "      <td>Yes</td>\n",
              "      <td>No</td>\n",
              "      <td>No</td>\n",
              "      <td>One year</td>\n",
              "      <td>No</td>\n",
              "      <td>Bank transfer (automatic)</td>\n",
              "      <td>42.30</td>\n",
              "      <td>1840.75</td>\n",
              "      <td>No</td>\n",
              "    </tr>\n",
              "    <tr>\n",
              "      <th>4</th>\n",
              "      <td>9237-HQITU</td>\n",
              "      <td>Female</td>\n",
              "      <td>0</td>\n",
              "      <td>No</td>\n",
              "      <td>No</td>\n",
              "      <td>2</td>\n",
              "      <td>Yes</td>\n",
              "      <td>No</td>\n",
              "      <td>Fiber optic</td>\n",
              "      <td>No</td>\n",
              "      <td>No</td>\n",
              "      <td>No</td>\n",
              "      <td>No</td>\n",
              "      <td>No</td>\n",
              "      <td>No</td>\n",
              "      <td>Month-to-month</td>\n",
              "      <td>Yes</td>\n",
              "      <td>Electronic check</td>\n",
              "      <td>70.70</td>\n",
              "      <td>151.65</td>\n",
              "      <td>Yes</td>\n",
              "    </tr>\n",
              "    <tr>\n",
              "      <th>...</th>\n",
              "      <td>...</td>\n",
              "      <td>...</td>\n",
              "      <td>...</td>\n",
              "      <td>...</td>\n",
              "      <td>...</td>\n",
              "      <td>...</td>\n",
              "      <td>...</td>\n",
              "      <td>...</td>\n",
              "      <td>...</td>\n",
              "      <td>...</td>\n",
              "      <td>...</td>\n",
              "      <td>...</td>\n",
              "      <td>...</td>\n",
              "      <td>...</td>\n",
              "      <td>...</td>\n",
              "      <td>...</td>\n",
              "      <td>...</td>\n",
              "      <td>...</td>\n",
              "      <td>...</td>\n",
              "      <td>...</td>\n",
              "      <td>...</td>\n",
              "    </tr>\n",
              "    <tr>\n",
              "      <th>7038</th>\n",
              "      <td>6840-RESVB</td>\n",
              "      <td>Male</td>\n",
              "      <td>0</td>\n",
              "      <td>Yes</td>\n",
              "      <td>Yes</td>\n",
              "      <td>24</td>\n",
              "      <td>Yes</td>\n",
              "      <td>Yes</td>\n",
              "      <td>DSL</td>\n",
              "      <td>Yes</td>\n",
              "      <td>No</td>\n",
              "      <td>Yes</td>\n",
              "      <td>Yes</td>\n",
              "      <td>Yes</td>\n",
              "      <td>Yes</td>\n",
              "      <td>One year</td>\n",
              "      <td>Yes</td>\n",
              "      <td>Mailed check</td>\n",
              "      <td>84.80</td>\n",
              "      <td>1990.50</td>\n",
              "      <td>No</td>\n",
              "    </tr>\n",
              "    <tr>\n",
              "      <th>7039</th>\n",
              "      <td>2234-XADUH</td>\n",
              "      <td>Female</td>\n",
              "      <td>0</td>\n",
              "      <td>Yes</td>\n",
              "      <td>Yes</td>\n",
              "      <td>72</td>\n",
              "      <td>Yes</td>\n",
              "      <td>Yes</td>\n",
              "      <td>Fiber optic</td>\n",
              "      <td>No</td>\n",
              "      <td>Yes</td>\n",
              "      <td>Yes</td>\n",
              "      <td>No</td>\n",
              "      <td>Yes</td>\n",
              "      <td>Yes</td>\n",
              "      <td>One year</td>\n",
              "      <td>Yes</td>\n",
              "      <td>Credit card (automatic)</td>\n",
              "      <td>103.20</td>\n",
              "      <td>7362.90</td>\n",
              "      <td>No</td>\n",
              "    </tr>\n",
              "    <tr>\n",
              "      <th>7040</th>\n",
              "      <td>4801-JZAZL</td>\n",
              "      <td>Female</td>\n",
              "      <td>0</td>\n",
              "      <td>Yes</td>\n",
              "      <td>Yes</td>\n",
              "      <td>11</td>\n",
              "      <td>No</td>\n",
              "      <td>No phone service</td>\n",
              "      <td>DSL</td>\n",
              "      <td>Yes</td>\n",
              "      <td>No</td>\n",
              "      <td>No</td>\n",
              "      <td>No</td>\n",
              "      <td>No</td>\n",
              "      <td>No</td>\n",
              "      <td>Month-to-month</td>\n",
              "      <td>Yes</td>\n",
              "      <td>Electronic check</td>\n",
              "      <td>29.60</td>\n",
              "      <td>346.45</td>\n",
              "      <td>No</td>\n",
              "    </tr>\n",
              "    <tr>\n",
              "      <th>7041</th>\n",
              "      <td>8361-LTMKD</td>\n",
              "      <td>Male</td>\n",
              "      <td>1</td>\n",
              "      <td>Yes</td>\n",
              "      <td>No</td>\n",
              "      <td>4</td>\n",
              "      <td>Yes</td>\n",
              "      <td>Yes</td>\n",
              "      <td>Fiber optic</td>\n",
              "      <td>No</td>\n",
              "      <td>No</td>\n",
              "      <td>No</td>\n",
              "      <td>No</td>\n",
              "      <td>No</td>\n",
              "      <td>No</td>\n",
              "      <td>Month-to-month</td>\n",
              "      <td>Yes</td>\n",
              "      <td>Mailed check</td>\n",
              "      <td>74.40</td>\n",
              "      <td>306.60</td>\n",
              "      <td>Yes</td>\n",
              "    </tr>\n",
              "    <tr>\n",
              "      <th>7042</th>\n",
              "      <td>3186-AJIEK</td>\n",
              "      <td>Male</td>\n",
              "      <td>0</td>\n",
              "      <td>No</td>\n",
              "      <td>No</td>\n",
              "      <td>66</td>\n",
              "      <td>Yes</td>\n",
              "      <td>No</td>\n",
              "      <td>Fiber optic</td>\n",
              "      <td>Yes</td>\n",
              "      <td>No</td>\n",
              "      <td>Yes</td>\n",
              "      <td>Yes</td>\n",
              "      <td>Yes</td>\n",
              "      <td>Yes</td>\n",
              "      <td>Two year</td>\n",
              "      <td>Yes</td>\n",
              "      <td>Bank transfer (automatic)</td>\n",
              "      <td>105.65</td>\n",
              "      <td>6844.50</td>\n",
              "      <td>No</td>\n",
              "    </tr>\n",
              "  </tbody>\n",
              "</table>\n",
              "<p>7033 rows × 21 columns</p>\n",
              "</div>"
            ],
            "text/plain": [
              "      customerID  gender  SeniorCitizen Partner Dependents  tenure  \\\n",
              "0     7590-VHVEG  Female              0     Yes         No       1   \n",
              "1     5575-GNVDE    Male              0      No         No      34   \n",
              "2     3668-QPYBK    Male              0      No         No       2   \n",
              "3     7795-CFOCW    Male              0      No         No      45   \n",
              "4     9237-HQITU  Female              0      No         No       2   \n",
              "...          ...     ...            ...     ...        ...     ...   \n",
              "7038  6840-RESVB    Male              0     Yes        Yes      24   \n",
              "7039  2234-XADUH  Female              0     Yes        Yes      72   \n",
              "7040  4801-JZAZL  Female              0     Yes        Yes      11   \n",
              "7041  8361-LTMKD    Male              1     Yes         No       4   \n",
              "7042  3186-AJIEK    Male              0      No         No      66   \n",
              "\n",
              "     PhoneService     MultipleLines InternetService OnlineSecurity  \\\n",
              "0              No  No phone service             DSL             No   \n",
              "1             Yes                No             DSL            Yes   \n",
              "2             Yes                No             DSL            Yes   \n",
              "3              No  No phone service             DSL            Yes   \n",
              "4             Yes                No     Fiber optic             No   \n",
              "...           ...               ...             ...            ...   \n",
              "7038          Yes               Yes             DSL            Yes   \n",
              "7039          Yes               Yes     Fiber optic             No   \n",
              "7040           No  No phone service             DSL            Yes   \n",
              "7041          Yes               Yes     Fiber optic             No   \n",
              "7042          Yes                No     Fiber optic            Yes   \n",
              "\n",
              "     OnlineBackup DeviceProtection TechSupport StreamingTV StreamingMovies  \\\n",
              "0             Yes               No          No          No              No   \n",
              "1              No              Yes          No          No              No   \n",
              "2             Yes               No          No          No              No   \n",
              "3              No              Yes         Yes          No              No   \n",
              "4              No               No          No          No              No   \n",
              "...           ...              ...         ...         ...             ...   \n",
              "7038           No              Yes         Yes         Yes             Yes   \n",
              "7039          Yes              Yes          No         Yes             Yes   \n",
              "7040           No               No          No          No              No   \n",
              "7041           No               No          No          No              No   \n",
              "7042           No              Yes         Yes         Yes             Yes   \n",
              "\n",
              "            Contract PaperlessBilling              PaymentMethod  \\\n",
              "0     Month-to-month              Yes           Electronic check   \n",
              "1           One year               No               Mailed check   \n",
              "2     Month-to-month              Yes               Mailed check   \n",
              "3           One year               No  Bank transfer (automatic)   \n",
              "4     Month-to-month              Yes           Electronic check   \n",
              "...              ...              ...                        ...   \n",
              "7038        One year              Yes               Mailed check   \n",
              "7039        One year              Yes    Credit card (automatic)   \n",
              "7040  Month-to-month              Yes           Electronic check   \n",
              "7041  Month-to-month              Yes               Mailed check   \n",
              "7042        Two year              Yes  Bank transfer (automatic)   \n",
              "\n",
              "      MonthlyCharges  TotalCharges Churn  \n",
              "0              29.85         29.85    No  \n",
              "1              56.95       1889.50    No  \n",
              "2              53.85        108.15   Yes  \n",
              "3              42.30       1840.75    No  \n",
              "4              70.70        151.65   Yes  \n",
              "...              ...           ...   ...  \n",
              "7038           84.80       1990.50    No  \n",
              "7039          103.20       7362.90    No  \n",
              "7040           29.60        346.45    No  \n",
              "7041           74.40        306.60   Yes  \n",
              "7042          105.65       6844.50    No  \n",
              "\n",
              "[7033 rows x 21 columns]"
            ]
          },
          "execution_count": 19,
          "metadata": {},
          "output_type": "execute_result"
        }
      ],
      "source": [
        "# Menghapus inference set dari dataset awal\n",
        "\n",
        "data_train_val_test = data.drop(data_inf.index)\n",
        "data_train_val_test"
      ]
    },
    {
      "cell_type": "code",
      "execution_count": 20,
      "metadata": {
        "colab": {
          "base_uri": "https://localhost:8080/",
          "height": 601
        },
        "id": "LYCokbSZSQcd",
        "outputId": "73e41f40-4e0a-4755-bd5d-6ff7aa202abd"
      },
      "outputs": [
        {
          "data": {
            "text/html": [
              "<div>\n",
              "<style scoped>\n",
              "    .dataframe tbody tr th:only-of-type {\n",
              "        vertical-align: middle;\n",
              "    }\n",
              "\n",
              "    .dataframe tbody tr th {\n",
              "        vertical-align: top;\n",
              "    }\n",
              "\n",
              "    .dataframe thead th {\n",
              "        text-align: right;\n",
              "    }\n",
              "</style>\n",
              "<table border=\"1\" class=\"dataframe\">\n",
              "  <thead>\n",
              "    <tr style=\"text-align: right;\">\n",
              "      <th></th>\n",
              "      <th>customerID</th>\n",
              "      <th>gender</th>\n",
              "      <th>SeniorCitizen</th>\n",
              "      <th>Partner</th>\n",
              "      <th>Dependents</th>\n",
              "      <th>tenure</th>\n",
              "      <th>PhoneService</th>\n",
              "      <th>MultipleLines</th>\n",
              "      <th>InternetService</th>\n",
              "      <th>OnlineSecurity</th>\n",
              "      <th>OnlineBackup</th>\n",
              "      <th>DeviceProtection</th>\n",
              "      <th>TechSupport</th>\n",
              "      <th>StreamingTV</th>\n",
              "      <th>StreamingMovies</th>\n",
              "      <th>Contract</th>\n",
              "      <th>PaperlessBilling</th>\n",
              "      <th>PaymentMethod</th>\n",
              "      <th>MonthlyCharges</th>\n",
              "      <th>TotalCharges</th>\n",
              "      <th>Churn</th>\n",
              "    </tr>\n",
              "  </thead>\n",
              "  <tbody>\n",
              "    <tr>\n",
              "      <th>0</th>\n",
              "      <td>4667-OHGKG</td>\n",
              "      <td>Male</td>\n",
              "      <td>0</td>\n",
              "      <td>No</td>\n",
              "      <td>No</td>\n",
              "      <td>1</td>\n",
              "      <td>Yes</td>\n",
              "      <td>No</td>\n",
              "      <td>No</td>\n",
              "      <td>No internet service</td>\n",
              "      <td>No internet service</td>\n",
              "      <td>No internet service</td>\n",
              "      <td>No internet service</td>\n",
              "      <td>No internet service</td>\n",
              "      <td>No internet service</td>\n",
              "      <td>Month-to-month</td>\n",
              "      <td>Yes</td>\n",
              "      <td>Mailed check</td>\n",
              "      <td>19.30</td>\n",
              "      <td>19.30</td>\n",
              "      <td>Yes</td>\n",
              "    </tr>\n",
              "    <tr>\n",
              "      <th>1</th>\n",
              "      <td>6685-GBWJZ</td>\n",
              "      <td>Male</td>\n",
              "      <td>0</td>\n",
              "      <td>Yes</td>\n",
              "      <td>No</td>\n",
              "      <td>63</td>\n",
              "      <td>Yes</td>\n",
              "      <td>No</td>\n",
              "      <td>DSL</td>\n",
              "      <td>Yes</td>\n",
              "      <td>Yes</td>\n",
              "      <td>No</td>\n",
              "      <td>Yes</td>\n",
              "      <td>Yes</td>\n",
              "      <td>No</td>\n",
              "      <td>One year</td>\n",
              "      <td>No</td>\n",
              "      <td>Credit card (automatic)</td>\n",
              "      <td>70.80</td>\n",
              "      <td>4448.80</td>\n",
              "      <td>No</td>\n",
              "    </tr>\n",
              "    <tr>\n",
              "      <th>2</th>\n",
              "      <td>6848-HJTXY</td>\n",
              "      <td>Female</td>\n",
              "      <td>0</td>\n",
              "      <td>Yes</td>\n",
              "      <td>No</td>\n",
              "      <td>64</td>\n",
              "      <td>Yes</td>\n",
              "      <td>No</td>\n",
              "      <td>No</td>\n",
              "      <td>No internet service</td>\n",
              "      <td>No internet service</td>\n",
              "      <td>No internet service</td>\n",
              "      <td>No internet service</td>\n",
              "      <td>No internet service</td>\n",
              "      <td>No internet service</td>\n",
              "      <td>Two year</td>\n",
              "      <td>No</td>\n",
              "      <td>Credit card (automatic)</td>\n",
              "      <td>19.45</td>\n",
              "      <td>1208.60</td>\n",
              "      <td>No</td>\n",
              "    </tr>\n",
              "    <tr>\n",
              "      <th>3</th>\n",
              "      <td>3797-VTIDR</td>\n",
              "      <td>Male</td>\n",
              "      <td>0</td>\n",
              "      <td>Yes</td>\n",
              "      <td>No</td>\n",
              "      <td>1</td>\n",
              "      <td>No</td>\n",
              "      <td>No phone service</td>\n",
              "      <td>DSL</td>\n",
              "      <td>No</td>\n",
              "      <td>No</td>\n",
              "      <td>No</td>\n",
              "      <td>No</td>\n",
              "      <td>No</td>\n",
              "      <td>No</td>\n",
              "      <td>Month-to-month</td>\n",
              "      <td>Yes</td>\n",
              "      <td>Electronic check</td>\n",
              "      <td>23.45</td>\n",
              "      <td>23.45</td>\n",
              "      <td>Yes</td>\n",
              "    </tr>\n",
              "    <tr>\n",
              "      <th>4</th>\n",
              "      <td>5848-FHRFC</td>\n",
              "      <td>Female</td>\n",
              "      <td>0</td>\n",
              "      <td>No</td>\n",
              "      <td>No</td>\n",
              "      <td>68</td>\n",
              "      <td>Yes</td>\n",
              "      <td>No</td>\n",
              "      <td>No</td>\n",
              "      <td>No internet service</td>\n",
              "      <td>No internet service</td>\n",
              "      <td>No internet service</td>\n",
              "      <td>No internet service</td>\n",
              "      <td>No internet service</td>\n",
              "      <td>No internet service</td>\n",
              "      <td>Two year</td>\n",
              "      <td>No</td>\n",
              "      <td>Bank transfer (automatic)</td>\n",
              "      <td>20.05</td>\n",
              "      <td>1386.90</td>\n",
              "      <td>No</td>\n",
              "    </tr>\n",
              "    <tr>\n",
              "      <th>5</th>\n",
              "      <td>3890-RTCMS</td>\n",
              "      <td>Male</td>\n",
              "      <td>0</td>\n",
              "      <td>No</td>\n",
              "      <td>No</td>\n",
              "      <td>16</td>\n",
              "      <td>Yes</td>\n",
              "      <td>No</td>\n",
              "      <td>DSL</td>\n",
              "      <td>No</td>\n",
              "      <td>No</td>\n",
              "      <td>No</td>\n",
              "      <td>Yes</td>\n",
              "      <td>No</td>\n",
              "      <td>No</td>\n",
              "      <td>Month-to-month</td>\n",
              "      <td>Yes</td>\n",
              "      <td>Mailed check</td>\n",
              "      <td>49.45</td>\n",
              "      <td>799.00</td>\n",
              "      <td>No</td>\n",
              "    </tr>\n",
              "    <tr>\n",
              "      <th>6</th>\n",
              "      <td>8404-VLQFB</td>\n",
              "      <td>Female</td>\n",
              "      <td>0</td>\n",
              "      <td>Yes</td>\n",
              "      <td>Yes</td>\n",
              "      <td>15</td>\n",
              "      <td>Yes</td>\n",
              "      <td>Yes</td>\n",
              "      <td>No</td>\n",
              "      <td>No internet service</td>\n",
              "      <td>No internet service</td>\n",
              "      <td>No internet service</td>\n",
              "      <td>No internet service</td>\n",
              "      <td>No internet service</td>\n",
              "      <td>No internet service</td>\n",
              "      <td>Month-to-month</td>\n",
              "      <td>Yes</td>\n",
              "      <td>Electronic check</td>\n",
              "      <td>25.25</td>\n",
              "      <td>394.85</td>\n",
              "      <td>No</td>\n",
              "    </tr>\n",
              "    <tr>\n",
              "      <th>7</th>\n",
              "      <td>3594-UVONA</td>\n",
              "      <td>Female</td>\n",
              "      <td>0</td>\n",
              "      <td>No</td>\n",
              "      <td>No</td>\n",
              "      <td>35</td>\n",
              "      <td>Yes</td>\n",
              "      <td>Yes</td>\n",
              "      <td>DSL</td>\n",
              "      <td>Yes</td>\n",
              "      <td>No</td>\n",
              "      <td>Yes</td>\n",
              "      <td>Yes</td>\n",
              "      <td>Yes</td>\n",
              "      <td>Yes</td>\n",
              "      <td>One year</td>\n",
              "      <td>Yes</td>\n",
              "      <td>Credit card (automatic)</td>\n",
              "      <td>85.95</td>\n",
              "      <td>3110.10</td>\n",
              "      <td>Yes</td>\n",
              "    </tr>\n",
              "    <tr>\n",
              "      <th>8</th>\n",
              "      <td>2236-HILPA</td>\n",
              "      <td>Male</td>\n",
              "      <td>0</td>\n",
              "      <td>Yes</td>\n",
              "      <td>Yes</td>\n",
              "      <td>62</td>\n",
              "      <td>Yes</td>\n",
              "      <td>No</td>\n",
              "      <td>No</td>\n",
              "      <td>No internet service</td>\n",
              "      <td>No internet service</td>\n",
              "      <td>No internet service</td>\n",
              "      <td>No internet service</td>\n",
              "      <td>No internet service</td>\n",
              "      <td>No internet service</td>\n",
              "      <td>Two year</td>\n",
              "      <td>No</td>\n",
              "      <td>Credit card (automatic)</td>\n",
              "      <td>20.65</td>\n",
              "      <td>1218.45</td>\n",
              "      <td>No</td>\n",
              "    </tr>\n",
              "    <tr>\n",
              "      <th>9</th>\n",
              "      <td>5038-ETMLM</td>\n",
              "      <td>Female</td>\n",
              "      <td>0</td>\n",
              "      <td>Yes</td>\n",
              "      <td>No</td>\n",
              "      <td>72</td>\n",
              "      <td>Yes</td>\n",
              "      <td>Yes</td>\n",
              "      <td>Fiber optic</td>\n",
              "      <td>Yes</td>\n",
              "      <td>Yes</td>\n",
              "      <td>Yes</td>\n",
              "      <td>Yes</td>\n",
              "      <td>Yes</td>\n",
              "      <td>Yes</td>\n",
              "      <td>Two year</td>\n",
              "      <td>Yes</td>\n",
              "      <td>Bank transfer (automatic)</td>\n",
              "      <td>113.65</td>\n",
              "      <td>8182.75</td>\n",
              "      <td>No</td>\n",
              "    </tr>\n",
              "  </tbody>\n",
              "</table>\n",
              "</div>"
            ],
            "text/plain": [
              "   customerID  gender  SeniorCitizen Partner Dependents  tenure PhoneService  \\\n",
              "0  4667-OHGKG    Male              0      No         No       1          Yes   \n",
              "1  6685-GBWJZ    Male              0     Yes         No      63          Yes   \n",
              "2  6848-HJTXY  Female              0     Yes         No      64          Yes   \n",
              "3  3797-VTIDR    Male              0     Yes         No       1           No   \n",
              "4  5848-FHRFC  Female              0      No         No      68          Yes   \n",
              "5  3890-RTCMS    Male              0      No         No      16          Yes   \n",
              "6  8404-VLQFB  Female              0     Yes        Yes      15          Yes   \n",
              "7  3594-UVONA  Female              0      No         No      35          Yes   \n",
              "8  2236-HILPA    Male              0     Yes        Yes      62          Yes   \n",
              "9  5038-ETMLM  Female              0     Yes         No      72          Yes   \n",
              "\n",
              "      MultipleLines InternetService       OnlineSecurity         OnlineBackup  \\\n",
              "0                No              No  No internet service  No internet service   \n",
              "1                No             DSL                  Yes                  Yes   \n",
              "2                No              No  No internet service  No internet service   \n",
              "3  No phone service             DSL                   No                   No   \n",
              "4                No              No  No internet service  No internet service   \n",
              "5                No             DSL                   No                   No   \n",
              "6               Yes              No  No internet service  No internet service   \n",
              "7               Yes             DSL                  Yes                   No   \n",
              "8                No              No  No internet service  No internet service   \n",
              "9               Yes     Fiber optic                  Yes                  Yes   \n",
              "\n",
              "      DeviceProtection          TechSupport          StreamingTV  \\\n",
              "0  No internet service  No internet service  No internet service   \n",
              "1                   No                  Yes                  Yes   \n",
              "2  No internet service  No internet service  No internet service   \n",
              "3                   No                   No                   No   \n",
              "4  No internet service  No internet service  No internet service   \n",
              "5                   No                  Yes                   No   \n",
              "6  No internet service  No internet service  No internet service   \n",
              "7                  Yes                  Yes                  Yes   \n",
              "8  No internet service  No internet service  No internet service   \n",
              "9                  Yes                  Yes                  Yes   \n",
              "\n",
              "       StreamingMovies        Contract PaperlessBilling  \\\n",
              "0  No internet service  Month-to-month              Yes   \n",
              "1                   No        One year               No   \n",
              "2  No internet service        Two year               No   \n",
              "3                   No  Month-to-month              Yes   \n",
              "4  No internet service        Two year               No   \n",
              "5                   No  Month-to-month              Yes   \n",
              "6  No internet service  Month-to-month              Yes   \n",
              "7                  Yes        One year              Yes   \n",
              "8  No internet service        Two year               No   \n",
              "9                  Yes        Two year              Yes   \n",
              "\n",
              "               PaymentMethod  MonthlyCharges  TotalCharges Churn  \n",
              "0               Mailed check           19.30         19.30   Yes  \n",
              "1    Credit card (automatic)           70.80       4448.80    No  \n",
              "2    Credit card (automatic)           19.45       1208.60    No  \n",
              "3           Electronic check           23.45         23.45   Yes  \n",
              "4  Bank transfer (automatic)           20.05       1386.90    No  \n",
              "5               Mailed check           49.45        799.00    No  \n",
              "6           Electronic check           25.25        394.85    No  \n",
              "7    Credit card (automatic)           85.95       3110.10   Yes  \n",
              "8    Credit card (automatic)           20.65       1218.45    No  \n",
              "9  Bank transfer (automatic)          113.65       8182.75    No  "
            ]
          },
          "execution_count": 20,
          "metadata": {},
          "output_type": "execute_result"
        }
      ],
      "source": [
        "# Reset index pada data Inference dan data awal agar tidak terjadi error\n",
        "\n",
        "data_inf.reset_index(drop=True, inplace=True)\n",
        "data_train_val_test.reset_index(drop=True, inplace=True)\n",
        "\n",
        "data_inf"
      ]
    },
    {
      "cell_type": "markdown",
      "metadata": {
        "id": "8zN2hftyPJ0k"
      },
      "source": [
        "## 5.2 -- Splitting Between Train-Set, Val-Set and Test-Set"
      ]
    },
    {
      "cell_type": "markdown",
      "metadata": {
        "id": "ql0ugZodS5ig"
      },
      "source": [
        "Kita akan memisahkan data menjadi Train-Set, Validation Set, dan juga Test-Set."
      ]
    },
    {
      "cell_type": "code",
      "execution_count": 21,
      "metadata": {
        "id": "EUWU4D5KSfDh"
      },
      "outputs": [],
      "source": [
        "# Memisahkan `X` (Features) and `y` (Targets)\n",
        "\n",
        "X = data_train_val_test.drop('Churn', axis=1)\n",
        "y = data_train_val_test['Churn']"
      ]
    },
    {
      "cell_type": "code",
      "execution_count": 22,
      "metadata": {
        "colab": {
          "base_uri": "https://localhost:8080/"
        },
        "id": "LyHnje_hShbw",
        "outputId": "9702755d-3ce0-4e2f-f256-a9b4447fc0c8"
      },
      "outputs": [
        {
          "name": "stdout",
          "output_type": "stream",
          "text": [
            "Train Size :  (5379, 20)\n",
            "Val Size :  (950, 20)\n",
            "Test Size :  (704, 20)\n"
          ]
        }
      ],
      "source": [
        "X_train_val, X_test, y_train_val, y_test = train_test_split(X, y, test_size=0.1, random_state=12, stratify=data_train_val_test.Churn)\n",
        "X_train, X_val, y_train, y_val = train_test_split(X_train_val, y_train_val, test_size=0.15, random_state=12)\n",
        "\n",
        "print(\"Train Size : \", X_train.shape)\n",
        "print(\"Val Size : \", X_val.shape)\n",
        "print(\"Test Size : \", X_test.shape)"
      ]
    },
    {
      "cell_type": "markdown",
      "metadata": {
        "id": "QDdBKLj6PQ3A"
      },
      "source": [
        "## 5.3 -- Handling Missing Values"
      ]
    },
    {
      "cell_type": "markdown",
      "metadata": {
        "id": "fCi4r_MUS9EF"
      },
      "source": [
        "Kita akan melakukan check Missing Values pada Train Set dan Test Set."
      ]
    },
    {
      "cell_type": "markdown",
      "metadata": {
        "id": "wbJhASDiPQwL"
      },
      "source": [
        "### 1 -- Train_set"
      ]
    },
    {
      "cell_type": "code",
      "execution_count": 23,
      "metadata": {
        "colab": {
          "base_uri": "https://localhost:8080/"
        },
        "id": "7bXZIQ0GTAR8",
        "outputId": "c2966f3e-0d76-4356-831f-23507c116d40"
      },
      "outputs": [
        {
          "data": {
            "text/plain": [
              "customerID           0\n",
              "gender               0\n",
              "SeniorCitizen        0\n",
              "Partner              0\n",
              "Dependents           0\n",
              "tenure               0\n",
              "PhoneService         0\n",
              "MultipleLines        0\n",
              "InternetService      0\n",
              "OnlineSecurity       0\n",
              "OnlineBackup         0\n",
              "DeviceProtection     0\n",
              "TechSupport          0\n",
              "StreamingTV          0\n",
              "StreamingMovies      0\n",
              "Contract             0\n",
              "PaperlessBilling     0\n",
              "PaymentMethod        0\n",
              "MonthlyCharges       0\n",
              "TotalCharges        10\n",
              "dtype: int64"
            ]
          },
          "execution_count": 23,
          "metadata": {},
          "output_type": "execute_result"
        }
      ],
      "source": [
        "# Mengecek jumlah missing value tiap kolom pada Train-Set\n",
        "\n",
        "X_train.isnull().sum()"
      ]
    },
    {
      "cell_type": "code",
      "execution_count": 24,
      "metadata": {
        "colab": {
          "base_uri": "https://localhost:8080/"
        },
        "id": "_WqdkqNaTF1x",
        "outputId": "74e394d3-ab20-49f6-dca7-2f4370e2cb76"
      },
      "outputs": [
        {
          "data": {
            "text/plain": [
              "0"
            ]
          },
          "execution_count": 24,
          "metadata": {},
          "output_type": "execute_result"
        }
      ],
      "source": [
        "y_train.isnull().sum()"
      ]
    },
    {
      "cell_type": "markdown",
      "metadata": {
        "id": "uGjLk6hATKqX"
      },
      "source": [
        "Ternyata ada missing values pada kolom TotalCharges, dan karena kolom tersebut bertipe numeric dan tipe persebaran datanya skew, maka akan kita input missing values dengan nilai median."
      ]
    },
    {
      "cell_type": "code",
      "execution_count": 25,
      "metadata": {
        "colab": {
          "base_uri": "https://localhost:8080/"
        },
        "id": "D6AUZhWJTLXO",
        "outputId": "2822c560-3855-44b3-8a1f-b0892d31344d"
      },
      "outputs": [
        {
          "data": {
            "text/plain": [
              "0"
            ]
          },
          "execution_count": 25,
          "metadata": {},
          "output_type": "execute_result"
        }
      ],
      "source": [
        "X_train['TotalCharges'].fillna(int(data['TotalCharges'].median()), inplace=True)\n",
        "X_train['TotalCharges'].isnull().sum()"
      ]
    },
    {
      "cell_type": "markdown",
      "metadata": {
        "id": "_jeLzaYJPQr1"
      },
      "source": [
        "### 2 -- Val_set"
      ]
    },
    {
      "cell_type": "code",
      "execution_count": 26,
      "metadata": {
        "colab": {
          "base_uri": "https://localhost:8080/"
        },
        "id": "tF_dDnVXTA1y",
        "outputId": "7e038f5b-0630-4a9e-ec06-ca8f05900a0b"
      },
      "outputs": [
        {
          "data": {
            "text/plain": [
              "customerID          0\n",
              "gender              0\n",
              "SeniorCitizen       0\n",
              "Partner             0\n",
              "Dependents          0\n",
              "tenure              0\n",
              "PhoneService        0\n",
              "MultipleLines       0\n",
              "InternetService     0\n",
              "OnlineSecurity      0\n",
              "OnlineBackup        0\n",
              "DeviceProtection    0\n",
              "TechSupport         0\n",
              "StreamingTV         0\n",
              "StreamingMovies     0\n",
              "Contract            0\n",
              "PaperlessBilling    0\n",
              "PaymentMethod       0\n",
              "MonthlyCharges      0\n",
              "TotalCharges        0\n",
              "dtype: int64"
            ]
          },
          "execution_count": 26,
          "metadata": {},
          "output_type": "execute_result"
        }
      ],
      "source": [
        "# Mengecek jumlah missing value tiap kolom pada Test-Set\n",
        "\n",
        "X_val.isnull().sum()"
      ]
    },
    {
      "cell_type": "code",
      "execution_count": 27,
      "metadata": {
        "colab": {
          "base_uri": "https://localhost:8080/"
        },
        "id": "wc2_qMaiTRLe",
        "outputId": "82e2ea1f-65e8-4727-963e-27328274ae41"
      },
      "outputs": [
        {
          "data": {
            "text/plain": [
              "0"
            ]
          },
          "execution_count": 27,
          "metadata": {},
          "output_type": "execute_result"
        }
      ],
      "source": [
        "# Mengecek jumlah missing value tiap kolom pada Test-Set\n",
        "\n",
        "y_val.isnull().sum()"
      ]
    },
    {
      "cell_type": "markdown",
      "metadata": {
        "id": "tqPHOWm-TWKB"
      },
      "source": [
        "Ternyata terdapat missing values di kolom yang sama pada Validation Set, akan kita isi juga dengan median karena datanya bertipe skewed."
      ]
    },
    {
      "cell_type": "code",
      "execution_count": 28,
      "metadata": {
        "colab": {
          "base_uri": "https://localhost:8080/"
        },
        "id": "O7LMkYZ4TYPP",
        "outputId": "ac6cbe79-111f-4ebe-c803-65e50b9b04e3"
      },
      "outputs": [
        {
          "data": {
            "text/plain": [
              "0"
            ]
          },
          "execution_count": 28,
          "metadata": {},
          "output_type": "execute_result"
        }
      ],
      "source": [
        "X_val['TotalCharges'].fillna(int(data['TotalCharges'].median()), inplace=True)\n",
        "X_val['TotalCharges'].isnull().sum()"
      ]
    },
    {
      "cell_type": "markdown",
      "metadata": {
        "id": "57zG1uvDPQm3"
      },
      "source": [
        "### 3 -- Test_set"
      ]
    },
    {
      "cell_type": "code",
      "execution_count": 29,
      "metadata": {
        "colab": {
          "base_uri": "https://localhost:8080/"
        },
        "id": "-iE3I9qKTBgb",
        "outputId": "1a3c5947-3347-432b-c15d-87bb64e41998"
      },
      "outputs": [
        {
          "data": {
            "text/plain": [
              "customerID          0\n",
              "gender              0\n",
              "SeniorCitizen       0\n",
              "Partner             0\n",
              "Dependents          0\n",
              "tenure              0\n",
              "PhoneService        0\n",
              "MultipleLines       0\n",
              "InternetService     0\n",
              "OnlineSecurity      0\n",
              "OnlineBackup        0\n",
              "DeviceProtection    0\n",
              "TechSupport         0\n",
              "StreamingTV         0\n",
              "StreamingMovies     0\n",
              "Contract            0\n",
              "PaperlessBilling    0\n",
              "PaymentMethod       0\n",
              "MonthlyCharges      0\n",
              "TotalCharges        1\n",
              "dtype: int64"
            ]
          },
          "execution_count": 29,
          "metadata": {},
          "output_type": "execute_result"
        }
      ],
      "source": [
        "# Mengecek jumlah missing value tiap kolom pada Test-Set\n",
        "\n",
        "X_test.isnull().sum()"
      ]
    },
    {
      "cell_type": "code",
      "execution_count": 30,
      "metadata": {
        "colab": {
          "base_uri": "https://localhost:8080/"
        },
        "id": "qmTiYfTPTdaI",
        "outputId": "3dca13da-10b6-4f4e-de1f-b810bd81e782"
      },
      "outputs": [
        {
          "data": {
            "text/plain": [
              "0"
            ]
          },
          "execution_count": 30,
          "metadata": {},
          "output_type": "execute_result"
        }
      ],
      "source": [
        "y_test.isnull().sum()"
      ]
    },
    {
      "cell_type": "markdown",
      "metadata": {
        "id": "vpB56xKNTiC1"
      },
      "source": [
        "Ada missing values juga pada kolom TotalCharges dimana akan kita inputasi menggunakan nilai median."
      ]
    },
    {
      "cell_type": "code",
      "execution_count": 31,
      "metadata": {
        "colab": {
          "base_uri": "https://localhost:8080/"
        },
        "id": "quhX5udPTg3p",
        "outputId": "e514dba8-be11-4578-eba7-5e38c1d040e3"
      },
      "outputs": [
        {
          "data": {
            "text/plain": [
              "0"
            ]
          },
          "execution_count": 31,
          "metadata": {},
          "output_type": "execute_result"
        }
      ],
      "source": [
        "X_test['TotalCharges'].fillna(int(data['TotalCharges'].median()), inplace=True)\n",
        "X_test['TotalCharges'].isnull().sum()"
      ]
    },
    {
      "cell_type": "markdown",
      "metadata": {
        "id": "sPauAC93PQiS"
      },
      "source": [
        "## 5.4 -- Handling Outliers"
      ]
    },
    {
      "cell_type": "markdown",
      "metadata": {
        "id": "ufAp_GGAPjqS"
      },
      "source": [
        "### 1 -- Check Distribution"
      ]
    },
    {
      "cell_type": "markdown",
      "metadata": {
        "id": "PH8GQtjVTm82"
      },
      "source": [
        "Sebelum menentukan metode handling outliers, kita harus mengetahui tipe distribusi dari data kita."
      ]
    },
    {
      "cell_type": "code",
      "execution_count": 32,
      "metadata": {
        "id": "b4kt2WHjTpVx"
      },
      "outputs": [],
      "source": [
        "def diagnostic_plots(df, variable):\n",
        "    # Define figure size\n",
        "    plt.figure(figsize=(16, 4))\n",
        "\n",
        "    # Histogram\n",
        "    plt.subplot(1, 2, 1)\n",
        "    sns.histplot(df[variable], bins=30)\n",
        "    plt.title(f'{variable} Histogram')\n",
        "\n",
        "    # Boxplot\n",
        "    plt.subplot(1, 2, 2)\n",
        "    sns.boxplot(y=df[variable])\n",
        "    plt.title(f'{variable} Boxplot')\n",
        "\n",
        "    plt.show()\n",
        "\n",
        "    print(variable, 'skewness value : ', df[variable].skew())"
      ]
    },
    {
      "cell_type": "code",
      "execution_count": 33,
      "metadata": {
        "colab": {
          "base_uri": "https://localhost:8080/"
        },
        "id": "HDpdjLuNTsBq",
        "outputId": "8147a066-bdb4-4064-8d14-6437539ca6c7"
      },
      "outputs": [
        {
          "data": {
            "image/png": "[encoded data removed]",
            "text/plain": [
              "<Figure size 1152x288 with 2 Axes>"
            ]
          },
          "metadata": {
            "needs_background": "light"
          },
          "output_type": "display_data"
        },
        {
          "name": "stdout",
          "output_type": "stream",
          "text": [
            "tenure skewness value :  0.2311142699308985\n"
          ]
        },
        {
          "data": {
            "image/png": "[encoded data removed]",
            "text/plain": [
              "<Figure size 1152x288 with 2 Axes>"
            ]
          },
          "metadata": {
            "needs_background": "light"
          },
          "output_type": "display_data"
        },
        {
          "name": "stdout",
          "output_type": "stream",
          "text": [
            "MonthlyCharges skewness value :  -0.21893543144863678\n"
          ]
        },
        {
          "data": {
            "image/png": "[encoded data removed]",
            "text/plain": [
              "<Figure size 1152x288 with 2 Axes>"
            ]
          },
          "metadata": {
            "needs_background": "light"
          },
          "output_type": "display_data"
        },
        {
          "name": "stdout",
          "output_type": "stream",
          "text": [
            "TotalCharges skewness value :  0.9621959560117905\n"
          ]
        }
      ],
      "source": [
        "diagnostic_plots(X_train, 'tenure')\n",
        "diagnostic_plots(X_train, 'MonthlyCharges')\n",
        "diagnostic_plots(X_train, 'TotalCharges')"
      ]
    },
    {
      "cell_type": "markdown",
      "metadata": {
        "id": "NdT7PCSpTvh5"
      },
      "source": [
        "Ternyata kolom numeric kita tidak memiliki outliers di dalamnya sehingga kita bisa melanjutkan ke tahap selanjutnya."
      ]
    },
    {
      "cell_type": "markdown",
      "metadata": {
        "id": "oElG1QUFPxe_"
      },
      "source": [
        "### 2 -- Handling Outliers"
      ]
    },
    {
      "cell_type": "markdown",
      "metadata": {
        "id": "Xph0yHsiPjby"
      },
      "source": [
        "## 5.5 -- Features Selection"
      ]
    },
    {
      "cell_type": "markdown",
      "metadata": {
        "id": "JBxHrEnZVq-U"
      },
      "source": [
        "Untuk permulaan saya akan coba untuk menggunakan semua feature kecuali customerID."
      ]
    },
    {
      "cell_type": "code",
      "execution_count": 34,
      "metadata": {
        "colab": {
          "base_uri": "https://localhost:8080/"
        },
        "id": "BROo6L3wU8Qh",
        "outputId": "e6a72652-7e53-484f-84b0-f3cd409efbb0"
      },
      "outputs": [
        {
          "data": {
            "text/html": [
              "<div>\n",
              "<style scoped>\n",
              "    .dataframe tbody tr th:only-of-type {\n",
              "        vertical-align: middle;\n",
              "    }\n",
              "\n",
              "    .dataframe tbody tr th {\n",
              "        vertical-align: top;\n",
              "    }\n",
              "\n",
              "    .dataframe thead th {\n",
              "        text-align: right;\n",
              "    }\n",
              "</style>\n",
              "<table border=\"1\" class=\"dataframe\">\n",
              "  <thead>\n",
              "    <tr style=\"text-align: right;\">\n",
              "      <th></th>\n",
              "      <th>gender</th>\n",
              "      <th>SeniorCitizen</th>\n",
              "      <th>Partner</th>\n",
              "      <th>Dependents</th>\n",
              "      <th>tenure</th>\n",
              "      <th>PhoneService</th>\n",
              "      <th>MultipleLines</th>\n",
              "      <th>InternetService</th>\n",
              "      <th>OnlineSecurity</th>\n",
              "      <th>OnlineBackup</th>\n",
              "      <th>DeviceProtection</th>\n",
              "      <th>TechSupport</th>\n",
              "      <th>StreamingTV</th>\n",
              "      <th>StreamingMovies</th>\n",
              "      <th>Contract</th>\n",
              "      <th>PaperlessBilling</th>\n",
              "      <th>PaymentMethod</th>\n",
              "      <th>MonthlyCharges</th>\n",
              "      <th>TotalCharges</th>\n",
              "    </tr>\n",
              "  </thead>\n",
              "  <tbody>\n",
              "    <tr>\n",
              "      <th>2819</th>\n",
              "      <td>Male</td>\n",
              "      <td>1</td>\n",
              "      <td>Yes</td>\n",
              "      <td>No</td>\n",
              "      <td>1</td>\n",
              "      <td>Yes</td>\n",
              "      <td>Yes</td>\n",
              "      <td>Fiber optic</td>\n",
              "      <td>No</td>\n",
              "      <td>No</td>\n",
              "      <td>No</td>\n",
              "      <td>No</td>\n",
              "      <td>No</td>\n",
              "      <td>No</td>\n",
              "      <td>Month-to-month</td>\n",
              "      <td>Yes</td>\n",
              "      <td>Electronic check</td>\n",
              "      <td>74.40</td>\n",
              "      <td>74.40</td>\n",
              "    </tr>\n",
              "    <tr>\n",
              "      <th>289</th>\n",
              "      <td>Male</td>\n",
              "      <td>0</td>\n",
              "      <td>No</td>\n",
              "      <td>No</td>\n",
              "      <td>10</td>\n",
              "      <td>Yes</td>\n",
              "      <td>No</td>\n",
              "      <td>DSL</td>\n",
              "      <td>No</td>\n",
              "      <td>No</td>\n",
              "      <td>No</td>\n",
              "      <td>No</td>\n",
              "      <td>No</td>\n",
              "      <td>No</td>\n",
              "      <td>Month-to-month</td>\n",
              "      <td>Yes</td>\n",
              "      <td>Credit card (automatic)</td>\n",
              "      <td>44.85</td>\n",
              "      <td>435.40</td>\n",
              "    </tr>\n",
              "    <tr>\n",
              "      <th>2361</th>\n",
              "      <td>Male</td>\n",
              "      <td>0</td>\n",
              "      <td>No</td>\n",
              "      <td>No</td>\n",
              "      <td>1</td>\n",
              "      <td>Yes</td>\n",
              "      <td>No</td>\n",
              "      <td>DSL</td>\n",
              "      <td>No</td>\n",
              "      <td>No</td>\n",
              "      <td>No</td>\n",
              "      <td>No</td>\n",
              "      <td>No</td>\n",
              "      <td>No</td>\n",
              "      <td>Month-to-month</td>\n",
              "      <td>Yes</td>\n",
              "      <td>Electronic check</td>\n",
              "      <td>44.75</td>\n",
              "      <td>44.75</td>\n",
              "    </tr>\n",
              "    <tr>\n",
              "      <th>5632</th>\n",
              "      <td>Male</td>\n",
              "      <td>0</td>\n",
              "      <td>No</td>\n",
              "      <td>No</td>\n",
              "      <td>6</td>\n",
              "      <td>Yes</td>\n",
              "      <td>No</td>\n",
              "      <td>No</td>\n",
              "      <td>No internet service</td>\n",
              "      <td>No internet service</td>\n",
              "      <td>No internet service</td>\n",
              "      <td>No internet service</td>\n",
              "      <td>No internet service</td>\n",
              "      <td>No internet service</td>\n",
              "      <td>Month-to-month</td>\n",
              "      <td>No</td>\n",
              "      <td>Mailed check</td>\n",
              "      <td>20.65</td>\n",
              "      <td>109.30</td>\n",
              "    </tr>\n",
              "    <tr>\n",
              "      <th>7006</th>\n",
              "      <td>Female</td>\n",
              "      <td>0</td>\n",
              "      <td>No</td>\n",
              "      <td>No</td>\n",
              "      <td>1</td>\n",
              "      <td>Yes</td>\n",
              "      <td>No</td>\n",
              "      <td>DSL</td>\n",
              "      <td>No</td>\n",
              "      <td>Yes</td>\n",
              "      <td>No</td>\n",
              "      <td>No</td>\n",
              "      <td>No</td>\n",
              "      <td>No</td>\n",
              "      <td>Month-to-month</td>\n",
              "      <td>No</td>\n",
              "      <td>Electronic check</td>\n",
              "      <td>49.95</td>\n",
              "      <td>49.95</td>\n",
              "    </tr>\n",
              "  </tbody>\n",
              "</table>\n",
              "</div>"
            ],
            "text/plain": [
              "      gender  SeniorCitizen Partner Dependents  tenure PhoneService  \\\n",
              "2819    Male              1     Yes         No       1          Yes   \n",
              "289     Male              0      No         No      10          Yes   \n",
              "2361    Male              0      No         No       1          Yes   \n",
              "5632    Male              0      No         No       6          Yes   \n",
              "7006  Female              0      No         No       1          Yes   \n",
              "\n",
              "     MultipleLines InternetService       OnlineSecurity         OnlineBackup  \\\n",
              "2819           Yes     Fiber optic                   No                   No   \n",
              "289             No             DSL                   No                   No   \n",
              "2361            No             DSL                   No                   No   \n",
              "5632            No              No  No internet service  No internet service   \n",
              "7006            No             DSL                   No                  Yes   \n",
              "\n",
              "         DeviceProtection          TechSupport          StreamingTV  \\\n",
              "2819                   No                   No                   No   \n",
              "289                    No                   No                   No   \n",
              "2361                   No                   No                   No   \n",
              "5632  No internet service  No internet service  No internet service   \n",
              "7006                   No                   No                   No   \n",
              "\n",
              "          StreamingMovies        Contract PaperlessBilling  \\\n",
              "2819                   No  Month-to-month              Yes   \n",
              "289                    No  Month-to-month              Yes   \n",
              "2361                   No  Month-to-month              Yes   \n",
              "5632  No internet service  Month-to-month               No   \n",
              "7006                   No  Month-to-month               No   \n",
              "\n",
              "                PaymentMethod  MonthlyCharges  TotalCharges  \n",
              "2819         Electronic check           74.40         74.40  \n",
              "289   Credit card (automatic)           44.85        435.40  \n",
              "2361         Electronic check           44.75         44.75  \n",
              "5632             Mailed check           20.65        109.30  \n",
              "7006         Electronic check           49.95         49.95  "
            ]
          },
          "execution_count": 34,
          "metadata": {},
          "output_type": "execute_result"
        }
      ],
      "source": [
        "# drop columns\n",
        "\n",
        "X_train.drop(columns=['customerID'], axis=1, inplace=True)\n",
        "X_val.drop(columns=['customerID'], axis=1, inplace=True)\n",
        "X_test.drop(columns=['customerID'], axis=1, inplace=True)\n",
        "X_train.head()"
      ]
    },
    {
      "cell_type": "markdown",
      "metadata": {
        "id": "pxK49goMPjY6"
      },
      "source": [
        "## 5.6 -- Split between Numerical Columns and Categorical Columns"
      ]
    },
    {
      "cell_type": "code",
      "execution_count": 35,
      "metadata": {
        "colab": {
          "base_uri": "https://localhost:8080/"
        },
        "id": "NDUrFVFwV-zP",
        "outputId": "5d4c4a20-ac1b-4c7c-8162-f4bcf676410f"
      },
      "outputs": [
        {
          "name": "stdout",
          "output_type": "stream",
          "text": [
            "Numerical Columns Normal :  ['tenure', 'MonthlyCharges']\n",
            "Numerical Columns Skewed :  ['TotalCharges']\n",
            "Categorical Columns :  ['gender', 'Partner', 'Dependents', 'PhoneService', 'MultipleLines', 'InternetService', 'OnlineSecurity', 'OnlineBackup', 'DeviceProtection', 'TechSupport', 'StreamingTV', 'StreamingMovies', 'Contract', 'PaperlessBilling', 'PaymentMethod']\n",
            "Categorical Columns Encoded :  ['SeniorCitizen']\n"
          ]
        }
      ],
      "source": [
        "# Mendapatkan list Numerical columns dan Categorical columns\n",
        "\n",
        "num_cols_norm = ['tenure', 'MonthlyCharges']\n",
        "num_cols_skew = ['TotalCharges']\n",
        "cat_pass = ['SeniorCitizen']\n",
        "cat_cols = X_train.select_dtypes(include='object').columns.tolist()\n",
        "\n",
        "print('Numerical Columns Normal : ', num_cols_norm)\n",
        "print('Numerical Columns Skewed : ', num_cols_skew)\n",
        "print('Categorical Columns : ', cat_cols)\n",
        "print('Categorical Columns Encoded : ', cat_pass)"
      ]
    },
    {
      "cell_type": "markdown",
      "metadata": {
        "id": "RptDTJKuPjV7"
      },
      "source": [
        "## 5.7 -- Features Engineering"
      ]
    },
    {
      "cell_type": "markdown",
      "metadata": {
        "id": "tP9Gvay5WfVo"
      },
      "source": [
        "Kita akan melakukan scaling dan encoding menggunakan pipeline."
      ]
    },
    {
      "cell_type": "markdown",
      "metadata": {
        "id": "khe_kuOVWiZR"
      },
      "source": [
        "Karena data kita di atas ada yang bertipe skewed dan ada yang normal, maka akan dilakukan scaling menggunakan MinMaxScaler untuk yang skewed dan StandardScaler untuk yang normal. Untuk kolom categorical akan digunakan OneHotEncoder."
      ]
    },
    {
      "cell_type": "code",
      "execution_count": 36,
      "metadata": {
        "id": "Ik6BUeXWaL0T"
      },
      "outputs": [],
      "source": [
        "# # Numeric and Categorical Features Engineering Pipeline\n",
        "# skew_pipe = Pipeline([(SimpleImputer(strategy='median'), MinMaxScaler())])\n",
        "# norm_pipe = Pipeline([(SimpleImputer(strategy='mean'), StandardScaler())])\n",
        "# cat_pipe = Pipeline([(OneHotEncoder())])\n",
        "\n",
        "# # Preprocessing Pipeline\n",
        "# preprocess_pipe = ColumnTransformer([\n",
        "#     ('norm', norm_pipe, num_cols_norm),\n",
        "#     ('skew', skew_pipe, num_cols_skew),\n",
        "#     ('cat', cat_pipe, cat_cols),\n",
        "#     ('pass', 'passthrough', cat_pass)\n",
        "# ])"
      ]
    },
    {
      "cell_type": "code",
      "execution_count": 37,
      "metadata": {
        "id": "7gjiZz-IWmaq"
      },
      "outputs": [],
      "source": [
        "# # fit and transform\n",
        "\n",
        "# X_train = preprocess_pipe.fit_transform(X_train)\n",
        "# X_val = preprocess_pipe.transform(X_val)\n",
        "# X_test = preprocess_pipe.transform(X_test)\n",
        "# X_train.shape"
      ]
    },
    {
      "cell_type": "code",
      "execution_count": 38,
      "metadata": {
        "id": "VIOtPIMxhDTM"
      },
      "outputs": [],
      "source": [
        "# Numeric and Categorical Features Engineering Pipeline\n",
        "skew_pipe = Pipeline([('skew_scale', MinMaxScaler())])\n",
        "norm_pipe = Pipeline([('norm_scale', StandardScaler())])\n",
        "cat_pipe = Pipeline([('encode', OneHotEncoder())])\n",
        "\n",
        "# Preprocessing Pipeline\n",
        "preprocess = ColumnTransformer([\n",
        "    ('norm', norm_pipe, num_cols_norm),\n",
        "    ('skew', skew_pipe, num_cols_skew),\n",
        "    ('cat', cat_pipe, cat_cols),\n",
        "    ('pass', 'passthrough', cat_pass)\n",
        "])"
      ]
    },
    {
      "cell_type": "code",
      "execution_count": 39,
      "metadata": {
        "colab": {
          "base_uri": "https://localhost:8080/"
        },
        "id": "BmYhREmChDF4",
        "outputId": "09f5a83c-cfdb-4f05-ecb7-0c81860445b7"
      },
      "outputs": [
        {
          "data": {
            "text/plain": [
              "(5379, 45)"
            ]
          },
          "execution_count": 39,
          "metadata": {},
          "output_type": "execute_result"
        }
      ],
      "source": [
        "# fit and transform\n",
        "\n",
        "X_train = preprocess.fit_transform(X_train)\n",
        "X_val = preprocess.transform(X_val)\n",
        "X_test = preprocess.transform(X_test)\n",
        "X_train.shape"
      ]
    },
    {
      "cell_type": "code",
      "execution_count": 40,
      "metadata": {
        "id": "HPBzfLB9MmhD"
      },
      "outputs": [],
      "source": [
        "# Save Pipeline\n",
        "\n",
        "# with open('preprocess.pkl', 'wb') as file_1:\n",
        "#   joblib.dump(preprocess, file_1)"
      ]
    },
    {
      "cell_type": "markdown",
      "metadata": {
        "id": "lz9TLXElQFOv"
      },
      "source": [
        "## 5.8 -- Encoding Target"
      ]
    },
    {
      "cell_type": "code",
      "execution_count": 41,
      "metadata": {
        "id": "0aPYmbjliSS7"
      },
      "outputs": [],
      "source": [
        "# Encode the target\n",
        "\n",
        "label_enc = LabelEncoder()\n",
        "\n",
        "y_train_encoded = label_enc.fit_transform(y_train)\n",
        "y_val_encoded = label_enc.transform(y_val)\n",
        "y_test_encoded = label_enc.transform(y_test)"
      ]
    },
    {
      "cell_type": "code",
      "execution_count": 42,
      "metadata": {
        "colab": {
          "base_uri": "https://localhost:8080/"
        },
        "id": "_OVcOwV3XC8d",
        "outputId": "ca8d4771-6d8f-4025-ccb6-d848bbd10f82"
      },
      "outputs": [
        {
          "data": {
            "text/plain": [
              "(5379, 1)"
            ]
          },
          "execution_count": 42,
          "metadata": {},
          "output_type": "execute_result"
        }
      ],
      "source": [
        "# Convert to dataframe\n",
        "\n",
        "y_train_final = pd.DataFrame(y_train_encoded, columns=['Churn'])\n",
        "y_val_final = pd.DataFrame(y_val_encoded, columns=['Churn'])\n",
        "y_test_final = pd.DataFrame(y_test_encoded, columns=['Churn'])\n",
        "\n",
        "y_train_final.shape"
      ]
    },
    {
      "cell_type": "code",
      "execution_count": 43,
      "metadata": {
        "id": "LFcqj0ZDM43O"
      },
      "outputs": [],
      "source": [
        "# Save label_enc\n",
        "\n",
        "# with open('label_enc.pkl', 'wb') as file_2:\n",
        "#   joblib.dump(label_enc, file_2)"
      ]
    },
    {
      "cell_type": "markdown",
      "metadata": {
        "id": "tu2-yz3IQQ_x"
      },
      "source": [
        "## 5.9 -- Tensor Pipeline"
      ]
    },
    {
      "cell_type": "code",
      "execution_count": 44,
      "metadata": {
        "id": "LTq2AEjkXENY"
      },
      "outputs": [],
      "source": [
        "# Create training dataset\n",
        "train_dataset = tf.data.Dataset.from_tensor_slices((X_train, y_train_final))\n",
        "train_dataset = train_dataset.shuffle(100).batch(64).repeat(2).prefetch(tf.data.AUTOTUNE)\n",
        "\n",
        "# Create val dataset\n",
        "val_dataset = tf.data.Dataset.from_tensor_slices((X_val, y_val_final))\n",
        "val_dataset = val_dataset.batch(64)\n",
        "\n",
        "# Create test dataset\n",
        "test_dataset = tf.data.Dataset.from_tensor_slices((X_test, y_test_final))\n",
        "test_dataset = test_dataset.batch(64)"
      ]
    },
    {
      "cell_type": "code",
      "execution_count": 45,
      "metadata": {
        "colab": {
          "base_uri": "https://localhost:8080/"
        },
        "id": "L2V4iTVRnYVa",
        "outputId": "0266cb7f-de3b-457b-9236-fd7eba8bd70e"
      },
      "outputs": [
        {
          "name": "stdout",
          "output_type": "stream",
          "text": [
            "(<tf.Tensor: shape=(64, 45), dtype=float64, numpy=\n",
            "array([[-0.30418305, -0.30617597,  0.15999308, ...,  0.        ,\n",
            "         0.        ,  0.        ],\n",
            "       [ 0.18354349, -1.48341126,  0.08850104, ...,  0.        ,\n",
            "         0.        ,  0.        ],\n",
            "       [-0.5886902 ,  0.83946683,  0.17407685, ...,  0.        ,\n",
            "         0.        ,  0.        ],\n",
            "       ...,\n",
            "       [-0.9544851 , -1.32378613,  0.01978421, ...,  1.        ,\n",
            "         0.        ,  0.        ],\n",
            "       [-0.83255347, -1.51001544,  0.02314216, ...,  0.        ,\n",
            "         0.        ,  0.        ],\n",
            "       [-0.42611468,  0.99576643,  0.2187976 , ...,  0.        ,\n",
            "         0.        ,  0.        ]])>, <tf.Tensor: shape=(64, 1), dtype=int32, numpy=\n",
            "array([[0],\n",
            "       [0],\n",
            "       [1],\n",
            "       [1],\n",
            "       [0],\n",
            "       [0],\n",
            "       [0],\n",
            "       [0],\n",
            "       [0],\n",
            "       [0],\n",
            "       [1],\n",
            "       [0],\n",
            "       [0],\n",
            "       [0],\n",
            "       [0],\n",
            "       [0],\n",
            "       [0],\n",
            "       [0],\n",
            "       [0],\n",
            "       [0],\n",
            "       [0],\n",
            "       [0],\n",
            "       [0],\n",
            "       [0],\n",
            "       [1],\n",
            "       [0],\n",
            "       [0],\n",
            "       [0],\n",
            "       [0],\n",
            "       [0],\n",
            "       [0],\n",
            "       [0],\n",
            "       [0],\n",
            "       [0],\n",
            "       [0],\n",
            "       [0],\n",
            "       [0],\n",
            "       [1],\n",
            "       [1],\n",
            "       [1],\n",
            "       [0],\n",
            "       [0],\n",
            "       [0],\n",
            "       [0],\n",
            "       [0],\n",
            "       [1],\n",
            "       [0],\n",
            "       [0],\n",
            "       [1],\n",
            "       [1],\n",
            "       [0],\n",
            "       [0],\n",
            "       [0],\n",
            "       [0],\n",
            "       [1],\n",
            "       [1],\n",
            "       [0],\n",
            "       [0],\n",
            "       [0],\n",
            "       [1],\n",
            "       [0],\n",
            "       [0],\n",
            "       [0],\n",
            "       [1]])>)\n"
          ]
        }
      ],
      "source": [
        "for row in train_dataset.take(1):\n",
        "  print(row)"
      ]
    },
    {
      "cell_type": "markdown",
      "metadata": {
        "id": "3ms1g-mrXodT"
      },
      "source": [
        "Karena kita sudah mendefinisikan batch 64 di Tensor Pipeline maka kita tidak akan mendefinisikan batch size di model training."
      ]
    },
    {
      "cell_type": "markdown",
      "metadata": {
        "id": "PtO420FzQytQ"
      },
      "source": [
        "# 6 - Sequential API"
      ]
    },
    {
      "cell_type": "markdown",
      "metadata": {
        "id": "gWuVfuIXVPGa"
      },
      "source": [
        "## 6.1 - Baseline Model"
      ]
    },
    {
      "cell_type": "code",
      "execution_count": 46,
      "metadata": {
        "colab": {
          "base_uri": "https://localhost:8080/"
        },
        "id": "lf0YGWN7U3jU",
        "outputId": "0859a790-875e-4bc8-d1d7-39a4f011b36c"
      },
      "outputs": [
        {
          "data": {
            "text/plain": [
              "(5379, 45)"
            ]
          },
          "execution_count": 46,
          "metadata": {},
          "output_type": "execute_result"
        }
      ],
      "source": [
        "X_train.shape"
      ]
    },
    {
      "cell_type": "code",
      "execution_count": 47,
      "metadata": {
        "colab": {
          "base_uri": "https://localhost:8080/"
        },
        "id": "qU0PxHEUXxG7",
        "outputId": "23dae62e-f234-4632-ea8b-21e08a33a0d8"
      },
      "outputs": [
        {
          "name": "stdout",
          "output_type": "stream",
          "text": [
            "Model: \"sequential\"\n",
            "_________________________________________________________________\n",
            " Layer (type)                Output Shape              Param #   \n",
            "=================================================================\n",
            " dense (Dense)               (None, 4)                 184       \n",
            "                                                                 \n",
            " dense_1 (Dense)             (None, 1)                 5         \n",
            "                                                                 \n",
            "=================================================================\n",
            "Total params: 189\n",
            "Trainable params: 189\n",
            "Non-trainable params: 0\n",
            "_________________________________________________________________\n"
          ]
        }
      ],
      "source": [
        "# Create Sequential_Model_Baseline\n",
        "\n",
        "model_seq_bs = Sequential()\n",
        "model_seq_bs.add(Dense(4, input_shape=(45,))) # Hidden layer 1\n",
        "model_seq_bs.add(Dense(1)) # Output layer\n",
        "\n",
        "model_seq_bs.compile(loss='binary_crossentropy',\n",
        "                  metrics=['accuracy'])\n",
        "\n",
        "model_seq_bs.summary()"
      ]
    },
    {
      "cell_type": "markdown",
      "metadata": {
        "id": "yMuBNbJeWq8P"
      },
      "source": [
        "**Baseline Sequential Model merupakan Multilayer Perceptron untuk binary classification yaitu model yang memiliki minimal 1 hidden layer dan menghasilkan 1 output.**\n",
        "\n",
        "**Model terdiri dari 3 layer yaitu:**\n",
        "1. Layer input: menerima 45 neuron input sesuai dengan jumlah feature yang diinput setelah scaling, encoding, dan tensor_pipeline.\n",
        "2. Hidden layer: terdiri dari 4 neuron sebagai tebakan awal.\n",
        "3. Output layer: menghasilkan 1 neuron digunakan untuk dataset binary classification.\n",
        "\n",
        "**Parameter pada compile adalah:**\n",
        "1. Loss function: binary_crossentropy. Model menggunakan loss function binary_cronssentropy karena dataset binary classification\n",
        "2. Metric: accuracy. Model menggunakan metric accuracy."
      ]
    },
    {
      "cell_type": "code",
      "execution_count": 48,
      "metadata": {
        "colab": {
          "base_uri": "https://localhost:8080/"
        },
        "id": "nA5ownV7UO3U",
        "outputId": "9286bb44-00a8-4e30-b16f-c6911472877a"
      },
      "outputs": [
        {
          "name": "stdout",
          "output_type": "stream",
          "text": [
            "Epoch 1/10\n",
            "170/170 [==============================] - 2s 4ms/step - loss: 1.0999 - accuracy: 0.7312 - val_loss: 0.6733 - val_accuracy: 0.7611\n",
            "Epoch 2/10\n",
            "170/170 [==============================] - 1s 3ms/step - loss: 0.5874 - accuracy: 0.7735 - val_loss: 0.5367 - val_accuracy: 0.7874\n",
            "Epoch 3/10\n",
            "170/170 [==============================] - 0s 3ms/step - loss: 0.5323 - accuracy: 0.7889 - val_loss: 0.5230 - val_accuracy: 0.7884\n",
            "Epoch 4/10\n",
            "170/170 [==============================] - 0s 3ms/step - loss: 0.5253 - accuracy: 0.7973 - val_loss: 0.5329 - val_accuracy: 0.7947\n",
            "Epoch 5/10\n",
            "170/170 [==============================] - 0s 3ms/step - loss: 0.5273 - accuracy: 0.8020 - val_loss: 0.5304 - val_accuracy: 0.7916\n",
            "Epoch 6/10\n",
            "170/170 [==============================] - 0s 3ms/step - loss: 0.5269 - accuracy: 0.8042 - val_loss: 0.5283 - val_accuracy: 0.7979\n",
            "Epoch 7/10\n",
            "170/170 [==============================] - 0s 3ms/step - loss: 0.5292 - accuracy: 0.8015 - val_loss: 0.5429 - val_accuracy: 0.7989\n",
            "Epoch 8/10\n",
            "170/170 [==============================] - 0s 3ms/step - loss: 0.5290 - accuracy: 0.8024 - val_loss: 0.5282 - val_accuracy: 0.7916\n",
            "Epoch 9/10\n",
            "170/170 [==============================] - 0s 3ms/step - loss: 0.5275 - accuracy: 0.8036 - val_loss: 0.5288 - val_accuracy: 0.7968\n",
            "Epoch 10/10\n",
            "170/170 [==============================] - 0s 3ms/step - loss: 0.5245 - accuracy: 0.8042 - val_loss: 0.5279 - val_accuracy: 0.8021\n"
          ]
        }
      ],
      "source": [
        "# Train Sequential Model\n",
        "history_seq_bs = model_seq_bs.fit(train_dataset, validation_data=(val_dataset), epochs=10, verbose=1)"
      ]
    },
    {
      "cell_type": "markdown",
      "metadata": {
        "id": "PFxB23gbaHl6"
      },
      "source": [
        "**Baseline Sequential Model di train menggunakan batch 64 (lihat tensor pipeline) dan epoch 10.**"
      ]
    },
    {
      "cell_type": "code",
      "execution_count": 49,
      "metadata": {
        "colab": {
          "base_uri": "https://localhost:8080/",
          "height": 558
        },
        "id": "zCt4WYZnayTm",
        "outputId": "adfb4f31-9a34-4546-d7d9-c41dc6e03037"
      },
      "outputs": [
        {
          "data": {
            "text/plain": [
              "<matplotlib.legend.Legend at 0x1d85ee7ab30>"
            ]
          },
          "execution_count": 49,
          "metadata": {},
          "output_type": "execute_result"
        },
        {
          "data": {
            "image/png": "[encoded data removed]",
            "text/plain": [
              "<Figure size 432x288 with 1 Axes>"
            ]
          },
          "metadata": {
            "needs_background": "light"
          },
          "output_type": "display_data"
        },
        {
          "data": {
            "image/png": "[encoded data removed]",
            "text/plain": [
              "<Figure size 432x288 with 1 Axes>"
            ]
          },
          "metadata": {
            "needs_background": "light"
          },
          "output_type": "display_data"
        }
      ],
      "source": [
        "# plot loss\n",
        "fig, ax = plt.subplots()\n",
        "ax.plot(range(10),history_seq_bs.history['accuracy'],label='accuracy')\n",
        "ax.plot(range(10),history_seq_bs.history['val_accuracy'],label='val accuracy')\n",
        "\n",
        "ax.set_xlabel('Epoch')\n",
        "ax.set_ylabel('Loss')\n",
        "plt.legend()\n",
        "\n",
        "# plot loss\n",
        "fig, ax = plt.subplots()\n",
        "ax.plot(range(10),history_seq_bs.history['loss'],label='train loss')\n",
        "ax.plot(range(10),history_seq_bs.history['val_loss'],label='val loss')\n",
        "\n",
        "ax.set_xlabel('Epoch')\n",
        "ax.set_ylabel('Loss')\n",
        "plt.legend()"
      ]
    },
    {
      "cell_type": "code",
      "execution_count": 50,
      "metadata": {
        "colab": {
          "base_uri": "https://localhost:8080/"
        },
        "id": "zQtTHz2rbcXW",
        "outputId": "a011344d-1128-4897-a46b-fd3a404ae203"
      },
      "outputs": [
        {
          "name": "stdout",
          "output_type": "stream",
          "text": [
            "22/22 [==============================] - 0s 2ms/step\n",
            "              precision    recall  f1-score   support\n",
            "\n",
            "           0       0.83      0.88      0.86       517\n",
            "           1       0.61      0.49      0.54       187\n",
            "\n",
            "    accuracy                           0.78       704\n",
            "   macro avg       0.72      0.69      0.70       704\n",
            "weighted avg       0.77      0.78      0.77       704\n",
            "\n"
          ]
        }
      ],
      "source": [
        "# Model evaluation using clasification report\n",
        "\n",
        "y_pred_seq = model_seq_bs.predict(X_test)\n",
        "y_pred_seq = np.where(y_pred_seq >= 0.5, 1, 0)\n",
        "\n",
        "print(classification_report(y_test_final, y_pred_seq))"
      ]
    },
    {
      "cell_type": "markdown",
      "metadata": {
        "id": "siALtunzcFbn"
      },
      "source": [
        "**Berdasarkan visualisasi terlihat accuracy dan loss dari train_dataset dan val_dataset sudah cukup baik.** Accuracy mengalami kenaikan dengan gap yang kecil antar train_dataset dan val_dataset. Accuracy val_dataset menyentuh angka 0.7905 di akhir epoch. Loss mengalami penurunan dengan gap yang kecil antar train_dataset dan val_dataset. Loss val_dataset menyentuh angka 0.5773 di akhir epoch.\n",
        "\n",
        "**Churn merupakan suatu kejadian dimana seorang customer memutus hubungan dengan perusahaan kita.** Tujuan kita adalah untuk meminimalisir churn rate sehingga kita akan berfokus pada label 0 yaitu orang yang tidak churn. Dengan berfokus ke label 0 kita bisa lebih menargetkan promo atau fitur atau service baru kepada customer yang tersebut agar bertahan sambil mencari customer baru.\n",
        "\n",
        "**Berdasarkan classification record, model memiliki precision 0.84 dan recall sebesar 0.89 yang tergolong tinggi.**\n",
        "\n",
        "- Precision : Jadi dari 517 customer yang tidak churn, kita berhasil mengklasifikasikan 84% customer benar tidak churn dan dan salah mengklasifikasikan 16% sisanya sebagai customer yang churn padahal seharusnya tidak churn.\n",
        "- Recall : Jadi dari 517 customer yang tidak churn, kita berhasil mengklasifikasikan 88% customer benar tidak churn dan salah mengklasifikasikan 12% yang seharusnya dia churn tapi kita anggap sebagai tidak churn.\n",
        "\n",
        "**Kita akan melakukan tunning untuk meningkatkan accuracy dan menurunkan loss.**\n"
      ]
    },
    {
      "cell_type": "markdown",
      "metadata": {
        "id": "0RbaCWwYS5dH"
      },
      "source": [
        "## 6.2 - Seq Model (after Tunning)"
      ]
    },
    {
      "cell_type": "markdown",
      "metadata": {
        "id": "wPIHw1p7f0bp"
      },
      "source": [
        "### a. Define Neuron, Layer, and Activation Function"
      ]
    },
    {
      "cell_type": "code",
      "execution_count": 51,
      "metadata": {
        "colab": {
          "base_uri": "https://localhost:8080/"
        },
        "id": "tssH3XSUiIDx",
        "outputId": "ac24784b-d1d4-4d3e-b2f1-220140e2e72c"
      },
      "outputs": [
        {
          "name": "stdout",
          "output_type": "stream",
          "text": [
            "Model: \"sequential_1\"\n",
            "_________________________________________________________________\n",
            " Layer (type)                Output Shape              Param #   \n",
            "=================================================================\n",
            " dense_2 (Dense)             (None, 4)                 184       \n",
            "                                                                 \n",
            " dense_3 (Dense)             (None, 2)                 10        \n",
            "                                                                 \n",
            " dense_4 (Dense)             (None, 1)                 3         \n",
            "                                                                 \n",
            "=================================================================\n",
            "Total params: 197\n",
            "Trainable params: 197\n",
            "Non-trainable params: 0\n",
            "_________________________________________________________________\n"
          ]
        }
      ],
      "source": [
        "# 2 hidden layer 4, 2\n",
        "\n",
        "model_seq_1 = Sequential()\n",
        "model_seq_1.add(Dense(4, input_shape=(45,))) # Hidden layer 1\n",
        "model_seq_1.add(Dense(2)) # Hidden layer 2\n",
        "model_seq_1.add(Dense(1)) # Output layer\n",
        "\n",
        "model_seq_1.compile(loss='binary_crossentropy',\n",
        "                  metrics=['accuracy'])\n",
        "\n",
        "model_seq_1.summary()"
      ]
    },
    {
      "cell_type": "code",
      "execution_count": 52,
      "metadata": {
        "colab": {
          "base_uri": "https://localhost:8080/"
        },
        "id": "nYUbuD80r0bv",
        "outputId": "e34b10c1-cc13-49f4-cb47-63fe34c65478"
      },
      "outputs": [
        {
          "name": "stdout",
          "output_type": "stream",
          "text": [
            "Model: \"sequential_2\"\n",
            "_________________________________________________________________\n",
            " Layer (type)                Output Shape              Param #   \n",
            "=================================================================\n",
            " dense_5 (Dense)             (None, 4)                 184       \n",
            "                                                                 \n",
            " dense_6 (Dense)             (None, 2)                 10        \n",
            "                                                                 \n",
            " dense_7 (Dense)             (None, 1)                 3         \n",
            "                                                                 \n",
            "=================================================================\n",
            "Total params: 197\n",
            "Trainable params: 197\n",
            "Non-trainable params: 0\n",
            "_________________________________________________________________\n"
          ]
        }
      ],
      "source": [
        "# 2 hidden layer 4,2, fungsi aktivasi layer 1 relu, layer output sigmoid\n",
        "\n",
        "model_seq_1 = Sequential()\n",
        "model_seq_1.add(Dense(4, input_shape=(45,), activation='relu')) # Hidden layer 1\n",
        "model_seq_1.add(Dense(2)) # Hidden layer 2\n",
        "model_seq_1.add(Dense(1, activation ='sigmoid')) # Output layer\n",
        "\n",
        "model_seq_1.compile(loss='binary_crossentropy',\n",
        "                  metrics=['accuracy'])\n",
        "\n",
        "model_seq_1.summary()"
      ]
    },
    {
      "cell_type": "code",
      "execution_count": 53,
      "metadata": {
        "colab": {
          "base_uri": "https://localhost:8080/"
        },
        "id": "rUIlen0RhoPx",
        "outputId": "240d12f0-1a1b-442b-d027-5e01064b303c"
      },
      "outputs": [
        {
          "name": "stdout",
          "output_type": "stream",
          "text": [
            "Epoch 1/10\n",
            "170/170 [==============================] - 2s 4ms/step - loss: 0.5624 - accuracy: 0.6978 - val_loss: 0.4731 - val_accuracy: 0.7758\n",
            "Epoch 2/10\n",
            "170/170 [==============================] - 0s 3ms/step - loss: 0.4369 - accuracy: 0.7916 - val_loss: 0.4436 - val_accuracy: 0.7916\n",
            "Epoch 3/10\n",
            "170/170 [==============================] - 0s 3ms/step - loss: 0.4223 - accuracy: 0.8039 - val_loss: 0.4390 - val_accuracy: 0.7947\n",
            "Epoch 4/10\n",
            "170/170 [==============================] - 0s 3ms/step - loss: 0.4172 - accuracy: 0.8083 - val_loss: 0.4363 - val_accuracy: 0.8000\n",
            "Epoch 5/10\n",
            "170/170 [==============================] - 0s 3ms/step - loss: 0.4152 - accuracy: 0.8098 - val_loss: 0.4354 - val_accuracy: 0.8011\n",
            "Epoch 6/10\n",
            "170/170 [==============================] - 0s 3ms/step - loss: 0.4139 - accuracy: 0.8107 - val_loss: 0.4334 - val_accuracy: 0.8000\n",
            "Epoch 7/10\n",
            "170/170 [==============================] - 0s 3ms/step - loss: 0.4132 - accuracy: 0.8113 - val_loss: 0.4320 - val_accuracy: 0.7968\n",
            "Epoch 8/10\n",
            "170/170 [==============================] - 0s 3ms/step - loss: 0.4124 - accuracy: 0.8106 - val_loss: 0.4314 - val_accuracy: 0.7968\n",
            "Epoch 9/10\n",
            "170/170 [==============================] - 0s 3ms/step - loss: 0.4118 - accuracy: 0.8112 - val_loss: 0.4311 - val_accuracy: 0.7926\n",
            "Epoch 10/10\n",
            "170/170 [==============================] - 0s 3ms/step - loss: 0.4114 - accuracy: 0.8102 - val_loss: 0.4314 - val_accuracy: 0.8021\n"
          ]
        }
      ],
      "source": [
        "# Train Sequential Model\n",
        "history_seq_1 = model_seq_1.fit(train_dataset, validation_data=(val_dataset), epochs=10, verbose=1)"
      ]
    },
    {
      "cell_type": "code",
      "execution_count": 54,
      "metadata": {
        "colab": {
          "base_uri": "https://localhost:8080/",
          "height": 558
        },
        "id": "BUdBeIQIhpom",
        "outputId": "90b4a046-a3f9-4fa3-e50b-b19a302eab06"
      },
      "outputs": [
        {
          "data": {
            "text/plain": [
              "<matplotlib.legend.Legend at 0x1d85d2be2f0>"
            ]
          },
          "execution_count": 54,
          "metadata": {},
          "output_type": "execute_result"
        },
        {
          "data": {
            "image/png": "[encoded data removed]",
            "text/plain": [
              "<Figure size 432x288 with 1 Axes>"
            ]
          },
          "metadata": {
            "needs_background": "light"
          },
          "output_type": "display_data"
        },
        {
          "data": {
            "image/png": "[encoded data removed]",
            "text/plain": [
              "<Figure size 432x288 with 1 Axes>"
            ]
          },
          "metadata": {
            "needs_background": "light"
          },
          "output_type": "display_data"
        }
      ],
      "source": [
        "# plot loss\n",
        "fig, ax = plt.subplots()\n",
        "ax.plot(range(10),history_seq_1.history['accuracy'],label='accuracy')\n",
        "ax.plot(range(10),history_seq_1.history['val_accuracy'],label='val accuracy')\n",
        "\n",
        "ax.set_xlabel('Epoch')\n",
        "ax.set_ylabel('Loss')\n",
        "plt.legend()\n",
        "\n",
        "# plot loss\n",
        "fig, ax = plt.subplots()\n",
        "ax.plot(range(10),history_seq_1.history['loss'],label='train loss')\n",
        "ax.plot(range(10),history_seq_1.history['val_loss'],label='val loss')\n",
        "\n",
        "ax.set_xlabel('Epoch')\n",
        "ax.set_ylabel('Loss')\n",
        "plt.legend()"
      ]
    },
    {
      "cell_type": "code",
      "execution_count": 55,
      "metadata": {
        "colab": {
          "base_uri": "https://localhost:8080/"
        },
        "id": "Vf9f6zkYtySo",
        "outputId": "5e036684-2f3a-4a06-f36d-d910818596bf"
      },
      "outputs": [
        {
          "name": "stdout",
          "output_type": "stream",
          "text": [
            "22/22 [==============================] - 0s 2ms/step\n",
            "              precision    recall  f1-score   support\n",
            "\n",
            "           0       0.83      0.88      0.86       517\n",
            "           1       0.61      0.49      0.54       187\n",
            "\n",
            "    accuracy                           0.78       704\n",
            "   macro avg       0.72      0.69      0.70       704\n",
            "weighted avg       0.77      0.78      0.77       704\n",
            "\n",
            "22/22 [==============================] - 0s 2ms/step\n",
            "              precision    recall  f1-score   support\n",
            "\n",
            "           0       0.83      0.89      0.86       517\n",
            "           1       0.62      0.49      0.54       187\n",
            "\n",
            "    accuracy                           0.78       704\n",
            "   macro avg       0.72      0.69      0.70       704\n",
            "weighted avg       0.77      0.78      0.78       704\n",
            "\n"
          ]
        }
      ],
      "source": [
        "# Baseline Sequential evaluation using clasification report\n",
        "\n",
        "y_pred_seq = model_seq_bs.predict(X_test)\n",
        "y_pred_seq = np.where(y_pred_seq >= 0.5, 1, 0)\n",
        "\n",
        "print(classification_report(y_test_final, y_pred_seq))\n",
        "\n",
        "# Tuned Sequential Model evaluation using clasification report\n",
        "\n",
        "y_pred_seq_1 = model_seq_1.predict(X_test)\n",
        "y_pred_seq_1 = np.where(y_pred_seq_1 >= 0.5, 1, 0)\n",
        "\n",
        "print(classification_report(y_test_final, y_pred_seq_1))"
      ]
    },
    {
      "cell_type": "markdown",
      "metadata": {
        "id": "9zqbLdYk9jPG"
      },
      "source": [
        "**Setelah melakukan beberapa percobaan saya menggunakan 2 hidden layer dengan neuron (4,2), fungsi aktivasi relu pada hidden layer 1 dan fungsi aktivasi sigmoid pada layer output, loss function binary_crossentropy, metrik accuracy, dan epoch 10.**\n",
        "\n",
        "Visualisasi accuracy antara train_dataset dan val_dataset sama-sama mengalami peningkatan, garis terlihat lebih halus, dan gap kecil.\n",
        "\n",
        "Visualisasi error antara train_dataset dan val_dataset sama-sama mengalami penurunan, garis terlihat lebih halus, dan gap kecil.\n",
        "\n",
        "Evaluation report akan kita lihat di akhir Tunning."
      ]
    },
    {
      "cell_type": "markdown",
      "metadata": {
        "id": "MdkAaES4hZit"
      },
      "source": [
        "### b. Weight Initialization"
      ]
    },
    {
      "cell_type": "markdown",
      "metadata": {
        "id": "s06hj1KsyOwV"
      },
      "source": [
        "['RandomNormal','GlorotUniform','GlorotNormal','RandomUniform','Zeros']"
      ]
    },
    {
      "cell_type": "code",
      "execution_count": 56,
      "metadata": {
        "colab": {
          "base_uri": "https://localhost:8080/"
        },
        "id": "xcuiqJd30p1f",
        "outputId": "9cc3933e-8cfc-47b4-b563-addc5754169e"
      },
      "outputs": [
        {
          "name": "stdout",
          "output_type": "stream",
          "text": [
            "Model: \"sequential_3\"\n",
            "_________________________________________________________________\n",
            " Layer (type)                Output Shape              Param #   \n",
            "=================================================================\n",
            " dense_8 (Dense)             (None, 4)                 184       \n",
            "                                                                 \n",
            " dense_9 (Dense)             (None, 2)                 10        \n",
            "                                                                 \n",
            " dense_10 (Dense)            (None, 1)                 3         \n",
            "                                                                 \n",
            "=================================================================\n",
            "Total params: 197\n",
            "Trainable params: 197\n",
            "Non-trainable params: 0\n",
            "_________________________________________________________________\n"
          ]
        }
      ],
      "source": [
        "# 2 hidden layer 4,2, fungsi aktivasi layer 1 relu, layer output sigmoid, weight initialization Zeros\n",
        "model_seq_2 = Sequential()\n",
        "model_seq_2.add(Dense(4, input_shape=(45,), activation='relu', kernel_initializer=tf.keras.initializers.Zeros())) # Hidden layer 1\n",
        "model_seq_2.add(Dense(2)) # Hidden layer 2\n",
        "model_seq_2.add(Dense(1, activation ='sigmoid')) # Output layer\n",
        "\n",
        "model_seq_2.compile(loss='binary_crossentropy',\n",
        "                  metrics=['accuracy'])\n",
        "\n",
        "model_seq_2.summary()"
      ]
    },
    {
      "cell_type": "code",
      "execution_count": 57,
      "metadata": {
        "colab": {
          "base_uri": "https://localhost:8080/"
        },
        "id": "RnaqtsHT0W3V",
        "outputId": "ea448da3-f7af-472b-af5f-b1fc96faaa70"
      },
      "outputs": [
        {
          "name": "stdout",
          "output_type": "stream",
          "text": [
            "Model: \"sequential_4\"\n",
            "_________________________________________________________________\n",
            " Layer (type)                Output Shape              Param #   \n",
            "=================================================================\n",
            " dense_11 (Dense)            (None, 4)                 184       \n",
            "                                                                 \n",
            " dense_12 (Dense)            (None, 2)                 10        \n",
            "                                                                 \n",
            " dense_13 (Dense)            (None, 1)                 3         \n",
            "                                                                 \n",
            "=================================================================\n",
            "Total params: 197\n",
            "Trainable params: 197\n",
            "Non-trainable params: 0\n",
            "_________________________________________________________________\n"
          ]
        }
      ],
      "source": [
        "# 2 hidden layer 4,2, fungsi aktivasi layer 1 relu, layer output sigmoid, weight initialization RandomUniform\n",
        "model_seq_2 = Sequential()\n",
        "model_seq_2.add(Dense(4, input_shape=(45,), activation='relu', kernel_initializer=tf.keras.initializers.RandomUniform(seed=12))) # Hidden layer 1\n",
        "model_seq_2.add(Dense(2)) # Hidden layer 2\n",
        "model_seq_2.add(Dense(1, activation ='sigmoid')) # Output layer\n",
        "\n",
        "model_seq_2.compile(loss='binary_crossentropy',\n",
        "                  metrics=['accuracy'])\n",
        "\n",
        "model_seq_2.summary()"
      ]
    },
    {
      "cell_type": "code",
      "execution_count": 58,
      "metadata": {
        "colab": {
          "base_uri": "https://localhost:8080/"
        },
        "id": "GG4coWMWzYXa",
        "outputId": "ed728c95-cf27-48ab-91a1-66f8b85702e0"
      },
      "outputs": [
        {
          "name": "stdout",
          "output_type": "stream",
          "text": [
            "Model: \"sequential_5\"\n",
            "_________________________________________________________________\n",
            " Layer (type)                Output Shape              Param #   \n",
            "=================================================================\n",
            " dense_14 (Dense)            (None, 4)                 184       \n",
            "                                                                 \n",
            " dense_15 (Dense)            (None, 2)                 10        \n",
            "                                                                 \n",
            " dense_16 (Dense)            (None, 1)                 3         \n",
            "                                                                 \n",
            "=================================================================\n",
            "Total params: 197\n",
            "Trainable params: 197\n",
            "Non-trainable params: 0\n",
            "_________________________________________________________________\n"
          ]
        }
      ],
      "source": [
        "# 2 hidden layer 4,2, fungsi aktivasi layer 1 relu, layer output sigmoid, weight initialization RandomNormal\n",
        "model_seq_2 = Sequential()\n",
        "model_seq_2.add(Dense(4, input_shape=(45,), activation='relu', kernel_initializer=tf.keras.initializers.RandomNormal(seed=12))) # Hidden layer 1\n",
        "model_seq_2.add(Dense(2)) # Hidden layer 2\n",
        "model_seq_2.add(Dense(1, activation ='sigmoid')) # Output layer\n",
        "\n",
        "model_seq_2.compile(loss='binary_crossentropy',\n",
        "                  metrics=['accuracy'])\n",
        "\n",
        "model_seq_2.summary()"
      ]
    },
    {
      "cell_type": "code",
      "execution_count": 59,
      "metadata": {
        "colab": {
          "base_uri": "https://localhost:8080/"
        },
        "id": "Ygbx_eBhyug0",
        "outputId": "db28f76d-5654-4ce5-bf63-05d4ee2b634d"
      },
      "outputs": [
        {
          "name": "stdout",
          "output_type": "stream",
          "text": [
            "Model: \"sequential_6\"\n",
            "_________________________________________________________________\n",
            " Layer (type)                Output Shape              Param #   \n",
            "=================================================================\n",
            " dense_17 (Dense)            (None, 4)                 184       \n",
            "                                                                 \n",
            " dense_18 (Dense)            (None, 2)                 10        \n",
            "                                                                 \n",
            " dense_19 (Dense)            (None, 1)                 3         \n",
            "                                                                 \n",
            "=================================================================\n",
            "Total params: 197\n",
            "Trainable params: 197\n",
            "Non-trainable params: 0\n",
            "_________________________________________________________________\n"
          ]
        }
      ],
      "source": [
        "# 2 hidden layer 4,2, fungsi aktivasi layer 1 relu, layer output sigmoid, weight initialization GlorotUniform\n",
        "\n",
        "model_seq_2 = Sequential()\n",
        "model_seq_2.add(Dense(4, input_shape=(45,), activation='relu', kernel_initializer=tf.keras.initializers.GlorotNormal(seed=12))) # Hidden layer 1\n",
        "model_seq_2.add(Dense(2)) # Hidden layer 2\n",
        "model_seq_2.add(Dense(1, activation ='sigmoid')) # Output layer\n",
        "\n",
        "model_seq_2.compile(loss='binary_crossentropy',\n",
        "                  metrics=['accuracy'])\n",
        "\n",
        "model_seq_2.summary()"
      ]
    },
    {
      "cell_type": "code",
      "execution_count": 60,
      "metadata": {
        "colab": {
          "base_uri": "https://localhost:8080/"
        },
        "id": "-96Vv4Nwvd7y",
        "outputId": "f15762bb-c66f-44b7-e8b7-4715c17d99e6"
      },
      "outputs": [
        {
          "name": "stdout",
          "output_type": "stream",
          "text": [
            "Model: \"sequential_7\"\n",
            "_________________________________________________________________\n",
            " Layer (type)                Output Shape              Param #   \n",
            "=================================================================\n",
            " dense_20 (Dense)            (None, 4)                 184       \n",
            "                                                                 \n",
            " dense_21 (Dense)            (None, 2)                 10        \n",
            "                                                                 \n",
            " dense_22 (Dense)            (None, 1)                 3         \n",
            "                                                                 \n",
            "=================================================================\n",
            "Total params: 197\n",
            "Trainable params: 197\n",
            "Non-trainable params: 0\n",
            "_________________________________________________________________\n"
          ]
        }
      ],
      "source": [
        "# 2 hidden layer 4,2, fungsi aktivasi layer 1 relu, layer output sigmoid, weight initialization GlorotNormal\n",
        "\n",
        "model_seq_2 = Sequential()\n",
        "model_seq_2.add(Dense(4, input_shape=(45,), activation='relu', kernel_initializer=tf.keras.initializers.GlorotNormal(seed=12))) # Hidden layer 1\n",
        "model_seq_2.add(Dense(2)) # Hidden layer 2\n",
        "model_seq_2.add(Dense(1, activation ='sigmoid')) # Output layer\n",
        "\n",
        "model_seq_2.compile(loss='binary_crossentropy',\n",
        "                  metrics=['accuracy'])\n",
        "\n",
        "model_seq_2.summary()"
      ]
    },
    {
      "cell_type": "code",
      "execution_count": 61,
      "metadata": {
        "colab": {
          "base_uri": "https://localhost:8080/"
        },
        "id": "SG6wPekTwNDz",
        "outputId": "44851e2d-18a8-41af-d399-a2f3440c0479"
      },
      "outputs": [
        {
          "name": "stdout",
          "output_type": "stream",
          "text": [
            "Epoch 1/10\n",
            "170/170 [==============================] - 2s 5ms/step - loss: 0.4600 - accuracy: 0.7834 - val_loss: 0.4464 - val_accuracy: 0.7958\n",
            "Epoch 2/10\n",
            "170/170 [==============================] - 1s 3ms/step - loss: 0.4255 - accuracy: 0.8023 - val_loss: 0.4357 - val_accuracy: 0.7958\n",
            "Epoch 3/10\n",
            "170/170 [==============================] - 1s 3ms/step - loss: 0.4183 - accuracy: 0.8045 - val_loss: 0.4316 - val_accuracy: 0.7979\n",
            "Epoch 4/10\n",
            "170/170 [==============================] - 1s 3ms/step - loss: 0.4154 - accuracy: 0.8061 - val_loss: 0.4295 - val_accuracy: 0.8000\n",
            "Epoch 5/10\n",
            "170/170 [==============================] - 1s 3ms/step - loss: 0.4137 - accuracy: 0.8056 - val_loss: 0.4286 - val_accuracy: 0.8000\n",
            "Epoch 6/10\n",
            "170/170 [==============================] - 1s 3ms/step - loss: 0.4130 - accuracy: 0.8057 - val_loss: 0.4280 - val_accuracy: 0.7979\n",
            "Epoch 7/10\n",
            "170/170 [==============================] - 1s 3ms/step - loss: 0.4124 - accuracy: 0.8052 - val_loss: 0.4262 - val_accuracy: 0.8011\n",
            "Epoch 8/10\n",
            "170/170 [==============================] - 1s 3ms/step - loss: 0.4118 - accuracy: 0.8066 - val_loss: 0.4254 - val_accuracy: 0.7989\n",
            "Epoch 9/10\n",
            "170/170 [==============================] - 1s 4ms/step - loss: 0.4113 - accuracy: 0.8063 - val_loss: 0.4249 - val_accuracy: 0.7979\n",
            "Epoch 10/10\n",
            "170/170 [==============================] - 1s 4ms/step - loss: 0.4109 - accuracy: 0.8067 - val_loss: 0.4241 - val_accuracy: 0.8021\n"
          ]
        }
      ],
      "source": [
        "# Train Sequential Model\n",
        "history_seq_2 = model_seq_2.fit(train_dataset, validation_data=(val_dataset), epochs=10, verbose=1)"
      ]
    },
    {
      "cell_type": "code",
      "execution_count": 62,
      "metadata": {
        "colab": {
          "base_uri": "https://localhost:8080/",
          "height": 558
        },
        "id": "TstHzQCOwM6r",
        "outputId": "87dbe2e9-fd25-4073-e0f4-b26c98cf818c"
      },
      "outputs": [
        {
          "data": {
            "text/plain": [
              "<matplotlib.legend.Legend at 0x1d861177be0>"
            ]
          },
          "execution_count": 62,
          "metadata": {},
          "output_type": "execute_result"
        },
        {
          "data": {
            "image/png": "[encoded data removed]",
            "text/plain": [
              "<Figure size 432x288 with 1 Axes>"
            ]
          },
          "metadata": {
            "needs_background": "light"
          },
          "output_type": "display_data"
        },
        {
          "data": {
            "image/png": "[encoded data removed]",
            "text/plain": [
              "<Figure size 432x288 with 1 Axes>"
            ]
          },
          "metadata": {
            "needs_background": "light"
          },
          "output_type": "display_data"
        }
      ],
      "source": [
        "# plot loss\n",
        "fig, ax = plt.subplots()\n",
        "ax.plot(range(10),history_seq_2.history['accuracy'],label='accuracy')\n",
        "ax.plot(range(10),history_seq_2.history['val_accuracy'],label='val accuracy')\n",
        "\n",
        "ax.set_xlabel('Epoch')\n",
        "ax.set_ylabel('Loss')\n",
        "plt.legend()\n",
        "\n",
        "# plot loss\n",
        "fig, ax = plt.subplots()\n",
        "ax.plot(range(10),history_seq_2.history['loss'],label='train loss')\n",
        "ax.plot(range(10),history_seq_2.history['val_loss'],label='val loss')\n",
        "\n",
        "ax.set_xlabel('Epoch')\n",
        "ax.set_ylabel('Loss')\n",
        "plt.legend()"
      ]
    },
    {
      "cell_type": "code",
      "execution_count": 63,
      "metadata": {
        "colab": {
          "base_uri": "https://localhost:8080/"
        },
        "id": "HeKDj5hcwMyE",
        "outputId": "f0931215-dec0-4814-f4aa-75c65b4680cc"
      },
      "outputs": [
        {
          "name": "stdout",
          "output_type": "stream",
          "text": [
            "22/22 [==============================] - 0s 2ms/step\n",
            "              precision    recall  f1-score   support\n",
            "\n",
            "           0       0.83      0.88      0.86       517\n",
            "           1       0.61      0.49      0.54       187\n",
            "\n",
            "    accuracy                           0.78       704\n",
            "   macro avg       0.72      0.69      0.70       704\n",
            "weighted avg       0.77      0.78      0.77       704\n",
            "\n",
            "22/22 [==============================] - 0s 2ms/step\n",
            "              precision    recall  f1-score   support\n",
            "\n",
            "           0       0.83      0.89      0.86       517\n",
            "           1       0.62      0.51      0.56       187\n",
            "\n",
            "    accuracy                           0.79       704\n",
            "   macro avg       0.73      0.70      0.71       704\n",
            "weighted avg       0.78      0.79      0.78       704\n",
            "\n"
          ]
        }
      ],
      "source": [
        "# Baseline Sequential evaluation using clasification report\n",
        "\n",
        "y_pred_seq_bs = model_seq_bs.predict(X_test)\n",
        "y_pred_seq_bs = np.where(y_pred_seq_bs >= 0.5, 1, 0)\n",
        "\n",
        "print(classification_report(y_test_final, y_pred_seq))\n",
        "\n",
        "# Tuned Sequential Model evaluation using clasification report\n",
        "\n",
        "y_pred_seq_2 = model_seq_2.predict(X_test)\n",
        "y_pred_seq_2 = np.where(y_pred_seq_2 >= 0.5, 1, 0)\n",
        "\n",
        "print(classification_report(y_test_final, y_pred_seq_2))"
      ]
    },
    {
      "cell_type": "markdown",
      "metadata": {
        "id": "Fyoy4zVUAP0l"
      },
      "source": [
        "**Setelah melakukan beberapa percobaan saya menambahkan weight initialization GlorotNormal.**\n",
        "\n",
        "Visualisasi accuracy antara train_dataset dan val_dataset sama-sama mengalami peningkatan, garis terlihat lebih halus, dan gap kecil.\n",
        "\n",
        "Visualisasi error antara train_dataset dan val_dataset sama-sama mengalami penurunan, garis terlihat lebih halus, dan gap kecil.\n",
        "\n",
        "Evaluation report akan kita lihat di akhir Tunning."
      ]
    },
    {
      "cell_type": "markdown",
      "metadata": {
        "id": "NRVkvlfUhbYU"
      },
      "source": [
        "### c. BatchNormalization"
      ]
    },
    {
      "cell_type": "code",
      "execution_count": 64,
      "metadata": {
        "colab": {
          "base_uri": "https://localhost:8080/"
        },
        "id": "KsM0y4Mg1Q8y",
        "outputId": "1126fa3e-fde4-4ecf-a21b-ca285ca3b907"
      },
      "outputs": [
        {
          "name": "stdout",
          "output_type": "stream",
          "text": [
            "Model: \"sequential_8\"\n",
            "_________________________________________________________________\n",
            " Layer (type)                Output Shape              Param #   \n",
            "=================================================================\n",
            " dense_23 (Dense)            (None, 4)                 184       \n",
            "                                                                 \n",
            " batch_normalization (BatchN  (None, 4)                16        \n",
            " ormalization)                                                   \n",
            "                                                                 \n",
            " activation (Activation)     (None, 4)                 0         \n",
            "                                                                 \n",
            " dense_24 (Dense)            (None, 2)                 10        \n",
            "                                                                 \n",
            " batch_normalization_1 (Batc  (None, 2)                8         \n",
            " hNormalization)                                                 \n",
            "                                                                 \n",
            " dense_25 (Dense)            (None, 1)                 3         \n",
            "                                                                 \n",
            " batch_normalization_2 (Batc  (None, 1)                4         \n",
            " hNormalization)                                                 \n",
            "                                                                 \n",
            " activation_1 (Activation)   (None, 1)                 0         \n",
            "                                                                 \n",
            "=================================================================\n",
            "Total params: 225\n",
            "Trainable params: 211\n",
            "Non-trainable params: 14\n",
            "_________________________________________________________________\n"
          ]
        }
      ],
      "source": [
        "# 2 hidden layer 4,2, fungsi aktivasi layer 1 relu, layer output sigmoid, weight initialization GlorotNormal, with BatchNormalization\n",
        "\n",
        "model_seq_3 = Sequential()\n",
        "\n",
        "model_seq_3.add(Dense(4, input_shape=(45,), kernel_initializer=tf.keras.initializers.GlorotNormal(seed=12))) # Hidden layer 1\n",
        "model_seq_3.add(tf.keras.layers.BatchNormalization())\n",
        "model_seq_3.add(tf.keras.layers.Activation('relu'))\n",
        "\n",
        "model_seq_3.add(Dense(2)) # Hidden layer 2\n",
        "model_seq_3.add(tf.keras.layers.BatchNormalization())\n",
        "\n",
        "model_seq_3.add(Dense(1)) # Output layer\n",
        "model_seq_3.add(tf.keras.layers.BatchNormalization())\n",
        "model_seq_3.add(tf.keras.layers.Activation('sigmoid'))\n",
        "\n",
        "model_seq_3.compile(loss='binary_crossentropy',\n",
        "                  metrics=['accuracy'])\n",
        "\n",
        "model_seq_3.summary()"
      ]
    },
    {
      "cell_type": "code",
      "execution_count": 65,
      "metadata": {
        "colab": {
          "base_uri": "https://localhost:8080/"
        },
        "id": "EqxavRky1X7V",
        "outputId": "75819ad0-4ca0-4dc9-a662-f5613c25bf2d"
      },
      "outputs": [
        {
          "name": "stdout",
          "output_type": "stream",
          "text": [
            "Epoch 1/10\n",
            "170/170 [==============================] - 4s 5ms/step - loss: 0.5954 - accuracy: 0.6990 - val_loss: 0.5630 - val_accuracy: 0.7400\n",
            "Epoch 2/10\n",
            "170/170 [==============================] - 1s 4ms/step - loss: 0.5267 - accuracy: 0.7679 - val_loss: 0.5199 - val_accuracy: 0.7653\n",
            "Epoch 3/10\n",
            "170/170 [==============================] - 1s 4ms/step - loss: 0.4947 - accuracy: 0.7846 - val_loss: 0.4868 - val_accuracy: 0.7758\n",
            "Epoch 4/10\n",
            "170/170 [==============================] - 1s 4ms/step - loss: 0.4718 - accuracy: 0.7918 - val_loss: 0.4654 - val_accuracy: 0.7821\n",
            "Epoch 5/10\n",
            "170/170 [==============================] - 1s 4ms/step - loss: 0.4542 - accuracy: 0.7964 - val_loss: 0.4519 - val_accuracy: 0.7884\n",
            "Epoch 6/10\n",
            "170/170 [==============================] - 1s 4ms/step - loss: 0.4405 - accuracy: 0.8023 - val_loss: 0.4419 - val_accuracy: 0.7937\n",
            "Epoch 7/10\n",
            "170/170 [==============================] - 1s 4ms/step - loss: 0.4333 - accuracy: 0.8041 - val_loss: 0.4357 - val_accuracy: 0.8021\n",
            "Epoch 8/10\n",
            "170/170 [==============================] - 1s 4ms/step - loss: 0.4268 - accuracy: 0.8077 - val_loss: 0.4334 - val_accuracy: 0.7968\n",
            "Epoch 9/10\n",
            "170/170 [==============================] - 1s 4ms/step - loss: 0.4221 - accuracy: 0.8080 - val_loss: 0.4312 - val_accuracy: 0.8000\n",
            "Epoch 10/10\n",
            "170/170 [==============================] - 1s 4ms/step - loss: 0.4205 - accuracy: 0.8043 - val_loss: 0.4300 - val_accuracy: 0.8021\n"
          ]
        }
      ],
      "source": [
        "# Train Sequential Model\n",
        "history_seq_3 = model_seq_3.fit(train_dataset, validation_data=(val_dataset), epochs=10, verbose=1)"
      ]
    },
    {
      "cell_type": "code",
      "execution_count": 66,
      "metadata": {
        "colab": {
          "base_uri": "https://localhost:8080/",
          "height": 558
        },
        "id": "wOGWu0k21avg",
        "outputId": "b07018e0-d539-47c1-9d94-1e3028742e7a"
      },
      "outputs": [
        {
          "data": {
            "text/plain": [
              "<matplotlib.legend.Legend at 0x1d8597368c0>"
            ]
          },
          "execution_count": 66,
          "metadata": {},
          "output_type": "execute_result"
        },
        {
          "data": {
            "image/png": "[encoded data removed]",
            "text/plain": [
              "<Figure size 432x288 with 1 Axes>"
            ]
          },
          "metadata": {
            "needs_background": "light"
          },
          "output_type": "display_data"
        },
        {
          "data": {
            "image/png": "[encoded data removed]",
            "text/plain": [
              "<Figure size 432x288 with 1 Axes>"
            ]
          },
          "metadata": {
            "needs_background": "light"
          },
          "output_type": "display_data"
        }
      ],
      "source": [
        "# plot loss\n",
        "fig, ax = plt.subplots()\n",
        "ax.plot(range(10),history_seq_3.history['accuracy'],label='accuracy')\n",
        "ax.plot(range(10),history_seq_3.history['val_accuracy'],label='val accuracy')\n",
        "\n",
        "ax.set_xlabel('Epoch')\n",
        "ax.set_ylabel('Loss')\n",
        "plt.legend()\n",
        "\n",
        "# plot loss\n",
        "fig, ax = plt.subplots()\n",
        "ax.plot(range(10),history_seq_3.history['loss'],label='train loss')\n",
        "ax.plot(range(10),history_seq_3.history['val_loss'],label='val loss')\n",
        "\n",
        "ax.set_xlabel('Epoch')\n",
        "ax.set_ylabel('Loss')\n",
        "plt.legend()"
      ]
    },
    {
      "cell_type": "code",
      "execution_count": 67,
      "metadata": {
        "colab": {
          "base_uri": "https://localhost:8080/"
        },
        "id": "quBOKYwO1cmx",
        "outputId": "7869b5f6-c093-47a8-f9ad-e5f3ef6b4bad"
      },
      "outputs": [
        {
          "name": "stdout",
          "output_type": "stream",
          "text": [
            "22/22 [==============================] - 0s 2ms/step\n",
            "              precision    recall  f1-score   support\n",
            "\n",
            "           0       0.83      0.88      0.86       517\n",
            "           1       0.61      0.49      0.54       187\n",
            "\n",
            "    accuracy                           0.78       704\n",
            "   macro avg       0.72      0.69      0.70       704\n",
            "weighted avg       0.77      0.78      0.77       704\n",
            "\n",
            "22/22 [==============================] - 0s 2ms/step\n",
            "              precision    recall  f1-score   support\n",
            "\n",
            "           0       0.84      0.88      0.86       517\n",
            "           1       0.61      0.53      0.57       187\n",
            "\n",
            "    accuracy                           0.79       704\n",
            "   macro avg       0.72      0.70      0.71       704\n",
            "weighted avg       0.78      0.79      0.78       704\n",
            "\n"
          ]
        }
      ],
      "source": [
        "# Baseline Sequential evaluation using clasification report\n",
        "\n",
        "y_pred_seq_bs = model_seq_bs.predict(X_test)\n",
        "y_pred_seq_bs = np.where(y_pred_seq_2 >= 0.5, 1, 0)\n",
        "\n",
        "print(classification_report(y_test_final, y_pred_seq))\n",
        "\n",
        "# Tuned Sequential Model evaluation using clasification report\n",
        "\n",
        "y_pred_seq_3 = model_seq_3.predict(X_test)\n",
        "y_pred_seq_3 = np.where(y_pred_seq_3 >= 0.5, 1, 0)\n",
        "\n",
        "print(classification_report(y_test_final, y_pred_seq_3))"
      ]
    },
    {
      "cell_type": "markdown",
      "metadata": {
        "id": "zXNvnDNPApXf"
      },
      "source": [
        "**Saya menambahkan batch normalization pada setiap layer untuk mengurangi vanishing dan exploding gradient.**\n",
        "\n",
        "Visualisasi accuracy antara train_dataset dan val_dataset sama-sama mengalami peningkatan, garis terlihat lebih halus, dan gap kecil.\n",
        "\n",
        "Visualisasi error antara train_dataset dan val_dataset sama-sama mengalami penurunan, garis terlihat lebih halus, dan gap kecil.\n",
        "\n",
        "Evaluation report akan kita lihat di akhir Tunning."
      ]
    },
    {
      "cell_type": "markdown",
      "metadata": {
        "id": "yLL47YQP1PtT"
      },
      "source": [
        "### d. Dropout\n"
      ]
    },
    {
      "cell_type": "code",
      "execution_count": 68,
      "metadata": {
        "colab": {
          "base_uri": "https://localhost:8080/"
        },
        "id": "E4f5QugI3bVy",
        "outputId": "e73e0fd3-7c94-41f3-eac3-a33e6f688240"
      },
      "outputs": [
        {
          "name": "stdout",
          "output_type": "stream",
          "text": [
            "Model: \"sequential_9\"\n",
            "_________________________________________________________________\n",
            " Layer (type)                Output Shape              Param #   \n",
            "=================================================================\n",
            " dense_26 (Dense)            (None, 4)                 184       \n",
            "                                                                 \n",
            " batch_normalization_3 (Batc  (None, 4)                16        \n",
            " hNormalization)                                                 \n",
            "                                                                 \n",
            " dropout (Dropout)           (None, 4)                 0         \n",
            "                                                                 \n",
            " activation_2 (Activation)   (None, 4)                 0         \n",
            "                                                                 \n",
            " dense_27 (Dense)            (None, 2)                 10        \n",
            "                                                                 \n",
            " batch_normalization_4 (Batc  (None, 2)                8         \n",
            " hNormalization)                                                 \n",
            "                                                                 \n",
            " dropout_1 (Dropout)         (None, 2)                 0         \n",
            "                                                                 \n",
            " dense_28 (Dense)            (None, 1)                 3         \n",
            "                                                                 \n",
            " batch_normalization_5 (Batc  (None, 1)                4         \n",
            " hNormalization)                                                 \n",
            "                                                                 \n",
            " dropout_2 (Dropout)         (None, 1)                 0         \n",
            "                                                                 \n",
            " activation_3 (Activation)   (None, 1)                 0         \n",
            "                                                                 \n",
            "=================================================================\n",
            "Total params: 225\n",
            "Trainable params: 211\n",
            "Non-trainable params: 14\n",
            "_________________________________________________________________\n"
          ]
        }
      ],
      "source": [
        "# 2 hidden layer 4,2, fungsi aktivasi layer 1 relu, layer output sigmoid, weight initialization GlorotNormal, with BatchNormalization\n",
        "\n",
        "model_seq_4 = Sequential()\n",
        "\n",
        "model_seq_4.add(Dense(4, input_shape=(45,), kernel_initializer=tf.keras.initializers.GlorotNormal(seed=12))) # Hidden layer 1\n",
        "model_seq_4.add(tf.keras.layers.BatchNormalization())\n",
        "model_seq_4.add(tf.keras.layers.Dropout(rate=0.1))\n",
        "model_seq_4.add(tf.keras.layers.Activation('relu'))\n",
        "\n",
        "model_seq_4.add(Dense(2)) # Hidden layer 2\n",
        "model_seq_4.add(tf.keras.layers.BatchNormalization())\n",
        "model_seq_4.add(tf.keras.layers.Dropout(rate=0.1))\n",
        "\n",
        "model_seq_4.add(Dense(1)) # Output layer\n",
        "model_seq_4.add(tf.keras.layers.BatchNormalization())\n",
        "model_seq_4.add(tf.keras.layers.Dropout(rate=0.1))\n",
        "model_seq_4.add(tf.keras.layers.Activation('sigmoid'))\n",
        "\n",
        "model_seq_4.compile(loss='binary_crossentropy',\n",
        "                  metrics=['accuracy'])\n",
        "\n",
        "model_seq_4.summary()"
      ]
    },
    {
      "cell_type": "code",
      "execution_count": 69,
      "metadata": {
        "colab": {
          "base_uri": "https://localhost:8080/"
        },
        "id": "nH_r5yRK3lXc",
        "outputId": "fad1cdf1-3aac-481c-c22a-c3dbc63624c7"
      },
      "outputs": [
        {
          "name": "stdout",
          "output_type": "stream",
          "text": [
            "Epoch 1/10\n",
            "170/170 [==============================] - 4s 6ms/step - loss: 0.6465 - accuracy: 0.6274 - val_loss: 0.5977 - val_accuracy: 0.6937\n",
            "Epoch 2/10\n",
            "170/170 [==============================] - 1s 4ms/step - loss: 0.5576 - accuracy: 0.7523 - val_loss: 0.5437 - val_accuracy: 0.7579\n",
            "Epoch 3/10\n",
            "170/170 [==============================] - 1s 4ms/step - loss: 0.5232 - accuracy: 0.7734 - val_loss: 0.4961 - val_accuracy: 0.7811\n",
            "Epoch 4/10\n",
            "170/170 [==============================] - 1s 4ms/step - loss: 0.5044 - accuracy: 0.7783 - val_loss: 0.4717 - val_accuracy: 0.7821\n",
            "Epoch 5/10\n",
            "170/170 [==============================] - 1s 4ms/step - loss: 0.4911 - accuracy: 0.7846 - val_loss: 0.4576 - val_accuracy: 0.7968\n",
            "Epoch 6/10\n",
            "170/170 [==============================] - 1s 4ms/step - loss: 0.4790 - accuracy: 0.7852 - val_loss: 0.4494 - val_accuracy: 0.8021\n",
            "Epoch 7/10\n",
            "170/170 [==============================] - 1s 4ms/step - loss: 0.4693 - accuracy: 0.7882 - val_loss: 0.4428 - val_accuracy: 0.8021\n",
            "Epoch 8/10\n",
            "170/170 [==============================] - 1s 4ms/step - loss: 0.4714 - accuracy: 0.7853 - val_loss: 0.4379 - val_accuracy: 0.7989\n",
            "Epoch 9/10\n",
            "170/170 [==============================] - 1s 4ms/step - loss: 0.4636 - accuracy: 0.7879 - val_loss: 0.4354 - val_accuracy: 0.8011\n",
            "Epoch 10/10\n",
            "170/170 [==============================] - 1s 4ms/step - loss: 0.4631 - accuracy: 0.7850 - val_loss: 0.4337 - val_accuracy: 0.7968\n"
          ]
        }
      ],
      "source": [
        "# Train Sequential Model\n",
        "history_seq_4 = model_seq_4.fit(train_dataset, validation_data=(val_dataset), epochs=10, verbose=1)"
      ]
    },
    {
      "cell_type": "code",
      "execution_count": 70,
      "metadata": {
        "colab": {
          "base_uri": "https://localhost:8080/",
          "height": 558
        },
        "id": "5nR97GIk3q7y",
        "outputId": "da537480-aef6-4c0b-f976-036683d6c3b5"
      },
      "outputs": [
        {
          "data": {
            "text/plain": [
              "<matplotlib.legend.Legend at 0x1d85d291c90>"
            ]
          },
          "execution_count": 70,
          "metadata": {},
          "output_type": "execute_result"
        },
        {
          "data": {
            "image/png": "[encoded data removed]",
            "text/plain": [
              "<Figure size 432x288 with 1 Axes>"
            ]
          },
          "metadata": {
            "needs_background": "light"
          },
          "output_type": "display_data"
        },
        {
          "data": {
            "image/png": "[encoded data removed]",
            "text/plain": [
              "<Figure size 432x288 with 1 Axes>"
            ]
          },
          "metadata": {
            "needs_background": "light"
          },
          "output_type": "display_data"
        }
      ],
      "source": [
        "# plot loss\n",
        "fig, ax = plt.subplots()\n",
        "ax.plot(range(10),history_seq_4.history['accuracy'],label='accuracy')\n",
        "ax.plot(range(10),history_seq_4.history['val_accuracy'],label='val accuracy')\n",
        "\n",
        "ax.set_xlabel('Epoch')\n",
        "ax.set_ylabel('Loss')\n",
        "plt.legend()\n",
        "\n",
        "# plot loss\n",
        "fig, ax = plt.subplots()\n",
        "ax.plot(range(10),history_seq_4.history['loss'],label='train loss')\n",
        "ax.plot(range(10),history_seq_4.history['val_loss'],label='val loss')\n",
        "\n",
        "ax.set_xlabel('Epoch')\n",
        "ax.set_ylabel('Loss')\n",
        "plt.legend()"
      ]
    },
    {
      "cell_type": "code",
      "execution_count": 71,
      "metadata": {
        "colab": {
          "base_uri": "https://localhost:8080/"
        },
        "id": "RV4kbsmu3tCO",
        "outputId": "043fdff6-3dd9-4b63-96e4-bb707aa9dbe5"
      },
      "outputs": [
        {
          "name": "stdout",
          "output_type": "stream",
          "text": [
            "22/22 [==============================] - 0s 2ms/step\n",
            "              precision    recall  f1-score   support\n",
            "\n",
            "           0       0.83      0.88      0.86       517\n",
            "           1       0.61      0.49      0.54       187\n",
            "\n",
            "    accuracy                           0.78       704\n",
            "   macro avg       0.72      0.69      0.70       704\n",
            "weighted avg       0.77      0.78      0.77       704\n",
            "\n",
            "22/22 [==============================] - 0s 2ms/step\n",
            "              precision    recall  f1-score   support\n",
            "\n",
            "           0       0.82      0.91      0.86       517\n",
            "           1       0.63      0.45      0.53       187\n",
            "\n",
            "    accuracy                           0.79       704\n",
            "   macro avg       0.73      0.68      0.70       704\n",
            "weighted avg       0.77      0.79      0.77       704\n",
            "\n"
          ]
        }
      ],
      "source": [
        "# Baseline Sequential evaluation using clasification report\n",
        "\n",
        "y_pred_seq_bs = model_seq_bs.predict(X_test)\n",
        "y_pred_seq_bs = np.where(y_pred_seq_bs >= 0.5, 1, 0)\n",
        "\n",
        "print(classification_report(y_test_final, y_pred_seq))\n",
        "\n",
        "# Tuned Sequential Model evaluation using clasification report\n",
        "\n",
        "y_pred_seq_4 = model_seq_4.predict(X_test)\n",
        "y_pred_seq_4 = np.where(y_pred_seq_4 >= 0.5, 1, 0)\n",
        "\n",
        "print(classification_report(y_test_final, y_pred_seq_4))"
      ]
    },
    {
      "cell_type": "markdown",
      "metadata": {
        "id": "Rgdnaf7fBL7D"
      },
      "source": [
        "**Saya menambahkan dropout pada setiap layer** untuk menjadikan model lebih robust dan mencegah overfitting dan underfitting serta menambah accuracy **namun berdasarkan visualisasi jarak antara accuracy train dataset dan val dataset serta loss antara train dataset dan val dataset melebar**. Sehingga saya tidak akan menambahkan teknik dropout pada model. \n",
        "\n",
        "Evaluation report akan kita lihat di akhir Tunning."
      ]
    },
    {
      "cell_type": "markdown",
      "metadata": {
        "id": "T_UzM-2V3aHN"
      },
      "source": [
        "### e. Optimizer"
      ]
    },
    {
      "cell_type": "code",
      "execution_count": 72,
      "metadata": {
        "colab": {
          "base_uri": "https://localhost:8080/"
        },
        "id": "xekjmy_E3UzI",
        "outputId": "92b43a12-ec8e-4d2e-fb50-8054eb17e006"
      },
      "outputs": [
        {
          "name": "stdout",
          "output_type": "stream",
          "text": [
            "Model: \"sequential_10\"\n",
            "_________________________________________________________________\n",
            " Layer (type)                Output Shape              Param #   \n",
            "=================================================================\n",
            " dense_29 (Dense)            (None, 4)                 184       \n",
            "                                                                 \n",
            " batch_normalization_6 (Batc  (None, 4)                16        \n",
            " hNormalization)                                                 \n",
            "                                                                 \n",
            " activation_4 (Activation)   (None, 4)                 0         \n",
            "                                                                 \n",
            " dense_30 (Dense)            (None, 2)                 10        \n",
            "                                                                 \n",
            " batch_normalization_7 (Batc  (None, 2)                8         \n",
            " hNormalization)                                                 \n",
            "                                                                 \n",
            " dense_31 (Dense)            (None, 1)                 3         \n",
            "                                                                 \n",
            " batch_normalization_8 (Batc  (None, 1)                4         \n",
            " hNormalization)                                                 \n",
            "                                                                 \n",
            " activation_5 (Activation)   (None, 1)                 0         \n",
            "                                                                 \n",
            "=================================================================\n",
            "Total params: 225\n",
            "Trainable params: 211\n",
            "Non-trainable params: 14\n",
            "_________________________________________________________________\n"
          ]
        }
      ],
      "source": [
        "# 2 hidden layer 4,2, fungsi aktivasi layer 1 relu, layer output sigmoid, weight initialization GlorotNormal, with BatchNormalization, optimizer adam\n",
        "\n",
        "model_seq_5 = Sequential()\n",
        "\n",
        "model_seq_5.add(Dense(4, input_shape=(45,), kernel_initializer=tf.keras.initializers.GlorotNormal(seed=12))) # Hidden layer 1\n",
        "model_seq_5.add(tf.keras.layers.BatchNormalization())\n",
        "model_seq_5.add(tf.keras.layers.Activation('relu'))\n",
        "\n",
        "model_seq_5.add(Dense(2)) # Hidden layer 2\n",
        "model_seq_5.add(tf.keras.layers.BatchNormalization())\n",
        "\n",
        "model_seq_5.add(Dense(1)) # Output layer\n",
        "model_seq_5.add(tf.keras.layers.BatchNormalization())\n",
        "model_seq_5.add(tf.keras.layers.Activation('sigmoid'))\n",
        "\n",
        "model_seq_5.compile(loss='binary_crossentropy',\n",
        "                    optimizer='adam',\n",
        "                  metrics=['accuracy'])\n",
        "\n",
        "model_seq_5.summary()"
      ]
    },
    {
      "cell_type": "code",
      "execution_count": 73,
      "metadata": {
        "colab": {
          "base_uri": "https://localhost:8080/"
        },
        "id": "YiIWrh2d66_Z",
        "outputId": "d71d4d94-c7c6-47cc-f5bb-bee12e296a37"
      },
      "outputs": [
        {
          "name": "stdout",
          "output_type": "stream",
          "text": [
            "Model: \"sequential_11\"\n",
            "_________________________________________________________________\n",
            " Layer (type)                Output Shape              Param #   \n",
            "=================================================================\n",
            " dense_32 (Dense)            (None, 4)                 184       \n",
            "                                                                 \n",
            " batch_normalization_9 (Batc  (None, 4)                16        \n",
            " hNormalization)                                                 \n",
            "                                                                 \n",
            " activation_6 (Activation)   (None, 4)                 0         \n",
            "                                                                 \n",
            " dense_33 (Dense)            (None, 2)                 10        \n",
            "                                                                 \n",
            " batch_normalization_10 (Bat  (None, 2)                8         \n",
            " chNormalization)                                                \n",
            "                                                                 \n",
            " dense_34 (Dense)            (None, 1)                 3         \n",
            "                                                                 \n",
            " batch_normalization_11 (Bat  (None, 1)                4         \n",
            " chNormalization)                                                \n",
            "                                                                 \n",
            " activation_7 (Activation)   (None, 1)                 0         \n",
            "                                                                 \n",
            "=================================================================\n",
            "Total params: 225\n",
            "Trainable params: 211\n",
            "Non-trainable params: 14\n",
            "_________________________________________________________________\n"
          ]
        }
      ],
      "source": [
        "# 2 hidden layer 4,2, fungsi aktivasi layer 1 relu, layer output sigmoid, weight initialization GlorotNormal, with BatchNormalization, optimizer nadam\n",
        "\n",
        "model_seq_5 = Sequential()\n",
        "\n",
        "model_seq_5.add(Dense(4, input_shape=(45,), kernel_initializer=tf.keras.initializers.GlorotNormal(seed=12))) # Hidden layer 1\n",
        "model_seq_5.add(tf.keras.layers.BatchNormalization())\n",
        "model_seq_5.add(tf.keras.layers.Activation('relu'))\n",
        "\n",
        "model_seq_5.add(Dense(2)) # Hidden layer 2\n",
        "model_seq_5.add(tf.keras.layers.BatchNormalization())\n",
        "\n",
        "model_seq_5.add(Dense(1)) # Output layer\n",
        "model_seq_5.add(tf.keras.layers.BatchNormalization())\n",
        "model_seq_5.add(tf.keras.layers.Activation('sigmoid'))\n",
        "\n",
        "model_seq_5.compile(loss='binary_crossentropy',\n",
        "                    optimizer='nadam',\n",
        "                  metrics=['accuracy'])\n",
        "\n",
        "model_seq_5.summary()"
      ]
    },
    {
      "cell_type": "code",
      "execution_count": 74,
      "metadata": {
        "colab": {
          "base_uri": "https://localhost:8080/"
        },
        "id": "vhB8c0sU6XGw",
        "outputId": "0e2a3bec-d911-4d1e-d9df-e75d6ba52717"
      },
      "outputs": [
        {
          "name": "stdout",
          "output_type": "stream",
          "text": [
            "Epoch 1/10\n",
            "170/170 [==============================] - 6s 6ms/step - loss: 0.6541 - accuracy: 0.6072 - val_loss: 0.6156 - val_accuracy: 0.7547\n",
            "Epoch 2/10\n",
            "170/170 [==============================] - 1s 4ms/step - loss: 0.5641 - accuracy: 0.6977 - val_loss: 0.5561 - val_accuracy: 0.7684\n",
            "Epoch 3/10\n",
            "170/170 [==============================] - 1s 4ms/step - loss: 0.5259 - accuracy: 0.7408 - val_loss: 0.5100 - val_accuracy: 0.7621\n",
            "Epoch 4/10\n",
            "170/170 [==============================] - 1s 4ms/step - loss: 0.5002 - accuracy: 0.7596 - val_loss: 0.4929 - val_accuracy: 0.7695\n",
            "Epoch 5/10\n",
            "170/170 [==============================] - 1s 4ms/step - loss: 0.4830 - accuracy: 0.7745 - val_loss: 0.4810 - val_accuracy: 0.7705\n",
            "Epoch 6/10\n",
            "170/170 [==============================] - 1s 4ms/step - loss: 0.4691 - accuracy: 0.7809 - val_loss: 0.4748 - val_accuracy: 0.7695\n",
            "Epoch 7/10\n",
            "170/170 [==============================] - 1s 4ms/step - loss: 0.4582 - accuracy: 0.7891 - val_loss: 0.4616 - val_accuracy: 0.7768\n",
            "Epoch 8/10\n",
            "170/170 [==============================] - 1s 4ms/step - loss: 0.4483 - accuracy: 0.7940 - val_loss: 0.4584 - val_accuracy: 0.7779\n",
            "Epoch 9/10\n",
            "170/170 [==============================] - 1s 4ms/step - loss: 0.4415 - accuracy: 0.7983 - val_loss: 0.4509 - val_accuracy: 0.7832\n",
            "Epoch 10/10\n",
            "170/170 [==============================] - 1s 4ms/step - loss: 0.4364 - accuracy: 0.7983 - val_loss: 0.4463 - val_accuracy: 0.7895\n"
          ]
        }
      ],
      "source": [
        "# Train Sequential Model\n",
        "history_seq_5 = model_seq_5.fit(train_dataset, validation_data=(val_dataset), epochs=10, verbose=1)"
      ]
    },
    {
      "cell_type": "code",
      "execution_count": 75,
      "metadata": {
        "colab": {
          "base_uri": "https://localhost:8080/",
          "height": 558
        },
        "id": "d_OGGIbG6W41",
        "outputId": "d7306b66-2f57-4a3a-f1dd-9a5aa58995a1"
      },
      "outputs": [
        {
          "data": {
            "text/plain": [
              "<matplotlib.legend.Legend at 0x1d859fba0b0>"
            ]
          },
          "execution_count": 75,
          "metadata": {},
          "output_type": "execute_result"
        },
        {
          "data": {
            "image/png": "[encoded data removed]",
            "text/plain": [
              "<Figure size 432x288 with 1 Axes>"
            ]
          },
          "metadata": {
            "needs_background": "light"
          },
          "output_type": "display_data"
        },
        {
          "data": {
            "image/png": "[encoded data removed]",
            "text/plain": [
              "<Figure size 432x288 with 1 Axes>"
            ]
          },
          "metadata": {
            "needs_background": "light"
          },
          "output_type": "display_data"
        }
      ],
      "source": [
        "# plot loss\n",
        "fig, ax = plt.subplots()\n",
        "ax.plot(range(10),history_seq_5.history['accuracy'],label='accuracy')\n",
        "ax.plot(range(10),history_seq_5.history['val_accuracy'],label='val accuracy')\n",
        "\n",
        "ax.set_xlabel('Epoch')\n",
        "ax.set_ylabel('Loss')\n",
        "plt.legend()\n",
        "\n",
        "# plot loss\n",
        "fig, ax = plt.subplots()\n",
        "ax.plot(range(10),history_seq_5.history['loss'],label='train loss')\n",
        "ax.plot(range(10),history_seq_5.history['val_loss'],label='val loss')\n",
        "\n",
        "ax.set_xlabel('Epoch')\n",
        "ax.set_ylabel('Loss')\n",
        "plt.legend()"
      ]
    },
    {
      "cell_type": "code",
      "execution_count": 76,
      "metadata": {
        "colab": {
          "base_uri": "https://localhost:8080/"
        },
        "id": "MWKuuN7j6Wtf",
        "outputId": "2bf38165-a55c-4321-b17b-764307ee1ae7"
      },
      "outputs": [
        {
          "name": "stdout",
          "output_type": "stream",
          "text": [
            "22/22 [==============================] - 0s 2ms/step\n",
            "              precision    recall  f1-score   support\n",
            "\n",
            "           0       0.83      0.88      0.86       517\n",
            "           1       0.61      0.49      0.54       187\n",
            "\n",
            "    accuracy                           0.78       704\n",
            "   macro avg       0.72      0.69      0.70       704\n",
            "weighted avg       0.77      0.78      0.77       704\n",
            "\n",
            "22/22 [==============================] - 0s 2ms/step\n",
            "              precision    recall  f1-score   support\n",
            "\n",
            "           0       0.84      0.86      0.85       517\n",
            "           1       0.60      0.56      0.58       187\n",
            "\n",
            "    accuracy                           0.78       704\n",
            "   macro avg       0.72      0.71      0.72       704\n",
            "weighted avg       0.78      0.78      0.78       704\n",
            "\n"
          ]
        }
      ],
      "source": [
        "# Baseline Sequential evaluation using clasification report\n",
        "\n",
        "y_pred_seq_bs = model_seq_bs.predict(X_test)\n",
        "y_pred_seq_bs = np.where(y_pred_seq_bs >= 0.5, 1, 0)\n",
        "\n",
        "print(classification_report(y_test_final, y_pred_seq))\n",
        "\n",
        "# Tuned Sequential Model evaluation using clasification report\n",
        "\n",
        "y_pred_seq_5 = model_seq_5.predict(X_test)\n",
        "y_pred_seq_5 = np.where(y_pred_seq_5 >= 0.5, 1, 0)\n",
        "\n",
        "print(classification_report(y_test_final, y_pred_seq_5))"
      ]
    },
    {
      "cell_type": "markdown",
      "metadata": {
        "id": "CA6mwUiuBw2t"
      },
      "source": [
        "**Saya menambahkan optimizer nadam untuk menambah kecepatan training model.**\n",
        "\n",
        "Visualisasi accuracy antara train_dataset dan val_dataset sama-sama mengalami peningkatan, garis terlihat lebih halus, dan gap kecil.\n",
        "\n",
        "Visualisasi error antara train_dataset dan val_dataset sama-sama mengalami penurunan, garis terlihat lebih halus, dan gap kecil.\n",
        "\n",
        "**Evaluation report untuk kelas 0 mengalami penurunan 0.02 pada recall dan penurunan 0.01 pada f1-score dan untuk kelas 1 mengalami penurunan 0.01 pada precision, peningkatan 0.03 pada recall, dan peningkatan 0.03 pada f1-score. Karena saya memperhatikan precision kelas 0 maka saya akan menggunakan model hasil tunning yang precissionnya sama.**"
      ]
    },
    {
      "cell_type": "markdown",
      "metadata": {
        "id": "cm6oMAur3Rvd"
      },
      "source": [
        "### f. Learning Rate: Tidak digunakan"
      ]
    },
    {
      "cell_type": "markdown",
      "metadata": {
        "id": "yX-j7AOb3TSN"
      },
      "source": [
        "### g. Regularisasi: Tidak digunakan"
      ]
    },
    {
      "cell_type": "markdown",
      "metadata": {
        "id": "RpuYHVCL3YRx"
      },
      "source": [
        "### h. Gradient Clipping: Tidak digunakan"
      ]
    },
    {
      "cell_type": "markdown",
      "metadata": {
        "id": "5UfNVY10f59G"
      },
      "source": [
        "## 6.3 - Final Seq Model (after Tuning)"
      ]
    },
    {
      "cell_type": "code",
      "execution_count": 77,
      "metadata": {
        "id": "3ZfVwQHPDBxf"
      },
      "outputs": [],
      "source": [
        "model_seq_final = model_seq_5\n",
        "history_seq_final = model_seq_5\n",
        "y_pred_seq_final = y_pred_seq_5"
      ]
    },
    {
      "cell_type": "markdown",
      "metadata": {
        "id": "w46LAeVBQ7Ne"
      },
      "source": [
        "# 7 - Functional API"
      ]
    },
    {
      "cell_type": "markdown",
      "metadata": {
        "id": "9qcdb1fTnNmA"
      },
      "source": [
        "## 7.1 - Baseline Model"
      ]
    },
    {
      "cell_type": "code",
      "execution_count": 122,
      "metadata": {},
      "outputs": [],
      "source": [
        "from tensorflow.keras.layers import Input, concatenate\n",
        "from tensorflow.keras import Model"
      ]
    },
    {
      "cell_type": "code",
      "execution_count": 78,
      "metadata": {
        "colab": {
          "base_uri": "https://localhost:8080/"
        },
        "id": "nK2pJexZYAm8",
        "outputId": "d0846ae2-f798-470e-a2cb-15de08664032"
      },
      "outputs": [
        {
          "name": "stdout",
          "output_type": "stream",
          "text": [
            "Model: \"model\"\n",
            "_________________________________________________________________\n",
            " Layer (type)                Output Shape              Param #   \n",
            "=================================================================\n",
            " input_1 (InputLayer)        [(None, 45)]              0         \n",
            "                                                                 \n",
            " dense_35 (Dense)            (None, 4)                 184       \n",
            "                                                                 \n",
            " dense_36 (Dense)            (None, 1)                 5         \n",
            "                                                                 \n",
            "=================================================================\n",
            "Total params: 189\n",
            "Trainable params: 189\n",
            "Non-trainable params: 0\n",
            "_________________________________________________________________\n"
          ]
        }
      ],
      "source": [
        "# Create Sequential_Model_Baseline\n",
        "\n",
        "input_layer = Input(shape=(45,)) # input layer\n",
        "hidden_layer = Dense(4)(input_layer) # hidden layer 1\n",
        "concat_layer = concatenate([input_layer, hidden2_layer])\n",
        "output_layer = Dense(1, activation='sigmoid')(hidden_layer)\n",
        "\n",
        "\n",
        "output_layer = Dense(1, activation='sigmoid')(concat_layer)\n",
        "\n",
        "\n",
        "model_func_bs = Model(inputs=input_layer, outputs=output_layer)\n",
        "\n",
        "model_func_bs.compile(loss='binary_crossentropy',\n",
        "                  metrics=['accuracy'])\n",
        "\n",
        "model_func_bs.summary()"
      ]
    },
    {
      "cell_type": "markdown",
      "metadata": {
        "id": "kPu_CJC1YE08"
      },
      "source": [
        "**Baseline Functional Model merupakan Multilayer Perceptron untuk binary classification yaitu model yang memiliki minimal 1 hidden layer dan menghasilkan 1 output.**\n",
        "\n",
        "**Model terdiri dari 3 layer yaitu:**\n",
        "1. Layer input: menerima 45 neuron input sesuai dengan jumlah feature yang diinput setelah scaling, encoding, dan tensor_pipeline.\n",
        "2. Hidden layer: terdiri dari 4 neuron sebagai tebakan awal.\n",
        "3. Output layer: menghasilkan 1 neuron digunakan untuk dataset binary classification.\n",
        "\n",
        "**Parameter pada compile adalah:**\n",
        "1. Loss function: binary_crossentropy. Model menggunakan loss function binary_cronssentropy karena dataset binary classification\n",
        "2. Metric: accuracy. Model menggunakan metric accuracy."
      ]
    },
    {
      "cell_type": "code",
      "execution_count": 79,
      "metadata": {
        "colab": {
          "base_uri": "https://localhost:8080/"
        },
        "id": "sIlSRk9IH8E3",
        "outputId": "b2fe531c-8486-4e56-d19d-c8ec337be97c"
      },
      "outputs": [
        {
          "name": "stdout",
          "output_type": "stream",
          "text": [
            "Epoch 1/10\n",
            "170/170 [==============================] - 2s 4ms/step - loss: 0.4422 - accuracy: 0.7833 - val_loss: 0.4330 - val_accuracy: 0.7926\n",
            "Epoch 2/10\n",
            "170/170 [==============================] - 0s 3ms/step - loss: 0.4199 - accuracy: 0.8009 - val_loss: 0.4258 - val_accuracy: 0.7968\n",
            "Epoch 3/10\n",
            "170/170 [==============================] - 1s 3ms/step - loss: 0.4158 - accuracy: 0.8007 - val_loss: 0.4254 - val_accuracy: 0.8011\n",
            "Epoch 4/10\n",
            "170/170 [==============================] - 0s 3ms/step - loss: 0.4145 - accuracy: 0.8046 - val_loss: 0.4243 - val_accuracy: 0.7979\n",
            "Epoch 5/10\n",
            "170/170 [==============================] - 0s 3ms/step - loss: 0.4142 - accuracy: 0.8046 - val_loss: 0.4255 - val_accuracy: 0.7989\n",
            "Epoch 6/10\n",
            "170/170 [==============================] - 0s 3ms/step - loss: 0.4139 - accuracy: 0.8047 - val_loss: 0.4258 - val_accuracy: 0.8021\n",
            "Epoch 7/10\n",
            "170/170 [==============================] - 1s 3ms/step - loss: 0.4139 - accuracy: 0.8060 - val_loss: 0.4249 - val_accuracy: 0.7979\n",
            "Epoch 8/10\n",
            "170/170 [==============================] - 0s 3ms/step - loss: 0.4136 - accuracy: 0.8048 - val_loss: 0.4253 - val_accuracy: 0.7989\n",
            "Epoch 9/10\n",
            "170/170 [==============================] - 0s 3ms/step - loss: 0.4137 - accuracy: 0.8052 - val_loss: 0.4247 - val_accuracy: 0.7989\n",
            "Epoch 10/10\n",
            "170/170 [==============================] - 0s 3ms/step - loss: 0.4136 - accuracy: 0.8067 - val_loss: 0.4251 - val_accuracy: 0.8011\n"
          ]
        }
      ],
      "source": [
        "# Train Functional Model\n",
        "history_func_bs = model_func_bs.fit(train_dataset, validation_data=(val_dataset), epochs=10, verbose=1)"
      ]
    },
    {
      "cell_type": "markdown",
      "metadata": {
        "id": "MOwVNgktIFhj"
      },
      "source": [
        "**Baseline Sequential Model di train menggunakan batch 64 (lihat tensor pipeline) dan epoch 10.**"
      ]
    },
    {
      "cell_type": "code",
      "execution_count": 80,
      "metadata": {
        "colab": {
          "base_uri": "https://localhost:8080/",
          "height": 558
        },
        "id": "FX9gHfORIDoy",
        "outputId": "4db8ed0c-b2cf-4fe2-a459-eeb05a6fac06"
      },
      "outputs": [
        {
          "data": {
            "text/plain": [
              "<matplotlib.legend.Legend at 0x1d85a180a60>"
            ]
          },
          "execution_count": 80,
          "metadata": {},
          "output_type": "execute_result"
        },
        {
          "data": {
            "image/png": "[encoded data removed]",
            "text/plain": [
              "<Figure size 432x288 with 1 Axes>"
            ]
          },
          "metadata": {
            "needs_background": "light"
          },
          "output_type": "display_data"
        },
        {
          "data": {
            "image/png": "[encoded data removed]",
            "text/plain": [
              "<Figure size 432x288 with 1 Axes>"
            ]
          },
          "metadata": {
            "needs_background": "light"
          },
          "output_type": "display_data"
        }
      ],
      "source": [
        "# plot loss\n",
        "fig, ax = plt.subplots()\n",
        "ax.plot(range(10),history_func_bs.history['accuracy'],label='accuracy')\n",
        "ax.plot(range(10),history_func_bs.history['val_accuracy'],label='val accuracy')\n",
        "\n",
        "ax.set_xlabel('Epoch')\n",
        "ax.set_ylabel('Loss')\n",
        "plt.legend()\n",
        "\n",
        "# plot loss\n",
        "fig, ax = plt.subplots()\n",
        "ax.plot(range(10),history_func_bs.history['loss'],label='train loss')\n",
        "ax.plot(range(10),history_func_bs.history['val_loss'],label='val loss')\n",
        "\n",
        "ax.set_xlabel('Epoch')\n",
        "ax.set_ylabel('Loss')\n",
        "plt.legend()"
      ]
    },
    {
      "cell_type": "code",
      "execution_count": 81,
      "metadata": {
        "colab": {
          "base_uri": "https://localhost:8080/"
        },
        "id": "ZBMUus8bIMZc",
        "outputId": "d48163aa-4687-46ea-f7da-0f5f7ad02adf"
      },
      "outputs": [
        {
          "name": "stdout",
          "output_type": "stream",
          "text": [
            "22/22 [==============================] - 0s 2ms/step\n",
            "              precision    recall  f1-score   support\n",
            "\n",
            "           0       0.83      0.90      0.86       517\n",
            "           1       0.64      0.48      0.55       187\n",
            "\n",
            "    accuracy                           0.79       704\n",
            "   macro avg       0.73      0.69      0.70       704\n",
            "weighted avg       0.78      0.79      0.78       704\n",
            "\n"
          ]
        }
      ],
      "source": [
        "# Model evaluation using clasification report\n",
        "\n",
        "y_pred_func_bs = model_func_bs.predict(X_test)\n",
        "y_pred_func_bs = np.where(y_pred_func_bs >= 0.5, 1, 0)\n",
        "\n",
        "print(classification_report(y_test_final, y_pred_func_bs))"
      ]
    },
    {
      "cell_type": "markdown",
      "metadata": {
        "id": "OzGw_caDIb6P"
      },
      "source": [
        "**Berdasarkan visualisasi terlihat accuracy dan loss dari train_dataset dan val_dataset sudah cukup baik.** Accuracy mengalami kenaikan dengan gap yang kecil antar train_dataset dan val_dataset. Accuracy val_dataset menyentuh angka 0.7979 di akhir epoch. Loss mengalami penurunan dengan gap yang kecil antar train_dataset dan val_dataset. Loss val_dataset menyentuh angka 0.4265 di akhir epoch.\n",
        "\n",
        "**Churn merupakan suatu kejadian dimana seorang customer memutus hubungan dengan perusahaan kita.** Tujuan kita adalah untuk meminimalisir churn rate sehingga kita akan berfokus pada label 0 yaitu orang yang tidak churn. Dengan berfokus ke label 0 kita bisa lebih menargetkan promo atau fitur atau service baru kepada customer yang tersebut agar bertahan sambil mencari customer baru.\n",
        "\n",
        "**Berdasarkan classification record, model memiliki precision 0.83 dan recall sebesar 0.90 yang tergolong tinggi.**\n",
        "\n",
        "- Precision : Jadi dari 517 customer yang tidak churn, kita berhasil mengklasifikasikan 83% customer benar tidak churn dan dan salah mengklasifikasikan 17% sisanya sebagai customer yang churn padahal seharusnya tidak churn.\n",
        "- Recall : Jadi dari 517 customer yang tidak churn, kita berhasil mengklasifikasikan 90% customer benar tidak churn dan salah mengklasifikasikan 10% yang seharusnya dia churn tapi kita anggap sebagai tidak churn.\n",
        "\n",
        "**Kita akan melakukan tunning untuk meningkatkan accuracy dan menurunkan loss.**\n"
      ]
    },
    {
      "cell_type": "markdown",
      "metadata": {
        "id": "XUa3Nx-hnYCd"
      },
      "source": [
        "## 7.2 - Functional Model (after Tunning)"
      ]
    },
    {
      "cell_type": "markdown",
      "metadata": {
        "id": "FH8-H8l4h7Kp"
      },
      "source": [
        "Model akan dituning dengan format tunning yang sama dengan Model Sequential."
      ]
    },
    {
      "cell_type": "markdown",
      "metadata": {
        "id": "wGlSr6sEH2Jy"
      },
      "source": [
        "### a. Define Neuron, Layer, and Activation Function"
      ]
    },
    {
      "cell_type": "code",
      "execution_count": 82,
      "metadata": {
        "colab": {
          "base_uri": "https://localhost:8080/"
        },
        "id": "uVxVtGJlYUpE",
        "outputId": "b3ad335e-a5c7-4465-ccda-99deb0a14f69"
      },
      "outputs": [
        {
          "name": "stdout",
          "output_type": "stream",
          "text": [
            "Model: \"model_1\"\n",
            "_________________________________________________________________\n",
            " Layer (type)                Output Shape              Param #   \n",
            "=================================================================\n",
            " input_2 (InputLayer)        [(None, 45)]              0         \n",
            "                                                                 \n",
            " dense_37 (Dense)            (None, 4)                 184       \n",
            "                                                                 \n",
            " dense_38 (Dense)            (None, 2)                 10        \n",
            "                                                                 \n",
            " dense_39 (Dense)            (None, 1)                 3         \n",
            "                                                                 \n",
            "=================================================================\n",
            "Total params: 197\n",
            "Trainable params: 197\n",
            "Non-trainable params: 0\n",
            "_________________________________________________________________\n"
          ]
        }
      ],
      "source": [
        "# 2 hidden layer 4,2, fungsi aktivasi layer 1 relu, layer output sigmoid\n",
        "\n",
        "input_layer = Input(shape=(45,)) # input layer\n",
        "hidden1_layer = Dense(4, activation='relu')(input_layer) # hidden layer 1\n",
        "hidden2_layer = Dense(2)(hidden1_layer) # hidden layer 1\n",
        "output_layer = Dense(1, activation='sigmoid')(hidden2_layer)\n",
        "\n",
        "model_func_1 = Model(inputs=input_layer, outputs=output_layer)\n",
        "\n",
        "model_func_1.compile(loss='binary_crossentropy',\n",
        "                  metrics=['accuracy'])\n",
        "\n",
        "model_func_1.summary()"
      ]
    },
    {
      "cell_type": "code",
      "execution_count": 83,
      "metadata": {
        "colab": {
          "base_uri": "https://localhost:8080/"
        },
        "id": "Ynx695RWNQy9",
        "outputId": "9310a8a3-596b-4779-e043-8205ae087780"
      },
      "outputs": [
        {
          "name": "stdout",
          "output_type": "stream",
          "text": [
            "Epoch 1/10\n",
            "170/170 [==============================] - 2s 4ms/step - loss: 0.5059 - accuracy: 0.7645 - val_loss: 0.4533 - val_accuracy: 0.7726\n",
            "Epoch 2/10\n",
            "170/170 [==============================] - 0s 3ms/step - loss: 0.4329 - accuracy: 0.7930 - val_loss: 0.4389 - val_accuracy: 0.7884\n",
            "Epoch 3/10\n",
            "170/170 [==============================] - 0s 3ms/step - loss: 0.4220 - accuracy: 0.7988 - val_loss: 0.4342 - val_accuracy: 0.7905\n",
            "Epoch 4/10\n",
            "170/170 [==============================] - 0s 3ms/step - loss: 0.4178 - accuracy: 0.8024 - val_loss: 0.4305 - val_accuracy: 0.7958\n",
            "Epoch 5/10\n",
            "170/170 [==============================] - 0s 3ms/step - loss: 0.4161 - accuracy: 0.8046 - val_loss: 0.4287 - val_accuracy: 0.7958\n",
            "Epoch 6/10\n",
            "170/170 [==============================] - 1s 3ms/step - loss: 0.4153 - accuracy: 0.8036 - val_loss: 0.4273 - val_accuracy: 0.7958\n",
            "Epoch 7/10\n",
            "170/170 [==============================] - 0s 3ms/step - loss: 0.4142 - accuracy: 0.8052 - val_loss: 0.4281 - val_accuracy: 0.7989\n",
            "Epoch 8/10\n",
            "170/170 [==============================] - 0s 3ms/step - loss: 0.4133 - accuracy: 0.8064 - val_loss: 0.4268 - val_accuracy: 0.7979\n",
            "Epoch 9/10\n",
            "170/170 [==============================] - 0s 3ms/step - loss: 0.4127 - accuracy: 0.8067 - val_loss: 0.4259 - val_accuracy: 0.7905\n",
            "Epoch 10/10\n",
            "170/170 [==============================] - 0s 3ms/step - loss: 0.4124 - accuracy: 0.8071 - val_loss: 0.4261 - val_accuracy: 0.7989\n"
          ]
        }
      ],
      "source": [
        "# Train Sequential Model\n",
        "history_func_1 = model_func_1.fit(train_dataset, validation_data=(val_dataset), epochs=10, verbose=1)"
      ]
    },
    {
      "cell_type": "code",
      "execution_count": 84,
      "metadata": {
        "colab": {
          "base_uri": "https://localhost:8080/",
          "height": 562
        },
        "id": "YVMHtdNZNSKC",
        "outputId": "309de96f-f864-432b-f5da-3c6f850d2e0a"
      },
      "outputs": [
        {
          "data": {
            "text/plain": [
              "<matplotlib.legend.Legend at 0x1d85d5bb970>"
            ]
          },
          "execution_count": 84,
          "metadata": {},
          "output_type": "execute_result"
        },
        {
          "data": {
            "image/png": "[encoded data removed]",
            "text/plain": [
              "<Figure size 432x288 with 1 Axes>"
            ]
          },
          "metadata": {
            "needs_background": "light"
          },
          "output_type": "display_data"
        },
        {
          "data": {
            "image/png": "[encoded data removed]",
            "text/plain": [
              "<Figure size 432x288 with 1 Axes>"
            ]
          },
          "metadata": {
            "needs_background": "light"
          },
          "output_type": "display_data"
        }
      ],
      "source": [
        "# plot loss\n",
        "fig, ax = plt.subplots()\n",
        "ax.plot(range(10),history_func_1.history['accuracy'],label='accuracy')\n",
        "ax.plot(range(10),history_func_1.history['val_accuracy'],label='val accuracy')\n",
        "\n",
        "ax.set_xlabel('Epoch')\n",
        "ax.set_ylabel('Loss')\n",
        "plt.legend()\n",
        "\n",
        "# plot loss\n",
        "fig, ax = plt.subplots()\n",
        "ax.plot(range(10),history_func_1.history['loss'],label='train loss')\n",
        "ax.plot(range(10),history_func_1.history['val_loss'],label='val loss')\n",
        "\n",
        "ax.set_xlabel('Epoch')\n",
        "ax.set_ylabel('Loss')\n",
        "plt.legend()\n"
      ]
    },
    {
      "cell_type": "code",
      "execution_count": 85,
      "metadata": {
        "colab": {
          "base_uri": "https://localhost:8080/"
        },
        "id": "8JjB3RKjNYw6",
        "outputId": "d367a0d0-9ba2-4a79-e401-4b94c904193f"
      },
      "outputs": [
        {
          "name": "stdout",
          "output_type": "stream",
          "text": [
            "22/22 [==============================] - 0s 2ms/step\n",
            "              precision    recall  f1-score   support\n",
            "\n",
            "           0       0.83      0.90      0.86       517\n",
            "           1       0.64      0.48      0.55       187\n",
            "\n",
            "    accuracy                           0.79       704\n",
            "   macro avg       0.73      0.69      0.70       704\n",
            "weighted avg       0.78      0.79      0.78       704\n",
            "\n",
            "22/22 [==============================] - 0s 2ms/step\n",
            "              precision    recall  f1-score   support\n",
            "\n",
            "           0       0.83      0.91      0.86       517\n",
            "           1       0.64      0.48      0.55       187\n",
            "\n",
            "    accuracy                           0.79       704\n",
            "   macro avg       0.74      0.69      0.71       704\n",
            "weighted avg       0.78      0.79      0.78       704\n",
            "\n"
          ]
        }
      ],
      "source": [
        "# Baseline Functional evaluation using clasification report\n",
        "\n",
        "y_pred_func_bs = model_func_bs.predict(X_test)\n",
        "y_pred_func_bs = np.where(y_pred_func_bs >= 0.5, 1, 0)\n",
        "\n",
        "print(classification_report(y_test_final, y_pred_func_bs))\n",
        "\n",
        "# Tuned Functional Model evaluation using clasification report\n",
        "\n",
        "y_pred_func_1 = model_func_1.predict(X_test)\n",
        "y_pred_func_1 = np.where(y_pred_func_1 >= 0.5, 1, 0)\n",
        "\n",
        "print(classification_report(y_test_final, y_pred_func_1))"
      ]
    },
    {
      "cell_type": "markdown",
      "metadata": {
        "id": "O-2CphUKN-xN"
      },
      "source": [
        "**Setelah melakukan beberapa percobaan saya menggunakan 2 hidden layer dengan neuron (4,2), fungsi aktivasi relu pada hidden layer 1 dan fungsi aktivasi sigmoid pada layer output, loss function binary_crossentropy, metrik accuracy, dan epoch 10.**\n",
        "\n",
        "Visualisasi accuracy antara train_dataset dan val_dataset sama-sama mengalami peningkatan, garis terlihat lebih halus, dan gap kecil.\n",
        "\n",
        "Visualisasi error antara train_dataset dan val_dataset sama-sama mengalami penurunan, garis terlihat lebih halus, dan gap kecil.\n",
        "\n",
        "Evaluation report akan kita lihat di akhir Tunning."
      ]
    },
    {
      "cell_type": "markdown",
      "metadata": {
        "id": "KgsIEzVTN_yq"
      },
      "source": [
        "### b. Weight Initialization"
      ]
    },
    {
      "cell_type": "code",
      "execution_count": 86,
      "metadata": {
        "colab": {
          "base_uri": "https://localhost:8080/"
        },
        "id": "De0wHbu_OBhI",
        "outputId": "5edb2270-0832-484d-ad17-e2b3d9c2a93b"
      },
      "outputs": [
        {
          "name": "stdout",
          "output_type": "stream",
          "text": [
            "Model: \"model_2\"\n",
            "_________________________________________________________________\n",
            " Layer (type)                Output Shape              Param #   \n",
            "=================================================================\n",
            " input_3 (InputLayer)        [(None, 45)]              0         \n",
            "                                                                 \n",
            " dense_40 (Dense)            (None, 4)                 184       \n",
            "                                                                 \n",
            " dense_41 (Dense)            (None, 2)                 10        \n",
            "                                                                 \n",
            " dense_42 (Dense)            (None, 1)                 3         \n",
            "                                                                 \n",
            "=================================================================\n",
            "Total params: 197\n",
            "Trainable params: 197\n",
            "Non-trainable params: 0\n",
            "_________________________________________________________________\n"
          ]
        }
      ],
      "source": [
        "# 2 hidden layer 4,2, fungsi aktivasi layer 1 relu, layer output sigmoid, weight initialization GlorotNormal\n",
        "\n",
        "input_layer = Input(shape=(45,)) # input layer\n",
        "hidden1_layer = Dense(4, activation='relu', kernel_initializer=tf.keras.initializers.GlorotNormal(seed=12))(input_layer) # hidden layer 1\n",
        "hidden2_layer = Dense(2)(hidden1_layer) # hidden layer 1\n",
        "output_layer = Dense(1, activation='sigmoid')(hidden2_layer)\n",
        "\n",
        "model_func_2 = Model(inputs=input_layer, outputs=output_layer)\n",
        "\n",
        "model_func_2.compile(loss='binary_crossentropy',\n",
        "                  metrics=['accuracy'])\n",
        "\n",
        "model_func_2.summary()"
      ]
    },
    {
      "cell_type": "code",
      "execution_count": 87,
      "metadata": {
        "colab": {
          "base_uri": "https://localhost:8080/"
        },
        "id": "5_FIkZb3OFD4",
        "outputId": "4b897409-162e-4bd2-a03e-bad9d5303239"
      },
      "outputs": [
        {
          "name": "stdout",
          "output_type": "stream",
          "text": [
            "Epoch 1/10\n",
            "170/170 [==============================] - 2s 4ms/step - loss: 0.5821 - accuracy: 0.6818 - val_loss: 0.4680 - val_accuracy: 0.7684\n",
            "Epoch 2/10\n",
            "170/170 [==============================] - 1s 3ms/step - loss: 0.4429 - accuracy: 0.7809 - val_loss: 0.4301 - val_accuracy: 0.7968\n",
            "Epoch 3/10\n",
            "170/170 [==============================] - 0s 3ms/step - loss: 0.4236 - accuracy: 0.7962 - val_loss: 0.4242 - val_accuracy: 0.7968\n",
            "Epoch 4/10\n",
            "170/170 [==============================] - 0s 3ms/step - loss: 0.4170 - accuracy: 0.8021 - val_loss: 0.4223 - val_accuracy: 0.7979\n",
            "Epoch 5/10\n",
            "170/170 [==============================] - 0s 3ms/step - loss: 0.4136 - accuracy: 0.8074 - val_loss: 0.4216 - val_accuracy: 0.8032\n",
            "Epoch 6/10\n",
            "170/170 [==============================] - 0s 3ms/step - loss: 0.4115 - accuracy: 0.8079 - val_loss: 0.4218 - val_accuracy: 0.8000\n",
            "Epoch 7/10\n",
            "170/170 [==============================] - 0s 3ms/step - loss: 0.4101 - accuracy: 0.8078 - val_loss: 0.4223 - val_accuracy: 0.7989\n",
            "Epoch 8/10\n",
            "170/170 [==============================] - 1s 3ms/step - loss: 0.4091 - accuracy: 0.8092 - val_loss: 0.4228 - val_accuracy: 0.7968\n",
            "Epoch 9/10\n",
            "170/170 [==============================] - 0s 3ms/step - loss: 0.4085 - accuracy: 0.8090 - val_loss: 0.4230 - val_accuracy: 0.7968\n",
            "Epoch 10/10\n",
            "170/170 [==============================] - 0s 3ms/step - loss: 0.4080 - accuracy: 0.8094 - val_loss: 0.4233 - val_accuracy: 0.7968\n"
          ]
        }
      ],
      "source": [
        "# Train Sequential Model\n",
        "history_func_2 = model_func_2.fit(train_dataset, validation_data=(val_dataset), epochs=10, verbose=1)"
      ]
    },
    {
      "cell_type": "code",
      "execution_count": 88,
      "metadata": {
        "colab": {
          "base_uri": "https://localhost:8080/",
          "height": 558
        },
        "id": "MITgYeskOGqy",
        "outputId": "0fa69a4c-c17a-4ea1-8cd1-beb9afa6b262"
      },
      "outputs": [
        {
          "data": {
            "text/plain": [
              "<matplotlib.legend.Legend at 0x1d85a1c0be0>"
            ]
          },
          "execution_count": 88,
          "metadata": {},
          "output_type": "execute_result"
        },
        {
          "data": {
            "image/png": "[encoded data removed]",
            "text/plain": [
              "<Figure size 432x288 with 1 Axes>"
            ]
          },
          "metadata": {
            "needs_background": "light"
          },
          "output_type": "display_data"
        },
        {
          "data": {
            "image/png": "[encoded data removed]",
            "text/plain": [
              "<Figure size 432x288 with 1 Axes>"
            ]
          },
          "metadata": {
            "needs_background": "light"
          },
          "output_type": "display_data"
        }
      ],
      "source": [
        "# plot loss\n",
        "fig, ax = plt.subplots()\n",
        "ax.plot(range(10),history_func_2.history['accuracy'],label='accuracy')\n",
        "ax.plot(range(10),history_func_2.history['val_accuracy'],label='val accuracy')\n",
        "\n",
        "ax.set_xlabel('Epoch')\n",
        "ax.set_ylabel('Loss')\n",
        "plt.legend()\n",
        "\n",
        "# plot loss\n",
        "fig, ax = plt.subplots()\n",
        "ax.plot(range(10),history_func_2.history['loss'],label='train loss')\n",
        "ax.plot(range(10),history_func_2.history['val_loss'],label='val loss')\n",
        "\n",
        "ax.set_xlabel('Epoch')\n",
        "ax.set_ylabel('Loss')\n",
        "plt.legend()"
      ]
    },
    {
      "cell_type": "code",
      "execution_count": 89,
      "metadata": {
        "colab": {
          "base_uri": "https://localhost:8080/"
        },
        "id": "wIbVx35SOJ8S",
        "outputId": "c7eee744-d88b-4a5b-abe5-13d302c6a752"
      },
      "outputs": [
        {
          "name": "stdout",
          "output_type": "stream",
          "text": [
            "22/22 [==============================] - 0s 2ms/step\n",
            "              precision    recall  f1-score   support\n",
            "\n",
            "           0       0.83      0.90      0.86       517\n",
            "           1       0.64      0.48      0.55       187\n",
            "\n",
            "    accuracy                           0.79       704\n",
            "   macro avg       0.73      0.69      0.70       704\n",
            "weighted avg       0.78      0.79      0.78       704\n",
            "\n",
            "22/22 [==============================] - 0s 2ms/step\n",
            "              precision    recall  f1-score   support\n",
            "\n",
            "           0       0.84      0.87      0.86       517\n",
            "           1       0.61      0.53      0.57       187\n",
            "\n",
            "    accuracy                           0.78       704\n",
            "   macro avg       0.72      0.70      0.71       704\n",
            "weighted avg       0.78      0.78      0.78       704\n",
            "\n"
          ]
        }
      ],
      "source": [
        "# Baseline Functional evaluation using clasification report\n",
        "\n",
        "y_pred_func_bs = model_func_bs.predict(X_test)\n",
        "y_pred_func_bs = np.where(y_pred_func_bs >= 0.5, 1, 0)\n",
        "\n",
        "print(classification_report(y_test_final, y_pred_func_bs))\n",
        "\n",
        "# Tuned Functional Model evaluation using clasification report\n",
        "\n",
        "y_pred_func_2 = model_func_2.predict(X_test)\n",
        "y_pred_func_2 = np.where(y_pred_func_2 >= 0.5, 1, 0)\n",
        "\n",
        "print(classification_report(y_test_final, y_pred_func_2))"
      ]
    },
    {
      "cell_type": "markdown",
      "metadata": {
        "id": "ECO0WqAAOLUT"
      },
      "source": [
        "**Setelah melakukan beberapa percobaan saya menambahkan weight initialization GlorotNormal.**\n",
        "\n",
        "Visualisasi accuracy antara train_dataset dan val_dataset sama-sama mengalami peningkatan, garis terlihat lebih halus, dan gap kecil.\n",
        "\n",
        "Visualisasi error antara train_dataset dan val_dataset sama-sama mengalami penurunan, garis terlihat lebih halus, dan gap kecil.\n",
        "\n",
        "Evaluation report akan kita lihat di akhir Tunning."
      ]
    },
    {
      "cell_type": "markdown",
      "metadata": {
        "id": "bcSKySo7ONSX"
      },
      "source": [
        "### c. BatchNormalization"
      ]
    },
    {
      "cell_type": "code",
      "execution_count": 90,
      "metadata": {
        "id": "6roCuisLk7fJ"
      },
      "outputs": [],
      "source": [
        "# 2 hidden layer 4,2, fungsi aktivasi layer 1 relu, layer output sigmoid, weight initialization GlorotNormal\n",
        "\n",
        "# input_layer = Input(shape=(45,)) # input layer\n",
        "# hidden1_layer = Dense(4, activation='relu')(input_layer) # hidden layer 1\n",
        "# hidden2_layer = Dense(2)(hidden1_layer) # hidden layer 1\n",
        "# output_layer = Dense(1, activation='sigmoid')(hidden2_layer)\n",
        "\n",
        "# model_func_1 = Model(inputs=input_layer, outputs=output_layer)\n",
        "\n",
        "# model_func_1.compile(loss='binary_crossentropy',\n",
        "#                   metrics=['accuracy'])\n",
        "\n",
        "# model_func_1.summary()"
      ]
    },
    {
      "cell_type": "code",
      "execution_count": 91,
      "metadata": {
        "id": "PIDrEm2rOSgs"
      },
      "outputs": [],
      "source": [
        "# Train Sequential Model\n",
        "# history_seq_3 = model_seq_3.fit(train_dataset, validation_data=(val_dataset), epochs=10, verbose=1)"
      ]
    },
    {
      "cell_type": "code",
      "execution_count": 92,
      "metadata": {
        "id": "Jtxrogk-OUYQ"
      },
      "outputs": [],
      "source": [
        "# # plot loss\n",
        "# fig, ax = plt.subplots()\n",
        "# ax.plot(range(10),history_seq_3.history['accuracy'],label='accuracy')\n",
        "# ax.plot(range(10),history_seq_3.history['val_accuracy'],label='val accuracy')\n",
        "\n",
        "# ax.set_xlabel('Epoch')\n",
        "# ax.set_ylabel('Loss')\n",
        "# plt.legend()\n",
        "\n",
        "# # plot loss\n",
        "# fig, ax = plt.subplots()\n",
        "# ax.plot(range(10),history_seq_3.history['loss'],label='train loss')\n",
        "# ax.plot(range(10),history_seq_3.history['val_loss'],label='val loss')\n",
        "\n",
        "# ax.set_xlabel('Epoch')\n",
        "# ax.set_ylabel('Loss')\n",
        "# plt.legend()"
      ]
    },
    {
      "cell_type": "code",
      "execution_count": 93,
      "metadata": {
        "id": "Mohx-bMSOb70"
      },
      "outputs": [],
      "source": [
        "# # Baseline Sequential evaluation using clasification report\n",
        "\n",
        "# y_pred_seq_bs = model_seq_bs.predict(X_test)\n",
        "# y_pred_seq_bs = np.where(y_pred_seq_bs >= 0.5, 1, 0)\n",
        "\n",
        "# print(classification_report(y_test_final, y_pred_seq))\n",
        "\n",
        "# # Tuned Sequential Model evaluation using clasification report\n",
        "\n",
        "# y_pred_seq_2 = model_seq_2.predict(X_test)\n",
        "# y_pred_seq_2 = np.where(y_pred_seq_2 >= 0.5, 1, 0)\n",
        "\n",
        "# print(classification_report(y_test_final, y_pred_seq_2))"
      ]
    },
    {
      "cell_type": "markdown",
      "metadata": {
        "id": "1U0gbGd1Og4-"
      },
      "source": [
        "### d. Dropout"
      ]
    },
    {
      "cell_type": "code",
      "execution_count": 94,
      "metadata": {
        "id": "_qXRbJDXOiqP"
      },
      "outputs": [],
      "source": [
        "# 2 hidden layer 4,2, fungsi aktivasi layer 1 relu, layer output sigmoid, weight initialization GlorotNormal, with BatchNormalization\n",
        "\n",
        "# model_seq_4 = Sequential()\n",
        "\n",
        "# model_seq_4.add(Dense(4, input_shape=(45,), kernel_initializer=tf.keras.initializers.GlorotNormal(seed=12))) # Hidden layer 1\n",
        "# model_seq_4.add(tf.keras.layers.BatchNormalization())\n",
        "# model_seq_4.add(tf.keras.layers.Dropout(rate=0.1))\n",
        "# model_seq_4.add(tf.keras.layers.Activation('relu'))\n",
        "\n",
        "# model_seq_4.add(Dense(2)) # Hidden layer 2\n",
        "# model_seq_4.add(tf.keras.layers.BatchNormalization())\n",
        "# model_seq_4.add(tf.keras.layers.Dropout(rate=0.1))\n",
        "\n",
        "# model_seq_4.add(Dense(1)) # Output layer\n",
        "# model_seq_4.add(tf.keras.layers.BatchNormalization())\n",
        "# model_seq_4.add(tf.keras.layers.Dropout(rate=0.1))\n",
        "# model_seq_4.add(tf.keras.layers.Activation('sigmoid'))\n",
        "\n",
        "# model_seq_4.compile(loss='binary_crossentropy',\n",
        "#                   metrics=['accuracy'])\n",
        "\n",
        "# model_seq_4.summary()"
      ]
    },
    {
      "cell_type": "code",
      "execution_count": 95,
      "metadata": {
        "id": "siQ4DXF8Ok7C"
      },
      "outputs": [],
      "source": [
        "# Train Sequential Model\n",
        "# history_seq_4 = model_seq_4.fit(train_dataset, validation_data=(val_dataset), epochs=10, verbose=1)"
      ]
    },
    {
      "cell_type": "code",
      "execution_count": 96,
      "metadata": {
        "id": "CW2_2qRkOmhq"
      },
      "outputs": [],
      "source": [
        "# plot loss\n",
        "# fig, ax = plt.subplots()\n",
        "# ax.plot(range(10),history_seq_4.history['accuracy'],label='accuracy')\n",
        "# ax.plot(range(10),history_seq_4.history['val_accuracy'],label='val accuracy')\n",
        "\n",
        "# ax.set_xlabel('Epoch')\n",
        "# ax.set_ylabel('Loss')\n",
        "# plt.legend()\n",
        "\n",
        "# plot loss\n",
        "# fig, ax = plt.subplots()\n",
        "# ax.plot(range(10),history_seq_4.history['loss'],label='train loss')\n",
        "# ax.plot(range(10),history_seq_4.history['val_loss'],label='val loss')\n",
        "\n",
        "# ax.set_xlabel('Epoch')\n",
        "# ax.set_ylabel('Loss')\n",
        "# plt.legend()"
      ]
    },
    {
      "cell_type": "code",
      "execution_count": 97,
      "metadata": {
        "id": "UIBjC3m7OpsP"
      },
      "outputs": [],
      "source": [
        "# Baseline Sequential evaluation using clasification report\n",
        "\n",
        "# y_pred_seq_bs = model_seq_bs.predict(X_test)\n",
        "# y_pred_seq_bs = np.where(y_pred_seq_bs >= 0.5, 1, 0)\n",
        "\n",
        "# print(classification_report(y_test_final, y_pred_seq))\n",
        "\n",
        "# Tuned Sequential Model evaluation using clasification report\n",
        "\n",
        "# y_pred_seq_4 = model_seq_4.predict(X_test)\n",
        "# y_pred_seq_4 = np.where(y_pred_seq_4 >= 0.5, 1, 0)\n",
        "\n",
        "# print(classification_report(y_test_final, y_pred_seq_4))"
      ]
    },
    {
      "cell_type": "markdown",
      "metadata": {
        "id": "PgegieXFOvvQ"
      },
      "source": [
        "### e. Optimizer"
      ]
    },
    {
      "cell_type": "code",
      "execution_count": 123,
      "metadata": {
        "colab": {
          "base_uri": "https://localhost:8080/"
        },
        "id": "6aOZlUUfOvck",
        "outputId": "d0bafd47-25bc-4b46-cef0-929255c7cd1c"
      },
      "outputs": [
        {
          "name": "stdout",
          "output_type": "stream",
          "text": [
            "Model: \"model_4\"\n",
            "_________________________________________________________________\n",
            " Layer (type)                Output Shape              Param #   \n",
            "=================================================================\n",
            " input_5 (InputLayer)        [(None, 45)]              0         \n",
            "                                                                 \n",
            " dense_46 (Dense)            (None, 4)                 184       \n",
            "                                                                 \n",
            " dense_47 (Dense)            (None, 2)                 10        \n",
            "                                                                 \n",
            " dense_48 (Dense)            (None, 1)                 3         \n",
            "                                                                 \n",
            "=================================================================\n",
            "Total params: 197\n",
            "Trainable params: 197\n",
            "Non-trainable params: 0\n",
            "_________________________________________________________________\n"
          ]
        }
      ],
      "source": [
        "# 2 hidden layer 4,2, fungsi aktivasi layer 1 relu, layer output sigmoid, weight initialization GlorotNormal, with BatchNormalization, optimizer nadam\n",
        "\n",
        "input_layer = Input(shape=(45,)) # input layer\n",
        "hidden1_layer = Dense(4, activation='relu', kernel_initializer=tf.keras.initializers.GlorotNormal(seed=12))(input_layer) # hidden layer 1\n",
        "hidden2_layer = Dense(2)(hidden1_layer) # hidden layer 1\n",
        "output_layer = Dense(1, activation='sigmoid')(hidden2_layer)\n",
        "\n",
        "model_func_3 = Model(inputs=input_layer, outputs=output_layer)\n",
        "\n",
        "model_func_3.compile(loss='binary_crossentropy',\n",
        "                         optimizer='adam',\n",
        "                         metrics=['accuracy'])\n",
        "\n",
        "model_func_3.summary()"
      ]
    },
    {
      "cell_type": "code",
      "execution_count": 124,
      "metadata": {
        "colab": {
          "base_uri": "https://localhost:8080/"
        },
        "id": "R3RU2MNSOzSa",
        "outputId": "f4ee54d9-0dba-43a3-b371-dac9b84fe9e9"
      },
      "outputs": [
        {
          "name": "stdout",
          "output_type": "stream",
          "text": [
            "Epoch 1/10\n",
            "170/170 [==============================] - 3s 5ms/step - loss: 0.5143 - accuracy: 0.7369 - val_loss: 0.4519 - val_accuracy: 0.7916\n",
            "Epoch 2/10\n",
            "170/170 [==============================] - 1s 3ms/step - loss: 0.4360 - accuracy: 0.7977 - val_loss: 0.4322 - val_accuracy: 0.8000\n",
            "Epoch 3/10\n",
            "170/170 [==============================] - 1s 3ms/step - loss: 0.4230 - accuracy: 0.8062 - val_loss: 0.4275 - val_accuracy: 0.7958\n",
            "Epoch 4/10\n",
            "170/170 [==============================] - 1s 3ms/step - loss: 0.4180 - accuracy: 0.8067 - val_loss: 0.4257 - val_accuracy: 0.7979\n",
            "Epoch 5/10\n",
            "170/170 [==============================] - 1s 3ms/step - loss: 0.4155 - accuracy: 0.8067 - val_loss: 0.4241 - val_accuracy: 0.7989\n",
            "Epoch 6/10\n",
            "170/170 [==============================] - 1s 3ms/step - loss: 0.4139 - accuracy: 0.8067 - val_loss: 0.4231 - val_accuracy: 0.7979\n",
            "Epoch 7/10\n",
            "170/170 [==============================] - 1s 3ms/step - loss: 0.4128 - accuracy: 0.8076 - val_loss: 0.4223 - val_accuracy: 0.8000\n",
            "Epoch 8/10\n",
            "170/170 [==============================] - 1s 3ms/step - loss: 0.4117 - accuracy: 0.8084 - val_loss: 0.4213 - val_accuracy: 0.7989\n",
            "Epoch 9/10\n",
            "170/170 [==============================] - 1s 3ms/step - loss: 0.4107 - accuracy: 0.8098 - val_loss: 0.4212 - val_accuracy: 0.8000\n",
            "Epoch 10/10\n",
            "170/170 [==============================] - 1s 3ms/step - loss: 0.4107 - accuracy: 0.8085 - val_loss: 0.4209 - val_accuracy: 0.8021\n"
          ]
        }
      ],
      "source": [
        "# Train Sequential Model\n",
        "history_func_3 = model_func_3.fit(train_dataset, validation_data=(val_dataset), epochs=10, verbose=1)"
      ]
    },
    {
      "cell_type": "code",
      "execution_count": 125,
      "metadata": {
        "colab": {
          "base_uri": "https://localhost:8080/",
          "height": 558
        },
        "id": "NtwCAhnzO1rC",
        "outputId": "87275d9e-23b8-4615-985a-8be07d7f7420"
      },
      "outputs": [
        {
          "data": {
            "text/plain": [
              "<matplotlib.legend.Legend at 0x1d86b5b91b0>"
            ]
          },
          "execution_count": 125,
          "metadata": {},
          "output_type": "execute_result"
        },
        {
          "data": {
            "image/png": "[encoded data removed]",
            "text/plain": [
              "<Figure size 432x288 with 1 Axes>"
            ]
          },
          "metadata": {
            "needs_background": "light"
          },
          "output_type": "display_data"
        },
        {
          "data": {
            "image/png": "[encoded data removed]",
            "text/plain": [
              "<Figure size 432x288 with 1 Axes>"
            ]
          },
          "metadata": {
            "needs_background": "light"
          },
          "output_type": "display_data"
        }
      ],
      "source": [
        "# plot loss\n",
        "fig, ax = plt.subplots()\n",
        "ax.plot(range(10),history_func_3.history['accuracy'],label='accuracy')\n",
        "ax.plot(range(10),history_func_3.history['val_accuracy'],label='val accuracy')\n",
        "\n",
        "ax.set_xlabel('Epoch')\n",
        "ax.set_ylabel('Loss')\n",
        "plt.legend()\n",
        "\n",
        "# plot loss\n",
        "fig, ax = plt.subplots()\n",
        "ax.plot(range(10),history_func_3.history['loss'],label='train loss')\n",
        "ax.plot(range(10),history_func_3.history['val_loss'],label='val loss')\n",
        "\n",
        "ax.set_xlabel('Epoch')\n",
        "ax.set_ylabel('Loss')\n",
        "plt.legend()"
      ]
    },
    {
      "cell_type": "code",
      "execution_count": 126,
      "metadata": {
        "colab": {
          "base_uri": "https://localhost:8080/"
        },
        "id": "KbZjIuReO3eL",
        "outputId": "e8cb7a9d-af34-4217-9be6-e67d893ab1c9"
      },
      "outputs": [
        {
          "name": "stdout",
          "output_type": "stream",
          "text": [
            "22/22 [==============================] - 0s 3ms/step\n",
            "              precision    recall  f1-score   support\n",
            "\n",
            "           0       0.83      0.90      0.86       517\n",
            "           1       0.64      0.48      0.55       187\n",
            "\n",
            "    accuracy                           0.79       704\n",
            "   macro avg       0.73      0.69      0.70       704\n",
            "weighted avg       0.78      0.79      0.78       704\n",
            "\n",
            "22/22 [==============================] - 0s 2ms/step\n",
            "              precision    recall  f1-score   support\n",
            "\n",
            "           0       0.83      0.88      0.86       517\n",
            "           1       0.61      0.52      0.56       187\n",
            "\n",
            "    accuracy                           0.78       704\n",
            "   macro avg       0.72      0.70      0.71       704\n",
            "weighted avg       0.77      0.78      0.78       704\n",
            "\n"
          ]
        }
      ],
      "source": [
        "# Baseline Functional evaluation using clasification report\n",
        "\n",
        "y_pred_func_bs = model_func_bs.predict(X_test)\n",
        "y_pred_func_bs = np.where(y_pred_func_bs >= 0.5, 1, 0)\n",
        "\n",
        "print(classification_report(y_test_final, y_pred_func_bs))\n",
        "\n",
        "# Tuned Functional Model evaluation using clasification report\n",
        "\n",
        "y_pred_func_3 = model_func_3.predict(X_test)\n",
        "y_pred_func_3 = np.where(y_pred_func_3 >= 0.5, 1, 0)\n",
        "\n",
        "print(classification_report(y_test_final, y_pred_func_3))"
      ]
    },
    {
      "cell_type": "markdown",
      "metadata": {
        "id": "-o5G-1ebOyZy"
      },
      "source": [
        "**Saya menambahkan optimizer adam untuk menambah kecepatan training model.**\n",
        "\n",
        "Visualisasi accuracy antara train_dataset dan val_dataset sama-sama mengalami peningkatan, garis terlihat lebih halus, dan gap kecil.\n",
        "\n",
        "Visualisasi error antara train_dataset dan val_dataset sama-sama mengalami penurunan, garis terlihat lebih halus, dan gap kecil.\n",
        "\n",
        "**Evaluation report untuk kelas 0 mengalami penurunan 0.02 pada recall kelas 0, dan penurunan 0.03 precision, peningkatan 0.04 pada recall, dan peningkatan 0.01 pada f1-score kelas-1. Model dapat dikatakan mengalami penurunan.**"
      ]
    },
    {
      "cell_type": "markdown",
      "metadata": {
        "id": "9aXTJklsO8tq"
      },
      "source": [
        "## 7.3 - Final Seq Model (after Tuning)"
      ]
    },
    {
      "cell_type": "code",
      "execution_count": 127,
      "metadata": {
        "id": "D79tA6poO-Ly"
      },
      "outputs": [],
      "source": [
        "model_func_final = model_func_3\n",
        "history_func_final = model_func_3\n",
        "y_pred_func_final = y_pred_func_3"
      ]
    },
    {
      "cell_type": "markdown",
      "metadata": {
        "id": "HfqZbU5JZiJM"
      },
      "source": [
        "# 8 - Model Analysis"
      ]
    },
    {
      "cell_type": "code",
      "execution_count": 128,
      "metadata": {
        "colab": {
          "base_uri": "https://localhost:8080/"
        },
        "id": "PkOk4paSozCX",
        "outputId": "fb5190ee-f50a-4734-f469-445b1c944706"
      },
      "outputs": [
        {
          "name": "stdout",
          "output_type": "stream",
          "text": [
            "---evaluasi baseline sequential---\n",
            "              precision    recall  f1-score   support\n",
            "\n",
            "           0       0.83      0.88      0.86       517\n",
            "           1       0.61      0.49      0.54       187\n",
            "\n",
            "    accuracy                           0.78       704\n",
            "   macro avg       0.72      0.69      0.70       704\n",
            "weighted avg       0.77      0.78      0.77       704\n",
            "\n",
            "---evaluasi tunned sequential---\n",
            "              precision    recall  f1-score   support\n",
            "\n",
            "           0       0.84      0.86      0.85       517\n",
            "           1       0.60      0.56      0.58       187\n",
            "\n",
            "    accuracy                           0.78       704\n",
            "   macro avg       0.72      0.71      0.72       704\n",
            "weighted avg       0.78      0.78      0.78       704\n",
            "\n",
            "---evaluasi baseline functional---\n",
            "              precision    recall  f1-score   support\n",
            "\n",
            "           0       0.83      0.90      0.86       517\n",
            "           1       0.64      0.48      0.55       187\n",
            "\n",
            "    accuracy                           0.79       704\n",
            "   macro avg       0.73      0.69      0.70       704\n",
            "weighted avg       0.78      0.79      0.78       704\n",
            "\n",
            "---evaluasi tunned functional---\n",
            "              precision    recall  f1-score   support\n",
            "\n",
            "           0       0.83      0.88      0.86       517\n",
            "           1       0.61      0.52      0.56       187\n",
            "\n",
            "    accuracy                           0.78       704\n",
            "   macro avg       0.72      0.70      0.71       704\n",
            "weighted avg       0.77      0.78      0.78       704\n",
            "\n"
          ]
        }
      ],
      "source": [
        "# membandingkan hasil evaluasi akhir dari baseline sequential, tuned sequential, baseline functional, tuned functional\n",
        "\n",
        "# evaluasi baseline sequential\n",
        "print('---evaluasi baseline sequential---')\n",
        "print(classification_report(y_test_final, y_pred_seq_bs))\n",
        "\n",
        "# evaluasi tunned sequential\n",
        "print('---evaluasi tunned sequential---')\n",
        "print(classification_report(y_test_final, y_pred_seq_final))\n",
        "\n",
        "# evaluasi baseline functional\n",
        "print('---evaluasi baseline functional---')\n",
        "print(classification_report(y_test_final, y_pred_func_bs))\n",
        "\n",
        "# evaluasi tunned functional\n",
        "print('---evaluasi tunned functional---')\n",
        "print(classification_report(y_test_final, y_pred_func_final))\n"
      ]
    },
    {
      "cell_type": "markdown",
      "metadata": {
        "id": "8wzL14s7Kp8h"
      },
      "source": [
        "**Dalam kasus ini kita awalnya menggunakan 2 baseline model untuk melakukan klasifikasi churn. Model yang digunakan ada dua jenis yaitu sequential dan functional.** Kedua model mampu belajar dengan baik, hal itu dibuktikan dari grafik loss dan accuracy dimana kedua model menghasilkan loss yang rendah, accuracy yang tinggi, dan juga tidak overfit.\n",
        "\n",
        "Kedua model tersebut dicoba untuk diimprove dengan menambah jumlah hidden layer,neuron, activation function, weight initialization, batchnormalization, dan optimizer.\n",
        "\n",
        "**Churn merupakan suatu kejadian dimana seorang customer memutus hubungan dengan perusahaan kita. Tujuan kita adalah untuk meminimalisir churn rate sehingga kita akan berfokus pada label 0 yaitu orang yang tidak churn.** Dengan berfokus ke label 0 kita bisa lebih menargetkan promo atau fitur atau service baru kepada customer yang tersebut agar bertahan sambil mencari customer baru.\n",
        "\n",
        "**Berdasarkan hal tersebut dan hasil evaluation report, model terbaik adalah model hasil tunned functional dengan precision 0.85, recall 0.89, dan f1-score 0.87 untuk kelas 0.**"
      ]
    },
    {
      "cell_type": "markdown",
      "metadata": {
        "id": "zD3-gZZ_Vd4d"
      },
      "source": [
        "# 9 - Model Inference"
      ]
    },
    {
      "cell_type": "markdown",
      "metadata": {
        "id": "WxurWOw6c-KP"
      },
      "source": [
        "Sebelum melakukan evaluasi pada Inference Set, kita akan melakukan tahapan preprocessing yang sama dengan yang dilakukan pada Test-Set. Kita akan memilih untuk menggunakan functional model hasil improvement untuk melakukan klasifikasi pada inference set."
      ]
    },
    {
      "cell_type": "code",
      "execution_count": null,
      "metadata": {
        "id": "jvkgymmcc_57"
      },
      "outputs": [],
      "source": [
        "# Memilih fitur yang akan digunakan\n",
        "data_inf_.drop(columns=['customerID'], axis=1, inplace=True)"
      ]
    },
    {
      "cell_type": "code",
      "execution_count": 105,
      "metadata": {
        "id": "EF8iqqiWdBpG"
      },
      "outputs": [],
      "source": [
        "# Menggunakan preproccess pipeline pada data inf\n",
        "\n",
        "data_inf_final = preprocess.transform(data_inf)"
      ]
    },
    {
      "cell_type": "code",
      "execution_count": 106,
      "metadata": {
        "id": "YqET0lThdDii"
      },
      "outputs": [],
      "source": [
        "# Melakukan encode pada target data inf\n",
        "data_inf_target = label_enc.transform(data_inf['Churn'])"
      ]
    },
    {
      "cell_type": "code",
      "execution_count": 107,
      "metadata": {
        "colab": {
          "base_uri": "https://localhost:8080/"
        },
        "id": "ZjNh8no0dIOQ",
        "outputId": "5509a010-3196-4068-b634-a7c260acadc2"
      },
      "outputs": [
        {
          "name": "stdout",
          "output_type": "stream",
          "text": [
            "1/1 [==============================] - 0s 97ms/step\n"
          ]
        }
      ],
      "source": [
        "# melakukan predict pada inference set\n",
        "y_pred_inf = model_func_final.predict(data_inf_final)\n",
        "y_pred_inf = np.where(y_pred_inf >= 0.5, 'Yes', 'No')"
      ]
    },
    {
      "cell_type": "code",
      "execution_count": 108,
      "metadata": {
        "id": "ifj3zH6mdKtN"
      },
      "outputs": [],
      "source": [
        "# Membuat hasil prediksi menjadi dataframe\n",
        "y_pred_inf_df = pd.DataFrame(y_pred_inf, columns=['Functional Prediction'])"
      ]
    },
    {
      "cell_type": "code",
      "execution_count": 109,
      "metadata": {
        "colab": {
          "base_uri": "https://localhost:8080/",
          "height": 363
        },
        "id": "DONkl7LcdPwS",
        "outputId": "ad361b62-4bdf-430e-bcf6-a2cdca0a0ec3"
      },
      "outputs": [
        {
          "data": {
            "text/html": [
              "<div>\n",
              "<style scoped>\n",
              "    .dataframe tbody tr th:only-of-type {\n",
              "        vertical-align: middle;\n",
              "    }\n",
              "\n",
              "    .dataframe tbody tr th {\n",
              "        vertical-align: top;\n",
              "    }\n",
              "\n",
              "    .dataframe thead th {\n",
              "        text-align: right;\n",
              "    }\n",
              "</style>\n",
              "<table border=\"1\" class=\"dataframe\">\n",
              "  <thead>\n",
              "    <tr style=\"text-align: right;\">\n",
              "      <th></th>\n",
              "      <th>Churn</th>\n",
              "      <th>Functional Prediction</th>\n",
              "    </tr>\n",
              "  </thead>\n",
              "  <tbody>\n",
              "    <tr>\n",
              "      <th>0</th>\n",
              "      <td>Yes</td>\n",
              "      <td>No</td>\n",
              "    </tr>\n",
              "    <tr>\n",
              "      <th>1</th>\n",
              "      <td>No</td>\n",
              "      <td>No</td>\n",
              "    </tr>\n",
              "    <tr>\n",
              "      <th>2</th>\n",
              "      <td>No</td>\n",
              "      <td>No</td>\n",
              "    </tr>\n",
              "    <tr>\n",
              "      <th>3</th>\n",
              "      <td>Yes</td>\n",
              "      <td>Yes</td>\n",
              "    </tr>\n",
              "    <tr>\n",
              "      <th>4</th>\n",
              "      <td>No</td>\n",
              "      <td>No</td>\n",
              "    </tr>\n",
              "    <tr>\n",
              "      <th>5</th>\n",
              "      <td>No</td>\n",
              "      <td>No</td>\n",
              "    </tr>\n",
              "    <tr>\n",
              "      <th>6</th>\n",
              "      <td>No</td>\n",
              "      <td>No</td>\n",
              "    </tr>\n",
              "    <tr>\n",
              "      <th>7</th>\n",
              "      <td>Yes</td>\n",
              "      <td>No</td>\n",
              "    </tr>\n",
              "    <tr>\n",
              "      <th>8</th>\n",
              "      <td>No</td>\n",
              "      <td>No</td>\n",
              "    </tr>\n",
              "    <tr>\n",
              "      <th>9</th>\n",
              "      <td>No</td>\n",
              "      <td>No</td>\n",
              "    </tr>\n",
              "  </tbody>\n",
              "</table>\n",
              "</div>"
            ],
            "text/plain": [
              "  Churn Functional Prediction\n",
              "0   Yes                    No\n",
              "1    No                    No\n",
              "2    No                    No\n",
              "3   Yes                   Yes\n",
              "4    No                    No\n",
              "5    No                    No\n",
              "6    No                    No\n",
              "7   Yes                    No\n",
              "8    No                    No\n",
              "9    No                    No"
            ]
          },
          "execution_count": 109,
          "metadata": {},
          "output_type": "execute_result"
        }
      ],
      "source": [
        "pred_inf = pd.concat([data_inf['Churn'], y_pred_inf_df], axis=1)\n",
        "pred_inf"
      ]
    },
    {
      "cell_type": "code",
      "execution_count": 110,
      "metadata": {
        "colab": {
          "base_uri": "https://localhost:8080/"
        },
        "id": "a42cbIBzdRuQ",
        "outputId": "10275a86-020c-449c-a045-6ad96cff6202"
      },
      "outputs": [
        {
          "name": "stdout",
          "output_type": "stream",
          "text": [
            "----Inference Set----\n",
            "              precision    recall  f1-score   support\n",
            "\n",
            "          No       0.78      1.00      0.88         7\n",
            "         Yes       1.00      0.33      0.50         3\n",
            "\n",
            "    accuracy                           0.80        10\n",
            "   macro avg       0.89      0.67      0.69        10\n",
            "weighted avg       0.84      0.80      0.76        10\n",
            "\n"
          ]
        }
      ],
      "source": [
        "print('----Inference Set----')\n",
        "print(classification_report(data_inf['Churn'], y_pred_inf_df))"
      ]
    },
    {
      "cell_type": "code",
      "execution_count": 111,
      "metadata": {
        "colab": {
          "base_uri": "https://localhost:8080/",
          "height": 283
        },
        "id": "25GRb-l5dTqM",
        "outputId": "4e6bfcb0-ed27-4963-c519-ef30042233ec"
      },
      "outputs": [
        {
          "data": {
            "image/png": "[encoded data removed]",
            "text/plain": [
              "<Figure size 432x288 with 2 Axes>"
            ]
          },
          "metadata": {
            "needs_background": "light"
          },
          "output_type": "display_data"
        }
      ],
      "source": [
        "ConfusionMatrixDisplay.from_predictions(data_inf['Churn'], y_pred_inf_df)\n",
        "plt.show()"
      ]
    },
    {
      "cell_type": "markdown",
      "metadata": {
        "id": "ve1P9gntdWb4"
      },
      "source": [
        "Hasil klasifikasi model inference cukup baik dengan accuracy 0.80 pada classification report. Dari 7 orang yang aslinya tidak churn kita berhasil mengklasifikasikan 7 tidak churn. Dari 3 orang yang aslinya churn, kita berhasil mengklasifikasikan 1 orang churn dan 2 orang salah klasifikasi menjadi tidak churn padahal aslinya churn."
      ]
    },
    {
      "cell_type": "markdown",
      "metadata": {
        "id": "2eCYeyKxVgZT"
      },
      "source": [
        "# 10 - Pengambilan Kesimpulan"
      ]
    },
    {
      "cell_type": "markdown",
      "metadata": {
        "id": "XcjWwMlydaEa"
      },
      "source": [
        "Dataset kali ini berisi data customer Telco, dimana Telco adalah salah satu perusahaan telekomunikasi yang menyediakan beberapa layanan seperti layanan telfon, internet, streaming tv, dan lain-lain. Jumlah perbandingan churn dan tidak churn imbalance karena yang tidak churn memiliki persentase sebesar 73.5% dan yang churn hanya 26.5%. Customer telco memiliki jumlah gender yang hampir setara antara pria dan wanita. Customer kita juga beragam dari orang dewasa hingga orang lanjut usia. Lamanya customer kita sudah berlangganan juga beragam dari 1 bulan hingga 72 bulan dengan rata-rata sudah berlangganan 32 bulan. Kita juga tahu ternyata sudah banyak customer kita yang berlangganan telfon sebanyak 90.3% dimana ada yang menggunakan multiple lines ada juga yang tidak. Kita juga lihat ada 78.4% orang yang sudah berlangganan internet dengan jenis fiber optic dan juga DSL. Dan untuk orang yang berlangganan internet, telco menawarkan banyak fasilitas seperti online security, online backup, device protection, tech support, streaming tv, dan streaming movies. Fitur payments yang ditawarkan oleh telco juga beragam, kita bisa memilih beragam waktu kontrak dari perbulan, 1 tahun, dan 2 tahun. Kita juga bisa memilih untuk menerima tagihan berbentuk kertas atau online, dan juga kita bisa memilih metode pembayaran seperti bank transfer, credit card, cek, dan online cek.\n",
        "\n",
        "Dalam kasus ini kita berfokus pada target churn. Churn merupakan suatu kejadian dimana seorang customer memutus hubungan dengan perusahaan kita, maka dari itu tujuan kita adalah untuk meminimalisir churn rate. Menurut saya kita harus lebih berfokus pada label 0 dimana kita harus bisa menjaga agar customer tersebut tidak akan memutuskan hubungan dengan perusahaan sambil bisa mencari customer baru. Dengan fokus ke label 0 kita bisa lebih menargetkan promo atau fitur atau service baru kepada customer yang bertahan supaya mereka tetap bertahan dan tidak churn.\n",
        "\n",
        "Model yang buat untuk melakukan klasifikasi churn customer kali ini ada dua yaitu sequential model dan juga functional model. Kedua model dibentuk dengan arsitektur yang sama yaitu menggunakan 1 hidden layer dengan jumlah neuron 4 dan 1 output layer dengan 1 neuron. Kedua model menghasilkan performa yang cukup baik dilihat dari grafik loss dan accuracy saat training yang cukup baik dan juga tidak overfit.\n",
        "\n",
        "Model sequential dan functional yang sudah dibuat tadi dicoba untuk diimprove dengan mengganti hyperparameternya. Pada model sequential dilakukan improvement dengan menambahkan jumlah hidden layer menjadi 2, jumlah neuron pada hidden layernya [4, 2], penggunaan initializer GlorotNormal, batch normalization, dan optimizer nadam. Parameter 189 pada model baseline berubah menjadi 197 parameter. Pada model sequential dilakukan improvement dengan menambahkan jumlah hidden layer menjadi 2, jumlah neuron pada hidden layernya [4, 2], dan penggantian optimizer ke nadam. Parameter 189 pada model baseline berubah menjadi 197 parameter.\n",
        "\n",
        "Model hasil improvement malah mengalami penurunan dan peningkatan pada beberapa area prediksi. Berdasarkan classification report, saya memilih menggunakan model hasil tunned functional dengan precision 0.85, recall 0.89, dan f1-score 0.87 untuk kelas 0.\n",
        "\n",
        "**Saran** :\n",
        "\n",
        "Data Scientist dapat mencoba menyeimbangkan target, mengubah learning rate, melakukan regularisasi, maupun gradient clipping."
      ]
    },
    {
      "cell_type": "markdown",
      "metadata": {
        "id": "5vR83FZXVbTl"
      },
      "source": [
        "# 11 - Model Saving"
      ]
    },
    {
      "cell_type": "code",
      "execution_count": 129,
      "metadata": {
        "id": "14jmPUWzMa5n"
      },
      "outputs": [],
      "source": [
        "# Save Pipeline\n",
        "\n",
        "with open('preprocess.pkl', 'wb') as file_1:\n",
        "  joblib.dump(preprocess, file_1)"
      ]
    },
    {
      "cell_type": "code",
      "execution_count": 130,
      "metadata": {
        "id": "piKB6AhDNAdV"
      },
      "outputs": [],
      "source": [
        "# Save label_enc\n",
        "\n",
        "with open('label_enc.pkl', 'wb') as file_2:\n",
        "  joblib.dump(label_enc, file_2)"
      ]
    },
    {
      "cell_type": "code",
      "execution_count": 131,
      "metadata": {
        "colab": {
          "base_uri": "https://localhost:8080/"
        },
        "id": "PwlYC1djrCxn",
        "outputId": "7ea42cec-da9d-4aa4-d99d-eb615f7cb3be"
      },
      "outputs": [
        {
          "name": "stdout",
          "output_type": "stream",
          "text": [
            "Model: \"model_4\"\n",
            "_________________________________________________________________\n",
            " Layer (type)                Output Shape              Param #   \n",
            "=================================================================\n",
            " input_5 (InputLayer)        [(None, 45)]              0         \n",
            "                                                                 \n",
            " dense_46 (Dense)            (None, 4)                 184       \n",
            "                                                                 \n",
            " dense_47 (Dense)            (None, 2)                 10        \n",
            "                                                                 \n",
            " dense_48 (Dense)            (None, 1)                 3         \n",
            "                                                                 \n",
            "=================================================================\n",
            "Total params: 197\n",
            "Trainable params: 197\n",
            "Non-trainable params: 0\n",
            "_________________________________________________________________\n"
          ]
        }
      ],
      "source": [
        "# Summary of Model Sequential\n",
        "\n",
        "model_func_final.summary()"
      ]
    },
    {
      "cell_type": "code",
      "execution_count": 132,
      "metadata": {
        "colab": {
          "base_uri": "https://localhost:8080/"
        },
        "id": "j2fClikjdoFj",
        "outputId": "3a64d1a0-f7d9-4ca2-e82e-949b910153db"
      },
      "outputs": [
        {
          "name": "stdout",
          "output_type": "stream",
          "text": [
            "Model: \"model_4\"\n",
            "_________________________________________________________________\n",
            " Layer (type)                Output Shape              Param #   \n",
            "=================================================================\n",
            " input_5 (InputLayer)        [(None, 45)]              0         \n",
            "                                                                 \n",
            " dense_46 (Dense)            (None, 4)                 184       \n",
            "                                                                 \n",
            " dense_47 (Dense)            (None, 2)                 10        \n",
            "                                                                 \n",
            " dense_48 (Dense)            (None, 1)                 3         \n",
            "                                                                 \n",
            "=================================================================\n",
            "Total params: 197\n",
            "Trainable params: 0\n",
            "Non-trainable params: 197\n",
            "_________________________________________________________________\n"
          ]
        }
      ],
      "source": [
        "# freeze model\n",
        "model_func_final.trainable = False\n",
        "model_func_final.summary()"
      ]
    },
    {
      "cell_type": "code",
      "execution_count": 134,
      "metadata": {
        "id": "P7Psrv63dqZ_"
      },
      "outputs": [],
      "source": [
        "# Save DNN Model\n",
        "\n",
        "model_func_final.save('TC_model.h5')"
      ]
    },
    {
      "cell_type": "markdown",
      "metadata": {
        "id": "l0GI1YAKVjQA"
      },
      "source": [
        "# 12 - Model Deployment "
      ]
    },
    {
      "cell_type": "markdown",
      "metadata": {
        "id": "gyQeneEIV_EY"
      },
      "source": [
        "Hugging Face: https://huggingface.co/spaces/Wenny/Telco-Customer-Churn"
      ]
    },
    {
      "cell_type": "markdown",
      "metadata": {
        "id": "_A4mK5nFWDgJ"
      },
      "source": [
        "# 13 - Presentation"
      ]
    },
    {
      "attachments": {},
      "cell_type": "markdown",
      "metadata": {
        "id": "CqZKxVZ3WGwX"
      },
      "source": [
        "Google Slide: https://docs.google.com/presentation/d/1hdQ281H_vs2bU_kxJXYbWlE30THBCo_5giQc_RgpOkU/edit#slide=id.p\n",
        "\n",
        "Referensi: https://www.youtube.com/results?search_query=how+to+make+interactive+presentation"
      ]
    }
  ],
  "metadata": {
    "colab": {
      "provenance": [],
      "toc_visible": true
    },
    "kernelspec": {
      "display_name": "Python 3.10.6 64-bit",
      "language": "python",
      "name": "python3"
    },
    "language_info": {
      "codemirror_mode": {
        "name": "ipython",
        "version": 3
      },
      "file_extension": ".py",
      "mimetype": "text/x-python",
      "name": "python",
      "nbconvert_exporter": "python",
      "pygments_lexer": "ipython3",
      "version": "3.10.6 (tags/v3.10.6:9c7b4bd, Aug  1 2022, 21:53:49) [MSC v.1932 64 bit (AMD64)]"
    },
    "vscode": {
      "interpreter": {
        "hash": "5a175e1b2892baa979664cd8dd5cab7c54c83cbb80cc46bedf48cc2a0a029536"
      }
    }
  },
  "nbformat": 4,
  "nbformat_minor": 0
}
