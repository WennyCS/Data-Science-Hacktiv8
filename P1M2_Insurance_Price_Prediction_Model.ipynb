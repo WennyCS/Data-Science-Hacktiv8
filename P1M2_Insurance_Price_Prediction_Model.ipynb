{
  "cells": [
    {
      "cell_type": "markdown",
      "metadata": {
        "id": "uiY2r-A1siPo"
      },
      "source": [
        "# I. Perkenalan\n",
        "\n",
        "Nama: Wenny\n",
        "\n",
        "Batch: FTDS-015\n",
        "\n",
        "Dataset: Medical Insurance Premium Prediction [Link to Dataset](https://www.kaggle.com/datasets/tejashvi14/medical-insurance-premium-prediction).\n",
        "\n",
        "Masalah: Perusahaan asuransi terkadang menemukan kesulitan dalam menentukan harga premi asuransi kesehatan calon nasabah.\n",
        "\n",
        "Objective: membuat model regresi untuk memprediksi harga premi asuransi berdasarkan kesehatan calon nasabah.\n",
        "\n",
        "Algoritma yang digunakan:\n",
        "\n",
        "- LinearRegression\n",
        "- Lasso\n",
        "- Ridge\n",
        "- AdaBoostRegressor\n",
        "- XGBRegressor\n",
        "\n",
        "Solusi yang ditawarkan: model linear regression\n"
      ]
    },
    {
      "cell_type": "markdown",
      "metadata": {
        "id": "b1ahGA1BsqFM"
      },
      "source": [
        "# II. Import Libraries"
      ]
    },
    {
      "cell_type": "code",
      "execution_count": null,
      "metadata": {
        "id": "5MpnTBins87k"
      },
      "outputs": [],
      "source": [
        "# kolom lib\n",
        "\n",
        "%matplotlib inline\n",
        "\n",
        "import numpy as np\n",
        "import pandas as pd\n",
        "import matplotlib.pyplot as plt\n",
        "import seaborn as sns\n",
        "import warnings\n",
        "\n",
        "# menyimpan model\n",
        "import joblib\n",
        "import json\n",
        "\n",
        "# stats\n",
        "from scipy.stats import stats\n",
        "from scipy import stats\n",
        "\n",
        "# Untuk menyiapkan dataset\n",
        "from sklearn.model_selection import train_test_split\n",
        "from sklearn.preprocessing import StandardScaler, MinMaxScaler\n",
        "\n",
        "# Untuk membuat model\n",
        "from sklearn.linear_model import LinearRegression\n",
        "from sklearn.linear_model import Lasso\n",
        "from sklearn.linear_model import Ridge\n",
        "from sklearn.ensemble import AdaBoostRegressor\n",
        "from xgboost import XGBRegressor\n",
        "\n",
        "# untuk pipeline model\n",
        "from sklearn.compose import ColumnTransformer\n",
        "from sklearn.pipeline import Pipeline\n",
        "from sklearn.model_selection import GridSearchCV\n",
        "\n",
        "# Untuk evaluasi model regresi\n",
        "from sklearn.model_selection import cross_val_score\n",
        "from sklearn.metrics import mean_absolute_error\n",
        "from sklearn.metrics import mean_squared_error\n",
        "from sklearn.metrics import r2_score"
      ]
    },
    {
      "cell_type": "code",
      "execution_count": null,
      "metadata": {
        "id": "4cyV1YyQtQMQ"
      },
      "outputs": [],
      "source": [
        "# lib yang tidak digunakan\n",
        "\n",
        "# from sklearn.preprocessing import OrdinalEncoder, OneHotEncoder, LabelEncoder"
      ]
    },
    {
      "cell_type": "code",
      "execution_count": null,
      "metadata": {
        "colab": {
          "base_uri": "https://localhost:8080/"
        },
        "id": "BCoKl8Sqc1ks",
        "outputId": "fe872a6e-d594-44e8-a31a-fb2382d0de32"
      },
      "outputs": [
        {
          "name": "stdout",
          "output_type": "stream",
          "text": [
            "Looking in indexes: https://pypi.org/simple, https://us-python.pkg.dev/colab-wheels/public/simple/\n",
            "Collecting feature-engine\n",
            "  Downloading feature_engine-1.4.0-py2.py3-none-any.whl (276 kB)\n",
            "\u001b[K     |████████████████████████████████| 276 kB 27.7 MB/s \n",
            "\u001b[?25hRequirement already satisfied: statsmodels>=0.11.1 in /usr/local/lib/python3.7/dist-packages (from feature-engine) (0.12.2)\n",
            "Requirement already satisfied: pandas>=1.0.3 in /usr/local/lib/python3.7/dist-packages (from feature-engine) (1.3.5)\n",
            "Requirement already satisfied: scikit-learn>=1.0.0 in /usr/local/lib/python3.7/dist-packages (from feature-engine) (1.0.2)\n",
            "Requirement already satisfied: scipy>=1.4.1 in /usr/local/lib/python3.7/dist-packages (from feature-engine) (1.7.3)\n",
            "Requirement already satisfied: numpy>=1.18.2 in /usr/local/lib/python3.7/dist-packages (from feature-engine) (1.21.6)\n",
            "Requirement already satisfied: pytz>=2017.3 in /usr/local/lib/python3.7/dist-packages (from pandas>=1.0.3->feature-engine) (2022.2.1)\n",
            "Requirement already satisfied: python-dateutil>=2.7.3 in /usr/local/lib/python3.7/dist-packages (from pandas>=1.0.3->feature-engine) (2.8.2)\n",
            "Requirement already satisfied: six>=1.5 in /usr/local/lib/python3.7/dist-packages (from python-dateutil>=2.7.3->pandas>=1.0.3->feature-engine) (1.15.0)\n",
            "Requirement already satisfied: threadpoolctl>=2.0.0 in /usr/local/lib/python3.7/dist-packages (from scikit-learn>=1.0.0->feature-engine) (3.1.0)\n",
            "Requirement already satisfied: joblib>=0.11 in /usr/local/lib/python3.7/dist-packages (from scikit-learn>=1.0.0->feature-engine) (1.1.0)\n",
            "Requirement already satisfied: patsy>=0.5 in /usr/local/lib/python3.7/dist-packages (from statsmodels>=0.11.1->feature-engine) (0.5.2)\n",
            "Installing collected packages: feature-engine\n",
            "Successfully installed feature-engine-1.4.0\n"
          ]
        }
      ],
      "source": [
        "# Untuk Caping\n",
        "!pip install feature-engine\n",
        "from feature_engine.outliers import Winsorizer"
      ]
    },
    {
      "cell_type": "code",
      "execution_count": null,
      "metadata": {
        "id": "mlLd3_DicYRg"
      },
      "outputs": [],
      "source": [
        "# setup syntax\n",
        "warnings.filterwarnings('ignore')\n",
        "pd.set_option('display.max_columns', None)\n",
        "pd.set_option('display.max_rows', 20)"
      ]
    },
    {
      "cell_type": "markdown",
      "metadata": {
        "id": "2Za3tgWKs32S"
      },
      "source": [
        "# II. Data Loading"
      ]
    },
    {
      "cell_type": "code",
      "execution_count": null,
      "metadata": {
        "colab": {
          "base_uri": "https://localhost:8080/",
          "height": 206
        },
        "id": "ik8N--sOs9QS",
        "outputId": "d9cfa27d-f9de-40a4-b29a-e434231b7814"
      },
      "outputs": [
        {
          "data": {
            "text/html": [
              "\n",
              "  <div id=\"df-cb416557-7ff3-4102-95d6-9154b82539b8\">\n",
              "    <div class=\"colab-df-container\">\n",
              "      <div>\n",
              "<style scoped>\n",
              "    .dataframe tbody tr th:only-of-type {\n",
              "        vertical-align: middle;\n",
              "    }\n",
              "\n",
              "    .dataframe tbody tr th {\n",
              "        vertical-align: top;\n",
              "    }\n",
              "\n",
              "    .dataframe thead th {\n",
              "        text-align: right;\n",
              "    }\n",
              "</style>\n",
              "<table border=\"1\" class=\"dataframe\">\n",
              "  <thead>\n",
              "    <tr style=\"text-align: right;\">\n",
              "      <th></th>\n",
              "      <th>Age</th>\n",
              "      <th>Diabetes</th>\n",
              "      <th>BloodPressureProblems</th>\n",
              "      <th>AnyTransplants</th>\n",
              "      <th>AnyChronicDiseases</th>\n",
              "      <th>Height</th>\n",
              "      <th>Weight</th>\n",
              "      <th>KnownAllergies</th>\n",
              "      <th>HistoryOfCancerInFamily</th>\n",
              "      <th>NumberOfMajorSurgeries</th>\n",
              "      <th>PremiumPrice</th>\n",
              "    </tr>\n",
              "  </thead>\n",
              "  <tbody>\n",
              "    <tr>\n",
              "      <th>0</th>\n",
              "      <td>45</td>\n",
              "      <td>0</td>\n",
              "      <td>0</td>\n",
              "      <td>0</td>\n",
              "      <td>0</td>\n",
              "      <td>155</td>\n",
              "      <td>57</td>\n",
              "      <td>0</td>\n",
              "      <td>0</td>\n",
              "      <td>0</td>\n",
              "      <td>25000</td>\n",
              "    </tr>\n",
              "    <tr>\n",
              "      <th>1</th>\n",
              "      <td>60</td>\n",
              "      <td>1</td>\n",
              "      <td>0</td>\n",
              "      <td>0</td>\n",
              "      <td>0</td>\n",
              "      <td>180</td>\n",
              "      <td>73</td>\n",
              "      <td>0</td>\n",
              "      <td>0</td>\n",
              "      <td>0</td>\n",
              "      <td>29000</td>\n",
              "    </tr>\n",
              "    <tr>\n",
              "      <th>2</th>\n",
              "      <td>36</td>\n",
              "      <td>1</td>\n",
              "      <td>1</td>\n",
              "      <td>0</td>\n",
              "      <td>0</td>\n",
              "      <td>158</td>\n",
              "      <td>59</td>\n",
              "      <td>0</td>\n",
              "      <td>0</td>\n",
              "      <td>1</td>\n",
              "      <td>23000</td>\n",
              "    </tr>\n",
              "    <tr>\n",
              "      <th>3</th>\n",
              "      <td>52</td>\n",
              "      <td>1</td>\n",
              "      <td>1</td>\n",
              "      <td>0</td>\n",
              "      <td>1</td>\n",
              "      <td>183</td>\n",
              "      <td>93</td>\n",
              "      <td>0</td>\n",
              "      <td>0</td>\n",
              "      <td>2</td>\n",
              "      <td>28000</td>\n",
              "    </tr>\n",
              "    <tr>\n",
              "      <th>4</th>\n",
              "      <td>38</td>\n",
              "      <td>0</td>\n",
              "      <td>0</td>\n",
              "      <td>0</td>\n",
              "      <td>1</td>\n",
              "      <td>166</td>\n",
              "      <td>88</td>\n",
              "      <td>0</td>\n",
              "      <td>0</td>\n",
              "      <td>1</td>\n",
              "      <td>23000</td>\n",
              "    </tr>\n",
              "  </tbody>\n",
              "</table>\n",
              "</div>\n",
              "      <button class=\"colab-df-convert\" onclick=\"convertToInteractive('df-cb416557-7ff3-4102-95d6-9154b82539b8')\"\n",
              "              title=\"Convert this dataframe to an interactive table.\"\n",
              "              style=\"display:none;\">\n",
              "        \n",
              "  <svg xmlns=\"http://www.w3.org/2000/svg\" height=\"24px\"viewBox=\"0 0 24 24\"\n",
              "       width=\"24px\">\n",
              "    <path d=\"M0 0h24v24H0V0z\" fill=\"none\"/>\n",
              "    <path d=\"M18.56 5.44l.94 2.06.94-2.06 2.06-.94-2.06-.94-.94-2.06-.94 2.06-2.06.94zm-11 1L8.5 8.5l.94-2.06 2.06-.94-2.06-.94L8.5 2.5l-.94 2.06-2.06.94zm10 10l.94 2.06.94-2.06 2.06-.94-2.06-.94-.94-2.06-.94 2.06-2.06.94z\"/><path d=\"M17.41 7.96l-1.37-1.37c-.4-.4-.92-.59-1.43-.59-.52 0-1.04.2-1.43.59L10.3 9.45l-7.72 7.72c-.78.78-.78 2.05 0 2.83L4 21.41c.39.39.9.59 1.41.59.51 0 1.02-.2 1.41-.59l7.78-7.78 2.81-2.81c.8-.78.8-2.07 0-2.86zM5.41 20L4 18.59l7.72-7.72 1.47 1.35L5.41 20z\"/>\n",
              "  </svg>\n",
              "      </button>\n",
              "      \n",
              "  <style>\n",
              "    .colab-df-container {\n",
              "      display:flex;\n",
              "      flex-wrap:wrap;\n",
              "      gap: 12px;\n",
              "    }\n",
              "\n",
              "    .colab-df-convert {\n",
              "      background-color: #E8F0FE;\n",
              "      border: none;\n",
              "      border-radius: 50%;\n",
              "      cursor: pointer;\n",
              "      display: none;\n",
              "      fill: #1967D2;\n",
              "      height: 32px;\n",
              "      padding: 0 0 0 0;\n",
              "      width: 32px;\n",
              "    }\n",
              "\n",
              "    .colab-df-convert:hover {\n",
              "      background-color: #E2EBFA;\n",
              "      box-shadow: 0px 1px 2px rgba(60, 64, 67, 0.3), 0px 1px 3px 1px rgba(60, 64, 67, 0.15);\n",
              "      fill: #174EA6;\n",
              "    }\n",
              "\n",
              "    [theme=dark] .colab-df-convert {\n",
              "      background-color: #3B4455;\n",
              "      fill: #D2E3FC;\n",
              "    }\n",
              "\n",
              "    [theme=dark] .colab-df-convert:hover {\n",
              "      background-color: #434B5C;\n",
              "      box-shadow: 0px 1px 3px 1px rgba(0, 0, 0, 0.15);\n",
              "      filter: drop-shadow(0px 1px 2px rgba(0, 0, 0, 0.3));\n",
              "      fill: #FFFFFF;\n",
              "    }\n",
              "  </style>\n",
              "\n",
              "      <script>\n",
              "        const buttonEl =\n",
              "          document.querySelector('#df-cb416557-7ff3-4102-95d6-9154b82539b8 button.colab-df-convert');\n",
              "        buttonEl.style.display =\n",
              "          google.colab.kernel.accessAllowed ? 'block' : 'none';\n",
              "\n",
              "        async function convertToInteractive(key) {\n",
              "          const element = document.querySelector('#df-cb416557-7ff3-4102-95d6-9154b82539b8');\n",
              "          const dataTable =\n",
              "            await google.colab.kernel.invokeFunction('convertToInteractive',\n",
              "                                                     [key], {});\n",
              "          if (!dataTable) return;\n",
              "\n",
              "          const docLinkHtml = 'Like what you see? Visit the ' +\n",
              "            '<a target=\"_blank\" href=https://colab.research.google.com/notebooks/data_table.ipynb>data table notebook</a>'\n",
              "            + ' to learn more about interactive tables.';\n",
              "          element.innerHTML = '';\n",
              "          dataTable['output_type'] = 'display_data';\n",
              "          await google.colab.output.renderOutput(dataTable, element);\n",
              "          const docLink = document.createElement('div');\n",
              "          docLink.innerHTML = docLinkHtml;\n",
              "          element.appendChild(docLink);\n",
              "        }\n",
              "      </script>\n",
              "    </div>\n",
              "  </div>\n",
              "  "
            ],
            "text/plain": [
              "   Age  Diabetes  BloodPressureProblems  AnyTransplants  AnyChronicDiseases  \\\n",
              "0   45         0                      0               0                   0   \n",
              "1   60         1                      0               0                   0   \n",
              "2   36         1                      1               0                   0   \n",
              "3   52         1                      1               0                   1   \n",
              "4   38         0                      0               0                   1   \n",
              "\n",
              "   Height  Weight  KnownAllergies  HistoryOfCancerInFamily  \\\n",
              "0     155      57               0                        0   \n",
              "1     180      73               0                        0   \n",
              "2     158      59               0                        0   \n",
              "3     183      93               0                        0   \n",
              "4     166      88               0                        0   \n",
              "\n",
              "   NumberOfMajorSurgeries  PremiumPrice  \n",
              "0                       0         25000  \n",
              "1                       0         29000  \n",
              "2                       1         23000  \n",
              "3                       2         28000  \n",
              "4                       1         23000  "
            ]
          },
          "execution_count": 6,
          "metadata": {},
          "output_type": "execute_result"
        }
      ],
      "source": [
        "# load dataset\n",
        "data_o = pd.read_csv('Medicalpremium.csv')\n",
        "\n",
        "# duplikat dataset\n",
        "data = data_o.copy()\n",
        "\n",
        "# melihat bagian atas dataset\n",
        "data.head()"
      ]
    },
    {
      "cell_type": "code",
      "execution_count": null,
      "metadata": {
        "colab": {
          "base_uri": "https://localhost:8080/",
          "height": 206
        },
        "id": "-AVPhxGTdHdW",
        "outputId": "801a0261-9604-4f8f-a079-70f51c505bb6"
      },
      "outputs": [
        {
          "data": {
            "text/html": [
              "\n",
              "  <div id=\"df-a22ee873-ea35-4c93-b307-678764f7d103\">\n",
              "    <div class=\"colab-df-container\">\n",
              "      <div>\n",
              "<style scoped>\n",
              "    .dataframe tbody tr th:only-of-type {\n",
              "        vertical-align: middle;\n",
              "    }\n",
              "\n",
              "    .dataframe tbody tr th {\n",
              "        vertical-align: top;\n",
              "    }\n",
              "\n",
              "    .dataframe thead th {\n",
              "        text-align: right;\n",
              "    }\n",
              "</style>\n",
              "<table border=\"1\" class=\"dataframe\">\n",
              "  <thead>\n",
              "    <tr style=\"text-align: right;\">\n",
              "      <th></th>\n",
              "      <th>Age</th>\n",
              "      <th>Diabetes</th>\n",
              "      <th>BloodPressureProblems</th>\n",
              "      <th>AnyTransplants</th>\n",
              "      <th>AnyChronicDiseases</th>\n",
              "      <th>Height</th>\n",
              "      <th>Weight</th>\n",
              "      <th>KnownAllergies</th>\n",
              "      <th>HistoryOfCancerInFamily</th>\n",
              "      <th>NumberOfMajorSurgeries</th>\n",
              "      <th>PremiumPrice</th>\n",
              "    </tr>\n",
              "  </thead>\n",
              "  <tbody>\n",
              "    <tr>\n",
              "      <th>981</th>\n",
              "      <td>18</td>\n",
              "      <td>0</td>\n",
              "      <td>0</td>\n",
              "      <td>0</td>\n",
              "      <td>0</td>\n",
              "      <td>169</td>\n",
              "      <td>67</td>\n",
              "      <td>0</td>\n",
              "      <td>0</td>\n",
              "      <td>0</td>\n",
              "      <td>15000</td>\n",
              "    </tr>\n",
              "    <tr>\n",
              "      <th>982</th>\n",
              "      <td>64</td>\n",
              "      <td>1</td>\n",
              "      <td>1</td>\n",
              "      <td>0</td>\n",
              "      <td>0</td>\n",
              "      <td>153</td>\n",
              "      <td>70</td>\n",
              "      <td>0</td>\n",
              "      <td>0</td>\n",
              "      <td>3</td>\n",
              "      <td>28000</td>\n",
              "    </tr>\n",
              "    <tr>\n",
              "      <th>983</th>\n",
              "      <td>56</td>\n",
              "      <td>0</td>\n",
              "      <td>1</td>\n",
              "      <td>0</td>\n",
              "      <td>0</td>\n",
              "      <td>155</td>\n",
              "      <td>71</td>\n",
              "      <td>0</td>\n",
              "      <td>0</td>\n",
              "      <td>1</td>\n",
              "      <td>29000</td>\n",
              "    </tr>\n",
              "    <tr>\n",
              "      <th>984</th>\n",
              "      <td>47</td>\n",
              "      <td>1</td>\n",
              "      <td>1</td>\n",
              "      <td>0</td>\n",
              "      <td>0</td>\n",
              "      <td>158</td>\n",
              "      <td>73</td>\n",
              "      <td>1</td>\n",
              "      <td>0</td>\n",
              "      <td>1</td>\n",
              "      <td>39000</td>\n",
              "    </tr>\n",
              "    <tr>\n",
              "      <th>985</th>\n",
              "      <td>21</td>\n",
              "      <td>0</td>\n",
              "      <td>0</td>\n",
              "      <td>0</td>\n",
              "      <td>0</td>\n",
              "      <td>158</td>\n",
              "      <td>75</td>\n",
              "      <td>1</td>\n",
              "      <td>0</td>\n",
              "      <td>1</td>\n",
              "      <td>15000</td>\n",
              "    </tr>\n",
              "  </tbody>\n",
              "</table>\n",
              "</div>\n",
              "      <button class=\"colab-df-convert\" onclick=\"convertToInteractive('df-a22ee873-ea35-4c93-b307-678764f7d103')\"\n",
              "              title=\"Convert this dataframe to an interactive table.\"\n",
              "              style=\"display:none;\">\n",
              "        \n",
              "  <svg xmlns=\"http://www.w3.org/2000/svg\" height=\"24px\"viewBox=\"0 0 24 24\"\n",
              "       width=\"24px\">\n",
              "    <path d=\"M0 0h24v24H0V0z\" fill=\"none\"/>\n",
              "    <path d=\"M18.56 5.44l.94 2.06.94-2.06 2.06-.94-2.06-.94-.94-2.06-.94 2.06-2.06.94zm-11 1L8.5 8.5l.94-2.06 2.06-.94-2.06-.94L8.5 2.5l-.94 2.06-2.06.94zm10 10l.94 2.06.94-2.06 2.06-.94-2.06-.94-.94-2.06-.94 2.06-2.06.94z\"/><path d=\"M17.41 7.96l-1.37-1.37c-.4-.4-.92-.59-1.43-.59-.52 0-1.04.2-1.43.59L10.3 9.45l-7.72 7.72c-.78.78-.78 2.05 0 2.83L4 21.41c.39.39.9.59 1.41.59.51 0 1.02-.2 1.41-.59l7.78-7.78 2.81-2.81c.8-.78.8-2.07 0-2.86zM5.41 20L4 18.59l7.72-7.72 1.47 1.35L5.41 20z\"/>\n",
              "  </svg>\n",
              "      </button>\n",
              "      \n",
              "  <style>\n",
              "    .colab-df-container {\n",
              "      display:flex;\n",
              "      flex-wrap:wrap;\n",
              "      gap: 12px;\n",
              "    }\n",
              "\n",
              "    .colab-df-convert {\n",
              "      background-color: #E8F0FE;\n",
              "      border: none;\n",
              "      border-radius: 50%;\n",
              "      cursor: pointer;\n",
              "      display: none;\n",
              "      fill: #1967D2;\n",
              "      height: 32px;\n",
              "      padding: 0 0 0 0;\n",
              "      width: 32px;\n",
              "    }\n",
              "\n",
              "    .colab-df-convert:hover {\n",
              "      background-color: #E2EBFA;\n",
              "      box-shadow: 0px 1px 2px rgba(60, 64, 67, 0.3), 0px 1px 3px 1px rgba(60, 64, 67, 0.15);\n",
              "      fill: #174EA6;\n",
              "    }\n",
              "\n",
              "    [theme=dark] .colab-df-convert {\n",
              "      background-color: #3B4455;\n",
              "      fill: #D2E3FC;\n",
              "    }\n",
              "\n",
              "    [theme=dark] .colab-df-convert:hover {\n",
              "      background-color: #434B5C;\n",
              "      box-shadow: 0px 1px 3px 1px rgba(0, 0, 0, 0.15);\n",
              "      filter: drop-shadow(0px 1px 2px rgba(0, 0, 0, 0.3));\n",
              "      fill: #FFFFFF;\n",
              "    }\n",
              "  </style>\n",
              "\n",
              "      <script>\n",
              "        const buttonEl =\n",
              "          document.querySelector('#df-a22ee873-ea35-4c93-b307-678764f7d103 button.colab-df-convert');\n",
              "        buttonEl.style.display =\n",
              "          google.colab.kernel.accessAllowed ? 'block' : 'none';\n",
              "\n",
              "        async function convertToInteractive(key) {\n",
              "          const element = document.querySelector('#df-a22ee873-ea35-4c93-b307-678764f7d103');\n",
              "          const dataTable =\n",
              "            await google.colab.kernel.invokeFunction('convertToInteractive',\n",
              "                                                     [key], {});\n",
              "          if (!dataTable) return;\n",
              "\n",
              "          const docLinkHtml = 'Like what you see? Visit the ' +\n",
              "            '<a target=\"_blank\" href=https://colab.research.google.com/notebooks/data_table.ipynb>data table notebook</a>'\n",
              "            + ' to learn more about interactive tables.';\n",
              "          element.innerHTML = '';\n",
              "          dataTable['output_type'] = 'display_data';\n",
              "          await google.colab.output.renderOutput(dataTable, element);\n",
              "          const docLink = document.createElement('div');\n",
              "          docLink.innerHTML = docLinkHtml;\n",
              "          element.appendChild(docLink);\n",
              "        }\n",
              "      </script>\n",
              "    </div>\n",
              "  </div>\n",
              "  "
            ],
            "text/plain": [
              "     Age  Diabetes  BloodPressureProblems  AnyTransplants  AnyChronicDiseases  \\\n",
              "981   18         0                      0               0                   0   \n",
              "982   64         1                      1               0                   0   \n",
              "983   56         0                      1               0                   0   \n",
              "984   47         1                      1               0                   0   \n",
              "985   21         0                      0               0                   0   \n",
              "\n",
              "     Height  Weight  KnownAllergies  HistoryOfCancerInFamily  \\\n",
              "981     169      67               0                        0   \n",
              "982     153      70               0                        0   \n",
              "983     155      71               0                        0   \n",
              "984     158      73               1                        0   \n",
              "985     158      75               1                        0   \n",
              "\n",
              "     NumberOfMajorSurgeries  PremiumPrice  \n",
              "981                       0         15000  \n",
              "982                       3         28000  \n",
              "983                       1         29000  \n",
              "984                       1         39000  \n",
              "985                       1         15000  "
            ]
          },
          "execution_count": 7,
          "metadata": {},
          "output_type": "execute_result"
        }
      ],
      "source": [
        "# melihat bagian bawah dataset\n",
        "\n",
        "data.tail()"
      ]
    },
    {
      "cell_type": "code",
      "execution_count": null,
      "metadata": {
        "colab": {
          "base_uri": "https://localhost:8080/"
        },
        "id": "PdawXL8vFwoG",
        "outputId": "2523c2f5-285a-40fd-b2a5-32c1239478a1"
      },
      "outputs": [
        {
          "name": "stdout",
          "output_type": "stream",
          "text": [
            "<class 'pandas.core.frame.DataFrame'>\n",
            "RangeIndex: 986 entries, 0 to 985\n",
            "Data columns (total 11 columns):\n",
            " #   Column                   Non-Null Count  Dtype\n",
            "---  ------                   --------------  -----\n",
            " 0   Age                      986 non-null    int64\n",
            " 1   Diabetes                 986 non-null    int64\n",
            " 2   BloodPressureProblems    986 non-null    int64\n",
            " 3   AnyTransplants           986 non-null    int64\n",
            " 4   AnyChronicDiseases       986 non-null    int64\n",
            " 5   Height                   986 non-null    int64\n",
            " 6   Weight                   986 non-null    int64\n",
            " 7   KnownAllergies           986 non-null    int64\n",
            " 8   HistoryOfCancerInFamily  986 non-null    int64\n",
            " 9   NumberOfMajorSurgeries   986 non-null    int64\n",
            " 10  PremiumPrice             986 non-null    int64\n",
            "dtypes: int64(11)\n",
            "memory usage: 84.9 KB\n"
          ]
        }
      ],
      "source": [
        "# melihat info data set: non-null dan tipe data\n",
        "\n",
        "data.info()"
      ]
    },
    {
      "cell_type": "code",
      "execution_count": null,
      "metadata": {
        "colab": {
          "base_uri": "https://localhost:8080/"
        },
        "id": "rwIWy6YH1Fco",
        "outputId": "646f92e3-27ea-476b-e14d-52fd7a4133e6"
      },
      "outputs": [
        {
          "data": {
            "text/plain": [
              "Age                        int64\n",
              "Diabetes                   int64\n",
              "BloodPressureProblems      int64\n",
              "AnyTransplants             int64\n",
              "AnyChronicDiseases         int64\n",
              "Height                     int64\n",
              "Weight                     int64\n",
              "KnownAllergies             int64\n",
              "HistoryOfCancerInFamily    int64\n",
              "NumberOfMajorSurgeries     int64\n",
              "PremiumPrice               int64\n",
              "dtype: object"
            ]
          },
          "execution_count": 11,
          "metadata": {},
          "output_type": "execute_result"
        }
      ],
      "source": [
        "# melihat tipe dataset\n",
        "\n",
        "data.dtypes"
      ]
    },
    {
      "cell_type": "code",
      "execution_count": null,
      "metadata": {
        "colab": {
          "base_uri": "https://localhost:8080/"
        },
        "id": "IfMvgnyHc_Wp",
        "outputId": "e5c880fc-2328-4a96-8846-435bf2968880"
      },
      "outputs": [
        {
          "data": {
            "text/plain": [
              "(986, 11)"
            ]
          },
          "execution_count": 12,
          "metadata": {},
          "output_type": "execute_result"
        }
      ],
      "source": [
        "# melihat ukuran dataset\n",
        "\n",
        "data.shape"
      ]
    },
    {
      "cell_type": "markdown",
      "metadata": {
        "id": "1nLWxLCJSA7l"
      },
      "source": [
        "Data terdiri dari 986 baris dan 11 kolom dengan tipe kolom int."
      ]
    },
    {
      "cell_type": "code",
      "execution_count": null,
      "metadata": {
        "colab": {
          "base_uri": "https://localhost:8080/"
        },
        "id": "mnrFhybslpEC",
        "outputId": "17883fe9-5fff-484f-fce6-e1bb8a6138cd"
      },
      "outputs": [
        {
          "data": {
            "text/plain": [
              "Age                        0\n",
              "Diabetes                   0\n",
              "BloodPressureProblems      0\n",
              "AnyTransplants             0\n",
              "AnyChronicDiseases         0\n",
              "Height                     0\n",
              "Weight                     0\n",
              "KnownAllergies             0\n",
              "HistoryOfCancerInFamily    0\n",
              "NumberOfMajorSurgeries     0\n",
              "PremiumPrice               0\n",
              "dtype: int64"
            ]
          },
          "execution_count": 13,
          "metadata": {},
          "output_type": "execute_result"
        }
      ],
      "source": [
        "# see if there are missing values\n",
        "\n",
        "data.isnull().sum()"
      ]
    },
    {
      "cell_type": "markdown",
      "metadata": {
        "id": "_OmOOyeNSmBm"
      },
      "source": [
        "Data tidak memiliki missing value."
      ]
    },
    {
      "cell_type": "code",
      "execution_count": null,
      "metadata": {
        "colab": {
          "base_uri": "https://localhost:8080/"
        },
        "id": "sVTbFB8gT7d8",
        "outputId": "e3f3177e-130d-43f0-e2ae-403278178709"
      },
      "outputs": [
        {
          "data": {
            "text/plain": [
              "Age                        49\n",
              "Diabetes                    2\n",
              "BloodPressureProblems       2\n",
              "AnyTransplants              2\n",
              "AnyChronicDiseases          2\n",
              "Height                     44\n",
              "Weight                     74\n",
              "KnownAllergies              2\n",
              "HistoryOfCancerInFamily     2\n",
              "NumberOfMajorSurgeries      4\n",
              "PremiumPrice               24\n",
              "dtype: int64"
            ]
          },
          "execution_count": 14,
          "metadata": {},
          "output_type": "execute_result"
        }
      ],
      "source": [
        "# melihat nunique dari tiap kolom\n",
        "\n",
        "data.nunique()"
      ]
    },
    {
      "cell_type": "markdown",
      "metadata": {
        "id": "5npe3uA6S2Ha"
      },
      "source": [
        "Data terdiri atas 7 kolom kategori dan 4 kolom numerik."
      ]
    },
    {
      "cell_type": "code",
      "execution_count": null,
      "metadata": {
        "colab": {
          "base_uri": "https://localhost:8080/",
          "height": 395
        },
        "id": "wOlZYZdOTm1b",
        "outputId": "b2ba4af3-1cc9-406d-a59d-5412febb6316"
      },
      "outputs": [
        {
          "data": {
            "text/html": [
              "\n",
              "  <div id=\"df-1b8575f5-af33-49f0-a920-714d715d619e\">\n",
              "    <div class=\"colab-df-container\">\n",
              "      <div>\n",
              "<style scoped>\n",
              "    .dataframe tbody tr th:only-of-type {\n",
              "        vertical-align: middle;\n",
              "    }\n",
              "\n",
              "    .dataframe tbody tr th {\n",
              "        vertical-align: top;\n",
              "    }\n",
              "\n",
              "    .dataframe thead th {\n",
              "        text-align: right;\n",
              "    }\n",
              "</style>\n",
              "<table border=\"1\" class=\"dataframe\">\n",
              "  <thead>\n",
              "    <tr style=\"text-align: right;\">\n",
              "      <th></th>\n",
              "      <th>count</th>\n",
              "      <th>mean</th>\n",
              "      <th>std</th>\n",
              "      <th>min</th>\n",
              "      <th>25%</th>\n",
              "      <th>50%</th>\n",
              "      <th>75%</th>\n",
              "      <th>max</th>\n",
              "    </tr>\n",
              "  </thead>\n",
              "  <tbody>\n",
              "    <tr>\n",
              "      <th>Age</th>\n",
              "      <td>986.0</td>\n",
              "      <td>41.745436</td>\n",
              "      <td>13.963371</td>\n",
              "      <td>18.0</td>\n",
              "      <td>30.0</td>\n",
              "      <td>42.0</td>\n",
              "      <td>53.0</td>\n",
              "      <td>66.0</td>\n",
              "    </tr>\n",
              "    <tr>\n",
              "      <th>Diabetes</th>\n",
              "      <td>986.0</td>\n",
              "      <td>0.419878</td>\n",
              "      <td>0.493789</td>\n",
              "      <td>0.0</td>\n",
              "      <td>0.0</td>\n",
              "      <td>0.0</td>\n",
              "      <td>1.0</td>\n",
              "      <td>1.0</td>\n",
              "    </tr>\n",
              "    <tr>\n",
              "      <th>BloodPressureProblems</th>\n",
              "      <td>986.0</td>\n",
              "      <td>0.468560</td>\n",
              "      <td>0.499264</td>\n",
              "      <td>0.0</td>\n",
              "      <td>0.0</td>\n",
              "      <td>0.0</td>\n",
              "      <td>1.0</td>\n",
              "      <td>1.0</td>\n",
              "    </tr>\n",
              "    <tr>\n",
              "      <th>AnyTransplants</th>\n",
              "      <td>986.0</td>\n",
              "      <td>0.055781</td>\n",
              "      <td>0.229615</td>\n",
              "      <td>0.0</td>\n",
              "      <td>0.0</td>\n",
              "      <td>0.0</td>\n",
              "      <td>0.0</td>\n",
              "      <td>1.0</td>\n",
              "    </tr>\n",
              "    <tr>\n",
              "      <th>AnyChronicDiseases</th>\n",
              "      <td>986.0</td>\n",
              "      <td>0.180527</td>\n",
              "      <td>0.384821</td>\n",
              "      <td>0.0</td>\n",
              "      <td>0.0</td>\n",
              "      <td>0.0</td>\n",
              "      <td>0.0</td>\n",
              "      <td>1.0</td>\n",
              "    </tr>\n",
              "    <tr>\n",
              "      <th>Height</th>\n",
              "      <td>986.0</td>\n",
              "      <td>168.182556</td>\n",
              "      <td>10.098155</td>\n",
              "      <td>145.0</td>\n",
              "      <td>161.0</td>\n",
              "      <td>168.0</td>\n",
              "      <td>176.0</td>\n",
              "      <td>188.0</td>\n",
              "    </tr>\n",
              "    <tr>\n",
              "      <th>Weight</th>\n",
              "      <td>986.0</td>\n",
              "      <td>76.950304</td>\n",
              "      <td>14.265096</td>\n",
              "      <td>51.0</td>\n",
              "      <td>67.0</td>\n",
              "      <td>75.0</td>\n",
              "      <td>87.0</td>\n",
              "      <td>132.0</td>\n",
              "    </tr>\n",
              "    <tr>\n",
              "      <th>KnownAllergies</th>\n",
              "      <td>986.0</td>\n",
              "      <td>0.215010</td>\n",
              "      <td>0.411038</td>\n",
              "      <td>0.0</td>\n",
              "      <td>0.0</td>\n",
              "      <td>0.0</td>\n",
              "      <td>0.0</td>\n",
              "      <td>1.0</td>\n",
              "    </tr>\n",
              "    <tr>\n",
              "      <th>HistoryOfCancerInFamily</th>\n",
              "      <td>986.0</td>\n",
              "      <td>0.117647</td>\n",
              "      <td>0.322353</td>\n",
              "      <td>0.0</td>\n",
              "      <td>0.0</td>\n",
              "      <td>0.0</td>\n",
              "      <td>0.0</td>\n",
              "      <td>1.0</td>\n",
              "    </tr>\n",
              "    <tr>\n",
              "      <th>NumberOfMajorSurgeries</th>\n",
              "      <td>986.0</td>\n",
              "      <td>0.667343</td>\n",
              "      <td>0.749205</td>\n",
              "      <td>0.0</td>\n",
              "      <td>0.0</td>\n",
              "      <td>1.0</td>\n",
              "      <td>1.0</td>\n",
              "      <td>3.0</td>\n",
              "    </tr>\n",
              "    <tr>\n",
              "      <th>PremiumPrice</th>\n",
              "      <td>986.0</td>\n",
              "      <td>24336.713996</td>\n",
              "      <td>6248.184382</td>\n",
              "      <td>15000.0</td>\n",
              "      <td>21000.0</td>\n",
              "      <td>23000.0</td>\n",
              "      <td>28000.0</td>\n",
              "      <td>40000.0</td>\n",
              "    </tr>\n",
              "  </tbody>\n",
              "</table>\n",
              "</div>\n",
              "      <button class=\"colab-df-convert\" onclick=\"convertToInteractive('df-1b8575f5-af33-49f0-a920-714d715d619e')\"\n",
              "              title=\"Convert this dataframe to an interactive table.\"\n",
              "              style=\"display:none;\">\n",
              "        \n",
              "  <svg xmlns=\"http://www.w3.org/2000/svg\" height=\"24px\"viewBox=\"0 0 24 24\"\n",
              "       width=\"24px\">\n",
              "    <path d=\"M0 0h24v24H0V0z\" fill=\"none\"/>\n",
              "    <path d=\"M18.56 5.44l.94 2.06.94-2.06 2.06-.94-2.06-.94-.94-2.06-.94 2.06-2.06.94zm-11 1L8.5 8.5l.94-2.06 2.06-.94-2.06-.94L8.5 2.5l-.94 2.06-2.06.94zm10 10l.94 2.06.94-2.06 2.06-.94-2.06-.94-.94-2.06-.94 2.06-2.06.94z\"/><path d=\"M17.41 7.96l-1.37-1.37c-.4-.4-.92-.59-1.43-.59-.52 0-1.04.2-1.43.59L10.3 9.45l-7.72 7.72c-.78.78-.78 2.05 0 2.83L4 21.41c.39.39.9.59 1.41.59.51 0 1.02-.2 1.41-.59l7.78-7.78 2.81-2.81c.8-.78.8-2.07 0-2.86zM5.41 20L4 18.59l7.72-7.72 1.47 1.35L5.41 20z\"/>\n",
              "  </svg>\n",
              "      </button>\n",
              "      \n",
              "  <style>\n",
              "    .colab-df-container {\n",
              "      display:flex;\n",
              "      flex-wrap:wrap;\n",
              "      gap: 12px;\n",
              "    }\n",
              "\n",
              "    .colab-df-convert {\n",
              "      background-color: #E8F0FE;\n",
              "      border: none;\n",
              "      border-radius: 50%;\n",
              "      cursor: pointer;\n",
              "      display: none;\n",
              "      fill: #1967D2;\n",
              "      height: 32px;\n",
              "      padding: 0 0 0 0;\n",
              "      width: 32px;\n",
              "    }\n",
              "\n",
              "    .colab-df-convert:hover {\n",
              "      background-color: #E2EBFA;\n",
              "      box-shadow: 0px 1px 2px rgba(60, 64, 67, 0.3), 0px 1px 3px 1px rgba(60, 64, 67, 0.15);\n",
              "      fill: #174EA6;\n",
              "    }\n",
              "\n",
              "    [theme=dark] .colab-df-convert {\n",
              "      background-color: #3B4455;\n",
              "      fill: #D2E3FC;\n",
              "    }\n",
              "\n",
              "    [theme=dark] .colab-df-convert:hover {\n",
              "      background-color: #434B5C;\n",
              "      box-shadow: 0px 1px 3px 1px rgba(0, 0, 0, 0.15);\n",
              "      filter: drop-shadow(0px 1px 2px rgba(0, 0, 0, 0.3));\n",
              "      fill: #FFFFFF;\n",
              "    }\n",
              "  </style>\n",
              "\n",
              "      <script>\n",
              "        const buttonEl =\n",
              "          document.querySelector('#df-1b8575f5-af33-49f0-a920-714d715d619e button.colab-df-convert');\n",
              "        buttonEl.style.display =\n",
              "          google.colab.kernel.accessAllowed ? 'block' : 'none';\n",
              "\n",
              "        async function convertToInteractive(key) {\n",
              "          const element = document.querySelector('#df-1b8575f5-af33-49f0-a920-714d715d619e');\n",
              "          const dataTable =\n",
              "            await google.colab.kernel.invokeFunction('convertToInteractive',\n",
              "                                                     [key], {});\n",
              "          if (!dataTable) return;\n",
              "\n",
              "          const docLinkHtml = 'Like what you see? Visit the ' +\n",
              "            '<a target=\"_blank\" href=https://colab.research.google.com/notebooks/data_table.ipynb>data table notebook</a>'\n",
              "            + ' to learn more about interactive tables.';\n",
              "          element.innerHTML = '';\n",
              "          dataTable['output_type'] = 'display_data';\n",
              "          await google.colab.output.renderOutput(dataTable, element);\n",
              "          const docLink = document.createElement('div');\n",
              "          docLink.innerHTML = docLinkHtml;\n",
              "          element.appendChild(docLink);\n",
              "        }\n",
              "      </script>\n",
              "    </div>\n",
              "  </div>\n",
              "  "
            ],
            "text/plain": [
              "                         count          mean          std      min      25%  \\\n",
              "Age                      986.0     41.745436    13.963371     18.0     30.0   \n",
              "Diabetes                 986.0      0.419878     0.493789      0.0      0.0   \n",
              "BloodPressureProblems    986.0      0.468560     0.499264      0.0      0.0   \n",
              "AnyTransplants           986.0      0.055781     0.229615      0.0      0.0   \n",
              "AnyChronicDiseases       986.0      0.180527     0.384821      0.0      0.0   \n",
              "Height                   986.0    168.182556    10.098155    145.0    161.0   \n",
              "Weight                   986.0     76.950304    14.265096     51.0     67.0   \n",
              "KnownAllergies           986.0      0.215010     0.411038      0.0      0.0   \n",
              "HistoryOfCancerInFamily  986.0      0.117647     0.322353      0.0      0.0   \n",
              "NumberOfMajorSurgeries   986.0      0.667343     0.749205      0.0      0.0   \n",
              "PremiumPrice             986.0  24336.713996  6248.184382  15000.0  21000.0   \n",
              "\n",
              "                             50%      75%      max  \n",
              "Age                         42.0     53.0     66.0  \n",
              "Diabetes                     0.0      1.0      1.0  \n",
              "BloodPressureProblems        0.0      1.0      1.0  \n",
              "AnyTransplants               0.0      0.0      1.0  \n",
              "AnyChronicDiseases           0.0      0.0      1.0  \n",
              "Height                     168.0    176.0    188.0  \n",
              "Weight                      75.0     87.0    132.0  \n",
              "KnownAllergies               0.0      0.0      1.0  \n",
              "HistoryOfCancerInFamily      0.0      0.0      1.0  \n",
              "NumberOfMajorSurgeries       1.0      1.0      3.0  \n",
              "PremiumPrice             23000.0  28000.0  40000.0  "
            ]
          },
          "execution_count": 15,
          "metadata": {},
          "output_type": "execute_result"
        }
      ],
      "source": [
        "# melihat statistik data\n",
        "\n",
        "data.describe().T"
      ]
    },
    {
      "cell_type": "markdown",
      "metadata": {
        "id": "A-tYMbWmUEnv"
      },
      "source": [
        "Persebaran nilai per kolom cukup merata. Median usia calon nasabah adalah 42 tahun."
      ]
    },
    {
      "cell_type": "markdown",
      "metadata": {
        "id": "dsMGhbW-mvsq"
      },
      "source": [
        "---\n",
        "Insight:\n",
        "- Data terdiri dari 986 baris dan 11 kolom dengan tipe kolom int.\n",
        "- Data tidak memiliki missing value.\n",
        "- Data terdiri atas 7 kolom kategori dan 4 kolom numerik.\n",
        "- Persebaran nilai per kolom cukup merata.\n",
        "- Median usia calon nasabah adalah 42 tahun."
      ]
    },
    {
      "cell_type": "markdown",
      "metadata": {
        "id": "xID76uJDs9me"
      },
      "source": [
        "# IV. Exploratory Data Analysis (EDA)"
      ]
    },
    {
      "cell_type": "code",
      "execution_count": null,
      "metadata": {
        "colab": {
          "base_uri": "https://localhost:8080/",
          "height": 206
        },
        "id": "Kj6c5oaMH3KM",
        "outputId": "85574b9d-5399-4e97-a542-1ffa1121e8c7"
      },
      "outputs": [
        {
          "data": {
            "text/html": [
              "\n",
              "  <div id=\"df-c8ba1d4c-0c9a-4182-8402-73a17ca632d4\">\n",
              "    <div class=\"colab-df-container\">\n",
              "      <div>\n",
              "<style scoped>\n",
              "    .dataframe tbody tr th:only-of-type {\n",
              "        vertical-align: middle;\n",
              "    }\n",
              "\n",
              "    .dataframe tbody tr th {\n",
              "        vertical-align: top;\n",
              "    }\n",
              "\n",
              "    .dataframe thead th {\n",
              "        text-align: right;\n",
              "    }\n",
              "</style>\n",
              "<table border=\"1\" class=\"dataframe\">\n",
              "  <thead>\n",
              "    <tr style=\"text-align: right;\">\n",
              "      <th></th>\n",
              "      <th>Age</th>\n",
              "      <th>Diabetes</th>\n",
              "      <th>BloodPressureProblems</th>\n",
              "      <th>AnyTransplants</th>\n",
              "      <th>AnyChronicDiseases</th>\n",
              "      <th>Height</th>\n",
              "      <th>Weight</th>\n",
              "      <th>KnownAllergies</th>\n",
              "      <th>HistoryOfCancerInFamily</th>\n",
              "      <th>NumberOfMajorSurgeries</th>\n",
              "      <th>PremiumPrice</th>\n",
              "    </tr>\n",
              "  </thead>\n",
              "  <tbody>\n",
              "    <tr>\n",
              "      <th>0</th>\n",
              "      <td>45</td>\n",
              "      <td>0</td>\n",
              "      <td>0</td>\n",
              "      <td>0</td>\n",
              "      <td>0</td>\n",
              "      <td>155</td>\n",
              "      <td>57</td>\n",
              "      <td>0</td>\n",
              "      <td>0</td>\n",
              "      <td>0</td>\n",
              "      <td>25000</td>\n",
              "    </tr>\n",
              "    <tr>\n",
              "      <th>1</th>\n",
              "      <td>60</td>\n",
              "      <td>1</td>\n",
              "      <td>0</td>\n",
              "      <td>0</td>\n",
              "      <td>0</td>\n",
              "      <td>180</td>\n",
              "      <td>73</td>\n",
              "      <td>0</td>\n",
              "      <td>0</td>\n",
              "      <td>0</td>\n",
              "      <td>29000</td>\n",
              "    </tr>\n",
              "    <tr>\n",
              "      <th>2</th>\n",
              "      <td>36</td>\n",
              "      <td>1</td>\n",
              "      <td>1</td>\n",
              "      <td>0</td>\n",
              "      <td>0</td>\n",
              "      <td>158</td>\n",
              "      <td>59</td>\n",
              "      <td>0</td>\n",
              "      <td>0</td>\n",
              "      <td>1</td>\n",
              "      <td>23000</td>\n",
              "    </tr>\n",
              "    <tr>\n",
              "      <th>3</th>\n",
              "      <td>52</td>\n",
              "      <td>1</td>\n",
              "      <td>1</td>\n",
              "      <td>0</td>\n",
              "      <td>1</td>\n",
              "      <td>183</td>\n",
              "      <td>93</td>\n",
              "      <td>0</td>\n",
              "      <td>0</td>\n",
              "      <td>2</td>\n",
              "      <td>28000</td>\n",
              "    </tr>\n",
              "    <tr>\n",
              "      <th>4</th>\n",
              "      <td>38</td>\n",
              "      <td>0</td>\n",
              "      <td>0</td>\n",
              "      <td>0</td>\n",
              "      <td>1</td>\n",
              "      <td>166</td>\n",
              "      <td>88</td>\n",
              "      <td>0</td>\n",
              "      <td>0</td>\n",
              "      <td>1</td>\n",
              "      <td>23000</td>\n",
              "    </tr>\n",
              "  </tbody>\n",
              "</table>\n",
              "</div>\n",
              "      <button class=\"colab-df-convert\" onclick=\"convertToInteractive('df-c8ba1d4c-0c9a-4182-8402-73a17ca632d4')\"\n",
              "              title=\"Convert this dataframe to an interactive table.\"\n",
              "              style=\"display:none;\">\n",
              "        \n",
              "  <svg xmlns=\"http://www.w3.org/2000/svg\" height=\"24px\"viewBox=\"0 0 24 24\"\n",
              "       width=\"24px\">\n",
              "    <path d=\"M0 0h24v24H0V0z\" fill=\"none\"/>\n",
              "    <path d=\"M18.56 5.44l.94 2.06.94-2.06 2.06-.94-2.06-.94-.94-2.06-.94 2.06-2.06.94zm-11 1L8.5 8.5l.94-2.06 2.06-.94-2.06-.94L8.5 2.5l-.94 2.06-2.06.94zm10 10l.94 2.06.94-2.06 2.06-.94-2.06-.94-.94-2.06-.94 2.06-2.06.94z\"/><path d=\"M17.41 7.96l-1.37-1.37c-.4-.4-.92-.59-1.43-.59-.52 0-1.04.2-1.43.59L10.3 9.45l-7.72 7.72c-.78.78-.78 2.05 0 2.83L4 21.41c.39.39.9.59 1.41.59.51 0 1.02-.2 1.41-.59l7.78-7.78 2.81-2.81c.8-.78.8-2.07 0-2.86zM5.41 20L4 18.59l7.72-7.72 1.47 1.35L5.41 20z\"/>\n",
              "  </svg>\n",
              "      </button>\n",
              "      \n",
              "  <style>\n",
              "    .colab-df-container {\n",
              "      display:flex;\n",
              "      flex-wrap:wrap;\n",
              "      gap: 12px;\n",
              "    }\n",
              "\n",
              "    .colab-df-convert {\n",
              "      background-color: #E8F0FE;\n",
              "      border: none;\n",
              "      border-radius: 50%;\n",
              "      cursor: pointer;\n",
              "      display: none;\n",
              "      fill: #1967D2;\n",
              "      height: 32px;\n",
              "      padding: 0 0 0 0;\n",
              "      width: 32px;\n",
              "    }\n",
              "\n",
              "    .colab-df-convert:hover {\n",
              "      background-color: #E2EBFA;\n",
              "      box-shadow: 0px 1px 2px rgba(60, 64, 67, 0.3), 0px 1px 3px 1px rgba(60, 64, 67, 0.15);\n",
              "      fill: #174EA6;\n",
              "    }\n",
              "\n",
              "    [theme=dark] .colab-df-convert {\n",
              "      background-color: #3B4455;\n",
              "      fill: #D2E3FC;\n",
              "    }\n",
              "\n",
              "    [theme=dark] .colab-df-convert:hover {\n",
              "      background-color: #434B5C;\n",
              "      box-shadow: 0px 1px 3px 1px rgba(0, 0, 0, 0.15);\n",
              "      filter: drop-shadow(0px 1px 2px rgba(0, 0, 0, 0.3));\n",
              "      fill: #FFFFFF;\n",
              "    }\n",
              "  </style>\n",
              "\n",
              "      <script>\n",
              "        const buttonEl =\n",
              "          document.querySelector('#df-c8ba1d4c-0c9a-4182-8402-73a17ca632d4 button.colab-df-convert');\n",
              "        buttonEl.style.display =\n",
              "          google.colab.kernel.accessAllowed ? 'block' : 'none';\n",
              "\n",
              "        async function convertToInteractive(key) {\n",
              "          const element = document.querySelector('#df-c8ba1d4c-0c9a-4182-8402-73a17ca632d4');\n",
              "          const dataTable =\n",
              "            await google.colab.kernel.invokeFunction('convertToInteractive',\n",
              "                                                     [key], {});\n",
              "          if (!dataTable) return;\n",
              "\n",
              "          const docLinkHtml = 'Like what you see? Visit the ' +\n",
              "            '<a target=\"_blank\" href=https://colab.research.google.com/notebooks/data_table.ipynb>data table notebook</a>'\n",
              "            + ' to learn more about interactive tables.';\n",
              "          element.innerHTML = '';\n",
              "          dataTable['output_type'] = 'display_data';\n",
              "          await google.colab.output.renderOutput(dataTable, element);\n",
              "          const docLink = document.createElement('div');\n",
              "          docLink.innerHTML = docLinkHtml;\n",
              "          element.appendChild(docLink);\n",
              "        }\n",
              "      </script>\n",
              "    </div>\n",
              "  </div>\n",
              "  "
            ],
            "text/plain": [
              "   Age  Diabetes  BloodPressureProblems  AnyTransplants  AnyChronicDiseases  \\\n",
              "0   45         0                      0               0                   0   \n",
              "1   60         1                      0               0                   0   \n",
              "2   36         1                      1               0                   0   \n",
              "3   52         1                      1               0                   1   \n",
              "4   38         0                      0               0                   1   \n",
              "\n",
              "   Height  Weight  KnownAllergies  HistoryOfCancerInFamily  \\\n",
              "0     155      57               0                        0   \n",
              "1     180      73               0                        0   \n",
              "2     158      59               0                        0   \n",
              "3     183      93               0                        0   \n",
              "4     166      88               0                        0   \n",
              "\n",
              "   NumberOfMajorSurgeries  PremiumPrice  \n",
              "0                       0         25000  \n",
              "1                       0         29000  \n",
              "2                       1         23000  \n",
              "3                       2         28000  \n",
              "4                       1         23000  "
            ]
          },
          "execution_count": 16,
          "metadata": {},
          "output_type": "execute_result"
        }
      ],
      "source": [
        "# melihat dataset\n",
        "\n",
        "data.head()"
      ]
    },
    {
      "cell_type": "code",
      "execution_count": null,
      "metadata": {
        "colab": {
          "base_uri": "https://localhost:8080/"
        },
        "id": "EOItobuwU_Kt",
        "outputId": "5e76fd25-4684-40ee-d701-34f881639581"
      },
      "outputs": [
        {
          "data": {
            "text/plain": [
              "Index(['Age', 'Diabetes', 'BloodPressureProblems', 'AnyTransplants',\n",
              "       'AnyChronicDiseases', 'Height', 'Weight', 'KnownAllergies',\n",
              "       'HistoryOfCancerInFamily', 'NumberOfMajorSurgeries', 'PremiumPrice'],\n",
              "      dtype='object')"
            ]
          },
          "execution_count": 17,
          "metadata": {},
          "output_type": "execute_result"
        }
      ],
      "source": [
        "# melihat nama kolom\n",
        "\n",
        "data.columns"
      ]
    },
    {
      "cell_type": "code",
      "execution_count": null,
      "metadata": {
        "colab": {
          "base_uri": "https://localhost:8080/",
          "height": 383
        },
        "id": "qMwLCU99P-fq",
        "outputId": "34604e70-2c53-40bd-c58a-c17381824758"
      },
      "outputs": [
        {
          "data": {
            "image/png": "[encoded data removed]",
            "text/plain": [
              "<Figure size 432x288 with 1 Axes>"
            ]
          },
          "metadata": {
            "needs_background": "light"
          },
          "output_type": "display_data"
        },
        {
          "name": "stdout",
          "output_type": "stream",
          "text": [
            "PremiumPrice mode: 23000\n",
            "PremiumPrice min: 15000\n",
            "PremiumPrice max: 40000\n",
            "PremiumPrice median: 23000.0\n",
            "PremiumPrice mean: 24336.71\n",
            "PremiumPrice skew: 0.1\n"
          ]
        }
      ],
      "source": [
        "# melihat persebaran kolom target: PremiumPrice\n",
        "\n",
        "fig, ax = plt.subplots()\n",
        "sns.histplot(data=data, x='PremiumPrice', bins= 20, color='m', kde = True)\n",
        "# ax.set_xlim(0,80000)\n",
        "plt.show()\n",
        "\n",
        "\n",
        "print('PremiumPrice mode:', data.PremiumPrice.mode()[0])\n",
        "print('PremiumPrice min:', data.PremiumPrice.min())\n",
        "print('PremiumPrice max:', data.PremiumPrice.max())\n",
        "print('PremiumPrice median:', data.PremiumPrice.median())\n",
        "print('PremiumPrice mean:', round(data.PremiumPrice.mean(),2))\n",
        "print('PremiumPrice skew:', round(data.PremiumPrice.skew(),2))"
      ]
    },
    {
      "cell_type": "markdown",
      "metadata": {
        "id": "KkKLETIp32Ho"
      },
      "source": [
        "Insight:\n",
        "- Kolom target yang digunakan untuk pembuatan model terdistribusi normal. Dengan Range 15,000 s/d 40,000 dan rata-rata harga premi 24,336.71."
      ]
    },
    {
      "cell_type": "code",
      "execution_count": null,
      "metadata": {
        "colab": {
          "base_uri": "https://localhost:8080/",
          "height": 621
        },
        "id": "haFdqrTaQixM",
        "outputId": "901d1a4d-5236-483c-c572-a495e208c89c"
      },
      "outputs": [
        {
          "data": {
            "image/png": "[encoded data removed]",
            "text/plain": [
              "<Figure size 1440x720 with 8 Axes>"
            ]
          },
          "metadata": {
            "needs_background": "light"
          },
          "output_type": "display_data"
        }
      ],
      "source": [
        "# melihat persebaran pada kolom kategorikal (countplot)\n",
        "\n",
        "fig,axes=plt.subplots(nrows=2,ncols=4,figsize=(20,10))\n",
        "\n",
        "i=0       # baris\n",
        "j=0       # kolom\n",
        "\n",
        "for col in ['Diabetes', 'BloodPressureProblems', 'AnyTransplants', 'AnyChronicDiseases', 'KnownAllergies', 'HistoryOfCancerInFamily']:\n",
        "    sns.countplot(data=data, x=col, ax=axes[i][j])\n",
        "    axes[i][j].set_title(col)\n",
        "    #axes[i][j].legend()\n",
        "    j+=1\n",
        "    if j>3:       # ncols = 4, index python 3\n",
        "        i+=1\n",
        "        j=0\n",
        "    if i==2:      # nrows = 2, index python 1\n",
        "        break"
      ]
    },
    {
      "cell_type": "markdown",
      "metadata": {
        "id": "XBseL7vC5ZzK"
      },
      "source": [
        "Insight:\n",
        "- Lebih banyak nasabah yang tidak menderita diabetes, tidak menderita tekanan darah tinggi, tidak pernah melakukan transplantasi organ, tidak memiliki penyakit kronis, tidak memiliki alergi, dan keluarganya tidak memiliki sejarah kanker yang berarti lebih banyak nasabah yang berada pada kesehatan prima."
      ]
    },
    {
      "cell_type": "code",
      "execution_count": null,
      "metadata": {
        "colab": {
          "base_uri": "https://localhost:8080/",
          "height": 665
        },
        "id": "8Ob_e6g4QYN8",
        "outputId": "a8609281-a3f0-4a3f-e849-2a16e3cd9fce"
      },
      "outputs": [
        {
          "name": "stdout",
          "output_type": "stream",
          "text": [
            "Age median: 42.0, Age mean: 41.75, Age min: 18, Age max: 66, Age modus: 43\n",
            "Age skew: 0.03\n",
            "\n",
            "\n",
            "Height median: 168.0, Height mean: 168.18, Height min: 145, Height max: 188, Height modus: 164\n",
            "Height skew: -0.18\n",
            "\n",
            "\n",
            "Weight median: 75.0, Weight mean: 76.95, Weight min: 51, Weight max: 132, Weight modus: 73\n",
            "Weight skew: 0.67\n",
            "\n",
            "\n",
            "Kapan memakai Mean dan kapan memakai Median?\n",
            "Mean digunakan ketika persebaran data normal\n",
            "Median digunakan ketika persebaran data ditarik ke kiri atau ke kanan (terdapat outliers). Median adalah nilai tengah dari data yang tidak terpengaruh oleh outliers.\n",
            "\n",
            "\n"
          ]
        },
        {
          "data": {
            "image/png": "[encoded data removed]",
            "text/plain": [
              "<Figure size 1800x360 with 3 Axes>"
            ]
          },
          "metadata": {
            "needs_background": "light"
          },
          "output_type": "display_data"
        }
      ],
      "source": [
        "# melihat persebaran pada kolom numerik\n",
        "\n",
        "fig,axes=plt.subplots(nrows=1,ncols=3,figsize=(25,5))\n",
        "\n",
        "i=0             # kolom\n",
        "j=0             # target\n",
        "\n",
        "for col in ['Age', 'Height', 'Weight']:\n",
        "    sns.histplot(data=data, x=col, bins= 30, color='m', kde = True, ax=axes[j])\n",
        "    axes[j].set_title(f'Histogram of {col}')\n",
        "    #axes[i][j].legend()\n",
        "    j+=1\n",
        "    if j>2:                     # ncols = 3, index python 2\n",
        "        i+=1\n",
        "        j=0\n",
        "    if i==1:                    # nrows = 1, index python 0\n",
        "        break\n",
        "\n",
        "# melihat mean atau median kolom numerik\n",
        "## 1\n",
        "print('Age median: {}, Age mean: {:.2f}, Age min: {}, Age max: {}, Age modus: {}'.format(data.Age.median(),\n",
        "                                                                                          data.Age.mean(), data.Age.min(),\n",
        "                                                                                          data.Age.max(), data.Age.mode()[0]))\n",
        "print(f'Age skew: {data.Age.skew():.2f}')\n",
        "print('\\n')\n",
        "## 2\n",
        "print('Height median: {}, Height mean: {:.2f}, Height min: {}, Height max: {}, Height modus: {}'.format(data.Height.median(),\n",
        "                                                                                                        data.Height.mean(), data.Height.min(),\n",
        "                                                                                                        data.Height.max(), data.Height.mode()[0]))\n",
        "print(f'Height skew: {data.Height.skew():.2f}')\n",
        "print('\\n')\n",
        "##3\n",
        "print('Weight median: {}, Weight mean: {:.2f}, Weight min: {}, Weight max: {}, Weight modus: {}'.format(data.Weight.median(),\n",
        "                                                                                                        data.Weight.mean(), data.Weight.min(),\n",
        "                                                                                                        data.Weight.max(), data.Weight.mode()[0]))\n",
        "print(f'Weight skew: {data.Weight.skew():.2f}')\n",
        "print('\\n')\n",
        "\n",
        "print('Kapan memakai Mean dan kapan memakai Median?')\n",
        "print('Mean digunakan ketika persebaran data normal')\n",
        "print('Median digunakan ketika persebaran data ditarik ke kiri atau ke kanan (terdapat outliers). Median adalah nilai tengah dari data yang tidak terpengaruh oleh outliers.')\n",
        "print('\\n')"
      ]
    },
    {
      "cell_type": "markdown",
      "metadata": {
        "id": "6802-zYJ73nO"
      },
      "source": [
        "Insight:\n",
        "- Rata-rata usia nasabah 41 tahun, rata-rata tinggi nasabah 168 cm, median berat nasabah 75 kg."
      ]
    },
    {
      "cell_type": "code",
      "execution_count": null,
      "metadata": {
        "colab": {
          "base_uri": "https://localhost:8080/"
        },
        "id": "f3kB27CPL_Nc",
        "outputId": "8b82b688-ebc0-498c-c706-b1fca32e2ecc"
      },
      "outputs": [
        {
          "name": "stdout",
          "output_type": "stream",
          "text": [
            "p=0.000\n",
            "Probably Diabetes is dependent\n",
            "\n",
            "p=0.000\n",
            "Probably BloodPressureProblems is dependent\n",
            "\n",
            "p=0.000\n",
            "Probably AnyTransplants is dependent\n",
            "\n",
            "p=0.000\n",
            "Probably AnyChronicDiseases is dependent\n",
            "\n",
            "p=0.001\n",
            "Probably KnownAllergies is dependent\n",
            "\n",
            "p=0.000\n",
            "Probably HistoryOfCancerInFamily is dependent\n"
          ]
        }
      ],
      "source": [
        "# melihat hubungan kolom kategorikal dan target dengan chisquare_contigency\n",
        "\n",
        "# 1 'Diabetes' vs 'PremiumPrice'\n",
        "contingency_table_D=pd.crosstab(data['Diabetes'],data[\"PremiumPrice\"])\n",
        "\n",
        "stat, p, dof, expected = stats.chi2_contingency(contingency_table_D)\n",
        "print('p=%.3f' % (p))\n",
        "if p > 0.05:\n",
        "    print('Probably Diabetes is independent')\n",
        "else:\n",
        "    print('Probably Diabetes is dependent')\n",
        "print('')\n",
        "\n",
        "# 2 'BloodPressureProblems' vs 'PremiumPrice'\n",
        "contingency_table_BPP=pd.crosstab(data['BloodPressureProblems'],data[\"PremiumPrice\"])\n",
        "\n",
        "stat, p, dof, expected = stats.chi2_contingency(contingency_table_BPP)\n",
        "print('p=%.3f' % (p))\n",
        "if p > 0.05:\n",
        "    print('Probably BloodPressureProblems is independent')\n",
        "else:\n",
        "    print('Probably BloodPressureProblems is dependent')\n",
        "print('')\n",
        "\n",
        "# 3 'AnyTransplants' vs 'PremiumPrice'\n",
        "contingency_table_AT=pd.crosstab(data['AnyTransplants'],data[\"PremiumPrice\"])\n",
        "\n",
        "stat, p, dof, expected = stats.chi2_contingency(contingency_table_AT)\n",
        "print('p=%.3f' % (p))\n",
        "if p > 0.05:\n",
        "    print('Probably AnyTransplants is independent')\n",
        "else:\n",
        "    print('Probably AnyTransplants is dependent')\n",
        "print('')\n",
        "\n",
        "# 4 'AnyChronicDiseases' vs 'PremiumPrice'\n",
        "contingency_table_ACD=pd.crosstab(data['AnyChronicDiseases'],data[\"PremiumPrice\"])\n",
        "\n",
        "stat, p, dof, expected = stats.chi2_contingency(contingency_table_ACD)\n",
        "print('p=%.3f' % (p))\n",
        "if p > 0.05:\n",
        "    print('Probably AnyChronicDiseases is independent')\n",
        "else:\n",
        "    print('Probably AnyChronicDiseases is dependent')\n",
        "print('')\n",
        "\n",
        "# 5 'KnownAllergies' vs 'PremiumPrice'\n",
        "contingency_table_KA=pd.crosstab(data['KnownAllergies'],data[\"PremiumPrice\"])\n",
        "\n",
        "stat, p, dof, expected = stats.chi2_contingency(contingency_table_KA)\n",
        "print('p=%.3f' % (p))\n",
        "if p > 0.05:\n",
        "    print('Probably KnownAllergies is independent')\n",
        "else:\n",
        "    print('Probably KnownAllergies is dependent')\n",
        "print('')\n",
        "\n",
        "# 6 'HistoryOfCancerInFamily' vs 'PremiumPrice'\n",
        "contingency_table_HCF=pd.crosstab(data['HistoryOfCancerInFamily'],data[\"PremiumPrice\"])\n",
        "\n",
        "stat, p, dof, expected = stats.chi2_contingency(contingency_table_HCF)\n",
        "print('p=%.3f' % (p))\n",
        "if p > 0.05:\n",
        "    print('Probably HistoryOfCancerInFamily is independent')\n",
        "else:\n",
        "    print('Probably HistoryOfCancerInFamily is dependent')"
      ]
    },
    {
      "cell_type": "markdown",
      "metadata": {
        "id": "ewhIeJ26AvK0"
      },
      "source": [
        "Insight:\n",
        "- Berdasarkan chisquare Diabetes, BloodPressureProblems, AnyTransplants, AnyChronicDiseases, KnownAllergies, dan HistoryofCancerInFamily __memiliki pengaruh terhadap PremiumPrice atau harga premi asuransi kesehatan.__"
      ]
    },
    {
      "cell_type": "code",
      "execution_count": null,
      "metadata": {
        "colab": {
          "base_uri": "https://localhost:8080/",
          "height": 206
        },
        "id": "9-dImN5pECoY",
        "outputId": "8a395a67-4a87-463d-9eae-c246ddc2f7ae"
      },
      "outputs": [
        {
          "data": {
            "text/html": [
              "<style type=\"text/css\">\n",
              "#T_3a024_row0_col0, #T_3a024_row1_col1, #T_3a024_row2_col2, #T_3a024_row3_col3, #T_3a024_row4_col4 {\n",
              "  background-color: #b40426;\n",
              "  color: #f1f1f1;\n",
              "}\n",
              "#T_3a024_row0_col1, #T_3a024_row3_col2 {\n",
              "  background-color: #3e51c5;\n",
              "  color: #f1f1f1;\n",
              "}\n",
              "#T_3a024_row0_col2, #T_3a024_row1_col4, #T_3a024_row2_col0, #T_3a024_row2_col3, #T_3a024_row4_col1 {\n",
              "  background-color: #3b4cc0;\n",
              "  color: #f1f1f1;\n",
              "}\n",
              "#T_3a024_row0_col3 {\n",
              "  background-color: #cad8ef;\n",
              "  color: #000000;\n",
              "}\n",
              "#T_3a024_row0_col4 {\n",
              "  background-color: #f7b093;\n",
              "  color: #000000;\n",
              "}\n",
              "#T_3a024_row1_col0 {\n",
              "  background-color: #4b64d5;\n",
              "  color: #f1f1f1;\n",
              "}\n",
              "#T_3a024_row1_col2 {\n",
              "  background-color: #5470de;\n",
              "  color: #f1f1f1;\n",
              "}\n",
              "#T_3a024_row1_col3 {\n",
              "  background-color: #485fd1;\n",
              "  color: #f1f1f1;\n",
              "}\n",
              "#T_3a024_row2_col1 {\n",
              "  background-color: #465ecf;\n",
              "  color: #f1f1f1;\n",
              "}\n",
              "#T_3a024_row2_col4 {\n",
              "  background-color: #5f7fe8;\n",
              "  color: #f1f1f1;\n",
              "}\n",
              "#T_3a024_row3_col0 {\n",
              "  background-color: #ccd9ed;\n",
              "  color: #000000;\n",
              "}\n",
              "#T_3a024_row3_col1 {\n",
              "  background-color: #3d50c3;\n",
              "  color: #f1f1f1;\n",
              "}\n",
              "#T_3a024_row3_col4 {\n",
              "  background-color: #8badfd;\n",
              "  color: #000000;\n",
              "}\n",
              "#T_3a024_row4_col0 {\n",
              "  background-color: #f7ac8e;\n",
              "  color: #000000;\n",
              "}\n",
              "#T_3a024_row4_col2 {\n",
              "  background-color: #6c8ff1;\n",
              "  color: #f1f1f1;\n",
              "}\n",
              "#T_3a024_row4_col3 {\n",
              "  background-color: #93b5fe;\n",
              "  color: #000000;\n",
              "}\n",
              "</style>\n",
              "<table id=\"T_3a024_\" class=\"dataframe\">\n",
              "  <thead>\n",
              "    <tr>\n",
              "      <th class=\"blank level0\" >&nbsp;</th>\n",
              "      <th class=\"col_heading level0 col0\" >Age</th>\n",
              "      <th class=\"col_heading level0 col1\" >Height</th>\n",
              "      <th class=\"col_heading level0 col2\" >Weight</th>\n",
              "      <th class=\"col_heading level0 col3\" >NumberOfMajorSurgeries</th>\n",
              "      <th class=\"col_heading level0 col4\" >PremiumPrice</th>\n",
              "    </tr>\n",
              "  </thead>\n",
              "  <tbody>\n",
              "    <tr>\n",
              "      <th id=\"T_3a024_level0_row0\" class=\"row_heading level0 row0\" >Age</th>\n",
              "      <td id=\"T_3a024_row0_col0\" class=\"data row0 col0\" >1.000000</td>\n",
              "      <td id=\"T_3a024_row0_col1\" class=\"data row0 col1\" >0.039879</td>\n",
              "      <td id=\"T_3a024_row0_col2\" class=\"data row0 col2\" >-0.018590</td>\n",
              "      <td id=\"T_3a024_row0_col3\" class=\"data row0 col3\" >0.429181</td>\n",
              "      <td id=\"T_3a024_row0_col4\" class=\"data row0 col4\" >0.697540</td>\n",
              "    </tr>\n",
              "    <tr>\n",
              "      <th id=\"T_3a024_level0_row1\" class=\"row_heading level0 row1\" >Height</th>\n",
              "      <td id=\"T_3a024_row1_col0\" class=\"data row1 col0\" >0.039879</td>\n",
              "      <td id=\"T_3a024_row1_col1\" class=\"data row1 col1\" >1.000000</td>\n",
              "      <td id=\"T_3a024_row1_col2\" class=\"data row1 col2\" >0.066946</td>\n",
              "      <td id=\"T_3a024_row1_col3\" class=\"data row1 col3\" >0.037289</td>\n",
              "      <td id=\"T_3a024_row1_col4\" class=\"data row1 col4\" >0.026910</td>\n",
              "    </tr>\n",
              "    <tr>\n",
              "      <th id=\"T_3a024_level0_row2\" class=\"row_heading level0 row2\" >Weight</th>\n",
              "      <td id=\"T_3a024_row2_col0\" class=\"data row2 col0\" >-0.018590</td>\n",
              "      <td id=\"T_3a024_row2_col1\" class=\"data row2 col1\" >0.066946</td>\n",
              "      <td id=\"T_3a024_row2_col2\" class=\"data row2 col2\" >1.000000</td>\n",
              "      <td id=\"T_3a024_row2_col3\" class=\"data row2 col3\" >-0.006108</td>\n",
              "      <td id=\"T_3a024_row2_col4\" class=\"data row2 col4\" >0.141507</td>\n",
              "    </tr>\n",
              "    <tr>\n",
              "      <th id=\"T_3a024_level0_row3\" class=\"row_heading level0 row3\" >NumberOfMajorSurgeries</th>\n",
              "      <td id=\"T_3a024_row3_col0\" class=\"data row3 col0\" >0.429181</td>\n",
              "      <td id=\"T_3a024_row3_col1\" class=\"data row3 col1\" >0.037289</td>\n",
              "      <td id=\"T_3a024_row3_col2\" class=\"data row3 col2\" >-0.006108</td>\n",
              "      <td id=\"T_3a024_row3_col3\" class=\"data row3 col3\" >1.000000</td>\n",
              "      <td id=\"T_3a024_row3_col4\" class=\"data row3 col4\" >0.264250</td>\n",
              "    </tr>\n",
              "    <tr>\n",
              "      <th id=\"T_3a024_level0_row4\" class=\"row_heading level0 row4\" >PremiumPrice</th>\n",
              "      <td id=\"T_3a024_row4_col0\" class=\"data row4 col0\" >0.697540</td>\n",
              "      <td id=\"T_3a024_row4_col1\" class=\"data row4 col1\" >0.026910</td>\n",
              "      <td id=\"T_3a024_row4_col2\" class=\"data row4 col2\" >0.141507</td>\n",
              "      <td id=\"T_3a024_row4_col3\" class=\"data row4 col3\" >0.264250</td>\n",
              "      <td id=\"T_3a024_row4_col4\" class=\"data row4 col4\" >1.000000</td>\n",
              "    </tr>\n",
              "  </tbody>\n",
              "</table>\n"
            ],
            "text/plain": [
              "<pandas.io.formats.style.Styler at 0x7f0a5be20310>"
            ]
          },
          "execution_count": 22,
          "metadata": {},
          "output_type": "execute_result"
        }
      ],
      "source": [
        "# melihat hubungan antara kolom 'Age', 'Height', 'Weight', 'NumberOfMajorSurgeries', dan 'PremiumPrice'\n",
        "\n",
        "X = pd.get_dummies(data[['Age', 'Height', 'Weight', 'NumberOfMajorSurgeries', 'PremiumPrice']]).corr()\n",
        "X.style.background_gradient(cmap='coolwarm')"
      ]
    },
    {
      "cell_type": "markdown",
      "metadata": {
        "id": "ZP8lX_VwDgAr"
      },
      "source": [
        "Insight:\n",
        "- berdasarkan get_dummies, corr, dan background gradient kolom Age, Weight, NumberofMajorSurgeries __memiliki hubungan yang positif dengan harga premi asuransi kesehatan__, dan kolom Height __tidak memiliki hubungan dengan harga premi asuransi kesehatan.__\n",
        "- Data scientist akan menggunakan __kolom Diabetes, BloodPressureProblems, AnyTransplants, AnyChronicDiseases, KnownAllergies, HistoryofCancerInFamily, Age, Weight, NumberofMajorSurgeries sebagai feature.__"
      ]
    },
    {
      "cell_type": "markdown",
      "metadata": {
        "id": "DgMSIih2Ec1B"
      },
      "source": [
        "__Kumpulan Insight:__\n",
        "\n",
        "- Kolom target yang digunakan untuk pembuatan model terdistribusi normal. Dengan Range 15,000 s/d 40,000 dan rata-rata harga premi 24,336.71.\n",
        "- Lebih banyak nasabah yang __tidak menderita diabetes, tidak menderita tekanan darah tinggi, tidak pernah melakukan transplantasi organ, tidak memiliki penyakit kronis, tidak memiliki alergi, dan keluarganya tidak memiliki sejarah kanker yang berarti lebih banyak nasabah yang berada pada kesehatan prima.__\n",
        "- Rata-rata usia nasabah 41 tahun, rata-rata tinggi nasabah 168 cm, median berat nasabah 75 kg.\n",
        "- Berdasarkan chisquare Diabetes, BloodPressureProblems, AnyTransplants, AnyChronicDiseases, KnownAllergies, dan HistoryofCancerInFamily __memiliki pengaruh terhadap PremiumPrice atau harga premi asuransi kesehatan.__\n",
        "- berdasarkan get_dummies, corr, dan background gradient kolom Age, Weight, NumberofMajorSurgeries __memiliki hubungan yang positif dengan harga premi asuransi kesehatan__, dan kolom Height __tidak memiliki hubungan dengan harga premi asuransi kesehatan.__\n",
        "- Data scientist akan menggunakan __kolom Diabetes, BloodPressureProblems, AnyTransplants, AnyChronicDiseases, KnownAllergies, HistoryofCancerInFamily, Age, Weight, NumberofMajorSurgeries sebagai feature.__"
      ]
    },
    {
      "cell_type": "markdown",
      "metadata": {
        "id": "nU6dL_w-tDO2"
      },
      "source": [
        "# V. Data Preprocessing"
      ]
    },
    {
      "cell_type": "markdown",
      "metadata": {
        "id": "9QUrZ7bEt0vk"
      },
      "source": [
        "## 1. Get Data for model Inference"
      ]
    },
    {
      "cell_type": "code",
      "execution_count": null,
      "metadata": {
        "id": "_6aZ-gBCz-OS"
      },
      "outputs": [],
      "source": [
        "# mengambil data untuk inference\n",
        "\n",
        "data_i = data.sample(20, random_state = 20)\n",
        "\n",
        "# mengeluarkan data_i dari dataset\n",
        "\n",
        "data = data.drop(data_i.index)\n",
        "\n",
        "# mereset index\n",
        "\n",
        "data_i.reset_index(drop=True, inplace=True)\n",
        "data.reset_index(drop=True, inplace=True)"
      ]
    },
    {
      "cell_type": "code",
      "execution_count": null,
      "metadata": {
        "colab": {
          "base_uri": "https://localhost:8080/"
        },
        "id": "QKkULAi0LF1V",
        "outputId": "256b05f7-391b-493c-b006-4b559c80f74a"
      },
      "outputs": [
        {
          "name": "stdout",
          "output_type": "stream",
          "text": [
            "Ukuran data asli : (986, 11)\n",
            "Ukuran data inference : (20, 11)\n",
            "Ukuran data asli - data inference : (966, 11)\n"
          ]
        }
      ],
      "source": [
        "# memeriksa ukuran hasil\n",
        "\n",
        "print('Ukuran data asli :',data_o.shape)\n",
        "print('Ukuran data inference :', data_i.shape)\n",
        "print('Ukuran data asli - data inference :', data.shape)"
      ]
    },
    {
      "cell_type": "markdown",
      "metadata": {
        "id": "UponIBjQt0jX"
      },
      "source": [
        "## 2. Splitting Between X and y"
      ]
    },
    {
      "cell_type": "code",
      "execution_count": null,
      "metadata": {
        "id": "-xqP8O4-LMgA"
      },
      "outputs": [],
      "source": [
        "# split X (features) dan y (target)\n",
        "\n",
        "X = data.drop('PremiumPrice', axis=1)\n",
        "y = data['PremiumPrice']"
      ]
    },
    {
      "cell_type": "code",
      "execution_count": null,
      "metadata": {
        "colab": {
          "base_uri": "https://localhost:8080/"
        },
        "id": "KMu9gE8JMfPj",
        "outputId": "7221b91d-f9c9-429a-82be-964b645d3e93"
      },
      "outputs": [
        {
          "name": "stdout",
          "output_type": "stream",
          "text": [
            "Train Size:  (772, 10)\n",
            "Test Size:  (194, 10)\n"
          ]
        }
      ],
      "source": [
        "# split train dan set\n",
        "\n",
        "X_train, X_test, y_train, y_test = train_test_split(X, y, test_size = 0.2, random_state=12)\n",
        "\n",
        "# memeriksa ukuran hasil\n",
        "print('Train Size: ', X_train.shape)\n",
        "print('Test Size: ', X_test.shape)"
      ]
    },
    {
      "cell_type": "markdown",
      "metadata": {
        "id": "tF-S8HM1t0Wm"
      },
      "source": [
        "## 3. Handling Outliers"
      ]
    },
    {
      "cell_type": "code",
      "execution_count": null,
      "metadata": {
        "colab": {
          "base_uri": "https://localhost:8080/",
          "height": 206
        },
        "id": "Q7PTyvLgNixr",
        "outputId": "c6a5fffb-d40e-4bad-f85d-d9ddc211464c"
      },
      "outputs": [
        {
          "data": {
            "text/html": [
              "\n",
              "  <div id=\"df-81bba5a1-18ee-4f56-a9b5-934d108beaba\">\n",
              "    <div class=\"colab-df-container\">\n",
              "      <div>\n",
              "<style scoped>\n",
              "    .dataframe tbody tr th:only-of-type {\n",
              "        vertical-align: middle;\n",
              "    }\n",
              "\n",
              "    .dataframe tbody tr th {\n",
              "        vertical-align: top;\n",
              "    }\n",
              "\n",
              "    .dataframe thead th {\n",
              "        text-align: right;\n",
              "    }\n",
              "</style>\n",
              "<table border=\"1\" class=\"dataframe\">\n",
              "  <thead>\n",
              "    <tr style=\"text-align: right;\">\n",
              "      <th></th>\n",
              "      <th>Age</th>\n",
              "      <th>Diabetes</th>\n",
              "      <th>BloodPressureProblems</th>\n",
              "      <th>AnyTransplants</th>\n",
              "      <th>AnyChronicDiseases</th>\n",
              "      <th>Height</th>\n",
              "      <th>Weight</th>\n",
              "      <th>KnownAllergies</th>\n",
              "      <th>HistoryOfCancerInFamily</th>\n",
              "      <th>NumberOfMajorSurgeries</th>\n",
              "    </tr>\n",
              "  </thead>\n",
              "  <tbody>\n",
              "    <tr>\n",
              "      <th>360</th>\n",
              "      <td>35</td>\n",
              "      <td>0</td>\n",
              "      <td>1</td>\n",
              "      <td>0</td>\n",
              "      <td>0</td>\n",
              "      <td>162</td>\n",
              "      <td>78</td>\n",
              "      <td>0</td>\n",
              "      <td>0</td>\n",
              "      <td>0</td>\n",
              "    </tr>\n",
              "    <tr>\n",
              "      <th>448</th>\n",
              "      <td>19</td>\n",
              "      <td>1</td>\n",
              "      <td>0</td>\n",
              "      <td>0</td>\n",
              "      <td>0</td>\n",
              "      <td>183</td>\n",
              "      <td>70</td>\n",
              "      <td>1</td>\n",
              "      <td>1</td>\n",
              "      <td>1</td>\n",
              "    </tr>\n",
              "    <tr>\n",
              "      <th>497</th>\n",
              "      <td>49</td>\n",
              "      <td>0</td>\n",
              "      <td>0</td>\n",
              "      <td>0</td>\n",
              "      <td>0</td>\n",
              "      <td>185</td>\n",
              "      <td>81</td>\n",
              "      <td>0</td>\n",
              "      <td>0</td>\n",
              "      <td>2</td>\n",
              "    </tr>\n",
              "    <tr>\n",
              "      <th>201</th>\n",
              "      <td>32</td>\n",
              "      <td>0</td>\n",
              "      <td>1</td>\n",
              "      <td>0</td>\n",
              "      <td>0</td>\n",
              "      <td>176</td>\n",
              "      <td>93</td>\n",
              "      <td>0</td>\n",
              "      <td>0</td>\n",
              "      <td>0</td>\n",
              "    </tr>\n",
              "    <tr>\n",
              "      <th>870</th>\n",
              "      <td>45</td>\n",
              "      <td>1</td>\n",
              "      <td>1</td>\n",
              "      <td>0</td>\n",
              "      <td>0</td>\n",
              "      <td>164</td>\n",
              "      <td>68</td>\n",
              "      <td>0</td>\n",
              "      <td>0</td>\n",
              "      <td>1</td>\n",
              "    </tr>\n",
              "  </tbody>\n",
              "</table>\n",
              "</div>\n",
              "      <button class=\"colab-df-convert\" onclick=\"convertToInteractive('df-81bba5a1-18ee-4f56-a9b5-934d108beaba')\"\n",
              "              title=\"Convert this dataframe to an interactive table.\"\n",
              "              style=\"display:none;\">\n",
              "        \n",
              "  <svg xmlns=\"http://www.w3.org/2000/svg\" height=\"24px\"viewBox=\"0 0 24 24\"\n",
              "       width=\"24px\">\n",
              "    <path d=\"M0 0h24v24H0V0z\" fill=\"none\"/>\n",
              "    <path d=\"M18.56 5.44l.94 2.06.94-2.06 2.06-.94-2.06-.94-.94-2.06-.94 2.06-2.06.94zm-11 1L8.5 8.5l.94-2.06 2.06-.94-2.06-.94L8.5 2.5l-.94 2.06-2.06.94zm10 10l.94 2.06.94-2.06 2.06-.94-2.06-.94-.94-2.06-.94 2.06-2.06.94z\"/><path d=\"M17.41 7.96l-1.37-1.37c-.4-.4-.92-.59-1.43-.59-.52 0-1.04.2-1.43.59L10.3 9.45l-7.72 7.72c-.78.78-.78 2.05 0 2.83L4 21.41c.39.39.9.59 1.41.59.51 0 1.02-.2 1.41-.59l7.78-7.78 2.81-2.81c.8-.78.8-2.07 0-2.86zM5.41 20L4 18.59l7.72-7.72 1.47 1.35L5.41 20z\"/>\n",
              "  </svg>\n",
              "      </button>\n",
              "      \n",
              "  <style>\n",
              "    .colab-df-container {\n",
              "      display:flex;\n",
              "      flex-wrap:wrap;\n",
              "      gap: 12px;\n",
              "    }\n",
              "\n",
              "    .colab-df-convert {\n",
              "      background-color: #E8F0FE;\n",
              "      border: none;\n",
              "      border-radius: 50%;\n",
              "      cursor: pointer;\n",
              "      display: none;\n",
              "      fill: #1967D2;\n",
              "      height: 32px;\n",
              "      padding: 0 0 0 0;\n",
              "      width: 32px;\n",
              "    }\n",
              "\n",
              "    .colab-df-convert:hover {\n",
              "      background-color: #E2EBFA;\n",
              "      box-shadow: 0px 1px 2px rgba(60, 64, 67, 0.3), 0px 1px 3px 1px rgba(60, 64, 67, 0.15);\n",
              "      fill: #174EA6;\n",
              "    }\n",
              "\n",
              "    [theme=dark] .colab-df-convert {\n",
              "      background-color: #3B4455;\n",
              "      fill: #D2E3FC;\n",
              "    }\n",
              "\n",
              "    [theme=dark] .colab-df-convert:hover {\n",
              "      background-color: #434B5C;\n",
              "      box-shadow: 0px 1px 3px 1px rgba(0, 0, 0, 0.15);\n",
              "      filter: drop-shadow(0px 1px 2px rgba(0, 0, 0, 0.3));\n",
              "      fill: #FFFFFF;\n",
              "    }\n",
              "  </style>\n",
              "\n",
              "      <script>\n",
              "        const buttonEl =\n",
              "          document.querySelector('#df-81bba5a1-18ee-4f56-a9b5-934d108beaba button.colab-df-convert');\n",
              "        buttonEl.style.display =\n",
              "          google.colab.kernel.accessAllowed ? 'block' : 'none';\n",
              "\n",
              "        async function convertToInteractive(key) {\n",
              "          const element = document.querySelector('#df-81bba5a1-18ee-4f56-a9b5-934d108beaba');\n",
              "          const dataTable =\n",
              "            await google.colab.kernel.invokeFunction('convertToInteractive',\n",
              "                                                     [key], {});\n",
              "          if (!dataTable) return;\n",
              "\n",
              "          const docLinkHtml = 'Like what you see? Visit the ' +\n",
              "            '<a target=\"_blank\" href=https://colab.research.google.com/notebooks/data_table.ipynb>data table notebook</a>'\n",
              "            + ' to learn more about interactive tables.';\n",
              "          element.innerHTML = '';\n",
              "          dataTable['output_type'] = 'display_data';\n",
              "          await google.colab.output.renderOutput(dataTable, element);\n",
              "          const docLink = document.createElement('div');\n",
              "          docLink.innerHTML = docLinkHtml;\n",
              "          element.appendChild(docLink);\n",
              "        }\n",
              "      </script>\n",
              "    </div>\n",
              "  </div>\n",
              "  "
            ],
            "text/plain": [
              "     Age  Diabetes  BloodPressureProblems  AnyTransplants  AnyChronicDiseases  \\\n",
              "360   35         0                      1               0                   0   \n",
              "448   19         1                      0               0                   0   \n",
              "497   49         0                      0               0                   0   \n",
              "201   32         0                      1               0                   0   \n",
              "870   45         1                      1               0                   0   \n",
              "\n",
              "     Height  Weight  KnownAllergies  HistoryOfCancerInFamily  \\\n",
              "360     162      78               0                        0   \n",
              "448     183      70               1                        1   \n",
              "497     185      81               0                        0   \n",
              "201     176      93               0                        0   \n",
              "870     164      68               0                        0   \n",
              "\n",
              "     NumberOfMajorSurgeries  \n",
              "360                       0  \n",
              "448                       1  \n",
              "497                       2  \n",
              "201                       0  \n",
              "870                       1  "
            ]
          },
          "execution_count": 27,
          "metadata": {},
          "output_type": "execute_result"
        }
      ],
      "source": [
        "# melihat X_train\n",
        "\n",
        "X_train.head()"
      ]
    },
    {
      "cell_type": "markdown",
      "metadata": {
        "id": "Bj5cVBiUeqvD"
      },
      "source": [
        "### a. Memeriksa Persebaran dan Outliers dari X_train Numerik"
      ]
    },
    {
      "cell_type": "code",
      "execution_count": null,
      "metadata": {
        "id": "ZqjXKbtWe9-U"
      },
      "outputs": [],
      "source": [
        "# Fungsi membuat histogram dan boxplot\n",
        "\n",
        "def diagnostic_plots(df_train, variable):\n",
        "    # Define figure size\n",
        "    plt.figure(figsize=(16, 4))\n",
        "\n",
        "    # Histogram\n",
        "    plt.subplot(1, 2, 1)\n",
        "    sns.histplot(df_train[variable], bins=30)\n",
        "    plt.title('Histogram')\n",
        "\n",
        "    # Boxplot\n",
        "    plt.subplot(1, 2, 2)\n",
        "    sns.boxplot(y=df_train[variable])\n",
        "    plt.title('Boxplot')\n",
        "\n",
        "    plt.show()\n",
        "    \n",
        "    print('skewness:', df_train[variable].skew())\n",
        "    if (df_train[variable].skew() >= -0.5 ) | (df_train[variable].skew() <= 0.5 ) :\n",
        "      print('the distribution is skewed')\n",
        "    else:\n",
        "      print('the distribution is normal')"
      ]
    },
    {
      "cell_type": "code",
      "execution_count": null,
      "metadata": {
        "colab": {
          "base_uri": "https://localhost:8080/",
          "height": 955
        },
        "id": "qWMvVsZcY6jp",
        "outputId": "d54e4067-7350-444d-eb6f-eb80de5bddc6"
      },
      "outputs": [
        {
          "data": {
            "image/png": "[encoded data removed]",
            "text/plain": [
              "<Figure size 1152x288 with 2 Axes>"
            ]
          },
          "metadata": {
            "needs_background": "light"
          },
          "output_type": "display_data"
        },
        {
          "name": "stdout",
          "output_type": "stream",
          "text": [
            "skewness: 0.0527180160631325\n",
            "the distribution is skewed\n"
          ]
        },
        {
          "data": {
            "image/png": "[encoded data removed]",
            "text/plain": [
              "<Figure size 1152x288 with 2 Axes>"
            ]
          },
          "metadata": {
            "needs_background": "light"
          },
          "output_type": "display_data"
        },
        {
          "name": "stdout",
          "output_type": "stream",
          "text": [
            "skewness: 0.759215894658596\n",
            "the distribution is skewed\n"
          ]
        },
        {
          "data": {
            "image/png": "[encoded data removed]",
            "text/plain": [
              "<Figure size 1152x288 with 2 Axes>"
            ]
          },
          "metadata": {
            "needs_background": "light"
          },
          "output_type": "display_data"
        },
        {
          "name": "stdout",
          "output_type": "stream",
          "text": [
            "skewness: 0.8308944595236998\n",
            "the distribution is skewed\n"
          ]
        }
      ],
      "source": [
        "# memeriksa outlier pada semua kolom\n",
        "\n",
        "diagnostic_plots(X_train, 'Age')\n",
        "diagnostic_plots(X_train, 'Weight')\n",
        "diagnostic_plots(X_train, 'NumberOfMajorSurgeries')"
      ]
    },
    {
      "cell_type": "markdown",
      "metadata": {
        "id": "RIXqXJxxay7v"
      },
      "source": [
        "### b. Outlier detection for skewed variables"
      ]
    },
    {
      "cell_type": "code",
      "execution_count": null,
      "metadata": {
        "id": "aIsjJT1oH2cA"
      },
      "outputs": [],
      "source": [
        "# fungsi untuk skew distribution\n",
        "def find_skewed_boundaries(df_train, variable, distance):\n",
        "    IQR = df_train[variable].quantile(0.75) - df_train[variable].quantile(0.25)\n",
        "\n",
        "    lower_boundary = df_train[variable].quantile(0.25) - (IQR * distance)\n",
        "    upper_boundary = df_train[variable].quantile(0.75) + (IQR * distance)\n",
        "\n",
        "    return upper_boundary, lower_boundary"
      ]
    },
    {
      "cell_type": "code",
      "execution_count": null,
      "metadata": {
        "id": "kAnDlZ9FH4Z9"
      },
      "outputs": [],
      "source": [
        "# Fungsi untuk memfilter outlier (mencari outlier)\n",
        "def find_outliers(df_train,variable,upper,lower):\n",
        "  return df_train[\n",
        "            (df_train[variable] > upper) |\n",
        "            (df_train[variable] < lower)\n",
        "            ]"
      ]
    },
    {
      "cell_type": "code",
      "execution_count": null,
      "metadata": {
        "colab": {
          "base_uri": "https://localhost:8080/"
        },
        "id": "677RJ1SybZHy",
        "outputId": "259be1cc-a08a-460d-a97e-2128c21d4a0e"
      },
      "outputs": [
        {
          "name": "stdout",
          "output_type": "stream",
          "text": [
            "upper1 and lower1 =  114.5  and  38.5\n"
          ]
        }
      ],
      "source": [
        "# Melihat batas atas dan bawah dari outliers\n",
        "\n",
        "upper1, lower1 = find_skewed_boundaries(X_train, 'Weight', 1.5)\n",
        "print('upper1 and lower1 = ', upper1,' and ', lower1)"
      ]
    },
    {
      "cell_type": "markdown",
      "metadata": {
        "id": "m-Ed_dQncgum"
      },
      "source": [
        "Data Scientist memutuskan untuk melakukan capping terhadap outliers."
      ]
    },
    {
      "cell_type": "markdown",
      "metadata": {
        "id": "oLSS22KTcUZP"
      },
      "source": [
        "### c. Handling Outliers"
      ]
    },
    {
      "cell_type": "code",
      "execution_count": null,
      "metadata": {
        "id": "zXSJGmSIcoR9"
      },
      "outputs": [],
      "source": [
        "# capper\n",
        "\n",
        "windsoriser = Winsorizer(capping_method='iqr', # choose iqr for IQR rule boundaries or gaussian for mean and std\n",
        "                          tail='right', # cap left, right or both tails \n",
        "                          fold=1.5,\n",
        "                          variables=['Weight'])\n",
        "\n",
        "# capping\n",
        "\n",
        "windsoriser.fit(X_train)\n",
        "X_train_t = windsoriser.transform(X_train)"
      ]
    },
    {
      "cell_type": "markdown",
      "metadata": {
        "id": "mAOBcjo7a1oZ"
      },
      "source": [
        "## 4. Handling Missing Values"
      ]
    },
    {
      "cell_type": "markdown",
      "metadata": {
        "id": "wA64RJlzHWmJ"
      },
      "source": [
        "Berdasarkan EDA tidak terdapat missing values pada dataset."
      ]
    },
    {
      "cell_type": "code",
      "execution_count": null,
      "metadata": {
        "id": "6festNoXG6Vz"
      },
      "outputs": [],
      "source": [
        "# # metode pemeriksaan missval\n",
        "\n",
        "# # memeriksa missval pada X_train\n",
        "\n",
        "# X_train.isnull().sum()\n",
        "\n",
        "# # memeriksa missval pada y_train\n",
        "\n",
        "# y_train.isnull().sum()\n",
        "\n",
        "# # memeriksa missval pada X_test\n",
        "\n",
        "# X_test.isnull().sum()\n",
        "\n",
        "# # memeriksa missval pada y_test\n",
        "\n",
        "# y_test.isnull().sum()"
      ]
    },
    {
      "cell_type": "markdown",
      "metadata": {
        "id": "f_7IwC2RuVQg"
      },
      "source": [
        "## 5. Feature Selection"
      ]
    },
    {
      "cell_type": "markdown",
      "metadata": {
        "id": "7rJjTpjBcJI1"
      },
      "source": [
        "Berdasarkan EDA dan Field Knowledge, Datascientist memilih semua feature kecuali kolom 'Height'."
      ]
    },
    {
      "cell_type": "code",
      "execution_count": null,
      "metadata": {
        "colab": {
          "base_uri": "https://localhost:8080/",
          "height": 206
        },
        "id": "dWTFAVG3du6x",
        "outputId": "1db9aadc-caeb-4e2b-afa1-3506a43b6151"
      },
      "outputs": [
        {
          "data": {
            "text/html": [
              "\n",
              "  <div id=\"df-9f07f872-b3a0-4a08-85b6-e76ad924bba1\">\n",
              "    <div class=\"colab-df-container\">\n",
              "      <div>\n",
              "<style scoped>\n",
              "    .dataframe tbody tr th:only-of-type {\n",
              "        vertical-align: middle;\n",
              "    }\n",
              "\n",
              "    .dataframe tbody tr th {\n",
              "        vertical-align: top;\n",
              "    }\n",
              "\n",
              "    .dataframe thead th {\n",
              "        text-align: right;\n",
              "    }\n",
              "</style>\n",
              "<table border=\"1\" class=\"dataframe\">\n",
              "  <thead>\n",
              "    <tr style=\"text-align: right;\">\n",
              "      <th></th>\n",
              "      <th>Age</th>\n",
              "      <th>Diabetes</th>\n",
              "      <th>BloodPressureProblems</th>\n",
              "      <th>AnyTransplants</th>\n",
              "      <th>AnyChronicDiseases</th>\n",
              "      <th>Weight</th>\n",
              "      <th>KnownAllergies</th>\n",
              "      <th>HistoryOfCancerInFamily</th>\n",
              "      <th>NumberOfMajorSurgeries</th>\n",
              "    </tr>\n",
              "  </thead>\n",
              "  <tbody>\n",
              "    <tr>\n",
              "      <th>360</th>\n",
              "      <td>35</td>\n",
              "      <td>0</td>\n",
              "      <td>1</td>\n",
              "      <td>0</td>\n",
              "      <td>0</td>\n",
              "      <td>78</td>\n",
              "      <td>0</td>\n",
              "      <td>0</td>\n",
              "      <td>0</td>\n",
              "    </tr>\n",
              "    <tr>\n",
              "      <th>448</th>\n",
              "      <td>19</td>\n",
              "      <td>1</td>\n",
              "      <td>0</td>\n",
              "      <td>0</td>\n",
              "      <td>0</td>\n",
              "      <td>70</td>\n",
              "      <td>1</td>\n",
              "      <td>1</td>\n",
              "      <td>1</td>\n",
              "    </tr>\n",
              "    <tr>\n",
              "      <th>497</th>\n",
              "      <td>49</td>\n",
              "      <td>0</td>\n",
              "      <td>0</td>\n",
              "      <td>0</td>\n",
              "      <td>0</td>\n",
              "      <td>81</td>\n",
              "      <td>0</td>\n",
              "      <td>0</td>\n",
              "      <td>2</td>\n",
              "    </tr>\n",
              "    <tr>\n",
              "      <th>201</th>\n",
              "      <td>32</td>\n",
              "      <td>0</td>\n",
              "      <td>1</td>\n",
              "      <td>0</td>\n",
              "      <td>0</td>\n",
              "      <td>93</td>\n",
              "      <td>0</td>\n",
              "      <td>0</td>\n",
              "      <td>0</td>\n",
              "    </tr>\n",
              "    <tr>\n",
              "      <th>870</th>\n",
              "      <td>45</td>\n",
              "      <td>1</td>\n",
              "      <td>1</td>\n",
              "      <td>0</td>\n",
              "      <td>0</td>\n",
              "      <td>68</td>\n",
              "      <td>0</td>\n",
              "      <td>0</td>\n",
              "      <td>1</td>\n",
              "    </tr>\n",
              "  </tbody>\n",
              "</table>\n",
              "</div>\n",
              "      <button class=\"colab-df-convert\" onclick=\"convertToInteractive('df-9f07f872-b3a0-4a08-85b6-e76ad924bba1')\"\n",
              "              title=\"Convert this dataframe to an interactive table.\"\n",
              "              style=\"display:none;\">\n",
              "        \n",
              "  <svg xmlns=\"http://www.w3.org/2000/svg\" height=\"24px\"viewBox=\"0 0 24 24\"\n",
              "       width=\"24px\">\n",
              "    <path d=\"M0 0h24v24H0V0z\" fill=\"none\"/>\n",
              "    <path d=\"M18.56 5.44l.94 2.06.94-2.06 2.06-.94-2.06-.94-.94-2.06-.94 2.06-2.06.94zm-11 1L8.5 8.5l.94-2.06 2.06-.94-2.06-.94L8.5 2.5l-.94 2.06-2.06.94zm10 10l.94 2.06.94-2.06 2.06-.94-2.06-.94-.94-2.06-.94 2.06-2.06.94z\"/><path d=\"M17.41 7.96l-1.37-1.37c-.4-.4-.92-.59-1.43-.59-.52 0-1.04.2-1.43.59L10.3 9.45l-7.72 7.72c-.78.78-.78 2.05 0 2.83L4 21.41c.39.39.9.59 1.41.59.51 0 1.02-.2 1.41-.59l7.78-7.78 2.81-2.81c.8-.78.8-2.07 0-2.86zM5.41 20L4 18.59l7.72-7.72 1.47 1.35L5.41 20z\"/>\n",
              "  </svg>\n",
              "      </button>\n",
              "      \n",
              "  <style>\n",
              "    .colab-df-container {\n",
              "      display:flex;\n",
              "      flex-wrap:wrap;\n",
              "      gap: 12px;\n",
              "    }\n",
              "\n",
              "    .colab-df-convert {\n",
              "      background-color: #E8F0FE;\n",
              "      border: none;\n",
              "      border-radius: 50%;\n",
              "      cursor: pointer;\n",
              "      display: none;\n",
              "      fill: #1967D2;\n",
              "      height: 32px;\n",
              "      padding: 0 0 0 0;\n",
              "      width: 32px;\n",
              "    }\n",
              "\n",
              "    .colab-df-convert:hover {\n",
              "      background-color: #E2EBFA;\n",
              "      box-shadow: 0px 1px 2px rgba(60, 64, 67, 0.3), 0px 1px 3px 1px rgba(60, 64, 67, 0.15);\n",
              "      fill: #174EA6;\n",
              "    }\n",
              "\n",
              "    [theme=dark] .colab-df-convert {\n",
              "      background-color: #3B4455;\n",
              "      fill: #D2E3FC;\n",
              "    }\n",
              "\n",
              "    [theme=dark] .colab-df-convert:hover {\n",
              "      background-color: #434B5C;\n",
              "      box-shadow: 0px 1px 3px 1px rgba(0, 0, 0, 0.15);\n",
              "      filter: drop-shadow(0px 1px 2px rgba(0, 0, 0, 0.3));\n",
              "      fill: #FFFFFF;\n",
              "    }\n",
              "  </style>\n",
              "\n",
              "      <script>\n",
              "        const buttonEl =\n",
              "          document.querySelector('#df-9f07f872-b3a0-4a08-85b6-e76ad924bba1 button.colab-df-convert');\n",
              "        buttonEl.style.display =\n",
              "          google.colab.kernel.accessAllowed ? 'block' : 'none';\n",
              "\n",
              "        async function convertToInteractive(key) {\n",
              "          const element = document.querySelector('#df-9f07f872-b3a0-4a08-85b6-e76ad924bba1');\n",
              "          const dataTable =\n",
              "            await google.colab.kernel.invokeFunction('convertToInteractive',\n",
              "                                                     [key], {});\n",
              "          if (!dataTable) return;\n",
              "\n",
              "          const docLinkHtml = 'Like what you see? Visit the ' +\n",
              "            '<a target=\"_blank\" href=https://colab.research.google.com/notebooks/data_table.ipynb>data table notebook</a>'\n",
              "            + ' to learn more about interactive tables.';\n",
              "          element.innerHTML = '';\n",
              "          dataTable['output_type'] = 'display_data';\n",
              "          await google.colab.output.renderOutput(dataTable, element);\n",
              "          const docLink = document.createElement('div');\n",
              "          docLink.innerHTML = docLinkHtml;\n",
              "          element.appendChild(docLink);\n",
              "        }\n",
              "      </script>\n",
              "    </div>\n",
              "  </div>\n",
              "  "
            ],
            "text/plain": [
              "     Age  Diabetes  BloodPressureProblems  AnyTransplants  AnyChronicDiseases  \\\n",
              "360   35         0                      1               0                   0   \n",
              "448   19         1                      0               0                   0   \n",
              "497   49         0                      0               0                   0   \n",
              "201   32         0                      1               0                   0   \n",
              "870   45         1                      1               0                   0   \n",
              "\n",
              "     Weight  KnownAllergies  HistoryOfCancerInFamily  NumberOfMajorSurgeries  \n",
              "360      78               0                        0                       0  \n",
              "448      70               1                        1                       1  \n",
              "497      81               0                        0                       2  \n",
              "201      93               0                        0                       0  \n",
              "870      68               0                        0                       1  "
            ]
          },
          "execution_count": 34,
          "metadata": {},
          "output_type": "execute_result"
        }
      ],
      "source": [
        "# menghapus kolom Height yang tidak disertakan sebagai feature.\n",
        "\n",
        "X_train.drop('Height', axis = 1, inplace=True)\n",
        "X_test.drop('Height', axis = 1, inplace=True)\n",
        "\n",
        "# melihat feature yang dipilih\n",
        "\n",
        "X_train.head()"
      ]
    },
    {
      "cell_type": "markdown",
      "metadata": {
        "id": "c3NhjR-RPVrz"
      },
      "source": [
        "Statement:\n",
        "\n",
        "- Berdasarkan EDA dan Field Knowledge, Datascientist memilih feature usia, diabetes, tekanan darah tinggi, pernah melakukan transplantasi organ, penyakit kornis, berat badan, alergi, riwayat kanker pada keluarga, dan jumlah operasi besar."
      ]
    },
    {
      "cell_type": "markdown",
      "metadata": {
        "id": "sgxOo766uGYb"
      },
      "source": [
        "## 6. Split Between Numerical Columns and Categorical Columns"
      ]
    },
    {
      "cell_type": "code",
      "execution_count": null,
      "metadata": {
        "colab": {
          "base_uri": "https://localhost:8080/"
        },
        "id": "ifrtmjOydNQp",
        "outputId": "6c9aa2bc-7af0-4bbd-ebfc-d17410e5d983"
      },
      "outputs": [
        {
          "data": {
            "text/plain": [
              "Index(['Age', 'Diabetes', 'BloodPressureProblems', 'AnyTransplants',\n",
              "       'AnyChronicDiseases', 'Weight', 'KnownAllergies',\n",
              "       'HistoryOfCancerInFamily', 'NumberOfMajorSurgeries'],\n",
              "      dtype='object')"
            ]
          },
          "execution_count": 35,
          "metadata": {},
          "output_type": "execute_result"
        }
      ],
      "source": [
        "# display columns name\n",
        "\n",
        "X_train.columns"
      ]
    },
    {
      "cell_type": "code",
      "execution_count": null,
      "metadata": {
        "id": "YCwRYiIycUFD"
      },
      "outputs": [],
      "source": [
        "# memilih num_columns dan cat_columns\n",
        "\n",
        "num_cols_norm =['Age']\n",
        "num_cols_skew = ['Weight']\n",
        "cat_cols_encoded = ['Diabetes', 'BloodPressureProblems', 'AnyTransplants', 'AnyChronicDiseases', 'KnownAllergies', 'HistoryOfCancerInFamily',  'NumberOfMajorSurgeries']"
      ]
    },
    {
      "cell_type": "code",
      "execution_count": null,
      "metadata": {
        "id": "7ndF9YgZS0Zi"
      },
      "outputs": [],
      "source": [
        "# # cara memisahkan numerical columns dan categorical columns (string) dengan select_dtypes()\n",
        "\n",
        "# num_cols = X_train.select_dtypes(include=np.number).columns.tolist()\n",
        "# cat_cols = X_train.select_dtypes(include=['object']).columns.tolist()\n",
        "\n",
        "# print('Numerical Columns    :', num_cols)\n",
        "# print('Categorical Columns  :', cat_cols)\n",
        "\n",
        "# # Split Train-Set and Test-Set (without pipeline) based on Column Types \n",
        "\n",
        "# X_train_numnorm = X_train[num_cols_norm]\n",
        "# X_train_numskew = X_train[num_cols_skew]\n",
        "# X_train_cat = X_train[cat_cols]\n",
        "\n",
        "# X_test_numnorm = X_test[num_cols_norm]\n",
        "# X_test_numskew = X_test[num_cols_skew]\n",
        "# X_test_cat = X_test[cat_cols]"
      ]
    },
    {
      "cell_type": "markdown",
      "metadata": {
        "id": "6NzV5sGauGI5"
      },
      "source": [
        "## 7. Feature Scaling dan Encoding"
      ]
    },
    {
      "cell_type": "markdown",
      "metadata": {
        "id": "p_771eQ9JCkE"
      },
      "source": [
        "Data scientist menggunakan StandardScaling untuk menscaling feature numerik yang terdistribusi normal dan menggunakan MinMaxScaling untuk menscaling feature numerik yang terdistribusi tidak normal. \n",
        "\n",
        "Data scientist tidak melakukan OrdinalEncoding, OneHotEncoding, ataupun LabelEncoding terhadap feature categorical karena feature categorical sudah berbentuk angka atau skalar."
      ]
    },
    {
      "cell_type": "code",
      "execution_count": null,
      "metadata": {
        "id": "0dG3HYAFz5Yy"
      },
      "outputs": [],
      "source": [
        "# Scaling menggunakan Pipeline, ColumnTransformer, StandardScaler dan MinMaxScaler\n",
        "\n",
        "## Numeric Features Scaling\n",
        "num_skew = Pipeline([('scaling', MinMaxScaler())])\n",
        "num_norm = Pipeline([('scaling', StandardScaler())])\n",
        "\n",
        "## Preprocessing Pipeline\n",
        "preprocess = ColumnTransformer([\n",
        "    ('norm_scale', num_norm, num_cols_norm),\n",
        "    ('skew_scale', num_skew, num_cols_skew)])\n",
        "\n",
        "## masih oneng??? num_norm, num_cols_norm, num_skew, num_cols_skew\n",
        "## alasan mengapa tidak diconcat lagi"
      ]
    },
    {
      "cell_type": "code",
      "execution_count": null,
      "metadata": {
        "id": "WC1PUQjkSeOD"
      },
      "outputs": [],
      "source": [
        "# Scaling dan Encode tanpa pipeline \n",
        "\n",
        "# # StandardScaler\n",
        "# scaler = StandardScaler()         \n",
        "\n",
        "# X_train_num_scaled = scaler.fit_transform(X_train_numnorm)      # fit_transform untuk train dan fit untuk test\n",
        "# X_test_num_scaled = scaler.transform(X_test_numnorm)\n",
        "\n",
        "# # # MinMaxScaler\n",
        "# scaler = MinMaxScaler()         \n",
        "\n",
        "# X_train_numskew_scaled = scaler2.fit_transform(X_train_numskew)      # fit_transform untuk train dan fit untuk test\n",
        "# X_test_numskew_scaled = scaler2.transform(X_test_numskew)\n",
        "\n",
        "# # # OrdinalEncoder\n",
        "# encoder = OrdinalEncoder(categories=[['list of categories feat-1'], ['list of categories feat-2']])         \n",
        "\n",
        "# X_train_cator_scaled = encoder.fit(X_train_cat)\n",
        "# X_train_cator_scaled = encoder.fit_transform(X_train_cat)      # fit_transform untuk train dan fit untuk test\n",
        "# X_test_cator_scaled = encoder.transform(X_test_cat)\n",
        "\n",
        "# # # OneHotEncoder\n",
        "\n",
        "# # # LabelEncoder"
      ]
    },
    {
      "cell_type": "markdown",
      "metadata": {
        "id": "LXdtAEoSIniw"
      },
      "source": [
        "Statement:\n",
        "\n",
        "- Data scientist menggunakan StandardScaling untuk menscaling feature numerik yang terdistribusi normal dan menggunakan MinMaxScaling untuk menscaling feature numerik yang terdistribusi tidak normal. "
      ]
    },
    {
      "cell_type": "markdown",
      "metadata": {
        "id": "Y9YIDjtwtHG0"
      },
      "source": [
        "# VI. Model Definition"
      ]
    },
    {
      "cell_type": "code",
      "execution_count": null,
      "metadata": {
        "id": "enzRC-9rnaxn"
      },
      "outputs": [],
      "source": [
        "# Linear Regression Pipeline\n",
        "lin_pipe = Pipeline([('preprocessing', preprocess), ('lin', LinearRegression())])\n",
        "\n",
        "# Support Vector Machine Pipeline\n",
        "las_pipe = Pipeline([('preprocessing', preprocess), ('las', Lasso(alpha=0.01))])            # dasar pemilihan alpha?\n",
        "\n",
        "# Random Forest Pipeline\n",
        "rdg_pipe = Pipeline([('preprocessing', preprocess), ('rdg', Ridge())])\n",
        "\n",
        "# Bagging Pipeline\n",
        "ada_pipe = Pipeline([('preprocessing', preprocess), ('bag', AdaBoostRegressor())])\n",
        "\n",
        "# Extreme Gradient Boosting Pipeline\n",
        "xgb_pipe = Pipeline([('preprocessing', preprocess), ('xgb', XGBRegressor())])"
      ]
    },
    {
      "cell_type": "markdown",
      "metadata": {
        "id": "gFNgQIkEtLpU"
      },
      "source": [
        "# VII. Model Training"
      ]
    },
    {
      "cell_type": "code",
      "execution_count": null,
      "metadata": {
        "colab": {
          "base_uri": "https://localhost:8080/"
        },
        "id": "9EjJu52R0_rK",
        "outputId": "d3b85835-d3a4-4a52-9c9f-febda8369ad0"
      },
      "outputs": [
        {
          "name": "stdout",
          "output_type": "stream",
          "text": [
            "CPU times: user 16.4 ms, sys: 1.04 ms, total: 17.5 ms\n",
            "Wall time: 25.5 ms\n",
            "CPU times: user 12 ms, sys: 51 µs, total: 12 ms\n",
            "Wall time: 12.4 ms\n",
            "CPU times: user 16.8 ms, sys: 2.1 ms, total: 18.9 ms\n",
            "Wall time: 19.4 ms\n",
            "CPU times: user 31.3 ms, sys: 26 µs, total: 31.3 ms\n",
            "Wall time: 31.8 ms\n",
            "[10:24:35] WARNING: /workspace/src/objective/regression_obj.cu:152: reg:linear is now deprecated in favor of reg:squarederror.\n",
            "CPU times: user 77.2 ms, sys: 22.2 ms, total: 99.4 ms\n",
            "Wall time: 219 ms\n"
          ]
        },
        {
          "data": {
            "text/plain": [
              "Pipeline(steps=[('preprocessing',\n",
              "                 ColumnTransformer(transformers=[('norm_scale',\n",
              "                                                  Pipeline(steps=[('scaling',\n",
              "                                                                   StandardScaler())]),\n",
              "                                                  ['Age']),\n",
              "                                                 ('skew_scale',\n",
              "                                                  Pipeline(steps=[('scaling',\n",
              "                                                                   MinMaxScaler())]),\n",
              "                                                  ['Weight'])])),\n",
              "                ('xgb', XGBRegressor())])"
            ]
          },
          "execution_count": 39,
          "metadata": {},
          "output_type": "execute_result"
        }
      ],
      "source": [
        "# Training model\n",
        "\n",
        "%time lin_pipe.fit(X_train, y_train)\n",
        "%time las_pipe.fit(X_train, y_train)\n",
        "%time rdg_pipe.fit(X_train, y_train)\n",
        "%time ada_pipe.fit(X_train, y_train)\n",
        "%time xgb_pipe.fit(X_train, y_train)"
      ]
    },
    {
      "cell_type": "markdown",
      "metadata": {
        "id": "II_ffe5GtP63"
      },
      "source": [
        "# VIII. Model Evaluation"
      ]
    },
    {
      "cell_type": "markdown",
      "metadata": {
        "id": "ZCBSrsUnV2dd"
      },
      "source": [
        "Statement:\n",
        "\n",
        "1. Nyatakan apakah model overfit/underfit/good-fit\n",
        "\n",
        "2. Narasikan dalam bahasa business\n",
        "\n",
        "3. Temukan hal yang unik"
      ]
    },
    {
      "cell_type": "markdown",
      "metadata": {
        "id": "bllNh4L61Ur6"
      },
      "source": [
        "## 1. Cross-Val"
      ]
    },
    {
      "cell_type": "markdown",
      "metadata": {
        "id": "Ton8vhZSk8Rq"
      },
      "source": [
        "Melakukan model evaluation menggunakan cross validation score untuk mencari model terbaik."
      ]
    },
    {
      "cell_type": "code",
      "execution_count": null,
      "metadata": {
        "colab": {
          "base_uri": "https://localhost:8080/"
        },
        "id": "J-FqNsEPfbqr",
        "outputId": "00852bd2-061b-4c1f-8e4a-3665ec61d21f"
      },
      "outputs": [
        {
          "name": "stdout",
          "output_type": "stream",
          "text": [
            "[10:24:36] WARNING: /workspace/src/objective/regression_obj.cu:152: reg:linear is now deprecated in favor of reg:squarederror.\n",
            "[10:24:36] WARNING: /workspace/src/objective/regression_obj.cu:152: reg:linear is now deprecated in favor of reg:squarederror.\n",
            "[10:24:36] WARNING: /workspace/src/objective/regression_obj.cu:152: reg:linear is now deprecated in favor of reg:squarederror.\n",
            "[10:24:36] WARNING: /workspace/src/objective/regression_obj.cu:152: reg:linear is now deprecated in favor of reg:squarederror.\n",
            "[10:24:36] WARNING: /workspace/src/objective/regression_obj.cu:152: reg:linear is now deprecated in favor of reg:squarederror.\n"
          ]
        }
      ],
      "source": [
        "scores_log = cross_val_score(lin_pipe, X_train, y_train, cv=5, scoring='r2')\n",
        "scores_xgb = cross_val_score(xgb_pipe, X_train, y_train, cv=5, scoring='r2')\n",
        "scores_rdg = cross_val_score(rdg_pipe, X_train, y_train, cv=5, scoring='r2')\n",
        "scores_ada = cross_val_score(ada_pipe, X_train, y_train, cv=5, scoring='r2')\n",
        "scores_las = cross_val_score(las_pipe, X_train, y_train, cv=5, scoring='r2')"
      ]
    },
    {
      "cell_type": "code",
      "execution_count": null,
      "metadata": {
        "colab": {
          "base_uri": "https://localhost:8080/"
        },
        "id": "iWTwA-h61cVX",
        "outputId": "44a7aff9-8354-4bb8-c841-6d1a76ad77c1"
      },
      "outputs": [
        {
          "name": "stdout",
          "output_type": "stream",
          "text": [
            "----Linear Regression----\n",
            "Linear Mean : 0.5275627557136795\n",
            "Linear Std : 0.09322517296601388\n",
            "\n",
            "----Ridge Regression----\n",
            "Rigde Mean : 0.5276840541045709\n",
            "Ridge Std : 0.09424522040322476\n",
            "\n",
            "----Lasso Regression Tree----\n",
            "Lasso Mean : 0.5275628128412893\n",
            "Lasso Std : 0.09322635313366642\n",
            "\n",
            "----AdaBoost----\n",
            "AdaBoost Mean : 0.5147195560488791\n",
            "AdaBoost Std : 0.07502214749309156\n",
            "\n",
            "----Extreme Gradient Boosting----\n",
            "XGB Mean : 0.6006832219305729\n",
            "XGB Std : 0.11295291590274792\n"
          ]
        }
      ],
      "source": [
        "print('----Linear Regression----')\n",
        "print(f'Linear Mean : {scores_log.mean()}')\n",
        "print(f'Linear Std : {scores_log.std()}')\n",
        "print('')\n",
        "print('----Ridge Regression----')\n",
        "print(f'Rigde Mean : {scores_rdg.mean()}')\n",
        "print(f'Ridge Std : {scores_rdg.std()}')\n",
        "print('')\n",
        "print('----Lasso Regression Tree----')\n",
        "print(f'Lasso Mean : {scores_las.mean()}')\n",
        "print(f'Lasso Std : {scores_las.std()}')\n",
        "print('')\n",
        "print('----AdaBoost----')\n",
        "print(f'AdaBoost Mean : {scores_ada.mean()}')\n",
        "print(f'AdaBoost Std : {scores_ada.std()}')\n",
        "print('')\n",
        "print('----Extreme Gradient Boosting----')\n",
        "print(f'XGB Mean : {scores_xgb.mean()}')\n",
        "print(f'XGB Std : {scores_xgb.std()}')"
      ]
    },
    {
      "cell_type": "markdown",
      "metadata": {
        "id": "3AQR3mnl2Htf"
      },
      "source": [
        "Dari hasil cross validation score di atas kita bisa melihat bahwa model XGB mendapatkan rata-rata R2 score tertinggi yaitu 0.60 dengan standar deviasi yang sangat rendah, namun akan kita pastikan lagi apakah overfit atau tidak pada train dan test set."
      ]
    },
    {
      "cell_type": "code",
      "execution_count": null,
      "metadata": {
        "colab": {
          "base_uri": "https://localhost:8080/"
        },
        "id": "NguZzFIi2He5",
        "outputId": "c254c86d-278e-4fdc-f4e3-4554fccc7f9d"
      },
      "outputs": [
        {
          "name": "stdout",
          "output_type": "stream",
          "text": [
            "Extrene Gradient Boosting Model\n",
            "\n",
            "Train-Set Mean Absolute Error (MAE):  2021.1653186224903\n",
            "Train-Set R2 Score: 0.7232843916839988\n",
            "\n",
            "Test-Set Mean Absolute Error (MAE):  2783.7366653914305\n",
            "Test-Set R2 Score: 0.5507679899018454\n"
          ]
        }
      ],
      "source": [
        "# Model Evaluation Using MAE and R2\n",
        "print('Extrene Gradient Boosting Model')\n",
        "print('')\n",
        "print('Train-Set Mean Absolute Error (MAE): ', mean_absolute_error(y_train, xgb_pipe.predict(X_train)))\n",
        "print(f'Train-Set R2 Score: {r2_score(y_train, xgb_pipe.predict(X_train))}')\n",
        "print('')\n",
        "print('Test-Set Mean Absolute Error (MAE): ', mean_absolute_error(y_test, xgb_pipe.predict(X_test)))\n",
        "print(f'Test-Set R2 Score: {r2_score(y_test, xgb_pipe.predict(X_test))}')"
      ]
    },
    {
      "cell_type": "markdown",
      "metadata": {
        "id": "mmyEMELL2dvO"
      },
      "source": [
        "Baseline model XGB kita sudah masih underfit dan membutuhkan tunning lebih lanjut."
      ]
    },
    {
      "cell_type": "markdown",
      "metadata": {
        "id": "ZkBnMMCL23hs"
      },
      "source": [
        "## 2. Hyperparameter Tuning"
      ]
    },
    {
      "cell_type": "code",
      "execution_count": null,
      "metadata": {
        "id": "5IHuE43v27OF"
      },
      "outputs": [],
      "source": [
        "param_xgb = {'xgb__max_depth': [1, 5, 10],\n",
        "             'xgb__learning_rate' : [0.1, 0.2]}"
      ]
    },
    {
      "cell_type": "code",
      "execution_count": null,
      "metadata": {
        "id": "K6aha-NQ29NB"
      },
      "outputs": [],
      "source": [
        "grid_xgb = GridSearchCV(xgb_pipe, param_grid=param_xgb, cv=5, n_jobs=-1, return_train_score=True)"
      ]
    },
    {
      "cell_type": "code",
      "execution_count": null,
      "metadata": {
        "colab": {
          "base_uri": "https://localhost:8080/"
        },
        "id": "Wm3aYkMx2_D0",
        "outputId": "2efd676d-ac52-447f-b927-11b4fcef2903"
      },
      "outputs": [
        {
          "name": "stdout",
          "output_type": "stream",
          "text": [
            "[10:24:41] WARNING: /workspace/src/objective/regression_obj.cu:152: reg:linear is now deprecated in favor of reg:squarederror.\n"
          ]
        },
        {
          "data": {
            "text/plain": [
              "GridSearchCV(cv=5,\n",
              "             estimator=Pipeline(steps=[('preprocessing',\n",
              "                                        ColumnTransformer(transformers=[('norm_scale',\n",
              "                                                                         Pipeline(steps=[('scaling',\n",
              "                                                                                          StandardScaler())]),\n",
              "                                                                         ['Age']),\n",
              "                                                                        ('skew_scale',\n",
              "                                                                         Pipeline(steps=[('scaling',\n",
              "                                                                                          MinMaxScaler())]),\n",
              "                                                                         ['Weight'])])),\n",
              "                                       ('xgb', XGBRegressor())]),\n",
              "             n_jobs=-1,\n",
              "             param_grid={'xgb__learning_rate': [0.1, 0.2],\n",
              "                         'xgb__max_depth': [1, 5, 10]},\n",
              "             return_train_score=True)"
            ]
          },
          "execution_count": 45,
          "metadata": {},
          "output_type": "execute_result"
        }
      ],
      "source": [
        "grid_xgb.fit(X_train, y_train)"
      ]
    },
    {
      "cell_type": "code",
      "execution_count": null,
      "metadata": {
        "colab": {
          "base_uri": "https://localhost:8080/"
        },
        "id": "U_gjfQq_3A3v",
        "outputId": "629e1946-e3c9-4cef-f078-d1338541438c"
      },
      "outputs": [
        {
          "data": {
            "text/plain": [
              "Pipeline(steps=[('preprocessing',\n",
              "                 ColumnTransformer(transformers=[('norm_scale',\n",
              "                                                  Pipeline(steps=[('scaling',\n",
              "                                                                   StandardScaler())]),\n",
              "                                                  ['Age']),\n",
              "                                                 ('skew_scale',\n",
              "                                                  Pipeline(steps=[('scaling',\n",
              "                                                                   MinMaxScaler())]),\n",
              "                                                  ['Weight'])])),\n",
              "                ('xgb', XGBRegressor(max_depth=1))])"
            ]
          },
          "execution_count": 46,
          "metadata": {},
          "output_type": "execute_result"
        }
      ],
      "source": [
        "grid_xgb.best_estimator_"
      ]
    },
    {
      "cell_type": "markdown",
      "metadata": {
        "id": "hyfabuqE3IIr"
      },
      "source": [
        "Ternyata model XGB menghasilkan score paling tinggi menggunakan parameter max_depth 1."
      ]
    },
    {
      "cell_type": "code",
      "execution_count": null,
      "metadata": {
        "colab": {
          "base_uri": "https://localhost:8080/"
        },
        "id": "tArp8pzy3FAF",
        "outputId": "4909ed36-183c-4338-b854-0902e0e99b65"
      },
      "outputs": [
        {
          "name": "stdout",
          "output_type": "stream",
          "text": [
            "Extrene Gradient Boosting Model\n",
            "\n",
            "Train-Set Mean Absolute Error (MAE):  2399.7925045033194\n",
            "Train-Set R2 Score: 0.6387356308946807\n",
            "\n",
            "Test-Set Mean Absolute Error (MAE):  2719.781989972616\n",
            "Test-Set R2 Score: 0.5804288386115033\n"
          ]
        }
      ],
      "source": [
        "# Model Evaluation Using MAE and R2\n",
        "print('Extrene Gradient Boosting Model')\n",
        "print('')\n",
        "print('Train-Set Mean Absolute Error (MAE): ', mean_absolute_error(y_train, grid_xgb.best_estimator_.predict(X_train)))\n",
        "print(f'Train-Set R2 Score: {r2_score(y_train, grid_xgb.best_estimator_.predict(X_train))}')\n",
        "print('')\n",
        "print('Test-Set Mean Absolute Error (MAE): ', mean_absolute_error(y_test, grid_xgb.best_estimator_.predict(X_test)))\n",
        "print(f'Test-Set R2 Score: {r2_score(y_test, grid_xgb.best_estimator_.predict(X_test))}')"
      ]
    },
    {
      "cell_type": "markdown",
      "metadata": {
        "id": "s5VKnC_0tUoT"
      },
      "source": [
        "# X. Model Inference"
      ]
    },
    {
      "cell_type": "code",
      "execution_count": null,
      "metadata": {
        "id": "JJRIP_attX2E"
      },
      "outputs": [],
      "source": [
        "# duplicate data_i\n",
        "\n",
        "data_i_copy = data_i.copy()\n",
        "\n",
        "# feature_selection\n",
        "\n",
        "data_i.drop(columns=['Height'], inplace = True)\n",
        "\n",
        "# handling outlier"
      ]
    },
    {
      "cell_type": "code",
      "execution_count": null,
      "metadata": {
        "id": "ibYAbwwM4fHU"
      },
      "outputs": [],
      "source": [
        "# melakukan predict pada inference set\n",
        "\n",
        "y_pred_i = grid_xgb.best_estimator_.predict(data_i)"
      ]
    },
    {
      "cell_type": "code",
      "execution_count": null,
      "metadata": {
        "id": "qNr8A82w4nax"
      },
      "outputs": [],
      "source": [
        "# Membuat hasil prediksi menjadi dataframe\n",
        "\n",
        "y_pred_inf_df = pd.DataFrame(y_pred_i, columns=['Price_Pred'])"
      ]
    },
    {
      "cell_type": "code",
      "execution_count": null,
      "metadata": {
        "colab": {
          "base_uri": "https://localhost:8080/",
          "height": 677
        },
        "id": "WZbqE_ed4sI4",
        "outputId": "0356ae89-4d0d-4f01-b87c-6f61d7b954eb"
      },
      "outputs": [
        {
          "data": {
            "text/html": [
              "\n",
              "  <div id=\"df-f9c4e619-2049-4c81-adcc-25855e8f597f\">\n",
              "    <div class=\"colab-df-container\">\n",
              "      <div>\n",
              "<style scoped>\n",
              "    .dataframe tbody tr th:only-of-type {\n",
              "        vertical-align: middle;\n",
              "    }\n",
              "\n",
              "    .dataframe tbody tr th {\n",
              "        vertical-align: top;\n",
              "    }\n",
              "\n",
              "    .dataframe thead th {\n",
              "        text-align: right;\n",
              "    }\n",
              "</style>\n",
              "<table border=\"1\" class=\"dataframe\">\n",
              "  <thead>\n",
              "    <tr style=\"text-align: right;\">\n",
              "      <th></th>\n",
              "      <th>PremiumPrice</th>\n",
              "      <th>Price_Pred</th>\n",
              "    </tr>\n",
              "  </thead>\n",
              "  <tbody>\n",
              "    <tr>\n",
              "      <th>0</th>\n",
              "      <td>15000</td>\n",
              "      <td>16053.005859</td>\n",
              "    </tr>\n",
              "    <tr>\n",
              "      <th>1</th>\n",
              "      <td>23000</td>\n",
              "      <td>27043.656250</td>\n",
              "    </tr>\n",
              "    <tr>\n",
              "      <th>2</th>\n",
              "      <td>28000</td>\n",
              "      <td>26852.941406</td>\n",
              "    </tr>\n",
              "    <tr>\n",
              "      <th>3</th>\n",
              "      <td>23000</td>\n",
              "      <td>23403.224609</td>\n",
              "    </tr>\n",
              "    <tr>\n",
              "      <th>4</th>\n",
              "      <td>30000</td>\n",
              "      <td>29064.988281</td>\n",
              "    </tr>\n",
              "    <tr>\n",
              "      <th>5</th>\n",
              "      <td>29000</td>\n",
              "      <td>28509.541016</td>\n",
              "    </tr>\n",
              "    <tr>\n",
              "      <th>6</th>\n",
              "      <td>39000</td>\n",
              "      <td>15664.710938</td>\n",
              "    </tr>\n",
              "    <tr>\n",
              "      <th>7</th>\n",
              "      <td>21000</td>\n",
              "      <td>23014.927734</td>\n",
              "    </tr>\n",
              "    <tr>\n",
              "      <th>8</th>\n",
              "      <td>23000</td>\n",
              "      <td>22538.552734</td>\n",
              "    </tr>\n",
              "    <tr>\n",
              "      <th>9</th>\n",
              "      <td>35000</td>\n",
              "      <td>30760.085938</td>\n",
              "    </tr>\n",
              "    <tr>\n",
              "      <th>10</th>\n",
              "      <td>28000</td>\n",
              "      <td>28288.613281</td>\n",
              "    </tr>\n",
              "    <tr>\n",
              "      <th>11</th>\n",
              "      <td>23000</td>\n",
              "      <td>27433.361328</td>\n",
              "    </tr>\n",
              "    <tr>\n",
              "      <th>12</th>\n",
              "      <td>35000</td>\n",
              "      <td>28457.173828</td>\n",
              "    </tr>\n",
              "    <tr>\n",
              "      <th>13</th>\n",
              "      <td>28000</td>\n",
              "      <td>29683.958984</td>\n",
              "    </tr>\n",
              "    <tr>\n",
              "      <th>14</th>\n",
              "      <td>23000</td>\n",
              "      <td>23754.488281</td>\n",
              "    </tr>\n",
              "    <tr>\n",
              "      <th>15</th>\n",
              "      <td>31000</td>\n",
              "      <td>28412.742188</td>\n",
              "    </tr>\n",
              "    <tr>\n",
              "      <th>16</th>\n",
              "      <td>19000</td>\n",
              "      <td>17546.916016</td>\n",
              "    </tr>\n",
              "    <tr>\n",
              "      <th>17</th>\n",
              "      <td>23000</td>\n",
              "      <td>27043.656250</td>\n",
              "    </tr>\n",
              "    <tr>\n",
              "      <th>18</th>\n",
              "      <td>24000</td>\n",
              "      <td>16053.005859</td>\n",
              "    </tr>\n",
              "    <tr>\n",
              "      <th>19</th>\n",
              "      <td>23000</td>\n",
              "      <td>26267.281250</td>\n",
              "    </tr>\n",
              "  </tbody>\n",
              "</table>\n",
              "</div>\n",
              "      <button class=\"colab-df-convert\" onclick=\"convertToInteractive('df-f9c4e619-2049-4c81-adcc-25855e8f597f')\"\n",
              "              title=\"Convert this dataframe to an interactive table.\"\n",
              "              style=\"display:none;\">\n",
              "        \n",
              "  <svg xmlns=\"http://www.w3.org/2000/svg\" height=\"24px\"viewBox=\"0 0 24 24\"\n",
              "       width=\"24px\">\n",
              "    <path d=\"M0 0h24v24H0V0z\" fill=\"none\"/>\n",
              "    <path d=\"M18.56 5.44l.94 2.06.94-2.06 2.06-.94-2.06-.94-.94-2.06-.94 2.06-2.06.94zm-11 1L8.5 8.5l.94-2.06 2.06-.94-2.06-.94L8.5 2.5l-.94 2.06-2.06.94zm10 10l.94 2.06.94-2.06 2.06-.94-2.06-.94-.94-2.06-.94 2.06-2.06.94z\"/><path d=\"M17.41 7.96l-1.37-1.37c-.4-.4-.92-.59-1.43-.59-.52 0-1.04.2-1.43.59L10.3 9.45l-7.72 7.72c-.78.78-.78 2.05 0 2.83L4 21.41c.39.39.9.59 1.41.59.51 0 1.02-.2 1.41-.59l7.78-7.78 2.81-2.81c.8-.78.8-2.07 0-2.86zM5.41 20L4 18.59l7.72-7.72 1.47 1.35L5.41 20z\"/>\n",
              "  </svg>\n",
              "      </button>\n",
              "      \n",
              "  <style>\n",
              "    .colab-df-container {\n",
              "      display:flex;\n",
              "      flex-wrap:wrap;\n",
              "      gap: 12px;\n",
              "    }\n",
              "\n",
              "    .colab-df-convert {\n",
              "      background-color: #E8F0FE;\n",
              "      border: none;\n",
              "      border-radius: 50%;\n",
              "      cursor: pointer;\n",
              "      display: none;\n",
              "      fill: #1967D2;\n",
              "      height: 32px;\n",
              "      padding: 0 0 0 0;\n",
              "      width: 32px;\n",
              "    }\n",
              "\n",
              "    .colab-df-convert:hover {\n",
              "      background-color: #E2EBFA;\n",
              "      box-shadow: 0px 1px 2px rgba(60, 64, 67, 0.3), 0px 1px 3px 1px rgba(60, 64, 67, 0.15);\n",
              "      fill: #174EA6;\n",
              "    }\n",
              "\n",
              "    [theme=dark] .colab-df-convert {\n",
              "      background-color: #3B4455;\n",
              "      fill: #D2E3FC;\n",
              "    }\n",
              "\n",
              "    [theme=dark] .colab-df-convert:hover {\n",
              "      background-color: #434B5C;\n",
              "      box-shadow: 0px 1px 3px 1px rgba(0, 0, 0, 0.15);\n",
              "      filter: drop-shadow(0px 1px 2px rgba(0, 0, 0, 0.3));\n",
              "      fill: #FFFFFF;\n",
              "    }\n",
              "  </style>\n",
              "\n",
              "      <script>\n",
              "        const buttonEl =\n",
              "          document.querySelector('#df-f9c4e619-2049-4c81-adcc-25855e8f597f button.colab-df-convert');\n",
              "        buttonEl.style.display =\n",
              "          google.colab.kernel.accessAllowed ? 'block' : 'none';\n",
              "\n",
              "        async function convertToInteractive(key) {\n",
              "          const element = document.querySelector('#df-f9c4e619-2049-4c81-adcc-25855e8f597f');\n",
              "          const dataTable =\n",
              "            await google.colab.kernel.invokeFunction('convertToInteractive',\n",
              "                                                     [key], {});\n",
              "          if (!dataTable) return;\n",
              "\n",
              "          const docLinkHtml = 'Like what you see? Visit the ' +\n",
              "            '<a target=\"_blank\" href=https://colab.research.google.com/notebooks/data_table.ipynb>data table notebook</a>'\n",
              "            + ' to learn more about interactive tables.';\n",
              "          element.innerHTML = '';\n",
              "          dataTable['output_type'] = 'display_data';\n",
              "          await google.colab.output.renderOutput(dataTable, element);\n",
              "          const docLink = document.createElement('div');\n",
              "          docLink.innerHTML = docLinkHtml;\n",
              "          element.appendChild(docLink);\n",
              "        }\n",
              "      </script>\n",
              "    </div>\n",
              "  </div>\n",
              "  "
            ],
            "text/plain": [
              "    PremiumPrice    Price_Pred\n",
              "0          15000  16053.005859\n",
              "1          23000  27043.656250\n",
              "2          28000  26852.941406\n",
              "3          23000  23403.224609\n",
              "4          30000  29064.988281\n",
              "5          29000  28509.541016\n",
              "6          39000  15664.710938\n",
              "7          21000  23014.927734\n",
              "8          23000  22538.552734\n",
              "9          35000  30760.085938\n",
              "10         28000  28288.613281\n",
              "11         23000  27433.361328\n",
              "12         35000  28457.173828\n",
              "13         28000  29683.958984\n",
              "14         23000  23754.488281\n",
              "15         31000  28412.742188\n",
              "16         19000  17546.916016\n",
              "17         23000  27043.656250\n",
              "18         24000  16053.005859\n",
              "19         23000  26267.281250"
            ]
          },
          "execution_count": 52,
          "metadata": {},
          "output_type": "execute_result"
        }
      ],
      "source": [
        "pred_inf = pd.concat([data_i['PremiumPrice'], y_pred_inf_df], axis=1)\n",
        "pred_inf"
      ]
    },
    {
      "cell_type": "code",
      "execution_count": null,
      "metadata": {
        "colab": {
          "base_uri": "https://localhost:8080/"
        },
        "id": "OSobT5105IQk",
        "outputId": "b3cab7a5-29ac-4bb3-81d1-a3cd2eb0ec2e"
      },
      "outputs": [
        {
          "name": "stdout",
          "output_type": "stream",
          "text": [
            "Extrene Gradient Boosting Model\n",
            "\n",
            "Inference-Set Mean Absolute Error (MAE):  3556.27578125\n",
            "Inference-Set R2 Score: -0.1485393804551307\n"
          ]
        }
      ],
      "source": [
        "# Model Evaluation Using MAE and R2\n",
        "print('Extrene Gradient Boosting Model')\n",
        "print('')\n",
        "print('Inference-Set Mean Absolute Error (MAE): ', mean_absolute_error(data_i['PremiumPrice'], y_pred_i))\n",
        "print(f'Inference-Set R2 Score: {r2_score(data_i.PremiumPrice, y_pred_i)}')"
      ]
    },
    {
      "cell_type": "code",
      "execution_count": null,
      "metadata": {
        "id": "sMpOODuGEUWa"
      },
      "outputs": [],
      "source": [
        "# # Get Intercept and Slope from lin_pipe\n",
        "\n",
        "# print('Intercept : ', lin_pipe.intercept_)       # y = ax + b; a coef, b intercept\n",
        "# print('Slope     : ', lin_pipe.coef_)            # y = ax1 + bx2 + c; a, b coef, c intercept\n",
        "#                                                       # intercept dan slope nanti untuk menghitung rating\n",
        "\n",
        "# # List All Columns\n",
        "\n",
        "# X_train.columns"
      ]
    },
    {
      "cell_type": "markdown",
      "metadata": {
        "id": "ZCB5zhz3tYHS"
      },
      "source": [
        "# XI. Pengambilan Kesimpulan"
      ]
    },
    {
      "cell_type": "markdown",
      "metadata": {
        "id": "eMcj-oF0XKcR"
      },
      "source": [
        "1. Narasi based on EDA.\n",
        "\n",
        "2. Narasi based on Model Evaluation.\n",
        "\n",
        "3. Narasi based on Model Analysis.\n",
        "\n",
        "4. Hal lain yang ingin diutarakan: misal originalitas dataset dilakukan."
      ]
    },
    {
      "cell_type": "markdown",
      "metadata": {
        "id": "6jQAXiuJrHnZ"
      },
      "source": [
        "__Kesimpulan:__\n",
        "\n",
        "Dari proses EDA ditemukan beberapa hal:\n",
        "\n",
        "- Terdapat lebih banyak nasabah yang tidak menderita diabetes, tidak tekanan darah tinggi, tidak pernah melakukan transplantasi organ, tidak memiliki penyakit kronis, tidak memiliki alergi, dan tidak memiliki sejarah kanker di keluarga.\n",
        "- Kolom age, height terdistribusi normal\n",
        "- Kolom weight dan NumberOfMajorSurgeries mengalami rightskew\n",
        "- kolom target terdistribusi normal.\n",
        "- Terdapat hubungan antara kolom diabetes, tekanan darah tinggi, pernah atau tidak melakukan transplantasi organ, memiliki atau tidak penyakit kronis, memiliki atau tidak alergi, dan memiliki sejarah kanker di keluarga atau tidak, kolom usia, berat badan, jumlah operasi besar dengan kolom Harga Premi.\n",
        "- Kurang adanya hubungan kolom tinggi badan dengan kolom Harga Premi.\n",
        "\n",
        "Dari proses preprocessing didapatkan:\n",
        "- Kita menggunakan metode pipeline untuk scaling dan modeling\n",
        "\n",
        "Dari proses model evaluation dan analysis didapatkan:\n",
        "- model yang digunakan adalah lin_reg, xgboost, randomforestregress\n",
        "\n",
        "Insigth:\n",
        "- Diperlukan lebih banyak feature yang berkorelasi\n",
        "- Data Scientist perlu mencoba hipertuning lebih lanjut dan model lain.\n"
      ]
    },
    {
      "cell_type": "markdown",
      "metadata": {
        "id": "GXxMqA_otcAe"
      },
      "source": [
        "# XII. Model Saving"
      ]
    },
    {
      "cell_type": "code",
      "execution_count": null,
      "metadata": {
        "id": "1Yl-9BRY5yo2"
      },
      "outputs": [],
      "source": [
        "with open('model_xgb.pkl', 'wb') as file_1:\n",
        "  joblib.dump(grid_xgb.best_estimator_, file_1)"
      ]
    },
    {
      "cell_type": "code",
      "execution_count": null,
      "metadata": {
        "id": "Y2dt2WsGxGFf"
      },
      "outputs": [],
      "source": [
        "with open('lin_pipe.pkl', 'wb') as file_2:\n",
        "  joblib.dump(lin_pipe, file_2)"
      ]
    },
    {
      "cell_type": "markdown",
      "source": [
        "# XIII. Deployment\n",
        "\n"
      ],
      "metadata": {
        "id": "miT4Ic5pmV4H"
      }
    },
    {
      "cell_type": "markdown",
      "source": [
        "Herokuapp: [tidak dapat diakses lagi karena berbayar] https://insurance-price-predict-wcs.herokuapp.com/"
      ],
      "metadata": {
        "id": "JhiX6ls5mi7f"
      }
    }
  ],
  "metadata": {
    "colab": {
      "provenance": [],
      "toc_visible": true
    },
    "kernelspec": {
      "display_name": "Python 3.9.12 ('base')",
      "language": "python",
      "name": "python3"
    },
    "language_info": {
      "name": "python",
      "version": "3.9.12 (main, Apr  4 2022, 05:22:27) [MSC v.1916 64 bit (AMD64)]"
    },
    "vscode": {
      "interpreter": {
        "hash": "ad2bdc8ecc057115af97d19610ffacc2b4e99fae6737bb82f5d7fb13d2f2c186"
      }
    }
  },
  "nbformat": 4,
  "nbformat_minor": 0
}